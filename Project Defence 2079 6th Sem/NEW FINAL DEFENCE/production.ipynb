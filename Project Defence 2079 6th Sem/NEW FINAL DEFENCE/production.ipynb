{
 "cells": [
  {
   "cell_type": "code",
   "execution_count": 60,
   "id": "d2d98154",
   "metadata": {},
   "outputs": [],
   "source": [
    "import os\n",
    "import clang\n",
    "from clang.cindex import *\n",
    "from copy import deepcopy\n",
    "import time\n",
    "\n",
    "import numpy as np\n",
    "import pandas as pd\n",
    "\n",
    "from transformers import AutoModelForSequenceClassification, AutoTokenizer, pipeline"
   ]
  },
  {
   "cell_type": "code",
   "execution_count": 2,
   "id": "663776c4",
   "metadata": {},
   "outputs": [],
   "source": [
    "Config.set_library_file(\"/home/dipu/anaconda3/lib/python3.9/site-packages/clang/native/libclang.so\")"
   ]
  },
  {
   "cell_type": "code",
   "execution_count": 87,
   "id": "cf9a9ab7",
   "metadata": {},
   "outputs": [],
   "source": [
    "id2label = {0: \"CORRECT\", 1: \"BUGGY\"}\n",
    "label2id = {\"CORRECT\": 0, \"BUGGY\": 1}"
   ]
  },
  {
   "cell_type": "code",
   "execution_count": 59,
   "id": "9dd81237",
   "metadata": {},
   "outputs": [],
   "source": [
    "tokenizer = AutoTokenizer.from_pretrained(\"../app/backend/function-args-swap-bug/tokenizer\")\n",
    "\n",
    "function_args_swap_bug_model = AutoModelForSequenceClassification.from_pretrained(\"../app/backend/function-args-swap-bug/model\",\n",
    "                                                           num_labels=2,\n",
    "                                                           id2label=id2label,\n",
    "                                                           label2id=label2id)\n",
    "\n",
    "wrong_binary_operator_bug_model = AutoModelForSequenceClassification.from_pretrained(\"../app/backend/wrong-binary-operator-bug/model\",\n",
    "                                                           num_labels=2,\n",
    "                                                           id2label=id2label,\n",
    "                                                           label2id=label2id)"
   ]
  },
  {
   "cell_type": "code",
   "execution_count": null,
   "id": "15dcdc6f",
   "metadata": {},
   "outputs": [],
   "source": [
    "# function args swap bug classifier\n",
    "fosb_classifier = pipeline(\"text-classification\", model=function_args_swap_bug_model, tokenizer=tokenizer)\n",
    "\n",
    "# wrong binary operator bug classifier\n",
    "wbob_classifier = pipeline(\"text-classification\", model=wrong_binary_operator_bug_model, tokenizer=tokenizer)"
   ]
  },
  {
   "cell_type": "code",
   "execution_count": 125,
   "id": "4f9ee14e",
   "metadata": {},
   "outputs": [],
   "source": [
    "code = \"\"\"\n",
    "#include <stdio.h>\n",
    "\n",
    "\n",
    "void getSum(int n1, int n2)\n",
    "{\n",
    "\tint sum = n1 + n2;\n",
    "\treturn sum;\n",
    "}\n",
    "\n",
    "int main()\n",
    "{\n",
    "\tint a = 5, b = 7, x = 6;\n",
    "\tint result = 555;\n",
    "    getSum(a, 7);\n",
    "    char result[] = \"test\\0\";\n",
    "    int test = justDoThis(a, b);\n",
    "    okayGood(x, 500);\n",
    "\tprintf(\"Sum is: %d\", result);\n",
    "\treturn 0;\n",
    "}\n",
    "\"\"\""
   ]
  },
  {
   "cell_type": "code",
   "execution_count": 126,
   "id": "ba87419a",
   "metadata": {},
   "outputs": [],
   "source": [
    "with open('evaluation.c', 'w') as f:\n",
    "    f.write(code)\n",
    "    \n",
    "index = clang.cindex.Index.create()\n",
    "root_cursor = index.parse('evaluation.c').cursor"
   ]
  },
  {
   "cell_type": "markdown",
   "id": "119e27e4",
   "metadata": {},
   "source": [
    "---\n",
    "## Generate data for function args swap bug\n",
    "---"
   ]
  },
  {
   "cell_type": "code",
   "execution_count": 149,
   "id": "381f7c51",
   "metadata": {},
   "outputs": [],
   "source": [
    "def get_function_params(root, function_name, result):\n",
    "    \"\"\"\n",
    "    A function to get details of function parameter from Abstract Syntax Tree\n",
    "    \n",
    "    Parameters\n",
    "    ----------\n",
    "    root : clang.cindex.Cursor\n",
    "        root of Abstract Syntax Tree\n",
    "    function_name : str\n",
    "        name of function whose parameters' detail is needed\n",
    "    result : list\n",
    "        list to store the parameter details\n",
    "\n",
    "    Return\n",
    "    ------\n",
    "    void\n",
    "    \"\"\"\n",
    "    \n",
    "    for node in root.walk_preorder():\n",
    "        try:\n",
    "            \"\"\"\n",
    "            checking if AST node belongs to function declaration\n",
    "            and its name is same as passed function_name\n",
    "            \"\"\"\n",
    "            if node.kind == CursorKind.FUNCTION_DECL \\\n",
    "            and node.spelling == function_name:\n",
    "                # loop through its children and only append details of parameter node\n",
    "                for c in node.get_children():\n",
    "                    if c.kind == CursorKind.PARM_DECL:\n",
    "                        result.append({\"name\": c.spelling, \n",
    "                                       \"data_type\": c.type.spelling})\n",
    "                return\n",
    "        except ValueError as e:\n",
    "            # print(\"Error:\", e)\n",
    "            pass"
   ]
  },
  {
   "cell_type": "code",
   "execution_count": 150,
   "id": "c49adf28",
   "metadata": {},
   "outputs": [],
   "source": [
    "def get_called_functions(root, result):\n",
    "    for node in root.walk_preorder():\n",
    "        try:\n",
    "            if node.kind == CursorKind.CALL_EXPR:\n",
    "                # \"location\": node.extent\n",
    "                current_function = {\"name\": node.spelling, \"return_type\": node.type.spelling, \"args\": [], \"location\": node.extent}\n",
    "\n",
    "                for c in node.get_arguments():\n",
    "                    current_arg = \"\".join([x.spelling for x in list(c.get_tokens())]) if len(list(c.get_tokens())) > 0 else c.spelling\n",
    "\n",
    "                    current_function[\"args\"].append({\"name\": current_arg, \"data_type\": c.type.spelling, \"cursor_kind\": c.kind})\n",
    "                    # current_function[\"args\"].append({\"name\": c.spelling, \"data_type\": c.type.spelling, \"cursor_kind\": c.kind})\n",
    "                    # print(node.location)\n",
    "\n",
    "                current_param_list = []\n",
    "                if len(current_function[\"args\"]) == 2 and \\\n",
    "                    (current_function[\"args\"][0][\"data_type\"] == current_function[\"args\"][1][\"data_type\"]):\n",
    "                    get_function_params(root, node.spelling, current_param_list)\n",
    "                current_function[\"params\"] = current_param_list\n",
    "\n",
    "                result.append(current_function)\n",
    "\n",
    "        except ValueError:\n",
    "            pass"
   ]
  },
  {
   "cell_type": "code",
   "execution_count": 151,
   "id": "b7ed3a52",
   "metadata": {},
   "outputs": [
    {
     "data": {
      "text/plain": [
       "[{'name': 'getSum',\n",
       "  'return_type': 'void',\n",
       "  'args': [{'name': 'a',\n",
       "    'data_type': 'int',\n",
       "    'cursor_kind': CursorKind.UNEXPOSED_EXPR},\n",
       "   {'name': '7',\n",
       "    'data_type': 'int',\n",
       "    'cursor_kind': CursorKind.INTEGER_LITERAL}],\n",
       "  'location': <SourceRange start <SourceLocation file 'evaluation.c', line 15, column 5>, end <SourceLocation file 'evaluation.c', line 15, column 17>>,\n",
       "  'params': [{'name': 'n1', 'data_type': 'int'},\n",
       "   {'name': 'n2', 'data_type': 'int'}]},\n",
       " {'name': 'justDoThis',\n",
       "  'return_type': 'int',\n",
       "  'args': [{'name': 'a',\n",
       "    'data_type': 'int',\n",
       "    'cursor_kind': CursorKind.UNEXPOSED_EXPR},\n",
       "   {'name': 'b',\n",
       "    'data_type': 'int',\n",
       "    'cursor_kind': CursorKind.UNEXPOSED_EXPR}],\n",
       "  'location': <SourceRange start <SourceLocation file 'evaluation.c', line 17, column 16>, end <SourceLocation file 'evaluation.c', line 17, column 32>>,\n",
       "  'params': []},\n",
       " {'name': 'okayGood',\n",
       "  'return_type': 'int',\n",
       "  'args': [{'name': 'x',\n",
       "    'data_type': 'int',\n",
       "    'cursor_kind': CursorKind.UNEXPOSED_EXPR},\n",
       "   {'name': '500',\n",
       "    'data_type': 'int',\n",
       "    'cursor_kind': CursorKind.INTEGER_LITERAL}],\n",
       "  'location': <SourceRange start <SourceLocation file 'evaluation.c', line 18, column 5>, end <SourceLocation file 'evaluation.c', line 18, column 21>>,\n",
       "  'params': []},\n",
       " {'name': 'printf',\n",
       "  'return_type': 'int',\n",
       "  'args': [{'name': '\"Sum is: %d\"',\n",
       "    'data_type': 'const char *',\n",
       "    'cursor_kind': CursorKind.UNEXPOSED_EXPR},\n",
       "   {'name': 'result',\n",
       "    'data_type': 'int',\n",
       "    'cursor_kind': CursorKind.UNEXPOSED_EXPR}],\n",
       "  'location': <SourceRange start <SourceLocation file 'evaluation.c', line 19, column 2>, end <SourceLocation file 'evaluation.c', line 19, column 30>>,\n",
       "  'params': []}]"
      ]
     },
     "execution_count": 151,
     "metadata": {},
     "output_type": "execute_result"
    }
   ],
   "source": [
    "function_list = []\n",
    "get_called_functions(root_cursor, function_list)\n",
    "function_list"
   ]
  },
  {
   "cell_type": "code",
   "execution_count": 152,
   "id": "a2471af8",
   "metadata": {},
   "outputs": [],
   "source": [
    "function_args_swap_bug_data = []\n",
    "\n",
    "for function in function_list:\n",
    "        \n",
    "        if len(function[\"args\"]) == 2 and \\\n",
    "            (function[\"args\"][0][\"data_type\"] == function[\"args\"][1][\"data_type\"]) and \\\n",
    "            (function[\"args\"][0][\"name\"] != function[\"args\"][1][\"name\"]):\n",
    "            \n",
    "            sample = [function[\"name\"], function[\"args\"][0][\"name\"], function[\"args\"][1][\"name\"],\n",
    "                              function[\"args\"][0][\"data_type\"]]\n",
    "            \n",
    "            if(len(function[\"params\"]) == 2):\n",
    "                sample.append(function[\"params\"][0][\"name\"])\n",
    "                sample.append(function[\"params\"][1][\"name\"])\n",
    "            else:\n",
    "                sample.append(\"\")\n",
    "                sample.append(\"\")\n",
    "                \n",
    "            loc = function[\"location\"]\n",
    "            sample += [str(loc.start.line), str(loc.start.column), str(loc.end.line), str(loc.end.column)]\n",
    "            \n",
    "            function_args_swap_bug_data.append(sample)"
   ]
  },
  {
   "cell_type": "code",
   "execution_count": 153,
   "id": "e6e64cf0",
   "metadata": {},
   "outputs": [
    {
     "data": {
      "text/plain": [
       "[['getSum', 'a', '7', 'int', 'n1', 'n2', '15', '5', '15', '17'],\n",
       " ['justDoThis', 'a', 'b', 'int', '', '', '17', '16', '17', '32'],\n",
       " ['okayGood', 'x', '500', 'int', '', '', '18', '5', '18', '21']]"
      ]
     },
     "execution_count": 153,
     "metadata": {},
     "output_type": "execute_result"
    }
   ],
   "source": [
    "function_args_swap_bug_data"
   ]
  },
  {
   "cell_type": "code",
   "execution_count": 154,
   "id": "89700cc5",
   "metadata": {},
   "outputs": [
    {
     "data": {
      "text/html": [
       "<div>\n",
       "<style scoped>\n",
       "    .dataframe tbody tr th:only-of-type {\n",
       "        vertical-align: middle;\n",
       "    }\n",
       "\n",
       "    .dataframe tbody tr th {\n",
       "        vertical-align: top;\n",
       "    }\n",
       "\n",
       "    .dataframe thead th {\n",
       "        text-align: right;\n",
       "    }\n",
       "</style>\n",
       "<table border=\"1\" class=\"dataframe\">\n",
       "  <thead>\n",
       "    <tr style=\"text-align: right;\">\n",
       "      <th></th>\n",
       "      <th>function_name</th>\n",
       "      <th>arg1</th>\n",
       "      <th>arg2</th>\n",
       "      <th>arg_type</th>\n",
       "      <th>param1</th>\n",
       "      <th>param2</th>\n",
       "      <th>start_line</th>\n",
       "      <th>start_column</th>\n",
       "      <th>end_line</th>\n",
       "      <th>end_column</th>\n",
       "    </tr>\n",
       "  </thead>\n",
       "  <tbody>\n",
       "    <tr>\n",
       "      <th>0</th>\n",
       "      <td>getSum</td>\n",
       "      <td>a</td>\n",
       "      <td>7</td>\n",
       "      <td>int</td>\n",
       "      <td>n1</td>\n",
       "      <td>n2</td>\n",
       "      <td>15</td>\n",
       "      <td>5</td>\n",
       "      <td>15</td>\n",
       "      <td>17</td>\n",
       "    </tr>\n",
       "    <tr>\n",
       "      <th>1</th>\n",
       "      <td>justDoThis</td>\n",
       "      <td>a</td>\n",
       "      <td>b</td>\n",
       "      <td>int</td>\n",
       "      <td></td>\n",
       "      <td></td>\n",
       "      <td>17</td>\n",
       "      <td>16</td>\n",
       "      <td>17</td>\n",
       "      <td>32</td>\n",
       "    </tr>\n",
       "    <tr>\n",
       "      <th>2</th>\n",
       "      <td>okayGood</td>\n",
       "      <td>x</td>\n",
       "      <td>500</td>\n",
       "      <td>int</td>\n",
       "      <td></td>\n",
       "      <td></td>\n",
       "      <td>18</td>\n",
       "      <td>5</td>\n",
       "      <td>18</td>\n",
       "      <td>21</td>\n",
       "    </tr>\n",
       "  </tbody>\n",
       "</table>\n",
       "</div>"
      ],
      "text/plain": [
       "  function_name arg1 arg2 arg_type param1 param2 start_line start_column  \\\n",
       "0        getSum    a    7      int     n1     n2         15            5   \n",
       "1    justDoThis    a    b      int                       17           16   \n",
       "2      okayGood    x  500      int                       18            5   \n",
       "\n",
       "  end_line end_column  \n",
       "0       15         17  \n",
       "1       17         32  \n",
       "2       18         21  "
      ]
     },
     "execution_count": 154,
     "metadata": {},
     "output_type": "execute_result"
    }
   ],
   "source": [
    "df = pd.DataFrame(function_args_swap_bug_data,\n",
    "                columns=[\"function_name\", \"arg1\", \"arg2\", \"arg_type\", \"param1\", \"param2\", \"start_line\", \"start_column\", \"end_line\", \"end_column\"])\n",
    "df"
   ]
  },
  {
   "cell_type": "code",
   "execution_count": 155,
   "id": "83230e39",
   "metadata": {},
   "outputs": [
    {
     "data": {
      "text/html": [
       "<div>\n",
       "<style scoped>\n",
       "    .dataframe tbody tr th:only-of-type {\n",
       "        vertical-align: middle;\n",
       "    }\n",
       "\n",
       "    .dataframe tbody tr th {\n",
       "        vertical-align: top;\n",
       "    }\n",
       "\n",
       "    .dataframe thead th {\n",
       "        text-align: right;\n",
       "    }\n",
       "</style>\n",
       "<table border=\"1\" class=\"dataframe\">\n",
       "  <thead>\n",
       "    <tr style=\"text-align: right;\">\n",
       "      <th></th>\n",
       "      <th>function_name</th>\n",
       "      <th>arg1</th>\n",
       "      <th>arg2</th>\n",
       "      <th>arg_type</th>\n",
       "      <th>param1</th>\n",
       "      <th>param2</th>\n",
       "      <th>start_line</th>\n",
       "      <th>start_column</th>\n",
       "      <th>end_line</th>\n",
       "      <th>end_column</th>\n",
       "      <th>full_text</th>\n",
       "    </tr>\n",
       "  </thead>\n",
       "  <tbody>\n",
       "    <tr>\n",
       "      <th>0</th>\n",
       "      <td>getSum</td>\n",
       "      <td>a</td>\n",
       "      <td>7</td>\n",
       "      <td>int</td>\n",
       "      <td>n1</td>\n",
       "      <td>n2</td>\n",
       "      <td>15</td>\n",
       "      <td>5</td>\n",
       "      <td>15</td>\n",
       "      <td>17</td>\n",
       "      <td>getSum&lt;/s&gt;a&lt;/s&gt;7&lt;/s&gt;int&lt;/s&gt;n1&lt;/s&gt;n2</td>\n",
       "    </tr>\n",
       "    <tr>\n",
       "      <th>1</th>\n",
       "      <td>justDoThis</td>\n",
       "      <td>a</td>\n",
       "      <td>b</td>\n",
       "      <td>int</td>\n",
       "      <td></td>\n",
       "      <td></td>\n",
       "      <td>17</td>\n",
       "      <td>16</td>\n",
       "      <td>17</td>\n",
       "      <td>32</td>\n",
       "      <td>justDoThis&lt;/s&gt;a&lt;/s&gt;b&lt;/s&gt;int&lt;/s&gt;&lt;/s&gt;</td>\n",
       "    </tr>\n",
       "    <tr>\n",
       "      <th>2</th>\n",
       "      <td>okayGood</td>\n",
       "      <td>x</td>\n",
       "      <td>500</td>\n",
       "      <td>int</td>\n",
       "      <td></td>\n",
       "      <td></td>\n",
       "      <td>18</td>\n",
       "      <td>5</td>\n",
       "      <td>18</td>\n",
       "      <td>21</td>\n",
       "      <td>okayGood&lt;/s&gt;x&lt;/s&gt;500&lt;/s&gt;int&lt;/s&gt;&lt;/s&gt;</td>\n",
       "    </tr>\n",
       "  </tbody>\n",
       "</table>\n",
       "</div>"
      ],
      "text/plain": [
       "  function_name arg1 arg2 arg_type param1 param2 start_line start_column  \\\n",
       "0        getSum    a    7      int     n1     n2         15            5   \n",
       "1    justDoThis    a    b      int                       17           16   \n",
       "2      okayGood    x  500      int                       18            5   \n",
       "\n",
       "  end_line end_column                            full_text  \n",
       "0       15         17  getSum</s>a</s>7</s>int</s>n1</s>n2  \n",
       "1       17         32  justDoThis</s>a</s>b</s>int</s></s>  \n",
       "2       18         21  okayGood</s>x</s>500</s>int</s></s>  "
      ]
     },
     "execution_count": 155,
     "metadata": {},
     "output_type": "execute_result"
    }
   ],
   "source": [
    "df['full_text'] = df['function_name'] + tokenizer.sep_token + df['arg1'] + tokenizer.sep_token + df['arg2'] + tokenizer.sep_token + df['arg_type'] + tokenizer.sep_token + df['param1'] + tokenizer.sep_token + df['param2']\n",
    "df"
   ]
  },
  {
   "cell_type": "code",
   "execution_count": 156,
   "id": "6bfa8ef4",
   "metadata": {},
   "outputs": [],
   "source": [
    "function_args_swap_bug_df = df"
   ]
  },
  {
   "cell_type": "markdown",
   "id": "e524eb3b",
   "metadata": {},
   "source": [
    "---\n",
    "## Generate data for wrong binary operator bug\n",
    "---"
   ]
  },
  {
   "cell_type": "code",
   "execution_count": 157,
   "id": "978b30bf",
   "metadata": {},
   "outputs": [],
   "source": [
    "def get_binary_expressions(node, parent, grandparent, result):\n",
    "    try:\n",
    "        if node.kind == CursorKind.BINARY_OPERATOR:\n",
    "\n",
    "            children_list = [i for i in node.get_children()]\n",
    "\n",
    "            if len(children_list) == 2:\n",
    "                left_offset = len([i for i in children_list[0].get_tokens()])\n",
    "                operator_name = [i for i in node.get_tokens()][left_offset].spelling\n",
    "\n",
    "                current_operation = {\n",
    "                                     \"operator\": operator_name,\n",
    "                                     \"operands\": [],\n",
    "                                     \"parent\": parent.kind.name if parent is not None else \"\",\n",
    "                                     \"grandparent\": grandparent.kind.name if grandparent is not None else \"\",\n",
    "                                     \"location\": node.extent\n",
    "                                    }\n",
    "\n",
    "                for c in children_list:\n",
    "                    \"\"\" To only allow binary operation between single operators on left and right \"\"\"\n",
    "                    if c.kind == CursorKind.BINARY_OPERATOR or c.kind == CursorKind.PAREN_EXPR:\n",
    "                        current_operation = {}\n",
    "                        break\n",
    "\n",
    "                    operand = \"\".join([x.spelling for x in list(c.get_tokens())]) if len(list(c.get_tokens())) > 0 else c.spelling\n",
    "                    \n",
    "                    if len(operand) >= 3 and operand.startswith('\\\"') and operand.endswith('\\\"'):\n",
    "                        operand = '\\\"' + current_arg[1:-1].replace('\\\"', \"\\\"\\\"\") + '\\\"'\n",
    "\n",
    "                    current_operation[\"operands\"].append({\"name\": operand, \"data_type\": c.type.spelling, \"cursor_kind\": c.kind.name})\n",
    "\n",
    "                if current_operation != {}:\n",
    "                    result.append(current_operation)\n",
    "        \n",
    "        for c in node.get_children():\n",
    "            get_binary_expressions(c, node, parent, result)\n",
    "\n",
    "    except ValueError:\n",
    "        pass"
   ]
  },
  {
   "cell_type": "code",
   "execution_count": 158,
   "id": "b78fc525",
   "metadata": {},
   "outputs": [
    {
     "data": {
      "text/plain": [
       "[{'operator': '+',\n",
       "  'operands': [{'name': 'n1',\n",
       "    'data_type': 'int',\n",
       "    'cursor_kind': 'UNEXPOSED_EXPR'},\n",
       "   {'name': 'n2', 'data_type': 'int', 'cursor_kind': 'UNEXPOSED_EXPR'}],\n",
       "  'parent': 'VAR_DECL',\n",
       "  'grandparent': 'DECL_STMT',\n",
       "  'location': <SourceRange start <SourceLocation file 'evaluation.c', line 7, column 12>, end <SourceLocation file 'evaluation.c', line 7, column 19>>}]"
      ]
     },
     "execution_count": 158,
     "metadata": {},
     "output_type": "execute_result"
    }
   ],
   "source": [
    "binary_operation_list = []\n",
    "\n",
    "get_binary_expressions(root_cursor, None, None, binary_operation_list)\n",
    "\n",
    "binary_operation_list"
   ]
  },
  {
   "cell_type": "code",
   "execution_count": 159,
   "id": "0ac423e9",
   "metadata": {},
   "outputs": [],
   "source": [
    "wrong_binary_operator_bug_data = []\n",
    "\n",
    "for operation in binary_operation_list:\n",
    "    loc = operation[\"location\"]\n",
    "            \n",
    "    sample = [operation[\"operands\"][0][\"name\"], operation[\"operator\"], operation[\"operands\"][1][\"name\"],\n",
    "                operation[\"operands\"][0][\"data_type\"], operation[\"operands\"][1][\"data_type\"],\n",
    "                operation[\"parent\"], operation[\"grandparent\"],\n",
    "                str(loc.start.line), str(loc.start.column), str(loc.end.line), str(loc.end.column)]\n",
    "\n",
    "    wrong_binary_operator_bug_data.append(sample)"
   ]
  },
  {
   "cell_type": "code",
   "execution_count": 160,
   "id": "ef94093c",
   "metadata": {},
   "outputs": [
    {
     "data": {
      "text/plain": [
       "[['n1',\n",
       "  '+',\n",
       "  'n2',\n",
       "  'int',\n",
       "  'int',\n",
       "  'VAR_DECL',\n",
       "  'DECL_STMT',\n",
       "  '7',\n",
       "  '12',\n",
       "  '7',\n",
       "  '19']]"
      ]
     },
     "execution_count": 160,
     "metadata": {},
     "output_type": "execute_result"
    }
   ],
   "source": [
    "wrong_binary_operator_bug_data"
   ]
  },
  {
   "cell_type": "code",
   "execution_count": 161,
   "id": "f2821303",
   "metadata": {},
   "outputs": [
    {
     "data": {
      "text/html": [
       "<div>\n",
       "<style scoped>\n",
       "    .dataframe tbody tr th:only-of-type {\n",
       "        vertical-align: middle;\n",
       "    }\n",
       "\n",
       "    .dataframe tbody tr th {\n",
       "        vertical-align: top;\n",
       "    }\n",
       "\n",
       "    .dataframe thead th {\n",
       "        text-align: right;\n",
       "    }\n",
       "</style>\n",
       "<table border=\"1\" class=\"dataframe\">\n",
       "  <thead>\n",
       "    <tr style=\"text-align: right;\">\n",
       "      <th></th>\n",
       "      <th>left</th>\n",
       "      <th>operator</th>\n",
       "      <th>right</th>\n",
       "      <th>type_left</th>\n",
       "      <th>type_right</th>\n",
       "      <th>parent</th>\n",
       "      <th>grandparent</th>\n",
       "      <th>start_line</th>\n",
       "      <th>start_column</th>\n",
       "      <th>end_line</th>\n",
       "      <th>end_column</th>\n",
       "    </tr>\n",
       "  </thead>\n",
       "  <tbody>\n",
       "    <tr>\n",
       "      <th>0</th>\n",
       "      <td>n1</td>\n",
       "      <td>+</td>\n",
       "      <td>n2</td>\n",
       "      <td>int</td>\n",
       "      <td>int</td>\n",
       "      <td>VAR_DECL</td>\n",
       "      <td>DECL_STMT</td>\n",
       "      <td>7</td>\n",
       "      <td>12</td>\n",
       "      <td>7</td>\n",
       "      <td>19</td>\n",
       "    </tr>\n",
       "  </tbody>\n",
       "</table>\n",
       "</div>"
      ],
      "text/plain": [
       "  left operator right type_left type_right    parent grandparent start_line  \\\n",
       "0   n1        +    n2       int        int  VAR_DECL   DECL_STMT          7   \n",
       "\n",
       "  start_column end_line end_column  \n",
       "0           12        7         19  "
      ]
     },
     "execution_count": 161,
     "metadata": {},
     "output_type": "execute_result"
    }
   ],
   "source": [
    "df = pd.DataFrame(wrong_binary_operator_bug_data,\n",
    "                columns=[\"left\", \"operator\", \"right\", \"type_left\", \"type_right\", \"parent\", \"grandparent\", \"start_line\", \"start_column\", \"end_line\", \"end_column\"])\n",
    "df"
   ]
  },
  {
   "cell_type": "code",
   "execution_count": 162,
   "id": "12eb07ad",
   "metadata": {},
   "outputs": [
    {
     "data": {
      "text/html": [
       "<div>\n",
       "<style scoped>\n",
       "    .dataframe tbody tr th:only-of-type {\n",
       "        vertical-align: middle;\n",
       "    }\n",
       "\n",
       "    .dataframe tbody tr th {\n",
       "        vertical-align: top;\n",
       "    }\n",
       "\n",
       "    .dataframe thead th {\n",
       "        text-align: right;\n",
       "    }\n",
       "</style>\n",
       "<table border=\"1\" class=\"dataframe\">\n",
       "  <thead>\n",
       "    <tr style=\"text-align: right;\">\n",
       "      <th></th>\n",
       "      <th>left</th>\n",
       "      <th>operator</th>\n",
       "      <th>right</th>\n",
       "      <th>type_left</th>\n",
       "      <th>type_right</th>\n",
       "      <th>parent</th>\n",
       "      <th>grandparent</th>\n",
       "      <th>start_line</th>\n",
       "      <th>start_column</th>\n",
       "      <th>end_line</th>\n",
       "      <th>end_column</th>\n",
       "      <th>full_text</th>\n",
       "    </tr>\n",
       "  </thead>\n",
       "  <tbody>\n",
       "    <tr>\n",
       "      <th>0</th>\n",
       "      <td>n1</td>\n",
       "      <td>+</td>\n",
       "      <td>n2</td>\n",
       "      <td>int</td>\n",
       "      <td>int</td>\n",
       "      <td>VAR_DECL</td>\n",
       "      <td>DECL_STMT</td>\n",
       "      <td>7</td>\n",
       "      <td>12</td>\n",
       "      <td>7</td>\n",
       "      <td>19</td>\n",
       "      <td>n1&lt;/s&gt;+&lt;/s&gt;n2&lt;/s&gt;int&lt;/s&gt;int&lt;/s&gt;VAR_DECL&lt;/s&gt;DEC...</td>\n",
       "    </tr>\n",
       "  </tbody>\n",
       "</table>\n",
       "</div>"
      ],
      "text/plain": [
       "  left operator right type_left type_right    parent grandparent start_line  \\\n",
       "0   n1        +    n2       int        int  VAR_DECL   DECL_STMT          7   \n",
       "\n",
       "  start_column end_line end_column  \\\n",
       "0           12        7         19   \n",
       "\n",
       "                                           full_text  \n",
       "0  n1</s>+</s>n2</s>int</s>int</s>VAR_DECL</s>DEC...  "
      ]
     },
     "execution_count": 162,
     "metadata": {},
     "output_type": "execute_result"
    }
   ],
   "source": [
    "df['full_text'] = df['left'] + tokenizer.sep_token + df['operator'] + tokenizer.sep_token + df['right'] + tokenizer.sep_token + df['type_left'] + tokenizer.sep_token + df['type_right'] + tokenizer.sep_token + df['parent'] + tokenizer.sep_token + df['grandparent']\n",
    "df"
   ]
  },
  {
   "cell_type": "code",
   "execution_count": 163,
   "id": "1c68dbea",
   "metadata": {},
   "outputs": [],
   "source": [
    "wrong_binary_operator_bug_df = df"
   ]
  },
  {
   "cell_type": "markdown",
   "id": "38cc29ef",
   "metadata": {},
   "source": [
    "---\n",
    "## Model Inference\n",
    "---"
   ]
  },
  {
   "cell_type": "code",
   "execution_count": 166,
   "id": "f9fead46",
   "metadata": {},
   "outputs": [
    {
     "data": {
      "text/plain": [
       "[{'label': 'CORRECT', 'score': 0.9998936653137207},\n",
       " {'label': 'CORRECT', 'score': 0.5038129091262817},\n",
       " {'label': 'CORRECT', 'score': 0.9967055916786194}]"
      ]
     },
     "execution_count": 166,
     "metadata": {},
     "output_type": "execute_result"
    }
   ],
   "source": [
    "fosb_result = fosb_classifier(list(function_args_swap_bug_df.full_text))\n",
    "fosb_result"
   ]
  },
  {
   "cell_type": "code",
   "execution_count": 167,
   "id": "f21e88aa",
   "metadata": {},
   "outputs": [
    {
     "data": {
      "text/plain": [
       "[{'label': 'CORRECT', 'score': 0.7860645651817322}]"
      ]
     },
     "execution_count": 167,
     "metadata": {},
     "output_type": "execute_result"
    }
   ],
   "source": [
    "wbob_result = wbob_classifier(list(wrong_binary_operator_bug_df.full_text))\n",
    "wbob_result"
   ]
  },
  {
   "cell_type": "code",
   "execution_count": 168,
   "id": "0d622725",
   "metadata": {},
   "outputs": [],
   "source": [
    "function_args_swap_bug_df.drop(columns=[\"arg_type\", \"param1\", \"param2\", \"full_text\"], inplace=True)\n",
    "wrong_binary_operator_bug_df.drop(columns=[\"type_left\", \"type_right\", \"parent\", \"grandparent\", \"full_text\"], inplace=True)"
   ]
  },
  {
   "cell_type": "code",
   "execution_count": 169,
   "id": "ba26296e",
   "metadata": {},
   "outputs": [
    {
     "data": {
      "text/html": [
       "<div>\n",
       "<style scoped>\n",
       "    .dataframe tbody tr th:only-of-type {\n",
       "        vertical-align: middle;\n",
       "    }\n",
       "\n",
       "    .dataframe tbody tr th {\n",
       "        vertical-align: top;\n",
       "    }\n",
       "\n",
       "    .dataframe thead th {\n",
       "        text-align: right;\n",
       "    }\n",
       "</style>\n",
       "<table border=\"1\" class=\"dataframe\">\n",
       "  <thead>\n",
       "    <tr style=\"text-align: right;\">\n",
       "      <th></th>\n",
       "      <th>function_name</th>\n",
       "      <th>arg1</th>\n",
       "      <th>arg2</th>\n",
       "      <th>start_line</th>\n",
       "      <th>start_column</th>\n",
       "      <th>end_line</th>\n",
       "      <th>end_column</th>\n",
       "      <th>label</th>\n",
       "      <th>probability</th>\n",
       "    </tr>\n",
       "  </thead>\n",
       "  <tbody>\n",
       "    <tr>\n",
       "      <th>0</th>\n",
       "      <td>getSum</td>\n",
       "      <td>a</td>\n",
       "      <td>7</td>\n",
       "      <td>15</td>\n",
       "      <td>5</td>\n",
       "      <td>15</td>\n",
       "      <td>17</td>\n",
       "      <td>0</td>\n",
       "      <td>0.999894</td>\n",
       "    </tr>\n",
       "    <tr>\n",
       "      <th>1</th>\n",
       "      <td>justDoThis</td>\n",
       "      <td>a</td>\n",
       "      <td>b</td>\n",
       "      <td>17</td>\n",
       "      <td>16</td>\n",
       "      <td>17</td>\n",
       "      <td>32</td>\n",
       "      <td>0</td>\n",
       "      <td>0.503813</td>\n",
       "    </tr>\n",
       "    <tr>\n",
       "      <th>2</th>\n",
       "      <td>okayGood</td>\n",
       "      <td>x</td>\n",
       "      <td>500</td>\n",
       "      <td>18</td>\n",
       "      <td>5</td>\n",
       "      <td>18</td>\n",
       "      <td>21</td>\n",
       "      <td>0</td>\n",
       "      <td>0.996706</td>\n",
       "    </tr>\n",
       "  </tbody>\n",
       "</table>\n",
       "</div>"
      ],
      "text/plain": [
       "  function_name arg1 arg2 start_line start_column end_line end_column  label  \\\n",
       "0        getSum    a    7         15            5       15         17      0   \n",
       "1    justDoThis    a    b         17           16       17         32      0   \n",
       "2      okayGood    x  500         18            5       18         21      0   \n",
       "\n",
       "   probability  \n",
       "0     0.999894  \n",
       "1     0.503813  \n",
       "2     0.996706  "
      ]
     },
     "execution_count": 169,
     "metadata": {},
     "output_type": "execute_result"
    }
   ],
   "source": [
    "function_args_swap_bug_df[\"label\"] = [label2id[element[\"label\"]] for element in fosb_result]\n",
    "function_args_swap_bug_df[\"probability\"] = [element[\"score\"] for element in fosb_result]\n",
    "function_args_swap_bug_df"
   ]
  },
  {
   "cell_type": "code",
   "execution_count": 170,
   "id": "f79321fc",
   "metadata": {},
   "outputs": [
    {
     "data": {
      "text/html": [
       "<div>\n",
       "<style scoped>\n",
       "    .dataframe tbody tr th:only-of-type {\n",
       "        vertical-align: middle;\n",
       "    }\n",
       "\n",
       "    .dataframe tbody tr th {\n",
       "        vertical-align: top;\n",
       "    }\n",
       "\n",
       "    .dataframe thead th {\n",
       "        text-align: right;\n",
       "    }\n",
       "</style>\n",
       "<table border=\"1\" class=\"dataframe\">\n",
       "  <thead>\n",
       "    <tr style=\"text-align: right;\">\n",
       "      <th></th>\n",
       "      <th>left</th>\n",
       "      <th>operator</th>\n",
       "      <th>right</th>\n",
       "      <th>start_line</th>\n",
       "      <th>start_column</th>\n",
       "      <th>end_line</th>\n",
       "      <th>end_column</th>\n",
       "      <th>label</th>\n",
       "      <th>probability</th>\n",
       "    </tr>\n",
       "  </thead>\n",
       "  <tbody>\n",
       "    <tr>\n",
       "      <th>0</th>\n",
       "      <td>n1</td>\n",
       "      <td>+</td>\n",
       "      <td>n2</td>\n",
       "      <td>7</td>\n",
       "      <td>12</td>\n",
       "      <td>7</td>\n",
       "      <td>19</td>\n",
       "      <td>0</td>\n",
       "      <td>0.786065</td>\n",
       "    </tr>\n",
       "  </tbody>\n",
       "</table>\n",
       "</div>"
      ],
      "text/plain": [
       "  left operator right start_line start_column end_line end_column  label  \\\n",
       "0   n1        +    n2          7           12        7         19      0   \n",
       "\n",
       "   probability  \n",
       "0     0.786065  "
      ]
     },
     "execution_count": 170,
     "metadata": {},
     "output_type": "execute_result"
    }
   ],
   "source": [
    "wrong_binary_operator_bug_df[\"label\"] = [label2id[element[\"label\"]] for element in wbob_result]\n",
    "wrong_binary_operator_bug_df[\"probability\"] = [element[\"score\"] for element in wbob_result]\n",
    "wrong_binary_operator_bug_df"
   ]
  },
  {
   "cell_type": "code",
   "execution_count": 181,
   "id": "3452b62a",
   "metadata": {},
   "outputs": [
    {
     "data": {
      "text/plain": [
       "[{'function_name': 'getSum',\n",
       "  'arg1': 'a',\n",
       "  'arg2': '7',\n",
       "  'start_line': '15',\n",
       "  'start_column': '5',\n",
       "  'end_line': '15',\n",
       "  'end_column': '17',\n",
       "  'label': 0,\n",
       "  'probability': 0.9998936653137207},\n",
       " {'function_name': 'justDoThis',\n",
       "  'arg1': 'a',\n",
       "  'arg2': 'b',\n",
       "  'start_line': '17',\n",
       "  'start_column': '16',\n",
       "  'end_line': '17',\n",
       "  'end_column': '32',\n",
       "  'label': 0,\n",
       "  'probability': 0.5038129091262817},\n",
       " {'function_name': 'okayGood',\n",
       "  'arg1': 'x',\n",
       "  'arg2': '500',\n",
       "  'start_line': '18',\n",
       "  'start_column': '5',\n",
       "  'end_line': '18',\n",
       "  'end_column': '21',\n",
       "  'label': 0,\n",
       "  'probability': 0.9967055916786194}]"
      ]
     },
     "execution_count": 181,
     "metadata": {},
     "output_type": "execute_result"
    }
   ],
   "source": [
    "[dict(row) for index, row in function_args_swap_bug_df.iterrows()]"
   ]
  },
  {
   "cell_type": "code",
   "execution_count": 182,
   "id": "4bb1dc8a",
   "metadata": {},
   "outputs": [
    {
     "data": {
      "text/plain": [
       "[{'left': 'n1',\n",
       "  'operator': '+',\n",
       "  'right': 'n2',\n",
       "  'start_line': '7',\n",
       "  'start_column': '12',\n",
       "  'end_line': '7',\n",
       "  'end_column': '19',\n",
       "  'label': 0,\n",
       "  'probability': 0.7860645651817322}]"
      ]
     },
     "execution_count": 182,
     "metadata": {},
     "output_type": "execute_result"
    }
   ],
   "source": [
    "[dict(row) for index, row in wrong_binary_operator_bug_df.iterrows()]"
   ]
  },
  {
   "cell_type": "code",
   "execution_count": null,
   "id": "202469c7",
   "metadata": {},
   "outputs": [],
   "source": [
    "output = {\"analysis\": {\n",
    "    \"function_args_swap_bug\": [dict(row) for index, row in function_args_swap_bug_df.iterrows()],\n",
    "    \"wrong_binary_operator_bug\": [dict(row) for index, row in wrong_binary_operator_bug_df.iterrows()]\n",
    "}}"
   ]
  }
 ],
 "metadata": {
  "kernelspec": {
   "display_name": "Python 3 (ipykernel)",
   "language": "python",
   "name": "python3"
  },
  "language_info": {
   "codemirror_mode": {
    "name": "ipython",
    "version": 3
   },
   "file_extension": ".py",
   "mimetype": "text/x-python",
   "name": "python",
   "nbconvert_exporter": "python",
   "pygments_lexer": "ipython3",
   "version": "3.9.12"
  }
 },
 "nbformat": 4,
 "nbformat_minor": 5
}
