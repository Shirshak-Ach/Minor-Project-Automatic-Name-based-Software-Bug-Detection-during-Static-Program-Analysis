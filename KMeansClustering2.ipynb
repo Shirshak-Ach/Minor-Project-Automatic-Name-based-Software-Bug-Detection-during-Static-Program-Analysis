{
 "cells": [
  {
   "cell_type": "code",
   "execution_count": 1,
   "id": "5bfa9761",
   "metadata": {},
   "outputs": [],
   "source": [
    "from sklearn.cluster import KMeans\n",
    "import pandas as pd\n",
    "from matplotlib import pyplot as plt\n",
    "%matplotlib inline"
   ]
  },
  {
   "cell_type": "code",
   "execution_count": 2,
   "id": "f3db9f8f",
   "metadata": {},
   "outputs": [],
   "source": [
    "from bs4 import BeautifulSoup\n",
    "import glob"
   ]
  },
  {
   "cell_type": "code",
   "execution_count": 3,
   "id": "525e6a30",
   "metadata": {},
   "outputs": [],
   "source": [
    "desc_text = []"
   ]
  },
  {
   "cell_type": "code",
   "execution_count": 4,
   "id": "3fe286a7",
   "metadata": {},
   "outputs": [],
   "source": [
    "def filter_description(desc):\n",
    "    content = desc.split(\"\\nInput\\n\")[0]\n",
    "    content = \" \".join(content.split())\n",
    "    content = content.lower()\n",
    "    content = content.replace(\"write a program\", \"\")\n",
    "    return content"
   ]
  },
  {
   "cell_type": "code",
   "execution_count": 5,
   "id": "378bcc96",
   "metadata": {},
   "outputs": [],
   "source": [
    "# use glob to get a list of files that contain the HtML extension.\n",
    "for file in glob.glob(r\"/media/dipu/New Volume1/codenet/Project_CodeNet/problem_descriptions/*.html\"):\n",
    "    with open(file,\"r\",encoding=\"utf8\") as f:\n",
    "        soup = BeautifulSoup(f,\"html.parser\")\n",
    "          # Extract the text from the HTML\n",
    "        text = soup.get_text()\n",
    "        desc_text.append(filter_description(text))"
   ]
  },
  {
   "cell_type": "code",
   "execution_count": 6,
   "id": "bf770f82",
   "metadata": {},
   "outputs": [],
   "source": [
    "# Create a DataFrame to store the text\n",
    "df = pd.DataFrame(desc_text, columns=[\"description\"])"
   ]
  },
  {
   "cell_type": "code",
   "execution_count": 7,
   "id": "2f175165",
   "metadata": {},
   "outputs": [
    {
     "data": {
      "text/html": [
       "<div>\n",
       "<style scoped>\n",
       "    .dataframe tbody tr th:only-of-type {\n",
       "        vertical-align: middle;\n",
       "    }\n",
       "\n",
       "    .dataframe tbody tr th {\n",
       "        vertical-align: top;\n",
       "    }\n",
       "\n",
       "    .dataframe thead th {\n",
       "        text-align: right;\n",
       "    }\n",
       "</style>\n",
       "<table border=\"1\" class=\"dataframe\">\n",
       "  <thead>\n",
       "    <tr style=\"text-align: right;\">\n",
       "      <th></th>\n",
       "      <th>description</th>\n",
       "    </tr>\n",
       "  </thead>\n",
       "  <tbody>\n",
       "  </tbody>\n",
       "</table>\n",
       "</div>"
      ],
      "text/plain": [
       "Empty DataFrame\n",
       "Columns: [description]\n",
       "Index: []"
      ]
     },
     "execution_count": 7,
     "metadata": {},
     "output_type": "execute_result"
    }
   ],
   "source": [
    "df.head()"
   ]
  },
  {
   "cell_type": "code",
   "execution_count": 8,
   "id": "55c38d03",
   "metadata": {},
   "outputs": [
    {
     "ename": "IndexError",
     "evalue": "index 0 is out of bounds for axis 0 with size 0",
     "output_type": "error",
     "traceback": [
      "\u001b[1;31m---------------------------------------------------------------------------\u001b[0m",
      "\u001b[1;31mIndexError\u001b[0m                                Traceback (most recent call last)",
      "Input \u001b[1;32mIn [8]\u001b[0m, in \u001b[0;36m<cell line: 1>\u001b[1;34m()\u001b[0m\n\u001b[1;32m----> 1\u001b[0m filter_description(\u001b[43mdf\u001b[49m\u001b[38;5;241;43m.\u001b[39;49m\u001b[43mdescription\u001b[49m\u001b[43m[\u001b[49m\u001b[38;5;241;43m0\u001b[39;49m\u001b[43m]\u001b[49m)\n",
      "File \u001b[1;32m~\\anaconda3\\lib\\site-packages\\pandas\\core\\series.py:955\u001b[0m, in \u001b[0;36mSeries.__getitem__\u001b[1;34m(self, key)\u001b[0m\n\u001b[0;32m    952\u001b[0m     key \u001b[38;5;241m=\u001b[39m unpack_1tuple(key)\n\u001b[0;32m    954\u001b[0m \u001b[38;5;28;01mif\u001b[39;00m is_integer(key) \u001b[38;5;129;01mand\u001b[39;00m \u001b[38;5;28mself\u001b[39m\u001b[38;5;241m.\u001b[39mindex\u001b[38;5;241m.\u001b[39m_should_fallback_to_positional:\n\u001b[1;32m--> 955\u001b[0m     \u001b[38;5;28;01mreturn\u001b[39;00m \u001b[38;5;28;43mself\u001b[39;49m\u001b[38;5;241;43m.\u001b[39;49m\u001b[43m_values\u001b[49m\u001b[43m[\u001b[49m\u001b[43mkey\u001b[49m\u001b[43m]\u001b[49m\n\u001b[0;32m    957\u001b[0m \u001b[38;5;28;01melif\u001b[39;00m key_is_scalar:\n\u001b[0;32m    958\u001b[0m     \u001b[38;5;28;01mreturn\u001b[39;00m \u001b[38;5;28mself\u001b[39m\u001b[38;5;241m.\u001b[39m_get_value(key)\n",
      "\u001b[1;31mIndexError\u001b[0m: index 0 is out of bounds for axis 0 with size 0"
     ]
    }
   ],
   "source": [
    "filter_description(df.description[0])"
   ]
  },
  {
   "cell_type": "code",
   "execution_count": null,
   "id": "975c9920",
   "metadata": {},
   "outputs": [],
   "source": [
    "df.shape"
   ]
  },
  {
   "cell_type": "code",
   "execution_count": null,
   "id": "4010e49d",
   "metadata": {},
   "outputs": [],
   "source": [
    "import re\n",
    "# Remove numbers from text\n",
    "df['description'] = df['description'].apply(lambda x: re.sub(r'\\d+', '', x))"
   ]
  },
  {
   "cell_type": "code",
   "execution_count": null,
   "id": "798f591f",
   "metadata": {},
   "outputs": [],
   "source": [
    "df['description'] = df['description'].apply(lambda x: re.sub(r'[\\d+\\+\\-\\*\\/]+', '', x))"
   ]
  },
  {
   "cell_type": "code",
   "execution_count": null,
   "id": "221f5da7",
   "metadata": {},
   "outputs": [],
   "source": [
    "df['description'] = df['description'].str.replace('=', '', regex=True)"
   ]
  },
  {
   "cell_type": "code",
   "execution_count": null,
   "id": "b33958a2",
   "metadata": {},
   "outputs": [],
   "source": [
    "df['description'][0]"
   ]
  },
  {
   "cell_type": "code",
   "execution_count": null,
   "id": "1b07d062",
   "metadata": {},
   "outputs": [],
   "source": [
    "new_df = pd.DataFrame()"
   ]
  },
  {
   "cell_type": "code",
   "execution_count": null,
   "id": "b69b3a97",
   "metadata": {},
   "outputs": [],
   "source": [
    "new_df = df[df['description'].map( lambda x : x.isascii())]"
   ]
  },
  {
   "cell_type": "code",
   "execution_count": null,
   "id": "d117400a",
   "metadata": {},
   "outputs": [],
   "source": [
    "df.shape"
   ]
  },
  {
   "cell_type": "code",
   "execution_count": null,
   "id": "f6bf75ac",
   "metadata": {},
   "outputs": [],
   "source": [
    "new_df.shape"
   ]
  },
  {
   "cell_type": "code",
   "execution_count": null,
   "id": "431534ae",
   "metadata": {
    "scrolled": true
   },
   "outputs": [],
   "source": [
    "import spacy"
   ]
  },
  {
   "cell_type": "code",
   "execution_count": null,
   "id": "9ea0e12a",
   "metadata": {},
   "outputs": [],
   "source": [
    "spacy__ = spacy.load(\"en_core_web_sm\")\n",
    "stop_words = spacy__.Defaults.stop_words\n",
    "#print(stop_words)"
   ]
  },
  {
   "cell_type": "code",
   "execution_count": null,
   "id": "315b7aaa",
   "metadata": {},
   "outputs": [],
   "source": [
    "import string\n",
    "punctuations = string.punctuation\n",
    "punctuations"
   ]
  },
  {
   "cell_type": "code",
   "execution_count": null,
   "id": "efc1ca6f",
   "metadata": {},
   "outputs": [],
   "source": [
    "# creating our tokenizer function \n",
    "def spacy_tokenizer(sentence):\n",
    "    # creating our token object which is used to create documents with linguistic annotations \n",
    "    doc = spacy__(sentence)\n",
    "    # lemmatizing each token and converting it into lowercase \n",
    "    my_token = [word.lemma_.lower().strip() for word in doc]     # strip is used to remove the space in between \n",
    "    #print(my_token)\n",
    "    \n",
    "    # removing stop words \n",
    "    final_tokens = [word for word in my_token if word not in stop_words and word not in punctuations]\n",
    "    #print(final_tokens)\n",
    "    return final_tokens"
   ]
  },
  {
   "cell_type": "code",
   "execution_count": null,
   "id": "dd9d21fe",
   "metadata": {},
   "outputs": [],
   "source": [
    "new_df['tokens'] = 0"
   ]
  },
  {
   "cell_type": "code",
   "execution_count": null,
   "id": "099cca6e",
   "metadata": {},
   "outputs": [],
   "source": [
    "new_df.isnull().value_counts()"
   ]
  },
  {
   "cell_type": "code",
   "execution_count": null,
   "id": "493edb72",
   "metadata": {},
   "outputs": [],
   "source": []
  },
  {
   "cell_type": "code",
   "execution_count": null,
   "id": "eeb51a51",
   "metadata": {},
   "outputs": [],
   "source": [
    "new_df['description'][0]"
   ]
  },
  {
   "cell_type": "code",
   "execution_count": null,
   "id": "cb09540e",
   "metadata": {},
   "outputs": [],
   "source": []
  },
  {
   "cell_type": "code",
   "execution_count": null,
   "id": "0015aa29",
   "metadata": {},
   "outputs": [],
   "source": [
    "new_df['tokens'] = new_df['description'].apply(spacy_tokenizer)"
   ]
  },
  {
   "cell_type": "code",
   "execution_count": null,
   "id": "a86725d7",
   "metadata": {},
   "outputs": [],
   "source": [
    "new_df['tokens'][0]"
   ]
  },
  {
   "cell_type": "code",
   "execution_count": null,
   "id": "bc240f5b",
   "metadata": {},
   "outputs": [],
   "source": [
    "set(new_df['tokens'][0])"
   ]
  },
  {
   "cell_type": "code",
   "execution_count": null,
   "id": "4d506a1c",
   "metadata": {},
   "outputs": [],
   "source": []
  },
  {
   "cell_type": "code",
   "execution_count": null,
   "id": "58a67bb4",
   "metadata": {},
   "outputs": [],
   "source": [
    "def filter_array(word_array):\n",
    "    filtered_list = []\n",
    "    for element in word_array:\n",
    "        if(len(element)>=3):\n",
    "            filtered_list.append(element)\n",
    "    return filtered_list"
   ]
  },
  {
   "cell_type": "code",
   "execution_count": null,
   "id": "42649600",
   "metadata": {},
   "outputs": [],
   "source": [
    "new_df['tokens'] = new_df['tokens'].apply(lambda word_array: filter_array(word_array))"
   ]
  },
  {
   "cell_type": "code",
   "execution_count": null,
   "id": "346c2ecd",
   "metadata": {},
   "outputs": [],
   "source": [
    "new_df['tokens'][0]"
   ]
  },
  {
   "cell_type": "code",
   "execution_count": null,
   "id": "caf85820",
   "metadata": {},
   "outputs": [],
   "source": [
    "new_df.shape"
   ]
  },
  {
   "cell_type": "code",
   "execution_count": null,
   "id": "018dadb8",
   "metadata": {},
   "outputs": [],
   "source": [
    "new_df"
   ]
  },
  {
   "cell_type": "code",
   "execution_count": null,
   "id": "7b28ed43",
   "metadata": {},
   "outputs": [],
   "source": []
  },
  {
   "cell_type": "code",
   "execution_count": null,
   "id": "15586556",
   "metadata": {},
   "outputs": [],
   "source": [
    "!pip install sent2vec"
   ]
  },
  {
   "cell_type": "code",
   "execution_count": null,
   "id": "23e45eb2",
   "metadata": {},
   "outputs": [],
   "source": [
    "from sent2vec.vectorizer import Vectorizer"
   ]
  },
  {
   "cell_type": "code",
   "execution_count": null,
   "id": "8df1315a",
   "metadata": {},
   "outputs": [],
   "source": []
  },
  {
   "cell_type": "code",
   "execution_count": null,
   "id": "a5decac8",
   "metadata": {},
   "outputs": [],
   "source": [
    "new_df[\"description\"] = new_df[\"tokens\"].apply(lambda x: \" \".join(x))"
   ]
  },
  {
   "cell_type": "code",
   "execution_count": null,
   "id": "8979fb04",
   "metadata": {},
   "outputs": [],
   "source": [
    "new_df.drop(columns=[\"tokens\"], inplace=True)"
   ]
  },
  {
   "cell_type": "code",
   "execution_count": null,
   "id": "30f18e9e",
   "metadata": {},
   "outputs": [],
   "source": [
    "new_df.sample(10)"
   ]
  },
  {
   "cell_type": "code",
   "execution_count": null,
   "id": "2e22fc00",
   "metadata": {},
   "outputs": [],
   "source": [
    "import re\n",
    "\n",
    "regex = re.compile('[^a-zA-Z]')"
   ]
  },
  {
   "cell_type": "code",
   "execution_count": null,
   "id": "eefa1ee8",
   "metadata": {},
   "outputs": [],
   "source": [
    "new_df[\"description\"] = new_df[\"description\"].apply(lambda x: regex.sub(' ', x))"
   ]
  },
  {
   "cell_type": "code",
   "execution_count": null,
   "id": "18194dba",
   "metadata": {},
   "outputs": [],
   "source": [
    "new_df.sample(5)"
   ]
  },
  {
   "cell_type": "code",
   "execution_count": null,
   "id": "eb407341",
   "metadata": {},
   "outputs": [],
   "source": [
    "new_df[\"description\"] = new_df[\"description\"].apply(lambda x: \" \".join(x.split()))"
   ]
  },
  {
   "cell_type": "code",
   "execution_count": null,
   "id": "3b25b4e7",
   "metadata": {},
   "outputs": [],
   "source": [
    "new_df['description'].isnull().sum()"
   ]
  },
  {
   "cell_type": "code",
   "execution_count": null,
   "id": "18f84efd",
   "metadata": {},
   "outputs": [],
   "source": [
    "new_df = new_df.dropna()\n",
    "new_df = new_df.reset_index(drop=True)\n",
    "new_df['description'].isnull().sum()"
   ]
  },
  {
   "cell_type": "code",
   "execution_count": null,
   "id": "342c35fc",
   "metadata": {},
   "outputs": [],
   "source": [
    "new_df.to_csv(\"problem_description.csv\", index=False)"
   ]
  },
  {
   "cell_type": "code",
   "execution_count": null,
   "id": "a4135ae8",
   "metadata": {},
   "outputs": [],
   "source": [
    "new_df = pd.read_csv(\"problem_description.csv\")"
   ]
  },
  {
   "cell_type": "code",
   "execution_count": null,
   "id": "d6a5873d",
   "metadata": {},
   "outputs": [],
   "source": [
    "sentences = new_df.description.to_list()"
   ]
  },
  {
   "cell_type": "code",
   "execution_count": null,
   "id": "d52c668b",
   "metadata": {},
   "outputs": [],
   "source": [
    "sentences"
   ]
  },
  {
   "cell_type": "code",
   "execution_count": null,
   "id": "5887c059",
   "metadata": {},
   "outputs": [],
   "source": [
    "vectorizer = Vectorizer()\n",
    "vectorizer.run(sentences)"
   ]
  },
  {
   "cell_type": "code",
   "execution_count": null,
   "id": "427edd17",
   "metadata": {},
   "outputs": [],
   "source": [
    "vectors = vectorizer.vectors\n",
    "vectors"
   ]
  },
  {
   "cell_type": "code",
   "execution_count": null,
   "id": "5130437b",
   "metadata": {},
   "outputs": [],
   "source": []
  },
  {
   "cell_type": "code",
   "execution_count": null,
   "id": "5f0e393f",
   "metadata": {},
   "outputs": [],
   "source": [
    "import gensim\n",
    "description_text = new_df['tokens'].apply(gensim.utils.simple_preprocess)"
   ]
  },
  {
   "cell_type": "code",
   "execution_count": null,
   "id": "0a4923c2",
   "metadata": {},
   "outputs": [],
   "source": [
    "vectors = [model.wv.get_vector(word) for word in description_text[0]]"
   ]
  },
  {
   "cell_type": "code",
   "execution_count": null,
   "id": "0732f253",
   "metadata": {},
   "outputs": [],
   "source": [
    "print(description_text)"
   ]
  },
  {
   "cell_type": "code",
   "execution_count": null,
   "id": "98cf4c68",
   "metadata": {},
   "outputs": [],
   "source": [
    "from gensim.models import Word2Vec\n",
    "\n",
    "model =  gensim.models.Word2Vec(\n",
    "\n",
    "    window = 10,\n",
    "    min_count = 1,\n",
    "    workers = 4\n",
    "\n",
    ")"
   ]
  },
  {
   "cell_type": "code",
   "execution_count": null,
   "id": "a3d65916",
   "metadata": {},
   "outputs": [],
   "source": [
    "model.corpus_count"
   ]
  },
  {
   "cell_type": "code",
   "execution_count": null,
   "id": "3c5f0084",
   "metadata": {},
   "outputs": [],
   "source": [
    "print(model)"
   ]
  },
  {
   "cell_type": "code",
   "execution_count": null,
   "id": "ccc44f0d",
   "metadata": {},
   "outputs": [],
   "source": [
    "from gensim.models import Word2Vec\n",
    "\n",
    "# Define the corpus of text data\n",
    "sentences = [['this', 'is', 'the', 'first', 'sentence'],\n",
    "             ['this', 'is', 'the', 'second', 'sentence'],\n",
    "             ['yet', 'another', 'sentence'],\n",
    "             ['one', 'more', 'sentence'],\n",
    "             ['and', 'the', 'final', 'sentence']]\n",
    "\n",
    "# Train the model\n",
    "model = Word2Vec(sentences, min_count=1)\n",
    "\n",
    "# Access the embeddings\n",
    "print(model['sentence'])"
   ]
  },
  {
   "cell_type": "code",
   "execution_count": null,
   "id": "9adc1b21",
   "metadata": {},
   "outputs": [],
   "source": []
  }
 ],
 "metadata": {
  "kernelspec": {
   "display_name": "Python 3 (ipykernel)",
   "language": "python",
   "name": "python3"
  },
  "language_info": {
   "codemirror_mode": {
    "name": "ipython",
    "version": 3
   },
   "file_extension": ".py",
   "mimetype": "text/x-python",
   "name": "python",
   "nbconvert_exporter": "python",
   "pygments_lexer": "ipython3",
   "version": "3.9.12"
  }
 },
 "nbformat": 4,
 "nbformat_minor": 5
}
