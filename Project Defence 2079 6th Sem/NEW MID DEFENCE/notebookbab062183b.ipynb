{
 "cells": [
  {
   "cell_type": "code",
   "execution_count": 2,
   "id": "5ba6f9e6",
   "metadata": {
    "execution": {
     "iopub.execute_input": "2023-01-31T14:46:01.520495Z",
     "iopub.status.busy": "2023-01-31T14:46:01.520134Z",
     "iopub.status.idle": "2023-01-31T14:46:01.525754Z",
     "shell.execute_reply": "2023-01-31T14:46:01.524742Z",
     "shell.execute_reply.started": "2023-01-31T14:46:01.520463Z"
    }
   },
   "outputs": [],
   "source": [
    "import os\n",
    "import clang\n",
    "from clang.cindex import *\n",
    "from copy import deepcopy"
   ]
  },
  {
   "cell_type": "code",
   "execution_count": 10,
   "id": "bbb07a14",
   "metadata": {
    "execution": {
     "iopub.execute_input": "2023-01-31T15:08:44.917886Z",
     "iopub.status.busy": "2023-01-31T15:08:44.917470Z",
     "iopub.status.idle": "2023-01-31T15:08:46.104586Z",
     "shell.execute_reply": "2023-01-31T15:08:46.103345Z",
     "shell.execute_reply.started": "2023-01-31T15:08:44.917842Z"
    }
   },
   "outputs": [],
   "source": [
    "! wget https://zenodo.org/record/3628775/files/c-corpus.tar.gz?download=1\n",
    "! tar -xzf \"/kaggle/working/c-corpus.tar.gz?download=1\"\n",
    "! rm /kaggle/working/c-corpus.tar.gz?download=1"
   ]
  },
  {
   "cell_type": "code",
   "execution_count": 63,
   "id": "d0222698",
   "metadata": {
    "execution": {
     "iopub.execute_input": "2023-01-31T16:01:13.749965Z",
     "iopub.status.busy": "2023-01-31T16:01:13.748820Z",
     "iopub.status.idle": "2023-01-31T16:01:14.705504Z",
     "shell.execute_reply": "2023-01-31T16:01:14.704238Z",
     "shell.execute_reply.started": "2023-01-31T16:01:13.749910Z"
    }
   },
   "outputs": [
    {
     "name": "stdout",
     "output_type": "stream",
     "text": [
      "find: ‘libclang-10.so’: No such file or directory\n"
     ]
    }
   ],
   "source": [
    "! sudo apt-get update\n",
    "! sudo apt update\n",
    "! sudo apt-get install clang -y\n",
    "! sudo apt-get install libclang-dev -y\n",
    "! sudo apt-get install python3-clang -y\n",
    "\n",
    "Config.set_library_file(\"/usr/lib/x86_64-linux-gnu/libclang-10.so\")"
   ]
  },
  {
   "cell_type": "code",
   "execution_count": 67,
   "id": "35f00100",
   "metadata": {
    "execution": {
     "iopub.execute_input": "2023-01-31T16:07:59.057355Z",
     "iopub.status.busy": "2023-01-31T16:07:59.056988Z",
     "iopub.status.idle": "2023-01-31T16:07:59.063756Z",
     "shell.execute_reply": "2023-01-31T16:07:59.060895Z",
     "shell.execute_reply.started": "2023-01-31T16:07:59.057323Z"
    }
   },
   "outputs": [],
   "source": [
    "# create an index and parse the source code\n",
    "index = Index.create()\n",
    "root_cursor = index.parse(\"/kaggle/working/cleaned/e2openplugin-crossepg/src/common/crossepg_exporter.c\").cursor\n",
    "# root_cursor = index.parse(\"/home/dipu/Documents/AI/MinorProject/c-corpus/cleaned/gno/lib/libc/tests/sys/rename.c\").cursor"
   ]
  },
  {
   "cell_type": "code",
   "execution_count": 68,
   "id": "21b6d246",
   "metadata": {
    "execution": {
     "iopub.execute_input": "2023-01-31T16:08:13.875451Z",
     "iopub.status.busy": "2023-01-31T16:08:13.875084Z",
     "iopub.status.idle": "2023-01-31T16:08:13.880595Z",
     "shell.execute_reply": "2023-01-31T16:08:13.879422Z",
     "shell.execute_reply.started": "2023-01-31T16:08:13.875419Z"
    }
   },
   "outputs": [],
   "source": [
    "# def print_ast(node, indent):\n",
    "#     try:\n",
    "#         print(\" \"*indent + node.spelling + \" \" + str(node.kind) + \" \" + str(node.type.spelling))\n",
    "#         for c in node.get_children():\n",
    "#             print_ast(c, indent+2)\n",
    "#     except ValueError:\n",
    "#         pass\n",
    "\n",
    "# print_ast(root_cursor, 0)"
   ]
  },
  {
   "cell_type": "code",
   "execution_count": 69,
   "id": "7c0f6495",
   "metadata": {
    "execution": {
     "iopub.execute_input": "2023-01-31T16:08:23.442454Z",
     "iopub.status.busy": "2023-01-31T16:08:23.442079Z",
     "iopub.status.idle": "2023-01-31T16:08:23.449210Z",
     "shell.execute_reply": "2023-01-31T16:08:23.447987Z",
     "shell.execute_reply.started": "2023-01-31T16:08:23.442422Z"
    }
   },
   "outputs": [],
   "source": [
    "def get_function_params(node, function_name, result):\n",
    "    try:\n",
    "        if node.kind == CursorKind.FUNCTION_DECL and node.spelling == function_name:\n",
    "            for c in node.get_children():\n",
    "                if c.kind == CursorKind.PARM_DECL:\n",
    "                    # print(c.spelling + \" \" + str(c.kind) + \" \" + str(c.type.spelling))\n",
    "                    result.append({\"name\": c.spelling, \"data_type\": c.type.spelling})\n",
    "            return\n",
    "    except ValueError:\n",
    "        pass\n",
    "\n",
    "    for c in node.get_children():\n",
    "        get_function_params(c, function_name, result)"
   ]
  },
  {
   "cell_type": "code",
   "execution_count": 70,
   "id": "43781210",
   "metadata": {
    "execution": {
     "iopub.execute_input": "2023-01-31T16:08:25.401531Z",
     "iopub.status.busy": "2023-01-31T16:08:25.400672Z",
     "iopub.status.idle": "2023-01-31T16:08:25.437719Z",
     "shell.execute_reply": "2023-01-31T16:08:25.436634Z",
     "shell.execute_reply.started": "2023-01-31T16:08:25.401488Z"
    }
   },
   "outputs": [
    {
     "data": {
      "text/plain": [
       "[]"
      ]
     },
     "execution_count": 70,
     "metadata": {},
     "output_type": "execute_result"
    }
   ],
   "source": [
    "param_list = []\n",
    "get_function_params(root_cursor, \"getSum\", param_list)\n",
    "param_list"
   ]
  },
  {
   "cell_type": "code",
   "execution_count": 71,
   "id": "ddf5434a",
   "metadata": {
    "execution": {
     "iopub.execute_input": "2023-01-31T16:08:31.911642Z",
     "iopub.status.busy": "2023-01-31T16:08:31.911280Z",
     "iopub.status.idle": "2023-01-31T16:08:31.919610Z",
     "shell.execute_reply": "2023-01-31T16:08:31.918602Z",
     "shell.execute_reply.started": "2023-01-31T16:08:31.911609Z"
    }
   },
   "outputs": [],
   "source": [
    "def get_called_functions(root, node, result):\n",
    "    try:\n",
    "        if node.kind == CursorKind.CALL_EXPR:\n",
    "            # \"location\": node.extent\n",
    "            current_function = {\"name\": node.spelling, \"return_type\": node.type.spelling, \"args\": []}\n",
    "            for c in node.get_arguments():\n",
    "                current_function[\"args\"].append({\"name\": list(c.get_tokens())[0].spelling if len(list(c.get_tokens())) > 0 else c.spelling, \"data_type\": c.type.spelling, \"cursor_kind\": c.kind})\n",
    "                # current_function[\"args\"].append({\"name\": c.spelling, \"data_type\": c.type.spelling, \"cursor_kind\": c.kind})\n",
    "                # print(node.location)\n",
    "                \n",
    "            current_param_list = []\n",
    "            get_function_params(root, node.spelling, current_param_list)\n",
    "            current_function[\"params\"] = current_param_list\n",
    "\n",
    "            result.append(current_function)\n",
    "            return\n",
    "    except ValueError:\n",
    "        pass\n",
    "\n",
    "    for c in node.get_children():\n",
    "        get_called_functions(root, c, result)"
   ]
  },
  {
   "cell_type": "code",
   "execution_count": 72,
   "id": "6936ad5d",
   "metadata": {
    "execution": {
     "iopub.execute_input": "2023-01-31T16:08:34.089191Z",
     "iopub.status.busy": "2023-01-31T16:08:34.088087Z",
     "iopub.status.idle": "2023-01-31T16:08:34.955697Z",
     "shell.execute_reply": "2023-01-31T16:08:34.954756Z",
     "shell.execute_reply.started": "2023-01-31T16:08:34.089147Z"
    }
   },
   "outputs": [
    {
     "data": {
      "text/plain": [
       "[{'name': 'printf',\n",
       "  'return_type': 'int',\n",
       "  'args': [{'name': '\"Usage:\\\\n\"',\n",
       "    'data_type': 'const char *',\n",
       "    'cursor_kind': CursorKind.UNEXPOSED_EXPR}],\n",
       "  'params': [{'name': '__format', 'data_type': 'const char *restrict'}]},\n",
       " {'name': 'printf',\n",
       "  'return_type': 'int',\n",
       "  'args': [{'name': '\"  ./crossepg_exporter [options] output_file\\\\n\"',\n",
       "    'data_type': 'const char *',\n",
       "    'cursor_kind': CursorKind.UNEXPOSED_EXPR}],\n",
       "  'params': [{'name': '__format', 'data_type': 'const char *restrict'}]},\n",
       " {'name': 'printf',\n",
       "  'return_type': 'int',\n",
       "  'args': [{'name': '\"Options:\\\\n\"',\n",
       "    'data_type': 'const char *',\n",
       "    'cursor_kind': CursorKind.UNEXPOSED_EXPR}],\n",
       "  'params': [{'name': '__format', 'data_type': 'const char *restrict'}]},\n",
       " {'name': 'printf',\n",
       "  'return_type': 'int',\n",
       "  'args': [{'name': '\"  -d db_root       crossepg db root folder\\\\n\"',\n",
       "    'data_type': 'const char *',\n",
       "    'cursor_kind': CursorKind.UNEXPOSED_EXPR}],\n",
       "  'params': [{'name': '__format', 'data_type': 'const char *restrict'}]},\n",
       " {'name': 'printf',\n",
       "  'return_type': 'int',\n",
       "  'args': [{'name': '\"                   default: %s\\\\n\"',\n",
       "    'data_type': 'const char *',\n",
       "    'cursor_kind': CursorKind.UNEXPOSED_EXPR},\n",
       "   {'name': 'db_root',\n",
       "    'data_type': 'char *',\n",
       "    'cursor_kind': CursorKind.UNEXPOSED_EXPR}],\n",
       "  'params': [{'name': '__format', 'data_type': 'const char *restrict'}]},\n",
       " {'name': 'printf',\n",
       "  'return_type': 'int',\n",
       "  'args': [{'name': '\"  -k nice          see \\\\\"man nice\\\\\"\\\\n\"',\n",
       "    'data_type': 'const char *',\n",
       "    'cursor_kind': CursorKind.UNEXPOSED_EXPR}],\n",
       "  'params': [{'name': '__format', 'data_type': 'const char *restrict'}]},\n",
       " {'name': 'printf',\n",
       "  'return_type': 'int',\n",
       "  'args': [{'name': '\"  -h               show this help\\\\n\\\\n\"',\n",
       "    'data_type': 'const char *',\n",
       "    'cursor_kind': CursorKind.UNEXPOSED_EXPR}],\n",
       "  'params': [{'name': '__format', 'data_type': 'const char *restrict'}]},\n",
       " {'name': '_malloc',\n",
       "  'return_type': 'int',\n",
       "  'args': [{'name': '(',\n",
       "    'data_type': 'unsigned long',\n",
       "    'cursor_kind': CursorKind.BINARY_OPERATOR}],\n",
       "  'params': []},\n",
       " {'name': 'strlen',\n",
       "  'return_type': 'unsigned long',\n",
       "  'args': [{'name': 'data',\n",
       "    'data_type': 'const char *',\n",
       "    'cursor_kind': CursorKind.UNEXPOSED_EXPR}],\n",
       "  'params': [{'name': '__s', 'data_type': 'const char *'}]},\n",
       " {'name': 'getopt',\n",
       "  'return_type': 'int',\n",
       "  'args': [{'name': 'argc',\n",
       "    'data_type': 'int',\n",
       "    'cursor_kind': CursorKind.UNEXPOSED_EXPR},\n",
       "   {'name': 'argv',\n",
       "    'data_type': 'char *const *',\n",
       "    'cursor_kind': CursorKind.UNEXPOSED_EXPR},\n",
       "   {'name': '\"d:k\"',\n",
       "    'data_type': 'const char *',\n",
       "    'cursor_kind': CursorKind.UNEXPOSED_EXPR}],\n",
       "  'params': [{'name': '___argc', 'data_type': 'int'},\n",
       "   {'name': '___argv', 'data_type': 'char *const *'},\n",
       "   {'name': '__shortopts', 'data_type': 'const char *'}]},\n",
       " {'name': 'strcpy',\n",
       "  'return_type': 'char *',\n",
       "  'args': [{'name': 'db_root',\n",
       "    'data_type': 'char *',\n",
       "    'cursor_kind': CursorKind.UNEXPOSED_EXPR},\n",
       "   {'name': 'optarg',\n",
       "    'data_type': 'const char *',\n",
       "    'cursor_kind': CursorKind.UNEXPOSED_EXPR}],\n",
       "  'params': [{'name': '__dest', 'data_type': 'char *restrict'},\n",
       "   {'name': '__src', 'data_type': 'const char *restrict'}]},\n",
       " {'name': 'nice',\n",
       "  'return_type': 'int',\n",
       "  'args': [{'name': 'atoi',\n",
       "    'data_type': 'int',\n",
       "    'cursor_kind': CursorKind.CALL_EXPR}],\n",
       "  'params': [{'name': '__inc', 'data_type': 'int'}]},\n",
       " {'name': 'print_help', 'return_type': 'void', 'args': [], 'params': []},\n",
       " {'name': 'print_help', 'return_type': 'void', 'args': [], 'params': []},\n",
       " {'name': 'strlen',\n",
       "  'return_type': 'unsigned long',\n",
       "  'args': [{'name': 'db_root',\n",
       "    'data_type': 'const char *',\n",
       "    'cursor_kind': CursorKind.UNEXPOSED_EXPR}],\n",
       "  'params': [{'name': '__s', 'data_type': 'const char *'}]},\n",
       " {'name': 'strlen',\n",
       "  'return_type': 'unsigned long',\n",
       "  'args': [{'name': 'db_root',\n",
       "    'data_type': 'const char *',\n",
       "    'cursor_kind': CursorKind.UNEXPOSED_EXPR}],\n",
       "  'params': [{'name': '__s', 'data_type': 'const char *'}]},\n",
       " {'name': 'log_open',\n",
       "  'return_type': 'int',\n",
       "  'args': [{'name': 'db_root',\n",
       "    'data_type': 'char *',\n",
       "    'cursor_kind': CursorKind.UNEXPOSED_EXPR}],\n",
       "  'params': []},\n",
       " {'name': 'log_banner',\n",
       "  'return_type': 'int',\n",
       "  'args': [{'name': '\"CrossEPG Exporter\"',\n",
       "    'data_type': 'char *',\n",
       "    'cursor_kind': CursorKind.UNEXPOSED_EXPR}],\n",
       "  'params': []},\n",
       " {'name': 'epgdb_open',\n",
       "  'return_type': 'int',\n",
       "  'args': [{'name': 'db_root',\n",
       "    'data_type': 'char *',\n",
       "    'cursor_kind': CursorKind.UNEXPOSED_EXPR}],\n",
       "  'params': []},\n",
       " {'name': 'log_add',\n",
       "  'return_type': 'int',\n",
       "  'args': [{'name': '\"EPGDB opened (root=%s)\"',\n",
       "    'data_type': 'char *',\n",
       "    'cursor_kind': CursorKind.UNEXPOSED_EXPR},\n",
       "   {'name': 'db_root',\n",
       "    'data_type': 'char *',\n",
       "    'cursor_kind': CursorKind.UNEXPOSED_EXPR}],\n",
       "  'params': []},\n",
       " {'name': 'log_add',\n",
       "  'return_type': 'int',\n",
       "  'args': [{'name': '\"Error opening EPGDB\"',\n",
       "    'data_type': 'char *',\n",
       "    'cursor_kind': CursorKind.UNEXPOSED_EXPR}],\n",
       "  'params': []},\n",
       " {'name': 'epgdb_close', 'return_type': 'int', 'args': [], 'params': []},\n",
       " {'name': 'log_close', 'return_type': 'int', 'args': [], 'params': []},\n",
       " {'name': 'epgdb_load', 'return_type': 'int', 'args': [], 'params': []},\n",
       " {'name': 'log_add',\n",
       "  'return_type': 'int',\n",
       "  'args': [{'name': '\"Exporting data into %s\"',\n",
       "    'data_type': 'char *',\n",
       "    'cursor_kind': CursorKind.UNEXPOSED_EXPR},\n",
       "   {'name': 'outputfile',\n",
       "    'data_type': 'char *',\n",
       "    'cursor_kind': CursorKind.UNEXPOSED_EXPR}],\n",
       "  'params': []},\n",
       " {'name': 'fopen',\n",
       "  'return_type': 'FILE *',\n",
       "  'args': [{'name': 'outputfile',\n",
       "    'data_type': 'const char *',\n",
       "    'cursor_kind': CursorKind.UNEXPOSED_EXPR},\n",
       "   {'name': '\"w\"',\n",
       "    'data_type': 'const char *',\n",
       "    'cursor_kind': CursorKind.UNEXPOSED_EXPR}],\n",
       "  'params': [{'name': '__filename', 'data_type': 'const char *restrict'},\n",
       "   {'name': '__modes', 'data_type': 'const char *restrict'}]},\n",
       " {'name': 'fprintf',\n",
       "  'return_type': 'int',\n",
       "  'args': [{'name': 'fd',\n",
       "    'data_type': 'FILE *',\n",
       "    'cursor_kind': CursorKind.UNEXPOSED_EXPR},\n",
       "   {'name': '\"nid, tsid, sid, start time, length, description, long description, iso693, event id, mjd, genre_id, flags, revision\\\\n\"',\n",
       "    'data_type': 'const char *',\n",
       "    'cursor_kind': CursorKind.UNEXPOSED_EXPR}],\n",
       "  'params': [{'name': '__stream', 'data_type': 'FILE *restrict'},\n",
       "   {'name': '__format', 'data_type': 'const char *restrict'}]},\n",
       " {'name': 'fclose',\n",
       "  'return_type': 'int',\n",
       "  'args': [{'name': 'fd',\n",
       "    'data_type': 'FILE *',\n",
       "    'cursor_kind': CursorKind.UNEXPOSED_EXPR}],\n",
       "  'params': [{'name': '__stream', 'data_type': 'FILE *'}]},\n",
       " {'name': 'log_add',\n",
       "  'return_type': 'int',\n",
       "  'args': [{'name': '\"Exported %d events\"',\n",
       "    'data_type': 'char *',\n",
       "    'cursor_kind': CursorKind.UNEXPOSED_EXPR},\n",
       "   {'name': 'count',\n",
       "    'data_type': 'int',\n",
       "    'cursor_kind': CursorKind.UNEXPOSED_EXPR}],\n",
       "  'params': []},\n",
       " {'name': 'log_add',\n",
       "  'return_type': 'int',\n",
       "  'args': [{'name': '\"Cannot open %s\"',\n",
       "    'data_type': 'char *',\n",
       "    'cursor_kind': CursorKind.UNEXPOSED_EXPR},\n",
       "   {'name': 'outputfile',\n",
       "    'data_type': 'char *',\n",
       "    'cursor_kind': CursorKind.UNEXPOSED_EXPR}],\n",
       "  'params': []},\n",
       " {'name': 'epgdb_clean', 'return_type': 'int', 'args': [], 'params': []},\n",
       " {'name': 'memory_stats', 'return_type': 'int', 'args': [], 'params': []},\n",
       " {'name': 'log_close', 'return_type': 'int', 'args': [], 'params': []}]"
      ]
     },
     "execution_count": 72,
     "metadata": {},
     "output_type": "execute_result"
    }
   ],
   "source": [
    "function_list = []\n",
    "get_called_functions(root_cursor, root_cursor, function_list)\n",
    "function_list"
   ]
  },
  {
   "cell_type": "code",
   "execution_count": 73,
   "id": "d40a2104",
   "metadata": {
    "execution": {
     "iopub.execute_input": "2023-01-31T16:08:50.628078Z",
     "iopub.status.busy": "2023-01-31T16:08:50.627642Z",
     "iopub.status.idle": "2023-01-31T16:08:50.654363Z",
     "shell.execute_reply": "2023-01-31T16:08:50.652875Z",
     "shell.execute_reply.started": "2023-01-31T16:08:50.628040Z"
    }
   },
   "outputs": [
    {
     "name": "stdout",
     "output_type": "stream",
     "text": [
      "log_add,\"EPGDB opened (root=%s)\",db_root,int,,,0\n",
      "log_add,db_root,\"EPGDB opened (root=%s)\",int,,,1\n",
      "log_add,\"Exporting data into %s\",outputfile,int,,,0\n",
      "log_add,outputfile,\"Exporting data into %s\",int,,,1\n",
      "fopen,outputfile,\"w\",FILE *,__filename,__modes,0\n",
      "fopen,\"w\",outputfile,FILE *,__filename,__modes,1\n",
      "log_add,\"Cannot open %s\",outputfile,int,,,0\n",
      "log_add,outputfile,\"Cannot open %s\",int,,,1\n"
     ]
    }
   ],
   "source": [
    "for function in function_list:\n",
    "        \n",
    "        if len(function[\"args\"]) == 2 and \\\n",
    "            (function[\"args\"][0][\"data_type\"] == function[\"args\"][1][\"data_type\"]) and \\\n",
    "            (function[\"args\"][0][\"name\"] != function[\"args\"][1][\"name\"]):\n",
    "            \n",
    "            positive_sample = [function[\"name\"], function[\"args\"][0][\"name\"], function[\"args\"][1][\"name\"],\n",
    "                              function[\"return_type\"]]\n",
    "            \n",
    "            if(len(function[\"params\"]) == 2):\n",
    "                positive_sample.append(function[\"params\"][0][\"name\"])\n",
    "                positive_sample.append(function[\"params\"][1][\"name\"])\n",
    "            else:\n",
    "                positive_sample.append(\"\")\n",
    "                positive_sample.append(\"\")\n",
    "            \n",
    "            negative_sample = deepcopy(positive_sample)\n",
    "            # swap\n",
    "            negative_sample[1], negative_sample[2] = negative_sample[2], negative_sample[1]\n",
    "            \n",
    "            positive_sample.append(str(0))\n",
    "            negative_sample.append(str(1))\n",
    "            \n",
    "            positive_sample = \",\".join(positive_sample)\n",
    "            negative_sample = \",\".join(negative_sample)\n",
    "            \n",
    "            print(positive_sample)\n",
    "            print(negative_sample)\n",
    "            "
   ]
  },
  {
   "cell_type": "markdown",
   "id": "f12db0ed",
   "metadata": {},
   "source": [
    "---------\n",
    "## Negative sample generation from all code snippets - Function args swap only\n",
    "---------"
   ]
  },
  {
   "cell_type": "code",
   "execution_count": 77,
   "id": "5c2fa9be",
   "metadata": {
    "execution": {
     "iopub.execute_input": "2023-01-31T16:15:39.758189Z",
     "iopub.status.busy": "2023-01-31T16:15:39.757807Z",
     "iopub.status.idle": "2023-01-31T16:15:39.770532Z",
     "shell.execute_reply": "2023-01-31T16:15:39.769583Z",
     "shell.execute_reply.started": "2023-01-31T16:15:39.758154Z"
    }
   },
   "outputs": [],
   "source": [
    "def generate_function_args_swap_dataset(root_dir):\n",
    "    total_files, total_samples = 0, 0\n",
    "    global current_file\n",
    "    \n",
    "    with open(\"function_swap_samples.csv\", 'a') as function_swap_samples:\n",
    "        function_swap_samples.write(\"function_name,arg1,arg2,arg_type,param1,param2,labels\")\n",
    "        \n",
    "        for root, dirs, files in os.walk(root_dir):\n",
    "                for file in files:\n",
    "                    if file.endswith(\".c\"):\n",
    "                        total_files += 1\n",
    "\n",
    "                        file_path = os.path.join(root, file)\n",
    "                        with open(file_path, 'rb') as f:\n",
    "                            # content = str(f.read())\n",
    "                            start_cursor = index.parse(f.name).cursor\n",
    "\n",
    "                            function_list = []\n",
    "                            get_called_functions(start_cursor, start_cursor, function_list)\n",
    "\n",
    "                            for function in function_list:\n",
    "\n",
    "                                    if len(function[\"args\"]) == 2 and \\\n",
    "                                        (function[\"args\"][0][\"data_type\"] == function[\"args\"][1][\"data_type\"]) and \\\n",
    "                                        (function[\"args\"][0][\"name\"] != function[\"args\"][1][\"name\"]):\n",
    "\n",
    "                                        positive_sample = [function[\"name\"], function[\"args\"][0][\"name\"], function[\"args\"][1][\"name\"],\n",
    "                                                          function[\"return_type\"]]\n",
    "\n",
    "                                        if(len(function[\"params\"]) == 2):\n",
    "                                            positive_sample.append(function[\"params\"][0][\"name\"])\n",
    "                                            positive_sample.append(function[\"params\"][1][\"name\"])\n",
    "                                        else:\n",
    "                                            positive_sample.append(\"\")\n",
    "                                            positive_sample.append(\"\")\n",
    "\n",
    "                                        negative_sample = deepcopy(positive_sample)\n",
    "                                        # swap\n",
    "                                        negative_sample[1], negative_sample[2] = negative_sample[2], negative_sample[1]\n",
    "\n",
    "                                        positive_sample.append(str(0))\n",
    "                                        negative_sample.append(str(1))\n",
    "\n",
    "                                        positive_sample = \",\".join(positive_sample)\n",
    "                                        negative_sample = \",\".join(negative_sample)\n",
    "                                        \n",
    "                                        function_swap_samples.write(\"\\n\" + positive_sample)\n",
    "                                        function_swap_samples.write(\"\\n\" + negative_sample)\n",
    "                                        \n",
    "                                        total_samples += 1\n",
    "                                        \n",
    "                            current_file = f.name\n",
    "\n",
    "                    if total_files % 1000 == 0:\n",
    "                        print(\"Total files:\", total_files, \",\", \"Total samples:\", total_samples)"
   ]
  },
  {
   "cell_type": "code",
   "execution_count": 79,
   "id": "80900ede",
   "metadata": {
    "execution": {
     "iopub.execute_input": "2023-01-31T16:16:13.975767Z",
     "iopub.status.busy": "2023-01-31T16:16:13.974703Z",
     "iopub.status.idle": "2023-01-31T16:17:28.315313Z",
     "shell.execute_reply": "2023-01-31T16:17:28.313763Z",
     "shell.execute_reply.started": "2023-01-31T16:16:13.975719Z"
    }
   },
   "outputs": [
    {
     "name": "stdout",
     "output_type": "stream",
     "text": [
      "Total files: 100 , Total samples: 161\n",
      "Total files: 200 , Total samples: 167\n",
      "Total files: 300 , Total samples: 189\n",
      "Total files: 400 , Total samples: 194\n",
      "Total files: 500 , Total samples: 231\n"
     ]
    },
    {
     "ename": "KeyboardInterrupt",
     "evalue": "",
     "output_type": "error",
     "traceback": [
      "\u001b[0;31m---------------------------------------------------------------------------\u001b[0m",
      "\u001b[0;31mKeyboardInterrupt\u001b[0m                         Traceback (most recent call last)",
      "\u001b[0;32m/tmp/ipykernel_23/1845886291.py\u001b[0m in \u001b[0;36m<module>\u001b[0;34m\u001b[0m\n\u001b[1;32m      1\u001b[0m \u001b[0mroot_dir\u001b[0m \u001b[0;34m=\u001b[0m \u001b[0;34m'/kaggle/working/cleaned'\u001b[0m\u001b[0;34m\u001b[0m\u001b[0;34m\u001b[0m\u001b[0m\n\u001b[1;32m      2\u001b[0m \u001b[0;34m\u001b[0m\u001b[0m\n\u001b[0;32m----> 3\u001b[0;31m \u001b[0mgenerate_function_args_swap_dataset\u001b[0m\u001b[0;34m(\u001b[0m\u001b[0mroot_dir\u001b[0m\u001b[0;34m)\u001b[0m\u001b[0;34m\u001b[0m\u001b[0;34m\u001b[0m\u001b[0m\n\u001b[0m",
      "\u001b[0;32m/tmp/ipykernel_23/1153489403.py\u001b[0m in \u001b[0;36mgenerate_function_args_swap_dataset\u001b[0;34m(root_dir)\u001b[0m\n\u001b[1;32m     17\u001b[0m \u001b[0;34m\u001b[0m\u001b[0m\n\u001b[1;32m     18\u001b[0m                             \u001b[0mfunction_list\u001b[0m \u001b[0;34m=\u001b[0m \u001b[0;34m[\u001b[0m\u001b[0;34m]\u001b[0m\u001b[0;34m\u001b[0m\u001b[0;34m\u001b[0m\u001b[0m\n\u001b[0;32m---> 19\u001b[0;31m                             \u001b[0mget_called_functions\u001b[0m\u001b[0;34m(\u001b[0m\u001b[0mstart_cursor\u001b[0m\u001b[0;34m,\u001b[0m \u001b[0mstart_cursor\u001b[0m\u001b[0;34m,\u001b[0m \u001b[0mfunction_list\u001b[0m\u001b[0;34m)\u001b[0m\u001b[0;34m\u001b[0m\u001b[0;34m\u001b[0m\u001b[0m\n\u001b[0m\u001b[1;32m     20\u001b[0m \u001b[0;34m\u001b[0m\u001b[0m\n\u001b[1;32m     21\u001b[0m                             \u001b[0;32mfor\u001b[0m \u001b[0mfunction\u001b[0m \u001b[0;32min\u001b[0m \u001b[0mfunction_list\u001b[0m\u001b[0;34m:\u001b[0m\u001b[0;34m\u001b[0m\u001b[0;34m\u001b[0m\u001b[0m\n",
      "\u001b[0;32m/tmp/ipykernel_23/3945130377.py\u001b[0m in \u001b[0;36mget_called_functions\u001b[0;34m(root, node, result)\u001b[0m\n\u001b[1;32m     19\u001b[0m \u001b[0;34m\u001b[0m\u001b[0m\n\u001b[1;32m     20\u001b[0m     \u001b[0;32mfor\u001b[0m \u001b[0mc\u001b[0m \u001b[0;32min\u001b[0m \u001b[0mnode\u001b[0m\u001b[0;34m.\u001b[0m\u001b[0mget_children\u001b[0m\u001b[0;34m(\u001b[0m\u001b[0;34m)\u001b[0m\u001b[0;34m:\u001b[0m\u001b[0;34m\u001b[0m\u001b[0;34m\u001b[0m\u001b[0m\n\u001b[0;32m---> 21\u001b[0;31m         \u001b[0mget_called_functions\u001b[0m\u001b[0;34m(\u001b[0m\u001b[0mroot\u001b[0m\u001b[0;34m,\u001b[0m \u001b[0mc\u001b[0m\u001b[0;34m,\u001b[0m \u001b[0mresult\u001b[0m\u001b[0;34m)\u001b[0m\u001b[0;34m\u001b[0m\u001b[0;34m\u001b[0m\u001b[0m\n\u001b[0m",
      "\u001b[0;32m/tmp/ipykernel_23/3945130377.py\u001b[0m in \u001b[0;36mget_called_functions\u001b[0;34m(root, node, result)\u001b[0m\n\u001b[1;32m     19\u001b[0m \u001b[0;34m\u001b[0m\u001b[0m\n\u001b[1;32m     20\u001b[0m     \u001b[0;32mfor\u001b[0m \u001b[0mc\u001b[0m \u001b[0;32min\u001b[0m \u001b[0mnode\u001b[0m\u001b[0;34m.\u001b[0m\u001b[0mget_children\u001b[0m\u001b[0;34m(\u001b[0m\u001b[0;34m)\u001b[0m\u001b[0;34m:\u001b[0m\u001b[0;34m\u001b[0m\u001b[0;34m\u001b[0m\u001b[0m\n\u001b[0;32m---> 21\u001b[0;31m         \u001b[0mget_called_functions\u001b[0m\u001b[0;34m(\u001b[0m\u001b[0mroot\u001b[0m\u001b[0;34m,\u001b[0m \u001b[0mc\u001b[0m\u001b[0;34m,\u001b[0m \u001b[0mresult\u001b[0m\u001b[0;34m)\u001b[0m\u001b[0;34m\u001b[0m\u001b[0;34m\u001b[0m\u001b[0m\n\u001b[0m",
      "\u001b[0;32m/tmp/ipykernel_23/3945130377.py\u001b[0m in \u001b[0;36mget_called_functions\u001b[0;34m(root, node, result)\u001b[0m\n\u001b[1;32m     19\u001b[0m \u001b[0;34m\u001b[0m\u001b[0m\n\u001b[1;32m     20\u001b[0m     \u001b[0;32mfor\u001b[0m \u001b[0mc\u001b[0m \u001b[0;32min\u001b[0m \u001b[0mnode\u001b[0m\u001b[0;34m.\u001b[0m\u001b[0mget_children\u001b[0m\u001b[0;34m(\u001b[0m\u001b[0;34m)\u001b[0m\u001b[0;34m:\u001b[0m\u001b[0;34m\u001b[0m\u001b[0;34m\u001b[0m\u001b[0m\n\u001b[0;32m---> 21\u001b[0;31m         \u001b[0mget_called_functions\u001b[0m\u001b[0;34m(\u001b[0m\u001b[0mroot\u001b[0m\u001b[0;34m,\u001b[0m \u001b[0mc\u001b[0m\u001b[0;34m,\u001b[0m \u001b[0mresult\u001b[0m\u001b[0;34m)\u001b[0m\u001b[0;34m\u001b[0m\u001b[0;34m\u001b[0m\u001b[0m\n\u001b[0m",
      "\u001b[0;32m/tmp/ipykernel_23/3945130377.py\u001b[0m in \u001b[0;36mget_called_functions\u001b[0;34m(root, node, result)\u001b[0m\n\u001b[1;32m     10\u001b[0m \u001b[0;34m\u001b[0m\u001b[0m\n\u001b[1;32m     11\u001b[0m             \u001b[0mcurrent_param_list\u001b[0m \u001b[0;34m=\u001b[0m \u001b[0;34m[\u001b[0m\u001b[0;34m]\u001b[0m\u001b[0;34m\u001b[0m\u001b[0;34m\u001b[0m\u001b[0m\n\u001b[0;32m---> 12\u001b[0;31m             \u001b[0mget_function_params\u001b[0m\u001b[0;34m(\u001b[0m\u001b[0mroot\u001b[0m\u001b[0;34m,\u001b[0m \u001b[0mnode\u001b[0m\u001b[0;34m.\u001b[0m\u001b[0mspelling\u001b[0m\u001b[0;34m,\u001b[0m \u001b[0mcurrent_param_list\u001b[0m\u001b[0;34m)\u001b[0m\u001b[0;34m\u001b[0m\u001b[0;34m\u001b[0m\u001b[0m\n\u001b[0m\u001b[1;32m     13\u001b[0m             \u001b[0mcurrent_function\u001b[0m\u001b[0;34m[\u001b[0m\u001b[0;34m\"params\"\u001b[0m\u001b[0;34m]\u001b[0m \u001b[0;34m=\u001b[0m \u001b[0mcurrent_param_list\u001b[0m\u001b[0;34m\u001b[0m\u001b[0;34m\u001b[0m\u001b[0m\n\u001b[1;32m     14\u001b[0m \u001b[0;34m\u001b[0m\u001b[0m\n",
      "\u001b[0;32m/tmp/ipykernel_23/1211070124.py\u001b[0m in \u001b[0;36mget_function_params\u001b[0;34m(node, function_name, result)\u001b[0m\n\u001b[1;32m     11\u001b[0m \u001b[0;34m\u001b[0m\u001b[0m\n\u001b[1;32m     12\u001b[0m     \u001b[0;32mfor\u001b[0m \u001b[0mc\u001b[0m \u001b[0;32min\u001b[0m \u001b[0mnode\u001b[0m\u001b[0;34m.\u001b[0m\u001b[0mget_children\u001b[0m\u001b[0;34m(\u001b[0m\u001b[0;34m)\u001b[0m\u001b[0;34m:\u001b[0m\u001b[0;34m\u001b[0m\u001b[0;34m\u001b[0m\u001b[0m\n\u001b[0;32m---> 13\u001b[0;31m         \u001b[0mget_function_params\u001b[0m\u001b[0;34m(\u001b[0m\u001b[0mc\u001b[0m\u001b[0;34m,\u001b[0m \u001b[0mfunction_name\u001b[0m\u001b[0;34m,\u001b[0m \u001b[0mresult\u001b[0m\u001b[0;34m)\u001b[0m\u001b[0;34m\u001b[0m\u001b[0;34m\u001b[0m\u001b[0m\n\u001b[0m",
      "\u001b[0;32m/tmp/ipykernel_23/1211070124.py\u001b[0m in \u001b[0;36mget_function_params\u001b[0;34m(node, function_name, result)\u001b[0m\n\u001b[1;32m     11\u001b[0m \u001b[0;34m\u001b[0m\u001b[0m\n\u001b[1;32m     12\u001b[0m     \u001b[0;32mfor\u001b[0m \u001b[0mc\u001b[0m \u001b[0;32min\u001b[0m \u001b[0mnode\u001b[0m\u001b[0;34m.\u001b[0m\u001b[0mget_children\u001b[0m\u001b[0;34m(\u001b[0m\u001b[0;34m)\u001b[0m\u001b[0;34m:\u001b[0m\u001b[0;34m\u001b[0m\u001b[0;34m\u001b[0m\u001b[0m\n\u001b[0;32m---> 13\u001b[0;31m         \u001b[0mget_function_params\u001b[0m\u001b[0;34m(\u001b[0m\u001b[0mc\u001b[0m\u001b[0;34m,\u001b[0m \u001b[0mfunction_name\u001b[0m\u001b[0;34m,\u001b[0m \u001b[0mresult\u001b[0m\u001b[0;34m)\u001b[0m\u001b[0;34m\u001b[0m\u001b[0;34m\u001b[0m\u001b[0m\n\u001b[0m",
      "\u001b[0;32m/tmp/ipykernel_23/1211070124.py\u001b[0m in \u001b[0;36mget_function_params\u001b[0;34m(node, function_name, result)\u001b[0m\n\u001b[1;32m     10\u001b[0m         \u001b[0;32mpass\u001b[0m\u001b[0;34m\u001b[0m\u001b[0;34m\u001b[0m\u001b[0m\n\u001b[1;32m     11\u001b[0m \u001b[0;34m\u001b[0m\u001b[0m\n\u001b[0;32m---> 12\u001b[0;31m     \u001b[0;32mfor\u001b[0m \u001b[0mc\u001b[0m \u001b[0;32min\u001b[0m \u001b[0mnode\u001b[0m\u001b[0;34m.\u001b[0m\u001b[0mget_children\u001b[0m\u001b[0;34m(\u001b[0m\u001b[0;34m)\u001b[0m\u001b[0;34m:\u001b[0m\u001b[0;34m\u001b[0m\u001b[0;34m\u001b[0m\u001b[0m\n\u001b[0m\u001b[1;32m     13\u001b[0m         \u001b[0mget_function_params\u001b[0m\u001b[0;34m(\u001b[0m\u001b[0mc\u001b[0m\u001b[0;34m,\u001b[0m \u001b[0mfunction_name\u001b[0m\u001b[0;34m,\u001b[0m \u001b[0mresult\u001b[0m\u001b[0;34m)\u001b[0m\u001b[0;34m\u001b[0m\u001b[0;34m\u001b[0m\u001b[0m\n",
      "\u001b[0;32m/opt/conda/lib/python3.7/site-packages/clang/cindex.py\u001b[0m in \u001b[0;36mget_children\u001b[0;34m(self)\u001b[0m\n\u001b[1;32m   1780\u001b[0m             \u001b[0;32mreturn\u001b[0m \u001b[0;36m1\u001b[0m \u001b[0;31m# continue\u001b[0m\u001b[0;34m\u001b[0m\u001b[0;34m\u001b[0m\u001b[0m\n\u001b[1;32m   1781\u001b[0m         \u001b[0mchildren\u001b[0m \u001b[0;34m=\u001b[0m \u001b[0;34m[\u001b[0m\u001b[0;34m]\u001b[0m\u001b[0;34m\u001b[0m\u001b[0;34m\u001b[0m\u001b[0m\n\u001b[0;32m-> 1782\u001b[0;31m         conf.lib.clang_visitChildren(self, callbacks['cursor_visit'](visitor),\n\u001b[0m\u001b[1;32m   1783\u001b[0m             children)\n\u001b[1;32m   1784\u001b[0m         \u001b[0;32mreturn\u001b[0m \u001b[0miter\u001b[0m\u001b[0;34m(\u001b[0m\u001b[0mchildren\u001b[0m\u001b[0;34m)\u001b[0m\u001b[0;34m\u001b[0m\u001b[0;34m\u001b[0m\u001b[0m\n",
      "\u001b[0;31mKeyboardInterrupt\u001b[0m: "
     ]
    }
   ],
   "source": [
    "root_dir = '/kaggle/working/cleaned'\n",
    "\n",
    "generate_function_args_swap_dataset(root_dir)"
   ]
  },
  {
   "cell_type": "code",
   "execution_count": 80,
   "id": "c721b90e",
   "metadata": {
    "execution": {
     "iopub.execute_input": "2023-01-31T16:17:47.605596Z",
     "iopub.status.busy": "2023-01-31T16:17:47.605214Z",
     "iopub.status.idle": "2023-01-31T16:17:48.681231Z",
     "shell.execute_reply": "2023-01-31T16:17:48.679490Z",
     "shell.execute_reply.started": "2023-01-31T16:17:47.605561Z"
    }
   },
   "outputs": [],
   "source": [
    "# current_file"
   ]
  },
  {
   "cell_type": "code",
   "execution_count": null,
   "id": "78f99373",
   "metadata": {},
   "outputs": [],
   "source": []
  }
 ],
 "metadata": {
  "kernelspec": {
   "display_name": "Python 3 (ipykernel)",
   "language": "python",
   "name": "python3"
  },
  "language_info": {
   "codemirror_mode": {
    "name": "ipython",
    "version": 3
   },
   "file_extension": ".py",
   "mimetype": "text/x-python",
   "name": "python",
   "nbconvert_exporter": "python",
   "pygments_lexer": "ipython3",
   "version": "3.9.12"
  }
 },
 "nbformat": 4,
 "nbformat_minor": 5
}
