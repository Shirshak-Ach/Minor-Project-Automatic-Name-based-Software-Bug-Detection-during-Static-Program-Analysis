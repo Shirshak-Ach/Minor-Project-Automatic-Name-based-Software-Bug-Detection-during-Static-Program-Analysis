{
 "cells": [
  {
   "cell_type": "code",
   "execution_count": 1,
   "id": "5bfa9761",
   "metadata": {},
   "outputs": [],
   "source": [
    "from sklearn.cluster import KMeans\n",
    "import pandas as pd\n",
    "from matplotlib import pyplot as plt\n",
    "%matplotlib inline"
   ]
  },
  {
   "cell_type": "code",
   "execution_count": 2,
   "id": "9731315a",
   "metadata": {},
   "outputs": [],
   "source": [
    "df = pd.read_csv(\"filtered_data_train.csv\")"
   ]
  },
  {
   "cell_type": "code",
   "execution_count": 3,
   "id": "46d481c3",
   "metadata": {},
   "outputs": [
    {
     "data": {
      "text/html": [
       "<div>\n",
       "<style scoped>\n",
       "    .dataframe tbody tr th:only-of-type {\n",
       "        vertical-align: middle;\n",
       "    }\n",
       "\n",
       "    .dataframe tbody tr th {\n",
       "        vertical-align: top;\n",
       "    }\n",
       "\n",
       "    .dataframe thead th {\n",
       "        text-align: right;\n",
       "    }\n",
       "</style>\n",
       "<table border=\"1\" class=\"dataframe\">\n",
       "  <thead>\n",
       "    <tr style=\"text-align: right;\">\n",
       "      <th></th>\n",
       "      <th>buggy_code</th>\n",
       "      <th>correct_code</th>\n",
       "      <th>problem_id</th>\n",
       "      <th>buggy_code_submission_id</th>\n",
       "      <th>correct_code_submission_id</th>\n",
       "    </tr>\n",
       "  </thead>\n",
       "  <tbody>\n",
       "    <tr>\n",
       "      <th>0</th>\n",
       "      <td>c;main(r){for(;scanf(\"%d%d\",&amp;r,&amp;c),r;)puts(r&amp;c...</td>\n",
       "      <td>c;main(r){for(;scanf(\"%d%d\",&amp;r,&amp;c),r;)puts((r&amp;...</td>\n",
       "      <td>p00657</td>\n",
       "      <td>s362273130</td>\n",
       "      <td>s011867637</td>\n",
       "    </tr>\n",
       "    <tr>\n",
       "      <th>1</th>\n",
       "      <td>a[100],l,r,p,n;main(c){for(;l=scanf(\"%d\",&amp;r)*r...</td>\n",
       "      <td>a[100],l,r,p,n;main(c){for(;l=scanf(\"%d\",&amp;r)*r...</td>\n",
       "      <td>p00188</td>\n",
       "      <td>s446966487</td>\n",
       "      <td>s278308646</td>\n",
       "    </tr>\n",
       "    <tr>\n",
       "      <th>2</th>\n",
       "      <td>#include &lt;stdio.h&gt;\\nint main (void)\\n{\\nint a,...</td>\n",
       "      <td>#include &lt;stdio.h&gt;\\nint main (void)\\n{\\nint a,...</td>\n",
       "      <td>p00161</td>\n",
       "      <td>s570559021</td>\n",
       "      <td>s490040394</td>\n",
       "    </tr>\n",
       "    <tr>\n",
       "      <th>3</th>\n",
       "      <td>#include &lt;stdio.h&gt;\\n#include &lt;math.h&gt;\\n\\nchar ...</td>\n",
       "      <td>#include &lt;stdio.h&gt;\\n#include &lt;math.h&gt;\\n\\nchar ...</td>\n",
       "      <td>p00044</td>\n",
       "      <td>s367988925</td>\n",
       "      <td>s836296672</td>\n",
       "    </tr>\n",
       "    <tr>\n",
       "      <th>4</th>\n",
       "      <td>#include &lt;stdio.h&gt;\\nint main(void)\\n{\\n  int a...</td>\n",
       "      <td>#include &lt;stdio.h&gt;\\nint main(void)\\n{\\n  int a...</td>\n",
       "      <td>p02398</td>\n",
       "      <td>s272396205</td>\n",
       "      <td>s183587626</td>\n",
       "    </tr>\n",
       "  </tbody>\n",
       "</table>\n",
       "</div>"
      ],
      "text/plain": [
       "                                          buggy_code  \\\n",
       "0  c;main(r){for(;scanf(\"%d%d\",&r,&c),r;)puts(r&c...   \n",
       "1  a[100],l,r,p,n;main(c){for(;l=scanf(\"%d\",&r)*r...   \n",
       "2  #include <stdio.h>\\nint main (void)\\n{\\nint a,...   \n",
       "3  #include <stdio.h>\\n#include <math.h>\\n\\nchar ...   \n",
       "4  #include <stdio.h>\\nint main(void)\\n{\\n  int a...   \n",
       "\n",
       "                                        correct_code problem_id  \\\n",
       "0  c;main(r){for(;scanf(\"%d%d\",&r,&c),r;)puts((r&...     p00657   \n",
       "1  a[100],l,r,p,n;main(c){for(;l=scanf(\"%d\",&r)*r...     p00188   \n",
       "2  #include <stdio.h>\\nint main (void)\\n{\\nint a,...     p00161   \n",
       "3  #include <stdio.h>\\n#include <math.h>\\n\\nchar ...     p00044   \n",
       "4  #include <stdio.h>\\nint main(void)\\n{\\n  int a...     p02398   \n",
       "\n",
       "  buggy_code_submission_id correct_code_submission_id  \n",
       "0               s362273130                 s011867637  \n",
       "1               s446966487                 s278308646  \n",
       "2               s570559021                 s490040394  \n",
       "3               s367988925                 s836296672  \n",
       "4               s272396205                 s183587626  "
      ]
     },
     "execution_count": 3,
     "metadata": {},
     "output_type": "execute_result"
    }
   ],
   "source": [
    "df.head()"
   ]
  },
  {
   "cell_type": "code",
   "execution_count": 4,
   "id": "7d28e050",
   "metadata": {},
   "outputs": [],
   "source": [
    "df_correct_code = df.loc[2:3] "
   ]
  },
  {
   "cell_type": "code",
   "execution_count": 5,
   "id": "08c146d9",
   "metadata": {},
   "outputs": [
    {
     "data": {
      "text/html": [
       "<div>\n",
       "<style scoped>\n",
       "    .dataframe tbody tr th:only-of-type {\n",
       "        vertical-align: middle;\n",
       "    }\n",
       "\n",
       "    .dataframe tbody tr th {\n",
       "        vertical-align: top;\n",
       "    }\n",
       "\n",
       "    .dataframe thead th {\n",
       "        text-align: right;\n",
       "    }\n",
       "</style>\n",
       "<table border=\"1\" class=\"dataframe\">\n",
       "  <thead>\n",
       "    <tr style=\"text-align: right;\">\n",
       "      <th></th>\n",
       "      <th>buggy_code</th>\n",
       "      <th>correct_code</th>\n",
       "      <th>problem_id</th>\n",
       "      <th>buggy_code_submission_id</th>\n",
       "      <th>correct_code_submission_id</th>\n",
       "    </tr>\n",
       "  </thead>\n",
       "  <tbody>\n",
       "    <tr>\n",
       "      <th>2</th>\n",
       "      <td>#include &lt;stdio.h&gt;\\nint main (void)\\n{\\nint a,...</td>\n",
       "      <td>#include &lt;stdio.h&gt;\\nint main (void)\\n{\\nint a,...</td>\n",
       "      <td>p00161</td>\n",
       "      <td>s570559021</td>\n",
       "      <td>s490040394</td>\n",
       "    </tr>\n",
       "    <tr>\n",
       "      <th>3</th>\n",
       "      <td>#include &lt;stdio.h&gt;\\n#include &lt;math.h&gt;\\n\\nchar ...</td>\n",
       "      <td>#include &lt;stdio.h&gt;\\n#include &lt;math.h&gt;\\n\\nchar ...</td>\n",
       "      <td>p00044</td>\n",
       "      <td>s367988925</td>\n",
       "      <td>s836296672</td>\n",
       "    </tr>\n",
       "  </tbody>\n",
       "</table>\n",
       "</div>"
      ],
      "text/plain": [
       "                                          buggy_code  \\\n",
       "2  #include <stdio.h>\\nint main (void)\\n{\\nint a,...   \n",
       "3  #include <stdio.h>\\n#include <math.h>\\n\\nchar ...   \n",
       "\n",
       "                                        correct_code problem_id  \\\n",
       "2  #include <stdio.h>\\nint main (void)\\n{\\nint a,...     p00161   \n",
       "3  #include <stdio.h>\\n#include <math.h>\\n\\nchar ...     p00044   \n",
       "\n",
       "  buggy_code_submission_id correct_code_submission_id  \n",
       "2               s570559021                 s490040394  \n",
       "3               s367988925                 s836296672  "
      ]
     },
     "execution_count": 5,
     "metadata": {},
     "output_type": "execute_result"
    }
   ],
   "source": [
    "df_correct_code"
   ]
  },
  {
   "cell_type": "code",
   "execution_count": 6,
   "id": "7815b8ea",
   "metadata": {},
   "outputs": [
    {
     "data": {
      "text/html": [
       "<div>\n",
       "<style scoped>\n",
       "    .dataframe tbody tr th:only-of-type {\n",
       "        vertical-align: middle;\n",
       "    }\n",
       "\n",
       "    .dataframe tbody tr th {\n",
       "        vertical-align: top;\n",
       "    }\n",
       "\n",
       "    .dataframe thead th {\n",
       "        text-align: right;\n",
       "    }\n",
       "</style>\n",
       "<table border=\"1\" class=\"dataframe\">\n",
       "  <thead>\n",
       "    <tr style=\"text-align: right;\">\n",
       "      <th></th>\n",
       "      <th>buggy_code</th>\n",
       "      <th>correct_code</th>\n",
       "      <th>problem_id</th>\n",
       "      <th>buggy_code_submission_id</th>\n",
       "      <th>correct_code_submission_id</th>\n",
       "    </tr>\n",
       "  </thead>\n",
       "  <tbody>\n",
       "    <tr>\n",
       "      <th>count</th>\n",
       "      <td>3063</td>\n",
       "      <td>3063</td>\n",
       "      <td>3063</td>\n",
       "      <td>3063</td>\n",
       "      <td>3063</td>\n",
       "    </tr>\n",
       "    <tr>\n",
       "      <th>unique</th>\n",
       "      <td>3052</td>\n",
       "      <td>3044</td>\n",
       "      <td>620</td>\n",
       "      <td>3063</td>\n",
       "      <td>3063</td>\n",
       "    </tr>\n",
       "    <tr>\n",
       "      <th>top</th>\n",
       "      <td>N[]={ 6, 14, 18, 10,  2,  9, 22, 15,  1, 17, 2...</td>\n",
       "      <td>main(n){scanf(\"%d\",&amp;n);printf(\"%d\\n\",n*n*n);ex...</td>\n",
       "      <td>p02388</td>\n",
       "      <td>s362273130</td>\n",
       "      <td>s011867637</td>\n",
       "    </tr>\n",
       "    <tr>\n",
       "      <th>freq</th>\n",
       "      <td>2</td>\n",
       "      <td>3</td>\n",
       "      <td>103</td>\n",
       "      <td>1</td>\n",
       "      <td>1</td>\n",
       "    </tr>\n",
       "  </tbody>\n",
       "</table>\n",
       "</div>"
      ],
      "text/plain": [
       "                                               buggy_code  \\\n",
       "count                                                3063   \n",
       "unique                                               3052   \n",
       "top     N[]={ 6, 14, 18, 10,  2,  9, 22, 15,  1, 17, 2...   \n",
       "freq                                                    2   \n",
       "\n",
       "                                             correct_code problem_id  \\\n",
       "count                                                3063       3063   \n",
       "unique                                               3044        620   \n",
       "top     main(n){scanf(\"%d\",&n);printf(\"%d\\n\",n*n*n);ex...     p02388   \n",
       "freq                                                    3        103   \n",
       "\n",
       "       buggy_code_submission_id correct_code_submission_id  \n",
       "count                      3063                       3063  \n",
       "unique                     3063                       3063  \n",
       "top                  s362273130                 s011867637  \n",
       "freq                          1                          1  "
      ]
     },
     "execution_count": 6,
     "metadata": {},
     "output_type": "execute_result"
    }
   ],
   "source": [
    "df.describe()"
   ]
  },
  {
   "cell_type": "code",
   "execution_count": 7,
   "id": "f3db9f8f",
   "metadata": {},
   "outputs": [],
   "source": [
    "from bs4 import BeautifulSoup\n",
    "import glob"
   ]
  },
  {
   "cell_type": "code",
   "execution_count": 8,
   "id": "525e6a30",
   "metadata": {},
   "outputs": [],
   "source": [
    "desc_text = []"
   ]
  },
  {
   "cell_type": "code",
   "execution_count": 9,
   "id": "3fe286a7",
   "metadata": {},
   "outputs": [],
   "source": [
    "def filter_description(desc):\n",
    "    content = desc.split(\"\\nInput\\n\")[0]\n",
    "    content = \" \".join(content.split())\n",
    "    content = content.lower()\n",
    "    content = content.replace(\"write a program\", \"\")\n",
    "    return content"
   ]
  },
  {
   "cell_type": "code",
   "execution_count": 10,
   "id": "378bcc96",
   "metadata": {},
   "outputs": [],
   "source": [
    "# use glob to get a list of files that contain the HtML extension.\n",
    "for file in glob.glob(r\"D:\\defence_data\\Project_CodeNet\\problem_descriptions\\*.html\"):\n",
    "    with open(file,\"r\",encoding=\"utf8\") as f:\n",
    "        soup = BeautifulSoup(f,\"html.parser\")\n",
    "          # Extract the text from the HTML\n",
    "        text = soup.get_text()\n",
    "        desc_text.append(filter_description(text))"
   ]
  },
  {
   "cell_type": "code",
   "execution_count": 11,
   "id": "a7bd2764",
   "metadata": {},
   "outputs": [],
   "source": [
    "#desc_text"
   ]
  },
  {
   "cell_type": "code",
   "execution_count": null,
   "id": "1e69be3d",
   "metadata": {},
   "outputs": [],
   "source": []
  },
  {
   "cell_type": "code",
   "execution_count": 12,
   "id": "bf770f82",
   "metadata": {},
   "outputs": [],
   "source": [
    "# Create a DataFrame to store the text\n",
    "df = pd.DataFrame(desc_text, columns=[\"description\"])"
   ]
  },
  {
   "cell_type": "code",
   "execution_count": 13,
   "id": "2f175165",
   "metadata": {},
   "outputs": [
    {
     "data": {
      "text/html": [
       "<div>\n",
       "<style scoped>\n",
       "    .dataframe tbody tr th:only-of-type {\n",
       "        vertical-align: middle;\n",
       "    }\n",
       "\n",
       "    .dataframe tbody tr th {\n",
       "        vertical-align: top;\n",
       "    }\n",
       "\n",
       "    .dataframe thead th {\n",
       "        text-align: right;\n",
       "    }\n",
       "</style>\n",
       "<table border=\"1\" class=\"dataframe\">\n",
       "  <thead>\n",
       "    <tr style=\"text-align: right;\">\n",
       "      <th></th>\n",
       "      <th>description</th>\n",
       "    </tr>\n",
       "  </thead>\n",
       "  <tbody>\n",
       "    <tr>\n",
       "      <th>0</th>\n",
       "      <td>qq  which prints multiplication tables in the ...</td>\n",
       "    </tr>\n",
       "    <tr>\n",
       "      <th>1</th>\n",
       "      <td>list of top 3 hills there is a data which prov...</td>\n",
       "    </tr>\n",
       "    <tr>\n",
       "      <th>2</th>\n",
       "      <td>digit number  which computes the digit number ...</td>\n",
       "    </tr>\n",
       "    <tr>\n",
       "      <th>3</th>\n",
       "      <td>is it a right triangle?  which judges wheather...</td>\n",
       "    </tr>\n",
       "    <tr>\n",
       "      <th>4</th>\n",
       "      <td>simultaneous equation  which solve a simultane...</td>\n",
       "    </tr>\n",
       "  </tbody>\n",
       "</table>\n",
       "</div>"
      ],
      "text/plain": [
       "                                         description\n",
       "0  qq  which prints multiplication tables in the ...\n",
       "1  list of top 3 hills there is a data which prov...\n",
       "2  digit number  which computes the digit number ...\n",
       "3  is it a right triangle?  which judges wheather...\n",
       "4  simultaneous equation  which solve a simultane..."
      ]
     },
     "execution_count": 13,
     "metadata": {},
     "output_type": "execute_result"
    }
   ],
   "source": [
    "df.head()"
   ]
  },
  {
   "cell_type": "code",
   "execution_count": 14,
   "id": "55c38d03",
   "metadata": {},
   "outputs": [
    {
     "data": {
      "text/plain": [
       "'qq which prints multiplication tables in the following format: 1x1=1 1x2=2 . . 9x8=72 9x9=81'"
      ]
     },
     "execution_count": 14,
     "metadata": {},
     "output_type": "execute_result"
    }
   ],
   "source": [
    "filter_description(df.description[0])"
   ]
  },
  {
   "cell_type": "code",
   "execution_count": 15,
   "id": "975c9920",
   "metadata": {},
   "outputs": [
    {
     "data": {
      "text/plain": [
       "(3999, 1)"
      ]
     },
     "execution_count": 15,
     "metadata": {},
     "output_type": "execute_result"
    }
   ],
   "source": [
    "df.shape"
   ]
  },
  {
   "cell_type": "code",
   "execution_count": 16,
   "id": "4010e49d",
   "metadata": {},
   "outputs": [],
   "source": [
    "import re\n",
    "# Remove numbers from text\n",
    "df['description'] = df['description'].apply(lambda x: re.sub(r'\\d+', '', x))"
   ]
  },
  {
   "cell_type": "code",
   "execution_count": 17,
   "id": "798f591f",
   "metadata": {},
   "outputs": [],
   "source": [
    "df['description'] = df['description'].apply(lambda x: re.sub(r'[\\d+\\+\\-\\*\\/]+', '', x))"
   ]
  },
  {
   "cell_type": "code",
   "execution_count": 18,
   "id": "221f5da7",
   "metadata": {},
   "outputs": [],
   "source": [
    "df['description'] = df['description'].str.replace('=', '', regex=True)"
   ]
  },
  {
   "cell_type": "code",
   "execution_count": 19,
   "id": "b33958a2",
   "metadata": {},
   "outputs": [
    {
     "data": {
      "text/plain": [
       "'qq  which prints multiplication tables in the following format: x x . . x x'"
      ]
     },
     "execution_count": 19,
     "metadata": {},
     "output_type": "execute_result"
    }
   ],
   "source": [
    "df['description'][0]"
   ]
  },
  {
   "cell_type": "code",
   "execution_count": 20,
   "id": "1b07d062",
   "metadata": {},
   "outputs": [],
   "source": [
    "new_df = pd.DataFrame()"
   ]
  },
  {
   "cell_type": "code",
   "execution_count": 21,
   "id": "b69b3a97",
   "metadata": {},
   "outputs": [],
   "source": [
    "new_df = df[df['description'].map( lambda x : x.isascii())]"
   ]
  },
  {
   "cell_type": "code",
   "execution_count": 22,
   "id": "d117400a",
   "metadata": {},
   "outputs": [
    {
     "data": {
      "text/plain": [
       "(3999, 1)"
      ]
     },
     "execution_count": 22,
     "metadata": {},
     "output_type": "execute_result"
    }
   ],
   "source": [
    "df.shape"
   ]
  },
  {
   "cell_type": "code",
   "execution_count": 23,
   "id": "f6bf75ac",
   "metadata": {},
   "outputs": [
    {
     "data": {
      "text/plain": [
       "(1869, 1)"
      ]
     },
     "execution_count": 23,
     "metadata": {},
     "output_type": "execute_result"
    }
   ],
   "source": [
    "new_df.shape"
   ]
  },
  {
   "cell_type": "code",
   "execution_count": 24,
   "id": "431534ae",
   "metadata": {},
   "outputs": [
    {
     "name": "stderr",
     "output_type": "stream",
     "text": [
      "C:\\Users\\Hp\\anaconda3\\lib\\site-packages\\tqdm\\auto.py:22: TqdmWarning: IProgress not found. Please update jupyter and ipywidgets. See https://ipywidgets.readthedocs.io/en/stable/user_install.html\n",
      "  from .autonotebook import tqdm as notebook_tqdm\n"
     ]
    }
   ],
   "source": [
    "import spacy"
   ]
  },
  {
   "cell_type": "code",
   "execution_count": 25,
   "id": "c637c617",
   "metadata": {},
   "outputs": [],
   "source": [
    "spacy__ = spacy.load(\"en_core_web_sm\")\n",
    "stop_words = spacy__.Defaults.stop_words\n",
    "#print(stop_words)"
   ]
  },
  {
   "cell_type": "code",
   "execution_count": 26,
   "id": "315b7aaa",
   "metadata": {},
   "outputs": [
    {
     "data": {
      "text/plain": [
       "'!\"#$%&\\'()*+,-./:;<=>?@[\\\\]^_`{|}~'"
      ]
     },
     "execution_count": 26,
     "metadata": {},
     "output_type": "execute_result"
    }
   ],
   "source": [
    "import string\n",
    "punctuations = string.punctuation\n",
    "punctuations"
   ]
  },
  {
   "cell_type": "code",
   "execution_count": 27,
   "id": "efc1ca6f",
   "metadata": {},
   "outputs": [],
   "source": [
    "# creating our tokenizer function \n",
    "def spacy_tokenizer(sentence):\n",
    "    # creating our token object which is used to create documents with linguistic annotations \n",
    "    doc = spacy__(sentence)\n",
    "    # lemmatizing each token and converting it into lowercase \n",
    "    my_token = [word.lemma_.lower().strip() for word in doc]     # strip is used to remove the space in between \n",
    "    #print(my_token)\n",
    "    \n",
    "    # removing stop words \n",
    "    final_tokens = [word for word in my_token if word not in stop_words and word not in punctuations]\n",
    "    #print(final_tokens)\n",
    "    return final_tokens"
   ]
  },
  {
   "cell_type": "code",
   "execution_count": 28,
   "id": "dd9d21fe",
   "metadata": {},
   "outputs": [
    {
     "name": "stderr",
     "output_type": "stream",
     "text": [
      "C:\\Users\\Hp\\AppData\\Local\\Temp\\ipykernel_15516\\3515898356.py:1: SettingWithCopyWarning: \n",
      "A value is trying to be set on a copy of a slice from a DataFrame.\n",
      "Try using .loc[row_indexer,col_indexer] = value instead\n",
      "\n",
      "See the caveats in the documentation: https://pandas.pydata.org/pandas-docs/stable/user_guide/indexing.html#returning-a-view-versus-a-copy\n",
      "  new_df['tokens'] = 0\n"
     ]
    }
   ],
   "source": [
    "new_df['tokens'] = 0"
   ]
  },
  {
   "cell_type": "code",
   "execution_count": 29,
   "id": "099cca6e",
   "metadata": {},
   "outputs": [
    {
     "data": {
      "text/plain": [
       "description  tokens\n",
       "False        False     1869\n",
       "dtype: int64"
      ]
     },
     "execution_count": 29,
     "metadata": {},
     "output_type": "execute_result"
    }
   ],
   "source": [
    "new_df.isnull().value_counts()"
   ]
  },
  {
   "cell_type": "code",
   "execution_count": null,
   "id": "493edb72",
   "metadata": {},
   "outputs": [],
   "source": []
  },
  {
   "cell_type": "code",
   "execution_count": 30,
   "id": "eeb51a51",
   "metadata": {},
   "outputs": [
    {
     "data": {
      "text/plain": [
       "'qq  which prints multiplication tables in the following format: x x . . x x'"
      ]
     },
     "execution_count": 30,
     "metadata": {},
     "output_type": "execute_result"
    }
   ],
   "source": [
    "new_df['description'][0]"
   ]
  },
  {
   "cell_type": "code",
   "execution_count": null,
   "id": "cb09540e",
   "metadata": {},
   "outputs": [],
   "source": []
  },
  {
   "cell_type": "code",
   "execution_count": 31,
   "id": "0015aa29",
   "metadata": {},
   "outputs": [
    {
     "name": "stderr",
     "output_type": "stream",
     "text": [
      "C:\\Users\\Hp\\AppData\\Local\\Temp\\ipykernel_15516\\3449493323.py:1: SettingWithCopyWarning: \n",
      "A value is trying to be set on a copy of a slice from a DataFrame.\n",
      "Try using .loc[row_indexer,col_indexer] = value instead\n",
      "\n",
      "See the caveats in the documentation: https://pandas.pydata.org/pandas-docs/stable/user_guide/indexing.html#returning-a-view-versus-a-copy\n",
      "  new_df['tokens'] = new_df['description'].apply(spacy_tokenizer)\n"
     ]
    }
   ],
   "source": [
    "new_df['tokens'] = new_df['description'].apply(spacy_tokenizer)"
   ]
  },
  {
   "cell_type": "code",
   "execution_count": 32,
   "id": "a86725d7",
   "metadata": {},
   "outputs": [
    {
     "data": {
      "text/plain": [
       "['qq',\n",
       " 'print',\n",
       " 'multiplication',\n",
       " 'table',\n",
       " 'follow',\n",
       " 'format',\n",
       " 'x',\n",
       " 'x',\n",
       " 'x',\n",
       " 'x']"
      ]
     },
     "execution_count": 32,
     "metadata": {},
     "output_type": "execute_result"
    }
   ],
   "source": [
    "new_df['tokens'][0]"
   ]
  },
  {
   "cell_type": "code",
   "execution_count": 33,
   "id": "cf2b29b4",
   "metadata": {},
   "outputs": [
    {
     "data": {
      "text/plain": [
       "{'data',\n",
       " 'datum',\n",
       " 'descend',\n",
       " 'height',\n",
       " 'hill',\n",
       " 'list',\n",
       " 'meter',\n",
       " 'mountain',\n",
       " 'order',\n",
       " 'print',\n",
       " 'provide'}"
      ]
     },
     "execution_count": 33,
     "metadata": {},
     "output_type": "execute_result"
    }
   ],
   "source": [
    "set(new_df['tokens'][1])"
   ]
  },
  {
   "cell_type": "code",
   "execution_count": null,
   "id": "4d506a1c",
   "metadata": {},
   "outputs": [],
   "source": []
  },
  {
   "cell_type": "code",
   "execution_count": 34,
   "id": "3b0c1df6",
   "metadata": {},
   "outputs": [
    {
     "data": {
      "text/plain": [
       "2"
      ]
     },
     "execution_count": 34,
     "metadata": {},
     "output_type": "execute_result"
    }
   ],
   "source": [
    "len(new_df['tokens'][0][0])"
   ]
  },
  {
   "cell_type": "code",
   "execution_count": null,
   "id": "590737ca",
   "metadata": {},
   "outputs": [],
   "source": []
  },
  {
   "cell_type": "code",
   "execution_count": 35,
   "id": "58a67bb4",
   "metadata": {},
   "outputs": [],
   "source": [
    "def filter_array(word_array):\n",
    "    filtered_list = []\n",
    "    for element in word_array:\n",
    "        if(len(element)>=3):\n",
    "            filtered_list.append(element)\n",
    "    return filtered_list"
   ]
  },
  {
   "cell_type": "code",
   "execution_count": 36,
   "id": "c7259b60",
   "metadata": {},
   "outputs": [
    {
     "name": "stderr",
     "output_type": "stream",
     "text": [
      "C:\\Users\\Hp\\AppData\\Local\\Temp\\ipykernel_15516\\646937507.py:1: SettingWithCopyWarning: \n",
      "A value is trying to be set on a copy of a slice from a DataFrame.\n",
      "Try using .loc[row_indexer,col_indexer] = value instead\n",
      "\n",
      "See the caveats in the documentation: https://pandas.pydata.org/pandas-docs/stable/user_guide/indexing.html#returning-a-view-versus-a-copy\n",
      "  new_df['tokens'] = new_df['tokens'].apply(lambda word_array: filter_array(word_array))\n"
     ]
    }
   ],
   "source": [
    "new_df['tokens'] = new_df['tokens'].apply(lambda word_array: filter_array(word_array))"
   ]
  },
  {
   "cell_type": "code",
   "execution_count": 37,
   "id": "dd0c62b3",
   "metadata": {},
   "outputs": [
    {
     "data": {
      "text/plain": [
       "['print', 'multiplication', 'table', 'follow', 'format']"
      ]
     },
     "execution_count": 37,
     "metadata": {},
     "output_type": "execute_result"
    }
   ],
   "source": [
    "new_df['tokens'][64]"
   ]
  },
  {
   "cell_type": "code",
   "execution_count": 38,
   "id": "caf85820",
   "metadata": {},
   "outputs": [
    {
     "data": {
      "text/plain": [
       "(1869, 2)"
      ]
     },
     "execution_count": 38,
     "metadata": {},
     "output_type": "execute_result"
    }
   ],
   "source": [
    "new_df.shape"
   ]
  },
  {
   "cell_type": "code",
   "execution_count": 39,
   "id": "018dadb8",
   "metadata": {},
   "outputs": [],
   "source": [
    "new_df = new_df.reset_index(drop=True, inplace=True)"
   ]
  },
  {
   "cell_type": "code",
   "execution_count": null,
   "id": "7b28ed43",
   "metadata": {},
   "outputs": [],
   "source": []
  },
  {
   "cell_type": "code",
   "execution_count": 40,
   "id": "8df1315a",
   "metadata": {},
   "outputs": [
    {
     "ename": "SyntaxError",
     "evalue": "invalid syntax (3592329139.py, line 1)",
     "output_type": "error",
     "traceback": [
      "\u001b[1;36m  Input \u001b[1;32mIn [40]\u001b[1;36m\u001b[0m\n\u001b[1;33m    new_df['tokens'] = \"\".join(for i in new_df['tokens'])\u001b[0m\n\u001b[1;37m                               ^\u001b[0m\n\u001b[1;31mSyntaxError\u001b[0m\u001b[1;31m:\u001b[0m invalid syntax\n"
     ]
    }
   ],
   "source": [
    "new_df['tokens'] = \"\".join(for i in new_df['tokens'])"
   ]
  },
  {
   "cell_type": "code",
   "execution_count": null,
   "id": "9f449acb",
   "metadata": {},
   "outputs": [],
   "source": [
    "import gensim\n",
    "description_text = new_df['tokens'].apply(gensim.utils.simple_preprocess)"
   ]
  },
  {
   "cell_type": "code",
   "execution_count": null,
   "id": "f7c67193",
   "metadata": {},
   "outputs": [],
   "source": [
    "vectors = [model.wv.get_vector(word) for word in description_text[0]]"
   ]
  },
  {
   "cell_type": "code",
   "execution_count": null,
   "id": "0732f253",
   "metadata": {},
   "outputs": [],
   "source": [
    "print(description_text)"
   ]
  },
  {
   "cell_type": "code",
   "execution_count": null,
   "id": "98cf4c68",
   "metadata": {},
   "outputs": [],
   "source": [
    "from gensim.models import Word2Vec\n",
    "\n",
    "model =  gensim.models.Word2Vec(\n",
    "\n",
    "    window = 10,\n",
    "    min_count = 1,\n",
    "    workers = 4\n",
    "\n",
    ")"
   ]
  },
  {
   "cell_type": "code",
   "execution_count": null,
   "id": "a3d65916",
   "metadata": {},
   "outputs": [],
   "source": [
    "model.corpus_count"
   ]
  },
  {
   "cell_type": "code",
   "execution_count": null,
   "id": "3c5f0084",
   "metadata": {},
   "outputs": [],
   "source": [
    "print(model)"
   ]
  },
  {
   "cell_type": "code",
   "execution_count": null,
   "id": "ccc44f0d",
   "metadata": {},
   "outputs": [],
   "source": [
    "from gensim.models import Word2Vec\n",
    "\n",
    "# Define the corpus of text data\n",
    "sentences = [['this', 'is', 'the', 'first', 'sentence'],\n",
    "             ['this', 'is', 'the', 'second', 'sentence'],\n",
    "             ['yet', 'another', 'sentence'],\n",
    "             ['one', 'more', 'sentence'],\n",
    "             ['and', 'the', 'final', 'sentence']]\n",
    "\n",
    "# Train the model\n",
    "model = Word2Vec(sentences, min_count=1)\n",
    "\n",
    "# Access the embeddings\n",
    "print(model['sentence'])"
   ]
  },
  {
   "cell_type": "code",
   "execution_count": null,
   "id": "9adc1b21",
   "metadata": {},
   "outputs": [],
   "source": []
  }
 ],
 "metadata": {
  "kernelspec": {
   "display_name": "Python 3 (ipykernel)",
   "language": "python",
   "name": "python3"
  },
  "language_info": {
   "codemirror_mode": {
    "name": "ipython",
    "version": 3
   },
   "file_extension": ".py",
   "mimetype": "text/x-python",
   "name": "python",
   "nbconvert_exporter": "python",
   "pygments_lexer": "ipython3",
   "version": "3.9.12"
  }
 },
 "nbformat": 4,
 "nbformat_minor": 5
}
