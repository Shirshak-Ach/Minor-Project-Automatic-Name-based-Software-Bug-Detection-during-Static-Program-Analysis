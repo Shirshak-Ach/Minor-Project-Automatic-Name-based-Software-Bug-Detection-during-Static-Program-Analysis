{
 "cells": [
  {
   "cell_type": "code",
   "execution_count": null,
   "metadata": {
    "colab": {
     "base_uri": "https://localhost:8080/"
    },
    "id": "HmqYYCNM_0wY",
    "outputId": "e8121381-dcd6-403c-ceb6-4cdae2d9aea0"
   },
   "outputs": [
    {
     "name": "stdout",
     "output_type": "stream",
     "text": [
      "Looking in indexes: https://pypi.org/simple, https://us-python.pkg.dev/colab-wheels/public/simple/\n",
      "Requirement already satisfied: tensorflow_datasets in /usr/local/lib/python3.8/dist-packages (4.6.0)\n",
      "Requirement already satisfied: numpy in /usr/local/lib/python3.8/dist-packages (from tensorflow_datasets) (1.21.6)\n",
      "Requirement already satisfied: protobuf>=3.12.2 in /usr/local/lib/python3.8/dist-packages (from tensorflow_datasets) (3.19.6)\n",
      "Requirement already satisfied: etils[epath] in /usr/local/lib/python3.8/dist-packages (from tensorflow_datasets) (0.9.0)\n",
      "Requirement already satisfied: tensorflow-metadata in /usr/local/lib/python3.8/dist-packages (from tensorflow_datasets) (1.12.0)\n",
      "Requirement already satisfied: promise in /usr/local/lib/python3.8/dist-packages (from tensorflow_datasets) (2.3)\n",
      "Requirement already satisfied: requests>=2.19.0 in /usr/local/lib/python3.8/dist-packages (from tensorflow_datasets) (2.23.0)\n",
      "Requirement already satisfied: dill in /usr/local/lib/python3.8/dist-packages (from tensorflow_datasets) (0.3.6)\n",
      "Requirement already satisfied: six in /usr/local/lib/python3.8/dist-packages (from tensorflow_datasets) (1.15.0)\n",
      "Requirement already satisfied: importlib-resources in /usr/local/lib/python3.8/dist-packages (from tensorflow_datasets) (5.10.1)\n",
      "Requirement already satisfied: tqdm in /usr/local/lib/python3.8/dist-packages (from tensorflow_datasets) (4.64.1)\n",
      "Requirement already satisfied: termcolor in /usr/local/lib/python3.8/dist-packages (from tensorflow_datasets) (2.1.1)\n",
      "Requirement already satisfied: absl-py in /usr/local/lib/python3.8/dist-packages (from tensorflow_datasets) (1.3.0)\n",
      "Requirement already satisfied: toml in /usr/local/lib/python3.8/dist-packages (from tensorflow_datasets) (0.10.2)\n",
      "Requirement already satisfied: idna<3,>=2.5 in /usr/local/lib/python3.8/dist-packages (from requests>=2.19.0->tensorflow_datasets) (2.10)\n",
      "Requirement already satisfied: certifi>=2017.4.17 in /usr/local/lib/python3.8/dist-packages (from requests>=2.19.0->tensorflow_datasets) (2022.12.7)\n",
      "Requirement already satisfied: urllib3!=1.25.0,!=1.25.1,<1.26,>=1.21.1 in /usr/local/lib/python3.8/dist-packages (from requests>=2.19.0->tensorflow_datasets) (1.24.3)\n",
      "Requirement already satisfied: chardet<4,>=3.0.2 in /usr/local/lib/python3.8/dist-packages (from requests>=2.19.0->tensorflow_datasets) (3.0.4)\n",
      "Requirement already satisfied: zipp in /usr/local/lib/python3.8/dist-packages (from etils[epath]->tensorflow_datasets) (3.11.0)\n",
      "Requirement already satisfied: typing_extensions in /usr/local/lib/python3.8/dist-packages (from etils[epath]->tensorflow_datasets) (4.4.0)\n",
      "Requirement already satisfied: googleapis-common-protos<2,>=1.52.0 in /usr/local/lib/python3.8/dist-packages (from tensorflow-metadata->tensorflow_datasets) (1.57.0)\n",
      "Looking in indexes: https://pypi.org/simple, https://us-python.pkg.dev/colab-wheels/public/simple/\n",
      "Collecting tensorflow-text\n",
      "  Downloading tensorflow_text-2.11.0-cp38-cp38-manylinux_2_17_x86_64.manylinux2014_x86_64.whl (5.8 MB)\n",
      "\u001b[K     |████████████████████████████████| 5.8 MB 22.4 MB/s \n",
      "\u001b[?25hRequirement already satisfied: tensorflow-hub>=0.8.0 in /usr/local/lib/python3.8/dist-packages (from tensorflow-text) (0.12.0)\n",
      "Collecting tensorflow<2.12,>=2.11.0\n",
      "  Downloading tensorflow-2.11.0-cp38-cp38-manylinux_2_17_x86_64.manylinux2014_x86_64.whl (588.3 MB)\n",
      "\u001b[K     |████████████████████████████████| 588.3 MB 16 kB/s \n",
      "\u001b[?25hRequirement already satisfied: protobuf<3.20,>=3.9.2 in /usr/local/lib/python3.8/dist-packages (from tensorflow<2.12,>=2.11.0->tensorflow-text) (3.19.6)\n",
      "Requirement already satisfied: astunparse>=1.6.0 in /usr/local/lib/python3.8/dist-packages (from tensorflow<2.12,>=2.11.0->tensorflow-text) (1.6.3)\n",
      "Collecting keras<2.12,>=2.11.0\n",
      "  Downloading keras-2.11.0-py2.py3-none-any.whl (1.7 MB)\n",
      "\u001b[K     |████████████████████████████████| 1.7 MB 51.0 MB/s \n",
      "\u001b[?25hRequirement already satisfied: numpy>=1.20 in /usr/local/lib/python3.8/dist-packages (from tensorflow<2.12,>=2.11.0->tensorflow-text) (1.21.6)\n",
      "Requirement already satisfied: packaging in /usr/local/lib/python3.8/dist-packages (from tensorflow<2.12,>=2.11.0->tensorflow-text) (21.3)\n",
      "Collecting flatbuffers>=2.0\n",
      "  Downloading flatbuffers-22.12.6-py2.py3-none-any.whl (26 kB)\n",
      "Requirement already satisfied: termcolor>=1.1.0 in /usr/local/lib/python3.8/dist-packages (from tensorflow<2.12,>=2.11.0->tensorflow-text) (2.1.1)\n",
      "Requirement already satisfied: absl-py>=1.0.0 in /usr/local/lib/python3.8/dist-packages (from tensorflow<2.12,>=2.11.0->tensorflow-text) (1.3.0)\n",
      "Requirement already satisfied: gast<=0.4.0,>=0.2.1 in /usr/local/lib/python3.8/dist-packages (from tensorflow<2.12,>=2.11.0->tensorflow-text) (0.4.0)\n",
      "Requirement already satisfied: setuptools in /usr/local/lib/python3.8/dist-packages (from tensorflow<2.12,>=2.11.0->tensorflow-text) (57.4.0)\n",
      "Requirement already satisfied: h5py>=2.9.0 in /usr/local/lib/python3.8/dist-packages (from tensorflow<2.12,>=2.11.0->tensorflow-text) (3.1.0)\n",
      "Collecting tensorflow-estimator<2.12,>=2.11.0\n",
      "  Downloading tensorflow_estimator-2.11.0-py2.py3-none-any.whl (439 kB)\n",
      "\u001b[K     |████████████████████████████████| 439 kB 61.6 MB/s \n",
      "\u001b[?25hRequirement already satisfied: wrapt>=1.11.0 in /usr/local/lib/python3.8/dist-packages (from tensorflow<2.12,>=2.11.0->tensorflow-text) (1.14.1)\n",
      "Requirement already satisfied: libclang>=13.0.0 in /usr/local/lib/python3.8/dist-packages (from tensorflow<2.12,>=2.11.0->tensorflow-text) (14.0.6)\n",
      "Requirement already satisfied: opt-einsum>=2.3.2 in /usr/local/lib/python3.8/dist-packages (from tensorflow<2.12,>=2.11.0->tensorflow-text) (3.3.0)\n",
      "Requirement already satisfied: six>=1.12.0 in /usr/local/lib/python3.8/dist-packages (from tensorflow<2.12,>=2.11.0->tensorflow-text) (1.15.0)\n",
      "Requirement already satisfied: grpcio<2.0,>=1.24.3 in /usr/local/lib/python3.8/dist-packages (from tensorflow<2.12,>=2.11.0->tensorflow-text) (1.51.1)\n",
      "Requirement already satisfied: typing-extensions>=3.6.6 in /usr/local/lib/python3.8/dist-packages (from tensorflow<2.12,>=2.11.0->tensorflow-text) (4.4.0)\n",
      "Requirement already satisfied: google-pasta>=0.1.1 in /usr/local/lib/python3.8/dist-packages (from tensorflow<2.12,>=2.11.0->tensorflow-text) (0.2.0)\n",
      "Requirement already satisfied: tensorflow-io-gcs-filesystem>=0.23.1 in /usr/local/lib/python3.8/dist-packages (from tensorflow<2.12,>=2.11.0->tensorflow-text) (0.28.0)\n",
      "Collecting tensorboard<2.12,>=2.11\n",
      "  Downloading tensorboard-2.11.0-py3-none-any.whl (6.0 MB)\n",
      "\u001b[K     |████████████████████████████████| 6.0 MB 45.4 MB/s \n",
      "\u001b[?25hRequirement already satisfied: wheel<1.0,>=0.23.0 in /usr/local/lib/python3.8/dist-packages (from astunparse>=1.6.0->tensorflow<2.12,>=2.11.0->tensorflow-text) (0.38.4)\n",
      "Requirement already satisfied: tensorboard-data-server<0.7.0,>=0.6.0 in /usr/local/lib/python3.8/dist-packages (from tensorboard<2.12,>=2.11->tensorflow<2.12,>=2.11.0->tensorflow-text) (0.6.1)\n",
      "Requirement already satisfied: markdown>=2.6.8 in /usr/local/lib/python3.8/dist-packages (from tensorboard<2.12,>=2.11->tensorflow<2.12,>=2.11.0->tensorflow-text) (3.4.1)\n",
      "Requirement already satisfied: requests<3,>=2.21.0 in /usr/local/lib/python3.8/dist-packages (from tensorboard<2.12,>=2.11->tensorflow<2.12,>=2.11.0->tensorflow-text) (2.23.0)\n",
      "Requirement already satisfied: google-auth-oauthlib<0.5,>=0.4.1 in /usr/local/lib/python3.8/dist-packages (from tensorboard<2.12,>=2.11->tensorflow<2.12,>=2.11.0->tensorflow-text) (0.4.6)\n",
      "Requirement already satisfied: werkzeug>=1.0.1 in /usr/local/lib/python3.8/dist-packages (from tensorboard<2.12,>=2.11->tensorflow<2.12,>=2.11.0->tensorflow-text) (1.0.1)\n",
      "Requirement already satisfied: google-auth<3,>=1.6.3 in /usr/local/lib/python3.8/dist-packages (from tensorboard<2.12,>=2.11->tensorflow<2.12,>=2.11.0->tensorflow-text) (2.15.0)\n",
      "Requirement already satisfied: tensorboard-plugin-wit>=1.6.0 in /usr/local/lib/python3.8/dist-packages (from tensorboard<2.12,>=2.11->tensorflow<2.12,>=2.11.0->tensorflow-text) (1.8.1)\n",
      "Requirement already satisfied: cachetools<6.0,>=2.0.0 in /usr/local/lib/python3.8/dist-packages (from google-auth<3,>=1.6.3->tensorboard<2.12,>=2.11->tensorflow<2.12,>=2.11.0->tensorflow-text) (5.2.0)\n",
      "Requirement already satisfied: pyasn1-modules>=0.2.1 in /usr/local/lib/python3.8/dist-packages (from google-auth<3,>=1.6.3->tensorboard<2.12,>=2.11->tensorflow<2.12,>=2.11.0->tensorflow-text) (0.2.8)\n",
      "Requirement already satisfied: rsa<5,>=3.1.4 in /usr/local/lib/python3.8/dist-packages (from google-auth<3,>=1.6.3->tensorboard<2.12,>=2.11->tensorflow<2.12,>=2.11.0->tensorflow-text) (4.9)\n",
      "Requirement already satisfied: requests-oauthlib>=0.7.0 in /usr/local/lib/python3.8/dist-packages (from google-auth-oauthlib<0.5,>=0.4.1->tensorboard<2.12,>=2.11->tensorflow<2.12,>=2.11.0->tensorflow-text) (1.3.1)\n",
      "Requirement already satisfied: importlib-metadata>=4.4 in /usr/local/lib/python3.8/dist-packages (from markdown>=2.6.8->tensorboard<2.12,>=2.11->tensorflow<2.12,>=2.11.0->tensorflow-text) (5.1.0)\n",
      "Requirement already satisfied: zipp>=0.5 in /usr/local/lib/python3.8/dist-packages (from importlib-metadata>=4.4->markdown>=2.6.8->tensorboard<2.12,>=2.11->tensorflow<2.12,>=2.11.0->tensorflow-text) (3.11.0)\n",
      "Requirement already satisfied: pyasn1<0.5.0,>=0.4.6 in /usr/local/lib/python3.8/dist-packages (from pyasn1-modules>=0.2.1->google-auth<3,>=1.6.3->tensorboard<2.12,>=2.11->tensorflow<2.12,>=2.11.0->tensorflow-text) (0.4.8)\n",
      "Requirement already satisfied: chardet<4,>=3.0.2 in /usr/local/lib/python3.8/dist-packages (from requests<3,>=2.21.0->tensorboard<2.12,>=2.11->tensorflow<2.12,>=2.11.0->tensorflow-text) (3.0.4)\n",
      "Requirement already satisfied: certifi>=2017.4.17 in /usr/local/lib/python3.8/dist-packages (from requests<3,>=2.21.0->tensorboard<2.12,>=2.11->tensorflow<2.12,>=2.11.0->tensorflow-text) (2022.12.7)\n",
      "Requirement already satisfied: urllib3!=1.25.0,!=1.25.1,<1.26,>=1.21.1 in /usr/local/lib/python3.8/dist-packages (from requests<3,>=2.21.0->tensorboard<2.12,>=2.11->tensorflow<2.12,>=2.11.0->tensorflow-text) (1.24.3)\n",
      "Requirement already satisfied: idna<3,>=2.5 in /usr/local/lib/python3.8/dist-packages (from requests<3,>=2.21.0->tensorboard<2.12,>=2.11->tensorflow<2.12,>=2.11.0->tensorflow-text) (2.10)\n",
      "Requirement already satisfied: oauthlib>=3.0.0 in /usr/local/lib/python3.8/dist-packages (from requests-oauthlib>=0.7.0->google-auth-oauthlib<0.5,>=0.4.1->tensorboard<2.12,>=2.11->tensorflow<2.12,>=2.11.0->tensorflow-text) (3.2.2)\n",
      "Requirement already satisfied: pyparsing!=3.0.5,>=2.0.2 in /usr/local/lib/python3.8/dist-packages (from packaging->tensorflow<2.12,>=2.11.0->tensorflow-text) (3.0.9)\n",
      "Installing collected packages: tensorflow-estimator, tensorboard, keras, flatbuffers, tensorflow, tensorflow-text\n",
      "  Attempting uninstall: tensorflow-estimator\n",
      "    Found existing installation: tensorflow-estimator 2.9.0\n",
      "    Uninstalling tensorflow-estimator-2.9.0:\n",
      "      Successfully uninstalled tensorflow-estimator-2.9.0\n",
      "  Attempting uninstall: tensorboard\n",
      "    Found existing installation: tensorboard 2.9.1\n",
      "    Uninstalling tensorboard-2.9.1:\n",
      "      Successfully uninstalled tensorboard-2.9.1\n",
      "  Attempting uninstall: keras\n",
      "    Found existing installation: keras 2.9.0\n",
      "    Uninstalling keras-2.9.0:\n",
      "      Successfully uninstalled keras-2.9.0\n",
      "  Attempting uninstall: flatbuffers\n",
      "    Found existing installation: flatbuffers 1.12\n",
      "    Uninstalling flatbuffers-1.12:\n",
      "      Successfully uninstalled flatbuffers-1.12\n",
      "  Attempting uninstall: tensorflow\n",
      "    Found existing installation: tensorflow 2.9.2\n",
      "    Uninstalling tensorflow-2.9.2:\n",
      "      Successfully uninstalled tensorflow-2.9.2\n",
      "Successfully installed flatbuffers-22.12.6 keras-2.11.0 tensorboard-2.11.0 tensorflow-2.11.0 tensorflow-estimator-2.11.0 tensorflow-text-2.11.0\n"
     ]
    }
   ],
   "source": [
    "!pip install tensorflow_datasets\n",
    "!pip install 'tensorflow-text'"
   ]
  },
  {
   "cell_type": "code",
   "execution_count": null,
   "metadata": {
    "colab": {
     "base_uri": "https://localhost:8080/",
     "height": 393
    },
    "id": "hxVNGB78AiV9",
    "outputId": "f68c87cb-4a41-4110-9d8e-d1410ea0eda2"
   },
   "outputs": [
    {
     "ename": "ModuleNotFoundError",
     "errorDetails": {
      "actions": [
       {
        "action": "open_url",
        "actionText": "Open Examples",
        "url": "/notebooks/snippets/importing_libraries.ipynb"
       }
      ]
     },
     "evalue": "ignored",
     "output_type": "error",
     "traceback": [
      "\u001b[0;31m---------------------------------------------------------------------------\u001b[0m",
      "\u001b[0;31mModuleNotFoundError\u001b[0m                       Traceback (most recent call last)",
      "\u001b[0;32m<ipython-input-1-ec4b1d2eeb7d>\u001b[0m in \u001b[0;36m<module>\u001b[0;34m\u001b[0m\n\u001b[1;32m     11\u001b[0m \u001b[0;32mimport\u001b[0m \u001b[0mmatplotlib\u001b[0m\u001b[0;34m.\u001b[0m\u001b[0mpyplot\u001b[0m \u001b[0;32mas\u001b[0m \u001b[0mplt\u001b[0m\u001b[0;34m\u001b[0m\u001b[0;34m\u001b[0m\u001b[0m\n\u001b[1;32m     12\u001b[0m \u001b[0;32mimport\u001b[0m \u001b[0mtensorflow\u001b[0m \u001b[0;32mas\u001b[0m \u001b[0mtf\u001b[0m\u001b[0;34m\u001b[0m\u001b[0;34m\u001b[0m\u001b[0m\n\u001b[0;32m---> 13\u001b[0;31m \u001b[0;32mimport\u001b[0m \u001b[0mtensorflow_text\u001b[0m \u001b[0;32mas\u001b[0m \u001b[0mtext\u001b[0m\u001b[0;34m\u001b[0m\u001b[0;34m\u001b[0m\u001b[0m\n\u001b[0m\u001b[1;32m     14\u001b[0m \u001b[0;32mimport\u001b[0m \u001b[0mpandas\u001b[0m \u001b[0;32mas\u001b[0m \u001b[0mpd\u001b[0m\u001b[0;34m\u001b[0m\u001b[0;34m\u001b[0m\u001b[0m\n\u001b[1;32m     15\u001b[0m \u001b[0;32mimport\u001b[0m \u001b[0mtensorflow_datasets\u001b[0m \u001b[0;32mas\u001b[0m \u001b[0mtfds\u001b[0m\u001b[0;34m\u001b[0m\u001b[0;34m\u001b[0m\u001b[0m\n",
      "\u001b[0;31mModuleNotFoundError\u001b[0m: No module named 'tensorflow_text'",
      "",
      "\u001b[0;31m---------------------------------------------------------------------------\u001b[0;32m\nNOTE: If your import is failing due to a missing package, you can\nmanually install dependencies using either !pip or !apt.\n\nTo view examples of installing some common dependencies, click the\n\"Open Examples\" button below.\n\u001b[0;31m---------------------------------------------------------------------------\u001b[0m\n"
     ]
    }
   ],
   "source": [
    "import collections\n",
    "import os\n",
    "import pathlib\n",
    "import re\n",
    "import string\n",
    "import sys\n",
    "import tempfile\n",
    "import time\n",
    "\n",
    "import numpy as np\n",
    "import matplotlib.pyplot as plt\n",
    "import tensorflow as tf\n",
    "import tensorflow_text as text\n",
    "import pandas as pd\n",
    "import tensorflow_datasets as tfds\n",
    "from sklearn.model_selection import train_test_split\n",
    "import keras\n",
    "import logging\n"
   ]
  },
  {
   "cell_type": "code",
   "execution_count": null,
   "metadata": {
    "id": "Ljwc5NK-Aj3U"
   },
   "outputs": [],
   "source": [
    "logging.getLogger('tensorflow').setLevel(logging.ERROR)  "
   ]
  },
  {
   "cell_type": "code",
   "execution_count": null,
   "metadata": {
    "id": "6ZIV_RB4ApVi"
   },
   "outputs": [],
   "source": [
    "dataset = pd.read_csv(\"drive/MyDrive/MajorProjectPseudoCodeCpp/spoc_cleaned_next.csv\")"
   ]
  },
  {
   "cell_type": "code",
   "execution_count": null,
   "metadata": {
    "id": "BaTPtFiHxHPM"
   },
   "outputs": [],
   "source": [
    "from collections import Counter"
   ]
  },
  {
   "cell_type": "code",
   "execution_count": null,
   "metadata": {
    "colab": {
     "base_uri": "https://localhost:8080/"
    },
    "id": "7RyC4UxMxLQ_",
    "outputId": "4df50eb0-fc35-4c00-f55d-eecb80ef496c"
   },
   "outputs": [
    {
     "data": {
      "text/plain": [
       "[('=', 74274),\n",
       " ('}', 63410),\n",
       " ('<<', 54059),\n",
       " ('{', 53444),\n",
       " ('>>', 38312),\n",
       " ('0;', 37834),\n",
       " ('i', 37291),\n",
       " ('int', 34903),\n",
       " ('if', 33273),\n",
       " ('cout', 27813),\n",
       " ('for', 23825),\n",
       " ('cin', 23000),\n",
       " ('==', 21545),\n",
       " ('<', 20407),\n",
       " ('endl;', 20279),\n",
       " ('n;', 19468),\n",
       " ('-', 18759),\n",
       " ('(int', 18328),\n",
       " ('long', 18220),\n",
       " ('+', 17804)]"
      ]
     },
     "execution_count": 6,
     "metadata": {},
     "output_type": "execute_result"
    }
   ],
   "source": [
    "Counter(\" \".join(dataset[\"code\"]).split()).most_common(20)"
   ]
  },
  {
   "cell_type": "code",
   "execution_count": null,
   "metadata": {
    "colab": {
     "base_uri": "https://localhost:8080/",
     "height": 265
    },
    "id": "4SuGll3jyX1h",
    "outputId": "14e52f8e-2240-44ca-fc69-f99e683895c0"
   },
   "outputs": [
    {
     "data": {
      "image/png": "[encoded data removed]",
      "text/plain": [
       "<Figure size 432x288 with 1 Axes>"
      ]
     },
     "metadata": {
      "needs_background": "light"
     },
     "output_type": "display_data"
    }
   ],
   "source": [
    "a = Counter(\" \".join(dataset[\"code\"]).split()).most_common(15)\n",
    "plt.bar(*zip(*a))\n",
    "plt.show()"
   ]
  },
  {
   "cell_type": "code",
   "execution_count": null,
   "metadata": {
    "colab": {
     "base_uri": "https://localhost:8080/"
    },
    "id": "gurFvVefyjNX",
    "outputId": "b507a37e-f6c3-4ec6-bf0c-1978f4c30aec"
   },
   "outputs": [
    {
     "data": {
      "text/plain": [
       "[('to', 59188),\n",
       " ('=', 57262),\n",
       " ('n', 35260),\n",
       " ('if', 34218),\n",
       " ('is', 32908),\n",
       " ('0', 31461),\n",
       " ('print', 31059),\n",
       " ('and', 30373),\n",
       " ('i', 26715),\n",
       " ('read', 25436),\n",
       " ('for', 22388),\n",
       " ('a', 22152),\n",
       " ('1', 22132),\n",
       " ('of', 21589),\n",
       " ('set', 17934)]"
      ]
     },
     "execution_count": 40,
     "metadata": {},
     "output_type": "execute_result"
    }
   ],
   "source": [
    "Counter(\" \".join(dataset[\"pseudocode\"]).split()).most_common(15)"
   ]
  },
  {
   "cell_type": "code",
   "execution_count": null,
   "metadata": {
    "colab": {
     "base_uri": "https://localhost:8080/",
     "height": 265
    },
    "id": "6HY14yinyyuX",
    "outputId": "88b88764-339e-4e42-88ce-327212bf6a3c"
   },
   "outputs": [
    {
     "data": {
      "image/png": "[encoded data removed]",
      "text/plain": [
       "<Figure size 432x288 with 1 Axes>"
      ]
     },
     "metadata": {
      "needs_background": "light"
     },
     "output_type": "display_data"
    }
   ],
   "source": [
    "a = Counter(\" \".join(dataset[\"pseudocode\"]).split()).most_common(15)\n",
    "plt.bar(*zip(*a))\n",
    "plt.show()"
   ]
  },
  {
   "cell_type": "code",
   "execution_count": null,
   "metadata": {
    "id": "w5BWdH8HX1zh"
   },
   "outputs": [],
   "source": [
    "dataset.sample(frac=1).reset_index(drop=True)\n",
    "train_examples = dataset[2000:]\n",
    "val_examples = dataset[:2000]\n",
    "# test_examples = dataset[12000:]"
   ]
  },
  {
   "cell_type": "code",
   "execution_count": null,
   "metadata": {
    "colab": {
     "base_uri": "https://localhost:8080/",
     "height": 206
    },
    "id": "bL0XdrubUiac",
    "outputId": "ab8f07dc-2fb2-481d-b12f-5ef7eb9205c1"
   },
   "outputs": [
    {
     "data": {
      "text/html": [
       "\n",
       "  <div id=\"df-b5a4b674-5820-494e-b658-b9faf6372d85\">\n",
       "    <div class=\"colab-df-container\">\n",
       "      <div>\n",
       "<style scoped>\n",
       "    .dataframe tbody tr th:only-of-type {\n",
       "        vertical-align: middle;\n",
       "    }\n",
       "\n",
       "    .dataframe tbody tr th {\n",
       "        vertical-align: top;\n",
       "    }\n",
       "\n",
       "    .dataframe thead th {\n",
       "        text-align: right;\n",
       "    }\n",
       "</style>\n",
       "<table border=\"1\" class=\"dataframe\">\n",
       "  <thead>\n",
       "    <tr style=\"text-align: right;\">\n",
       "      <th></th>\n",
       "      <th>pseudocode</th>\n",
       "      <th>code</th>\n",
       "    </tr>\n",
       "  </thead>\n",
       "  <tbody>\n",
       "    <tr>\n",
       "      <th>0</th>\n",
       "      <td>if b=1 return a_ else call function gcd(b_ a%b...</td>\n",
       "      <td>return !b ? a : gcd(b_ a % b);    }    int mai...</td>\n",
       "    </tr>\n",
       "    <tr>\n",
       "      <th>1</th>\n",
       "      <td>let a and b be strings    n = integer    st = ...</td>\n",
       "      <td>string a_ b;    int n;    set&lt;string&gt; st;    c...</td>\n",
       "    </tr>\n",
       "    <tr>\n",
       "      <th>2</th>\n",
       "      <td>declare integers n_ m_ su = 0_ su2 = 0_ a_ b a...</td>\n",
       "      <td>int n_ m_ su = 0_ su2 = 0_ a_ b_ c;    cin &gt;&gt; ...</td>\n",
       "    </tr>\n",
       "    <tr>\n",
       "      <th>3</th>\n",
       "      <td>if a is 0_ return b from function    return re...</td>\n",
       "      <td>if (a == 0) return b;    return gcd1(b % a_ a)...</td>\n",
       "    </tr>\n",
       "    <tr>\n",
       "      <th>4</th>\n",
       "      <td>create map iterator it from string to integer ...</td>\n",
       "      <td>map&lt;string_ int&gt;::iterator it;    int main() {...</td>\n",
       "    </tr>\n",
       "  </tbody>\n",
       "</table>\n",
       "</div>\n",
       "      <button class=\"colab-df-convert\" onclick=\"convertToInteractive('df-b5a4b674-5820-494e-b658-b9faf6372d85')\"\n",
       "              title=\"Convert this dataframe to an interactive table.\"\n",
       "              style=\"display:none;\">\n",
       "        \n",
       "  <svg xmlns=\"http://www.w3.org/2000/svg\" height=\"24px\"viewBox=\"0 0 24 24\"\n",
       "       width=\"24px\">\n",
       "    <path d=\"M0 0h24v24H0V0z\" fill=\"none\"/>\n",
       "    <path d=\"M18.56 5.44l.94 2.06.94-2.06 2.06-.94-2.06-.94-.94-2.06-.94 2.06-2.06.94zm-11 1L8.5 8.5l.94-2.06 2.06-.94-2.06-.94L8.5 2.5l-.94 2.06-2.06.94zm10 10l.94 2.06.94-2.06 2.06-.94-2.06-.94-.94-2.06-.94 2.06-2.06.94z\"/><path d=\"M17.41 7.96l-1.37-1.37c-.4-.4-.92-.59-1.43-.59-.52 0-1.04.2-1.43.59L10.3 9.45l-7.72 7.72c-.78.78-.78 2.05 0 2.83L4 21.41c.39.39.9.59 1.41.59.51 0 1.02-.2 1.41-.59l7.78-7.78 2.81-2.81c.8-.78.8-2.07 0-2.86zM5.41 20L4 18.59l7.72-7.72 1.47 1.35L5.41 20z\"/>\n",
       "  </svg>\n",
       "      </button>\n",
       "      \n",
       "  <style>\n",
       "    .colab-df-container {\n",
       "      display:flex;\n",
       "      flex-wrap:wrap;\n",
       "      gap: 12px;\n",
       "    }\n",
       "\n",
       "    .colab-df-convert {\n",
       "      background-color: #E8F0FE;\n",
       "      border: none;\n",
       "      border-radius: 50%;\n",
       "      cursor: pointer;\n",
       "      display: none;\n",
       "      fill: #1967D2;\n",
       "      height: 32px;\n",
       "      padding: 0 0 0 0;\n",
       "      width: 32px;\n",
       "    }\n",
       "\n",
       "    .colab-df-convert:hover {\n",
       "      background-color: #E2EBFA;\n",
       "      box-shadow: 0px 1px 2px rgba(60, 64, 67, 0.3), 0px 1px 3px 1px rgba(60, 64, 67, 0.15);\n",
       "      fill: #174EA6;\n",
       "    }\n",
       "\n",
       "    [theme=dark] .colab-df-convert {\n",
       "      background-color: #3B4455;\n",
       "      fill: #D2E3FC;\n",
       "    }\n",
       "\n",
       "    [theme=dark] .colab-df-convert:hover {\n",
       "      background-color: #434B5C;\n",
       "      box-shadow: 0px 1px 3px 1px rgba(0, 0, 0, 0.15);\n",
       "      filter: drop-shadow(0px 1px 2px rgba(0, 0, 0, 0.3));\n",
       "      fill: #FFFFFF;\n",
       "    }\n",
       "  </style>\n",
       "\n",
       "      <script>\n",
       "        const buttonEl =\n",
       "          document.querySelector('#df-b5a4b674-5820-494e-b658-b9faf6372d85 button.colab-df-convert');\n",
       "        buttonEl.style.display =\n",
       "          google.colab.kernel.accessAllowed ? 'block' : 'none';\n",
       "\n",
       "        async function convertToInteractive(key) {\n",
       "          const element = document.querySelector('#df-b5a4b674-5820-494e-b658-b9faf6372d85');\n",
       "          const dataTable =\n",
       "            await google.colab.kernel.invokeFunction('convertToInteractive',\n",
       "                                                     [key], {});\n",
       "          if (!dataTable) return;\n",
       "\n",
       "          const docLinkHtml = 'Like what you see? Visit the ' +\n",
       "            '<a target=\"_blank\" href=https://colab.research.google.com/notebooks/data_table.ipynb>data table notebook</a>'\n",
       "            + ' to learn more about interactive tables.';\n",
       "          element.innerHTML = '';\n",
       "          dataTable['output_type'] = 'display_data';\n",
       "          await google.colab.output.renderOutput(dataTable, element);\n",
       "          const docLink = document.createElement('div');\n",
       "          docLink.innerHTML = docLinkHtml;\n",
       "          element.appendChild(docLink);\n",
       "        }\n",
       "      </script>\n",
       "    </div>\n",
       "  </div>\n",
       "  "
      ],
      "text/plain": [
       "                                          pseudocode  \\\n",
       "0  if b=1 return a_ else call function gcd(b_ a%b...   \n",
       "1  let a and b be strings    n = integer    st = ...   \n",
       "2  declare integers n_ m_ su = 0_ su2 = 0_ a_ b a...   \n",
       "3  if a is 0_ return b from function    return re...   \n",
       "4  create map iterator it from string to integer ...   \n",
       "\n",
       "                                                code  \n",
       "0  return !b ? a : gcd(b_ a % b);    }    int mai...  \n",
       "1  string a_ b;    int n;    set<string> st;    c...  \n",
       "2  int n_ m_ su = 0_ su2 = 0_ a_ b_ c;    cin >> ...  \n",
       "3  if (a == 0) return b;    return gcd1(b % a_ a)...  \n",
       "4  map<string_ int>::iterator it;    int main() {...  "
      ]
     },
     "execution_count": 12,
     "metadata": {},
     "output_type": "execute_result"
    }
   ],
   "source": [
    "dataset.head()"
   ]
  },
  {
   "cell_type": "code",
   "execution_count": null,
   "metadata": {
    "colab": {
     "base_uri": "https://localhost:8080/"
    },
    "id": "wBlkgfXqx-tz",
    "outputId": "e7ecbcec-9e7c-499e-b5e3-ea827e17f8cd"
   },
   "outputs": [
    {
     "data": {
      "text/plain": [
       "12547"
      ]
     },
     "execution_count": 19,
     "metadata": {},
     "output_type": "execute_result"
    }
   ],
   "source": [
    "len(train_examples)"
   ]
  },
  {
   "cell_type": "code",
   "execution_count": null,
   "metadata": {
    "id": "BE340XTU1OY_"
   },
   "outputs": [],
   "source": [
    "def dataset_to_tensor(data_examples):\n",
    "  data_prob = []\n",
    "  for i in range(0,len(data_examples)):\n",
    "    temp = str(data_examples.iloc[i,0])\n",
    "    tempval = temp.replace('_',',')\n",
    "    data_prob.append(tempval)\n",
    "\n",
    "  # inputs = data_examples['problem']\n",
    "  print(data_prob[0])\n",
    "  print(type(data_prob))\n",
    "\n",
    "  data_sol = []\n",
    "  for i in range(0,len(data_examples)):\n",
    "    temp = str(data_examples.iloc[i,1])\n",
    "    tempval = temp.replace('_',',')\n",
    "    data_sol.append(tempval)\n",
    "\n",
    "  # inputs = data_examples['solution']\n",
    "  print(data_sol[0])\n",
    "  print(type(data_sol))\n",
    "\n",
    "  tensor_prob = tf.convert_to_tensor(data_prob)\n",
    "  tensor_sol = tf.convert_to_tensor(data_sol)\n",
    "\n",
    "  tensor_data = tf.data.Dataset.from_tensor_slices((tensor_prob,tensor_sol))\n",
    "\n",
    "  # tf.data.experimental.cardinality(tensor_data)\n",
    "  return tensor_data, tensor_prob, tensor_sol;"
   ]
  },
  {
   "cell_type": "code",
   "execution_count": null,
   "metadata": {
    "colab": {
     "base_uri": "https://localhost:8080/"
    },
    "id": "_c7KMYsg8R_-",
    "outputId": "9a0ae987-76a6-411c-c30d-70898d802093"
   },
   "outputs": [
    {
     "name": "stdout",
     "output_type": "stream",
     "text": [
      "if b=1 return a, else call function gcd(b, a%b)            n , nn, ans = integers with ans =0    Read n    for i=2 to n-1 execute    set nn to n    while nn is not equal to 0, set ans to ans + nn%i, and also set nn= nn/i        set o to gcd(ans, n-2)    print out ans/o \"/\" (n-2)/o            function gcd with integer arguments a and b    return !b ? a : gcd(b, a % b)            integers n, nn and ans = 0    read n    for i = 2 to n - 1 inclusive    set nn to n    while nn increment ans by (nn % i) and set nn to nn / i;        integer o = gcd of ans and n - 2    print ans / o, \"/\", (n - 2) / o and \"\\n\"            \n",
      "<class 'list'>\n",
      "return !b ? a : gcd(b, a % b);    }    int main() {    int n, nn, ans = 0;    cin >> n;    for (int i = 2; i <= n - 1; ++i) {    nn = n;    while (nn) ans += nn % i, nn /= i;    }    int o = gcd(ans, n - 2);    cout << ans / o << \"/\" << (n - 2) / o << \"\\n\";    return 0;    }    int gcd(int a, int b) {    return !b ? a : gcd(b, a % b);    }    int main() {    int n, nn, ans = 0;    cin >> n;    for (int i = 2; i <= n - 1; ++i) {    nn = n;    while (nn) ans += nn % i, nn /= i;    }    int o = gcd(ans, n - 2);    cout << ans / o << \"/\" << (n - 2) / o << \"\\n\";    return 0;    }    \n",
      "<class 'list'>\n",
      "a = long long    m = map of int to int    for i = 0 to 4 exclusive    read a    increment m[a]        print 4 - m.size()        \n",
      "<class 'list'>\n",
      "long long a;    map<int, int> m;    for (int i = 0; i < 4; i++) {    cin >> a;    m[a]++;    }    cout << 4 - m.size() << endl;    }    \n",
      "<class 'list'>\n"
     ]
    }
   ],
   "source": [
    "val_data , prob_tensr, sol_tensr = dataset_to_tensor(val_examples)\n",
    "train_data, train_p, train_s = dataset_to_tensor(train_examples)"
   ]
  },
  {
   "cell_type": "code",
   "execution_count": null,
   "metadata": {
    "id": "lYGQGBXYp9Cz"
   },
   "outputs": [],
   "source": [
    "from tensorflow_text.tools.wordpiece_vocab import bert_vocab_from_dataset as bert_vocab"
   ]
  },
  {
   "cell_type": "code",
   "execution_count": null,
   "metadata": {
    "id": "mrC2IZnuqDZi"
   },
   "outputs": [],
   "source": [
    "bert_tokenizer_params=dict(lower_case=True)\n",
    "reserved_tokens=[\"[PAD]\", \"[UNK]\", \"[START]\", \"[END]\"]\n",
    "\n",
    "bert_vocab_args = dict(\n",
    "    # The target vocabulary size\n",
    "    vocab_size = 10000,\n",
    "    # Reserved tokens that must be included in the vocabulary\n",
    "    reserved_tokens=reserved_tokens,\n",
    "    # Arguments for `text.BertTokenizer`\n",
    "    bert_tokenizer_params=bert_tokenizer_params,\n",
    "    # Arguments for `wordpiece_vocab.wordpiece_tokenizer_learner_lib.learn`\n",
    "    learn_params={},\n",
    ")"
   ]
  },
  {
   "cell_type": "code",
   "execution_count": null,
   "metadata": {
    "id": "2CQsEZLDqIO8"
   },
   "outputs": [],
   "source": [
    "train_pb = tf.data.Dataset.from_tensor_slices(train_p)\n",
    "train_sl = tf.data.Dataset.from_tensor_slices(train_s)"
   ]
  },
  {
   "cell_type": "code",
   "execution_count": null,
   "metadata": {
    "colab": {
     "base_uri": "https://localhost:8080/"
    },
    "id": "6VmhjxuMqMdu",
    "outputId": "d2194fa9-c9ee-466b-e350-bad31e107b82"
   },
   "outputs": [
    {
     "name": "stdout",
     "output_type": "stream",
     "text": [
      "CPU times: user 26.7 s, sys: 192 ms, total: 26.9 s\n",
      "Wall time: 27.6 s\n"
     ]
    }
   ],
   "source": [
    "%%time\n",
    "prob_vocab = bert_vocab.bert_vocab_from_dataset(\n",
    "    train_pb.batch(2000).prefetch(20),\n",
    "    **bert_vocab_args\n",
    ")\n",
    "sol_vocab = bert_vocab.bert_vocab_from_dataset(\n",
    "    train_sl.batch(2000).prefetch(20),\n",
    "    **bert_vocab_args\n",
    ")"
   ]
  },
  {
   "cell_type": "code",
   "execution_count": null,
   "metadata": {
    "colab": {
     "base_uri": "https://localhost:8080/"
    },
    "id": "HcH1eWTfqSiZ",
    "outputId": "b7a7c960-199a-4aae-b6c8-92c934c63787"
   },
   "outputs": [
    {
     "name": "stdout",
     "output_type": "stream",
     "text": [
      "['[PAD]', '[UNK]', '[START]', '[END]', '!', '\"', '#', '$', '%', '&']\n",
      "['newline', 'array', 'new', 'inclusive', 'while', 'loop', 'value', 'or', 'greater', 'less']\n",
      "['large', 'marks', 'max3', 'mina', 'modulus', 'mx2', 'pointed', 'rep', 'sup', 'sx']\n",
      "['##@', '##[', '##\\\\', '##]', '##^', '##`', '##{', '##|', '##}', '##~']\n",
      "\n",
      "['[PAD]', '[UNK]', '[START]', '[END]', '!', '\"', '#', '$', '%', '&']\n",
      "['temp', 'abs', 's1', 'true', 'sort', 'push', 'vector', 'length', 'bool', 'back']\n",
      "['##@', '##[', '##\\\\', '##]', '##^', '##`', '##{', '##|', '##}', '##~']\n"
     ]
    }
   ],
   "source": [
    "print(prob_vocab[:10])\n",
    "print(prob_vocab[100:110])\n",
    "print(prob_vocab[1000:1010])\n",
    "print(prob_vocab[-10:])\n",
    "print()\n",
    "print(sol_vocab[:10])\n",
    "print(sol_vocab[100:110])\n",
    "# print(sol_vocab[1000:1010])\n",
    "print(sol_vocab[-10:])"
   ]
  },
  {
   "cell_type": "code",
   "execution_count": null,
   "metadata": {
    "id": "cGbxUfKXqZTT"
   },
   "outputs": [],
   "source": [
    "def write_vocab_file(filepath, vocab):\n",
    "  with open(filepath, 'w') as f:\n",
    "    for token in vocab:\n",
    "      print(token, file=f)"
   ]
  },
  {
   "cell_type": "code",
   "execution_count": null,
   "metadata": {
    "id": "GNmXBjOLqfFQ"
   },
   "outputs": [],
   "source": [
    "write_vocab_file('prob_vocab.txt', prob_vocab)\n",
    "write_vocab_file('sol_vocab.txt', sol_vocab)"
   ]
  },
  {
   "cell_type": "code",
   "execution_count": null,
   "metadata": {
    "id": "nhotqCHTOeAF"
   },
   "outputs": [],
   "source": [
    "write_vocab_file('drive/MyDrive/MajorProjectPseudoCodeCpp/Tokenizer/prob_vocab.txt', prob_vocab)\n",
    "write_vocab_file('drive/MyDrive/MajorProjectPseudoCodeCpp/Tokenizer/sol_vocab.txt', sol_vocab)"
   ]
  },
  {
   "cell_type": "code",
   "execution_count": null,
   "metadata": {
    "colab": {
     "base_uri": "https://localhost:8080/"
    },
    "id": "gs5AHm0TvMaP",
    "outputId": "31f0a4b4-8dcb-4989-e17e-fa1f3dfdf59c"
   },
   "outputs": [
    {
     "name": "stdout",
     "output_type": "stream",
     "text": [
      "prob_vocab.txt\tsol_vocab.txt\n"
     ]
    }
   ],
   "source": [
    "!ls *.txt"
   ]
  },
  {
   "cell_type": "code",
   "execution_count": null,
   "metadata": {
    "id": "zCSO0qbUqilA"
   },
   "outputs": [],
   "source": [
    "prob_tokenizer = text.BertTokenizer('/content/prob_vocab.txt', **bert_tokenizer_params)\n",
    "sol_tokenizer = text.BertTokenizer('/content/sol_vocab.txt', **bert_tokenizer_params)\n"
   ]
  },
  {
   "cell_type": "code",
   "execution_count": null,
   "metadata": {
    "colab": {
     "base_uri": "https://localhost:8080/"
    },
    "id": "gh2TAbG8q2D1",
    "outputId": "7bf79ecb-ad18-4a02-c6f6-9ab93b63d10d"
   },
   "outputs": [
    {
     "name": "stdout",
     "output_type": "stream",
     "text": [
      "b'a = long long    m = map of int to int    for i = 0 to 4 exclusive    read a    increment m[a]        print 4 - m.size()        '\n",
      "b'let a, b, c, d, e, f, g, h and i be integers    read a, b and c    multiply a, b and c and put result in d    set e = (a+b) * c    set f = a * (b+c)    set g = a + b * c    set h = a * b + c    set i = a + b +c    set d to maximum of d and e    set d to maximum of d and f    set d to maximum of d and g    set d to maximum of d and h    set d to maximum of d and i    print d            '\n",
      "\n",
      "b'long long a;    map<int, int> m;    for (int i = 0; i < 4; i++) {    cin >> a;    m[a]++;    }    cout << 4 - m.size() << endl;    }    '\n",
      "b'int a, b, c, d, e, f, g, h, i;    cin >> a >> b >> c;    d = a * b * c;    e = (a + b) * c;    f = a * (b + c);    g = a + b * c;    h = a * b + c;    i = a + b + c;    d = max(d, e);    d = max(d, f);    d = max(d, g);    d = max(d, h);    d = max(d, i);    cout << d << endl;    return 0;    }    '\n"
     ]
    }
   ],
   "source": [
    "for pb_examples in train_pb.batch(2).take(1):\n",
    "  for ex in pb_examples:\n",
    "    print(ex.numpy())\n",
    "print()\n",
    "for sol_examples in train_sl.batch(2).take(1):\n",
    "  for ex in sol_examples:\n",
    "    print(ex.numpy())"
   ]
  },
  {
   "cell_type": "code",
   "execution_count": null,
   "metadata": {
    "colab": {
     "base_uri": "https://localhost:8080/"
    },
    "id": "egr09MG6yFdS",
    "outputId": "e9ae30a2-b842-43e6-e2fd-db9938ed6787"
   },
   "outputs": [
    {
     "name": "stdout",
     "output_type": "stream",
     "text": [
      "[41, 32, 79, 79, 53, 32, 246, 78, 89, 71, 89, 77, 49, 32, 19, 71, 23, 84, 76, 41, 88, 53, 36, 41, 38, 74, 23, 16, 53, 17, 97, 11, 12]\n",
      "[95, 41, 15, 42, 15, 43, 15, 44, 15, 45, 15, 46, 15, 47, 15, 48, 75, 49, 99, 96, 76, 41, 15, 42, 75, 43, 380, 41, 15, 42, 75, 43, 75, 798, 153, 119, 44, 80, 45, 32, 11, 41, 14, 42, 12, 13, 43, 80, 46, 32, 41, 13, 11, 42, 14, 43, 12, 80, 47, 32, 41, 14, 42, 13, 43, 80, 48, 32, 41, 13, 42, 14, 43, 80, 49, 32, 41, 14, 42, 14, 43, 80, 44, 71, 208, 78, 44, 75, 45, 80, 44, 71, 208, 78, 44, 75, 46, 80, 44, 71, 208, 78, 44, 75, 47, 80, 44, 71, 208, 78, 44, 75, 48, 80, 44, 71, 208, 78, 44, 75, 49, 74, 44]\n"
     ]
    }
   ],
   "source": [
    "# Tokenize the examples -> (batch, word, word-piece)\n",
    "token_batch_prob = prob_tokenizer.tokenize(pb_examples)\n",
    "# Merge the word and word-piece axes -> (batch, tokens)\n",
    "token_batch_prob = token_batch_prob.merge_dims(-2,-1)\n",
    "\n",
    "for ex in token_batch_prob.to_list():\n",
    "  print(ex)"
   ]
  },
  {
   "cell_type": "code",
   "execution_count": null,
   "metadata": {
    "colab": {
     "base_uri": "https://localhost:8080/"
    },
    "id": "cmqe9R-0q3If",
    "outputId": "dc102382-ecf2-40c1-ce1c-6d1719a68833"
   },
   "outputs": [
    {
     "name": "stdout",
     "output_type": "stream",
     "text": [
      "[76, 76, 41, 30, 159, 31, 71, 15, 71, 33, 53, 30, 75, 11, 71, 49, 32, 19, 30, 49, 31, 23, 30, 49, 14, 14, 12, 67, 74, 33, 33, 41, 30, 53, 36, 41, 38, 14, 14, 30, 69, 73, 31, 31, 23, 16, 53, 17, 86, 11, 12, 31, 31, 77, 30, 69]\n",
      "[71, 41, 15, 42, 15, 43, 15, 44, 15, 45, 15, 46, 15, 47, 15, 48, 15, 49, 30, 74, 33, 33, 41, 33, 33, 42, 33, 33, 43, 30, 44, 32, 41, 13, 42, 13, 43, 30, 45, 32, 11, 41, 14, 42, 12, 13, 43, 30, 46, 32, 41, 13, 11, 42, 14, 43, 12, 30, 47, 32, 41, 14, 42, 13, 43, 30, 48, 32, 41, 13, 42, 14, 43, 30, 49, 32, 41, 14, 42, 14, 43, 30, 44, 32, 89, 11, 44, 15, 45, 12, 30, 44, 32, 89, 11, 44, 15, 46, 12, 30, 44, 32, 89, 11, 44, 15, 47, 12, 30, 44, 32, 89, 11, 44, 15, 48, 12, 30, 44, 32, 89, 11, 44, 15, 49, 12, 30, 73, 31, 31, 44, 31, 31, 77, 30, 78, 19, 30, 69]\n"
     ]
    }
   ],
   "source": [
    "\n",
    "\n",
    "# Tokenize the examples -> (batch, word, word-piece)\n",
    "token_batch_sol = sol_tokenizer.tokenize(sol_examples)\n",
    "# Merge the word and word-piece axes -> (batch, tokens)\n",
    "token_batch_sol = token_batch_sol.merge_dims(-2,-1)\n",
    "\n",
    "for ex in token_batch_sol.to_list():\n",
    "  print(ex)"
   ]
  },
  {
   "cell_type": "code",
   "execution_count": null,
   "metadata": {
    "colab": {
     "base_uri": "https://localhost:8080/"
    },
    "id": "Tok5EZJIq8L4",
    "outputId": "579b01db-a5ba-4df2-a5f6-4de24357df31"
   },
   "outputs": [
    {
     "data": {
      "text/plain": [
       "<tf.Tensor: shape=(2,), dtype=string, numpy=\n",
       "array([b'a = long long m = map of int to int for i = 0 to 4 exclusive read a increment m [ a ] print 4 - m . size ( )',\n",
       "       b'let a , b , c , d , e , f , g , h and i be integers read a , b and c multiply a , b and c and put result in d set e = ( a + b ) * c set f = a * ( b + c ) set g = a + b * c set h = a * b + c set i = a + b + c set d to maximum of d and e set d to maximum of d and f set d to maximum of d and g set d to maximum of d and h set d to maximum of d and i print d'],\n",
       "      dtype=object)>"
      ]
     },
     "execution_count": 35,
     "metadata": {},
     "output_type": "execute_result"
    }
   ],
   "source": [
    "# Lookup each token id in the vocabulary.\n",
    "txt_tokens_prob = tf.gather(prob_vocab, token_batch_prob)\n",
    "# Join with spaces.\n",
    "tf.strings.reduce_join(txt_tokens_prob, separator=' ', axis=-1)\n",
    "\n"
   ]
  },
  {
   "cell_type": "code",
   "execution_count": null,
   "metadata": {
    "colab": {
     "base_uri": "https://localhost:8080/"
    },
    "id": "D-Spm6HtrBOl",
    "outputId": "b674a8ec-f5f9-487c-a9fd-ee61ee70ccdc"
   },
   "outputs": [
    {
     "data": {
      "text/plain": [
       "<tf.Tensor: shape=(2,), dtype=string, numpy=\n",
       "array([b'long long a ; map < int , int > m ; for ( int i = 0 ; i < 4 ; i + + ) { cin > > a ; m [ a ] + + ; } cout < < 4 - m . size ( ) < < endl ; }',\n",
       "       b'int a , b , c , d , e , f , g , h , i ; cin > > a > > b > > c ; d = a * b * c ; e = ( a + b ) * c ; f = a * ( b + c ) ; g = a + b * c ; h = a * b + c ; i = a + b + c ; d = max ( d , e ) ; d = max ( d , f ) ; d = max ( d , g ) ; d = max ( d , h ) ; d = max ( d , i ) ; cout < < d < < endl ; return 0 ; }'],\n",
       "      dtype=object)>"
      ]
     },
     "execution_count": 36,
     "metadata": {},
     "output_type": "execute_result"
    }
   ],
   "source": [
    "prob_words = prob_tokenizer.detokenize(token_batch_prob)\n",
    "tf.strings.reduce_join(prob_words, separator=' ', axis=-1)\n",
    "\n",
    "sol_words = sol_tokenizer.detokenize(token_batch_sol)\n",
    "tf.strings.reduce_join(sol_words, separator=' ', axis=-1)"
   ]
  },
  {
   "cell_type": "code",
   "execution_count": null,
   "metadata": {
    "id": "XZX5f4QfrGGS"
   },
   "outputs": [],
   "source": [
    "START = tf.argmax(tf.constant(reserved_tokens) == \"[START]\")\n",
    "END = tf.argmax(tf.constant(reserved_tokens) == \"[END]\")\n",
    "\n",
    "def add_start_end(ragged):\n",
    "  count = ragged.bounding_shape()[0]\n",
    "  starts = tf.fill([count,1], START)\n",
    "  ends = tf.fill([count,1], END)\n",
    "  return tf.concat([starts, ragged, ends], axis=1)"
   ]
  },
  {
   "cell_type": "code",
   "execution_count": null,
   "metadata": {
    "colab": {
     "base_uri": "https://localhost:8080/"
    },
    "id": "RxDkRiARSHIn",
    "outputId": "0f4a74a6-4935-4e0a-e984-a3b78d7f14e9"
   },
   "outputs": [
    {
     "data": {
      "text/plain": [
       "<tf.Tensor: shape=(2,), dtype=string, numpy=\n",
       "array([b'[START] a = long long m = map of int to int for i = 0 to 4 exclusive read a increment m [ a ] print 4 - m . size ( ) [END]',\n",
       "       b'[START] let a , b , c , d , e , f , g , h and i be integers read a , b and c multiply a , b and c and put result in d set e = ( a + b ) * c set f = a * ( b + c ) set g = a + b * c set h = a * b + c set i = a + b + c set d to maximum of d and e set d to maximum of d and f set d to maximum of d and g set d to maximum of d and h set d to maximum of d and i print d [END]'],\n",
       "      dtype=object)>"
      ]
     },
     "execution_count": 38,
     "metadata": {},
     "output_type": "execute_result"
    }
   ],
   "source": [
    "prob_words = prob_tokenizer.detokenize(add_start_end(token_batch_prob))\n",
    "tf.strings.reduce_join(prob_words, separator=' ', axis=-1)"
   ]
  },
  {
   "cell_type": "code",
   "execution_count": null,
   "metadata": {
    "colab": {
     "base_uri": "https://localhost:8080/"
    },
    "id": "eIOn2I4SSxzk",
    "outputId": "62aa2c69-4e5d-45f4-c59c-7c0ae2e6acb4"
   },
   "outputs": [
    {
     "data": {
      "text/plain": [
       "<tf.Tensor: shape=(2,), dtype=string, numpy=\n",
       "array([b'[START] long long a ; map < int , int > m ; for ( int i = 0 ; i < 4 ; i + + ) { cin > > a ; m [ a ] + + ; } cout < < 4 - m . size ( ) < < endl ; } [END]',\n",
       "       b'[START] int a , b , c , d , e , f , g , h , i ; cin > > a > > b > > c ; d = a * b * c ; e = ( a + b ) * c ; f = a * ( b + c ) ; g = a + b * c ; h = a * b + c ; i = a + b + c ; d = max ( d , e ) ; d = max ( d , f ) ; d = max ( d , g ) ; d = max ( d , h ) ; d = max ( d , i ) ; cout < < d < < endl ; return 0 ; } [END]'],\n",
       "      dtype=object)>"
      ]
     },
     "execution_count": 39,
     "metadata": {},
     "output_type": "execute_result"
    }
   ],
   "source": [
    "sol_words = sol_tokenizer.detokenize(add_start_end(token_batch_sol))\n",
    "tf.strings.reduce_join(sol_words, separator=' ', axis=-1)"
   ]
  },
  {
   "cell_type": "code",
   "execution_count": null,
   "metadata": {
    "id": "q1XPpqHBrJG0"
   },
   "outputs": [],
   "source": [
    "def cleanup_text(reserved_tokens, token_txt):\n",
    "  # Drop the reserved tokens, except for \"[UNK]\".\n",
    "  bad_tokens = [re.escape(tok) for tok in reserved_tokens if tok != \"[UNK]\"]\n",
    "  bad_token_re = \"|\".join(bad_tokens)\n",
    "    \n",
    "  bad_cells = tf.strings.regex_full_match(token_txt, bad_token_re)\n",
    "  result = tf.ragged.boolean_mask(token_txt, ~bad_cells)\n",
    "\n",
    "  # Join them into strings.\n",
    "  result = tf.strings.reduce_join(result, separator=' ', axis=-1)\n",
    "\n",
    "  return result"
   ]
  },
  {
   "cell_type": "code",
   "execution_count": null,
   "metadata": {
    "colab": {
     "base_uri": "https://localhost:8080/"
    },
    "id": "5sJTDXpFTAyS",
    "outputId": "318c0485-3f1f-4b57-f809-963b56f8fb11"
   },
   "outputs": [
    {
     "data": {
      "text/plain": [
       "<tf.RaggedTensor [[b'long', b'long', b'a', b';', b'map', b'<', b'int', b',', b'int', b'>',\n",
       "  b'm', b';', b'for', b'(', b'int', b'i', b'=', b'0', b';', b'i', b'<',\n",
       "  b'4', b';', b'i', b'+', b'+', b')', b'{', b'cin', b'>', b'>', b'a', b';',\n",
       "  b'm', b'[', b'a', b']', b'+', b'+', b';', b'}', b'cout', b'<', b'<', b'4',\n",
       "  b'-', b'm', b'.', b'size', b'(', b')', b'<', b'<', b'endl', b';', b'}']   ,\n",
       " [b'int', b'a', b',', b'b', b',', b'c', b',', b'd', b',', b'e', b',', b'f',\n",
       "  b',', b'g', b',', b'h', b',', b'i', b';', b'cin', b'>', b'>', b'a', b'>',\n",
       "  b'>', b'b', b'>', b'>', b'c', b';', b'd', b'=', b'a', b'*', b'b', b'*',\n",
       "  b'c', b';', b'e', b'=', b'(', b'a', b'+', b'b', b')', b'*', b'c', b';',\n",
       "  b'f', b'=', b'a', b'*', b'(', b'b', b'+', b'c', b')', b';', b'g', b'=',\n",
       "  b'a', b'+', b'b', b'*', b'c', b';', b'h', b'=', b'a', b'*', b'b', b'+',\n",
       "  b'c', b';', b'i', b'=', b'a', b'+', b'b', b'+', b'c', b';', b'd', b'=',\n",
       "  b'max', b'(', b'd', b',', b'e', b')', b';', b'd', b'=', b'max', b'(',\n",
       "  b'd', b',', b'f', b')', b';', b'd', b'=', b'max', b'(', b'd', b',', b'g',\n",
       "  b')', b';', b'd', b'=', b'max', b'(', b'd', b',', b'h', b')', b';', b'd',\n",
       "  b'=', b'max', b'(', b'd', b',', b'i', b')', b';', b'cout', b'<', b'<',\n",
       "  b'd', b'<', b'<', b'endl', b';', b'return', b'0', b';', b'}']            ]>"
      ]
     },
     "execution_count": 41,
     "metadata": {},
     "output_type": "execute_result"
    }
   ],
   "source": [
    "token_batch = sol_tokenizer.tokenize(sol_examples).merge_dims(-2,-1)\n",
    "words =sol_tokenizer.detokenize(token_batch)\n",
    "words"
   ]
  },
  {
   "cell_type": "code",
   "execution_count": null,
   "metadata": {
    "colab": {
     "base_uri": "https://localhost:8080/"
    },
    "id": "Rn9Nt4y0THbS",
    "outputId": "fb595a3a-550d-4023-fc28-aa6028647896"
   },
   "outputs": [
    {
     "data": {
      "text/plain": [
       "array([b'long long a ; map < int , int > m ; for ( int i = 0 ; i < 4 ; i + + ) { cin > > a ; m [ a ] + + ; } cout < < 4 - m . size ( ) < < endl ; }',\n",
       "       b'int a , b , c , d , e , f , g , h , i ; cin > > a > > b > > c ; d = a * b * c ; e = ( a + b ) * c ; f = a * ( b + c ) ; g = a + b * c ; h = a * b + c ; i = a + b + c ; d = max ( d , e ) ; d = max ( d , f ) ; d = max ( d , g ) ; d = max ( d , h ) ; d = max ( d , i ) ; cout < < d < < endl ; return 0 ; }'],\n",
       "      dtype=object)"
      ]
     },
     "execution_count": 42,
     "metadata": {},
     "output_type": "execute_result"
    }
   ],
   "source": [
    "cleanup_text(reserved_tokens, words).numpy()"
   ]
  },
  {
   "cell_type": "code",
   "execution_count": null,
   "metadata": {
    "id": "j8JuhlqZrP7i"
   },
   "outputs": [],
   "source": [
    "class CustomTokenizer(tf.Module):\n",
    "  def __init__(self, reserved_tokens, vocab_path):\n",
    "    self.tokenizer = text.BertTokenizer(vocab_path, lower_case=True)\n",
    "    self._reserved_tokens = reserved_tokens\n",
    "    self._vocab_path = tf.saved_model.Asset(vocab_path)\n",
    "\n",
    "    vocab = pathlib.Path(vocab_path).read_text().splitlines()\n",
    "    self.vocab = tf.Variable(vocab)\n",
    "\n",
    "    ## Create the signatures for export:   \n",
    "\n",
    "    # Include a tokenize signature for a batch of strings. \n",
    "    self.tokenize.get_concrete_function(\n",
    "        tf.TensorSpec(shape=[None], dtype=tf.string))\n",
    "\n",
    "    # Include `detokenize` and `lookup` signatures for:\n",
    "    #   * `Tensors` with shapes [tokens] and [batch, tokens]\n",
    "    #   * `RaggedTensors` with shape [batch, tokens]\n",
    "    self.detokenize.get_concrete_function(\n",
    "        tf.TensorSpec(shape=[None, None], dtype=tf.int64))\n",
    "    self.detokenize.get_concrete_function(\n",
    "          tf.RaggedTensorSpec(shape=[None, None], dtype=tf.int64))\n",
    "\n",
    "    self.lookup.get_concrete_function(\n",
    "        tf.TensorSpec(shape=[None, None], dtype=tf.int64))\n",
    "    self.lookup.get_concrete_function(\n",
    "          tf.RaggedTensorSpec(shape=[None, None], dtype=tf.int64))\n",
    "\n",
    "    # These `get_*` methods take no arguments\n",
    "    self.get_vocab_size.get_concrete_function()\n",
    "    self.get_vocab_path.get_concrete_function()\n",
    "    self.get_reserved_tokens.get_concrete_function()\n",
    "\n",
    "  @tf.function\n",
    "  def tokenize(self, strings):\n",
    "    enc = self.tokenizer.tokenize(strings)\n",
    "    # Merge the `word` and `word-piece` axes.\n",
    "    enc = enc.merge_dims(-2,-1)\n",
    "    enc = add_start_end(enc)\n",
    "    return enc\n",
    "\n",
    "  @tf.function\n",
    "  def detokenize(self, tokenized):\n",
    "    words = self.tokenizer.detokenize(tokenized)\n",
    "    return cleanup_text(self._reserved_tokens, words)\n",
    "\n",
    "  @tf.function\n",
    "  def lookup(self, token_ids):\n",
    "    return tf.gather(self.vocab, token_ids)\n",
    "\n",
    "  @tf.function\n",
    "  def get_vocab_size(self):\n",
    "    return tf.shape(self.vocab)[0]\n",
    "\n",
    "  @tf.function\n",
    "  def get_vocab_path(self):\n",
    "    return self._vocab_path\n",
    "\n",
    "  @tf.function\n",
    "  def get_reserved_tokens(self):\n",
    "    return tf.constant(self._reserved_tokens)"
   ]
  },
  {
   "cell_type": "code",
   "execution_count": null,
   "metadata": {
    "id": "tnjtn6MMrXK_"
   },
   "outputs": [],
   "source": [
    "tokenizers = tf.Module()\n",
    "tokenizers.prob = CustomTokenizer(reserved_tokens, '/content/prob_vocab.txt')\n",
    "tokenizers.sol = CustomTokenizer(reserved_tokens, '/content/sol_vocab.txt')"
   ]
  },
  {
   "cell_type": "code",
   "execution_count": null,
   "metadata": {
    "id": "MEuIW9TPrX-U"
   },
   "outputs": [],
   "source": [
    "model_name = 'spoc_pseudocode_to_code_converter'\n",
    "tf.saved_model.save(tokenizers, model_name)\n",
    "tf.saved_model.save(tokenizers,export_dir=\"drive/MyDrive/MajorProjectPseudoCodeCpp/Tokenizer/\")\n"
   ]
  },
  {
   "cell_type": "code",
   "execution_count": null,
   "metadata": {
    "colab": {
     "base_uri": "https://localhost:8080/"
    },
    "id": "3Y1dIFDo1qg8",
    "outputId": "a6b52537-325d-476c-ae75-099b47af95ba"
   },
   "outputs": [
    {
     "name": "stdout",
     "output_type": "stream",
     "text": [
      "  adding: spoc_pseudocode_to_code_converter/ (stored 0%)\n",
      "  adding: spoc_pseudocode_to_code_converter/variables/ (stored 0%)\n",
      "  adding: spoc_pseudocode_to_code_converter/variables/variables.index (deflated 32%)\n",
      "  adding: spoc_pseudocode_to_code_converter/variables/variables.data-00000-of-00001 (deflated 48%)\n",
      "  adding: spoc_pseudocode_to_code_converter/saved_model.pb (deflated 91%)\n",
      "  adding: spoc_pseudocode_to_code_converter/fingerprint.pb (stored 0%)\n",
      "  adding: spoc_pseudocode_to_code_converter/assets/ (stored 0%)\n",
      "  adding: spoc_pseudocode_to_code_converter/assets/sol_vocab.txt (deflated 45%)\n",
      "  adding: spoc_pseudocode_to_code_converter/assets/prob_vocab.txt (deflated 47%)\n"
     ]
    }
   ],
   "source": [
    "!zip -r {model_name}.zip {model_name}"
   ]
  },
  {
   "cell_type": "code",
   "execution_count": null,
   "metadata": {
    "id": "vcswJKG4R6Wp"
   },
   "outputs": [],
   "source": [
    "# investigate the distribution of tokens per example in the dataset:\n",
    "\n",
    "lengths = []\n",
    "\n",
    "for p, s in train_data.batch(1024):\n",
    "  \n",
    "  prob_tokens = tokenizers.sol.tokenize(p)\n",
    "  lengths.append(prob_tokens.row_lengths())\n",
    "\n",
    "  sol_tokens = tokenizers.sol.tokenize(s)\n",
    "  lengths.append(sol_tokens.row_lengths())\n",
    "  # print('.', end='', flush=True)\n",
    "\n"
   ]
  },
  {
   "cell_type": "code",
   "execution_count": null,
   "metadata": {
    "colab": {
     "base_uri": "https://localhost:8080/",
     "height": 281
    },
    "id": "gRuXpQjM5tCy",
    "outputId": "1c49d9f0-147f-4d80-e880-74a6a920652f"
   },
   "outputs": [
    {
     "data": {
      "image/png": "[encoded data removed]",
      "text/plain": [
       "<Figure size 432x288 with 1 Axes>"
      ]
     },
     "metadata": {
      "needs_background": "light"
     },
     "output_type": "display_data"
    }
   ],
   "source": [
    "all_lengths = np.concatenate(lengths)\n",
    "\n",
    "plt.hist(all_lengths, np.linspace(0, 1000, 100))\n",
    "plt.ylim(plt.ylim())\n",
    "max_length = max(all_lengths)\n",
    "plt.plot([max_length, max_length], plt.ylim())\n",
    "plt.title(f'Max tokens per example: {max_length}');\n",
    "\n"
   ]
  }
 ],
 "metadata": {
  "colab": {
   "provenance": []
  },
  "kernelspec": {
   "display_name": "Python 3 (ipykernel)",
   "language": "python",
   "name": "python3"
  },
  "language_info": {
   "codemirror_mode": {
    "name": "ipython",
    "version": 3
   },
   "file_extension": ".py",
   "mimetype": "text/x-python",
   "name": "python",
   "nbconvert_exporter": "python",
   "pygments_lexer": "ipython3",
   "version": "3.9.12"
  }
 },
 "nbformat": 4,
 "nbformat_minor": 1
}
