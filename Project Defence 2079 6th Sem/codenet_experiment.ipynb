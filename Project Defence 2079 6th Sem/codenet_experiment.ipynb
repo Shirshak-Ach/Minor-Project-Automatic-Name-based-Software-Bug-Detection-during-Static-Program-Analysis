{
 "cells": [
  {
   "cell_type": "code",
   "execution_count": 3,
   "id": "597ed022",
   "metadata": {},
   "outputs": [],
   "source": [
    "import numpy as np\n",
    "import pandas as pd\n",
    "from sklearn.model_selection import train_test_split\n",
    "from difflib import SequenceMatcher"
   ]
  },
  {
   "cell_type": "code",
   "execution_count": 2,
   "id": "fd392e89",
   "metadata": {},
   "outputs": [],
   "source": [
    "original_code = \"\"\"\n",
    "int main()\n",
    " {\n",
    "     int a, b = 0;\n",
    "     print(\"Hello\");\n",
    "     return 0;\n",
    " }\"\"\"\n",
    "\n",
    "changed_code = \"\"\"\n",
    "int main()\n",
    " {\n",
    "     int a, b = 0;\n",
    "     print(\"Helo\");\n",
    "     return 0;\n",
    " }\"\"\"\n",
    "\n",
    "original_short = \"ehello\"\n",
    "changed_short = \"helio\"\n",
    "\n",
    "original_array = [\"int\", \"i\", \"=\", \"5\", \";\"]\n",
    "changed_array = [\"\\n\", \"int\", \"i\", \"=\", \"4\", \";\"]"
   ]
  },
  {
   "cell_type": "code",
   "execution_count": 3,
   "id": "22d13c8c",
   "metadata": {},
   "outputs": [],
   "source": [
    "seq = SequenceMatcher(None, original_code, changed_code)"
   ]
  },
  {
   "cell_type": "code",
   "execution_count": 4,
   "id": "67fde513",
   "metadata": {},
   "outputs": [
    {
     "data": {
      "text/plain": [
       "[('equal', 0, 49, 0, 49),\n",
       " ('delete', 49, 50, 49, 49),\n",
       " ('equal', 50, 72, 49, 71)]"
      ]
     },
     "execution_count": 4,
     "metadata": {},
     "output_type": "execute_result"
    }
   ],
   "source": [
    "seq.get_opcodes()"
   ]
  },
  {
   "cell_type": "code",
   "execution_count": 5,
   "id": "5aee400b",
   "metadata": {},
   "outputs": [],
   "source": [
    "seq_short = SequenceMatcher(None, original_short, changed_short)"
   ]
  },
  {
   "cell_type": "code",
   "execution_count": 6,
   "id": "01582235",
   "metadata": {},
   "outputs": [
    {
     "data": {
      "text/plain": [
       "[('delete', 0, 1, 0, 0),\n",
       " ('equal', 1, 4, 0, 3),\n",
       " ('replace', 4, 5, 3, 4),\n",
       " ('equal', 5, 6, 4, 5)]"
      ]
     },
     "execution_count": 6,
     "metadata": {},
     "output_type": "execute_result"
    }
   ],
   "source": [
    "seq_short.get_opcodes()"
   ]
  },
  {
   "cell_type": "code",
   "execution_count": 7,
   "id": "7785c485",
   "metadata": {},
   "outputs": [
    {
     "data": {
      "text/plain": [
       "array([], dtype=int32)"
      ]
     },
     "execution_count": 7,
     "metadata": {},
     "output_type": "execute_result"
    }
   ],
   "source": [
    "np.zeros_like(list(original_short), dtype=np.int32)[3:3]"
   ]
  },
  {
   "cell_type": "code",
   "execution_count": 8,
   "id": "67e40396",
   "metadata": {},
   "outputs": [],
   "source": [
    "seq = SequenceMatcher(None, original_array, changed_array)"
   ]
  },
  {
   "cell_type": "code",
   "execution_count": 9,
   "id": "bcce91c5",
   "metadata": {},
   "outputs": [
    {
     "data": {
      "text/plain": [
       "[('insert', 0, 0, 0, 1),\n",
       " ('equal', 0, 3, 1, 4),\n",
       " ('replace', 3, 4, 4, 5),\n",
       " ('equal', 4, 5, 5, 6)]"
      ]
     },
     "execution_count": 9,
     "metadata": {},
     "output_type": "execute_result"
    }
   ],
   "source": [
    "seq.get_opcodes()"
   ]
  },
  {
   "cell_type": "markdown",
   "id": "9efef49d",
   "metadata": {},
   "source": [
    "## Combining metadata files"
   ]
  },
  {
   "cell_type": "code",
   "execution_count": 31,
   "id": "bb841da3",
   "metadata": {},
   "outputs": [],
   "source": [
    "import shutil\n",
    "import glob\n",
    "\n",
    "def merge_metadata_files():\n",
    "    output_filename = 'full_metadata.csv'\n",
    "    column_name_written = False\n",
    "\n",
    "    with open(output_filename, 'wb') as output:\n",
    "        for file_name in glob.glob('D:\\\\defence_data\\\\Project_CodeNet\\\\metadata\\\\*.csv'):\n",
    "            if file_name != output_filename:\n",
    "                with open(file_name, 'rb') as current:\n",
    "                    content = current.readlines()\n",
    "                    \n",
    "                    if not column_name_written:\n",
    "                        output.writelines([content[0]])\n",
    "                        column_name_written = True\n",
    "                    \n",
    "                    for i in range(len(content)):      \n",
    "                        if(str(content[i]).split(',')[4] == \"C\"):\n",
    "                            output.writelines([content[i]])"
   ]
  },
  {
   "cell_type": "code",
   "execution_count": 32,
   "id": "a0df2d76",
   "metadata": {},
   "outputs": [],
   "source": [
    "merge_metadata_files()"
   ]
  },
  {
   "cell_type": "markdown",
   "id": "8336e019",
   "metadata": {},
   "source": [
    "## Extract data"
   ]
  },
  {
   "cell_type": "code",
   "execution_count": 33,
   "id": "1b9c747f",
   "metadata": {},
   "outputs": [
    {
     "name": "stderr",
     "output_type": "stream",
     "text": [
      "C:\\Users\\Hp\\AppData\\Local\\Temp\\ipykernel_18036\\362672389.py:1: DtypeWarning: Columns (11) have mixed types. Specify dtype option on import or set low_memory=False.\n",
      "  metadata = pd.read_csv(\"full_metadata.csv\")\n"
     ]
    },
    {
     "data": {
      "text/html": [
       "<div>\n",
       "<style scoped>\n",
       "    .dataframe tbody tr th:only-of-type {\n",
       "        vertical-align: middle;\n",
       "    }\n",
       "\n",
       "    .dataframe tbody tr th {\n",
       "        vertical-align: top;\n",
       "    }\n",
       "\n",
       "    .dataframe thead th {\n",
       "        text-align: right;\n",
       "    }\n",
       "</style>\n",
       "<table border=\"1\" class=\"dataframe\">\n",
       "  <thead>\n",
       "    <tr style=\"text-align: right;\">\n",
       "      <th></th>\n",
       "      <th>submission_id</th>\n",
       "      <th>problem_id</th>\n",
       "      <th>user_id</th>\n",
       "      <th>date</th>\n",
       "      <th>language</th>\n",
       "      <th>original_language</th>\n",
       "      <th>filename_ext</th>\n",
       "      <th>status</th>\n",
       "      <th>cpu_time</th>\n",
       "      <th>memory</th>\n",
       "      <th>code_size</th>\n",
       "      <th>accuracy</th>\n",
       "    </tr>\n",
       "  </thead>\n",
       "  <tbody>\n",
       "    <tr>\n",
       "      <th>650143</th>\n",
       "      <td>s567951058</td>\n",
       "      <td>p03339</td>\n",
       "      <td>u993046043</td>\n",
       "      <td>1549906690</td>\n",
       "      <td>C</td>\n",
       "      <td>C (GCC 5.4.1)</td>\n",
       "      <td>c</td>\n",
       "      <td>Accepted</td>\n",
       "      <td>5.0</td>\n",
       "      <td>2816.0</td>\n",
       "      <td>650</td>\n",
       "      <td>NaN</td>\n",
       "    </tr>\n",
       "    <tr>\n",
       "      <th>745176</th>\n",
       "      <td>s496284215</td>\n",
       "      <td>p03998</td>\n",
       "      <td>u014442925</td>\n",
       "      <td>1554225157</td>\n",
       "      <td>C</td>\n",
       "      <td>C (GCC 5.4.1)</td>\n",
       "      <td>c</td>\n",
       "      <td>Accepted</td>\n",
       "      <td>1.0</td>\n",
       "      <td>128.0</td>\n",
       "      <td>1834</td>\n",
       "      <td>NaN</td>\n",
       "    </tr>\n",
       "    <tr>\n",
       "      <th>581591</th>\n",
       "      <td>s210305587</td>\n",
       "      <td>p03053</td>\n",
       "      <td>u974706915</td>\n",
       "      <td>1563825829</td>\n",
       "      <td>C</td>\n",
       "      <td>C (GCC 5.4.1)</td>\n",
       "      <td>c</td>\n",
       "      <td>Time Limit Exceeded</td>\n",
       "      <td>1055.0</td>\n",
       "      <td>2048.0</td>\n",
       "      <td>943</td>\n",
       "      <td>NaN</td>\n",
       "    </tr>\n",
       "    <tr>\n",
       "      <th>568041</th>\n",
       "      <td>s382643300</td>\n",
       "      <td>p03000</td>\n",
       "      <td>u896734414</td>\n",
       "      <td>1560712479</td>\n",
       "      <td>C</td>\n",
       "      <td>C (GCC 5.4.1)</td>\n",
       "      <td>c</td>\n",
       "      <td>Wrong Answer</td>\n",
       "      <td>1.0</td>\n",
       "      <td>128.0</td>\n",
       "      <td>397</td>\n",
       "      <td>NaN</td>\n",
       "    </tr>\n",
       "    <tr>\n",
       "      <th>308099</th>\n",
       "      <td>s729260616</td>\n",
       "      <td>p02402</td>\n",
       "      <td>u333124620</td>\n",
       "      <td>1495699278</td>\n",
       "      <td>C</td>\n",
       "      <td>C</td>\n",
       "      <td>c</td>\n",
       "      <td>Accepted</td>\n",
       "      <td>0.0</td>\n",
       "      <td>640.0</td>\n",
       "      <td>322</td>\n",
       "      <td>20/20</td>\n",
       "    </tr>\n",
       "    <tr>\n",
       "      <th>478554</th>\n",
       "      <td>s510002348</td>\n",
       "      <td>p02727</td>\n",
       "      <td>u865456985</td>\n",
       "      <td>1585687155</td>\n",
       "      <td>C</td>\n",
       "      <td>C (GCC 5.4.1)</td>\n",
       "      <td>c</td>\n",
       "      <td>Wrong Answer</td>\n",
       "      <td>61.0</td>\n",
       "      <td>1280.0</td>\n",
       "      <td>1282</td>\n",
       "      <td>NaN</td>\n",
       "    </tr>\n",
       "    <tr>\n",
       "      <th>12718</th>\n",
       "      <td>s819795061</td>\n",
       "      <td>p00003</td>\n",
       "      <td>u862220432</td>\n",
       "      <td>1497717311</td>\n",
       "      <td>C</td>\n",
       "      <td>C</td>\n",
       "      <td>c</td>\n",
       "      <td>Wrong Answer</td>\n",
       "      <td>0.0</td>\n",
       "      <td>580.0</td>\n",
       "      <td>353</td>\n",
       "      <td>0/1</td>\n",
       "    </tr>\n",
       "    <tr>\n",
       "      <th>612082</th>\n",
       "      <td>s658425991</td>\n",
       "      <td>p03177</td>\n",
       "      <td>u657913472</td>\n",
       "      <td>1548218129</td>\n",
       "      <td>C</td>\n",
       "      <td>C (GCC 5.4.1)</td>\n",
       "      <td>c</td>\n",
       "      <td>Accepted</td>\n",
       "      <td>157.0</td>\n",
       "      <td>256.0</td>\n",
       "      <td>300</td>\n",
       "      <td>NaN</td>\n",
       "    </tr>\n",
       "    <tr>\n",
       "      <th>133188</th>\n",
       "      <td>s415110111</td>\n",
       "      <td>p02256</td>\n",
       "      <td>u501711118</td>\n",
       "      <td>1428629819</td>\n",
       "      <td>C</td>\n",
       "      <td>C</td>\n",
       "      <td>c</td>\n",
       "      <td>Accepted</td>\n",
       "      <td>0.0</td>\n",
       "      <td>592.0</td>\n",
       "      <td>218</td>\n",
       "      <td>10/10</td>\n",
       "    </tr>\n",
       "    <tr>\n",
       "      <th>750050</th>\n",
       "      <td>s533580165</td>\n",
       "      <td>p04030</td>\n",
       "      <td>u721060623</td>\n",
       "      <td>1491090820</td>\n",
       "      <td>C</td>\n",
       "      <td>C (GCC 5.4.1)</td>\n",
       "      <td>c</td>\n",
       "      <td>Accepted</td>\n",
       "      <td>1.0</td>\n",
       "      <td>128.0</td>\n",
       "      <td>304</td>\n",
       "      <td>NaN</td>\n",
       "    </tr>\n",
       "  </tbody>\n",
       "</table>\n",
       "</div>"
      ],
      "text/plain": [
       "       submission_id problem_id     user_id        date language  \\\n",
       "650143    s567951058     p03339  u993046043  1549906690        C   \n",
       "745176    s496284215     p03998  u014442925  1554225157        C   \n",
       "581591    s210305587     p03053  u974706915  1563825829        C   \n",
       "568041    s382643300     p03000  u896734414  1560712479        C   \n",
       "308099    s729260616     p02402  u333124620  1495699278        C   \n",
       "478554    s510002348     p02727  u865456985  1585687155        C   \n",
       "12718     s819795061     p00003  u862220432  1497717311        C   \n",
       "612082    s658425991     p03177  u657913472  1548218129        C   \n",
       "133188    s415110111     p02256  u501711118  1428629819        C   \n",
       "750050    s533580165     p04030  u721060623  1491090820        C   \n",
       "\n",
       "       original_language filename_ext               status  cpu_time  memory  \\\n",
       "650143     C (GCC 5.4.1)            c             Accepted       5.0  2816.0   \n",
       "745176     C (GCC 5.4.1)            c             Accepted       1.0   128.0   \n",
       "581591     C (GCC 5.4.1)            c  Time Limit Exceeded    1055.0  2048.0   \n",
       "568041     C (GCC 5.4.1)            c         Wrong Answer       1.0   128.0   \n",
       "308099                 C            c             Accepted       0.0   640.0   \n",
       "478554     C (GCC 5.4.1)            c         Wrong Answer      61.0  1280.0   \n",
       "12718                  C            c         Wrong Answer       0.0   580.0   \n",
       "612082     C (GCC 5.4.1)            c             Accepted     157.0   256.0   \n",
       "133188                 C            c             Accepted       0.0   592.0   \n",
       "750050     C (GCC 5.4.1)            c             Accepted       1.0   128.0   \n",
       "\n",
       "        code_size accuracy  \n",
       "650143        650      NaN  \n",
       "745176       1834      NaN  \n",
       "581591        943      NaN  \n",
       "568041        397      NaN  \n",
       "308099        322    20/20  \n",
       "478554       1282      NaN  \n",
       "12718         353      0/1  \n",
       "612082        300      NaN  \n",
       "133188        218    10/10  \n",
       "750050        304      NaN  "
      ]
     },
     "execution_count": 33,
     "metadata": {},
     "output_type": "execute_result"
    }
   ],
   "source": [
    "metadata = pd.read_csv(\"full_metadata.csv\")\n",
    "metadata.sample(10)"
   ]
  },
  {
   "cell_type": "code",
   "execution_count": 34,
   "id": "a13aeeb7",
   "metadata": {},
   "outputs": [
    {
     "data": {
      "text/plain": [
       "(754058, 12)"
      ]
     },
     "execution_count": 34,
     "metadata": {},
     "output_type": "execute_result"
    }
   ],
   "source": [
    "metadata.shape"
   ]
  },
  {
   "cell_type": "code",
   "execution_count": 40,
   "id": "a03fcd33",
   "metadata": {},
   "outputs": [],
   "source": [
    "def read_code_file(problem_id, submission_id):\n",
    "    with open(\"D:\\\\defence_data\\\\Project_CodeNet\\\\data\\\\{}\\\\C\\\\{}.c\"\n",
    "              .format(problem_id, submission_id),encoding=\"utf8\") as f:\n",
    "        return f.read()"
   ]
  },
  {
   "cell_type": "code",
   "execution_count": 41,
   "id": "cca5ed84",
   "metadata": {},
   "outputs": [],
   "source": [
    "filtered_df = pd.DataFrame()"
   ]
  },
  {
   "cell_type": "code",
   "execution_count": 42,
   "id": "e48180cc",
   "metadata": {},
   "outputs": [
    {
     "data": {
      "text/html": [
       "<div>\n",
       "<style scoped>\n",
       "    .dataframe tbody tr th:only-of-type {\n",
       "        vertical-align: middle;\n",
       "    }\n",
       "\n",
       "    .dataframe tbody tr th {\n",
       "        vertical-align: top;\n",
       "    }\n",
       "\n",
       "    .dataframe thead th {\n",
       "        text-align: right;\n",
       "    }\n",
       "</style>\n",
       "<table border=\"1\" class=\"dataframe\">\n",
       "  <thead>\n",
       "    <tr style=\"text-align: right;\">\n",
       "      <th></th>\n",
       "    </tr>\n",
       "  </thead>\n",
       "  <tbody>\n",
       "  </tbody>\n",
       "</table>\n",
       "</div>"
      ],
      "text/plain": [
       "Empty DataFrame\n",
       "Columns: []\n",
       "Index: []"
      ]
     },
     "execution_count": 42,
     "metadata": {},
     "output_type": "execute_result"
    }
   ],
   "source": [
    "filtered_df"
   ]
  },
  {
   "cell_type": "code",
   "execution_count": 43,
   "id": "3e03f135",
   "metadata": {},
   "outputs": [
    {
     "data": {
      "text/plain": [
       "754058"
      ]
     },
     "execution_count": 43,
     "metadata": {},
     "output_type": "execute_result"
    }
   ],
   "source": [
    "metadata.index.size"
   ]
  },
  {
   "cell_type": "code",
   "execution_count": 44,
   "id": "342b5884",
   "metadata": {
    "scrolled": false
   },
   "outputs": [
    {
     "name": "stdout",
     "output_type": "stream",
     "text": [
      "3829\n"
     ]
    }
   ],
   "source": [
    "count = 0\n",
    "max_difference = 30\n",
    "indexes = metadata.index\n",
    "\n",
    "for i in indexes[0:-1]:\n",
    "    if(metadata[\"status\"][i] == \"Runtime Error\" and metadata[\"status\"][i+1] == \"Accepted\"\n",
    "      and metadata[\"user_id\"][i] == metadata[\"user_id\"][i+1]\n",
    "      and abs(metadata[\"code_size\"][i] - metadata[\"code_size\"][i+1]) < max_difference\n",
    "      and metadata[\"problem_id\"][i] == metadata[\"problem_id\"][i+1]):\n",
    "        \n",
    "        problem_id = metadata[\"problem_id\"][i]\n",
    "        \n",
    "        bug_submission_id = metadata[\"submission_id\"][i]\n",
    "        correct_submission_id = metadata[\"submission_id\"][i+1]\n",
    "        \n",
    "        filtered_df = pd.concat([filtered_df, pd.DataFrame(\n",
    "            {\n",
    "                \"buggy_code\": read_code_file(problem_id, bug_submission_id),\n",
    "                \"correct_code\": read_code_file(problem_id, correct_submission_id),\n",
    "                \"problem_id\": problem_id,\n",
    "                \"buggy_code_submission_id\": bug_submission_id,\n",
    "                \"correct_code_submission_id\": correct_submission_id\n",
    "            },\n",
    "            index=[count])])\n",
    "        count += 1\n",
    "        \n",
    "print(count)"
   ]
  },
  {
   "cell_type": "code",
   "execution_count": 45,
   "id": "2643cec4",
   "metadata": {},
   "outputs": [
    {
     "data": {
      "text/html": [
       "<div>\n",
       "<style scoped>\n",
       "    .dataframe tbody tr th:only-of-type {\n",
       "        vertical-align: middle;\n",
       "    }\n",
       "\n",
       "    .dataframe tbody tr th {\n",
       "        vertical-align: top;\n",
       "    }\n",
       "\n",
       "    .dataframe thead th {\n",
       "        text-align: right;\n",
       "    }\n",
       "</style>\n",
       "<table border=\"1\" class=\"dataframe\">\n",
       "  <thead>\n",
       "    <tr style=\"text-align: right;\">\n",
       "      <th></th>\n",
       "      <th>buggy_code</th>\n",
       "      <th>correct_code</th>\n",
       "      <th>problem_id</th>\n",
       "      <th>buggy_code_submission_id</th>\n",
       "      <th>correct_code_submission_id</th>\n",
       "    </tr>\n",
       "  </thead>\n",
       "  <tbody>\n",
       "    <tr>\n",
       "      <th>0</th>\n",
       "      <td>i;main(j){for(;i++&lt;9;)for(j=0;j++&lt;9;)printf(\"%...</td>\n",
       "      <td>i;main(j){for(;i++&lt;9;)for(j=0;j++&lt;9;)printf(\"%...</td>\n",
       "      <td>p00000</td>\n",
       "      <td>s807257751</td>\n",
       "      <td>s380297172</td>\n",
       "    </tr>\n",
       "    <tr>\n",
       "      <th>1</th>\n",
       "      <td>#include &lt;stdio.h&gt;\\n\\nint main()\\n{\\n    int i...</td>\n",
       "      <td>#include &lt;stdio.h&gt;\\n\\nint main()\\n{\\n    int i...</td>\n",
       "      <td>p00000</td>\n",
       "      <td>s614489951</td>\n",
       "      <td>s192028699</td>\n",
       "    </tr>\n",
       "    <tr>\n",
       "      <th>2</th>\n",
       "      <td>int i,j;main(){for(i;++i&lt;10;){for(j=0;++j&lt;10;)...</td>\n",
       "      <td>int i,j;main(){for(i;++i&lt;10;){for(j=0;++j&lt;10;)...</td>\n",
       "      <td>p00000</td>\n",
       "      <td>s187894075</td>\n",
       "      <td>s855404770</td>\n",
       "    </tr>\n",
       "    <tr>\n",
       "      <th>3</th>\n",
       "      <td>main(i,j){for(i=1;i&lt;=9;i++)for(j=1;j&lt;=9;j++)pr...</td>\n",
       "      <td>main(i,j){for(i=1;i&lt;=9;i++)for(j=1;j&lt;=9;j++)pr...</td>\n",
       "      <td>p00000</td>\n",
       "      <td>s164749481</td>\n",
       "      <td>s229822026</td>\n",
       "    </tr>\n",
       "    <tr>\n",
       "      <th>4</th>\n",
       "      <td>main(i,j){for(i=1;i&lt;=9;i++)for(j=1;j&lt;=9;printf...</td>\n",
       "      <td>main(i,j){for(j=1;j&lt;=9;printf(\"%dx%d=%d\\n\",i,j...</td>\n",
       "      <td>p00000</td>\n",
       "      <td>s788910072</td>\n",
       "      <td>s525142539</td>\n",
       "    </tr>\n",
       "    <tr>\n",
       "      <th>...</th>\n",
       "      <td>...</td>\n",
       "      <td>...</td>\n",
       "      <td>...</td>\n",
       "      <td>...</td>\n",
       "      <td>...</td>\n",
       "    </tr>\n",
       "    <tr>\n",
       "      <th>3824</th>\n",
       "      <td>#include &lt;stdio.h&gt;\\n\\nint main(){\\n    int a,b...</td>\n",
       "      <td>#include &lt;stdio.h&gt;\\n\\nint main(){\\n    int a,b...</td>\n",
       "      <td>p03997</td>\n",
       "      <td>s359521643</td>\n",
       "      <td>s068836925</td>\n",
       "    </tr>\n",
       "    <tr>\n",
       "      <th>3825</th>\n",
       "      <td>#include&lt;stdio.h&gt;\\n#include&lt;string.h&gt;\\n\\nint m...</td>\n",
       "      <td>#include&lt;stdio.h&gt;\\nint main()\\n{\\n    char c1,...</td>\n",
       "      <td>p04012</td>\n",
       "      <td>s413335847</td>\n",
       "      <td>s086128679</td>\n",
       "    </tr>\n",
       "    <tr>\n",
       "      <th>3826</th>\n",
       "      <td>#include&lt;stdio.h&gt;\\n#include&lt;stdlib.h&gt;\\n#includ...</td>\n",
       "      <td>#include&lt;stdio.h&gt;\\n#include&lt;stdlib.h&gt;\\n#includ...</td>\n",
       "      <td>p04013</td>\n",
       "      <td>s583188520</td>\n",
       "      <td>s830816697</td>\n",
       "    </tr>\n",
       "    <tr>\n",
       "      <th>3827</th>\n",
       "      <td>#include&lt;stdio.h&gt;\\n#include&lt;string.h&gt;\\n\\n#defi...</td>\n",
       "      <td>#include&lt;stdio.h&gt;\\n#include&lt;string.h&gt;\\n\\n#defi...</td>\n",
       "      <td>p04044</td>\n",
       "      <td>s175360180</td>\n",
       "      <td>s701954551</td>\n",
       "    </tr>\n",
       "    <tr>\n",
       "      <th>3828</th>\n",
       "      <td>strcmp;\\nchar s[111][111];i;\\nmain(j){\\n\\tfor(...</td>\n",
       "      <td>strcmp();\\nchar s[111][111];i;\\nmain(j){\\n\\tfo...</td>\n",
       "      <td>p04044</td>\n",
       "      <td>s425471141</td>\n",
       "      <td>s459638318</td>\n",
       "    </tr>\n",
       "  </tbody>\n",
       "</table>\n",
       "<p>3829 rows × 5 columns</p>\n",
       "</div>"
      ],
      "text/plain": [
       "                                             buggy_code  \\\n",
       "0     i;main(j){for(;i++<9;)for(j=0;j++<9;)printf(\"%...   \n",
       "1     #include <stdio.h>\\n\\nint main()\\n{\\n    int i...   \n",
       "2     int i,j;main(){for(i;++i<10;){for(j=0;++j<10;)...   \n",
       "3     main(i,j){for(i=1;i<=9;i++)for(j=1;j<=9;j++)pr...   \n",
       "4     main(i,j){for(i=1;i<=9;i++)for(j=1;j<=9;printf...   \n",
       "...                                                 ...   \n",
       "3824  #include <stdio.h>\\n\\nint main(){\\n    int a,b...   \n",
       "3825  #include<stdio.h>\\n#include<string.h>\\n\\nint m...   \n",
       "3826  #include<stdio.h>\\n#include<stdlib.h>\\n#includ...   \n",
       "3827  #include<stdio.h>\\n#include<string.h>\\n\\n#defi...   \n",
       "3828  strcmp;\\nchar s[111][111];i;\\nmain(j){\\n\\tfor(...   \n",
       "\n",
       "                                           correct_code problem_id  \\\n",
       "0     i;main(j){for(;i++<9;)for(j=0;j++<9;)printf(\"%...     p00000   \n",
       "1     #include <stdio.h>\\n\\nint main()\\n{\\n    int i...     p00000   \n",
       "2     int i,j;main(){for(i;++i<10;){for(j=0;++j<10;)...     p00000   \n",
       "3     main(i,j){for(i=1;i<=9;i++)for(j=1;j<=9;j++)pr...     p00000   \n",
       "4     main(i,j){for(j=1;j<=9;printf(\"%dx%d=%d\\n\",i,j...     p00000   \n",
       "...                                                 ...        ...   \n",
       "3824  #include <stdio.h>\\n\\nint main(){\\n    int a,b...     p03997   \n",
       "3825  #include<stdio.h>\\nint main()\\n{\\n    char c1,...     p04012   \n",
       "3826  #include<stdio.h>\\n#include<stdlib.h>\\n#includ...     p04013   \n",
       "3827  #include<stdio.h>\\n#include<string.h>\\n\\n#defi...     p04044   \n",
       "3828  strcmp();\\nchar s[111][111];i;\\nmain(j){\\n\\tfo...     p04044   \n",
       "\n",
       "     buggy_code_submission_id correct_code_submission_id  \n",
       "0                  s807257751                 s380297172  \n",
       "1                  s614489951                 s192028699  \n",
       "2                  s187894075                 s855404770  \n",
       "3                  s164749481                 s229822026  \n",
       "4                  s788910072                 s525142539  \n",
       "...                       ...                        ...  \n",
       "3824               s359521643                 s068836925  \n",
       "3825               s413335847                 s086128679  \n",
       "3826               s583188520                 s830816697  \n",
       "3827               s175360180                 s701954551  \n",
       "3828               s425471141                 s459638318  \n",
       "\n",
       "[3829 rows x 5 columns]"
      ]
     },
     "execution_count": 45,
     "metadata": {},
     "output_type": "execute_result"
    }
   ],
   "source": [
    "filtered_df"
   ]
  },
  {
   "cell_type": "code",
   "execution_count": 46,
   "id": "1235af5f",
   "metadata": {},
   "outputs": [],
   "source": [
    "train, test = train_test_split(filtered_df, test_size=0.2)"
   ]
  },
  {
   "cell_type": "code",
   "execution_count": 47,
   "id": "edf113a4",
   "metadata": {},
   "outputs": [
    {
     "data": {
      "text/html": [
       "<div>\n",
       "<style scoped>\n",
       "    .dataframe tbody tr th:only-of-type {\n",
       "        vertical-align: middle;\n",
       "    }\n",
       "\n",
       "    .dataframe tbody tr th {\n",
       "        vertical-align: top;\n",
       "    }\n",
       "\n",
       "    .dataframe thead th {\n",
       "        text-align: right;\n",
       "    }\n",
       "</style>\n",
       "<table border=\"1\" class=\"dataframe\">\n",
       "  <thead>\n",
       "    <tr style=\"text-align: right;\">\n",
       "      <th></th>\n",
       "      <th>buggy_code</th>\n",
       "      <th>correct_code</th>\n",
       "      <th>problem_id</th>\n",
       "      <th>buggy_code_submission_id</th>\n",
       "      <th>correct_code_submission_id</th>\n",
       "    </tr>\n",
       "  </thead>\n",
       "  <tbody>\n",
       "    <tr>\n",
       "      <th>1283</th>\n",
       "      <td>c;main(r){for(;scanf(\"%d%d\",&amp;r,&amp;c),r;)puts(r&amp;c...</td>\n",
       "      <td>c;main(r){for(;scanf(\"%d%d\",&amp;r,&amp;c),r;)puts((r&amp;...</td>\n",
       "      <td>p00657</td>\n",
       "      <td>s362273130</td>\n",
       "      <td>s011867637</td>\n",
       "    </tr>\n",
       "    <tr>\n",
       "      <th>845</th>\n",
       "      <td>a[100],l,r,p,n;main(c){for(;l=scanf(\"%d\",&amp;r)*r...</td>\n",
       "      <td>a[100],l,r,p,n;main(c){for(;l=scanf(\"%d\",&amp;r)*r...</td>\n",
       "      <td>p00188</td>\n",
       "      <td>s446966487</td>\n",
       "      <td>s278308646</td>\n",
       "    </tr>\n",
       "    <tr>\n",
       "      <th>813</th>\n",
       "      <td>#include &lt;stdio.h&gt;\\nint main (void)\\n{\\nint a,...</td>\n",
       "      <td>#include &lt;stdio.h&gt;\\nint main (void)\\n{\\nint a,...</td>\n",
       "      <td>p00161</td>\n",
       "      <td>s570559021</td>\n",
       "      <td>s490040394</td>\n",
       "    </tr>\n",
       "    <tr>\n",
       "      <th>532</th>\n",
       "      <td>#include &lt;stdio.h&gt;\\n#include &lt;math.h&gt;\\n\\nchar ...</td>\n",
       "      <td>#include &lt;stdio.h&gt;\\n#include &lt;math.h&gt;\\n\\nchar ...</td>\n",
       "      <td>p00044</td>\n",
       "      <td>s367988925</td>\n",
       "      <td>s836296672</td>\n",
       "    </tr>\n",
       "    <tr>\n",
       "      <th>2965</th>\n",
       "      <td>#include &lt;stdio.h&gt;\\nint main(void)\\n{\\n  int a...</td>\n",
       "      <td>#include &lt;stdio.h&gt;\\nint main(void)\\n{\\n  int a...</td>\n",
       "      <td>p02398</td>\n",
       "      <td>s272396205</td>\n",
       "      <td>s183587626</td>\n",
       "    </tr>\n",
       "    <tr>\n",
       "      <th>...</th>\n",
       "      <td>...</td>\n",
       "      <td>...</td>\n",
       "      <td>...</td>\n",
       "      <td>...</td>\n",
       "      <td>...</td>\n",
       "    </tr>\n",
       "    <tr>\n",
       "      <th>1350</th>\n",
       "      <td>Y,M,D;main(n){for(scanf(\"%d\",&amp;n);Y=n--;scanf(\"...</td>\n",
       "      <td>main(Y,M,D){for(scanf(\"%*d\");~scanf(\"%d%d%d\",&amp;...</td>\n",
       "      <td>p00760</td>\n",
       "      <td>s689276410</td>\n",
       "      <td>s312350405</td>\n",
       "    </tr>\n",
       "    <tr>\n",
       "      <th>3703</th>\n",
       "      <td>#include &lt;stdio.h&gt;\\n\\nint main(void){\\n\\n    i...</td>\n",
       "      <td>#include &lt;stdio.h&gt;\\n\\nint main(void){\\n\\n    i...</td>\n",
       "      <td>p02755</td>\n",
       "      <td>s606604490</td>\n",
       "      <td>s226498916</td>\n",
       "    </tr>\n",
       "    <tr>\n",
       "      <th>2252</th>\n",
       "      <td>#include&lt;stdio.h&gt;\\n \\nvoid swap(int* a,int* b)...</td>\n",
       "      <td>#include&lt;stdio.h&gt;\\n \\nvoid swap(int* a,int* b)...</td>\n",
       "      <td>p02276</td>\n",
       "      <td>s948095782</td>\n",
       "      <td>s563397808</td>\n",
       "    </tr>\n",
       "    <tr>\n",
       "      <th>3550</th>\n",
       "      <td>h;main(w){for(;~scanf(\"%d%d\",&amp;h,&amp;w);puts(\"\"))f...</td>\n",
       "      <td>h;main(w){for(;scanf(\"%d%d\",&amp;h,&amp;w),h|w;puts(\"\"...</td>\n",
       "      <td>p02494</td>\n",
       "      <td>s863615576</td>\n",
       "      <td>s020921668</td>\n",
       "    </tr>\n",
       "    <tr>\n",
       "      <th>2288</th>\n",
       "      <td>#include&lt;stdio.h&gt;\\n#define N 100\\n#define NIL ...</td>\n",
       "      <td>#include&lt;stdio.h&gt;\\n#define N 1000000\\n#define ...</td>\n",
       "      <td>p02279</td>\n",
       "      <td>s381719446</td>\n",
       "      <td>s501823091</td>\n",
       "    </tr>\n",
       "  </tbody>\n",
       "</table>\n",
       "<p>3063 rows × 5 columns</p>\n",
       "</div>"
      ],
      "text/plain": [
       "                                             buggy_code  \\\n",
       "1283  c;main(r){for(;scanf(\"%d%d\",&r,&c),r;)puts(r&c...   \n",
       "845   a[100],l,r,p,n;main(c){for(;l=scanf(\"%d\",&r)*r...   \n",
       "813   #include <stdio.h>\\nint main (void)\\n{\\nint a,...   \n",
       "532   #include <stdio.h>\\n#include <math.h>\\n\\nchar ...   \n",
       "2965  #include <stdio.h>\\nint main(void)\\n{\\n  int a...   \n",
       "...                                                 ...   \n",
       "1350  Y,M,D;main(n){for(scanf(\"%d\",&n);Y=n--;scanf(\"...   \n",
       "3703  #include <stdio.h>\\n\\nint main(void){\\n\\n    i...   \n",
       "2252  #include<stdio.h>\\n \\nvoid swap(int* a,int* b)...   \n",
       "3550  h;main(w){for(;~scanf(\"%d%d\",&h,&w);puts(\"\"))f...   \n",
       "2288  #include<stdio.h>\\n#define N 100\\n#define NIL ...   \n",
       "\n",
       "                                           correct_code problem_id  \\\n",
       "1283  c;main(r){for(;scanf(\"%d%d\",&r,&c),r;)puts((r&...     p00657   \n",
       "845   a[100],l,r,p,n;main(c){for(;l=scanf(\"%d\",&r)*r...     p00188   \n",
       "813   #include <stdio.h>\\nint main (void)\\n{\\nint a,...     p00161   \n",
       "532   #include <stdio.h>\\n#include <math.h>\\n\\nchar ...     p00044   \n",
       "2965  #include <stdio.h>\\nint main(void)\\n{\\n  int a...     p02398   \n",
       "...                                                 ...        ...   \n",
       "1350  main(Y,M,D){for(scanf(\"%*d\");~scanf(\"%d%d%d\",&...     p00760   \n",
       "3703  #include <stdio.h>\\n\\nint main(void){\\n\\n    i...     p02755   \n",
       "2252  #include<stdio.h>\\n \\nvoid swap(int* a,int* b)...     p02276   \n",
       "3550  h;main(w){for(;scanf(\"%d%d\",&h,&w),h|w;puts(\"\"...     p02494   \n",
       "2288  #include<stdio.h>\\n#define N 1000000\\n#define ...     p02279   \n",
       "\n",
       "     buggy_code_submission_id correct_code_submission_id  \n",
       "1283               s362273130                 s011867637  \n",
       "845                s446966487                 s278308646  \n",
       "813                s570559021                 s490040394  \n",
       "532                s367988925                 s836296672  \n",
       "2965               s272396205                 s183587626  \n",
       "...                       ...                        ...  \n",
       "1350               s689276410                 s312350405  \n",
       "3703               s606604490                 s226498916  \n",
       "2252               s948095782                 s563397808  \n",
       "3550               s863615576                 s020921668  \n",
       "2288               s381719446                 s501823091  \n",
       "\n",
       "[3063 rows x 5 columns]"
      ]
     },
     "execution_count": 47,
     "metadata": {},
     "output_type": "execute_result"
    }
   ],
   "source": [
    "train"
   ]
  },
  {
   "cell_type": "code",
   "execution_count": 48,
   "id": "f164f7bc",
   "metadata": {},
   "outputs": [],
   "source": [
    "train.to_csv(\"filtered_data_train.csv\", index=False)\n",
    "test.to_csv(\"filtered_data_test.csv\", index=False)"
   ]
  },
  {
   "cell_type": "markdown",
   "id": "e06d07fa",
   "metadata": {},
   "source": [
    "## Masking and Tokenization"
   ]
  },
  {
   "cell_type": "code",
   "execution_count": 4,
   "id": "6e211115",
   "metadata": {},
   "outputs": [
    {
     "data": {
      "text/html": [
       "<div>\n",
       "<style scoped>\n",
       "    .dataframe tbody tr th:only-of-type {\n",
       "        vertical-align: middle;\n",
       "    }\n",
       "\n",
       "    .dataframe tbody tr th {\n",
       "        vertical-align: top;\n",
       "    }\n",
       "\n",
       "    .dataframe thead th {\n",
       "        text-align: right;\n",
       "    }\n",
       "</style>\n",
       "<table border=\"1\" class=\"dataframe\">\n",
       "  <thead>\n",
       "    <tr style=\"text-align: right;\">\n",
       "      <th></th>\n",
       "      <th>buggy_code</th>\n",
       "      <th>correct_code</th>\n",
       "      <th>problem_id</th>\n",
       "      <th>buggy_code_submission_id</th>\n",
       "      <th>correct_code_submission_id</th>\n",
       "    </tr>\n",
       "  </thead>\n",
       "  <tbody>\n",
       "    <tr>\n",
       "      <th>245</th>\n",
       "      <td>#include&lt;stdio.h&gt;\\nint main(void)\\n{\\n    int ...</td>\n",
       "      <td>#include&lt;stdio.h&gt;\\nint main(void)\\n{\\n    int ...</td>\n",
       "      <td>p00489</td>\n",
       "      <td>s355798126</td>\n",
       "      <td>s458763493</td>\n",
       "    </tr>\n",
       "    <tr>\n",
       "      <th>2079</th>\n",
       "      <td>#include &lt;stdio.h&gt;\\n#include&lt;string.h&gt;\\nint bi...</td>\n",
       "      <td>#include &lt;stdio.h&gt;\\n#include&lt;string.h&gt;\\nint bi...</td>\n",
       "      <td>p02268</td>\n",
       "      <td>s652144487</td>\n",
       "      <td>s074007499</td>\n",
       "    </tr>\n",
       "    <tr>\n",
       "      <th>2341</th>\n",
       "      <td>#include&lt;stdio.h&gt;\\n\\nint main()\\n{\\n     int x...</td>\n",
       "      <td>#include&lt;stdio.h&gt;\\n\\nint main()\\n{\\n     int x...</td>\n",
       "      <td>p02480</td>\n",
       "      <td>s312665934</td>\n",
       "      <td>s574762356</td>\n",
       "    </tr>\n",
       "    <tr>\n",
       "      <th>20</th>\n",
       "      <td>#include&lt;stdio.h&gt;\\nint main (void)\\n{\\n\\tint x...</td>\n",
       "      <td>#include&lt;stdio.h&gt;\\nint main (void)\\n{\\n\\tint x...</td>\n",
       "      <td>p02388</td>\n",
       "      <td>s704739223</td>\n",
       "      <td>s990980705</td>\n",
       "    </tr>\n",
       "    <tr>\n",
       "      <th>2952</th>\n",
       "      <td>#include&lt;stdio.h&gt;\\nint main(){\\n    int a, b, ...</td>\n",
       "      <td>#include&lt;stdio.h&gt;\\nint main(){\\n    int a, b, ...</td>\n",
       "      <td>p02392</td>\n",
       "      <td>s629761874</td>\n",
       "      <td>s421007876</td>\n",
       "    </tr>\n",
       "  </tbody>\n",
       "</table>\n",
       "</div>"
      ],
      "text/plain": [
       "                                             buggy_code  \\\n",
       "245   #include<stdio.h>\\nint main(void)\\n{\\n    int ...   \n",
       "2079  #include <stdio.h>\\n#include<string.h>\\nint bi...   \n",
       "2341  #include<stdio.h>\\n\\nint main()\\n{\\n     int x...   \n",
       "20    #include<stdio.h>\\nint main (void)\\n{\\n\\tint x...   \n",
       "2952  #include<stdio.h>\\nint main(){\\n    int a, b, ...   \n",
       "\n",
       "                                           correct_code problem_id  \\\n",
       "245   #include<stdio.h>\\nint main(void)\\n{\\n    int ...     p00489   \n",
       "2079  #include <stdio.h>\\n#include<string.h>\\nint bi...     p02268   \n",
       "2341  #include<stdio.h>\\n\\nint main()\\n{\\n     int x...     p02480   \n",
       "20    #include<stdio.h>\\nint main (void)\\n{\\n\\tint x...     p02388   \n",
       "2952  #include<stdio.h>\\nint main(){\\n    int a, b, ...     p02392   \n",
       "\n",
       "     buggy_code_submission_id correct_code_submission_id  \n",
       "245                s355798126                 s458763493  \n",
       "2079               s652144487                 s074007499  \n",
       "2341               s312665934                 s574762356  \n",
       "20                 s704739223                 s990980705  \n",
       "2952               s629761874                 s421007876  "
      ]
     },
     "execution_count": 4,
     "metadata": {},
     "output_type": "execute_result"
    }
   ],
   "source": [
    "df_train = pd.read_csv(\"filtered_data_train.csv\")\n",
    "df_train.sample(5)"
   ]
  },
  {
   "cell_type": "code",
   "execution_count": 5,
   "id": "63fbda83",
   "metadata": {},
   "outputs": [
    {
     "data": {
      "text/html": [
       "<div>\n",
       "<style scoped>\n",
       "    .dataframe tbody tr th:only-of-type {\n",
       "        vertical-align: middle;\n",
       "    }\n",
       "\n",
       "    .dataframe tbody tr th {\n",
       "        vertical-align: top;\n",
       "    }\n",
       "\n",
       "    .dataframe thead th {\n",
       "        text-align: right;\n",
       "    }\n",
       "</style>\n",
       "<table border=\"1\" class=\"dataframe\">\n",
       "  <thead>\n",
       "    <tr style=\"text-align: right;\">\n",
       "      <th></th>\n",
       "      <th>buggy_code</th>\n",
       "      <th>correct_code</th>\n",
       "      <th>problem_id</th>\n",
       "      <th>buggy_code_submission_id</th>\n",
       "      <th>correct_code_submission_id</th>\n",
       "    </tr>\n",
       "  </thead>\n",
       "  <tbody>\n",
       "    <tr>\n",
       "      <th>159</th>\n",
       "      <td>\\n#include &lt;stdio.h&gt;\\nint main(void)\\n{\\n\\tint...</td>\n",
       "      <td>\\n#include &lt;stdio.h&gt;\\nint main(void)\\n{\\n\\tint...</td>\n",
       "      <td>p00049</td>\n",
       "      <td>s374071296</td>\n",
       "      <td>s452492909</td>\n",
       "    </tr>\n",
       "    <tr>\n",
       "      <th>367</th>\n",
       "      <td>#include&lt;stdio.h&gt;\\n#define N 10\\n#define M 11\\...</td>\n",
       "      <td>#include&lt;stdio.h&gt;\\n#define N 100\\n#define M 11...</td>\n",
       "      <td>p00102</td>\n",
       "      <td>s245839272</td>\n",
       "      <td>s703478245</td>\n",
       "    </tr>\n",
       "    <tr>\n",
       "      <th>263</th>\n",
       "      <td>#include &lt;stdio.h&gt;\\n#include &lt;stdlib.h&gt;\\n#incl...</td>\n",
       "      <td>#include &lt;stdio.h&gt;\\n#include &lt;stdlib.h&gt;\\n#incl...</td>\n",
       "      <td>p02265</td>\n",
       "      <td>s938007148</td>\n",
       "      <td>s737593613</td>\n",
       "    </tr>\n",
       "    <tr>\n",
       "      <th>341</th>\n",
       "      <td>#include&lt;stdio.h&gt;\\n\\nint main(void){\\n\\nint a,...</td>\n",
       "      <td>#include&lt;stdio.h&gt;\\n\\nint main(void){\\n\\nint a,...</td>\n",
       "      <td>p02399</td>\n",
       "      <td>s068373930</td>\n",
       "      <td>s972920950</td>\n",
       "    </tr>\n",
       "    <tr>\n",
       "      <th>675</th>\n",
       "      <td>#include &lt;stdio.h&gt;\\n#include &lt;limits.h&gt;\\n\\n#de...</td>\n",
       "      <td>#include &lt;stdio.h&gt;\\n#include &lt;limits.h&gt;\\n\\n#de...</td>\n",
       "      <td>p00586</td>\n",
       "      <td>s848573407</td>\n",
       "      <td>s834614614</td>\n",
       "    </tr>\n",
       "  </tbody>\n",
       "</table>\n",
       "</div>"
      ],
      "text/plain": [
       "                                            buggy_code  \\\n",
       "159  \\n#include <stdio.h>\\nint main(void)\\n{\\n\\tint...   \n",
       "367  #include<stdio.h>\\n#define N 10\\n#define M 11\\...   \n",
       "263  #include <stdio.h>\\n#include <stdlib.h>\\n#incl...   \n",
       "341  #include<stdio.h>\\n\\nint main(void){\\n\\nint a,...   \n",
       "675  #include <stdio.h>\\n#include <limits.h>\\n\\n#de...   \n",
       "\n",
       "                                          correct_code problem_id  \\\n",
       "159  \\n#include <stdio.h>\\nint main(void)\\n{\\n\\tint...     p00049   \n",
       "367  #include<stdio.h>\\n#define N 100\\n#define M 11...     p00102   \n",
       "263  #include <stdio.h>\\n#include <stdlib.h>\\n#incl...     p02265   \n",
       "341  #include<stdio.h>\\n\\nint main(void){\\n\\nint a,...     p02399   \n",
       "675  #include <stdio.h>\\n#include <limits.h>\\n\\n#de...     p00586   \n",
       "\n",
       "    buggy_code_submission_id correct_code_submission_id  \n",
       "159               s374071296                 s452492909  \n",
       "367               s245839272                 s703478245  \n",
       "263               s938007148                 s737593613  \n",
       "341               s068373930                 s972920950  \n",
       "675               s848573407                 s834614614  "
      ]
     },
     "execution_count": 5,
     "metadata": {},
     "output_type": "execute_result"
    }
   ],
   "source": [
    "df_test = pd.read_csv(\"filtered_data_test.csv\")\n",
    "df_test.sample(5)"
   ]
  },
  {
   "cell_type": "code",
   "execution_count": 12,
   "id": "2b366b10",
   "metadata": {},
   "outputs": [
    {
     "data": {
      "text/plain": [
       "<bound method IndexOpsMixin.value_counts of 0       c;main(r){for(;scanf(\"%d%d\",&r,&c),r;)puts(r&c...\n",
       "1       a[100],l,r,p,n;main(c){for(;l=scanf(\"%d\",&r)*r...\n",
       "2       #include <stdio.h>\\nint main (void)\\n{\\nint a,...\n",
       "3       #include <stdio.h>\\n#include <math.h>\\n\\nchar ...\n",
       "4       #include <stdio.h>\\nint main(void)\\n{\\n  int a...\n",
       "                              ...                        \n",
       "3058    Y,M,D;main(n){for(scanf(\"%d\",&n);Y=n--;scanf(\"...\n",
       "3059    #include <stdio.h>\\n\\nint main(void){\\n\\n    i...\n",
       "3060    #include<stdio.h>\\n \\nvoid swap(int* a,int* b)...\n",
       "3061    h;main(w){for(;~scanf(\"%d%d\",&h,&w);puts(\"\"))f...\n",
       "3062    #include<stdio.h>\\n#define N 100\\n#define NIL ...\n",
       "Name: buggy_code, Length: 3063, dtype: object>"
      ]
     },
     "execution_count": 12,
     "metadata": {},
     "output_type": "execute_result"
    }
   ],
   "source": [
    "df_train['buggy_code'].value_counts"
   ]
  },
  {
   "cell_type": "code",
   "execution_count": 9,
   "id": "8719ea53",
   "metadata": {},
   "outputs": [
    {
     "data": {
      "text/plain": [
       "'#include<stdio.h>\\n\\nvoid CountingSort(int *, int *, int);\\n\\nint C[10000];\\n\\nint main(){\\n\\n  int i, n;\\n\\n  scanf(\"%d\", &n);\\n\\n  int A[n], B[n];\\n    \\n  for(i = 0; i < n; i++){\\n    scanf(\"%d\", &A[i]);\\n  }\\n\\n  CountingSort(A, B, n);\\n\\n  for(i = 1; i < n; i++){\\n    printf(\"%d \", B[i]);\\n  }\\n  printf(\"%d\\\\n\", B[i]);\\n\\n\\n  return 0;\\n}\\n\\nvoid CountingSort(int *A, int *B, int n){\\n\\n  int i;\\n  \\n  for(i = 0; i < 10000; i++){\\n    C[i] = 0;\\n  }\\n\\n  /* C[i] に i の出現数を記録する */\\n  for(i = 0; i < n; i++){\\n    C[A[i]]++;\\n  }\\n\\n  /* C[i] に i 以下の数の出現数を記録する*/\\n  for(i = 1; i <= 10000; i++){\\n    C[i] = C[i] + C[i-1];\\n  }\\n  \\n  for(i = n-1; i >= 0; i--){ \\n    B[C[A[i]]] = A[i];\\n    C[A[i]]--;\\n  }\\n}      \\n\\n'"
      ]
     },
     "execution_count": 9,
     "metadata": {},
     "output_type": "execute_result"
    }
   ],
   "source": [
    "df_test['correct_code'][2]"
   ]
  },
  {
   "cell_type": "code",
   "execution_count": null,
   "id": "5109b979",
   "metadata": {},
   "outputs": [],
   "source": []
  }
 ],
 "metadata": {
  "kernelspec": {
   "display_name": "Python 3 (ipykernel)",
   "language": "python",
   "name": "python3"
  },
  "language_info": {
   "codemirror_mode": {
    "name": "ipython",
    "version": 3
   },
   "file_extension": ".py",
   "mimetype": "text/x-python",
   "name": "python",
   "nbconvert_exporter": "python",
   "pygments_lexer": "ipython3",
   "version": "3.9.12"
  }
 },
 "nbformat": 4,
 "nbformat_minor": 5
}
