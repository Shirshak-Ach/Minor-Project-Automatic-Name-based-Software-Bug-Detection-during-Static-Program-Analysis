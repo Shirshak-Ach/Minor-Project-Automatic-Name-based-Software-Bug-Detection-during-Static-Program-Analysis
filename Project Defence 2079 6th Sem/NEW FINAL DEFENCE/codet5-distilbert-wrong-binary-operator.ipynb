{
 "cells": [
  {
   "cell_type": "code",
   "execution_count": 1,
   "metadata": {
    "_cell_guid": "b1076dfc-b9ad-4769-8c92-a6c4dae69d19",
    "_uuid": "8f2839f25d086af736a60e9eeb907d3b93b6e0e5",
    "execution": {
     "iopub.execute_input": "2023-02-21T16:24:04.795222Z",
     "iopub.status.busy": "2023-02-21T16:24:04.794821Z",
     "iopub.status.idle": "2023-02-21T16:24:25.595688Z",
     "shell.execute_reply": "2023-02-21T16:24:25.594434Z",
     "shell.execute_reply.started": "2023-02-21T16:24:04.795112Z"
    }
   },
   "outputs": [],
   "source": [
    "import os\n",
    "import numpy as np\n",
    "import pandas as pd\n",
    "from sklearn.model_selection import train_test_split\n",
    "from sklearn.metrics import accuracy_score, precision_score, recall_score, f1_score\n",
    "\n",
    "from transformers import AutoModelForSequenceClassification, AutoTokenizer, Trainer, TrainerCallback, TrainingArguments\n",
    "from datasets import Dataset, load_dataset\n",
    "from copy import deepcopy\n",
    "\n",
    "os.environ[\"WANDB_DISABLED\"] = \"true\"\n",
    "os.environ[\"TOKENIZERS_PARALLELISM\"] = \"false\"\n",
    "\n",
    "RANDOM_STATE = 42"
   ]
  },
  {
   "cell_type": "code",
   "execution_count": 2,
   "metadata": {
    "execution": {
     "iopub.execute_input": "2023-02-21T16:24:25.599439Z",
     "iopub.status.busy": "2023-02-21T16:24:25.598121Z",
     "iopub.status.idle": "2023-02-21T16:24:25.607239Z",
     "shell.execute_reply": "2023-02-21T16:24:25.604114Z",
     "shell.execute_reply.started": "2023-02-21T16:24:25.599390Z"
    }
   },
   "outputs": [],
   "source": [
    "id2label = {0: \"CORRECT\", 1: \"BUGGY\"}\n",
    "label2id = {\"CORRECT\": 0, \"BUGGY\": 1}"
   ]
  },
  {
   "cell_type": "code",
   "execution_count": 3,
   "metadata": {
    "execution": {
     "iopub.execute_input": "2023-02-21T16:24:25.609953Z",
     "iopub.status.busy": "2023-02-21T16:24:25.608842Z",
     "iopub.status.idle": "2023-02-21T16:24:40.204444Z",
     "shell.execute_reply": "2023-02-21T16:24:40.203447Z",
     "shell.execute_reply.started": "2023-02-21T16:24:25.609905Z"
    }
   },
   "outputs": [
    {
     "data": {
      "application/vnd.jupyter.widget-view+json": {
       "model_id": "645d575a78e84f40b4b01d51f232a5c4",
       "version_major": 2,
       "version_minor": 0
      },
      "text/plain": [
       "Downloading:   0%|          | 0.00/3.59k [00:00<?, ?B/s]"
      ]
     },
     "metadata": {},
     "output_type": "display_data"
    },
    {
     "data": {
      "application/vnd.jupyter.widget-view+json": {
       "model_id": "8aa988d9bc8d4539826e1ff452c3a7d3",
       "version_major": 2,
       "version_minor": 0
      },
      "text/plain": [
       "Downloading:   0%|          | 0.00/276k [00:00<?, ?B/s]"
      ]
     },
     "metadata": {},
     "output_type": "display_data"
    },
    {
     "data": {
      "application/vnd.jupyter.widget-view+json": {
       "model_id": "2cfd0fc01a7643ac93adae734d65b875",
       "version_major": 2,
       "version_minor": 0
      },
      "text/plain": [
       "Downloading:   0%|          | 0.00/148k [00:00<?, ?B/s]"
      ]
     },
     "metadata": {},
     "output_type": "display_data"
    },
    {
     "data": {
      "application/vnd.jupyter.widget-view+json": {
       "model_id": "dd4927ba914e484c9096aca44f1166a7",
       "version_major": 2,
       "version_minor": 0
      },
      "text/plain": [
       "Downloading:   0%|          | 0.00/773k [00:00<?, ?B/s]"
      ]
     },
     "metadata": {},
     "output_type": "display_data"
    },
    {
     "data": {
      "application/vnd.jupyter.widget-view+json": {
       "model_id": "60005ab1a70044e9819fefded49c46fb",
       "version_major": 2,
       "version_minor": 0
      },
      "text/plain": [
       "Downloading:   0%|          | 0.00/3.01k [00:00<?, ?B/s]"
      ]
     },
     "metadata": {},
     "output_type": "display_data"
    },
    {
     "data": {
      "application/vnd.jupyter.widget-view+json": {
       "model_id": "bb34153e79694ee3a1a3aba08d4d0f38",
       "version_major": 2,
       "version_minor": 0
      },
      "text/plain": [
       "Downloading:   0%|          | 0.00/483 [00:00<?, ?B/s]"
      ]
     },
     "metadata": {},
     "output_type": "display_data"
    },
    {
     "data": {
      "application/vnd.jupyter.widget-view+json": {
       "model_id": "7c7be9479a2c489a87a695e0fdc10368",
       "version_major": 2,
       "version_minor": 0
      },
      "text/plain": [
       "Downloading:   0%|          | 0.00/256M [00:00<?, ?B/s]"
      ]
     },
     "metadata": {},
     "output_type": "display_data"
    },
    {
     "name": "stderr",
     "output_type": "stream",
     "text": [
      "Some weights of the model checkpoint at distilbert-base-uncased were not used when initializing DistilBertForSequenceClassification: ['vocab_projector.weight', 'vocab_layer_norm.bias', 'vocab_projector.bias', 'vocab_layer_norm.weight', 'vocab_transform.bias', 'vocab_transform.weight']\n",
      "- This IS expected if you are initializing DistilBertForSequenceClassification from the checkpoint of a model trained on another task or with another architecture (e.g. initializing a BertForSequenceClassification model from a BertForPreTraining model).\n",
      "- This IS NOT expected if you are initializing DistilBertForSequenceClassification from the checkpoint of a model that you expect to be exactly identical (initializing a BertForSequenceClassification model from a BertForSequenceClassification model).\n",
      "Some weights of DistilBertForSequenceClassification were not initialized from the model checkpoint at distilbert-base-uncased and are newly initialized: ['pre_classifier.weight', 'classifier.bias', 'pre_classifier.bias', 'classifier.weight']\n",
      "You should probably TRAIN this model on a down-stream task to be able to use it for predictions and inference.\n"
     ]
    }
   ],
   "source": [
    "tokenizer = AutoTokenizer.from_pretrained('dipudl/codet5-base')\n",
    "model = AutoModelForSequenceClassification.from_pretrained('distilbert-base-uncased',\n",
    "                                                           num_labels=2,\n",
    "                                                           id2label=id2label,\n",
    "                                                           label2id=label2id)"
   ]
  },
  {
   "cell_type": "code",
   "execution_count": 4,
   "metadata": {
    "execution": {
     "iopub.execute_input": "2023-02-21T16:24:40.208904Z",
     "iopub.status.busy": "2023-02-21T16:24:40.208592Z",
     "iopub.status.idle": "2023-02-21T16:24:41.606153Z",
     "shell.execute_reply": "2023-02-21T16:24:41.604797Z",
     "shell.execute_reply.started": "2023-02-21T16:24:40.208873Z"
    }
   },
   "outputs": [
    {
     "name": "stdout",
     "output_type": "stream",
     "text": [
      "/bin/bash: /opt/conda/lib/libtinfo.so.6: no version information available (required by /bin/bash)\n"
     ]
    }
   ],
   "source": [
    "# !pip install huggingface_hub\n",
    "!python -c \"from huggingface_hub.hf_api import HfFolder; HfFolder.save_token('YOUR_HUGGINGFACE_TOKEN_HERE')\""
   ]
  },
  {
   "cell_type": "markdown",
   "metadata": {},
   "source": [
    "-----\n",
    "## Load Dataset\n",
    "-----"
   ]
  },
  {
   "cell_type": "code",
   "execution_count": 5,
   "metadata": {
    "execution": {
     "iopub.execute_input": "2023-02-21T16:24:41.609000Z",
     "iopub.status.busy": "2023-02-21T16:24:41.608548Z",
     "iopub.status.idle": "2023-02-21T16:24:46.440696Z",
     "shell.execute_reply": "2023-02-21T16:24:46.439536Z",
     "shell.execute_reply.started": "2023-02-21T16:24:41.608952Z"
    }
   },
   "outputs": [],
   "source": [
    "train_df = pd.read_csv(\"/kaggle/input/wrong-binary-operator-positive-negative-samples/wrong_binary_operator_dataset_filtered_train.csv\", sep=\"\\t\")\n",
    "test_df = pd.read_csv(\"/kaggle/input/wrong-binary-operator-positive-negative-samples/wrong_binary_operator_dataset_filtered_test.csv\", sep=\"\\t\")"
   ]
  },
  {
   "cell_type": "code",
   "execution_count": 6,
   "metadata": {
    "execution": {
     "iopub.execute_input": "2023-02-21T16:24:46.442777Z",
     "iopub.status.busy": "2023-02-21T16:24:46.442328Z",
     "iopub.status.idle": "2023-02-21T16:24:46.519943Z",
     "shell.execute_reply": "2023-02-21T16:24:46.518887Z",
     "shell.execute_reply.started": "2023-02-21T16:24:46.442734Z"
    }
   },
   "outputs": [
    {
     "data": {
      "text/html": [
       "<div>\n",
       "<style scoped>\n",
       "    .dataframe tbody tr th:only-of-type {\n",
       "        vertical-align: middle;\n",
       "    }\n",
       "\n",
       "    .dataframe tbody tr th {\n",
       "        vertical-align: top;\n",
       "    }\n",
       "\n",
       "    .dataframe thead th {\n",
       "        text-align: right;\n",
       "    }\n",
       "</style>\n",
       "<table border=\"1\" class=\"dataframe\">\n",
       "  <thead>\n",
       "    <tr style=\"text-align: right;\">\n",
       "      <th></th>\n",
       "      <th>file</th>\n",
       "      <th>left</th>\n",
       "      <th>operator</th>\n",
       "      <th>right</th>\n",
       "      <th>type_left</th>\n",
       "      <th>type_right</th>\n",
       "      <th>parent</th>\n",
       "      <th>grandparent</th>\n",
       "      <th>start_line</th>\n",
       "      <th>start_column</th>\n",
       "      <th>end_line</th>\n",
       "      <th>end_column</th>\n",
       "      <th>labels</th>\n",
       "    </tr>\n",
       "  </thead>\n",
       "  <tbody>\n",
       "    <tr>\n",
       "      <th>273862</th>\n",
       "      <td>cleaned/msm7x30-3.4.x-naa/drivers/net/wireless...</td>\n",
       "      <td>dev-&gt;phy.rev</td>\n",
       "      <td>==</td>\n",
       "      <td>0</td>\n",
       "      <td>&lt;dependent type&gt;</td>\n",
       "      <td>int</td>\n",
       "      <td>IF_STMT</td>\n",
       "      <td>COMPOUND_STMT</td>\n",
       "      <td>251</td>\n",
       "      <td>7</td>\n",
       "      <td>251</td>\n",
       "      <td>24</td>\n",
       "      <td>0</td>\n",
       "    </tr>\n",
       "    <tr>\n",
       "      <th>502623</th>\n",
       "      <td>cleaned/blensor/source/blender/bmesh/operators...</td>\n",
       "      <td>numcuts</td>\n",
       "      <td>*</td>\n",
       "      <td>2</td>\n",
       "      <td>int</td>\n",
       "      <td>int</td>\n",
       "      <td>BINARY_OPERATOR</td>\n",
       "      <td>FOR_STMT</td>\n",
       "      <td>551</td>\n",
       "      <td>18</td>\n",
       "      <td>551</td>\n",
       "      <td>29</td>\n",
       "      <td>1</td>\n",
       "    </tr>\n",
       "    <tr>\n",
       "      <th>286142</th>\n",
       "      <td>cleaned/dd-wrt/src/router/links/view.c</td>\n",
       "      <td>ln-&gt;st</td>\n",
       "      <td>||</td>\n",
       "      <td>sl</td>\n",
       "      <td>unsigned char *</td>\n",
       "      <td>int</td>\n",
       "      <td>WHILE_STMT</td>\n",
       "      <td>COMPOUND_STMT</td>\n",
       "      <td>674</td>\n",
       "      <td>11</td>\n",
       "      <td>674</td>\n",
       "      <td>23</td>\n",
       "      <td>1</td>\n",
       "    </tr>\n",
       "    <tr>\n",
       "      <th>974200</th>\n",
       "      <td>cleaned/nagios/cgi/histogram.c</td>\n",
       "      <td>(double)DRAWING_WIDTH</td>\n",
       "      <td>/</td>\n",
       "      <td>(double)total_buckets</td>\n",
       "      <td>double</td>\n",
       "      <td>double</td>\n",
       "      <td>PAREN_EXPR</td>\n",
       "      <td>CSTYLE_CAST_EXPR</td>\n",
       "      <td>1582</td>\n",
       "      <td>30</td>\n",
       "      <td>1582</td>\n",
       "      <td>75</td>\n",
       "      <td>0</td>\n",
       "    </tr>\n",
       "    <tr>\n",
       "      <th>299479</th>\n",
       "      <td>cleaned/embers_vt/build/scipy/scipy/special/ce...</td>\n",
       "      <td>2.0</td>\n",
       "      <td>+</td>\n",
       "      <td>x</td>\n",
       "      <td>double</td>\n",
       "      <td>double</td>\n",
       "      <td>BINARY_OPERATOR</td>\n",
       "      <td>BINARY_OPERATOR</td>\n",
       "      <td>869</td>\n",
       "      <td>9</td>\n",
       "      <td>869</td>\n",
       "      <td>16</td>\n",
       "      <td>1</td>\n",
       "    </tr>\n",
       "  </tbody>\n",
       "</table>\n",
       "</div>"
      ],
      "text/plain": [
       "                                                     file  \\\n",
       "273862  cleaned/msm7x30-3.4.x-naa/drivers/net/wireless...   \n",
       "502623  cleaned/blensor/source/blender/bmesh/operators...   \n",
       "286142             cleaned/dd-wrt/src/router/links/view.c   \n",
       "974200                     cleaned/nagios/cgi/histogram.c   \n",
       "299479  cleaned/embers_vt/build/scipy/scipy/special/ce...   \n",
       "\n",
       "                         left operator                  right  \\\n",
       "273862           dev->phy.rev       ==                      0   \n",
       "502623                numcuts        *                      2   \n",
       "286142                 ln->st       ||                     sl   \n",
       "974200  (double)DRAWING_WIDTH        /  (double)total_buckets   \n",
       "299479                    2.0        +                      x   \n",
       "\n",
       "               type_left type_right           parent       grandparent  \\\n",
       "273862  <dependent type>        int          IF_STMT     COMPOUND_STMT   \n",
       "502623               int        int  BINARY_OPERATOR          FOR_STMT   \n",
       "286142   unsigned char *        int       WHILE_STMT     COMPOUND_STMT   \n",
       "974200            double     double       PAREN_EXPR  CSTYLE_CAST_EXPR   \n",
       "299479            double     double  BINARY_OPERATOR   BINARY_OPERATOR   \n",
       "\n",
       "        start_line  start_column  end_line  end_column  labels  \n",
       "273862         251             7       251          24       0  \n",
       "502623         551            18       551          29       1  \n",
       "286142         674            11       674          23       1  \n",
       "974200        1582            30      1582          75       0  \n",
       "299479         869             9       869          16       1  "
      ]
     },
     "execution_count": 6,
     "metadata": {},
     "output_type": "execute_result"
    }
   ],
   "source": [
    "train_df.sample(5)"
   ]
  },
  {
   "cell_type": "code",
   "execution_count": 7,
   "metadata": {
    "execution": {
     "iopub.execute_input": "2023-02-21T16:24:46.522343Z",
     "iopub.status.busy": "2023-02-21T16:24:46.521400Z",
     "iopub.status.idle": "2023-02-21T16:24:46.545159Z",
     "shell.execute_reply": "2023-02-21T16:24:46.544189Z",
     "shell.execute_reply.started": "2023-02-21T16:24:46.522300Z"
    }
   },
   "outputs": [
    {
     "data": {
      "text/html": [
       "<div>\n",
       "<style scoped>\n",
       "    .dataframe tbody tr th:only-of-type {\n",
       "        vertical-align: middle;\n",
       "    }\n",
       "\n",
       "    .dataframe tbody tr th {\n",
       "        vertical-align: top;\n",
       "    }\n",
       "\n",
       "    .dataframe thead th {\n",
       "        text-align: right;\n",
       "    }\n",
       "</style>\n",
       "<table border=\"1\" class=\"dataframe\">\n",
       "  <thead>\n",
       "    <tr style=\"text-align: right;\">\n",
       "      <th></th>\n",
       "      <th>file</th>\n",
       "      <th>left</th>\n",
       "      <th>operator</th>\n",
       "      <th>right</th>\n",
       "      <th>type_left</th>\n",
       "      <th>type_right</th>\n",
       "      <th>parent</th>\n",
       "      <th>grandparent</th>\n",
       "      <th>start_line</th>\n",
       "      <th>start_column</th>\n",
       "      <th>end_line</th>\n",
       "      <th>end_column</th>\n",
       "      <th>labels</th>\n",
       "    </tr>\n",
       "  </thead>\n",
       "  <tbody>\n",
       "    <tr>\n",
       "      <th>76215</th>\n",
       "      <td>cleaned/msm7x30-3.4.x-naa/fs/nfs/nfs4filelayout.c</td>\n",
       "      <td>status</td>\n",
       "      <td>!=</td>\n",
       "      <td>0</td>\n",
       "      <td>int</td>\n",
       "      <td>int</td>\n",
       "      <td>CALL_EXPR</td>\n",
       "      <td>COMPOUND_STMT</td>\n",
       "      <td>391</td>\n",
       "      <td>9</td>\n",
       "      <td>391</td>\n",
       "      <td>20</td>\n",
       "      <td>0</td>\n",
       "    </tr>\n",
       "    <tr>\n",
       "      <th>109466</th>\n",
       "      <td>cleaned/blensor/source/blender/windowmanager/i...</td>\n",
       "      <td>y</td>\n",
       "      <td>/</td>\n",
       "      <td>15</td>\n",
       "      <td>int</td>\n",
       "      <td>int</td>\n",
       "      <td>CALL_EXPR</td>\n",
       "      <td>COMPOUND_STMT</td>\n",
       "      <td>264</td>\n",
       "      <td>34</td>\n",
       "      <td>264</td>\n",
       "      <td>40</td>\n",
       "      <td>1</td>\n",
       "    </tr>\n",
       "    <tr>\n",
       "      <th>29452</th>\n",
       "      <td>cleaned/dd-wrt/src/router/samba3/source/web/st...</td>\n",
       "      <td>cgi_variable(\"nmbd_restart\")</td>\n",
       "      <td>&amp;&amp;</td>\n",
       "      <td>cgi_variable(\"all_restart\")</td>\n",
       "      <td>int</td>\n",
       "      <td>int</td>\n",
       "      <td>IF_STMT</td>\n",
       "      <td>COMPOUND_STMT</td>\n",
       "      <td>269</td>\n",
       "      <td>6</td>\n",
       "      <td>269</td>\n",
       "      <td>65</td>\n",
       "      <td>1</td>\n",
       "    </tr>\n",
       "    <tr>\n",
       "      <th>23873</th>\n",
       "      <td>cleaned/binutils-vc4/gprof/corefile.c</td>\n",
       "      <td>strncmp(name,CONSTPROP_NAME,CONSTPROP_NAME_LEN)</td>\n",
       "      <td>!=</td>\n",
       "      <td>0</td>\n",
       "      <td>int</td>\n",
       "      <td>int</td>\n",
       "      <td>BINARY_OPERATOR</td>\n",
       "      <td>IF_STMT</td>\n",
       "      <td>407</td>\n",
       "      <td>11</td>\n",
       "      <td>407</td>\n",
       "      <td>66</td>\n",
       "      <td>1</td>\n",
       "    </tr>\n",
       "    <tr>\n",
       "      <th>67951</th>\n",
       "      <td>cleaned/opensips/modules/registrar/save.c</td>\n",
       "      <td>sock</td>\n",
       "      <td>==</td>\n",
       "      <td>0</td>\n",
       "      <td>struct socket_info *</td>\n",
       "      <td>struct socket_info *</td>\n",
       "      <td>IF_STMT</td>\n",
       "      <td>COMPOUND_STMT</td>\n",
       "      <td>152</td>\n",
       "      <td>6</td>\n",
       "      <td>152</td>\n",
       "      <td>13</td>\n",
       "      <td>0</td>\n",
       "    </tr>\n",
       "  </tbody>\n",
       "</table>\n",
       "</div>"
      ],
      "text/plain": [
       "                                                     file  \\\n",
       "76215   cleaned/msm7x30-3.4.x-naa/fs/nfs/nfs4filelayout.c   \n",
       "109466  cleaned/blensor/source/blender/windowmanager/i...   \n",
       "29452   cleaned/dd-wrt/src/router/samba3/source/web/st...   \n",
       "23873               cleaned/binutils-vc4/gprof/corefile.c   \n",
       "67951           cleaned/opensips/modules/registrar/save.c   \n",
       "\n",
       "                                                   left operator  \\\n",
       "76215                                            status       !=   \n",
       "109466                                                y        /   \n",
       "29452                      cgi_variable(\"nmbd_restart\")       &&   \n",
       "23873   strncmp(name,CONSTPROP_NAME,CONSTPROP_NAME_LEN)       !=   \n",
       "67951                                              sock       ==   \n",
       "\n",
       "                              right             type_left  \\\n",
       "76215                             0                   int   \n",
       "109466                           15                   int   \n",
       "29452   cgi_variable(\"all_restart\")                   int   \n",
       "23873                             0                   int   \n",
       "67951                             0  struct socket_info *   \n",
       "\n",
       "                  type_right           parent    grandparent  start_line  \\\n",
       "76215                    int        CALL_EXPR  COMPOUND_STMT         391   \n",
       "109466                   int        CALL_EXPR  COMPOUND_STMT         264   \n",
       "29452                    int          IF_STMT  COMPOUND_STMT         269   \n",
       "23873                    int  BINARY_OPERATOR        IF_STMT         407   \n",
       "67951   struct socket_info *          IF_STMT  COMPOUND_STMT         152   \n",
       "\n",
       "        start_column  end_line  end_column  labels  \n",
       "76215              9       391          20       0  \n",
       "109466            34       264          40       1  \n",
       "29452              6       269          65       1  \n",
       "23873             11       407          66       1  \n",
       "67951              6       152          13       0  "
      ]
     },
     "execution_count": 7,
     "metadata": {},
     "output_type": "execute_result"
    }
   ],
   "source": [
    "test_df.sample(5)"
   ]
  },
  {
   "cell_type": "code",
   "execution_count": 8,
   "metadata": {
    "execution": {
     "iopub.execute_input": "2023-02-21T16:24:46.547308Z",
     "iopub.status.busy": "2023-02-21T16:24:46.546868Z",
     "iopub.status.idle": "2023-02-21T16:24:46.554914Z",
     "shell.execute_reply": "2023-02-21T16:24:46.553803Z",
     "shell.execute_reply.started": "2023-02-21T16:24:46.547269Z"
    }
   },
   "outputs": [
    {
     "data": {
      "text/plain": [
       "((1000786, 13), (111200, 13))"
      ]
     },
     "execution_count": 8,
     "metadata": {},
     "output_type": "execute_result"
    }
   ],
   "source": [
    "train_df.shape, test_df.shape"
   ]
  },
  {
   "cell_type": "code",
   "execution_count": 9,
   "metadata": {
    "execution": {
     "iopub.execute_input": "2023-02-21T16:24:46.557294Z",
     "iopub.status.busy": "2023-02-21T16:24:46.556381Z",
     "iopub.status.idle": "2023-02-21T16:24:46.917351Z",
     "shell.execute_reply": "2023-02-21T16:24:46.916212Z",
     "shell.execute_reply.started": "2023-02-21T16:24:46.557256Z"
    }
   },
   "outputs": [
    {
     "data": {
      "text/plain": [
       "file            0\n",
       "left            0\n",
       "operator        0\n",
       "right           0\n",
       "type_left       0\n",
       "type_right      0\n",
       "parent          0\n",
       "grandparent     0\n",
       "start_line      0\n",
       "start_column    0\n",
       "end_line        0\n",
       "end_column      0\n",
       "labels          0\n",
       "dtype: int64"
      ]
     },
     "execution_count": 9,
     "metadata": {},
     "output_type": "execute_result"
    }
   ],
   "source": [
    "train_df.isna().sum()"
   ]
  },
  {
   "cell_type": "code",
   "execution_count": 10,
   "metadata": {
    "execution": {
     "iopub.execute_input": "2023-02-21T16:24:46.923481Z",
     "iopub.status.busy": "2023-02-21T16:24:46.922437Z",
     "iopub.status.idle": "2023-02-21T16:24:48.647386Z",
     "shell.execute_reply": "2023-02-21T16:24:48.646291Z",
     "shell.execute_reply.started": "2023-02-21T16:24:46.923438Z"
    }
   },
   "outputs": [],
   "source": [
    "train_df['full_text'] = train_df['left'] + tokenizer.sep_token + train_df['operator'] + tokenizer.sep_token + train_df['right'] + tokenizer.sep_token + train_df['type_left'] + tokenizer.sep_token + train_df['type_right'] + tokenizer.sep_token + train_df['parent'] + tokenizer.sep_token + train_df['grandparent']\n",
    "test_df['full_text'] = test_df['left'] + tokenizer.sep_token + test_df['operator'] + tokenizer.sep_token + test_df['right'] + tokenizer.sep_token + test_df['type_left'] + tokenizer.sep_token + test_df['type_right'] + tokenizer.sep_token + test_df['parent'] + tokenizer.sep_token + test_df['grandparent']"
   ]
  },
  {
   "cell_type": "code",
   "execution_count": 11,
   "metadata": {
    "execution": {
     "iopub.execute_input": "2023-02-21T16:24:48.649241Z",
     "iopub.status.busy": "2023-02-21T16:24:48.648826Z",
     "iopub.status.idle": "2023-02-21T16:24:49.197584Z",
     "shell.execute_reply": "2023-02-21T16:24:49.196504Z",
     "shell.execute_reply.started": "2023-02-21T16:24:48.649200Z"
    }
   },
   "outputs": [],
   "source": [
    "train_df.drop(['left','operator','right','type_left','type_right','parent', 'grandparent'], axis=1, inplace=True)\n",
    "test_df.drop(['left','operator','right','type_left','type_right','parent', 'grandparent'], axis=1, inplace=True)"
   ]
  },
  {
   "cell_type": "code",
   "execution_count": 12,
   "metadata": {
    "execution": {
     "iopub.execute_input": "2023-02-21T16:24:49.199837Z",
     "iopub.status.busy": "2023-02-21T16:24:49.199402Z",
     "iopub.status.idle": "2023-02-21T16:24:49.240948Z",
     "shell.execute_reply": "2023-02-21T16:24:49.239500Z",
     "shell.execute_reply.started": "2023-02-21T16:24:49.199793Z"
    }
   },
   "outputs": [
    {
     "data": {
      "text/html": [
       "<div>\n",
       "<style scoped>\n",
       "    .dataframe tbody tr th:only-of-type {\n",
       "        vertical-align: middle;\n",
       "    }\n",
       "\n",
       "    .dataframe tbody tr th {\n",
       "        vertical-align: top;\n",
       "    }\n",
       "\n",
       "    .dataframe thead th {\n",
       "        text-align: right;\n",
       "    }\n",
       "</style>\n",
       "<table border=\"1\" class=\"dataframe\">\n",
       "  <thead>\n",
       "    <tr style=\"text-align: right;\">\n",
       "      <th></th>\n",
       "      <th>file</th>\n",
       "      <th>start_line</th>\n",
       "      <th>start_column</th>\n",
       "      <th>end_line</th>\n",
       "      <th>end_column</th>\n",
       "      <th>labels</th>\n",
       "      <th>full_text</th>\n",
       "    </tr>\n",
       "  </thead>\n",
       "  <tbody>\n",
       "    <tr>\n",
       "      <th>446133</th>\n",
       "      <td>cleaned/gtk-gnutella/src/lib/float-test.c</td>\n",
       "      <td>267</td>\n",
       "      <td>26</td>\n",
       "      <td>267</td>\n",
       "      <td>45</td>\n",
       "      <td>0</td>\n",
       "      <td>strcmp(s,buf)&lt;/s&gt;==&lt;/s&gt;0&lt;/s&gt;int&lt;/s&gt;int&lt;/s&gt;BINA...</td>\n",
       "    </tr>\n",
       "    <tr>\n",
       "      <th>201545</th>\n",
       "      <td>cleaned/postgres/src/backend/parser/parse_agg.c</td>\n",
       "      <td>827</td>\n",
       "      <td>40</td>\n",
       "      <td>827</td>\n",
       "      <td>66</td>\n",
       "      <td>1</td>\n",
       "      <td>context-&gt;sublevels_up&lt;/s&gt;!=&lt;/s&gt;0&lt;/s&gt;int&lt;/s&gt;int...</td>\n",
       "    </tr>\n",
       "    <tr>\n",
       "      <th>278147</th>\n",
       "      <td>cleaned/feosmusic/codecs/aac/source/sbrhfadj.c</td>\n",
       "      <td>138</td>\n",
       "      <td>22</td>\n",
       "      <td>138</td>\n",
       "      <td>30</td>\n",
       "      <td>0</td>\n",
       "      <td>m&lt;/s&gt;&lt;&lt;/s&gt;mEnd&lt;/s&gt;int&lt;/s&gt;int&lt;/s&gt;FOR_STMT&lt;/s&gt;CO...</td>\n",
       "    </tr>\n",
       "    <tr>\n",
       "      <th>120604</th>\n",
       "      <td>cleaned/geda-gaf/libgeda/src/m_basic.c</td>\n",
       "      <td>172</td>\n",
       "      <td>12</td>\n",
       "      <td>172</td>\n",
       "      <td>42</td>\n",
       "      <td>1</td>\n",
       "      <td>(float)width&lt;/s&gt;-&lt;/s&gt;(float)height&lt;/s&gt;float&lt;/s...</td>\n",
       "    </tr>\n",
       "    <tr>\n",
       "      <th>47043</th>\n",
       "      <td>cleaned/msm7x30-3.4.x-naa/drivers/video/sh_mob...</td>\n",
       "      <td>885</td>\n",
       "      <td>6</td>\n",
       "      <td>885</td>\n",
       "      <td>24</td>\n",
       "      <td>1</td>\n",
       "      <td>found-&gt;xres&lt;/s&gt;&gt;=&lt;/s&gt;640&lt;/s&gt;&lt;dependent type&gt;&lt;/...</td>\n",
       "    </tr>\n",
       "  </tbody>\n",
       "</table>\n",
       "</div>"
      ],
      "text/plain": [
       "                                                     file  start_line  \\\n",
       "446133          cleaned/gtk-gnutella/src/lib/float-test.c         267   \n",
       "201545    cleaned/postgres/src/backend/parser/parse_agg.c         827   \n",
       "278147     cleaned/feosmusic/codecs/aac/source/sbrhfadj.c         138   \n",
       "120604             cleaned/geda-gaf/libgeda/src/m_basic.c         172   \n",
       "47043   cleaned/msm7x30-3.4.x-naa/drivers/video/sh_mob...         885   \n",
       "\n",
       "        start_column  end_line  end_column  labels  \\\n",
       "446133            26       267          45       0   \n",
       "201545            40       827          66       1   \n",
       "278147            22       138          30       0   \n",
       "120604            12       172          42       1   \n",
       "47043              6       885          24       1   \n",
       "\n",
       "                                                full_text  \n",
       "446133  strcmp(s,buf)</s>==</s>0</s>int</s>int</s>BINA...  \n",
       "201545  context->sublevels_up</s>!=</s>0</s>int</s>int...  \n",
       "278147  m</s><</s>mEnd</s>int</s>int</s>FOR_STMT</s>CO...  \n",
       "120604  (float)width</s>-</s>(float)height</s>float</s...  \n",
       "47043   found->xres</s>>=</s>640</s><dependent type></...  "
      ]
     },
     "execution_count": 12,
     "metadata": {},
     "output_type": "execute_result"
    }
   ],
   "source": [
    "train_df.sample(5)"
   ]
  },
  {
   "cell_type": "code",
   "execution_count": 13,
   "metadata": {
    "execution": {
     "iopub.execute_input": "2023-02-21T16:24:49.243526Z",
     "iopub.status.busy": "2023-02-21T16:24:49.243094Z",
     "iopub.status.idle": "2023-02-21T16:24:49.263934Z",
     "shell.execute_reply": "2023-02-21T16:24:49.262833Z",
     "shell.execute_reply.started": "2023-02-21T16:24:49.243487Z"
    }
   },
   "outputs": [
    {
     "data": {
      "text/html": [
       "<div>\n",
       "<style scoped>\n",
       "    .dataframe tbody tr th:only-of-type {\n",
       "        vertical-align: middle;\n",
       "    }\n",
       "\n",
       "    .dataframe tbody tr th {\n",
       "        vertical-align: top;\n",
       "    }\n",
       "\n",
       "    .dataframe thead th {\n",
       "        text-align: right;\n",
       "    }\n",
       "</style>\n",
       "<table border=\"1\" class=\"dataframe\">\n",
       "  <thead>\n",
       "    <tr style=\"text-align: right;\">\n",
       "      <th></th>\n",
       "      <th>file</th>\n",
       "      <th>start_line</th>\n",
       "      <th>start_column</th>\n",
       "      <th>end_line</th>\n",
       "      <th>end_column</th>\n",
       "      <th>labels</th>\n",
       "      <th>full_text</th>\n",
       "    </tr>\n",
       "  </thead>\n",
       "  <tbody>\n",
       "    <tr>\n",
       "      <th>78363</th>\n",
       "      <td>cleaned/drone/lib/ffmpeg/libavcodec/faad.c</td>\n",
       "      <td>159</td>\n",
       "      <td>13</td>\n",
       "      <td>159</td>\n",
       "      <td>42</td>\n",
       "      <td>1</td>\n",
       "      <td>buf_size&lt;/s&gt;!=&lt;/s&gt;(int)bytesconsumed&lt;/s&gt;int&lt;/s...</td>\n",
       "    </tr>\n",
       "    <tr>\n",
       "      <th>9386</th>\n",
       "      <td>cleaned/playbook-dev-tools/bootstrap/gcc/gcc/g...</td>\n",
       "      <td>7</td>\n",
       "      <td>33</td>\n",
       "      <td>7</td>\n",
       "      <td>43</td>\n",
       "      <td>1</td>\n",
       "      <td>n&lt;/s&gt;^&lt;/s&gt;0xffff&lt;/s&gt;unsigned long&lt;/s&gt;unsigned ...</td>\n",
       "    </tr>\n",
       "    <tr>\n",
       "      <th>41227</th>\n",
       "      <td>cleaned/playbook-dev-tools/bootstrap/gcc/gcc/g...</td>\n",
       "      <td>6</td>\n",
       "      <td>11</td>\n",
       "      <td>6</td>\n",
       "      <td>17</td>\n",
       "      <td>0</td>\n",
       "      <td>x&lt;/s&gt;!=&lt;/s&gt;0&lt;/s&gt;int&lt;/s&gt;int&lt;/s&gt;PAREN_EXPR&lt;/s&gt;RE...</td>\n",
       "    </tr>\n",
       "    <tr>\n",
       "      <th>91450</th>\n",
       "      <td>cleaned/krb5/src/lib/krb5/asn.1/asn1_encode.c</td>\n",
       "      <td>742</td>\n",
       "      <td>31</td>\n",
       "      <td>742</td>\n",
       "      <td>67</td>\n",
       "      <td>0</td>\n",
       "      <td>(constchar*)val&lt;/s&gt;+&lt;/s&gt;counted-&gt;dataoff&lt;/s&gt;co...</td>\n",
       "    </tr>\n",
       "    <tr>\n",
       "      <th>12556</th>\n",
       "      <td>cleaned/libhybris/hybris/common/gingerbread/li...</td>\n",
       "      <td>555</td>\n",
       "      <td>41</td>\n",
       "      <td>555</td>\n",
       "      <td>49</td>\n",
       "      <td>1</td>\n",
       "      <td>c&lt;/s&gt;=&lt;/s&gt;'i'&lt;/s&gt;int&lt;/s&gt;int&lt;/s&gt;BINARY_OPERATOR...</td>\n",
       "    </tr>\n",
       "  </tbody>\n",
       "</table>\n",
       "</div>"
      ],
      "text/plain": [
       "                                                    file  start_line  \\\n",
       "78363         cleaned/drone/lib/ffmpeg/libavcodec/faad.c         159   \n",
       "9386   cleaned/playbook-dev-tools/bootstrap/gcc/gcc/g...           7   \n",
       "41227  cleaned/playbook-dev-tools/bootstrap/gcc/gcc/g...           6   \n",
       "91450      cleaned/krb5/src/lib/krb5/asn.1/asn1_encode.c         742   \n",
       "12556  cleaned/libhybris/hybris/common/gingerbread/li...         555   \n",
       "\n",
       "       start_column  end_line  end_column  labels  \\\n",
       "78363            13       159          42       1   \n",
       "9386             33         7          43       1   \n",
       "41227            11         6          17       0   \n",
       "91450            31       742          67       0   \n",
       "12556            41       555          49       1   \n",
       "\n",
       "                                               full_text  \n",
       "78363  buf_size</s>!=</s>(int)bytesconsumed</s>int</s...  \n",
       "9386   n</s>^</s>0xffff</s>unsigned long</s>unsigned ...  \n",
       "41227  x</s>!=</s>0</s>int</s>int</s>PAREN_EXPR</s>RE...  \n",
       "91450  (constchar*)val</s>+</s>counted->dataoff</s>co...  \n",
       "12556  c</s>=</s>'i'</s>int</s>int</s>BINARY_OPERATOR...  "
      ]
     },
     "execution_count": 13,
     "metadata": {},
     "output_type": "execute_result"
    }
   ],
   "source": [
    "test_df.sample(5)"
   ]
  },
  {
   "cell_type": "code",
   "execution_count": 14,
   "metadata": {
    "execution": {
     "iopub.execute_input": "2023-02-21T16:24:49.265945Z",
     "iopub.status.busy": "2023-02-21T16:24:49.265491Z",
     "iopub.status.idle": "2023-02-21T16:24:49.285020Z",
     "shell.execute_reply": "2023-02-21T16:24:49.283965Z",
     "shell.execute_reply.started": "2023-02-21T16:24:49.265905Z"
    }
   },
   "outputs": [
    {
     "name": "stdout",
     "output_type": "stream",
     "text": [
      "usec</s>-</s>1000</s>unsigned long</s>unsigned long</s>BINARY_OPERATOR</s>COMPOUND_STMT\n",
      "--------------------------------------------------------------------------------\n",
      "['usec', '</s>', '-', '</s>', '1000', '</s>', 'unsigned', 'Ġlong', '</s>', 'unsigned', 'Ġlong', '</s>', 'BINARY', '_', 'OPER', 'ATOR', '</s>', 'COMP', 'OUND', '_', 'STMT']\n",
      "--------------------------------------------------------------------------------\n",
      "{'input_ids': [1, 7380, 2, 117, 2, 2369, 2, 688, 1018, 2, 688, 1018, 2, 11022, 167, 3531, 5747, 2, 2322, 17844, 167, 13997, 2], 'attention_mask': [1, 1, 1, 1, 1, 1, 1, 1, 1, 1, 1, 1, 1, 1, 1, 1, 1, 1, 1, 1, 1, 1, 1]}\n"
     ]
    }
   ],
   "source": [
    "print(train_df.iloc[10].full_text)\n",
    "print(\"-\" * 80)\n",
    "print(tokenizer.tokenize(train_df.iloc[10].full_text))\n",
    "print(\"-\" * 80)\n",
    "print(tokenizer(train_df.iloc[10].full_text))"
   ]
  },
  {
   "cell_type": "code",
   "execution_count": 15,
   "metadata": {
    "execution": {
     "iopub.execute_input": "2023-02-21T16:24:49.287085Z",
     "iopub.status.busy": "2023-02-21T16:24:49.286693Z",
     "iopub.status.idle": "2023-02-21T16:24:49.292515Z",
     "shell.execute_reply": "2023-02-21T16:24:49.291208Z",
     "shell.execute_reply.started": "2023-02-21T16:24:49.287048Z"
    }
   },
   "outputs": [],
   "source": [
    "def tokenize_text(examples):\n",
    "    return tokenizer(examples[\"full_text\"], truncation=True, max_length=128, padding=True)"
   ]
  },
  {
   "cell_type": "code",
   "execution_count": 16,
   "metadata": {
    "execution": {
     "iopub.execute_input": "2023-02-21T16:24:49.294892Z",
     "iopub.status.busy": "2023-02-21T16:24:49.294461Z",
     "iopub.status.idle": "2023-02-21T16:24:49.544244Z",
     "shell.execute_reply": "2023-02-21T16:24:49.543196Z",
     "shell.execute_reply.started": "2023-02-21T16:24:49.294854Z"
    }
   },
   "outputs": [
    {
     "data": {
      "text/plain": [
       "((900707, 7), (100079, 7))"
      ]
     },
     "execution_count": 16,
     "metadata": {},
     "output_type": "execute_result"
    }
   ],
   "source": [
    "train_df, validation_df = train_test_split(train_df, test_size=0.1, random_state=RANDOM_STATE)\n",
    "train_df.shape, validation_df.shape"
   ]
  },
  {
   "cell_type": "code",
   "execution_count": 17,
   "metadata": {
    "execution": {
     "iopub.execute_input": "2023-02-21T16:24:49.546774Z",
     "iopub.status.busy": "2023-02-21T16:24:49.545690Z",
     "iopub.status.idle": "2023-02-21T16:24:50.047481Z",
     "shell.execute_reply": "2023-02-21T16:24:50.046454Z",
     "shell.execute_reply.started": "2023-02-21T16:24:49.546732Z"
    }
   },
   "outputs": [
    {
     "data": {
      "text/plain": [
       "Dataset({\n",
       "    features: ['file', 'start_line', 'start_column', 'end_line', 'end_column', 'labels', 'full_text', '__index_level_0__'],\n",
       "    num_rows: 900707\n",
       "})"
      ]
     },
     "execution_count": 17,
     "metadata": {},
     "output_type": "execute_result"
    }
   ],
   "source": [
    "train_dataset = Dataset.from_pandas(train_df)\n",
    "train_dataset"
   ]
  },
  {
   "cell_type": "code",
   "execution_count": 18,
   "metadata": {
    "execution": {
     "iopub.execute_input": "2023-02-21T16:24:50.049983Z",
     "iopub.status.busy": "2023-02-21T16:24:50.048970Z",
     "iopub.status.idle": "2023-02-21T16:24:50.103392Z",
     "shell.execute_reply": "2023-02-21T16:24:50.102185Z",
     "shell.execute_reply.started": "2023-02-21T16:24:50.049940Z"
    }
   },
   "outputs": [
    {
     "data": {
      "text/plain": [
       "Dataset({\n",
       "    features: ['file', 'start_line', 'start_column', 'end_line', 'end_column', 'labels', 'full_text', '__index_level_0__'],\n",
       "    num_rows: 100079\n",
       "})"
      ]
     },
     "execution_count": 18,
     "metadata": {},
     "output_type": "execute_result"
    }
   ],
   "source": [
    "validation_dataset = Dataset.from_pandas(validation_df)\n",
    "validation_dataset"
   ]
  },
  {
   "cell_type": "code",
   "execution_count": 19,
   "metadata": {
    "execution": {
     "iopub.execute_input": "2023-02-21T16:24:50.105565Z",
     "iopub.status.busy": "2023-02-21T16:24:50.105171Z",
     "iopub.status.idle": "2023-02-21T16:24:50.140403Z",
     "shell.execute_reply": "2023-02-21T16:24:50.139336Z",
     "shell.execute_reply.started": "2023-02-21T16:24:50.105527Z"
    }
   },
   "outputs": [
    {
     "data": {
      "text/plain": [
       "Dataset({\n",
       "    features: ['file', 'start_line', 'start_column', 'end_line', 'end_column', 'labels', 'full_text'],\n",
       "    num_rows: 111200\n",
       "})"
      ]
     },
     "execution_count": 19,
     "metadata": {},
     "output_type": "execute_result"
    }
   ],
   "source": [
    "test_dataset = Dataset.from_pandas(test_df)\n",
    "test_dataset"
   ]
  },
  {
   "cell_type": "markdown",
   "metadata": {},
   "source": [
    "-----\n",
    "## Tokenization\n",
    "-----"
   ]
  },
  {
   "cell_type": "code",
   "execution_count": 20,
   "metadata": {
    "execution": {
     "iopub.execute_input": "2023-02-21T16:24:50.142906Z",
     "iopub.status.busy": "2023-02-21T16:24:50.142238Z",
     "iopub.status.idle": "2023-02-21T16:26:26.433730Z",
     "shell.execute_reply": "2023-02-21T16:26:26.432482Z",
     "shell.execute_reply.started": "2023-02-21T16:24:50.142864Z"
    }
   },
   "outputs": [
    {
     "data": {
      "application/vnd.jupyter.widget-view+json": {
       "model_id": "1b9fac92e2a642569a6978948fc81bdd",
       "version_major": 2,
       "version_minor": 0
      },
      "text/plain": [
       "  0%|          | 0/901 [00:00<?, ?ba/s]"
      ]
     },
     "metadata": {},
     "output_type": "display_data"
    },
    {
     "data": {
      "text/plain": [
       "Dataset({\n",
       "    features: ['file', 'start_line', 'start_column', 'end_line', 'end_column', 'labels', 'input_ids', 'attention_mask'],\n",
       "    num_rows: 900707\n",
       "})"
      ]
     },
     "execution_count": 20,
     "metadata": {},
     "output_type": "execute_result"
    }
   ],
   "source": [
    "train_dataset = train_dataset.map(tokenize_text, batched=True, remove_columns=[\"full_text\", \"__index_level_0__\"])\n",
    "train_dataset"
   ]
  },
  {
   "cell_type": "code",
   "execution_count": 21,
   "metadata": {
    "execution": {
     "iopub.execute_input": "2023-02-21T16:26:26.435894Z",
     "iopub.status.busy": "2023-02-21T16:26:26.435378Z",
     "iopub.status.idle": "2023-02-21T16:26:37.280939Z",
     "shell.execute_reply": "2023-02-21T16:26:37.279699Z",
     "shell.execute_reply.started": "2023-02-21T16:26:26.435852Z"
    }
   },
   "outputs": [
    {
     "data": {
      "application/vnd.jupyter.widget-view+json": {
       "model_id": "477624713b8a48e6a745c1fd6e111c3f",
       "version_major": 2,
       "version_minor": 0
      },
      "text/plain": [
       "  0%|          | 0/101 [00:00<?, ?ba/s]"
      ]
     },
     "metadata": {},
     "output_type": "display_data"
    },
    {
     "data": {
      "text/plain": [
       "Dataset({\n",
       "    features: ['file', 'start_line', 'start_column', 'end_line', 'end_column', 'labels', 'input_ids', 'attention_mask'],\n",
       "    num_rows: 100079\n",
       "})"
      ]
     },
     "execution_count": 21,
     "metadata": {},
     "output_type": "execute_result"
    }
   ],
   "source": [
    "validation_dataset = validation_dataset.map(tokenize_text, batched=True, remove_columns=[\"full_text\", \"__index_level_0__\"])\n",
    "validation_dataset"
   ]
  },
  {
   "cell_type": "code",
   "execution_count": 22,
   "metadata": {
    "execution": {
     "iopub.execute_input": "2023-02-21T16:26:37.283368Z",
     "iopub.status.busy": "2023-02-21T16:26:37.282617Z",
     "iopub.status.idle": "2023-02-21T16:26:49.681740Z",
     "shell.execute_reply": "2023-02-21T16:26:49.680642Z",
     "shell.execute_reply.started": "2023-02-21T16:26:37.283323Z"
    }
   },
   "outputs": [
    {
     "data": {
      "application/vnd.jupyter.widget-view+json": {
       "model_id": "3de96bf11a804f67808766593d3fe695",
       "version_major": 2,
       "version_minor": 0
      },
      "text/plain": [
       "  0%|          | 0/112 [00:00<?, ?ba/s]"
      ]
     },
     "metadata": {},
     "output_type": "display_data"
    },
    {
     "data": {
      "text/plain": [
       "Dataset({\n",
       "    features: ['file', 'start_line', 'start_column', 'end_line', 'end_column', 'labels', 'input_ids', 'attention_mask'],\n",
       "    num_rows: 111200\n",
       "})"
      ]
     },
     "execution_count": 22,
     "metadata": {},
     "output_type": "execute_result"
    }
   ],
   "source": [
    "test_dataset = test_dataset.map(tokenize_text, batched=True, remove_columns=[\"full_text\"])\n",
    "test_dataset"
   ]
  },
  {
   "cell_type": "code",
   "execution_count": 23,
   "metadata": {
    "execution": {
     "iopub.execute_input": "2023-02-21T16:26:49.684458Z",
     "iopub.status.busy": "2023-02-21T16:26:49.683349Z",
     "iopub.status.idle": "2023-02-21T16:26:49.691745Z",
     "shell.execute_reply": "2023-02-21T16:26:49.690671Z",
     "shell.execute_reply.started": "2023-02-21T16:26:49.684415Z"
    }
   },
   "outputs": [],
   "source": [
    "def compute_metrics(pred):\n",
    "    labels = pred.label_ids\n",
    "    preds = pred.predictions.argmax(-1)\n",
    "    accuracy = accuracy_score(labels, preds)\n",
    "    precision = precision_score(labels, preds)\n",
    "    recall = recall_score(labels, preds)\n",
    "    f1 = f1_score(labels, preds)\n",
    "    return {\"Accuracy\": accuracy, \"Precision\": precision, \"Recall\": recall, \"F1 Score\": f1}"
   ]
  },
  {
   "cell_type": "markdown",
   "metadata": {},
   "source": [
    "-----\n",
    "## Model Training\n",
    "-----"
   ]
  },
  {
   "cell_type": "code",
   "execution_count": 24,
   "metadata": {
    "execution": {
     "iopub.execute_input": "2023-02-21T16:26:49.694292Z",
     "iopub.status.busy": "2023-02-21T16:26:49.693222Z",
     "iopub.status.idle": "2023-02-21T16:26:49.720434Z",
     "shell.execute_reply": "2023-02-21T16:26:49.719320Z",
     "shell.execute_reply.started": "2023-02-21T16:26:49.694250Z"
    }
   },
   "outputs": [
    {
     "name": "stderr",
     "output_type": "stream",
     "text": [
      "Using the `WAND_DISABLED` environment variable is deprecated and will be removed in v5. Use the --report_to flag to control the integrations used for logging result (for instance --report_to none).\n"
     ]
    }
   ],
   "source": [
    "# ! rm -rd /kaggle/working/codeT5-DistilBERT-wrong-binary-operator-bug-model\n",
    "\n",
    "batch_size = 32\n",
    "logging_steps = len(train_dataset) // batch_size\n",
    "output_dir = \"codeT5-DistilBERT-wrong-binary-operator-bug-model\"\n",
    "\n",
    "training_args = TrainingArguments(output_dir,\n",
    "                                  num_train_epochs=10,\n",
    "                                  learning_rate=2e-5,\n",
    "                                  per_device_train_batch_size=batch_size,\n",
    "                                  per_device_eval_batch_size=batch_size,\n",
    "                                  weight_decay = 0.01,\n",
    "                                  evaluation_strategy=\"epoch\",\n",
    "                                  logging_steps=logging_steps,\n",
    "                                  save_strategy=\"epoch\",\n",
    "                                  # save_steps=10000,\n",
    "                                  # fp16=True,\n",
    "                                  push_to_hub=True,\n",
    "                                )"
   ]
  },
  {
   "cell_type": "code",
   "execution_count": 25,
   "metadata": {
    "execution": {
     "iopub.execute_input": "2023-02-21T16:26:49.722549Z",
     "iopub.status.busy": "2023-02-21T16:26:49.721957Z",
     "iopub.status.idle": "2023-02-21T16:26:49.729805Z",
     "shell.execute_reply": "2023-02-21T16:26:49.728626Z",
     "shell.execute_reply.started": "2023-02-21T16:26:49.722510Z"
    }
   },
   "outputs": [],
   "source": [
    "class CustomCallback(TrainerCallback):\n",
    "    \n",
    "    def __init__(self, trainer) -> None:\n",
    "        super().__init__()\n",
    "        self._trainer = trainer\n",
    "    \n",
    "    def on_epoch_end(self, args, state, control, **kwargs):\n",
    "        if control.should_evaluate:\n",
    "            control_copy = deepcopy(control)\n",
    "            self._trainer.evaluate(eval_dataset=self._trainer.train_dataset, metric_key_prefix=\"train\")\n",
    "            self._trainer.evaluate(eval_dataset=test_dataset, metric_key_prefix=\"test\")\n",
    "            return control_copy"
   ]
  },
  {
   "cell_type": "code",
   "execution_count": 26,
   "metadata": {
    "execution": {
     "iopub.execute_input": "2023-02-21T16:26:49.732160Z",
     "iopub.status.busy": "2023-02-21T16:26:49.731482Z",
     "iopub.status.idle": "2023-02-21T16:27:02.869840Z",
     "shell.execute_reply": "2023-02-21T16:27:02.868422Z",
     "shell.execute_reply.started": "2023-02-21T16:26:49.732094Z"
    }
   },
   "outputs": [
    {
     "name": "stderr",
     "output_type": "stream",
     "text": [
      "/opt/conda/lib/python3.7/site-packages/huggingface_hub/repository.py:708: FutureWarning: Creating a repository through 'clone_from' is deprecated and will be removed in v0.11.\n",
      "  FutureWarning,\n",
      "Cloning https://huggingface.co/dipudl/codeT5-DistilBERT-wrong-binary-operator-bug-model into local empty directory.\n"
     ]
    }
   ],
   "source": [
    "trainer = Trainer(\n",
    "    model=model,                         \n",
    "    args=training_args,                  \n",
    "    train_dataset=train_dataset,         \n",
    "    eval_dataset=validation_dataset,\n",
    "    tokenizer=tokenizer,\n",
    "    compute_metrics=compute_metrics\n",
    ")\n",
    "\n",
    "trainer.add_callback(CustomCallback(trainer)) "
   ]
  },
  {
   "cell_type": "code",
   "execution_count": null,
   "metadata": {
    "execution": {
     "iopub.execute_input": "2023-02-21T16:27:02.872524Z",
     "iopub.status.busy": "2023-02-21T16:27:02.872103Z"
    }
   },
   "outputs": [
    {
     "name": "stderr",
     "output_type": "stream",
     "text": [
      "The following columns in the training set don't have a corresponding argument in `DistilBertForSequenceClassification.forward` and have been ignored: file, start_line, end_column, end_line, start_column. If file, start_line, end_column, end_line, start_column are not expected by `DistilBertForSequenceClassification.forward`,  you can safely ignore this message.\n",
      "/opt/conda/lib/python3.7/site-packages/transformers/optimization.py:310: FutureWarning: This implementation of AdamW is deprecated and will be removed in a future version. Use the PyTorch implementation torch.optim.AdamW instead, or set `no_deprecation_warning=True` to disable this warning\n",
      "  FutureWarning,\n",
      "***** Running training *****\n",
      "  Num examples = 900707\n",
      "  Num Epochs = 10\n",
      "  Instantaneous batch size per device = 32\n",
      "  Total train batch size (w. parallel, distributed & accumulation) = 64\n",
      "  Gradient Accumulation steps = 1\n",
      "  Total optimization steps = 140740\n",
      "/opt/conda/lib/python3.7/site-packages/torch/nn/parallel/_functions.py:68: UserWarning: Was asked to gather along dimension 0, but all input tensors were scalars; will instead unsqueeze and return a vector.\n",
      "  warnings.warn('Was asked to gather along dimension 0, but all '\n"
     ]
    },
    {
     "data": {
      "text/html": [
       "\n",
       "    <div>\n",
       "      \n",
       "      <progress value='1874' max='140740' style='width:300px; height:20px; vertical-align: middle;'></progress>\n",
       "      [  1874/140740 12:01 < 14:51:33, 2.60 it/s, Epoch 0.13/10]\n",
       "    </div>\n",
       "    <table border=\"1\" class=\"dataframe\">\n",
       "  <thead>\n",
       " <tr style=\"text-align: left;\">\n",
       "      <th>Epoch</th>\n",
       "      <th>Training Loss</th>\n",
       "      <th>Validation Loss</th>\n",
       "    </tr>\n",
       "  </thead>\n",
       "  <tbody>\n",
       "  </tbody>\n",
       "</table><p>"
      ],
      "text/plain": [
       "<IPython.core.display.HTML object>"
      ]
     },
     "metadata": {},
     "output_type": "display_data"
    }
   ],
   "source": [
    "trainer.train()"
   ]
  },
  {
   "cell_type": "code",
   "execution_count": null,
   "metadata": {},
   "outputs": [],
   "source": [
    "# trainer.save(\"codeT5-DistilBERT-wrong-binary-operator-bug-model_10ep\")"
   ]
  }
 ],
 "metadata": {
  "kernelspec": {
   "display_name": "Python 3 (ipykernel)",
   "language": "python",
   "name": "python3"
  },
  "language_info": {
   "codemirror_mode": {
    "name": "ipython",
    "version": 3
   },
   "file_extension": ".py",
   "mimetype": "text/x-python",
   "name": "python",
   "nbconvert_exporter": "python",
   "pygments_lexer": "ipython3",
   "version": "3.9.12"
  }
 },
 "nbformat": 4,
 "nbformat_minor": 4
}
