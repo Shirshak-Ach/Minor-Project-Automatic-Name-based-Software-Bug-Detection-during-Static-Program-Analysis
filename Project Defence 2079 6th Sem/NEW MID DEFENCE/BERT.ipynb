{
 "cells": [
  {
   "cell_type": "code",
   "execution_count": 1,
   "id": "b47b6b71",
   "metadata": {},
   "outputs": [],
   "source": [
    "import numpy as np\n",
    "import pandas as pd\n",
    "from sklearn.model_selection import train_test_split"
   ]
  },
  {
   "cell_type": "code",
   "execution_count": 2,
   "id": "d63cd9ec",
   "metadata": {
    "scrolled": true
   },
   "outputs": [
    {
     "name": "stderr",
     "output_type": "stream",
     "text": [
      "C:\\Users\\Hp\\AppData\\Local\\Temp\\ipykernel_9176\\2753292946.py:1: DtypeWarning: Columns (11) have mixed types. Specify dtype option on import or set low_memory=False.\n",
      "  metadata = pd.read_csv(r\"C:\\Users\\Hp\\00000000000000 Defence\\full_metadata.csv\")\n"
     ]
    },
    {
     "data": {
      "text/html": [
       "<div>\n",
       "<style scoped>\n",
       "    .dataframe tbody tr th:only-of-type {\n",
       "        vertical-align: middle;\n",
       "    }\n",
       "\n",
       "    .dataframe tbody tr th {\n",
       "        vertical-align: top;\n",
       "    }\n",
       "\n",
       "    .dataframe thead th {\n",
       "        text-align: right;\n",
       "    }\n",
       "</style>\n",
       "<table border=\"1\" class=\"dataframe\">\n",
       "  <thead>\n",
       "    <tr style=\"text-align: right;\">\n",
       "      <th></th>\n",
       "      <th>submission_id</th>\n",
       "      <th>problem_id</th>\n",
       "      <th>user_id</th>\n",
       "      <th>date</th>\n",
       "      <th>language</th>\n",
       "      <th>original_language</th>\n",
       "      <th>filename_ext</th>\n",
       "      <th>status</th>\n",
       "      <th>cpu_time</th>\n",
       "      <th>memory</th>\n",
       "      <th>code_size</th>\n",
       "      <th>accuracy</th>\n",
       "    </tr>\n",
       "  </thead>\n",
       "  <tbody>\n",
       "    <tr>\n",
       "      <th>482020</th>\n",
       "      <td>s640927055</td>\n",
       "      <td>p02741</td>\n",
       "      <td>u869501198</td>\n",
       "      <td>1584241997</td>\n",
       "      <td>C</td>\n",
       "      <td>C (GCC 5.4.1)</td>\n",
       "      <td>c</td>\n",
       "      <td>Runtime Error</td>\n",
       "      <td>97.0</td>\n",
       "      <td>128.0</td>\n",
       "      <td>324</td>\n",
       "      <td>NaN</td>\n",
       "    </tr>\n",
       "    <tr>\n",
       "      <th>523691</th>\n",
       "      <td>s432992097</td>\n",
       "      <td>p02865</td>\n",
       "      <td>u391247609</td>\n",
       "      <td>1586913703</td>\n",
       "      <td>C</td>\n",
       "      <td>C (GCC 5.4.1)</td>\n",
       "      <td>c</td>\n",
       "      <td>Wrong Answer</td>\n",
       "      <td>1.0</td>\n",
       "      <td>128.0</td>\n",
       "      <td>165</td>\n",
       "      <td>NaN</td>\n",
       "    </tr>\n",
       "    <tr>\n",
       "      <th>252810</th>\n",
       "      <td>s598496300</td>\n",
       "      <td>p02391</td>\n",
       "      <td>u007599122</td>\n",
       "      <td>1491801367</td>\n",
       "      <td>C</td>\n",
       "      <td>C</td>\n",
       "      <td>c</td>\n",
       "      <td>Wrong Answer</td>\n",
       "      <td>0.0</td>\n",
       "      <td>596.0</td>\n",
       "      <td>196</td>\n",
       "      <td>0/4</td>\n",
       "    </tr>\n",
       "    <tr>\n",
       "      <th>386797</th>\n",
       "      <td>s285841273</td>\n",
       "      <td>p02572</td>\n",
       "      <td>u544731670</td>\n",
       "      <td>1599063980</td>\n",
       "      <td>C</td>\n",
       "      <td>C (GCC 9.2.1)</td>\n",
       "      <td>c</td>\n",
       "      <td>Wrong Answer</td>\n",
       "      <td>38.0</td>\n",
       "      <td>4852.0</td>\n",
       "      <td>401</td>\n",
       "      <td>NaN</td>\n",
       "    </tr>\n",
       "    <tr>\n",
       "      <th>56220</th>\n",
       "      <td>s174180754</td>\n",
       "      <td>p00093</td>\n",
       "      <td>u694718044</td>\n",
       "      <td>1495863903</td>\n",
       "      <td>C</td>\n",
       "      <td>C</td>\n",
       "      <td>c</td>\n",
       "      <td>Runtime Error</td>\n",
       "      <td>0.0</td>\n",
       "      <td>600.0</td>\n",
       "      <td>612</td>\n",
       "      <td>0/1</td>\n",
       "    </tr>\n",
       "    <tr>\n",
       "      <th>143584</th>\n",
       "      <td>s713938860</td>\n",
       "      <td>p02258</td>\n",
       "      <td>u382730661</td>\n",
       "      <td>1461991437</td>\n",
       "      <td>C</td>\n",
       "      <td>C</td>\n",
       "      <td>c</td>\n",
       "      <td>Wrong Answer</td>\n",
       "      <td>0.0</td>\n",
       "      <td>600.0</td>\n",
       "      <td>628</td>\n",
       "      <td>29/40</td>\n",
       "    </tr>\n",
       "    <tr>\n",
       "      <th>526995</th>\n",
       "      <td>s289055809</td>\n",
       "      <td>p02881</td>\n",
       "      <td>u732141060</td>\n",
       "      <td>1572823828</td>\n",
       "      <td>C</td>\n",
       "      <td>C (GCC 5.4.1)</td>\n",
       "      <td>c</td>\n",
       "      <td>Wrong Answer</td>\n",
       "      <td>2103.0</td>\n",
       "      <td>128.0</td>\n",
       "      <td>207</td>\n",
       "      <td>NaN</td>\n",
       "    </tr>\n",
       "    <tr>\n",
       "      <th>82522</th>\n",
       "      <td>s708020625</td>\n",
       "      <td>p00435</td>\n",
       "      <td>u142816770</td>\n",
       "      <td>1353897780</td>\n",
       "      <td>C</td>\n",
       "      <td>C</td>\n",
       "      <td>c</td>\n",
       "      <td>Wrong Answer</td>\n",
       "      <td>0.0</td>\n",
       "      <td>536.0</td>\n",
       "      <td>316</td>\n",
       "      <td>0/1</td>\n",
       "    </tr>\n",
       "    <tr>\n",
       "      <th>404617</th>\n",
       "      <td>s414725822</td>\n",
       "      <td>p02623</td>\n",
       "      <td>u139965353</td>\n",
       "      <td>1595011865</td>\n",
       "      <td>C</td>\n",
       "      <td>C (GCC 9.2.1)</td>\n",
       "      <td>c</td>\n",
       "      <td>Compile Error</td>\n",
       "      <td>NaN</td>\n",
       "      <td>NaN</td>\n",
       "      <td>730</td>\n",
       "      <td>NaN</td>\n",
       "    </tr>\n",
       "    <tr>\n",
       "      <th>38088</th>\n",
       "      <td>s821674993</td>\n",
       "      <td>p00022</td>\n",
       "      <td>u933965697</td>\n",
       "      <td>1439774359</td>\n",
       "      <td>C</td>\n",
       "      <td>C</td>\n",
       "      <td>c</td>\n",
       "      <td>Wrong Answer</td>\n",
       "      <td>0.0</td>\n",
       "      <td>600.0</td>\n",
       "      <td>486</td>\n",
       "      <td>0/1</td>\n",
       "    </tr>\n",
       "  </tbody>\n",
       "</table>\n",
       "</div>"
      ],
      "text/plain": [
       "       submission_id problem_id     user_id        date language  \\\n",
       "482020    s640927055     p02741  u869501198  1584241997        C   \n",
       "523691    s432992097     p02865  u391247609  1586913703        C   \n",
       "252810    s598496300     p02391  u007599122  1491801367        C   \n",
       "386797    s285841273     p02572  u544731670  1599063980        C   \n",
       "56220     s174180754     p00093  u694718044  1495863903        C   \n",
       "143584    s713938860     p02258  u382730661  1461991437        C   \n",
       "526995    s289055809     p02881  u732141060  1572823828        C   \n",
       "82522     s708020625     p00435  u142816770  1353897780        C   \n",
       "404617    s414725822     p02623  u139965353  1595011865        C   \n",
       "38088     s821674993     p00022  u933965697  1439774359        C   \n",
       "\n",
       "       original_language filename_ext         status  cpu_time  memory  \\\n",
       "482020     C (GCC 5.4.1)            c  Runtime Error      97.0   128.0   \n",
       "523691     C (GCC 5.4.1)            c   Wrong Answer       1.0   128.0   \n",
       "252810                 C            c   Wrong Answer       0.0   596.0   \n",
       "386797     C (GCC 9.2.1)            c   Wrong Answer      38.0  4852.0   \n",
       "56220                  C            c  Runtime Error       0.0   600.0   \n",
       "143584                 C            c   Wrong Answer       0.0   600.0   \n",
       "526995     C (GCC 5.4.1)            c   Wrong Answer    2103.0   128.0   \n",
       "82522                  C            c   Wrong Answer       0.0   536.0   \n",
       "404617     C (GCC 9.2.1)            c  Compile Error       NaN     NaN   \n",
       "38088                  C            c   Wrong Answer       0.0   600.0   \n",
       "\n",
       "        code_size accuracy  \n",
       "482020        324      NaN  \n",
       "523691        165      NaN  \n",
       "252810        196      0/4  \n",
       "386797        401      NaN  \n",
       "56220         612      0/1  \n",
       "143584        628    29/40  \n",
       "526995        207      NaN  \n",
       "82522         316      0/1  \n",
       "404617        730      NaN  \n",
       "38088         486      0/1  "
      ]
     },
     "execution_count": 2,
     "metadata": {},
     "output_type": "execute_result"
    }
   ],
   "source": [
    "metadata = pd.read_csv(r\"C:\\Users\\Hp\\00000000000000 Defence\\full_metadata.csv\")\n",
    "metadata.sample(10)"
   ]
  },
  {
   "cell_type": "code",
   "execution_count": 3,
   "id": "bed7051d",
   "metadata": {},
   "outputs": [],
   "source": [
    "correct_filtered_df = pd.DataFrame()\n",
    "bug_filtered_df = pd.DataFrame()"
   ]
  },
  {
   "cell_type": "code",
   "execution_count": 4,
   "id": "e99c3257",
   "metadata": {},
   "outputs": [],
   "source": [
    "def read_code_file(problem_id, submission_id):\n",
    "    with open(\"D:\\\\defence_data\\\\Project_CodeNet\\\\data\\\\{}\\\\C\\\\{}.c\"\n",
    "              .format(problem_id, submission_id),encoding=\"utf8\") as f:\n",
    "        return f.read()"
   ]
  },
  {
   "cell_type": "code",
   "execution_count": 5,
   "id": "b2cdecdd",
   "metadata": {},
   "outputs": [
    {
     "data": {
      "text/plain": [
       "754058"
      ]
     },
     "execution_count": 5,
     "metadata": {},
     "output_type": "execute_result"
    }
   ],
   "source": [
    "metadata.index.size"
   ]
  },
  {
   "cell_type": "code",
   "execution_count": null,
   "id": "8a9f8860",
   "metadata": {},
   "outputs": [],
   "source": []
  },
  {
   "cell_type": "code",
   "execution_count": 6,
   "id": "3937b2b6",
   "metadata": {},
   "outputs": [
    {
     "name": "stdout",
     "output_type": "stream",
     "text": [
      "397\n",
      "2167\n"
     ]
    }
   ],
   "source": [
    "count1 = 0\n",
    "count2 = 0\n",
    "max_difference = 30\n",
    "indexes = metadata.index\n",
    "\n",
    "for i in indexes[0:5000]:   # for entire dataset change this to----- for i in indexes[0:-1]:\n",
    "    problem_id = metadata[\"problem_id\"][i]\n",
    "    if(metadata[\"status\"][i] == \"Runtime Error\"):\n",
    "        bug_submission_id = metadata[\"submission_id\"][i]\n",
    "        bug_filtered_df = pd.concat([bug_filtered_df, pd.DataFrame(\n",
    "            {\n",
    "                \"code\": read_code_file(problem_id, bug_submission_id),\n",
    "                \"labels\": 1\n",
    "            },\n",
    "            index=[count1])])\n",
    "        count1 += 1\n",
    "    if(metadata[\"status\"][i] == \"Accepted\"):\n",
    "        correct_submission_id = metadata[\"submission_id\"][i]\n",
    "        correct_filtered_df = pd.concat([correct_filtered_df, pd.DataFrame(\n",
    "            {\n",
    "                \"code\": read_code_file(problem_id, correct_submission_id),\n",
    "                \"labels\": 0,\n",
    "            },\n",
    "            index=[count2])])\n",
    "        count2 += 1\n",
    "        \n",
    "print(count1)\n",
    "print(count2)"
   ]
  },
  {
   "cell_type": "code",
   "execution_count": 7,
   "id": "df72645f",
   "metadata": {},
   "outputs": [],
   "source": [
    "# transformer_fine_tune_df = correct_filtered_df.iloc[396:]\n",
    "# transformer_fine_tune_df"
   ]
  },
  {
   "cell_type": "code",
   "execution_count": 8,
   "id": "2d069866",
   "metadata": {},
   "outputs": [],
   "source": [
    "# correct_filtered_df.drop(correct_filtered_df.index[396:],inplace=True)"
   ]
  },
  {
   "cell_type": "code",
   "execution_count": 9,
   "id": "8c68aa5e",
   "metadata": {},
   "outputs": [
    {
     "data": {
      "text/html": [
       "<div>\n",
       "<style scoped>\n",
       "    .dataframe tbody tr th:only-of-type {\n",
       "        vertical-align: middle;\n",
       "    }\n",
       "\n",
       "    .dataframe tbody tr th {\n",
       "        vertical-align: top;\n",
       "    }\n",
       "\n",
       "    .dataframe thead th {\n",
       "        text-align: right;\n",
       "    }\n",
       "</style>\n",
       "<table border=\"1\" class=\"dataframe\">\n",
       "  <thead>\n",
       "    <tr style=\"text-align: right;\">\n",
       "      <th></th>\n",
       "      <th>code</th>\n",
       "      <th>labels</th>\n",
       "    </tr>\n",
       "  </thead>\n",
       "  <tbody>\n",
       "    <tr>\n",
       "      <th>0</th>\n",
       "      <td>#include&lt;stdio.h&gt;\\n\\nint main(){\\n  int i,j;\\n...</td>\n",
       "      <td>0</td>\n",
       "    </tr>\n",
       "    <tr>\n",
       "      <th>1</th>\n",
       "      <td>#include&lt;stdio.h&gt;\\nint main()\\n{\\n    int i,j;...</td>\n",
       "      <td>0</td>\n",
       "    </tr>\n",
       "    <tr>\n",
       "      <th>2</th>\n",
       "      <td>#include&lt;stdio.h&gt;\\nint main()\\n{\\n    int i,a,...</td>\n",
       "      <td>0</td>\n",
       "    </tr>\n",
       "    <tr>\n",
       "      <th>3</th>\n",
       "      <td>#include&lt;stdio.h&gt;\\nint main()\\n{\\n    int n,i;...</td>\n",
       "      <td>0</td>\n",
       "    </tr>\n",
       "    <tr>\n",
       "      <th>4</th>\n",
       "      <td>#include&lt;stdio.h&gt;\\nint main ()\\n{\\n int i,j;\\n...</td>\n",
       "      <td>0</td>\n",
       "    </tr>\n",
       "    <tr>\n",
       "      <th>...</th>\n",
       "      <td>...</td>\n",
       "      <td>...</td>\n",
       "    </tr>\n",
       "    <tr>\n",
       "      <th>2162</th>\n",
       "      <td>#include&lt;stdio.h&gt;\\nint main(void){\\n\\tint i,j,...</td>\n",
       "      <td>0</td>\n",
       "    </tr>\n",
       "    <tr>\n",
       "      <th>2163</th>\n",
       "      <td>#include &lt;stdio.h&gt;                            ...</td>\n",
       "      <td>0</td>\n",
       "    </tr>\n",
       "    <tr>\n",
       "      <th>2164</th>\n",
       "      <td>#include &lt;stdio.h&gt;\\n\\nint main(void){\\n\\tint h...</td>\n",
       "      <td>0</td>\n",
       "    </tr>\n",
       "    <tr>\n",
       "      <th>2165</th>\n",
       "      <td>#include&lt;stdio.h&gt;\\nint main(void)\\n{\\n    int ...</td>\n",
       "      <td>0</td>\n",
       "    </tr>\n",
       "    <tr>\n",
       "      <th>2166</th>\n",
       "      <td>#include&lt;stdio.h&gt;\\n\\n/* 比較関数 */\\nint comp( con...</td>\n",
       "      <td>0</td>\n",
       "    </tr>\n",
       "  </tbody>\n",
       "</table>\n",
       "<p>2167 rows × 2 columns</p>\n",
       "</div>"
      ],
      "text/plain": [
       "                                                   code  labels\n",
       "0     #include<stdio.h>\\n\\nint main(){\\n  int i,j;\\n...       0\n",
       "1     #include<stdio.h>\\nint main()\\n{\\n    int i,j;...       0\n",
       "2     #include<stdio.h>\\nint main()\\n{\\n    int i,a,...       0\n",
       "3     #include<stdio.h>\\nint main()\\n{\\n    int n,i;...       0\n",
       "4     #include<stdio.h>\\nint main ()\\n{\\n int i,j;\\n...       0\n",
       "...                                                 ...     ...\n",
       "2162  #include<stdio.h>\\nint main(void){\\n\\tint i,j,...       0\n",
       "2163  #include <stdio.h>                            ...       0\n",
       "2164  #include <stdio.h>\\n\\nint main(void){\\n\\tint h...       0\n",
       "2165  #include<stdio.h>\\nint main(void)\\n{\\n    int ...       0\n",
       "2166  #include<stdio.h>\\n\\n/* 比較関数 */\\nint comp( con...       0\n",
       "\n",
       "[2167 rows x 2 columns]"
      ]
     },
     "execution_count": 9,
     "metadata": {},
     "output_type": "execute_result"
    }
   ],
   "source": [
    "correct_filtered_df"
   ]
  },
  {
   "cell_type": "code",
   "execution_count": 10,
   "id": "01429fa8",
   "metadata": {},
   "outputs": [
    {
     "data": {
      "text/html": [
       "<div>\n",
       "<style scoped>\n",
       "    .dataframe tbody tr th:only-of-type {\n",
       "        vertical-align: middle;\n",
       "    }\n",
       "\n",
       "    .dataframe tbody tr th {\n",
       "        vertical-align: top;\n",
       "    }\n",
       "\n",
       "    .dataframe thead th {\n",
       "        text-align: right;\n",
       "    }\n",
       "</style>\n",
       "<table border=\"1\" class=\"dataframe\">\n",
       "  <thead>\n",
       "    <tr style=\"text-align: right;\">\n",
       "      <th></th>\n",
       "      <th>code</th>\n",
       "      <th>labels</th>\n",
       "    </tr>\n",
       "  </thead>\n",
       "  <tbody>\n",
       "    <tr>\n",
       "      <th>0</th>\n",
       "      <td>#include &lt;stdio.h&gt;\\nvoid main()\\n{\\n   int j,i...</td>\n",
       "      <td>1</td>\n",
       "    </tr>\n",
       "    <tr>\n",
       "      <th>1</th>\n",
       "      <td>j;main(i){for(;j=i&lt;10;i++)for(;j&lt;10;j++)printf...</td>\n",
       "      <td>1</td>\n",
       "    </tr>\n",
       "    <tr>\n",
       "      <th>2</th>\n",
       "      <td>j;main(i){for(;j=i&lt;10;i++)for(;j&lt;10;)printf(\"%...</td>\n",
       "      <td>1</td>\n",
       "    </tr>\n",
       "    <tr>\n",
       "      <th>3</th>\n",
       "      <td>j;main(i){for(;j=i&lt;10;i++)for(;j&lt;10;)printf(\"%...</td>\n",
       "      <td>1</td>\n",
       "    </tr>\n",
       "    <tr>\n",
       "      <th>4</th>\n",
       "      <td>#include &lt;stdio.h&gt;\\n\\nint main(void){\\n  int i...</td>\n",
       "      <td>1</td>\n",
       "    </tr>\n",
       "    <tr>\n",
       "      <th>...</th>\n",
       "      <td>...</td>\n",
       "      <td>...</td>\n",
       "    </tr>\n",
       "    <tr>\n",
       "      <th>392</th>\n",
       "      <td>#include&lt;stdio.h&gt;\\n\\nint main(void){\\nint i,j,...</td>\n",
       "      <td>1</td>\n",
       "    </tr>\n",
       "    <tr>\n",
       "      <th>393</th>\n",
       "      <td>#include&lt;stdio.h&gt;\\nmain()\\n{\\n\\tint i,j,m[10];...</td>\n",
       "      <td>1</td>\n",
       "    </tr>\n",
       "    <tr>\n",
       "      <th>394</th>\n",
       "      <td>#include &lt;stdio.h&gt;\\n\\nint main(int argc, const...</td>\n",
       "      <td>1</td>\n",
       "    </tr>\n",
       "    <tr>\n",
       "      <th>395</th>\n",
       "      <td>#include &lt;stdio.h&gt;\\nint main ()\\n{\\n    int nu...</td>\n",
       "      <td>1</td>\n",
       "    </tr>\n",
       "    <tr>\n",
       "      <th>396</th>\n",
       "      <td>#include&lt;stdio.h&gt;\\nint main(void){\\n\\tint i,j,...</td>\n",
       "      <td>1</td>\n",
       "    </tr>\n",
       "  </tbody>\n",
       "</table>\n",
       "<p>397 rows × 2 columns</p>\n",
       "</div>"
      ],
      "text/plain": [
       "                                                  code  labels\n",
       "0    #include <stdio.h>\\nvoid main()\\n{\\n   int j,i...       1\n",
       "1    j;main(i){for(;j=i<10;i++)for(;j<10;j++)printf...       1\n",
       "2    j;main(i){for(;j=i<10;i++)for(;j<10;)printf(\"%...       1\n",
       "3    j;main(i){for(;j=i<10;i++)for(;j<10;)printf(\"%...       1\n",
       "4    #include <stdio.h>\\n\\nint main(void){\\n  int i...       1\n",
       "..                                                 ...     ...\n",
       "392  #include<stdio.h>\\n\\nint main(void){\\nint i,j,...       1\n",
       "393  #include<stdio.h>\\nmain()\\n{\\n\\tint i,j,m[10];...       1\n",
       "394  #include <stdio.h>\\n\\nint main(int argc, const...       1\n",
       "395  #include <stdio.h>\\nint main ()\\n{\\n    int nu...       1\n",
       "396  #include<stdio.h>\\nint main(void){\\n\\tint i,j,...       1\n",
       "\n",
       "[397 rows x 2 columns]"
      ]
     },
     "execution_count": 10,
     "metadata": {},
     "output_type": "execute_result"
    }
   ],
   "source": [
    "bug_filtered_df"
   ]
  },
  {
   "cell_type": "code",
   "execution_count": 11,
   "id": "6aa38c36",
   "metadata": {},
   "outputs": [],
   "source": [
    "# fine_tune_data = transformer_fine_tune_df['code']\n",
    "# fine_tune_data"
   ]
  },
  {
   "cell_type": "code",
   "execution_count": 12,
   "id": "3ecca0f4",
   "metadata": {},
   "outputs": [
    {
     "data": {
      "text/html": [
       "<div>\n",
       "<style scoped>\n",
       "    .dataframe tbody tr th:only-of-type {\n",
       "        vertical-align: middle;\n",
       "    }\n",
       "\n",
       "    .dataframe tbody tr th {\n",
       "        vertical-align: top;\n",
       "    }\n",
       "\n",
       "    .dataframe thead th {\n",
       "        text-align: right;\n",
       "    }\n",
       "</style>\n",
       "<table border=\"1\" class=\"dataframe\">\n",
       "  <thead>\n",
       "    <tr style=\"text-align: right;\">\n",
       "      <th></th>\n",
       "      <th>code</th>\n",
       "      <th>labels</th>\n",
       "    </tr>\n",
       "  </thead>\n",
       "  <tbody>\n",
       "    <tr>\n",
       "      <th>0</th>\n",
       "      <td>#include&lt;stdio.h&gt;\\n\\nint main(){\\n  int i,j;\\n...</td>\n",
       "      <td>0</td>\n",
       "    </tr>\n",
       "    <tr>\n",
       "      <th>1</th>\n",
       "      <td>#include&lt;stdio.h&gt;\\nint main()\\n{\\n    int i,j;...</td>\n",
       "      <td>0</td>\n",
       "    </tr>\n",
       "    <tr>\n",
       "      <th>2</th>\n",
       "      <td>#include&lt;stdio.h&gt;\\nint main()\\n{\\n    int i,a,...</td>\n",
       "      <td>0</td>\n",
       "    </tr>\n",
       "    <tr>\n",
       "      <th>3</th>\n",
       "      <td>#include&lt;stdio.h&gt;\\nint main()\\n{\\n    int n,i;...</td>\n",
       "      <td>0</td>\n",
       "    </tr>\n",
       "    <tr>\n",
       "      <th>4</th>\n",
       "      <td>#include&lt;stdio.h&gt;\\nint main ()\\n{\\n int i,j;\\n...</td>\n",
       "      <td>0</td>\n",
       "    </tr>\n",
       "    <tr>\n",
       "      <th>...</th>\n",
       "      <td>...</td>\n",
       "      <td>...</td>\n",
       "    </tr>\n",
       "    <tr>\n",
       "      <th>392</th>\n",
       "      <td>#include&lt;stdio.h&gt;\\n\\nint main(void){\\nint i,j,...</td>\n",
       "      <td>1</td>\n",
       "    </tr>\n",
       "    <tr>\n",
       "      <th>393</th>\n",
       "      <td>#include&lt;stdio.h&gt;\\nmain()\\n{\\n\\tint i,j,m[10];...</td>\n",
       "      <td>1</td>\n",
       "    </tr>\n",
       "    <tr>\n",
       "      <th>394</th>\n",
       "      <td>#include &lt;stdio.h&gt;\\n\\nint main(int argc, const...</td>\n",
       "      <td>1</td>\n",
       "    </tr>\n",
       "    <tr>\n",
       "      <th>395</th>\n",
       "      <td>#include &lt;stdio.h&gt;\\nint main ()\\n{\\n    int nu...</td>\n",
       "      <td>1</td>\n",
       "    </tr>\n",
       "    <tr>\n",
       "      <th>396</th>\n",
       "      <td>#include&lt;stdio.h&gt;\\nint main(void){\\n\\tint i,j,...</td>\n",
       "      <td>1</td>\n",
       "    </tr>\n",
       "  </tbody>\n",
       "</table>\n",
       "<p>2564 rows × 2 columns</p>\n",
       "</div>"
      ],
      "text/plain": [
       "                                                  code  labels\n",
       "0    #include<stdio.h>\\n\\nint main(){\\n  int i,j;\\n...       0\n",
       "1    #include<stdio.h>\\nint main()\\n{\\n    int i,j;...       0\n",
       "2    #include<stdio.h>\\nint main()\\n{\\n    int i,a,...       0\n",
       "3    #include<stdio.h>\\nint main()\\n{\\n    int n,i;...       0\n",
       "4    #include<stdio.h>\\nint main ()\\n{\\n int i,j;\\n...       0\n",
       "..                                                 ...     ...\n",
       "392  #include<stdio.h>\\n\\nint main(void){\\nint i,j,...       1\n",
       "393  #include<stdio.h>\\nmain()\\n{\\n\\tint i,j,m[10];...       1\n",
       "394  #include <stdio.h>\\n\\nint main(int argc, const...       1\n",
       "395  #include <stdio.h>\\nint main ()\\n{\\n    int nu...       1\n",
       "396  #include<stdio.h>\\nint main(void){\\n\\tint i,j,...       1\n",
       "\n",
       "[2564 rows x 2 columns]"
      ]
     },
     "execution_count": 12,
     "metadata": {},
     "output_type": "execute_result"
    }
   ],
   "source": [
    "final_df = pd.concat([correct_filtered_df,bug_filtered_df],axis=0)\n",
    "final_df"
   ]
  },
  {
   "cell_type": "code",
   "execution_count": 13,
   "id": "da244870",
   "metadata": {},
   "outputs": [],
   "source": [
    "final_df = final_df.sample(frac=1).reset_index(drop=True)#USED FOR SHUFFLE"
   ]
  },
  {
   "cell_type": "code",
   "execution_count": 14,
   "id": "3225a939",
   "metadata": {},
   "outputs": [
    {
     "data": {
      "text/html": [
       "<div>\n",
       "<style scoped>\n",
       "    .dataframe tbody tr th:only-of-type {\n",
       "        vertical-align: middle;\n",
       "    }\n",
       "\n",
       "    .dataframe tbody tr th {\n",
       "        vertical-align: top;\n",
       "    }\n",
       "\n",
       "    .dataframe thead th {\n",
       "        text-align: right;\n",
       "    }\n",
       "</style>\n",
       "<table border=\"1\" class=\"dataframe\">\n",
       "  <thead>\n",
       "    <tr style=\"text-align: right;\">\n",
       "      <th></th>\n",
       "      <th>code</th>\n",
       "      <th>labels</th>\n",
       "    </tr>\n",
       "  </thead>\n",
       "  <tbody>\n",
       "    <tr>\n",
       "      <th>0</th>\n",
       "      <td>i;main(j){for(i=1;i&lt;=9;i++)for(j=1;j&lt;=9;j++)pr...</td>\n",
       "      <td>1</td>\n",
       "    </tr>\n",
       "    <tr>\n",
       "      <th>1</th>\n",
       "      <td>#include&lt;stdio.h&gt;\\nint main(void){\\n    int a,...</td>\n",
       "      <td>0</td>\n",
       "    </tr>\n",
       "    <tr>\n",
       "      <th>2</th>\n",
       "      <td>main(a,b){for(;a&lt;10;a++){for(b=1;b&lt;10;){printf...</td>\n",
       "      <td>0</td>\n",
       "    </tr>\n",
       "    <tr>\n",
       "      <th>3</th>\n",
       "      <td>#include&lt;stdio.h&gt;\\nint main(void){\\n  int ii =...</td>\n",
       "      <td>0</td>\n",
       "    </tr>\n",
       "    <tr>\n",
       "      <th>4</th>\n",
       "      <td>#include&lt;stdio.h&gt;\\n\\nint main(){\\n\\t\\n\\tint i,...</td>\n",
       "      <td>0</td>\n",
       "    </tr>\n",
       "    <tr>\n",
       "      <th>...</th>\n",
       "      <td>...</td>\n",
       "      <td>...</td>\n",
       "    </tr>\n",
       "    <tr>\n",
       "      <th>2559</th>\n",
       "      <td>#include &lt;stdio.h&gt;\\nint main()\\n{\\n  int i,n;\\...</td>\n",
       "      <td>0</td>\n",
       "    </tr>\n",
       "    <tr>\n",
       "      <th>2560</th>\n",
       "      <td>#include &lt;stdio.h&gt;\\n\\nint main() {\\n\\tint i, j...</td>\n",
       "      <td>0</td>\n",
       "    </tr>\n",
       "    <tr>\n",
       "      <th>2561</th>\n",
       "      <td>#include &lt;stdio.h&gt;\\n\\nint main(void) {\\nint i ...</td>\n",
       "      <td>0</td>\n",
       "    </tr>\n",
       "    <tr>\n",
       "      <th>2562</th>\n",
       "      <td>#include &lt;stdio.h&gt;\\nint main(void){\\n\\tint i, ...</td>\n",
       "      <td>0</td>\n",
       "    </tr>\n",
       "    <tr>\n",
       "      <th>2563</th>\n",
       "      <td>\\n#include&lt;stdio.h&gt;\\n\\nint main(){\\n\\tint i,j;...</td>\n",
       "      <td>0</td>\n",
       "    </tr>\n",
       "  </tbody>\n",
       "</table>\n",
       "<p>2564 rows × 2 columns</p>\n",
       "</div>"
      ],
      "text/plain": [
       "                                                   code  labels\n",
       "0     i;main(j){for(i=1;i<=9;i++)for(j=1;j<=9;j++)pr...       1\n",
       "1     #include<stdio.h>\\nint main(void){\\n    int a,...       0\n",
       "2     main(a,b){for(;a<10;a++){for(b=1;b<10;){printf...       0\n",
       "3     #include<stdio.h>\\nint main(void){\\n  int ii =...       0\n",
       "4     #include<stdio.h>\\n\\nint main(){\\n\\t\\n\\tint i,...       0\n",
       "...                                                 ...     ...\n",
       "2559  #include <stdio.h>\\nint main()\\n{\\n  int i,n;\\...       0\n",
       "2560  #include <stdio.h>\\n\\nint main() {\\n\\tint i, j...       0\n",
       "2561  #include <stdio.h>\\n\\nint main(void) {\\nint i ...       0\n",
       "2562  #include <stdio.h>\\nint main(void){\\n\\tint i, ...       0\n",
       "2563  \\n#include<stdio.h>\\n\\nint main(){\\n\\tint i,j;...       0\n",
       "\n",
       "[2564 rows x 2 columns]"
      ]
     },
     "execution_count": 14,
     "metadata": {},
     "output_type": "execute_result"
    }
   ],
   "source": [
    "final_df"
   ]
  },
  {
   "cell_type": "code",
   "execution_count": 26,
   "id": "0dce1c3b",
   "metadata": {},
   "outputs": [
    {
     "name": "stderr",
     "output_type": "stream",
     "text": [
      "C:\\Users\\Hp\\anaconda3\\lib\\site-packages\\tqdm\\auto.py:22: TqdmWarning: IProgress not found. Please update jupyter and ipywidgets. See https://ipywidgets.readthedocs.io/en/stable/user_install.html\n",
      "  from .autonotebook import tqdm as notebook_tqdm\n"
     ]
    }
   ],
   "source": [
    "import transformers\n",
    "import tensorflow as tf\n",
    "import pandas as pd"
   ]
  },
  {
   "cell_type": "code",
   "execution_count": 27,
   "id": "3e1bfcc9",
   "metadata": {},
   "outputs": [],
   "source": [
    "aaa = final_df['code'].apply(lambda x: len(x.split()))"
   ]
  },
  {
   "cell_type": "code",
   "execution_count": 28,
   "id": "a39edba5",
   "metadata": {},
   "outputs": [
    {
     "data": {
      "text/plain": [
       "266"
      ]
     },
     "execution_count": 28,
     "metadata": {},
     "output_type": "execute_result"
    }
   ],
   "source": [
    "aaa.value_counts().max()"
   ]
  },
  {
   "cell_type": "code",
   "execution_count": 29,
   "id": "6b000f0e",
   "metadata": {},
   "outputs": [],
   "source": [
    "import matplotlib.pyplot as plt\n",
    "%matplotlib inline"
   ]
  },
  {
   "cell_type": "code",
   "execution_count": 30,
   "id": "8a8285ed",
   "metadata": {},
   "outputs": [],
   "source": [
    "import seaborn as sns"
   ]
  },
  {
   "cell_type": "code",
   "execution_count": 31,
   "id": "dc631b85",
   "metadata": {},
   "outputs": [
    {
     "name": "stderr",
     "output_type": "stream",
     "text": [
      "C:\\Users\\Hp\\anaconda3\\lib\\site-packages\\seaborn\\distributions.py:2619: FutureWarning: `distplot` is a deprecated function and will be removed in a future version. Please adapt your code to use either `displot` (a figure-level function with similar flexibility) or `histplot` (an axes-level function for histograms).\n",
      "  warnings.warn(msg, FutureWarning)\n"
     ]
    },
    {
     "data": {
      "text/plain": [
       "<AxesSubplot:xlabel='code', ylabel='Density'>"
      ]
     },
     "execution_count": 31,
     "metadata": {},
     "output_type": "execute_result"
    },
    {
     "data": {
      "image/png": "[encoded data removed]",
      "text/plain": [
       "<Figure size 1600x1000 with 1 Axes>"
      ]
     },
     "metadata": {},
     "output_type": "display_data"
    }
   ],
   "source": [
    "plt.figure(figsize=(16,10))\n",
    "sns.distplot(aaa)"
   ]
  },
  {
   "cell_type": "code",
   "execution_count": 32,
   "id": "cd87f891",
   "metadata": {},
   "outputs": [],
   "source": [
    "# Prepare the data for BERT input\n",
    "MAX_LEN = 256\n",
    "tokenizer = transformers.BertTokenizer.from_pretrained(\"bert-base-uncased\")"
   ]
  },
  {
   "cell_type": "code",
   "execution_count": 33,
   "id": "818a4608",
   "metadata": {},
   "outputs": [],
   "source": [
    "train_data = []"
   ]
  },
  {
   "cell_type": "code",
   "execution_count": 34,
   "id": "55fbbc6e",
   "metadata": {},
   "outputs": [],
   "source": [
    "for text, label in zip(final_df.code.values, final_df.labels.values):\n",
    "    input_ids = tokenizer.encode(text, add_special_tokens=True, max_length=MAX_LEN, truncation=True)\n",
    "    attention_mask = [1] * len(input_ids)\n",
    "    train_data.append((input_ids, attention_mask, label))"
   ]
  },
  {
   "cell_type": "code",
   "execution_count": 35,
   "id": "f14d6641",
   "metadata": {},
   "outputs": [],
   "source": [
    "# Unpack the data\n",
    "train_data = [\n",
    "    (\n",
    "        tf.constant(input_ids, dtype=tf.int32), \n",
    "        tf.constant(attention_mask, dtype=tf.int32), \n",
    "        tf.constant(label, dtype=tf.int32)\n",
    "    ) \n",
    "    for input_ids, attention_mask, label in train_data\n",
    "]"
   ]
  },
  {
   "cell_type": "code",
   "execution_count": 49,
   "id": "595d6f98",
   "metadata": {},
   "outputs": [
    {
     "data": {
      "text/plain": [
       "(<tf.Tensor: shape=(65,), dtype=int32, numpy=\n",
       " array([ 101, 1045, 1025, 2364, 1006, 1046, 1007, 1063, 2005, 1006, 1045,\n",
       "        1027, 1015, 1025, 1045, 1026, 1027, 1023, 1025, 1045, 1009, 1009,\n",
       "        1007, 2005, 1006, 1046, 1027, 1015, 1025, 1046, 1026, 1027, 1023,\n",
       "        1025, 1046, 1009, 1009, 1007, 6140, 2546, 1006, 1000, 1003, 1040,\n",
       "        2595, 1003, 1040, 1027, 1003, 1040, 1032, 1050, 1000, 1010, 1045,\n",
       "        1010, 1046, 1010, 1045, 1008, 1046, 1007, 1025, 1065,  102])>,\n",
       " <tf.Tensor: shape=(65,), dtype=int32, numpy=\n",
       " array([1, 1, 1, 1, 1, 1, 1, 1, 1, 1, 1, 1, 1, 1, 1, 1, 1, 1, 1, 1, 1, 1,\n",
       "        1, 1, 1, 1, 1, 1, 1, 1, 1, 1, 1, 1, 1, 1, 1, 1, 1, 1, 1, 1, 1, 1,\n",
       "        1, 1, 1, 1, 1, 1, 1, 1, 1, 1, 1, 1, 1, 1, 1, 1, 1, 1, 1, 1, 1])>,\n",
       " <tf.Tensor: shape=(), dtype=int32, numpy=1>)"
      ]
     },
     "execution_count": 49,
     "metadata": {},
     "output_type": "execute_result"
    }
   ],
   "source": [
    "train_data[0]"
   ]
  },
  {
   "cell_type": "code",
   "execution_count": 50,
   "id": "a0c82fcc",
   "metadata": {},
   "outputs": [
    {
     "data": {
      "text/plain": [
       "2564"
      ]
     },
     "execution_count": 50,
     "metadata": {},
     "output_type": "execute_result"
    }
   ],
   "source": [
    "len(train_data)"
   ]
  },
  {
   "cell_type": "code",
   "execution_count": 51,
   "id": "7d91ba9d",
   "metadata": {},
   "outputs": [
    {
     "name": "stderr",
     "output_type": "stream",
     "text": [
      "Some layers from the model checkpoint at bert-base-uncased were not used when initializing TFBertModel: ['mlm___cls', 'nsp___cls']\n",
      "- This IS expected if you are initializing TFBertModel from the checkpoint of a model trained on another task or with another architecture (e.g. initializing a BertForSequenceClassification model from a BertForPreTraining model).\n",
      "- This IS NOT expected if you are initializing TFBertModel from the checkpoint of a model that you expect to be exactly identical (initializing a BertForSequenceClassification model from a BertForSequenceClassification model).\n",
      "All the layers of TFBertModel were initialized from the model checkpoint at bert-base-uncased.\n",
      "If your task is similar to the task the model of the checkpoint was trained on, you can already use TFBertModel for predictions without further training.\n"
     ]
    }
   ],
   "source": [
    "# Load BERT model\n",
    "bert_model = transformers.TFBertModel.from_pretrained(\"bert-base-uncased\")"
   ]
  },
  {
   "cell_type": "code",
   "execution_count": 52,
   "id": "f488477d",
   "metadata": {},
   "outputs": [],
   "source": [
    "# Define input and output layers\n",
    "input_ids = tf.keras.layers.Input(shape=(MAX_LEN,), dtype=tf.int32, name=\"input_ids\")\n",
    "attention_mask = tf.keras.layers.Input(shape=(MAX_LEN,), dtype=tf.int32, name=\"attention_mask\")"
   ]
  },
  {
   "cell_type": "code",
   "execution_count": 57,
   "id": "f0e37aed",
   "metadata": {},
   "outputs": [
    {
     "data": {
      "text/plain": [
       "TensorShape([None, 256])"
      ]
     },
     "execution_count": 57,
     "metadata": {},
     "output_type": "execute_result"
    }
   ],
   "source": [
    "input_ids.shape"
   ]
  },
  {
   "cell_type": "code",
   "execution_count": null,
   "id": "3828ea3f",
   "metadata": {},
   "outputs": [],
   "source": []
  },
  {
   "cell_type": "code",
   "execution_count": 28,
   "id": "053f7585",
   "metadata": {},
   "outputs": [],
   "source": [
    "# Freeze BERT model\n",
    "bert_model.bert.embeddings.weight.requiresGrad = False\n",
    "bert_model.bert.embeddings.position_embeddings.requiresGrad = False\n",
    "bert_model.bert.embeddings.token_type_embeddings.requiresGrad = False\n",
    "bert_model.bert.encoder.layer[11].requiresGrad = False"
   ]
  },
  {
   "cell_type": "code",
   "execution_count": 29,
   "id": "95c3ebc5",
   "metadata": {},
   "outputs": [
    {
     "name": "stdout",
     "output_type": "stream",
     "text": [
      "WARNING:tensorflow:The parameters `output_attentions`, `output_hidden_states` and `use_cache` cannot be updated when calling a model.They have to be set to True/False in the config object (i.e.: `config=XConfig.from_pretrained('name', output_attentions=True)`).\n",
      "WARNING:tensorflow:AutoGraph could not transform <bound method Socket.send of <zmq.Socket(zmq.PUSH) at 0x184d826d9a0>> and will run it as-is.\n",
      "Please report this to the TensorFlow team. When filing the bug, set the verbosity to 10 (on Linux, `export AUTOGRAPH_VERBOSITY=10`) and attach the full output.\n",
      "Cause: module, class, method, function, traceback, frame, or code object was expected, got cython_function_or_method\n",
      "To silence this warning, decorate the function with @tf.autograph.experimental.do_not_convert\n",
      "WARNING: AutoGraph could not transform <bound method Socket.send of <zmq.Socket(zmq.PUSH) at 0x184d826d9a0>> and will run it as-is.\n",
      "Please report this to the TensorFlow team. When filing the bug, set the verbosity to 10 (on Linux, `export AUTOGRAPH_VERBOSITY=10`) and attach the full output.\n",
      "Cause: module, class, method, function, traceback, frame, or code object was expected, got cython_function_or_method\n",
      "To silence this warning, decorate the function with @tf.autograph.experimental.do_not_convert\n",
      "WARNING:tensorflow:The parameter `return_dict` cannot be set in graph mode and will always be set to `True`.\n"
     ]
    }
   ],
   "source": [
    "# Pass input through BERT model\n",
    "output = bert_model(input_ids, attention_mask=attention_mask)"
   ]
  },
  {
   "cell_type": "code",
   "execution_count": 30,
   "id": "c771acd2",
   "metadata": {},
   "outputs": [],
   "source": [
    "# Add a dropout layer\n",
    "output = tf.keras.layers.Dropout(0.1)(output[0])"
   ]
  },
  {
   "cell_type": "code",
   "execution_count": 31,
   "id": "78a47838",
   "metadata": {},
   "outputs": [],
   "source": [
    "# Add a dense layer for classification\n",
    "output = tf.keras.layers.Dense(1, activation='sigmoid')(output)"
   ]
  },
  {
   "cell_type": "code",
   "execution_count": 32,
   "id": "e9ccc932",
   "metadata": {},
   "outputs": [],
   "source": [
    "# Create model\n",
    "model = tf.keras.models.Model(inputs=[input_ids, \n",
    "                                      attention_mask], outputs=output)"
   ]
  },
  {
   "cell_type": "code",
   "execution_count": 33,
   "id": "598d8abd",
   "metadata": {},
   "outputs": [],
   "source": [
    "# Compile model\n",
    "model.compile(optimizer=tf.keras.optimizers.Adam(),\n",
    "              loss='binary_crossentropy',\n",
    "              metrics=['accuracy'])"
   ]
  },
  {
   "cell_type": "code",
   "execution_count": null,
   "id": "10b8ce5a",
   "metadata": {},
   "outputs": [],
   "source": []
  },
  {
   "cell_type": "code",
   "execution_count": 34,
   "id": "f62dbca4",
   "metadata": {},
   "outputs": [
    {
     "name": "stderr",
     "output_type": "stream",
     "text": [
      "C:\\Users\\Hp\\AppData\\Local\\Temp\\ipykernel_13328\\1773898647.py:1: VisibleDeprecationWarning: Creating an ndarray from ragged nested sequences (which is a list-or-tuple of lists-or-tuples-or ndarrays with different lengths or shapes) is deprecated. If you meant to do this, you must specify 'dtype=object' when creating the ndarray.\n",
      "  train_dat = np.asarray(train_data)\n"
     ]
    }
   ],
   "source": [
    "train_dat = np.asarray(train_data)"
   ]
  },
  {
   "cell_type": "code",
   "execution_count": 35,
   "id": "99f01c1a",
   "metadata": {},
   "outputs": [
    {
     "data": {
      "text/plain": [
       "array([<tf.Tensor: shape=(84,), dtype=int32, numpy=\n",
       "       array([  101,  1001,  2421,  1026,  2358, 20617,  1012,  1044,  1028,\n",
       "              20014,  2364,  1006, 11675,  1007,  1063, 20014,  1045,  1010,\n",
       "               1046,  1025,  2005,  1006,  1045,  1027,  1015,  1025,  1045,\n",
       "               1026,  1027,  1023,  1025,  1045,  1009,  1009,  1007,  1063,\n",
       "               2005,  1006,  1046,  1027,  1015,  1025,  1046,  1026,  1027,\n",
       "               1023,  1025,  1046,  1009,  1009,  1007,  1063,  6140,  2546,\n",
       "               1006,  1000,  1003,  1040,  2595,  1003,  1040,  1027,  1003,\n",
       "               1040,  1032,  1050,  1000,  1010,  1045,  1010,  1046,  1010,\n",
       "               1045,  1008,  1046,  1007,  1025,  1065,  1065,  2709,  1014,\n",
       "               1025,  1065,   102])>                                        ,\n",
       "       <tf.Tensor: shape=(84,), dtype=int32, numpy=\n",
       "       array([1, 1, 1, 1, 1, 1, 1, 1, 1, 1, 1, 1, 1, 1, 1, 1, 1, 1, 1, 1, 1, 1,\n",
       "              1, 1, 1, 1, 1, 1, 1, 1, 1, 1, 1, 1, 1, 1, 1, 1, 1, 1, 1, 1, 1, 1,\n",
       "              1, 1, 1, 1, 1, 1, 1, 1, 1, 1, 1, 1, 1, 1, 1, 1, 1, 1, 1, 1, 1, 1,\n",
       "              1, 1, 1, 1, 1, 1, 1, 1, 1, 1, 1, 1, 1, 1, 1, 1, 1, 1])>          ,\n",
       "       <tf.Tensor: shape=(), dtype=int32, numpy=0>], dtype=object)"
      ]
     },
     "execution_count": 35,
     "metadata": {},
     "output_type": "execute_result"
    }
   ],
   "source": [
    "train_dat[0]"
   ]
  },
  {
   "cell_type": "code",
   "execution_count": 37,
   "id": "cf49a1ec",
   "metadata": {},
   "outputs": [
    {
     "ename": "IndexError",
     "evalue": "list index out of range",
     "output_type": "error",
     "traceback": [
      "\u001b[1;31m---------------------------------------------------------------------------\u001b[0m",
      "\u001b[1;31mIndexError\u001b[0m                                Traceback (most recent call last)",
      "Input \u001b[1;32mIn [37]\u001b[0m, in \u001b[0;36m<cell line: 2>\u001b[1;34m()\u001b[0m\n\u001b[0;32m      1\u001b[0m \u001b[38;5;66;03m# Fit model on training data\u001b[39;00m\n\u001b[1;32m----> 2\u001b[0m \u001b[43mmodel\u001b[49m\u001b[38;5;241;43m.\u001b[39;49m\u001b[43mfit\u001b[49m\u001b[43m(\u001b[49m\u001b[43mtrain_data\u001b[49m\u001b[43m,\u001b[49m\u001b[43m \u001b[49m\u001b[43mepochs\u001b[49m\u001b[38;5;241;43m=\u001b[39;49m\u001b[38;5;241;43m1\u001b[39;49m\u001b[43m)\u001b[49m\n",
      "File \u001b[1;32m~\\anaconda3\\lib\\site-packages\\keras\\utils\\traceback_utils.py:67\u001b[0m, in \u001b[0;36mfilter_traceback.<locals>.error_handler\u001b[1;34m(*args, **kwargs)\u001b[0m\n\u001b[0;32m     65\u001b[0m \u001b[38;5;28;01mexcept\u001b[39;00m \u001b[38;5;167;01mException\u001b[39;00m \u001b[38;5;28;01mas\u001b[39;00m e:  \u001b[38;5;66;03m# pylint: disable=broad-except\u001b[39;00m\n\u001b[0;32m     66\u001b[0m   filtered_tb \u001b[38;5;241m=\u001b[39m _process_traceback_frames(e\u001b[38;5;241m.\u001b[39m__traceback__)\n\u001b[1;32m---> 67\u001b[0m   \u001b[38;5;28;01mraise\u001b[39;00m e\u001b[38;5;241m.\u001b[39mwith_traceback(filtered_tb) \u001b[38;5;28;01mfrom\u001b[39;00m \u001b[38;5;28mNone\u001b[39m\n\u001b[0;32m     68\u001b[0m \u001b[38;5;28;01mfinally\u001b[39;00m:\n\u001b[0;32m     69\u001b[0m   \u001b[38;5;28;01mdel\u001b[39;00m filtered_tb\n",
      "File \u001b[1;32m~\\anaconda3\\lib\\site-packages\\tensorflow\\python\\framework\\tensor_shape.py:902\u001b[0m, in \u001b[0;36mTensorShape.__getitem__\u001b[1;34m(self, key)\u001b[0m\n\u001b[0;32m    900\u001b[0m \u001b[38;5;28;01melse\u001b[39;00m:\n\u001b[0;32m    901\u001b[0m   \u001b[38;5;28;01mif\u001b[39;00m \u001b[38;5;28mself\u001b[39m\u001b[38;5;241m.\u001b[39m_v2_behavior:\n\u001b[1;32m--> 902\u001b[0m     \u001b[38;5;28;01mreturn\u001b[39;00m \u001b[38;5;28;43mself\u001b[39;49m\u001b[38;5;241;43m.\u001b[39;49m\u001b[43m_dims\u001b[49m\u001b[43m[\u001b[49m\u001b[43mkey\u001b[49m\u001b[43m]\u001b[49m\u001b[38;5;241m.\u001b[39mvalue\n\u001b[0;32m    903\u001b[0m   \u001b[38;5;28;01melse\u001b[39;00m:\n\u001b[0;32m    904\u001b[0m     \u001b[38;5;28;01mreturn\u001b[39;00m \u001b[38;5;28mself\u001b[39m\u001b[38;5;241m.\u001b[39m_dims[key]\n",
      "\u001b[1;31mIndexError\u001b[0m: list index out of range"
     ]
    }
   ],
   "source": [
    "# Fit model on training data\n",
    "model.fit(train_data, epochs=1)"
   ]
  },
  {
   "cell_type": "code",
   "execution_count": null,
   "id": "75e2da0b",
   "metadata": {},
   "outputs": [],
   "source": []
  },
  {
   "cell_type": "code",
   "execution_count": null,
   "id": "d57b55c5",
   "metadata": {},
   "outputs": [],
   "source": []
  },
  {
   "cell_type": "code",
   "execution_count": null,
   "id": "1a0f561e",
   "metadata": {},
   "outputs": [],
   "source": []
  },
  {
   "cell_type": "code",
   "execution_count": null,
   "id": "39540882",
   "metadata": {},
   "outputs": [],
   "source": []
  }
 ],
 "metadata": {
  "kernelspec": {
   "display_name": "Python 3 (ipykernel)",
   "language": "python",
   "name": "python3"
  },
  "language_info": {
   "codemirror_mode": {
    "name": "ipython",
    "version": 3
   },
   "file_extension": ".py",
   "mimetype": "text/x-python",
   "name": "python",
   "nbconvert_exporter": "python",
   "pygments_lexer": "ipython3",
   "version": "3.9.12"
  }
 },
 "nbformat": 4,
 "nbformat_minor": 5
}
