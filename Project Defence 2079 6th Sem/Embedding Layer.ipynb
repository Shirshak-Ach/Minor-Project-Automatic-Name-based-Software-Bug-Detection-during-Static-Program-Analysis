{
 "cells": [
  {
   "cell_type": "code",
   "execution_count": 1,
   "id": "02c7457c",
   "metadata": {},
   "outputs": [],
   "source": [
    "from tensorflow.keras.models import Sequential \n",
    "from tensorflow.keras.layers import Embedding \n",
    "import numpy as np"
   ]
  },
  {
   "cell_type": "code",
   "execution_count": 3,
   "id": "93b2ad2e",
   "metadata": {},
   "outputs": [],
   "source": [
    "embedding_layer = Embedding(input_dim=10,output_dim=4,input_length=2)\n",
    "model = Sequential()\n",
    "model.add(embedding_layer)\n",
    "model.compile('adam','mse')"
   ]
  },
  {
   "cell_type": "code",
   "execution_count": 4,
   "id": "8cf68397",
   "metadata": {},
   "outputs": [],
   "source": [
    "input_data = np.array([[1,2]])\n",
    "pred = model.predict(input_data)"
   ]
  },
  {
   "cell_type": "code",
   "execution_count": 9,
   "id": "946d1e28",
   "metadata": {},
   "outputs": [
    {
     "data": {
      "text/plain": [
       "(1, 2)"
      ]
     },
     "execution_count": 9,
     "metadata": {},
     "output_type": "execute_result"
    }
   ],
   "source": [
    "input_data.shape"
   ]
  },
  {
   "cell_type": "code",
   "execution_count": 8,
   "id": "1b088f8a",
   "metadata": {},
   "outputs": [
    {
     "data": {
      "text/plain": [
       "array([[[ 0.00083462, -0.01975002,  0.03450939, -0.01971873],\n",
       "        [ 0.02259985, -0.02334529, -0.04228443,  0.0347853 ]]],\n",
       "      dtype=float32)"
      ]
     },
     "execution_count": 8,
     "metadata": {},
     "output_type": "execute_result"
    }
   ],
   "source": [
    "pred"
   ]
  },
  {
   "cell_type": "code",
   "execution_count": 10,
   "id": "619c04fa",
   "metadata": {},
   "outputs": [
    {
     "data": {
      "text/plain": [
       "[<tf.Variable 'embedding_1/embeddings:0' shape=(10, 4) dtype=float32, numpy=\n",
       " array([[ 0.04084532, -0.0031028 , -0.01624794, -0.01226185],\n",
       "        [ 0.00083462, -0.01975002,  0.03450939, -0.01971873],\n",
       "        [ 0.02259985, -0.02334529, -0.04228443,  0.0347853 ],\n",
       "        [ 0.04236564, -0.02644359,  0.04673142,  0.02822736],\n",
       "        [-0.0157032 , -0.0050971 , -0.04665619,  0.03820372],\n",
       "        [-0.00836394,  0.00891324, -0.01956218, -0.04239134],\n",
       "        [ 0.02069208,  0.0154883 ,  0.02953542, -0.04117895],\n",
       "        [ 0.04298091, -0.0456371 ,  0.00476369, -0.03849069],\n",
       "        [ 0.04002675,  0.03703339,  0.02240428, -0.00590714],\n",
       "        [ 0.00797691,  0.0108548 , -0.03476025,  0.00874332]],\n",
       "       dtype=float32)>]"
      ]
     },
     "execution_count": 10,
     "metadata": {},
     "output_type": "execute_result"
    }
   ],
   "source": [
    "embedding_layer.weights"
   ]
  },
  {
   "cell_type": "code",
   "execution_count": 12,
   "id": "040be2ab",
   "metadata": {},
   "outputs": [],
   "source": [
    "from numpy import array \n",
    "from tensorflow.keras.preprocessing.text import one_hot\n",
    "from tensorflow.keras.preprocessing.sequence import pad_sequences \n",
    "from tensorflow.keras.models import Sequential \n",
    "from tensorflow.keras.layers import Flatten, Embedding,Dense"
   ]
  },
  {
   "cell_type": "code",
   "execution_count": 26,
   "id": "3d125c4c",
   "metadata": {},
   "outputs": [],
   "source": [
    "#Define 10 restaurant reviews \n",
    "reviews =[\n",
    "          'Never coming back!',\n",
    "          'horrible service',\n",
    "          'rude waitress',\n",
    "          'cold food',\n",
    "          'horrible food!',\n",
    "          'awesome',\n",
    "          'awesome services!',\n",
    "          'rocks',\n",
    "          'poor work',\n",
    "          'couldn\\'t have done better'\n",
    "]\n",
    "labels = array([1,1,1,1,1,0,0,0,1,0])"
   ]
  },
  {
   "cell_type": "code",
   "execution_count": 27,
   "id": "fe5ea5e4",
   "metadata": {},
   "outputs": [
    {
     "name": "stdout",
     "output_type": "stream",
     "text": [
      "encoded reviews : [[15, 3, 7], [37, 22], [47, 43], [10, 8], [37, 8], [16], [16, 22], [16], [39, 10], [17, 21, 25, 12]]\n"
     ]
    }
   ],
   "source": [
    "vocab_size = 50\n",
    "encoded_reviews = [one_hot(d,vocab_size) for d in reviews]\n",
    "print(f'encoded reviews : {encoded_reviews}')"
   ]
  },
  {
   "cell_type": "code",
   "execution_count": 28,
   "id": "169edb95",
   "metadata": {},
   "outputs": [
    {
     "name": "stdout",
     "output_type": "stream",
     "text": [
      "[[15  3  7  0]\n",
      " [37 22  0  0]\n",
      " [47 43  0  0]\n",
      " [10  8  0  0]\n",
      " [37  8  0  0]\n",
      " [16  0  0  0]\n",
      " [16 22  0  0]\n",
      " [16  0  0  0]\n",
      " [39 10  0  0]\n",
      " [17 21 25 12]]\n"
     ]
    }
   ],
   "source": [
    "max_length = 4\n",
    "padded_reviews =pad_sequences(encoded_reviews,maxlen=max_length,padding='post')\n",
    "print(padded_reviews)"
   ]
  },
  {
   "cell_type": "code",
   "execution_count": 29,
   "id": "2509437b",
   "metadata": {},
   "outputs": [],
   "source": [
    "model = Sequential()\n",
    "embedding_layer = Embedding(input_dim=vocab_size,output_dim=8,input_length=max_length)\n",
    "model.add(embedding_layer)\n",
    "model.add(Flatten())\n",
    "model.add(Dense(1,activation='sigmoid'))\n",
    "model.compile(optimizer='adam',loss='binary_crossentropy',metrics=['acc'])"
   ]
  },
  {
   "cell_type": "code",
   "execution_count": 30,
   "id": "14e606c5",
   "metadata": {},
   "outputs": [
    {
     "name": "stdout",
     "output_type": "stream",
     "text": [
      "Model: \"sequential_4\"\n",
      "_________________________________________________________________\n",
      " Layer (type)                Output Shape              Param #   \n",
      "=================================================================\n",
      " embedding_3 (Embedding)     (None, 4, 8)              400       \n",
      "                                                                 \n",
      " flatten_1 (Flatten)         (None, 32)                0         \n",
      "                                                                 \n",
      " dense_1 (Dense)             (None, 1)                 33        \n",
      "                                                                 \n",
      "=================================================================\n",
      "Total params: 433\n",
      "Trainable params: 433\n",
      "Non-trainable params: 0\n",
      "_________________________________________________________________\n"
     ]
    }
   ],
   "source": [
    "model.summary()"
   ]
  },
  {
   "cell_type": "code",
   "execution_count": 31,
   "id": "db017a81",
   "metadata": {},
   "outputs": [
    {
     "name": "stdout",
     "output_type": "stream",
     "text": [
      "Epoch 1/100\n",
      "1/1 - 1s - loss: 0.7017 - acc: 0.3000 - 1s/epoch - 1s/step\n",
      "Epoch 2/100\n",
      "1/1 - 0s - loss: 0.6995 - acc: 0.3000 - 11ms/epoch - 11ms/step\n",
      "Epoch 3/100\n",
      "1/1 - 0s - loss: 0.6973 - acc: 0.3000 - 9ms/epoch - 9ms/step\n",
      "Epoch 4/100\n",
      "1/1 - 0s - loss: 0.6951 - acc: 0.4000 - 11ms/epoch - 11ms/step\n",
      "Epoch 5/100\n",
      "1/1 - 0s - loss: 0.6929 - acc: 0.6000 - 13ms/epoch - 13ms/step\n",
      "Epoch 6/100\n",
      "1/1 - 0s - loss: 0.6908 - acc: 0.7000 - 12ms/epoch - 12ms/step\n",
      "Epoch 7/100\n",
      "1/1 - 0s - loss: 0.6886 - acc: 0.7000 - 11ms/epoch - 11ms/step\n",
      "Epoch 8/100\n",
      "1/1 - 0s - loss: 0.6865 - acc: 0.8000 - 12ms/epoch - 12ms/step\n",
      "Epoch 9/100\n",
      "1/1 - 0s - loss: 0.6843 - acc: 0.8000 - 12ms/epoch - 12ms/step\n",
      "Epoch 10/100\n",
      "1/1 - 0s - loss: 0.6822 - acc: 0.8000 - 13ms/epoch - 13ms/step\n",
      "Epoch 11/100\n",
      "1/1 - 0s - loss: 0.6801 - acc: 0.9000 - 15ms/epoch - 15ms/step\n",
      "Epoch 12/100\n",
      "1/1 - 0s - loss: 0.6780 - acc: 1.0000 - 12ms/epoch - 12ms/step\n",
      "Epoch 13/100\n",
      "1/1 - 0s - loss: 0.6759 - acc: 1.0000 - 11ms/epoch - 11ms/step\n",
      "Epoch 14/100\n",
      "1/1 - 0s - loss: 0.6738 - acc: 1.0000 - 6ms/epoch - 6ms/step\n",
      "Epoch 15/100\n",
      "1/1 - 0s - loss: 0.6717 - acc: 1.0000 - 6ms/epoch - 6ms/step\n",
      "Epoch 16/100\n",
      "1/1 - 0s - loss: 0.6696 - acc: 0.9000 - 10ms/epoch - 10ms/step\n",
      "Epoch 17/100\n",
      "1/1 - 0s - loss: 0.6675 - acc: 0.9000 - 4ms/epoch - 4ms/step\n",
      "Epoch 18/100\n",
      "1/1 - 0s - loss: 0.6654 - acc: 0.9000 - 6ms/epoch - 6ms/step\n",
      "Epoch 19/100\n",
      "1/1 - 0s - loss: 0.6633 - acc: 0.9000 - 5ms/epoch - 5ms/step\n",
      "Epoch 20/100\n",
      "1/1 - 0s - loss: 0.6612 - acc: 0.9000 - 6ms/epoch - 6ms/step\n",
      "Epoch 21/100\n",
      "1/1 - 0s - loss: 0.6592 - acc: 0.9000 - 8ms/epoch - 8ms/step\n",
      "Epoch 22/100\n",
      "1/1 - 0s - loss: 0.6571 - acc: 0.9000 - 4ms/epoch - 4ms/step\n",
      "Epoch 23/100\n",
      "1/1 - 0s - loss: 0.6550 - acc: 0.9000 - 5ms/epoch - 5ms/step\n",
      "Epoch 24/100\n",
      "1/1 - 0s - loss: 0.6529 - acc: 0.9000 - 9ms/epoch - 9ms/step\n",
      "Epoch 25/100\n",
      "1/1 - 0s - loss: 0.6508 - acc: 0.7000 - 5ms/epoch - 5ms/step\n",
      "Epoch 26/100\n",
      "1/1 - 0s - loss: 0.6487 - acc: 0.7000 - 6ms/epoch - 6ms/step\n",
      "Epoch 27/100\n",
      "1/1 - 0s - loss: 0.6466 - acc: 0.7000 - 7ms/epoch - 7ms/step\n",
      "Epoch 28/100\n",
      "1/1 - 0s - loss: 0.6445 - acc: 0.7000 - 6ms/epoch - 6ms/step\n",
      "Epoch 29/100\n",
      "1/1 - 0s - loss: 0.6424 - acc: 0.7000 - 6ms/epoch - 6ms/step\n",
      "Epoch 30/100\n",
      "1/1 - 0s - loss: 0.6403 - acc: 0.7000 - 6ms/epoch - 6ms/step\n",
      "Epoch 31/100\n",
      "1/1 - 0s - loss: 0.6381 - acc: 0.7000 - 12ms/epoch - 12ms/step\n",
      "Epoch 32/100\n",
      "1/1 - 0s - loss: 0.6360 - acc: 0.7000 - 6ms/epoch - 6ms/step\n",
      "Epoch 33/100\n",
      "1/1 - 0s - loss: 0.6338 - acc: 0.7000 - 5ms/epoch - 5ms/step\n",
      "Epoch 34/100\n",
      "1/1 - 0s - loss: 0.6317 - acc: 0.7000 - 7ms/epoch - 7ms/step\n",
      "Epoch 35/100\n",
      "1/1 - 0s - loss: 0.6295 - acc: 0.8000 - 7ms/epoch - 7ms/step\n",
      "Epoch 36/100\n",
      "1/1 - 0s - loss: 0.6274 - acc: 0.8000 - 5ms/epoch - 5ms/step\n",
      "Epoch 37/100\n",
      "1/1 - 0s - loss: 0.6252 - acc: 0.8000 - 7ms/epoch - 7ms/step\n",
      "Epoch 38/100\n",
      "1/1 - 0s - loss: 0.6230 - acc: 0.8000 - 9ms/epoch - 9ms/step\n",
      "Epoch 39/100\n",
      "1/1 - 0s - loss: 0.6208 - acc: 0.8000 - 7ms/epoch - 7ms/step\n",
      "Epoch 40/100\n",
      "1/1 - 0s - loss: 0.6186 - acc: 0.8000 - 6ms/epoch - 6ms/step\n",
      "Epoch 41/100\n",
      "1/1 - 0s - loss: 0.6164 - acc: 0.8000 - 6ms/epoch - 6ms/step\n",
      "Epoch 42/100\n",
      "1/1 - 0s - loss: 0.6141 - acc: 0.8000 - 5ms/epoch - 5ms/step\n",
      "Epoch 43/100\n",
      "1/1 - 0s - loss: 0.6119 - acc: 0.8000 - 5ms/epoch - 5ms/step\n",
      "Epoch 44/100\n",
      "1/1 - 0s - loss: 0.6096 - acc: 0.8000 - 7ms/epoch - 7ms/step\n",
      "Epoch 45/100\n",
      "1/1 - 0s - loss: 0.6074 - acc: 0.8000 - 7ms/epoch - 7ms/step\n",
      "Epoch 46/100\n",
      "1/1 - 0s - loss: 0.6051 - acc: 0.8000 - 6ms/epoch - 6ms/step\n",
      "Epoch 47/100\n",
      "1/1 - 0s - loss: 0.6028 - acc: 0.8000 - 7ms/epoch - 7ms/step\n",
      "Epoch 48/100\n",
      "1/1 - 0s - loss: 0.6005 - acc: 0.8000 - 8ms/epoch - 8ms/step\n",
      "Epoch 49/100\n",
      "1/1 - 0s - loss: 0.5982 - acc: 0.8000 - 7ms/epoch - 7ms/step\n",
      "Epoch 50/100\n",
      "1/1 - 0s - loss: 0.5959 - acc: 0.8000 - 5ms/epoch - 5ms/step\n",
      "Epoch 51/100\n",
      "1/1 - 0s - loss: 0.5935 - acc: 0.8000 - 6ms/epoch - 6ms/step\n",
      "Epoch 52/100\n",
      "1/1 - 0s - loss: 0.5912 - acc: 0.8000 - 5ms/epoch - 5ms/step\n",
      "Epoch 53/100\n",
      "1/1 - 0s - loss: 0.5888 - acc: 0.8000 - 7ms/epoch - 7ms/step\n",
      "Epoch 54/100\n",
      "1/1 - 0s - loss: 0.5865 - acc: 0.8000 - 6ms/epoch - 6ms/step\n",
      "Epoch 55/100\n",
      "1/1 - 0s - loss: 0.5841 - acc: 0.8000 - 4ms/epoch - 4ms/step\n",
      "Epoch 56/100\n",
      "1/1 - 0s - loss: 0.5817 - acc: 0.8000 - 6ms/epoch - 6ms/step\n",
      "Epoch 57/100\n",
      "1/1 - 0s - loss: 0.5793 - acc: 0.8000 - 6ms/epoch - 6ms/step\n",
      "Epoch 58/100\n",
      "1/1 - 0s - loss: 0.5769 - acc: 0.8000 - 6ms/epoch - 6ms/step\n",
      "Epoch 59/100\n",
      "1/1 - 0s - loss: 0.5744 - acc: 1.0000 - 7ms/epoch - 7ms/step\n",
      "Epoch 60/100\n",
      "1/1 - 0s - loss: 0.5720 - acc: 1.0000 - 4ms/epoch - 4ms/step\n",
      "Epoch 61/100\n",
      "1/1 - 0s - loss: 0.5695 - acc: 1.0000 - 4ms/epoch - 4ms/step\n",
      "Epoch 62/100\n",
      "1/1 - 0s - loss: 0.5671 - acc: 1.0000 - 7ms/epoch - 7ms/step\n",
      "Epoch 63/100\n",
      "1/1 - 0s - loss: 0.5646 - acc: 1.0000 - 6ms/epoch - 6ms/step\n",
      "Epoch 64/100\n",
      "1/1 - 0s - loss: 0.5621 - acc: 1.0000 - 7ms/epoch - 7ms/step\n",
      "Epoch 65/100\n",
      "1/1 - 0s - loss: 0.5596 - acc: 1.0000 - 5ms/epoch - 5ms/step\n",
      "Epoch 66/100\n",
      "1/1 - 0s - loss: 0.5571 - acc: 1.0000 - 6ms/epoch - 6ms/step\n",
      "Epoch 67/100\n",
      "1/1 - 0s - loss: 0.5545 - acc: 1.0000 - 7ms/epoch - 7ms/step\n",
      "Epoch 68/100\n",
      "1/1 - 0s - loss: 0.5520 - acc: 1.0000 - 5ms/epoch - 5ms/step\n",
      "Epoch 69/100\n",
      "1/1 - 0s - loss: 0.5495 - acc: 1.0000 - 7ms/epoch - 7ms/step\n",
      "Epoch 70/100\n",
      "1/1 - 0s - loss: 0.5469 - acc: 1.0000 - 5ms/epoch - 5ms/step\n",
      "Epoch 71/100\n",
      "1/1 - 0s - loss: 0.5443 - acc: 1.0000 - 6ms/epoch - 6ms/step\n",
      "Epoch 72/100\n",
      "1/1 - 0s - loss: 0.5417 - acc: 1.0000 - 10ms/epoch - 10ms/step\n",
      "Epoch 73/100\n",
      "1/1 - 0s - loss: 0.5392 - acc: 1.0000 - 8ms/epoch - 8ms/step\n",
      "Epoch 74/100\n",
      "1/1 - 0s - loss: 0.5366 - acc: 1.0000 - 7ms/epoch - 7ms/step\n",
      "Epoch 75/100\n",
      "1/1 - 0s - loss: 0.5339 - acc: 1.0000 - 6ms/epoch - 6ms/step\n",
      "Epoch 76/100\n",
      "1/1 - 0s - loss: 0.5313 - acc: 1.0000 - 5ms/epoch - 5ms/step\n",
      "Epoch 77/100\n",
      "1/1 - 0s - loss: 0.5287 - acc: 1.0000 - 6ms/epoch - 6ms/step\n",
      "Epoch 78/100\n",
      "1/1 - 0s - loss: 0.5261 - acc: 1.0000 - 5ms/epoch - 5ms/step\n",
      "Epoch 79/100\n",
      "1/1 - 0s - loss: 0.5234 - acc: 1.0000 - 7ms/epoch - 7ms/step\n",
      "Epoch 80/100\n",
      "1/1 - 0s - loss: 0.5208 - acc: 1.0000 - 3ms/epoch - 3ms/step\n",
      "Epoch 81/100\n",
      "1/1 - 0s - loss: 0.5181 - acc: 1.0000 - 5ms/epoch - 5ms/step\n",
      "Epoch 82/100\n",
      "1/1 - 0s - loss: 0.5154 - acc: 1.0000 - 5ms/epoch - 5ms/step\n",
      "Epoch 83/100\n",
      "1/1 - 0s - loss: 0.5128 - acc: 1.0000 - 6ms/epoch - 6ms/step\n",
      "Epoch 84/100\n",
      "1/1 - 0s - loss: 0.5101 - acc: 1.0000 - 6ms/epoch - 6ms/step\n",
      "Epoch 85/100\n",
      "1/1 - 0s - loss: 0.5074 - acc: 1.0000 - 3ms/epoch - 3ms/step\n",
      "Epoch 86/100\n",
      "1/1 - 0s - loss: 0.5047 - acc: 1.0000 - 6ms/epoch - 6ms/step\n",
      "Epoch 87/100\n",
      "1/1 - 0s - loss: 0.5020 - acc: 1.0000 - 5ms/epoch - 5ms/step\n",
      "Epoch 88/100\n",
      "1/1 - 0s - loss: 0.4993 - acc: 1.0000 - 7ms/epoch - 7ms/step\n",
      "Epoch 89/100\n",
      "1/1 - 0s - loss: 0.4966 - acc: 1.0000 - 5ms/epoch - 5ms/step\n",
      "Epoch 90/100\n",
      "1/1 - 0s - loss: 0.4938 - acc: 1.0000 - 3ms/epoch - 3ms/step\n",
      "Epoch 91/100\n",
      "1/1 - 0s - loss: 0.4911 - acc: 1.0000 - 7ms/epoch - 7ms/step\n",
      "Epoch 92/100\n",
      "1/1 - 0s - loss: 0.4884 - acc: 1.0000 - 6ms/epoch - 6ms/step\n",
      "Epoch 93/100\n",
      "1/1 - 0s - loss: 0.4857 - acc: 1.0000 - 6ms/epoch - 6ms/step\n",
      "Epoch 94/100\n",
      "1/1 - 0s - loss: 0.4829 - acc: 1.0000 - 6ms/epoch - 6ms/step\n",
      "Epoch 95/100\n",
      "1/1 - 0s - loss: 0.4802 - acc: 1.0000 - 6ms/epoch - 6ms/step\n",
      "Epoch 96/100\n",
      "1/1 - 0s - loss: 0.4774 - acc: 1.0000 - 5ms/epoch - 5ms/step\n",
      "Epoch 97/100\n",
      "1/1 - 0s - loss: 0.4747 - acc: 1.0000 - 7ms/epoch - 7ms/step\n",
      "Epoch 98/100\n",
      "1/1 - 0s - loss: 0.4719 - acc: 1.0000 - 3ms/epoch - 3ms/step\n",
      "Epoch 99/100\n",
      "1/1 - 0s - loss: 0.4692 - acc: 1.0000 - 8ms/epoch - 8ms/step\n",
      "Epoch 100/100\n",
      "1/1 - 0s - loss: 0.4664 - acc: 1.0000 - 5ms/epoch - 5ms/step\n"
     ]
    },
    {
     "data": {
      "text/plain": [
       "<keras.callbacks.History at 0x24cff6b0e50>"
      ]
     },
     "execution_count": 31,
     "metadata": {},
     "output_type": "execute_result"
    }
   ],
   "source": [
    "model.fit(padded_reviews,labels,epochs=100,verbose=2)"
   ]
  },
  {
   "cell_type": "code",
   "execution_count": 38,
   "id": "5cf07566",
   "metadata": {},
   "outputs": [
    {
     "data": {
      "text/plain": [
       "(50, 8)"
      ]
     },
     "execution_count": 38,
     "metadata": {},
     "output_type": "execute_result"
    }
   ],
   "source": [
    "embedding_layer.get_weights()[0].shape"
   ]
  },
  {
   "cell_type": "code",
   "execution_count": 39,
   "id": "916c5912",
   "metadata": {},
   "outputs": [
    {
     "data": {
      "text/plain": [
       "array([-0.09047195, -0.11975341, -0.01995972, -0.03484193, -0.11184743,\n",
       "        0.02331798, -0.02123079, -0.04693019], dtype=float32)"
      ]
     },
     "execution_count": 39,
     "metadata": {},
     "output_type": "execute_result"
    }
   ],
   "source": [
    "embedding_layer.get_weights()[0][0]"
   ]
  },
  {
   "cell_type": "code",
   "execution_count": null,
   "id": "e2ea4b6a",
   "metadata": {},
   "outputs": [],
   "source": []
  }
 ],
 "metadata": {
  "kernelspec": {
   "display_name": "Python 3 (ipykernel)",
   "language": "python",
   "name": "python3"
  },
  "language_info": {
   "codemirror_mode": {
    "name": "ipython",
    "version": 3
   },
   "file_extension": ".py",
   "mimetype": "text/x-python",
   "name": "python",
   "nbconvert_exporter": "python",
   "pygments_lexer": "ipython3",
   "version": "3.9.12"
  }
 },
 "nbformat": 4,
 "nbformat_minor": 5
}
