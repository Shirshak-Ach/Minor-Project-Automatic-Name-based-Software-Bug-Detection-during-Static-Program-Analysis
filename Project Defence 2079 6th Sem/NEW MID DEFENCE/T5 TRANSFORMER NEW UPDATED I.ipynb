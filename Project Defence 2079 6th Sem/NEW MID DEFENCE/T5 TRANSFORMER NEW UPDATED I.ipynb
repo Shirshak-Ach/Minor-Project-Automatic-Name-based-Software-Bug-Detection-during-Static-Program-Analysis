{
 "cells": [
  {
   "cell_type": "code",
   "execution_count": 76,
   "metadata": {
    "execution": {
     "iopub.execute_input": "2023-02-02T09:16:52.965234Z",
     "iopub.status.busy": "2023-02-02T09:16:52.963996Z",
     "iopub.status.idle": "2023-02-02T09:16:52.972605Z",
     "shell.execute_reply": "2023-02-02T09:16:52.971263Z",
     "shell.execute_reply.started": "2023-02-02T09:16:52.965179Z"
    }
   },
   "outputs": [],
   "source": [
    "import os\n",
    "import numpy as np\n",
    "import pandas as pd\n",
    "from sklearn.model_selection import train_test_split\n",
    "from sklearn.metrics import accuracy_score, precision_score, recall_score, f1_score\n",
    "\n",
    "# os.environ[\"WANDB_DISABLED\"] = \"true\"\n",
    "# os.environ[\"TOKENIZERS_PARALLELISM\"] = \"false\"\n",
    "# os.environ[\"CUDA_LAUNCH_BLOCKING\"] = \"1\""
   ]
  },
  {
   "cell_type": "code",
   "execution_count": 77,
   "metadata": {
    "execution": {
     "iopub.execute_input": "2023-02-02T09:16:53.000989Z",
     "iopub.status.busy": "2023-02-02T09:16:53.000665Z",
     "iopub.status.idle": "2023-02-02T09:16:53.005805Z",
     "shell.execute_reply": "2023-02-02T09:16:53.004706Z",
     "shell.execute_reply.started": "2023-02-02T09:16:53.000960Z"
    }
   },
   "outputs": [],
   "source": [
    "# ! wget https://zenodo.org/record/3628775/files/c-corpus.tar.gz?download=1\n",
    "# ! tar -xzf \"/kaggle/working/c-corpus.tar.gz?download=1\"\n",
    "# ! rm /kaggle/working/c-corpus.tar.gz?download=1"
   ]
  },
  {
   "cell_type": "code",
   "execution_count": 78,
   "metadata": {
    "_cell_guid": "b1076dfc-b9ad-4769-8c92-a6c4dae69d19",
    "_uuid": "8f2839f25d086af736a60e9eeb907d3b93b6e0e5",
    "execution": {
     "iopub.execute_input": "2023-02-02T09:16:53.034524Z",
     "iopub.status.busy": "2023-02-02T09:16:53.034045Z",
     "iopub.status.idle": "2023-02-02T09:17:13.289701Z",
     "shell.execute_reply": "2023-02-02T09:17:13.288356Z",
     "shell.execute_reply.started": "2023-02-02T09:16:53.034496Z"
    }
   },
   "outputs": [
    {
     "name": "stdout",
     "output_type": "stream",
     "text": [
      "huggingface/tokenizers: The current process just got forked, after parallelism has already been used. Disabling parallelism to avoid deadlocks...\n",
      "To disable this warning, you can either:\n",
      "\t- Avoid using `tokenizers` before the fork if possible\n",
      "\t- Explicitly set the environment variable TOKENIZERS_PARALLELISM=(true | false)\n",
      "Requirement already satisfied: transformers in /opt/conda/lib/python3.7/site-packages (4.20.1)\n",
      "Requirement already satisfied: tokenizers!=0.11.3,<0.13,>=0.11.1 in /opt/conda/lib/python3.7/site-packages (from transformers) (0.12.1)\n",
      "Requirement already satisfied: numpy>=1.17 in /opt/conda/lib/python3.7/site-packages (from transformers) (1.21.6)\n",
      "Requirement already satisfied: regex!=2019.12.17 in /opt/conda/lib/python3.7/site-packages (from transformers) (2021.11.10)\n",
      "Requirement already satisfied: importlib-metadata in /opt/conda/lib/python3.7/site-packages (from transformers) (6.0.0)\n",
      "Requirement already satisfied: pyyaml>=5.1 in /opt/conda/lib/python3.7/site-packages (from transformers) (6.0)\n",
      "Requirement already satisfied: packaging>=20.0 in /opt/conda/lib/python3.7/site-packages (from transformers) (23.0)\n",
      "Requirement already satisfied: requests in /opt/conda/lib/python3.7/site-packages (from transformers) (2.28.1)\n",
      "Requirement already satisfied: filelock in /opt/conda/lib/python3.7/site-packages (from transformers) (3.7.1)\n",
      "Requirement already satisfied: tqdm>=4.27 in /opt/conda/lib/python3.7/site-packages (from transformers) (4.64.0)\n",
      "Requirement already satisfied: huggingface-hub<1.0,>=0.1.0 in /opt/conda/lib/python3.7/site-packages (from transformers) (0.10.1)\n",
      "Requirement already satisfied: typing-extensions>=3.7.4.3 in /opt/conda/lib/python3.7/site-packages (from huggingface-hub<1.0,>=0.1.0->transformers) (4.1.1)\n",
      "Requirement already satisfied: zipp>=0.5 in /opt/conda/lib/python3.7/site-packages (from importlib-metadata->transformers) (3.8.0)\n",
      "Requirement already satisfied: certifi>=2017.4.17 in /opt/conda/lib/python3.7/site-packages (from requests->transformers) (2022.12.7)\n",
      "Requirement already satisfied: urllib3<1.27,>=1.21.1 in /opt/conda/lib/python3.7/site-packages (from requests->transformers) (1.26.14)\n",
      "Requirement already satisfied: charset-normalizer<3,>=2 in /opt/conda/lib/python3.7/site-packages (from requests->transformers) (2.1.0)\n",
      "Requirement already satisfied: idna<4,>=2.5 in /opt/conda/lib/python3.7/site-packages (from requests->transformers) (3.3)\n",
      "\u001b[33mWARNING: Running pip as the 'root' user can result in broken permissions and conflicting behaviour with the system package manager. It is recommended to use a virtual environment instead: https://pip.pypa.io/warnings/venv\u001b[0m\u001b[33m\n",
      "\u001b[0mhuggingface/tokenizers: The current process just got forked, after parallelism has already been used. Disabling parallelism to avoid deadlocks...\n",
      "To disable this warning, you can either:\n",
      "\t- Avoid using `tokenizers` before the fork if possible\n",
      "\t- Explicitly set the environment variable TOKENIZERS_PARALLELISM=(true | false)\n",
      "Requirement already satisfied: datasets in /opt/conda/lib/python3.7/site-packages (2.1.0)\n",
      "Requirement already satisfied: requests>=2.19.0 in /opt/conda/lib/python3.7/site-packages (from datasets) (2.28.1)\n",
      "Requirement already satisfied: importlib-metadata in /opt/conda/lib/python3.7/site-packages (from datasets) (6.0.0)\n",
      "Requirement already satisfied: pandas in /opt/conda/lib/python3.7/site-packages (from datasets) (1.3.5)\n",
      "Requirement already satisfied: tqdm>=4.62.1 in /opt/conda/lib/python3.7/site-packages (from datasets) (4.64.0)\n",
      "Requirement already satisfied: multiprocess in /opt/conda/lib/python3.7/site-packages (from datasets) (0.70.14)\n",
      "Requirement already satisfied: huggingface-hub<1.0.0,>=0.1.0 in /opt/conda/lib/python3.7/site-packages (from datasets) (0.10.1)\n",
      "Requirement already satisfied: xxhash in /opt/conda/lib/python3.7/site-packages (from datasets) (3.2.0)\n",
      "Requirement already satisfied: responses<0.19 in /opt/conda/lib/python3.7/site-packages (from datasets) (0.18.0)\n",
      "Requirement already satisfied: fsspec[http]>=2021.05.0 in /opt/conda/lib/python3.7/site-packages (from datasets) (2023.1.0)\n",
      "Requirement already satisfied: aiohttp in /opt/conda/lib/python3.7/site-packages (from datasets) (3.8.1)\n",
      "Requirement already satisfied: dill in /opt/conda/lib/python3.7/site-packages (from datasets) (0.3.6)\n",
      "Requirement already satisfied: numpy>=1.17 in /opt/conda/lib/python3.7/site-packages (from datasets) (1.21.6)\n",
      "Requirement already satisfied: packaging in /opt/conda/lib/python3.7/site-packages (from datasets) (23.0)\n",
      "Requirement already satisfied: pyarrow>=5.0.0 in /opt/conda/lib/python3.7/site-packages (from datasets) (5.0.0)\n",
      "Requirement already satisfied: yarl<2.0,>=1.0 in /opt/conda/lib/python3.7/site-packages (from aiohttp->datasets) (1.7.2)\n",
      "Requirement already satisfied: asynctest==0.13.0 in /opt/conda/lib/python3.7/site-packages (from aiohttp->datasets) (0.13.0)\n",
      "Requirement already satisfied: multidict<7.0,>=4.5 in /opt/conda/lib/python3.7/site-packages (from aiohttp->datasets) (6.0.2)\n",
      "Requirement already satisfied: async-timeout<5.0,>=4.0.0a3 in /opt/conda/lib/python3.7/site-packages (from aiohttp->datasets) (4.0.2)\n",
      "Requirement already satisfied: frozenlist>=1.1.1 in /opt/conda/lib/python3.7/site-packages (from aiohttp->datasets) (1.3.0)\n",
      "Requirement already satisfied: typing-extensions>=3.7.4 in /opt/conda/lib/python3.7/site-packages (from aiohttp->datasets) (4.1.1)\n",
      "Requirement already satisfied: attrs>=17.3.0 in /opt/conda/lib/python3.7/site-packages (from aiohttp->datasets) (21.4.0)\n",
      "Requirement already satisfied: aiosignal>=1.1.2 in /opt/conda/lib/python3.7/site-packages (from aiohttp->datasets) (1.2.0)\n",
      "Requirement already satisfied: charset-normalizer<3.0,>=2.0 in /opt/conda/lib/python3.7/site-packages (from aiohttp->datasets) (2.1.0)\n",
      "Requirement already satisfied: pyyaml>=5.1 in /opt/conda/lib/python3.7/site-packages (from huggingface-hub<1.0.0,>=0.1.0->datasets) (6.0)\n",
      "Requirement already satisfied: filelock in /opt/conda/lib/python3.7/site-packages (from huggingface-hub<1.0.0,>=0.1.0->datasets) (3.7.1)\n",
      "Requirement already satisfied: certifi>=2017.4.17 in /opt/conda/lib/python3.7/site-packages (from requests>=2.19.0->datasets) (2022.12.7)\n",
      "Requirement already satisfied: idna<4,>=2.5 in /opt/conda/lib/python3.7/site-packages (from requests>=2.19.0->datasets) (3.3)\n",
      "Requirement already satisfied: urllib3<1.27,>=1.21.1 in /opt/conda/lib/python3.7/site-packages (from requests>=2.19.0->datasets) (1.26.14)\n",
      "Requirement already satisfied: zipp>=0.5 in /opt/conda/lib/python3.7/site-packages (from importlib-metadata->datasets) (3.8.0)\n",
      "Requirement already satisfied: python-dateutil>=2.7.3 in /opt/conda/lib/python3.7/site-packages (from pandas->datasets) (2.8.2)\n",
      "Requirement already satisfied: pytz>=2017.3 in /opt/conda/lib/python3.7/site-packages (from pandas->datasets) (2022.1)\n",
      "Requirement already satisfied: six>=1.5 in /opt/conda/lib/python3.7/site-packages (from python-dateutil>=2.7.3->pandas->datasets) (1.15.0)\n",
      "\u001b[33mWARNING: Running pip as the 'root' user can result in broken permissions and conflicting behaviour with the system package manager. It is recommended to use a virtual environment instead: https://pip.pypa.io/warnings/venv\u001b[0m\u001b[33m\n",
      "\u001b[0m"
     ]
    }
   ],
   "source": [
    "! pip install transformers\n",
    "! pip install datasets\n",
    "\n",
    "from transformers import AutoModelForSequenceClassification\n",
    "from datasets import Dataset, load_dataset\n",
    "from transformers import AutoTokenizer, T5ForConditionalGeneration # RobertaTokenizer"
   ]
  },
  {
   "cell_type": "code",
   "execution_count": 79,
   "metadata": {
    "execution": {
     "iopub.execute_input": "2023-02-02T09:17:13.298443Z",
     "iopub.status.busy": "2023-02-02T09:17:13.295734Z",
     "iopub.status.idle": "2023-02-02T09:17:13.306270Z",
     "shell.execute_reply": "2023-02-02T09:17:13.305073Z",
     "shell.execute_reply.started": "2023-02-02T09:17:13.298399Z"
    }
   },
   "outputs": [],
   "source": [
    "id2label = {0: \"CORRECT\", 1: \"BUGGY\"}\n",
    "label2id = {\"CORRECT\": 0, \"BUGGY\": 1}"
   ]
  },
  {
   "cell_type": "code",
   "execution_count": 80,
   "metadata": {
    "execution": {
     "iopub.execute_input": "2023-02-02T09:17:13.314006Z",
     "iopub.status.busy": "2023-02-02T09:17:13.311627Z",
     "iopub.status.idle": "2023-02-02T09:17:16.164137Z",
     "shell.execute_reply": "2023-02-02T09:17:16.162661Z",
     "shell.execute_reply.started": "2023-02-02T09:17:13.313970Z"
    }
   },
   "outputs": [
    {
     "name": "stderr",
     "output_type": "stream",
     "text": [
      "loading file https://huggingface.co/dipudl/codet5-base/resolve/main/vocab.json from cache at /root/.cache/huggingface/transformers/ed7e409e6ad247e09a2ca8a19dc9e58d74cb30795f408bcb716cb6756f54b76d.9a35ae57ce66b3a375abfa9a6a2fa53dcd2cd361db8e6478877f08569f69b771\n",
      "loading file https://huggingface.co/dipudl/codet5-base/resolve/main/merges.txt from cache at /root/.cache/huggingface/transformers/1f727ef4e0afebcfcf86fe431abd086875e1d80f1da0e5fc0cc33e4077faf0a9.1c2821a0b9a2f62bbeacf7ba0b4c2b2b4dd6f63645fe6681015af90a376d90a1\n",
      "loading file https://huggingface.co/dipudl/codet5-base/resolve/main/tokenizer.json from cache at /root/.cache/huggingface/transformers/792db69f7307dc6c44be61f902366e9c9ca3d6f8daa189f150e4a407f15a0db0.e2e19d1cfdd164eb1be4cf51c10f0fd5abbc13d2d1ab3839ca28f7dc2e392a87\n",
      "loading file https://huggingface.co/dipudl/codet5-base/resolve/main/added_tokens.json from cache at None\n",
      "loading file https://huggingface.co/dipudl/codet5-base/resolve/main/special_tokens_map.json from cache at /root/.cache/huggingface/transformers/ab59879daf5d010a005747a60ee1f4865d1d50b7c7a741b50da31afa0f72fb79.b96745c096b3a4fc6596ce01a6556b16c22ddd0b11968d6d04fd7d47ec12b195\n",
      "loading file https://huggingface.co/dipudl/codet5-base/resolve/main/tokenizer_config.json from cache at /root/.cache/huggingface/transformers/eb2c27e70b2b4707ef4838c5dd1c2c6987c6eadba9a91e1b1292328b7e3586c3.117f864c3368b518c7e59612994c69b268c7b01f3d0a5ffcc063497c0f0aebc7\n",
      "loading configuration file https://huggingface.co/distilbert-base-uncased/resolve/main/config.json from cache at /root/.cache/huggingface/transformers/23454919702d26495337f3da04d1655c7ee010d5ec9d77bdb9e399e00302c0a1.91b885ab15d631bf9cee9dc9d25ece0afd932f2f5130eba28f2055b2220c0333\n",
      "Model config DistilBertConfig {\n",
      "  \"_name_or_path\": \"distilbert-base-uncased\",\n",
      "  \"activation\": \"gelu\",\n",
      "  \"architectures\": [\n",
      "    \"DistilBertForMaskedLM\"\n",
      "  ],\n",
      "  \"attention_dropout\": 0.1,\n",
      "  \"dim\": 768,\n",
      "  \"dropout\": 0.1,\n",
      "  \"hidden_dim\": 3072,\n",
      "  \"id2label\": {\n",
      "    \"0\": \"CORRECT\",\n",
      "    \"1\": \"BUGGY\"\n",
      "  },\n",
      "  \"initializer_range\": 0.02,\n",
      "  \"label2id\": {\n",
      "    \"BUGGY\": 1,\n",
      "    \"CORRECT\": 0\n",
      "  },\n",
      "  \"max_position_embeddings\": 512,\n",
      "  \"model_type\": \"distilbert\",\n",
      "  \"n_heads\": 12,\n",
      "  \"n_layers\": 6,\n",
      "  \"pad_token_id\": 0,\n",
      "  \"qa_dropout\": 0.1,\n",
      "  \"seq_classif_dropout\": 0.2,\n",
      "  \"sinusoidal_pos_embds\": false,\n",
      "  \"tie_weights_\": true,\n",
      "  \"transformers_version\": \"4.20.1\",\n",
      "  \"vocab_size\": 30522\n",
      "}\n",
      "\n",
      "loading weights file https://huggingface.co/distilbert-base-uncased/resolve/main/pytorch_model.bin from cache at /root/.cache/huggingface/transformers/9c169103d7e5a73936dd2b627e42851bec0831212b677c637033ee4bce9ab5ee.126183e36667471617ae2f0835fab707baa54b731f991507ebbb55ea85adb12a\n",
      "Some weights of the model checkpoint at distilbert-base-uncased were not used when initializing DistilBertForSequenceClassification: ['vocab_projector.bias', 'vocab_layer_norm.weight', 'vocab_projector.weight', 'vocab_layer_norm.bias', 'vocab_transform.bias', 'vocab_transform.weight']\n",
      "- This IS expected if you are initializing DistilBertForSequenceClassification from the checkpoint of a model trained on another task or with another architecture (e.g. initializing a BertForSequenceClassification model from a BertForPreTraining model).\n",
      "- This IS NOT expected if you are initializing DistilBertForSequenceClassification from the checkpoint of a model that you expect to be exactly identical (initializing a BertForSequenceClassification model from a BertForSequenceClassification model).\n",
      "Some weights of DistilBertForSequenceClassification were not initialized from the model checkpoint at distilbert-base-uncased and are newly initialized: ['classifier.bias', 'pre_classifier.bias', 'classifier.weight', 'pre_classifier.weight']\n",
      "You should probably TRAIN this model on a down-stream task to be able to use it for predictions and inference.\n"
     ]
    }
   ],
   "source": [
    "# tokenizer = AutoTokenizer.from_pretrained('Salesforce/codet5-base')\n",
    "tokenizer = AutoTokenizer.from_pretrained('dipudl/codet5-base')\n",
    "model = AutoModelForSequenceClassification.from_pretrained('distilbert-base-uncased',\n",
    "                                                           num_labels=2,\n",
    "                                                           id2label=id2label,\n",
    "                                                           label2id=label2id)"
   ]
  },
  {
   "cell_type": "code",
   "execution_count": 81,
   "metadata": {
    "execution": {
     "iopub.execute_input": "2023-02-02T09:17:16.168407Z",
     "iopub.status.busy": "2023-02-02T09:17:16.167473Z",
     "iopub.status.idle": "2023-02-02T09:17:16.176422Z",
     "shell.execute_reply": "2023-02-02T09:17:16.175190Z",
     "shell.execute_reply.started": "2023-02-02T09:17:16.168359Z"
    }
   },
   "outputs": [],
   "source": [
    "import os\n",
    "\n",
    "def get_tokenizer_training_corpus():\n",
    "    total = 0\n",
    "    for root, dirs, files in os.walk(\"/kaggle/working/cleaned\"):\n",
    "        for file in files:\n",
    "            if file.endswith(\".c\"):\n",
    "                file_path = os.path.join(root, file)\n",
    "\n",
    "                with open(file_path, 'rb') as f:\n",
    "                    content = str(f.read())\n",
    "                    total += 1\n",
    "                    if total % 10000 == 0:\n",
    "                        print(total)\n",
    "                    yield [content]\n",
    "                        \n",
    "#     dataset = train_dataset\n",
    "#     for start_idx in range(0, len(dataset), 1000):\n",
    "#         samples = dataset[start_idx : start_idx + 1000]\n",
    "#         yield samples[\"full_text\"]"
   ]
  },
  {
   "cell_type": "code",
   "execution_count": 82,
   "metadata": {
    "execution": {
     "iopub.execute_input": "2023-02-02T09:17:16.178965Z",
     "iopub.status.busy": "2023-02-02T09:17:16.178153Z",
     "iopub.status.idle": "2023-02-02T09:17:16.193997Z",
     "shell.execute_reply": "2023-02-02T09:17:16.192917Z",
     "shell.execute_reply.started": "2023-02-02T09:17:16.178921Z"
    }
   },
   "outputs": [
    {
     "data": {
      "text/plain": [
       "<generator object get_tokenizer_training_corpus at 0x7fa224de6050>"
      ]
     },
     "execution_count": 82,
     "metadata": {},
     "output_type": "execute_result"
    }
   ],
   "source": [
    "tokenizer_training_corpus = get_tokenizer_training_corpus()\n",
    "tokenizer_training_corpus"
   ]
  },
  {
   "cell_type": "code",
   "execution_count": 83,
   "metadata": {
    "execution": {
     "iopub.execute_input": "2023-02-02T09:17:16.196759Z",
     "iopub.status.busy": "2023-02-02T09:17:16.195519Z",
     "iopub.status.idle": "2023-02-02T09:17:16.207310Z",
     "shell.execute_reply": "2023-02-02T09:17:16.206113Z",
     "shell.execute_reply.started": "2023-02-02T09:17:16.196720Z"
    }
   },
   "outputs": [],
   "source": [
    "# fine_tuned_tokenizer = tokenizer.train_new_from_iterator(tokenizer_training_corpus, vocab_size=20_000)"
   ]
  },
  {
   "cell_type": "code",
   "execution_count": 84,
   "metadata": {
    "execution": {
     "iopub.execute_input": "2023-02-02T09:17:16.208962Z",
     "iopub.status.busy": "2023-02-02T09:17:16.208669Z",
     "iopub.status.idle": "2023-02-02T09:17:27.511801Z",
     "shell.execute_reply": "2023-02-02T09:17:27.510361Z",
     "shell.execute_reply.started": "2023-02-02T09:17:16.208929Z"
    }
   },
   "outputs": [
    {
     "name": "stdout",
     "output_type": "stream",
     "text": [
      "huggingface/tokenizers: The current process just got forked, after parallelism has already been used. Disabling parallelism to avoid deadlocks...\n",
      "To disable this warning, you can either:\n",
      "\t- Avoid using `tokenizers` before the fork if possible\n",
      "\t- Explicitly set the environment variable TOKENIZERS_PARALLELISM=(true | false)\n",
      "Requirement already satisfied: huggingface_hub in /opt/conda/lib/python3.7/site-packages (0.10.1)\n",
      "Requirement already satisfied: packaging>=20.9 in /opt/conda/lib/python3.7/site-packages (from huggingface_hub) (23.0)\n",
      "Requirement already satisfied: requests in /opt/conda/lib/python3.7/site-packages (from huggingface_hub) (2.28.1)\n",
      "Requirement already satisfied: importlib-metadata in /opt/conda/lib/python3.7/site-packages (from huggingface_hub) (6.0.0)\n",
      "Requirement already satisfied: tqdm in /opt/conda/lib/python3.7/site-packages (from huggingface_hub) (4.64.0)\n",
      "Requirement already satisfied: typing-extensions>=3.7.4.3 in /opt/conda/lib/python3.7/site-packages (from huggingface_hub) (4.1.1)\n",
      "Requirement already satisfied: pyyaml>=5.1 in /opt/conda/lib/python3.7/site-packages (from huggingface_hub) (6.0)\n",
      "Requirement already satisfied: filelock in /opt/conda/lib/python3.7/site-packages (from huggingface_hub) (3.7.1)\n",
      "Requirement already satisfied: zipp>=0.5 in /opt/conda/lib/python3.7/site-packages (from importlib-metadata->huggingface_hub) (3.8.0)\n",
      "Requirement already satisfied: idna<4,>=2.5 in /opt/conda/lib/python3.7/site-packages (from requests->huggingface_hub) (3.3)\n",
      "Requirement already satisfied: urllib3<1.27,>=1.21.1 in /opt/conda/lib/python3.7/site-packages (from requests->huggingface_hub) (1.26.14)\n",
      "Requirement already satisfied: certifi>=2017.4.17 in /opt/conda/lib/python3.7/site-packages (from requests->huggingface_hub) (2022.12.7)\n",
      "Requirement already satisfied: charset-normalizer<3,>=2 in /opt/conda/lib/python3.7/site-packages (from requests->huggingface_hub) (2.1.0)\n",
      "\u001b[33mWARNING: Running pip as the 'root' user can result in broken permissions and conflicting behaviour with the system package manager. It is recommended to use a virtual environment instead: https://pip.pypa.io/warnings/venv\u001b[0m\u001b[33m\n",
      "\u001b[0mhuggingface/tokenizers: The current process just got forked, after parallelism has already been used. Disabling parallelism to avoid deadlocks...\n",
      "To disable this warning, you can either:\n",
      "\t- Avoid using `tokenizers` before the fork if possible\n",
      "\t- Explicitly set the environment variable TOKENIZERS_PARALLELISM=(true | false)\n"
     ]
    }
   ],
   "source": [
    "!pip install huggingface_hub\n",
    "!python -c \"from huggingface_hub.hf_api import HfFolder; HfFolder.save_token(YOUR_HUGGING_FACE_TOKEN_HERE)\"\n",
    "\n",
    "# from huggingface_hub import notebook_login\n",
    "\n",
    "# notebook_login()"
   ]
  },
  {
   "cell_type": "code",
   "execution_count": 85,
   "metadata": {
    "execution": {
     "iopub.execute_input": "2023-02-02T09:17:27.515084Z",
     "iopub.status.busy": "2023-02-02T09:17:27.514637Z",
     "iopub.status.idle": "2023-02-02T09:17:27.520057Z",
     "shell.execute_reply": "2023-02-02T09:17:27.518685Z",
     "shell.execute_reply.started": "2023-02-02T09:17:27.515039Z"
    }
   },
   "outputs": [],
   "source": [
    "# fine_tuned_tokenizer.save_pretrained(\"codet5-base\")\n",
    "# fine_tuned_tokenizer.push_to_hub(\"codet5-base\")"
   ]
  },
  {
   "cell_type": "code",
   "execution_count": 86,
   "metadata": {
    "execution": {
     "iopub.execute_input": "2023-02-02T09:17:27.523180Z",
     "iopub.status.busy": "2023-02-02T09:17:27.522254Z",
     "iopub.status.idle": "2023-02-02T09:17:27.531072Z",
     "shell.execute_reply": "2023-02-02T09:17:27.529973Z",
     "shell.execute_reply.started": "2023-02-02T09:17:27.523141Z"
    }
   },
   "outputs": [],
   "source": [
    "# tokenizer = AutoTokenizer.from_pretrained('dipudl/codet5-base')"
   ]
  },
  {
   "cell_type": "markdown",
   "metadata": {},
   "source": [
    "## Training"
   ]
  },
  {
   "cell_type": "code",
   "execution_count": 87,
   "metadata": {
    "execution": {
     "iopub.execute_input": "2023-02-02T09:17:27.536733Z",
     "iopub.status.busy": "2023-02-02T09:17:27.536435Z",
     "iopub.status.idle": "2023-02-02T09:17:27.705872Z",
     "shell.execute_reply": "2023-02-02T09:17:27.704792Z",
     "shell.execute_reply.started": "2023-02-02T09:17:27.536705Z"
    }
   },
   "outputs": [],
   "source": [
    "df = pd.read_csv(\"/kaggle/input/function-swap-samples-178k/function_swap_samples.txt\", sep=\"\\t\")"
   ]
  },
  {
   "cell_type": "code",
   "execution_count": 88,
   "metadata": {
    "execution": {
     "iopub.execute_input": "2023-02-02T09:17:27.708331Z",
     "iopub.status.busy": "2023-02-02T09:17:27.707337Z",
     "iopub.status.idle": "2023-02-02T09:17:27.728464Z",
     "shell.execute_reply": "2023-02-02T09:17:27.727581Z",
     "shell.execute_reply.started": "2023-02-02T09:17:27.708289Z"
    }
   },
   "outputs": [
    {
     "data": {
      "text/html": [
       "<div>\n",
       "<style scoped>\n",
       "    .dataframe tbody tr th:only-of-type {\n",
       "        vertical-align: middle;\n",
       "    }\n",
       "\n",
       "    .dataframe tbody tr th {\n",
       "        vertical-align: top;\n",
       "    }\n",
       "\n",
       "    .dataframe thead th {\n",
       "        text-align: right;\n",
       "    }\n",
       "</style>\n",
       "<table border=\"1\" class=\"dataframe\">\n",
       "  <thead>\n",
       "    <tr style=\"text-align: right;\">\n",
       "      <th></th>\n",
       "      <th>function_name</th>\n",
       "      <th>arg1</th>\n",
       "      <th>arg2</th>\n",
       "      <th>arg_type</th>\n",
       "      <th>param1</th>\n",
       "      <th>param2</th>\n",
       "      <th>labels</th>\n",
       "    </tr>\n",
       "  </thead>\n",
       "  <tbody>\n",
       "    <tr>\n",
       "      <th>0</th>\n",
       "      <td>__builtin_bfin_compose_2x16</td>\n",
       "      <td>0x3000</td>\n",
       "      <td>0x2000</td>\n",
       "      <td>int</td>\n",
       "      <td>NaN</td>\n",
       "      <td>NaN</td>\n",
       "      <td>0</td>\n",
       "    </tr>\n",
       "    <tr>\n",
       "      <th>1</th>\n",
       "      <td>__builtin_bfin_compose_2x16</td>\n",
       "      <td>0x2000</td>\n",
       "      <td>0x3000</td>\n",
       "      <td>int</td>\n",
       "      <td>NaN</td>\n",
       "      <td>NaN</td>\n",
       "      <td>1</td>\n",
       "    </tr>\n",
       "    <tr>\n",
       "      <th>2</th>\n",
       "      <td>__builtin_bfin_compose_2x16</td>\n",
       "      <td>0x7000</td>\n",
       "      <td>0x5000</td>\n",
       "      <td>int</td>\n",
       "      <td>NaN</td>\n",
       "      <td>NaN</td>\n",
       "      <td>0</td>\n",
       "    </tr>\n",
       "    <tr>\n",
       "      <th>3</th>\n",
       "      <td>__builtin_bfin_compose_2x16</td>\n",
       "      <td>0x5000</td>\n",
       "      <td>0x7000</td>\n",
       "      <td>int</td>\n",
       "      <td>NaN</td>\n",
       "      <td>NaN</td>\n",
       "      <td>1</td>\n",
       "    </tr>\n",
       "    <tr>\n",
       "      <th>4</th>\n",
       "      <td>foo0000</td>\n",
       "      <td>a</td>\n",
       "      <td>b</td>\n",
       "      <td>fract2x16</td>\n",
       "      <td>a</td>\n",
       "      <td>b</td>\n",
       "      <td>0</td>\n",
       "    </tr>\n",
       "    <tr>\n",
       "      <th>...</th>\n",
       "      <td>...</td>\n",
       "      <td>...</td>\n",
       "      <td>...</td>\n",
       "      <td>...</td>\n",
       "      <td>...</td>\n",
       "      <td>...</td>\n",
       "      <td>...</td>\n",
       "    </tr>\n",
       "    <tr>\n",
       "      <th>178275</th>\n",
       "      <td>strstr</td>\n",
       "      <td>libname</td>\n",
       "      <td>package:</td>\n",
       "      <td>char *</td>\n",
       "      <td>__haystack</td>\n",
       "      <td>__needle</td>\n",
       "      <td>0</td>\n",
       "    </tr>\n",
       "    <tr>\n",
       "      <th>178276</th>\n",
       "      <td>strstr</td>\n",
       "      <td>package:</td>\n",
       "      <td>libname</td>\n",
       "      <td>char *</td>\n",
       "      <td>__haystack</td>\n",
       "      <td>__needle</td>\n",
       "      <td>1</td>\n",
       "    </tr>\n",
       "    <tr>\n",
       "      <th>178277</th>\n",
       "      <td>fopen</td>\n",
       "      <td>fn</td>\n",
       "      <td>w</td>\n",
       "      <td>FILE *</td>\n",
       "      <td>__filename</td>\n",
       "      <td>__modes</td>\n",
       "      <td>0</td>\n",
       "    </tr>\n",
       "    <tr>\n",
       "      <th>178278</th>\n",
       "      <td>fopen</td>\n",
       "      <td>w</td>\n",
       "      <td>fn</td>\n",
       "      <td>FILE *</td>\n",
       "      <td>__filename</td>\n",
       "      <td>__modes</td>\n",
       "      <td>1</td>\n",
       "    </tr>\n",
       "    <tr>\n",
       "      <th>178279</th>\n",
       "      <td>REprintf</td>\n",
       "      <td>Error: Could not write to '%s'. [vimcom]\\n</td>\n",
       "      <td>fn</td>\n",
       "      <td>int</td>\n",
       "      <td>NaN</td>\n",
       "      <td>NaN</td>\n",
       "      <td>0</td>\n",
       "    </tr>\n",
       "  </tbody>\n",
       "</table>\n",
       "<p>178280 rows × 7 columns</p>\n",
       "</div>"
      ],
      "text/plain": [
       "                      function_name  \\\n",
       "0       __builtin_bfin_compose_2x16   \n",
       "1       __builtin_bfin_compose_2x16   \n",
       "2       __builtin_bfin_compose_2x16   \n",
       "3       __builtin_bfin_compose_2x16   \n",
       "4                           foo0000   \n",
       "...                             ...   \n",
       "178275                       strstr   \n",
       "178276                       strstr   \n",
       "178277                        fopen   \n",
       "178278                        fopen   \n",
       "178279                     REprintf   \n",
       "\n",
       "                                              arg1      arg2   arg_type  \\\n",
       "0                                           0x3000    0x2000        int   \n",
       "1                                           0x2000    0x3000        int   \n",
       "2                                           0x7000    0x5000        int   \n",
       "3                                           0x5000    0x7000        int   \n",
       "4                                                a         b  fract2x16   \n",
       "...                                            ...       ...        ...   \n",
       "178275                                     libname  package:     char *   \n",
       "178276                                    package:   libname     char *   \n",
       "178277                                          fn         w     FILE *   \n",
       "178278                                           w        fn     FILE *   \n",
       "178279  Error: Could not write to '%s'. [vimcom]\\n        fn        int   \n",
       "\n",
       "            param1    param2  labels  \n",
       "0              NaN       NaN       0  \n",
       "1              NaN       NaN       1  \n",
       "2              NaN       NaN       0  \n",
       "3              NaN       NaN       1  \n",
       "4                a         b       0  \n",
       "...            ...       ...     ...  \n",
       "178275  __haystack  __needle       0  \n",
       "178276  __haystack  __needle       1  \n",
       "178277  __filename   __modes       0  \n",
       "178278  __filename   __modes       1  \n",
       "178279         NaN       NaN       0  \n",
       "\n",
       "[178280 rows x 7 columns]"
      ]
     },
     "execution_count": 88,
     "metadata": {},
     "output_type": "execute_result"
    }
   ],
   "source": [
    "df"
   ]
  },
  {
   "cell_type": "code",
   "execution_count": 89,
   "metadata": {
    "execution": {
     "iopub.execute_input": "2023-02-02T09:17:27.731597Z",
     "iopub.status.busy": "2023-02-02T09:17:27.730815Z",
     "iopub.status.idle": "2023-02-02T09:17:27.834673Z",
     "shell.execute_reply": "2023-02-02T09:17:27.833536Z",
     "shell.execute_reply.started": "2023-02-02T09:17:27.731568Z"
    }
   },
   "outputs": [],
   "source": [
    "df.drop_duplicates(ignore_index=True, inplace=True)"
   ]
  },
  {
   "cell_type": "code",
   "execution_count": 90,
   "metadata": {
    "execution": {
     "iopub.execute_input": "2023-02-02T09:17:27.837167Z",
     "iopub.status.busy": "2023-02-02T09:17:27.836168Z",
     "iopub.status.idle": "2023-02-02T09:17:27.855157Z",
     "shell.execute_reply": "2023-02-02T09:17:27.854078Z",
     "shell.execute_reply.started": "2023-02-02T09:17:27.837129Z"
    }
   },
   "outputs": [
    {
     "data": {
      "text/html": [
       "<div>\n",
       "<style scoped>\n",
       "    .dataframe tbody tr th:only-of-type {\n",
       "        vertical-align: middle;\n",
       "    }\n",
       "\n",
       "    .dataframe tbody tr th {\n",
       "        vertical-align: top;\n",
       "    }\n",
       "\n",
       "    .dataframe thead th {\n",
       "        text-align: right;\n",
       "    }\n",
       "</style>\n",
       "<table border=\"1\" class=\"dataframe\">\n",
       "  <thead>\n",
       "    <tr style=\"text-align: right;\">\n",
       "      <th></th>\n",
       "      <th>function_name</th>\n",
       "      <th>arg1</th>\n",
       "      <th>arg2</th>\n",
       "      <th>arg_type</th>\n",
       "      <th>param1</th>\n",
       "      <th>param2</th>\n",
       "      <th>labels</th>\n",
       "    </tr>\n",
       "  </thead>\n",
       "  <tbody>\n",
       "    <tr>\n",
       "      <th>0</th>\n",
       "      <td>__builtin_bfin_compose_2x16</td>\n",
       "      <td>0x3000</td>\n",
       "      <td>0x2000</td>\n",
       "      <td>int</td>\n",
       "      <td>NaN</td>\n",
       "      <td>NaN</td>\n",
       "      <td>0</td>\n",
       "    </tr>\n",
       "    <tr>\n",
       "      <th>1</th>\n",
       "      <td>__builtin_bfin_compose_2x16</td>\n",
       "      <td>0x2000</td>\n",
       "      <td>0x3000</td>\n",
       "      <td>int</td>\n",
       "      <td>NaN</td>\n",
       "      <td>NaN</td>\n",
       "      <td>1</td>\n",
       "    </tr>\n",
       "    <tr>\n",
       "      <th>2</th>\n",
       "      <td>__builtin_bfin_compose_2x16</td>\n",
       "      <td>0x7000</td>\n",
       "      <td>0x5000</td>\n",
       "      <td>int</td>\n",
       "      <td>NaN</td>\n",
       "      <td>NaN</td>\n",
       "      <td>0</td>\n",
       "    </tr>\n",
       "    <tr>\n",
       "      <th>3</th>\n",
       "      <td>__builtin_bfin_compose_2x16</td>\n",
       "      <td>0x5000</td>\n",
       "      <td>0x7000</td>\n",
       "      <td>int</td>\n",
       "      <td>NaN</td>\n",
       "      <td>NaN</td>\n",
       "      <td>1</td>\n",
       "    </tr>\n",
       "    <tr>\n",
       "      <th>4</th>\n",
       "      <td>foo0000</td>\n",
       "      <td>a</td>\n",
       "      <td>b</td>\n",
       "      <td>fract2x16</td>\n",
       "      <td>a</td>\n",
       "      <td>b</td>\n",
       "      <td>0</td>\n",
       "    </tr>\n",
       "    <tr>\n",
       "      <th>...</th>\n",
       "      <td>...</td>\n",
       "      <td>...</td>\n",
       "      <td>...</td>\n",
       "      <td>...</td>\n",
       "      <td>...</td>\n",
       "      <td>...</td>\n",
       "      <td>...</td>\n",
       "    </tr>\n",
       "    <tr>\n",
       "      <th>83839</th>\n",
       "      <td>REprintf</td>\n",
       "      <td>rep</td>\n",
       "      <td>VimCom Sent: %s\\n</td>\n",
       "      <td>int</td>\n",
       "      <td>NaN</td>\n",
       "      <td>NaN</td>\n",
       "      <td>1</td>\n",
       "    </tr>\n",
       "    <tr>\n",
       "      <th>83840</th>\n",
       "      <td>strcmp</td>\n",
       "      <td>name</td>\n",
       "      <td>table</td>\n",
       "      <td>int</td>\n",
       "      <td>__s1</td>\n",
       "      <td>__s2</td>\n",
       "      <td>0</td>\n",
       "    </tr>\n",
       "    <tr>\n",
       "      <th>83841</th>\n",
       "      <td>strcmp</td>\n",
       "      <td>table</td>\n",
       "      <td>name</td>\n",
       "      <td>int</td>\n",
       "      <td>__s1</td>\n",
       "      <td>__s2</td>\n",
       "      <td>1</td>\n",
       "    </tr>\n",
       "    <tr>\n",
       "      <th>83842</th>\n",
       "      <td>fopen</td>\n",
       "      <td>.live</td>\n",
       "      <td>w</td>\n",
       "      <td>FILE *</td>\n",
       "      <td>__filename</td>\n",
       "      <td>__modes</td>\n",
       "      <td>0</td>\n",
       "    </tr>\n",
       "    <tr>\n",
       "      <th>83843</th>\n",
       "      <td>fopen</td>\n",
       "      <td>w</td>\n",
       "      <td>.live</td>\n",
       "      <td>FILE *</td>\n",
       "      <td>__filename</td>\n",
       "      <td>__modes</td>\n",
       "      <td>1</td>\n",
       "    </tr>\n",
       "  </tbody>\n",
       "</table>\n",
       "<p>83844 rows × 7 columns</p>\n",
       "</div>"
      ],
      "text/plain": [
       "                     function_name    arg1               arg2   arg_type  \\\n",
       "0      __builtin_bfin_compose_2x16  0x3000             0x2000        int   \n",
       "1      __builtin_bfin_compose_2x16  0x2000             0x3000        int   \n",
       "2      __builtin_bfin_compose_2x16  0x7000             0x5000        int   \n",
       "3      __builtin_bfin_compose_2x16  0x5000             0x7000        int   \n",
       "4                          foo0000       a                  b  fract2x16   \n",
       "...                            ...     ...                ...        ...   \n",
       "83839                     REprintf     rep  VimCom Sent: %s\\n        int   \n",
       "83840                       strcmp    name              table        int   \n",
       "83841                       strcmp   table               name        int   \n",
       "83842                        fopen   .live                  w     FILE *   \n",
       "83843                        fopen       w              .live     FILE *   \n",
       "\n",
       "           param1   param2  labels  \n",
       "0             NaN      NaN       0  \n",
       "1             NaN      NaN       1  \n",
       "2             NaN      NaN       0  \n",
       "3             NaN      NaN       1  \n",
       "4               a        b       0  \n",
       "...           ...      ...     ...  \n",
       "83839         NaN      NaN       1  \n",
       "83840        __s1     __s2       0  \n",
       "83841        __s1     __s2       1  \n",
       "83842  __filename  __modes       0  \n",
       "83843  __filename  __modes       1  \n",
       "\n",
       "[83844 rows x 7 columns]"
      ]
     },
     "execution_count": 90,
     "metadata": {},
     "output_type": "execute_result"
    }
   ],
   "source": [
    "df"
   ]
  },
  {
   "cell_type": "code",
   "execution_count": 91,
   "metadata": {
    "execution": {
     "iopub.execute_input": "2023-02-02T09:17:27.858125Z",
     "iopub.status.busy": "2023-02-02T09:17:27.857569Z",
     "iopub.status.idle": "2023-02-02T09:17:27.886462Z",
     "shell.execute_reply": "2023-02-02T09:17:27.885176Z",
     "shell.execute_reply.started": "2023-02-02T09:17:27.858089Z"
    }
   },
   "outputs": [
    {
     "data": {
      "text/plain": [
       "function_name      288\n",
       "arg1               520\n",
       "arg2               520\n",
       "arg_type             0\n",
       "param1           52284\n",
       "param2           52276\n",
       "labels               0\n",
       "dtype: int64"
      ]
     },
     "execution_count": 91,
     "metadata": {},
     "output_type": "execute_result"
    }
   ],
   "source": [
    "df.isna().sum()"
   ]
  },
  {
   "cell_type": "code",
   "execution_count": 92,
   "metadata": {
    "execution": {
     "iopub.execute_input": "2023-02-02T09:17:27.888821Z",
     "iopub.status.busy": "2023-02-02T09:17:27.888077Z",
     "iopub.status.idle": "2023-02-02T09:17:27.925158Z",
     "shell.execute_reply": "2023-02-02T09:17:27.924275Z",
     "shell.execute_reply.started": "2023-02-02T09:17:27.888779Z"
    }
   },
   "outputs": [],
   "source": [
    "# df['function_name'] = df['function_name'].fillna('[UNK]')\n",
    "# df['arg1']=df['arg1'].fillna('[UNK]')\n",
    "# df['arg2']=df['arg2'].fillna('[UNK]')\n",
    "# df['arg_type']=df['arg_type'].fillna('[UNK]')\n",
    "# df['param1']=df['param1'].fillna('[UNK]')\n",
    "# df['param2']=df['param2'].fillna('[UNK]')\n",
    "\n",
    "df['function_name'] = df['function_name'].fillna('')\n",
    "df['arg1']=df['arg1'].fillna('')\n",
    "df['arg2']=df['arg2'].fillna('')\n",
    "df['arg_type']=df['arg_type'].fillna('')\n",
    "df['param1']=df['param1'].fillna('')\n",
    "df['param2']=df['param2'].fillna('')"
   ]
  },
  {
   "cell_type": "code",
   "execution_count": 93,
   "metadata": {
    "execution": {
     "iopub.execute_input": "2023-02-02T09:17:27.926980Z",
     "iopub.status.busy": "2023-02-02T09:17:27.926458Z",
     "iopub.status.idle": "2023-02-02T09:17:27.955069Z",
     "shell.execute_reply": "2023-02-02T09:17:27.954147Z",
     "shell.execute_reply.started": "2023-02-02T09:17:27.926944Z"
    }
   },
   "outputs": [
    {
     "data": {
      "text/plain": [
       "function_name    0\n",
       "arg1             0\n",
       "arg2             0\n",
       "arg_type         0\n",
       "param1           0\n",
       "param2           0\n",
       "labels           0\n",
       "dtype: int64"
      ]
     },
     "execution_count": 93,
     "metadata": {},
     "output_type": "execute_result"
    }
   ],
   "source": [
    "df.isna().sum()"
   ]
  },
  {
   "cell_type": "code",
   "execution_count": 94,
   "metadata": {
    "execution": {
     "iopub.execute_input": "2023-02-02T09:17:27.958439Z",
     "iopub.status.busy": "2023-02-02T09:17:27.958165Z",
     "iopub.status.idle": "2023-02-02T09:17:28.034045Z",
     "shell.execute_reply": "2023-02-02T09:17:28.033066Z",
     "shell.execute_reply.started": "2023-02-02T09:17:27.958414Z"
    }
   },
   "outputs": [],
   "source": [
    "df['full_text'] = df['function_name'] + ' [SEP] '+ df['arg1'] + ' [SEP] '+ df['arg2'] + ' [SEP] '+ df['arg_type'] + ' [SEP] '+ df['param1'] + ' [SEP] ' + df['param2']\n",
    "# df['full_text'] = df['function_name'] + ' '+ df['arg1'] + ' '+ df['arg2'] + ' '+ df['arg_type'] + ' '+ df['param1'] + ' ' + df['param2']"
   ]
  },
  {
   "cell_type": "code",
   "execution_count": 95,
   "metadata": {
    "execution": {
     "iopub.execute_input": "2023-02-02T09:17:28.036186Z",
     "iopub.status.busy": "2023-02-02T09:17:28.035393Z",
     "iopub.status.idle": "2023-02-02T09:17:28.061284Z",
     "shell.execute_reply": "2023-02-02T09:17:28.060085Z",
     "shell.execute_reply.started": "2023-02-02T09:17:28.036146Z"
    }
   },
   "outputs": [],
   "source": [
    "df.drop(['function_name','arg1','arg2','arg_type','param1','param2'],axis=1,inplace=True)"
   ]
  },
  {
   "cell_type": "code",
   "execution_count": 96,
   "metadata": {
    "execution": {
     "iopub.execute_input": "2023-02-02T09:17:28.063624Z",
     "iopub.status.busy": "2023-02-02T09:17:28.062842Z",
     "iopub.status.idle": "2023-02-02T09:17:28.075464Z",
     "shell.execute_reply": "2023-02-02T09:17:28.074243Z",
     "shell.execute_reply.started": "2023-02-02T09:17:28.063585Z"
    }
   },
   "outputs": [
    {
     "data": {
      "text/html": [
       "<div>\n",
       "<style scoped>\n",
       "    .dataframe tbody tr th:only-of-type {\n",
       "        vertical-align: middle;\n",
       "    }\n",
       "\n",
       "    .dataframe tbody tr th {\n",
       "        vertical-align: top;\n",
       "    }\n",
       "\n",
       "    .dataframe thead th {\n",
       "        text-align: right;\n",
       "    }\n",
       "</style>\n",
       "<table border=\"1\" class=\"dataframe\">\n",
       "  <thead>\n",
       "    <tr style=\"text-align: right;\">\n",
       "      <th></th>\n",
       "      <th>labels</th>\n",
       "      <th>full_text</th>\n",
       "    </tr>\n",
       "  </thead>\n",
       "  <tbody>\n",
       "    <tr>\n",
       "      <th>0</th>\n",
       "      <td>0</td>\n",
       "      <td>__builtin_bfin_compose_2x16 [SEP] 0x3000 [SEP]...</td>\n",
       "    </tr>\n",
       "    <tr>\n",
       "      <th>1</th>\n",
       "      <td>1</td>\n",
       "      <td>__builtin_bfin_compose_2x16 [SEP] 0x2000 [SEP]...</td>\n",
       "    </tr>\n",
       "    <tr>\n",
       "      <th>2</th>\n",
       "      <td>0</td>\n",
       "      <td>__builtin_bfin_compose_2x16 [SEP] 0x7000 [SEP]...</td>\n",
       "    </tr>\n",
       "    <tr>\n",
       "      <th>3</th>\n",
       "      <td>1</td>\n",
       "      <td>__builtin_bfin_compose_2x16 [SEP] 0x5000 [SEP]...</td>\n",
       "    </tr>\n",
       "    <tr>\n",
       "      <th>4</th>\n",
       "      <td>0</td>\n",
       "      <td>foo0000 [SEP] a [SEP] b [SEP] fract2x16 [SEP] ...</td>\n",
       "    </tr>\n",
       "    <tr>\n",
       "      <th>...</th>\n",
       "      <td>...</td>\n",
       "      <td>...</td>\n",
       "    </tr>\n",
       "    <tr>\n",
       "      <th>83839</th>\n",
       "      <td>1</td>\n",
       "      <td>REprintf [SEP] rep [SEP] VimCom Sent: %s\\n [SE...</td>\n",
       "    </tr>\n",
       "    <tr>\n",
       "      <th>83840</th>\n",
       "      <td>0</td>\n",
       "      <td>strcmp [SEP] name [SEP] table [SEP] int [SEP] ...</td>\n",
       "    </tr>\n",
       "    <tr>\n",
       "      <th>83841</th>\n",
       "      <td>1</td>\n",
       "      <td>strcmp [SEP] table [SEP] name [SEP] int [SEP] ...</td>\n",
       "    </tr>\n",
       "    <tr>\n",
       "      <th>83842</th>\n",
       "      <td>0</td>\n",
       "      <td>fopen [SEP] .live [SEP] w [SEP] FILE * [SEP] _...</td>\n",
       "    </tr>\n",
       "    <tr>\n",
       "      <th>83843</th>\n",
       "      <td>1</td>\n",
       "      <td>fopen [SEP] w [SEP] .live [SEP] FILE * [SEP] _...</td>\n",
       "    </tr>\n",
       "  </tbody>\n",
       "</table>\n",
       "<p>83844 rows × 2 columns</p>\n",
       "</div>"
      ],
      "text/plain": [
       "       labels                                          full_text\n",
       "0           0  __builtin_bfin_compose_2x16 [SEP] 0x3000 [SEP]...\n",
       "1           1  __builtin_bfin_compose_2x16 [SEP] 0x2000 [SEP]...\n",
       "2           0  __builtin_bfin_compose_2x16 [SEP] 0x7000 [SEP]...\n",
       "3           1  __builtin_bfin_compose_2x16 [SEP] 0x5000 [SEP]...\n",
       "4           0  foo0000 [SEP] a [SEP] b [SEP] fract2x16 [SEP] ...\n",
       "...       ...                                                ...\n",
       "83839       1  REprintf [SEP] rep [SEP] VimCom Sent: %s\\n [SE...\n",
       "83840       0  strcmp [SEP] name [SEP] table [SEP] int [SEP] ...\n",
       "83841       1  strcmp [SEP] table [SEP] name [SEP] int [SEP] ...\n",
       "83842       0  fopen [SEP] .live [SEP] w [SEP] FILE * [SEP] _...\n",
       "83843       1  fopen [SEP] w [SEP] .live [SEP] FILE * [SEP] _...\n",
       "\n",
       "[83844 rows x 2 columns]"
      ]
     },
     "execution_count": 96,
     "metadata": {},
     "output_type": "execute_result"
    }
   ],
   "source": [
    "df"
   ]
  },
  {
   "cell_type": "code",
   "execution_count": 97,
   "metadata": {
    "execution": {
     "iopub.execute_input": "2023-02-02T09:17:28.077768Z",
     "iopub.status.busy": "2023-02-02T09:17:28.077418Z",
     "iopub.status.idle": "2023-02-02T09:17:28.083732Z",
     "shell.execute_reply": "2023-02-02T09:17:28.082415Z",
     "shell.execute_reply.started": "2023-02-02T09:17:28.077734Z"
    }
   },
   "outputs": [],
   "source": [
    "def tokenize_text(examples):\n",
    "    return tokenizer(examples[\"full_text\"], truncation=True, max_length=100, padding=True)"
   ]
  },
  {
   "cell_type": "code",
   "execution_count": 98,
   "metadata": {
    "execution": {
     "iopub.execute_input": "2023-02-02T09:17:28.085589Z",
     "iopub.status.busy": "2023-02-02T09:17:28.085077Z",
     "iopub.status.idle": "2023-02-02T09:17:28.110929Z",
     "shell.execute_reply": "2023-02-02T09:17:28.110005Z",
     "shell.execute_reply.started": "2023-02-02T09:17:28.085551Z"
    }
   },
   "outputs": [
    {
     "data": {
      "text/html": [
       "<div>\n",
       "<style scoped>\n",
       "    .dataframe tbody tr th:only-of-type {\n",
       "        vertical-align: middle;\n",
       "    }\n",
       "\n",
       "    .dataframe tbody tr th {\n",
       "        vertical-align: top;\n",
       "    }\n",
       "\n",
       "    .dataframe thead th {\n",
       "        text-align: right;\n",
       "    }\n",
       "</style>\n",
       "<table border=\"1\" class=\"dataframe\">\n",
       "  <thead>\n",
       "    <tr style=\"text-align: right;\">\n",
       "      <th></th>\n",
       "      <th>labels</th>\n",
       "      <th>full_text</th>\n",
       "    </tr>\n",
       "  </thead>\n",
       "  <tbody>\n",
       "    <tr>\n",
       "      <th>0</th>\n",
       "      <td>1</td>\n",
       "      <td>PsychMatch [SEP] TextEncodingLocale [SEP] pref...</td>\n",
       "    </tr>\n",
       "    <tr>\n",
       "      <th>1</th>\n",
       "      <td>1</td>\n",
       "      <td>strcasecmp [SEP] name_type [SEP] hostbased-ser...</td>\n",
       "    </tr>\n",
       "    <tr>\n",
       "      <th>2</th>\n",
       "      <td>1</td>\n",
       "      <td>strcmp [SEP] FUNSMRY [SEP] ext [SEP] int [SEP]...</td>\n",
       "    </tr>\n",
       "    <tr>\n",
       "      <th>3</th>\n",
       "      <td>1</td>\n",
       "      <td>strstr [SEP] .c [SEP] output_file_name [SEP] c...</td>\n",
       "    </tr>\n",
       "    <tr>\n",
       "      <th>4</th>\n",
       "      <td>0</td>\n",
       "      <td>gg_fopen [SEP] buf [SEP] w [SEP] FILE * [SEP] ...</td>\n",
       "    </tr>\n",
       "    <tr>\n",
       "      <th>...</th>\n",
       "      <td>...</td>\n",
       "      <td>...</td>\n",
       "    </tr>\n",
       "    <tr>\n",
       "      <th>83839</th>\n",
       "      <td>1</td>\n",
       "      <td>test [SEP] domain.com [SEP] example.com, *.dom...</td>\n",
       "    </tr>\n",
       "    <tr>\n",
       "      <th>83840</th>\n",
       "      <td>0</td>\n",
       "      <td>strcmp [SEP] * [SEP] -descert [SEP] int [SEP] ...</td>\n",
       "    </tr>\n",
       "    <tr>\n",
       "      <th>83841</th>\n",
       "      <td>0</td>\n",
       "      <td>strcasecmp [SEP] in [SEP] q931 [SEP] int [SEP]...</td>\n",
       "    </tr>\n",
       "    <tr>\n",
       "      <th>83842</th>\n",
       "      <td>0</td>\n",
       "      <td>__builtin_isunordered [SEP] __builtin_nan [SEP...</td>\n",
       "    </tr>\n",
       "    <tr>\n",
       "      <th>83843</th>\n",
       "      <td>1</td>\n",
       "      <td>sdscat [SEP] sentinel, [SEP] flags [SEP] int [...</td>\n",
       "    </tr>\n",
       "  </tbody>\n",
       "</table>\n",
       "<p>83844 rows × 2 columns</p>\n",
       "</div>"
      ],
      "text/plain": [
       "       labels                                          full_text\n",
       "0           1  PsychMatch [SEP] TextEncodingLocale [SEP] pref...\n",
       "1           1  strcasecmp [SEP] name_type [SEP] hostbased-ser...\n",
       "2           1  strcmp [SEP] FUNSMRY [SEP] ext [SEP] int [SEP]...\n",
       "3           1  strstr [SEP] .c [SEP] output_file_name [SEP] c...\n",
       "4           0  gg_fopen [SEP] buf [SEP] w [SEP] FILE * [SEP] ...\n",
       "...       ...                                                ...\n",
       "83839       1  test [SEP] domain.com [SEP] example.com, *.dom...\n",
       "83840       0  strcmp [SEP] * [SEP] -descert [SEP] int [SEP] ...\n",
       "83841       0  strcasecmp [SEP] in [SEP] q931 [SEP] int [SEP]...\n",
       "83842       0  __builtin_isunordered [SEP] __builtin_nan [SEP...\n",
       "83843       1  sdscat [SEP] sentinel, [SEP] flags [SEP] int [...\n",
       "\n",
       "[83844 rows x 2 columns]"
      ]
     },
     "execution_count": 98,
     "metadata": {},
     "output_type": "execute_result"
    }
   ],
   "source": [
    "df = df.sample(frac = 1) # shuffling the dataset\n",
    "df.reset_index(drop=True,inplace=True)\n",
    "df"
   ]
  },
  {
   "cell_type": "code",
   "execution_count": 99,
   "metadata": {
    "execution": {
     "iopub.execute_input": "2023-02-02T09:17:28.113642Z",
     "iopub.status.busy": "2023-02-02T09:17:28.112972Z",
     "iopub.status.idle": "2023-02-02T09:17:28.126798Z",
     "shell.execute_reply": "2023-02-02T09:17:28.125718Z",
     "shell.execute_reply.started": "2023-02-02T09:17:28.113604Z"
    }
   },
   "outputs": [],
   "source": [
    "df_train, df_test = train_test_split(df, test_size=0.1)"
   ]
  },
  {
   "cell_type": "code",
   "execution_count": 100,
   "metadata": {
    "execution": {
     "iopub.execute_input": "2023-02-02T09:17:28.128628Z",
     "iopub.status.busy": "2023-02-02T09:17:28.128248Z",
     "iopub.status.idle": "2023-02-02T09:17:28.141713Z",
     "shell.execute_reply": "2023-02-02T09:17:28.140713Z",
     "shell.execute_reply.started": "2023-02-02T09:17:28.128582Z"
    }
   },
   "outputs": [
    {
     "data": {
      "text/html": [
       "<div>\n",
       "<style scoped>\n",
       "    .dataframe tbody tr th:only-of-type {\n",
       "        vertical-align: middle;\n",
       "    }\n",
       "\n",
       "    .dataframe tbody tr th {\n",
       "        vertical-align: top;\n",
       "    }\n",
       "\n",
       "    .dataframe thead th {\n",
       "        text-align: right;\n",
       "    }\n",
       "</style>\n",
       "<table border=\"1\" class=\"dataframe\">\n",
       "  <thead>\n",
       "    <tr style=\"text-align: right;\">\n",
       "      <th></th>\n",
       "      <th>labels</th>\n",
       "      <th>full_text</th>\n",
       "    </tr>\n",
       "  </thead>\n",
       "  <tbody>\n",
       "    <tr>\n",
       "      <th>80345</th>\n",
       "      <td>1</td>\n",
       "      <td>damroll [SEP] 4 [SEP] 10 [SEP] int [SEP]  [SEP]</td>\n",
       "    </tr>\n",
       "    <tr>\n",
       "      <th>47067</th>\n",
       "      <td>0</td>\n",
       "      <td>hp3800_calibtransparent [SEP] option [SEP] def...</td>\n",
       "    </tr>\n",
       "    <tr>\n",
       "      <th>81877</th>\n",
       "      <td>1</td>\n",
       "      <td>strpbrk [SEP]  \\t [SEP] newname [SEP] char * [...</td>\n",
       "    </tr>\n",
       "    <tr>\n",
       "      <th>3875</th>\n",
       "      <td>0</td>\n",
       "      <td>warning [SEP] 152 [SEP] n [SEP] int [SEP]  [SEP]</td>\n",
       "    </tr>\n",
       "    <tr>\n",
       "      <th>47722</th>\n",
       "      <td>1</td>\n",
       "      <td>dssp_error_message [SEP] strerror [SEP] error ...</td>\n",
       "    </tr>\n",
       "    <tr>\n",
       "      <th>...</th>\n",
       "      <td>...</td>\n",
       "      <td>...</td>\n",
       "    </tr>\n",
       "    <tr>\n",
       "      <th>82752</th>\n",
       "      <td>1</td>\n",
       "      <td>strcmp [SEP] request [SEP] type [SEP] int [SEP...</td>\n",
       "    </tr>\n",
       "    <tr>\n",
       "      <th>68946</th>\n",
       "      <td>0</td>\n",
       "      <td>[SEP] f [SEP] a [SEP] &lt;dependent type&gt; [SEP] ...</td>\n",
       "    </tr>\n",
       "    <tr>\n",
       "      <th>73026</th>\n",
       "      <td>1</td>\n",
       "      <td>_rl_rubout_char [SEP] key [SEP] count [SEP] in...</td>\n",
       "    </tr>\n",
       "    <tr>\n",
       "      <th>34722</th>\n",
       "      <td>0</td>\n",
       "      <td>die [SEP] invalid log-grep regex: %s [SEP] err...</td>\n",
       "    </tr>\n",
       "    <tr>\n",
       "      <th>50362</th>\n",
       "      <td>0</td>\n",
       "      <td>fopen [SEP] quant_pitch.txt [SEP] wt [SEP] FIL...</td>\n",
       "    </tr>\n",
       "  </tbody>\n",
       "</table>\n",
       "<p>75459 rows × 2 columns</p>\n",
       "</div>"
      ],
      "text/plain": [
       "       labels                                          full_text\n",
       "80345       1   damroll [SEP] 4 [SEP] 10 [SEP] int [SEP]  [SEP] \n",
       "47067       0  hp3800_calibtransparent [SEP] option [SEP] def...\n",
       "81877       1  strpbrk [SEP]  \\t [SEP] newname [SEP] char * [...\n",
       "3875        0  warning [SEP] 152 [SEP] n [SEP] int [SEP]  [SEP] \n",
       "47722       1  dssp_error_message [SEP] strerror [SEP] error ...\n",
       "...       ...                                                ...\n",
       "82752       1  strcmp [SEP] request [SEP] type [SEP] int [SEP...\n",
       "68946       0   [SEP] f [SEP] a [SEP] <dependent type> [SEP] ...\n",
       "73026       1  _rl_rubout_char [SEP] key [SEP] count [SEP] in...\n",
       "34722       0  die [SEP] invalid log-grep regex: %s [SEP] err...\n",
       "50362       0  fopen [SEP] quant_pitch.txt [SEP] wt [SEP] FIL...\n",
       "\n",
       "[75459 rows x 2 columns]"
      ]
     },
     "execution_count": 100,
     "metadata": {},
     "output_type": "execute_result"
    }
   ],
   "source": [
    "df_train"
   ]
  },
  {
   "cell_type": "code",
   "execution_count": 101,
   "metadata": {
    "execution": {
     "iopub.execute_input": "2023-02-02T09:17:28.143943Z",
     "iopub.status.busy": "2023-02-02T09:17:28.143267Z",
     "iopub.status.idle": "2023-02-02T09:17:28.154653Z",
     "shell.execute_reply": "2023-02-02T09:17:28.153767Z",
     "shell.execute_reply.started": "2023-02-02T09:17:28.143907Z"
    }
   },
   "outputs": [
    {
     "data": {
      "text/html": [
       "<div>\n",
       "<style scoped>\n",
       "    .dataframe tbody tr th:only-of-type {\n",
       "        vertical-align: middle;\n",
       "    }\n",
       "\n",
       "    .dataframe tbody tr th {\n",
       "        vertical-align: top;\n",
       "    }\n",
       "\n",
       "    .dataframe thead th {\n",
       "        text-align: right;\n",
       "    }\n",
       "</style>\n",
       "<table border=\"1\" class=\"dataframe\">\n",
       "  <thead>\n",
       "    <tr style=\"text-align: right;\">\n",
       "      <th></th>\n",
       "      <th>labels</th>\n",
       "      <th>full_text</th>\n",
       "    </tr>\n",
       "  </thead>\n",
       "  <tbody>\n",
       "    <tr>\n",
       "      <th>77154</th>\n",
       "      <td>1</td>\n",
       "      <td>strcmp [SEP] default [SEP] s [SEP] int [SEP] _...</td>\n",
       "    </tr>\n",
       "    <tr>\n",
       "      <th>17991</th>\n",
       "      <td>1</td>\n",
       "      <td>TIFFError [SEP] Wrong image parameters; can't ...</td>\n",
       "    </tr>\n",
       "    <tr>\n",
       "      <th>15317</th>\n",
       "      <td>1</td>\n",
       "      <td>__builtin_atan2f [SEP] 0.0 [SEP] - [SEP] float...</td>\n",
       "    </tr>\n",
       "    <tr>\n",
       "      <th>69119</th>\n",
       "      <td>0</td>\n",
       "      <td>printf [SEP] subfile %s not found\\n [SEP] subf...</td>\n",
       "    </tr>\n",
       "    <tr>\n",
       "      <th>50626</th>\n",
       "      <td>1</td>\n",
       "      <td>strcmpi [SEP] nobranch [SEP] flag [SEP] int [S...</td>\n",
       "    </tr>\n",
       "    <tr>\n",
       "      <th>...</th>\n",
       "      <td>...</td>\n",
       "      <td>...</td>\n",
       "    </tr>\n",
       "    <tr>\n",
       "      <th>1450</th>\n",
       "      <td>0</td>\n",
       "      <td>dup2 [SEP] ofd [SEP] 1 [SEP] int [SEP] __fd [S...</td>\n",
       "    </tr>\n",
       "    <tr>\n",
       "      <th>40712</th>\n",
       "      <td>0</td>\n",
       "      <td>printf [SEP] %s [SEP] hdr [SEP] int [SEP]  [SEP]</td>\n",
       "    </tr>\n",
       "    <tr>\n",
       "      <th>68569</th>\n",
       "      <td>1</td>\n",
       "      <td>w_timeval_compare [SEP] file [SEP] since [SEP]...</td>\n",
       "    </tr>\n",
       "    <tr>\n",
       "      <th>67414</th>\n",
       "      <td>1</td>\n",
       "      <td>strcmp [SEP] action [SEP] param [SEP] int [SEP...</td>\n",
       "    </tr>\n",
       "    <tr>\n",
       "      <th>63189</th>\n",
       "      <td>0</td>\n",
       "      <td>strcmp [SEP] argv [SEP] iso [SEP] int [SEP] __...</td>\n",
       "    </tr>\n",
       "  </tbody>\n",
       "</table>\n",
       "<p>8385 rows × 2 columns</p>\n",
       "</div>"
      ],
      "text/plain": [
       "       labels                                          full_text\n",
       "77154       1  strcmp [SEP] default [SEP] s [SEP] int [SEP] _...\n",
       "17991       1  TIFFError [SEP] Wrong image parameters; can't ...\n",
       "15317       1  __builtin_atan2f [SEP] 0.0 [SEP] - [SEP] float...\n",
       "69119       0  printf [SEP] subfile %s not found\\n [SEP] subf...\n",
       "50626       1  strcmpi [SEP] nobranch [SEP] flag [SEP] int [S...\n",
       "...       ...                                                ...\n",
       "1450        0  dup2 [SEP] ofd [SEP] 1 [SEP] int [SEP] __fd [S...\n",
       "40712       0  printf [SEP] %s [SEP] hdr [SEP] int [SEP]  [SEP] \n",
       "68569       1  w_timeval_compare [SEP] file [SEP] since [SEP]...\n",
       "67414       1  strcmp [SEP] action [SEP] param [SEP] int [SEP...\n",
       "63189       0  strcmp [SEP] argv [SEP] iso [SEP] int [SEP] __...\n",
       "\n",
       "[8385 rows x 2 columns]"
      ]
     },
     "execution_count": 101,
     "metadata": {},
     "output_type": "execute_result"
    }
   ],
   "source": [
    "df_test"
   ]
  },
  {
   "cell_type": "code",
   "execution_count": 102,
   "metadata": {
    "execution": {
     "iopub.execute_input": "2023-02-02T09:17:28.156975Z",
     "iopub.status.busy": "2023-02-02T09:17:28.156070Z",
     "iopub.status.idle": "2023-02-02T09:17:28.180883Z",
     "shell.execute_reply": "2023-02-02T09:17:28.180068Z",
     "shell.execute_reply.started": "2023-02-02T09:17:28.156827Z"
    }
   },
   "outputs": [
    {
     "data": {
      "text/plain": [
       "Dataset({\n",
       "    features: ['labels', 'full_text', '__index_level_0__'],\n",
       "    num_rows: 75459\n",
       "})"
      ]
     },
     "execution_count": 102,
     "metadata": {},
     "output_type": "execute_result"
    }
   ],
   "source": [
    "train_dataset = Dataset.from_pandas(df_train)\n",
    "train_dataset"
   ]
  },
  {
   "cell_type": "code",
   "execution_count": 103,
   "metadata": {
    "execution": {
     "iopub.execute_input": "2023-02-02T09:17:28.182424Z",
     "iopub.status.busy": "2023-02-02T09:17:28.182065Z",
     "iopub.status.idle": "2023-02-02T09:17:28.194325Z",
     "shell.execute_reply": "2023-02-02T09:17:28.193212Z",
     "shell.execute_reply.started": "2023-02-02T09:17:28.182387Z"
    }
   },
   "outputs": [
    {
     "data": {
      "text/plain": [
       "Dataset({\n",
       "    features: ['labels', 'full_text', '__index_level_0__'],\n",
       "    num_rows: 8385\n",
       "})"
      ]
     },
     "execution_count": 103,
     "metadata": {},
     "output_type": "execute_result"
    }
   ],
   "source": [
    "test_dataset = Dataset.from_pandas(df_test)\n",
    "test_dataset"
   ]
  },
  {
   "cell_type": "code",
   "execution_count": 104,
   "metadata": {
    "execution": {
     "iopub.execute_input": "2023-02-02T09:17:28.196403Z",
     "iopub.status.busy": "2023-02-02T09:17:28.196043Z",
     "iopub.status.idle": "2023-02-02T09:17:35.187064Z",
     "shell.execute_reply": "2023-02-02T09:17:35.185963Z",
     "shell.execute_reply.started": "2023-02-02T09:17:28.196369Z"
    }
   },
   "outputs": [
    {
     "data": {
      "application/vnd.jupyter.widget-view+json": {
       "model_id": "92b572a6565f4d18be59832e40d7f487",
       "version_major": 2,
       "version_minor": 0
      },
      "text/plain": [
       "  0%|          | 0/75 [00:00<?, ?ba/s]"
      ]
     },
     "metadata": {},
     "output_type": "display_data"
    },
    {
     "data": {
      "text/plain": [
       "Dataset({\n",
       "    features: ['labels', 'input_ids', 'attention_mask'],\n",
       "    num_rows: 75000\n",
       "})"
      ]
     },
     "execution_count": 104,
     "metadata": {},
     "output_type": "execute_result"
    }
   ],
   "source": [
    "train_dataset = train_dataset.map(tokenize_text, batched=True, drop_last_batch=True, remove_columns=[\"full_text\", \"__index_level_0__\"])\n",
    "train_dataset"
   ]
  },
  {
   "cell_type": "code",
   "execution_count": 105,
   "metadata": {
    "execution": {
     "iopub.execute_input": "2023-02-02T09:17:35.193519Z",
     "iopub.status.busy": "2023-02-02T09:17:35.193182Z",
     "iopub.status.idle": "2023-02-02T09:17:35.980788Z",
     "shell.execute_reply": "2023-02-02T09:17:35.979738Z",
     "shell.execute_reply.started": "2023-02-02T09:17:35.193489Z"
    }
   },
   "outputs": [
    {
     "data": {
      "application/vnd.jupyter.widget-view+json": {
       "model_id": "4686c96c1f4f465d9f1e0d2b393e3506",
       "version_major": 2,
       "version_minor": 0
      },
      "text/plain": [
       "  0%|          | 0/8 [00:00<?, ?ba/s]"
      ]
     },
     "metadata": {},
     "output_type": "display_data"
    },
    {
     "data": {
      "text/plain": [
       "Dataset({\n",
       "    features: ['labels', 'input_ids', 'attention_mask'],\n",
       "    num_rows: 8000\n",
       "})"
      ]
     },
     "execution_count": 105,
     "metadata": {},
     "output_type": "execute_result"
    }
   ],
   "source": [
    "test_dataset = test_dataset.map(tokenize_text, batched=True, drop_last_batch=True, remove_columns=[\"full_text\", \"__index_level_0__\"])\n",
    "test_dataset"
   ]
  },
  {
   "cell_type": "code",
   "execution_count": 106,
   "metadata": {
    "execution": {
     "iopub.execute_input": "2023-02-02T09:17:35.983042Z",
     "iopub.status.busy": "2023-02-02T09:17:35.982383Z",
     "iopub.status.idle": "2023-02-02T09:17:35.988980Z",
     "shell.execute_reply": "2023-02-02T09:17:35.987885Z",
     "shell.execute_reply.started": "2023-02-02T09:17:35.982985Z"
    }
   },
   "outputs": [],
   "source": [
    "def compute_metrics(pred):\n",
    "    labels = pred.label_ids\n",
    "    preds = pred.predictions.argmax(-1)\n",
    "    accuracy = accuracy_score(labels, preds)\n",
    "    f1 = f1_score(labels, preds)\n",
    "    return {\"accuracy\": accuracy, \"f1\": f1}"
   ]
  },
  {
   "cell_type": "code",
   "execution_count": 107,
   "metadata": {
    "execution": {
     "iopub.execute_input": "2023-02-02T09:17:35.990984Z",
     "iopub.status.busy": "2023-02-02T09:17:35.990534Z",
     "iopub.status.idle": "2023-02-02T09:17:36.017667Z",
     "shell.execute_reply": "2023-02-02T09:17:36.016563Z",
     "shell.execute_reply.started": "2023-02-02T09:17:35.990942Z"
    }
   },
   "outputs": [
    {
     "data": {
      "text/plain": [
       "DatasetDict({\n",
       "    train: Dataset({\n",
       "        features: ['labels', 'input_ids', 'attention_mask'],\n",
       "        num_rows: 67500\n",
       "    })\n",
       "    test: Dataset({\n",
       "        features: ['labels', 'input_ids', 'attention_mask'],\n",
       "        num_rows: 7500\n",
       "    })\n",
       "})"
      ]
     },
     "execution_count": 107,
     "metadata": {},
     "output_type": "execute_result"
    }
   ],
   "source": [
    "train_dataset = train_dataset.train_test_split(test_size=0.1)\n",
    "train_dataset"
   ]
  },
  {
   "cell_type": "code",
   "execution_count": 108,
   "metadata": {
    "execution": {
     "iopub.execute_input": "2023-02-02T09:17:36.020315Z",
     "iopub.status.busy": "2023-02-02T09:17:36.019154Z",
     "iopub.status.idle": "2023-02-02T09:17:36.029063Z",
     "shell.execute_reply": "2023-02-02T09:17:36.028332Z",
     "shell.execute_reply.started": "2023-02-02T09:17:36.020271Z"
    }
   },
   "outputs": [
    {
     "name": "stderr",
     "output_type": "stream",
     "text": [
      "PyTorch: setting up devices\n"
     ]
    }
   ],
   "source": [
    "from transformers import TrainingArguments\n",
    "\n",
    "batch_size = 32\n",
    "\n",
    "logging_steps = len(train_dataset[\"train\"]) // batch_size\n",
    "output_dir = \"function-arg-swap-model\"\n",
    "training_args = TrainingArguments(output_dir,\n",
    "                                  num_train_epochs=10,\n",
    "                                  learning_rate=2e-5,\n",
    "                                  per_device_train_batch_size=batch_size,\n",
    "                                  per_device_eval_batch_size=batch_size,\n",
    "                                  weight_decay = 0.01,\n",
    "                                  evaluation_strategy=\"epoch\",\n",
    "                                  logging_steps=logging_steps,\n",
    "                                  save_strategy=\"epoch\",\n",
    "                                  # save_steps=10000,\n",
    "                                  # fp16=True,\n",
    "                                  push_to_hub=False,\n",
    "                                  report_to=\"wandb\"\n",
    "                                )"
   ]
  },
  {
   "cell_type": "code",
   "execution_count": 109,
   "metadata": {
    "execution": {
     "iopub.execute_input": "2023-02-02T09:17:36.031447Z",
     "iopub.status.busy": "2023-02-02T09:17:36.030730Z",
     "iopub.status.idle": "2023-02-02T09:17:36.123928Z",
     "shell.execute_reply": "2023-02-02T09:17:36.122864Z",
     "shell.execute_reply.started": "2023-02-02T09:17:36.031410Z"
    }
   },
   "outputs": [],
   "source": [
    "from transformers import Trainer, DefaultDataCollator\n",
    "\n",
    "trainer = Trainer(\n",
    "    model=model,                         \n",
    "    args=training_args,                  \n",
    "    train_dataset=train_dataset[\"train\"],         \n",
    "    eval_dataset=train_dataset[\"test\"],\n",
    "    tokenizer=tokenizer,\n",
    "    compute_metrics=compute_metrics\n",
    ")"
   ]
  },
  {
   "cell_type": "code",
   "execution_count": 110,
   "metadata": {
    "execution": {
     "iopub.execute_input": "2023-02-02T09:17:36.125987Z",
     "iopub.status.busy": "2023-02-02T09:17:36.125587Z",
     "iopub.status.idle": "2023-02-02T10:19:34.517659Z",
     "shell.execute_reply": "2023-02-02T10:19:34.516321Z",
     "shell.execute_reply.started": "2023-02-02T09:17:36.125946Z"
    }
   },
   "outputs": [
    {
     "name": "stderr",
     "output_type": "stream",
     "text": [
      "/opt/conda/lib/python3.7/site-packages/transformers/optimization.py:310: FutureWarning: This implementation of AdamW is deprecated and will be removed in a future version. Use the PyTorch implementation torch.optim.AdamW instead, or set `no_deprecation_warning=True` to disable this warning\n",
      "  FutureWarning,\n",
      "***** Running training *****\n",
      "  Num examples = 67500\n",
      "  Num Epochs = 10\n",
      "  Instantaneous batch size per device = 32\n",
      "  Total train batch size (w. parallel, distributed & accumulation) = 64\n",
      "  Gradient Accumulation steps = 1\n",
      "  Total optimization steps = 10550\n",
      "Automatic Weights & Biases logging enabled, to disable set os.environ[\"WANDB_DISABLED\"] = \"true\"\n"
     ]
    },
    {
     "data": {
      "text/html": [
       "Changes to your `wandb` environment variables will be ignored because your `wandb` session has already started. For more information on how to modify your settings with `wandb.init()` arguments, please refer to <a href=\"https://wandb.me/wandb-init\" target=\"_blank\">the W&B docs</a>."
      ],
      "text/plain": [
       "<IPython.core.display.HTML object>"
      ]
     },
     "metadata": {},
     "output_type": "display_data"
    },
    {
     "name": "stderr",
     "output_type": "stream",
     "text": [
      "\u001b[34m\u001b[1mwandb\u001b[0m: Logging into wandb.ai. (Learn how to deploy a W&B server locally: https://wandb.me/wandb-server)\n",
      "\u001b[34m\u001b[1mwandb\u001b[0m: You can find your API key in your browser here: https://wandb.ai/authorize\n",
      "\u001b[34m\u001b[1mwandb\u001b[0m: Paste an API key from your profile and hit enter, or press ctrl+c to quit:"
     ]
    },
    {
     "name": "stdout",
     "output_type": "stream",
     "text": [
      "  ········································\n"
     ]
    },
    {
     "name": "stderr",
     "output_type": "stream",
     "text": [
      "\u001b[34m\u001b[1mwandb\u001b[0m: Appending key for api.wandb.ai to your netrc file: /root/.netrc\n"
     ]
    },
    {
     "name": "stdout",
     "output_type": "stream",
     "text": [
      "huggingface/tokenizers: The current process just got forked, after parallelism has already been used. Disabling parallelism to avoid deadlocks...\n",
      "To disable this warning, you can either:\n",
      "\t- Avoid using `tokenizers` before the fork if possible\n",
      "\t- Explicitly set the environment variable TOKENIZERS_PARALLELISM=(true | false)\n",
      "huggingface/tokenizers: The current process just got forked, after parallelism has already been used. Disabling parallelism to avoid deadlocks...\n",
      "To disable this warning, you can either:\n",
      "\t- Avoid using `tokenizers` before the fork if possible\n",
      "\t- Explicitly set the environment variable TOKENIZERS_PARALLELISM=(true | false)\n"
     ]
    },
    {
     "data": {
      "text/html": [
       "wandb version 0.13.9 is available!  To upgrade, please run:\n",
       " $ pip install wandb --upgrade"
      ],
      "text/plain": [
       "<IPython.core.display.HTML object>"
      ]
     },
     "metadata": {},
     "output_type": "display_data"
    },
    {
     "data": {
      "text/html": [
       "Tracking run with wandb version 0.12.21"
      ],
      "text/plain": [
       "<IPython.core.display.HTML object>"
      ]
     },
     "metadata": {},
     "output_type": "display_data"
    },
    {
     "data": {
      "text/html": [
       "Run data is saved locally in <code>/kaggle/working/wandb/run-20230202_091752-40cbsts9</code>"
      ],
      "text/plain": [
       "<IPython.core.display.HTML object>"
      ]
     },
     "metadata": {},
     "output_type": "display_data"
    },
    {
     "data": {
      "text/html": [
       "Syncing run <strong><a href=\"https://wandb.ai/test-only-team/huggingface/runs/40cbsts9\" target=\"_blank\">function-arg-swap-model</a></strong> to <a href=\"https://wandb.ai/test-only-team/huggingface\" target=\"_blank\">Weights & Biases</a> (<a href=\"https://wandb.me/run\" target=\"_blank\">docs</a>)<br/>"
      ],
      "text/plain": [
       "<IPython.core.display.HTML object>"
      ]
     },
     "metadata": {},
     "output_type": "display_data"
    },
    {
     "name": "stderr",
     "output_type": "stream",
     "text": [
      "/opt/conda/lib/python3.7/site-packages/torch/nn/parallel/_functions.py:68: UserWarning: Was asked to gather along dimension 0, but all input tensors were scalars; will instead unsqueeze and return a vector.\n",
      "  warnings.warn('Was asked to gather along dimension 0, but all '\n"
     ]
    },
    {
     "data": {
      "text/html": [
       "\n",
       "    <div>\n",
       "      \n",
       "      <progress value='10550' max='10550' style='width:300px; height:20px; vertical-align: middle;'></progress>\n",
       "      [10550/10550 1:01:34, Epoch 10/10]\n",
       "    </div>\n",
       "    <table border=\"1\" class=\"dataframe\">\n",
       "  <thead>\n",
       " <tr style=\"text-align: left;\">\n",
       "      <th>Epoch</th>\n",
       "      <th>Training Loss</th>\n",
       "      <th>Validation Loss</th>\n",
       "      <th>Accuracy</th>\n",
       "      <th>F1</th>\n",
       "    </tr>\n",
       "  </thead>\n",
       "  <tbody>\n",
       "    <tr>\n",
       "      <td>1</td>\n",
       "      <td>No log</td>\n",
       "      <td>0.517919</td>\n",
       "      <td>0.722133</td>\n",
       "      <td>0.698844</td>\n",
       "    </tr>\n",
       "    <tr>\n",
       "      <td>2</td>\n",
       "      <td>0.550700</td>\n",
       "      <td>0.368466</td>\n",
       "      <td>0.811733</td>\n",
       "      <td>0.795836</td>\n",
       "    </tr>\n",
       "    <tr>\n",
       "      <td>3</td>\n",
       "      <td>0.550700</td>\n",
       "      <td>0.326795</td>\n",
       "      <td>0.834533</td>\n",
       "      <td>0.833400</td>\n",
       "    </tr>\n",
       "    <tr>\n",
       "      <td>4</td>\n",
       "      <td>0.322800</td>\n",
       "      <td>0.334577</td>\n",
       "      <td>0.848133</td>\n",
       "      <td>0.845013</td>\n",
       "    </tr>\n",
       "    <tr>\n",
       "      <td>5</td>\n",
       "      <td>0.322800</td>\n",
       "      <td>0.306111</td>\n",
       "      <td>0.854933</td>\n",
       "      <td>0.849474</td>\n",
       "    </tr>\n",
       "    <tr>\n",
       "      <td>6</td>\n",
       "      <td>0.248700</td>\n",
       "      <td>0.298890</td>\n",
       "      <td>0.864667</td>\n",
       "      <td>0.864214</td>\n",
       "    </tr>\n",
       "    <tr>\n",
       "      <td>7</td>\n",
       "      <td>0.248700</td>\n",
       "      <td>0.297035</td>\n",
       "      <td>0.874800</td>\n",
       "      <td>0.875415</td>\n",
       "    </tr>\n",
       "    <tr>\n",
       "      <td>8</td>\n",
       "      <td>0.207200</td>\n",
       "      <td>0.290025</td>\n",
       "      <td>0.875467</td>\n",
       "      <td>0.874866</td>\n",
       "    </tr>\n",
       "    <tr>\n",
       "      <td>9</td>\n",
       "      <td>0.207200</td>\n",
       "      <td>0.292785</td>\n",
       "      <td>0.875600</td>\n",
       "      <td>0.874715</td>\n",
       "    </tr>\n",
       "    <tr>\n",
       "      <td>10</td>\n",
       "      <td>0.180300</td>\n",
       "      <td>0.305205</td>\n",
       "      <td>0.878133</td>\n",
       "      <td>0.877611</td>\n",
       "    </tr>\n",
       "  </tbody>\n",
       "</table><p>"
      ],
      "text/plain": [
       "<IPython.core.display.HTML object>"
      ]
     },
     "metadata": {},
     "output_type": "display_data"
    },
    {
     "name": "stderr",
     "output_type": "stream",
     "text": [
      "***** Running Evaluation *****\n",
      "  Num examples = 7500\n",
      "  Batch size = 64\n",
      "/opt/conda/lib/python3.7/site-packages/torch/nn/parallel/_functions.py:68: UserWarning: Was asked to gather along dimension 0, but all input tensors were scalars; will instead unsqueeze and return a vector.\n",
      "  warnings.warn('Was asked to gather along dimension 0, but all '\n",
      "***** Running Evaluation *****\n",
      "  Num examples = 7500\n",
      "  Batch size = 64\n",
      "/opt/conda/lib/python3.7/site-packages/torch/nn/parallel/_functions.py:68: UserWarning: Was asked to gather along dimension 0, but all input tensors were scalars; will instead unsqueeze and return a vector.\n",
      "  warnings.warn('Was asked to gather along dimension 0, but all '\n",
      "***** Running Evaluation *****\n",
      "  Num examples = 7500\n",
      "  Batch size = 64\n",
      "/opt/conda/lib/python3.7/site-packages/torch/nn/parallel/_functions.py:68: UserWarning: Was asked to gather along dimension 0, but all input tensors were scalars; will instead unsqueeze and return a vector.\n",
      "  warnings.warn('Was asked to gather along dimension 0, but all '\n",
      "***** Running Evaluation *****\n",
      "  Num examples = 7500\n",
      "  Batch size = 64\n",
      "/opt/conda/lib/python3.7/site-packages/torch/nn/parallel/_functions.py:68: UserWarning: Was asked to gather along dimension 0, but all input tensors were scalars; will instead unsqueeze and return a vector.\n",
      "  warnings.warn('Was asked to gather along dimension 0, but all '\n",
      "***** Running Evaluation *****\n",
      "  Num examples = 7500\n",
      "  Batch size = 64\n",
      "/opt/conda/lib/python3.7/site-packages/torch/nn/parallel/_functions.py:68: UserWarning: Was asked to gather along dimension 0, but all input tensors were scalars; will instead unsqueeze and return a vector.\n",
      "  warnings.warn('Was asked to gather along dimension 0, but all '\n",
      "***** Running Evaluation *****\n",
      "  Num examples = 7500\n",
      "  Batch size = 64\n",
      "/opt/conda/lib/python3.7/site-packages/torch/nn/parallel/_functions.py:68: UserWarning: Was asked to gather along dimension 0, but all input tensors were scalars; will instead unsqueeze and return a vector.\n",
      "  warnings.warn('Was asked to gather along dimension 0, but all '\n",
      "***** Running Evaluation *****\n",
      "  Num examples = 7500\n",
      "  Batch size = 64\n",
      "/opt/conda/lib/python3.7/site-packages/torch/nn/parallel/_functions.py:68: UserWarning: Was asked to gather along dimension 0, but all input tensors were scalars; will instead unsqueeze and return a vector.\n",
      "  warnings.warn('Was asked to gather along dimension 0, but all '\n",
      "***** Running Evaluation *****\n",
      "  Num examples = 7500\n",
      "  Batch size = 64\n",
      "/opt/conda/lib/python3.7/site-packages/torch/nn/parallel/_functions.py:68: UserWarning: Was asked to gather along dimension 0, but all input tensors were scalars; will instead unsqueeze and return a vector.\n",
      "  warnings.warn('Was asked to gather along dimension 0, but all '\n",
      "***** Running Evaluation *****\n",
      "  Num examples = 7500\n",
      "  Batch size = 64\n",
      "/opt/conda/lib/python3.7/site-packages/torch/nn/parallel/_functions.py:68: UserWarning: Was asked to gather along dimension 0, but all input tensors were scalars; will instead unsqueeze and return a vector.\n",
      "  warnings.warn('Was asked to gather along dimension 0, but all '\n",
      "Saving model checkpoint to function-arg-swap-model/checkpoint-10000\n",
      "Configuration saved in function-arg-swap-model/checkpoint-10000/config.json\n",
      "Model weights saved in function-arg-swap-model/checkpoint-10000/pytorch_model.bin\n",
      "tokenizer config file saved in function-arg-swap-model/checkpoint-10000/tokenizer_config.json\n",
      "Special tokens file saved in function-arg-swap-model/checkpoint-10000/special_tokens_map.json\n",
      "/opt/conda/lib/python3.7/site-packages/torch/nn/parallel/_functions.py:68: UserWarning: Was asked to gather along dimension 0, but all input tensors were scalars; will instead unsqueeze and return a vector.\n",
      "  warnings.warn('Was asked to gather along dimension 0, but all '\n",
      "***** Running Evaluation *****\n",
      "  Num examples = 7500\n",
      "  Batch size = 64\n",
      "\n",
      "\n",
      "Training completed. Do not forget to share your model on huggingface.co/models =)\n",
      "\n",
      "\n"
     ]
    }
   ],
   "source": [
    "history = trainer.train()"
   ]
  },
  {
   "cell_type": "code",
   "execution_count": 124,
   "metadata": {
    "execution": {
     "iopub.execute_input": "2023-02-02T11:21:21.567694Z",
     "iopub.status.busy": "2023-02-02T11:21:21.567318Z",
     "iopub.status.idle": "2023-02-02T11:21:22.162617Z",
     "shell.execute_reply": "2023-02-02T11:21:22.161660Z",
     "shell.execute_reply.started": "2023-02-02T11:21:21.567656Z"
    }
   },
   "outputs": [
    {
     "name": "stderr",
     "output_type": "stream",
     "text": [
      "Saving model checkpoint to codet5-87.7f1-10ep\n",
      "Configuration saved in codet5-87.7f1-10ep/config.json\n",
      "Model weights saved in codet5-87.7f1-10ep/pytorch_model.bin\n",
      "tokenizer config file saved in codet5-87.7f1-10ep/tokenizer_config.json\n",
      "Special tokens file saved in codet5-87.7f1-10ep/special_tokens_map.json\n"
     ]
    }
   ],
   "source": [
    "trainer.save_model(\"codet5-87.7f1-10ep\")"
   ]
  },
  {
   "cell_type": "markdown",
   "metadata": {},
   "source": [
    "-----\n",
    "## Testing\n",
    "-----"
   ]
  },
  {
   "cell_type": "code",
   "execution_count": 112,
   "metadata": {
    "execution": {
     "iopub.execute_input": "2023-02-02T10:25:27.631439Z",
     "iopub.status.busy": "2023-02-02T10:25:27.630219Z",
     "iopub.status.idle": "2023-02-02T10:25:41.444818Z",
     "shell.execute_reply": "2023-02-02T10:25:41.443639Z",
     "shell.execute_reply.started": "2023-02-02T10:25:27.631396Z"
    }
   },
   "outputs": [
    {
     "name": "stderr",
     "output_type": "stream",
     "text": [
      "***** Running Prediction *****\n",
      "  Num examples = 8000\n",
      "  Batch size = 64\n",
      "/opt/conda/lib/python3.7/site-packages/torch/nn/parallel/_functions.py:68: UserWarning: Was asked to gather along dimension 0, but all input tensors were scalars; will instead unsqueeze and return a vector.\n",
      "  warnings.warn('Was asked to gather along dimension 0, but all '\n"
     ]
    },
    {
     "data": {
      "text/html": [
       "\n",
       "    <div>\n",
       "      \n",
       "      <progress value='250' max='125' style='width:300px; height:20px; vertical-align: middle;'></progress>\n",
       "      [125/125 1:27:27]\n",
       "    </div>\n",
       "    "
      ],
      "text/plain": [
       "<IPython.core.display.HTML object>"
      ]
     },
     "metadata": {},
     "output_type": "display_data"
    }
   ],
   "source": [
    "prediction = trainer.predict(test_dataset)"
   ]
  },
  {
   "cell_type": "code",
   "execution_count": 142,
   "metadata": {
    "execution": {
     "iopub.execute_input": "2023-02-02T11:52:22.046639Z",
     "iopub.status.busy": "2023-02-02T11:52:22.046250Z",
     "iopub.status.idle": "2023-02-02T11:52:22.057744Z",
     "shell.execute_reply": "2023-02-02T11:52:22.056381Z",
     "shell.execute_reply.started": "2023-02-02T11:52:22.046606Z"
    }
   },
   "outputs": [
    {
     "data": {
      "text/plain": [
       "PredictionOutput(predictions=array([[-1.5262053 ,  1.555742  ],\n",
       "       [-3.6396356 ,  3.778317  ],\n",
       "       [ 0.31872478, -0.5065445 ],\n",
       "       ...,\n",
       "       [ 0.45182976, -0.59455925],\n",
       "       [-3.956964  ,  4.152476  ],\n",
       "       [ 3.6027818 , -3.866059  ]], dtype=float32), label_ids=array([1, 1, 1, ..., 0, 1, 0]), metrics={'test_loss': 0.3309861123561859, 'test_accuracy': 0.868875, 'test_f1': 0.8716819571865444, 'test_runtime': 13.7994, 'test_samples_per_second': 579.735, 'test_steps_per_second': 9.058})"
      ]
     },
     "execution_count": 142,
     "metadata": {},
     "output_type": "execute_result"
    }
   ],
   "source": [
    "prediction"
   ]
  },
  {
   "cell_type": "code",
   "execution_count": 144,
   "metadata": {
    "execution": {
     "iopub.execute_input": "2023-02-02T11:52:41.164808Z",
     "iopub.status.busy": "2023-02-02T11:52:41.164194Z",
     "iopub.status.idle": "2023-02-02T11:52:54.890903Z",
     "shell.execute_reply": "2023-02-02T11:52:54.889667Z",
     "shell.execute_reply.started": "2023-02-02T11:52:41.164764Z"
    }
   },
   "outputs": [
    {
     "name": "stderr",
     "output_type": "stream",
     "text": [
      "***** Running Prediction *****\n",
      "  Num examples = 8000\n",
      "  Batch size = 64\n",
      "/opt/conda/lib/python3.7/site-packages/torch/nn/parallel/_functions.py:68: UserWarning: Was asked to gather along dimension 0, but all input tensors were scalars; will instead unsqueeze and return a vector.\n",
      "  warnings.warn('Was asked to gather along dimension 0, but all '\n"
     ]
    }
   ],
   "source": [
    "predictions, labels, _ = trainer.predict(test_dataset)"
   ]
  },
  {
   "cell_type": "code",
   "execution_count": 145,
   "metadata": {
    "execution": {
     "iopub.execute_input": "2023-02-02T11:56:03.604088Z",
     "iopub.status.busy": "2023-02-02T11:56:03.602876Z",
     "iopub.status.idle": "2023-02-02T11:56:03.618665Z",
     "shell.execute_reply": "2023-02-02T11:56:03.616775Z",
     "shell.execute_reply.started": "2023-02-02T11:56:03.604013Z"
    }
   },
   "outputs": [
    {
     "data": {
      "text/plain": [
       "array([1, 1, 0, ..., 0, 1, 0])"
      ]
     },
     "execution_count": 145,
     "metadata": {},
     "output_type": "execute_result"
    }
   ],
   "source": [
    "predictions = np.argmax(predictions, axis=1)\n",
    "predictions"
   ]
  },
  {
   "cell_type": "code",
   "execution_count": 146,
   "metadata": {
    "execution": {
     "iopub.execute_input": "2023-02-02T11:57:40.501921Z",
     "iopub.status.busy": "2023-02-02T11:57:40.501499Z",
     "iopub.status.idle": "2023-02-02T11:57:40.528785Z",
     "shell.execute_reply": "2023-02-02T11:57:40.527588Z",
     "shell.execute_reply.started": "2023-02-02T11:57:40.501887Z"
    }
   },
   "outputs": [
    {
     "data": {
      "text/plain": [
       "0.8716819571865444"
      ]
     },
     "execution_count": 146,
     "metadata": {},
     "output_type": "execute_result"
    }
   ],
   "source": [
    "f1_score(predictions, test_dataset[\"labels\"])"
   ]
  },
  {
   "cell_type": "code",
   "execution_count": 148,
   "metadata": {
    "execution": {
     "iopub.execute_input": "2023-02-02T11:59:17.069718Z",
     "iopub.status.busy": "2023-02-02T11:59:17.069355Z",
     "iopub.status.idle": "2023-02-02T11:59:17.093965Z",
     "shell.execute_reply": "2023-02-02T11:59:17.092738Z",
     "shell.execute_reply.started": "2023-02-02T11:59:17.069688Z"
    }
   },
   "outputs": [
    {
     "name": "stdout",
     "output_type": "stream",
     "text": [
      "Confusion Matrix: \n",
      " [[3388  519]\n",
      " [ 530 3563]]\n"
     ]
    }
   ],
   "source": [
    "from sklearn.metrics import confusion_matrix\n",
    "print(\"Confusion Matrix: \\n\", confusion_matrix(predictions, test_dataset[\"labels\"]))"
   ]
  },
  {
   "cell_type": "code",
   "execution_count": 159,
   "metadata": {
    "execution": {
     "iopub.execute_input": "2023-02-02T12:18:19.507789Z",
     "iopub.status.busy": "2023-02-02T12:18:19.507419Z",
     "iopub.status.idle": "2023-02-02T12:18:19.767567Z",
     "shell.execute_reply": "2023-02-02T12:18:19.766645Z",
     "shell.execute_reply.started": "2023-02-02T12:18:19.507757Z"
    }
   },
   "outputs": [
    {
     "data": {
      "text/plain": [
       "<Figure size 720x576 with 0 Axes>"
      ]
     },
     "metadata": {},
     "output_type": "display_data"
    },
    {
     "data": {
      "image/png": "[encoded data removed]",
      "text/plain": [
       "<Figure size 720x576 with 2 Axes>"
      ]
     },
     "metadata": {
      "needs_background": "light"
     },
     "output_type": "display_data"
    }
   ],
   "source": [
    "# Import the required libraries\n",
    "import seaborn as sns\n",
    "import matplotlib.pyplot as plt\n",
    "\n",
    "# Data\n",
    "a = [[3388,519],\n",
    " [530,3563]]\n",
    "\n",
    "# Select Confusion Matrix Size\n",
    "plt.figure(figsize = (10,8))\n",
    "\n",
    "# Select Confusion Matrix Size\n",
    "plt.figure(figsize = (10,8))\n",
    "\n",
    "# Create Confusion Matrix and show percentages\n",
    "b = sns.heatmap(a/np.sum(a), annot=True, fmt='.1%')\n",
    "\n",
    "# Set the Title\n",
    "b.set(title='Confusion Matrix')\n",
    "\n",
    "# Set the Labels\n",
    "b.set(xlabel='Predicted', ylabel='Actual')\n",
    "\n",
    "# Display the Confusion Matrix\n",
    "plt.show()"
   ]
  },
  {
   "cell_type": "markdown",
   "metadata": {},
   "source": [
    "-----\n",
    "## Inference\n",
    "-----"
   ]
  },
  {
   "cell_type": "code",
   "execution_count": 123,
   "metadata": {
    "execution": {
     "iopub.execute_input": "2023-02-02T11:12:45.915881Z",
     "iopub.status.busy": "2023-02-02T11:12:45.915445Z",
     "iopub.status.idle": "2023-02-02T11:12:47.182475Z",
     "shell.execute_reply": "2023-02-02T11:12:47.181285Z",
     "shell.execute_reply.started": "2023-02-02T11:12:45.915844Z"
    }
   },
   "outputs": [
    {
     "name": "stdout",
     "output_type": "stream",
     "text": [
      "huggingface/tokenizers: The current process just got forked, after parallelism has already been used. Disabling parallelism to avoid deadlocks...\n",
      "To disable this warning, you can either:\n",
      "\t- Avoid using `tokenizers` before the fork if possible\n",
      "\t- Explicitly set the environment variable TOKENIZERS_PARALLELISM=(true | false)\n",
      "checkpoint-10000\n"
     ]
    }
   ],
   "source": [
    "! ls /kaggle/working/function-arg-swap-model"
   ]
  },
  {
   "cell_type": "code",
   "execution_count": null,
   "metadata": {},
   "outputs": [],
   "source": [
    "train"
   ]
  }
 ],
 "metadata": {
  "kernelspec": {
   "display_name": "Python 3 (ipykernel)",
   "language": "python",
   "name": "python3"
  },
  "language_info": {
   "codemirror_mode": {
    "name": "ipython",
    "version": 3
   },
   "file_extension": ".py",
   "mimetype": "text/x-python",
   "name": "python",
   "nbconvert_exporter": "python",
   "pygments_lexer": "ipython3",
   "version": "3.9.12"
  }
 },
 "nbformat": 4,
 "nbformat_minor": 4
}
