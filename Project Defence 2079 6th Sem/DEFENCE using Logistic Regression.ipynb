{
 "cells": [
  {
   "cell_type": "code",
   "execution_count": 1,
   "id": "f7938430",
   "metadata": {},
   "outputs": [
    {
     "name": "stderr",
     "output_type": "stream",
     "text": [
      "C:\\Users\\Hp\\anaconda3\\lib\\site-packages\\tqdm\\auto.py:22: TqdmWarning: IProgress not found. Please update jupyter and ipywidgets. See https://ipywidgets.readthedocs.io/en/stable/user_install.html\n",
      "  from .autonotebook import tqdm as notebook_tqdm\n"
     ]
    }
   ],
   "source": [
    "import numpy as np \n",
    "import pandas as pd \n",
    "from sklearn.feature_extraction.text import CountVectorizer,TfidfVectorizer\n",
    "from sklearn import metrics\n",
    "import string \n",
    "import spacy"
   ]
  },
  {
   "cell_type": "code",
   "execution_count": 2,
   "id": "78e92cf0",
   "metadata": {},
   "outputs": [
    {
     "data": {
      "text/html": [
       "<div>\n",
       "<style scoped>\n",
       "    .dataframe tbody tr th:only-of-type {\n",
       "        vertical-align: middle;\n",
       "    }\n",
       "\n",
       "    .dataframe tbody tr th {\n",
       "        vertical-align: top;\n",
       "    }\n",
       "\n",
       "    .dataframe thead th {\n",
       "        text-align: right;\n",
       "    }\n",
       "</style>\n",
       "<table border=\"1\" class=\"dataframe\">\n",
       "  <thead>\n",
       "    <tr style=\"text-align: right;\">\n",
       "      <th></th>\n",
       "      <th>code</th>\n",
       "      <th>error_check</th>\n",
       "    </tr>\n",
       "  </thead>\n",
       "  <tbody>\n",
       "    <tr>\n",
       "      <th>0</th>\n",
       "      <td>#include &lt;stdio.h&gt;\\n#include &lt;stdlib.h&gt;\\nint m...</td>\n",
       "      <td>0</td>\n",
       "    </tr>\n",
       "    <tr>\n",
       "      <th>1</th>\n",
       "      <td>#include &lt;stdio.h&gt;\\nint main(){\\n    int n,i,b...</td>\n",
       "      <td>0</td>\n",
       "    </tr>\n",
       "    <tr>\n",
       "      <th>2</th>\n",
       "      <td>#include &lt;stdio.h&gt;\\n#include &lt;stdlib.h&gt;\\n#incl...</td>\n",
       "      <td>0</td>\n",
       "    </tr>\n",
       "    <tr>\n",
       "      <th>3</th>\n",
       "      <td>#include &lt;stdio.h&gt;\\n#include &lt;stdlib.h&gt;\\nint m...</td>\n",
       "      <td>0</td>\n",
       "    </tr>\n",
       "    <tr>\n",
       "      <th>4</th>\n",
       "      <td>#include &lt;stdio.h&gt;\\n#include &lt;stdlib.h&gt;\\nint m...</td>\n",
       "      <td>0</td>\n",
       "    </tr>\n",
       "    <tr>\n",
       "      <th>...</th>\n",
       "      <td>...</td>\n",
       "      <td>...</td>\n",
       "    </tr>\n",
       "    <tr>\n",
       "      <th>53473</th>\n",
       "      <td>#include&lt;stdio.h&gt;\\n#include&lt;stdlib.h&gt;\\nint mai...</td>\n",
       "      <td>1</td>\n",
       "    </tr>\n",
       "    <tr>\n",
       "      <th>53474</th>\n",
       "      <td>#include&lt;stdio.h&gt;\\n#include&lt;stdlib.h&gt;\\nint mai...</td>\n",
       "      <td>1</td>\n",
       "    </tr>\n",
       "    <tr>\n",
       "      <th>53475</th>\n",
       "      <td>#include&lt;stdio.h&gt;\\nint main()\\n{\\n    int n,k,...</td>\n",
       "      <td>1</td>\n",
       "    </tr>\n",
       "    <tr>\n",
       "      <th>53476</th>\n",
       "      <td>#include&lt;stdio.h&gt;\\nint main()\\n{\\n    int n,k;...</td>\n",
       "      <td>1</td>\n",
       "    </tr>\n",
       "    <tr>\n",
       "      <th>53477</th>\n",
       "      <td>#include&lt;stdio.h&gt;\\n\\nmain()\\n{\\n    int n,k,ar...</td>\n",
       "      <td>1</td>\n",
       "    </tr>\n",
       "  </tbody>\n",
       "</table>\n",
       "<p>53478 rows × 2 columns</p>\n",
       "</div>"
      ],
      "text/plain": [
       "                                                    code  error_check\n",
       "0      #include <stdio.h>\\n#include <stdlib.h>\\nint m...            0\n",
       "1      #include <stdio.h>\\nint main(){\\n    int n,i,b...            0\n",
       "2      #include <stdio.h>\\n#include <stdlib.h>\\n#incl...            0\n",
       "3      #include <stdio.h>\\n#include <stdlib.h>\\nint m...            0\n",
       "4      #include <stdio.h>\\n#include <stdlib.h>\\nint m...            0\n",
       "...                                                  ...          ...\n",
       "53473  #include<stdio.h>\\n#include<stdlib.h>\\nint mai...            1\n",
       "53474  #include<stdio.h>\\n#include<stdlib.h>\\nint mai...            1\n",
       "53475  #include<stdio.h>\\nint main()\\n{\\n    int n,k,...            1\n",
       "53476  #include<stdio.h>\\nint main()\\n{\\n    int n,k;...            1\n",
       "53477  #include<stdio.h>\\n\\nmain()\\n{\\n    int n,k,ar...            1\n",
       "\n",
       "[53478 rows x 2 columns]"
      ]
     },
     "execution_count": 2,
     "metadata": {},
     "output_type": "execute_result"
    }
   ],
   "source": [
    "df = pd.read_csv('Database_C.csv')\n",
    "df"
   ]
  },
  {
   "cell_type": "code",
   "execution_count": 3,
   "id": "d656364c",
   "metadata": {},
   "outputs": [
    {
     "data": {
      "text/html": [
       "<div>\n",
       "<style scoped>\n",
       "    .dataframe tbody tr th:only-of-type {\n",
       "        vertical-align: middle;\n",
       "    }\n",
       "\n",
       "    .dataframe tbody tr th {\n",
       "        vertical-align: top;\n",
       "    }\n",
       "\n",
       "    .dataframe thead th {\n",
       "        text-align: right;\n",
       "    }\n",
       "</style>\n",
       "<table border=\"1\" class=\"dataframe\">\n",
       "  <thead>\n",
       "    <tr style=\"text-align: right;\">\n",
       "      <th></th>\n",
       "      <th>code</th>\n",
       "      <th>error_check</th>\n",
       "    </tr>\n",
       "  </thead>\n",
       "  <tbody>\n",
       "    <tr>\n",
       "      <th>0</th>\n",
       "      <td>#include &lt;stdio.h&gt;\\n#include &lt;stdlib.h&gt;\\nint m...</td>\n",
       "      <td>0</td>\n",
       "    </tr>\n",
       "    <tr>\n",
       "      <th>1</th>\n",
       "      <td>#include &lt;stdio.h&gt;\\nint main(){\\n    int n,i,b...</td>\n",
       "      <td>0</td>\n",
       "    </tr>\n",
       "    <tr>\n",
       "      <th>2</th>\n",
       "      <td>#include &lt;stdio.h&gt;\\n#include &lt;stdlib.h&gt;\\n#incl...</td>\n",
       "      <td>0</td>\n",
       "    </tr>\n",
       "    <tr>\n",
       "      <th>3</th>\n",
       "      <td>#include &lt;stdio.h&gt;\\n#include &lt;stdlib.h&gt;\\nint m...</td>\n",
       "      <td>0</td>\n",
       "    </tr>\n",
       "    <tr>\n",
       "      <th>4</th>\n",
       "      <td>#include &lt;stdio.h&gt;\\n#include &lt;stdlib.h&gt;\\nint m...</td>\n",
       "      <td>0</td>\n",
       "    </tr>\n",
       "    <tr>\n",
       "      <th>...</th>\n",
       "      <td>...</td>\n",
       "      <td>...</td>\n",
       "    </tr>\n",
       "    <tr>\n",
       "      <th>46495</th>\n",
       "      <td>#include &lt;stdio.h&gt;\\nint main()\\n{\\n    int n, ...</td>\n",
       "      <td>0</td>\n",
       "    </tr>\n",
       "    <tr>\n",
       "      <th>46496</th>\n",
       "      <td>#include &lt;stdio.h&gt;\\n#include &lt;stdlib.h&gt;\\nint B...</td>\n",
       "      <td>0</td>\n",
       "    </tr>\n",
       "    <tr>\n",
       "      <th>46497</th>\n",
       "      <td>#include&lt;stdio.h&gt;\\nint arr[100];\\nint max;\\nin...</td>\n",
       "      <td>0</td>\n",
       "    </tr>\n",
       "    <tr>\n",
       "      <th>46498</th>\n",
       "      <td>#include &lt;stdio.h&gt;\\nint a[100000];\\nvoid swap(...</td>\n",
       "      <td>0</td>\n",
       "    </tr>\n",
       "    <tr>\n",
       "      <th>46499</th>\n",
       "      <td>#include &lt;stdio.h&gt;\\nint main() \\n{\\n    int a,...</td>\n",
       "      <td>0</td>\n",
       "    </tr>\n",
       "  </tbody>\n",
       "</table>\n",
       "<p>46500 rows × 2 columns</p>\n",
       "</div>"
      ],
      "text/plain": [
       "                                                    code  error_check\n",
       "0      #include <stdio.h>\\n#include <stdlib.h>\\nint m...            0\n",
       "1      #include <stdio.h>\\nint main(){\\n    int n,i,b...            0\n",
       "2      #include <stdio.h>\\n#include <stdlib.h>\\n#incl...            0\n",
       "3      #include <stdio.h>\\n#include <stdlib.h>\\nint m...            0\n",
       "4      #include <stdio.h>\\n#include <stdlib.h>\\nint m...            0\n",
       "...                                                  ...          ...\n",
       "46495  #include <stdio.h>\\nint main()\\n{\\n    int n, ...            0\n",
       "46496  #include <stdio.h>\\n#include <stdlib.h>\\nint B...            0\n",
       "46497  #include<stdio.h>\\nint arr[100];\\nint max;\\nin...            0\n",
       "46498  #include <stdio.h>\\nint a[100000];\\nvoid swap(...            0\n",
       "46499  #include <stdio.h>\\nint main() \\n{\\n    int a,...            0\n",
       "\n",
       "[46500 rows x 2 columns]"
      ]
     },
     "execution_count": 3,
     "metadata": {},
     "output_type": "execute_result"
    }
   ],
   "source": [
    "df_0 = df[df['error_check']!=1]\n",
    "df_0"
   ]
  },
  {
   "cell_type": "code",
   "execution_count": 4,
   "id": "b3088b73",
   "metadata": {},
   "outputs": [
    {
     "data": {
      "text/html": [
       "<div>\n",
       "<style scoped>\n",
       "    .dataframe tbody tr th:only-of-type {\n",
       "        vertical-align: middle;\n",
       "    }\n",
       "\n",
       "    .dataframe tbody tr th {\n",
       "        vertical-align: top;\n",
       "    }\n",
       "\n",
       "    .dataframe thead th {\n",
       "        text-align: right;\n",
       "    }\n",
       "</style>\n",
       "<table border=\"1\" class=\"dataframe\">\n",
       "  <thead>\n",
       "    <tr style=\"text-align: right;\">\n",
       "      <th></th>\n",
       "      <th>code</th>\n",
       "      <th>error_check</th>\n",
       "    </tr>\n",
       "  </thead>\n",
       "  <tbody>\n",
       "    <tr>\n",
       "      <th>46500</th>\n",
       "      <td>#include &lt;stdio.h&gt;\\nint main(){\\n    int k,n;\\...</td>\n",
       "      <td>1</td>\n",
       "    </tr>\n",
       "    <tr>\n",
       "      <th>46501</th>\n",
       "      <td>#include &lt;stdio.h&gt;\\nint main()\\n{\\n    int k,n...</td>\n",
       "      <td>1</td>\n",
       "    </tr>\n",
       "    <tr>\n",
       "      <th>46502</th>\n",
       "      <td>#include &lt;stdio.h&gt;\\nint main(){\\n    int k,n,i...</td>\n",
       "      <td>1</td>\n",
       "    </tr>\n",
       "    <tr>\n",
       "      <th>46503</th>\n",
       "      <td>#include &lt;stdio.h&gt;\\nint main(){\\nint i,k,n,a;\\...</td>\n",
       "      <td>1</td>\n",
       "    </tr>\n",
       "    <tr>\n",
       "      <th>46504</th>\n",
       "      <td>#include &lt;stdio.h&gt;\\nint main(){int i,c,b,d=0,a...</td>\n",
       "      <td>1</td>\n",
       "    </tr>\n",
       "    <tr>\n",
       "      <th>...</th>\n",
       "      <td>...</td>\n",
       "      <td>...</td>\n",
       "    </tr>\n",
       "    <tr>\n",
       "      <th>53473</th>\n",
       "      <td>#include&lt;stdio.h&gt;\\n#include&lt;stdlib.h&gt;\\nint mai...</td>\n",
       "      <td>1</td>\n",
       "    </tr>\n",
       "    <tr>\n",
       "      <th>53474</th>\n",
       "      <td>#include&lt;stdio.h&gt;\\n#include&lt;stdlib.h&gt;\\nint mai...</td>\n",
       "      <td>1</td>\n",
       "    </tr>\n",
       "    <tr>\n",
       "      <th>53475</th>\n",
       "      <td>#include&lt;stdio.h&gt;\\nint main()\\n{\\n    int n,k,...</td>\n",
       "      <td>1</td>\n",
       "    </tr>\n",
       "    <tr>\n",
       "      <th>53476</th>\n",
       "      <td>#include&lt;stdio.h&gt;\\nint main()\\n{\\n    int n,k;...</td>\n",
       "      <td>1</td>\n",
       "    </tr>\n",
       "    <tr>\n",
       "      <th>53477</th>\n",
       "      <td>#include&lt;stdio.h&gt;\\n\\nmain()\\n{\\n    int n,k,ar...</td>\n",
       "      <td>1</td>\n",
       "    </tr>\n",
       "  </tbody>\n",
       "</table>\n",
       "<p>6978 rows × 2 columns</p>\n",
       "</div>"
      ],
      "text/plain": [
       "                                                    code  error_check\n",
       "46500  #include <stdio.h>\\nint main(){\\n    int k,n;\\...            1\n",
       "46501  #include <stdio.h>\\nint main()\\n{\\n    int k,n...            1\n",
       "46502  #include <stdio.h>\\nint main(){\\n    int k,n,i...            1\n",
       "46503  #include <stdio.h>\\nint main(){\\nint i,k,n,a;\\...            1\n",
       "46504  #include <stdio.h>\\nint main(){int i,c,b,d=0,a...            1\n",
       "...                                                  ...          ...\n",
       "53473  #include<stdio.h>\\n#include<stdlib.h>\\nint mai...            1\n",
       "53474  #include<stdio.h>\\n#include<stdlib.h>\\nint mai...            1\n",
       "53475  #include<stdio.h>\\nint main()\\n{\\n    int n,k,...            1\n",
       "53476  #include<stdio.h>\\nint main()\\n{\\n    int n,k;...            1\n",
       "53477  #include<stdio.h>\\n\\nmain()\\n{\\n    int n,k,ar...            1\n",
       "\n",
       "[6978 rows x 2 columns]"
      ]
     },
     "execution_count": 4,
     "metadata": {},
     "output_type": "execute_result"
    }
   ],
   "source": [
    "df_1 = df[df['error_check']!=0]\n",
    "df_1"
   ]
  },
  {
   "cell_type": "code",
   "execution_count": 5,
   "id": "02fffded",
   "metadata": {},
   "outputs": [
    {
     "data": {
      "text/plain": [
       "0    46500\n",
       "Name: error_check, dtype: int64"
      ]
     },
     "execution_count": 5,
     "metadata": {},
     "output_type": "execute_result"
    }
   ],
   "source": [
    "df_0['error_check'].value_counts()"
   ]
  },
  {
   "cell_type": "code",
   "execution_count": 6,
   "id": "942512d5",
   "metadata": {},
   "outputs": [
    {
     "data": {
      "text/plain": [
       "1    6978\n",
       "Name: error_check, dtype: int64"
      ]
     },
     "execution_count": 6,
     "metadata": {},
     "output_type": "execute_result"
    }
   ],
   "source": [
    "df_1['error_check'].value_counts()"
   ]
  },
  {
   "cell_type": "code",
   "execution_count": 7,
   "id": "1d934c4b",
   "metadata": {},
   "outputs": [
    {
     "name": "stderr",
     "output_type": "stream",
     "text": [
      "C:\\Users\\Hp\\AppData\\Local\\Temp\\ipykernel_8436\\1999356204.py:1: SettingWithCopyWarning: \n",
      "A value is trying to be set on a copy of a slice from a DataFrame\n",
      "\n",
      "See the caveats in the documentation: https://pandas.pydata.org/pandas-docs/stable/user_guide/indexing.html#returning-a-view-versus-a-copy\n",
      "  df_0.drop(index=df_0.index[6978:], axis=0, inplace=True)\n"
     ]
    },
    {
     "data": {
      "text/html": [
       "<div>\n",
       "<style scoped>\n",
       "    .dataframe tbody tr th:only-of-type {\n",
       "        vertical-align: middle;\n",
       "    }\n",
       "\n",
       "    .dataframe tbody tr th {\n",
       "        vertical-align: top;\n",
       "    }\n",
       "\n",
       "    .dataframe thead th {\n",
       "        text-align: right;\n",
       "    }\n",
       "</style>\n",
       "<table border=\"1\" class=\"dataframe\">\n",
       "  <thead>\n",
       "    <tr style=\"text-align: right;\">\n",
       "      <th></th>\n",
       "      <th>code</th>\n",
       "      <th>error_check</th>\n",
       "    </tr>\n",
       "  </thead>\n",
       "  <tbody>\n",
       "    <tr>\n",
       "      <th>0</th>\n",
       "      <td>#include &lt;stdio.h&gt;\\n#include &lt;stdlib.h&gt;\\nint m...</td>\n",
       "      <td>0</td>\n",
       "    </tr>\n",
       "    <tr>\n",
       "      <th>1</th>\n",
       "      <td>#include &lt;stdio.h&gt;\\nint main(){\\n    int n,i,b...</td>\n",
       "      <td>0</td>\n",
       "    </tr>\n",
       "    <tr>\n",
       "      <th>2</th>\n",
       "      <td>#include &lt;stdio.h&gt;\\n#include &lt;stdlib.h&gt;\\n#incl...</td>\n",
       "      <td>0</td>\n",
       "    </tr>\n",
       "    <tr>\n",
       "      <th>3</th>\n",
       "      <td>#include &lt;stdio.h&gt;\\n#include &lt;stdlib.h&gt;\\nint m...</td>\n",
       "      <td>0</td>\n",
       "    </tr>\n",
       "    <tr>\n",
       "      <th>4</th>\n",
       "      <td>#include &lt;stdio.h&gt;\\n#include &lt;stdlib.h&gt;\\nint m...</td>\n",
       "      <td>0</td>\n",
       "    </tr>\n",
       "    <tr>\n",
       "      <th>...</th>\n",
       "      <td>...</td>\n",
       "      <td>...</td>\n",
       "    </tr>\n",
       "    <tr>\n",
       "      <th>6973</th>\n",
       "      <td>#include &lt;stdio.h&gt;\\n#include &lt;stdlib.h&gt;\\nint m...</td>\n",
       "      <td>0</td>\n",
       "    </tr>\n",
       "    <tr>\n",
       "      <th>6974</th>\n",
       "      <td>#include &lt;stdio.h&gt;\\n#include &lt;stdlib.h&gt;\\nint f...</td>\n",
       "      <td>0</td>\n",
       "    </tr>\n",
       "    <tr>\n",
       "      <th>6975</th>\n",
       "      <td>#include &lt;stdio.h&gt;\\n#include &lt;stdlib.h&gt;\\nint m...</td>\n",
       "      <td>0</td>\n",
       "    </tr>\n",
       "    <tr>\n",
       "      <th>6976</th>\n",
       "      <td>#include &lt;stdio.h&gt;\\nint main(){\\n       int n,...</td>\n",
       "      <td>0</td>\n",
       "    </tr>\n",
       "    <tr>\n",
       "      <th>6977</th>\n",
       "      <td>#include &lt;stdio.h&gt;\\nint main(){\\n    int n;\\n ...</td>\n",
       "      <td>0</td>\n",
       "    </tr>\n",
       "  </tbody>\n",
       "</table>\n",
       "<p>6978 rows × 2 columns</p>\n",
       "</div>"
      ],
      "text/plain": [
       "                                                   code  error_check\n",
       "0     #include <stdio.h>\\n#include <stdlib.h>\\nint m...            0\n",
       "1     #include <stdio.h>\\nint main(){\\n    int n,i,b...            0\n",
       "2     #include <stdio.h>\\n#include <stdlib.h>\\n#incl...            0\n",
       "3     #include <stdio.h>\\n#include <stdlib.h>\\nint m...            0\n",
       "4     #include <stdio.h>\\n#include <stdlib.h>\\nint m...            0\n",
       "...                                                 ...          ...\n",
       "6973  #include <stdio.h>\\n#include <stdlib.h>\\nint m...            0\n",
       "6974  #include <stdio.h>\\n#include <stdlib.h>\\nint f...            0\n",
       "6975  #include <stdio.h>\\n#include <stdlib.h>\\nint m...            0\n",
       "6976  #include <stdio.h>\\nint main(){\\n       int n,...            0\n",
       "6977  #include <stdio.h>\\nint main(){\\n    int n;\\n ...            0\n",
       "\n",
       "[6978 rows x 2 columns]"
      ]
     },
     "execution_count": 7,
     "metadata": {},
     "output_type": "execute_result"
    }
   ],
   "source": [
    "df_0.drop(index=df_0.index[6978:], axis=0, inplace=True)\n",
    "df_0"
   ]
  },
  {
   "cell_type": "code",
   "execution_count": 8,
   "id": "4f5cab29",
   "metadata": {},
   "outputs": [
    {
     "name": "stderr",
     "output_type": "stream",
     "text": [
      "C:\\Users\\Hp\\AppData\\Local\\Temp\\ipykernel_8436\\2312284301.py:1: SettingWithCopyWarning: \n",
      "A value is trying to be set on a copy of a slice from a DataFrame\n",
      "\n",
      "See the caveats in the documentation: https://pandas.pydata.org/pandas-docs/stable/user_guide/indexing.html#returning-a-view-versus-a-copy\n",
      "  df_1.drop(index=df_1.index[6978:], axis=0, inplace=True)\n"
     ]
    },
    {
     "data": {
      "text/html": [
       "<div>\n",
       "<style scoped>\n",
       "    .dataframe tbody tr th:only-of-type {\n",
       "        vertical-align: middle;\n",
       "    }\n",
       "\n",
       "    .dataframe tbody tr th {\n",
       "        vertical-align: top;\n",
       "    }\n",
       "\n",
       "    .dataframe thead th {\n",
       "        text-align: right;\n",
       "    }\n",
       "</style>\n",
       "<table border=\"1\" class=\"dataframe\">\n",
       "  <thead>\n",
       "    <tr style=\"text-align: right;\">\n",
       "      <th></th>\n",
       "      <th>code</th>\n",
       "      <th>error_check</th>\n",
       "    </tr>\n",
       "  </thead>\n",
       "  <tbody>\n",
       "    <tr>\n",
       "      <th>46500</th>\n",
       "      <td>#include &lt;stdio.h&gt;\\nint main(){\\n    int k,n;\\...</td>\n",
       "      <td>1</td>\n",
       "    </tr>\n",
       "    <tr>\n",
       "      <th>46501</th>\n",
       "      <td>#include &lt;stdio.h&gt;\\nint main()\\n{\\n    int k,n...</td>\n",
       "      <td>1</td>\n",
       "    </tr>\n",
       "    <tr>\n",
       "      <th>46502</th>\n",
       "      <td>#include &lt;stdio.h&gt;\\nint main(){\\n    int k,n,i...</td>\n",
       "      <td>1</td>\n",
       "    </tr>\n",
       "    <tr>\n",
       "      <th>46503</th>\n",
       "      <td>#include &lt;stdio.h&gt;\\nint main(){\\nint i,k,n,a;\\...</td>\n",
       "      <td>1</td>\n",
       "    </tr>\n",
       "    <tr>\n",
       "      <th>46504</th>\n",
       "      <td>#include &lt;stdio.h&gt;\\nint main(){int i,c,b,d=0,a...</td>\n",
       "      <td>1</td>\n",
       "    </tr>\n",
       "    <tr>\n",
       "      <th>...</th>\n",
       "      <td>...</td>\n",
       "      <td>...</td>\n",
       "    </tr>\n",
       "    <tr>\n",
       "      <th>53473</th>\n",
       "      <td>#include&lt;stdio.h&gt;\\n#include&lt;stdlib.h&gt;\\nint mai...</td>\n",
       "      <td>1</td>\n",
       "    </tr>\n",
       "    <tr>\n",
       "      <th>53474</th>\n",
       "      <td>#include&lt;stdio.h&gt;\\n#include&lt;stdlib.h&gt;\\nint mai...</td>\n",
       "      <td>1</td>\n",
       "    </tr>\n",
       "    <tr>\n",
       "      <th>53475</th>\n",
       "      <td>#include&lt;stdio.h&gt;\\nint main()\\n{\\n    int n,k,...</td>\n",
       "      <td>1</td>\n",
       "    </tr>\n",
       "    <tr>\n",
       "      <th>53476</th>\n",
       "      <td>#include&lt;stdio.h&gt;\\nint main()\\n{\\n    int n,k;...</td>\n",
       "      <td>1</td>\n",
       "    </tr>\n",
       "    <tr>\n",
       "      <th>53477</th>\n",
       "      <td>#include&lt;stdio.h&gt;\\n\\nmain()\\n{\\n    int n,k,ar...</td>\n",
       "      <td>1</td>\n",
       "    </tr>\n",
       "  </tbody>\n",
       "</table>\n",
       "<p>6978 rows × 2 columns</p>\n",
       "</div>"
      ],
      "text/plain": [
       "                                                    code  error_check\n",
       "46500  #include <stdio.h>\\nint main(){\\n    int k,n;\\...            1\n",
       "46501  #include <stdio.h>\\nint main()\\n{\\n    int k,n...            1\n",
       "46502  #include <stdio.h>\\nint main(){\\n    int k,n,i...            1\n",
       "46503  #include <stdio.h>\\nint main(){\\nint i,k,n,a;\\...            1\n",
       "46504  #include <stdio.h>\\nint main(){int i,c,b,d=0,a...            1\n",
       "...                                                  ...          ...\n",
       "53473  #include<stdio.h>\\n#include<stdlib.h>\\nint mai...            1\n",
       "53474  #include<stdio.h>\\n#include<stdlib.h>\\nint mai...            1\n",
       "53475  #include<stdio.h>\\nint main()\\n{\\n    int n,k,...            1\n",
       "53476  #include<stdio.h>\\nint main()\\n{\\n    int n,k;...            1\n",
       "53477  #include<stdio.h>\\n\\nmain()\\n{\\n    int n,k,ar...            1\n",
       "\n",
       "[6978 rows x 2 columns]"
      ]
     },
     "execution_count": 8,
     "metadata": {},
     "output_type": "execute_result"
    }
   ],
   "source": [
    "df_1.drop(index=df_1.index[6978:], axis=0, inplace=True)\n",
    "df_1"
   ]
  },
  {
   "cell_type": "code",
   "execution_count": 9,
   "id": "5a14655f",
   "metadata": {},
   "outputs": [
    {
     "data": {
      "text/html": [
       "<div>\n",
       "<style scoped>\n",
       "    .dataframe tbody tr th:only-of-type {\n",
       "        vertical-align: middle;\n",
       "    }\n",
       "\n",
       "    .dataframe tbody tr th {\n",
       "        vertical-align: top;\n",
       "    }\n",
       "\n",
       "    .dataframe thead th {\n",
       "        text-align: right;\n",
       "    }\n",
       "</style>\n",
       "<table border=\"1\" class=\"dataframe\">\n",
       "  <thead>\n",
       "    <tr style=\"text-align: right;\">\n",
       "      <th></th>\n",
       "      <th>code</th>\n",
       "      <th>error_check</th>\n",
       "    </tr>\n",
       "  </thead>\n",
       "  <tbody>\n",
       "    <tr>\n",
       "      <th>46500</th>\n",
       "      <td>#include &lt;stdio.h&gt;\\nint main(){\\n    int k,n;\\...</td>\n",
       "      <td>1</td>\n",
       "    </tr>\n",
       "    <tr>\n",
       "      <th>46501</th>\n",
       "      <td>#include &lt;stdio.h&gt;\\nint main()\\n{\\n    int k,n...</td>\n",
       "      <td>1</td>\n",
       "    </tr>\n",
       "    <tr>\n",
       "      <th>46502</th>\n",
       "      <td>#include &lt;stdio.h&gt;\\nint main(){\\n    int k,n,i...</td>\n",
       "      <td>1</td>\n",
       "    </tr>\n",
       "    <tr>\n",
       "      <th>46503</th>\n",
       "      <td>#include &lt;stdio.h&gt;\\nint main(){\\nint i,k,n,a;\\...</td>\n",
       "      <td>1</td>\n",
       "    </tr>\n",
       "    <tr>\n",
       "      <th>46504</th>\n",
       "      <td>#include &lt;stdio.h&gt;\\nint main(){int i,c,b,d=0,a...</td>\n",
       "      <td>1</td>\n",
       "    </tr>\n",
       "    <tr>\n",
       "      <th>...</th>\n",
       "      <td>...</td>\n",
       "      <td>...</td>\n",
       "    </tr>\n",
       "    <tr>\n",
       "      <th>53473</th>\n",
       "      <td>#include&lt;stdio.h&gt;\\n#include&lt;stdlib.h&gt;\\nint mai...</td>\n",
       "      <td>1</td>\n",
       "    </tr>\n",
       "    <tr>\n",
       "      <th>53474</th>\n",
       "      <td>#include&lt;stdio.h&gt;\\n#include&lt;stdlib.h&gt;\\nint mai...</td>\n",
       "      <td>1</td>\n",
       "    </tr>\n",
       "    <tr>\n",
       "      <th>53475</th>\n",
       "      <td>#include&lt;stdio.h&gt;\\nint main()\\n{\\n    int n,k,...</td>\n",
       "      <td>1</td>\n",
       "    </tr>\n",
       "    <tr>\n",
       "      <th>53476</th>\n",
       "      <td>#include&lt;stdio.h&gt;\\nint main()\\n{\\n    int n,k;...</td>\n",
       "      <td>1</td>\n",
       "    </tr>\n",
       "    <tr>\n",
       "      <th>53477</th>\n",
       "      <td>#include&lt;stdio.h&gt;\\n\\nmain()\\n{\\n    int n,k,ar...</td>\n",
       "      <td>1</td>\n",
       "    </tr>\n",
       "  </tbody>\n",
       "</table>\n",
       "<p>6978 rows × 2 columns</p>\n",
       "</div>"
      ],
      "text/plain": [
       "                                                    code  error_check\n",
       "46500  #include <stdio.h>\\nint main(){\\n    int k,n;\\...            1\n",
       "46501  #include <stdio.h>\\nint main()\\n{\\n    int k,n...            1\n",
       "46502  #include <stdio.h>\\nint main(){\\n    int k,n,i...            1\n",
       "46503  #include <stdio.h>\\nint main(){\\nint i,k,n,a;\\...            1\n",
       "46504  #include <stdio.h>\\nint main(){int i,c,b,d=0,a...            1\n",
       "...                                                  ...          ...\n",
       "53473  #include<stdio.h>\\n#include<stdlib.h>\\nint mai...            1\n",
       "53474  #include<stdio.h>\\n#include<stdlib.h>\\nint mai...            1\n",
       "53475  #include<stdio.h>\\nint main()\\n{\\n    int n,k,...            1\n",
       "53476  #include<stdio.h>\\nint main()\\n{\\n    int n,k;...            1\n",
       "53477  #include<stdio.h>\\n\\nmain()\\n{\\n    int n,k,ar...            1\n",
       "\n",
       "[6978 rows x 2 columns]"
      ]
     },
     "execution_count": 9,
     "metadata": {},
     "output_type": "execute_result"
    }
   ],
   "source": [
    "df_0.squeeze()\n",
    "df_1.squeeze() "
   ]
  },
  {
   "cell_type": "code",
   "execution_count": 10,
   "id": "1cd7a94e",
   "metadata": {},
   "outputs": [],
   "source": [
    "df_new = pd.concat([df_0,df_1])"
   ]
  },
  {
   "cell_type": "code",
   "execution_count": 11,
   "id": "6939bd2a",
   "metadata": {},
   "outputs": [
    {
     "data": {
      "text/plain": [
       "0    6978\n",
       "1    6978\n",
       "Name: error_check, dtype: int64"
      ]
     },
     "execution_count": 11,
     "metadata": {},
     "output_type": "execute_result"
    }
   ],
   "source": [
    "df_new['error_check'].value_counts()"
   ]
  },
  {
   "cell_type": "code",
   "execution_count": 12,
   "id": "e468603b",
   "metadata": {},
   "outputs": [],
   "source": [
    "def my_tokenizer(code):\n",
    "    return code"
   ]
  },
  {
   "cell_type": "code",
   "execution_count": 13,
   "id": "5ea090db",
   "metadata": {},
   "outputs": [],
   "source": [
    "count_vector = CountVectorizer(tokenizer=my_tokenizer)"
   ]
  },
  {
   "cell_type": "code",
   "execution_count": 45,
   "id": "5eeb5eb0",
   "metadata": {},
   "outputs": [],
   "source": [
    "from sklearn.model_selection import train_test_split\n",
    "X = df_new['code']\n",
    "y = df_new['error_check']\n",
    "X_train,X_rem, y_train,y_rem = train_test_split(X,y,train_size=0.9,stratify=y,shuffle=True)\n",
    "X_val,X_test,y_val,y_test = train_test_split(X_rem,y_rem,test_size=0.5,shuffle=True)"
   ]
  },
  {
   "cell_type": "code",
   "execution_count": 46,
   "id": "39ec5b6a",
   "metadata": {},
   "outputs": [
    {
     "data": {
      "text/plain": [
       "((12560,), (12560,))"
      ]
     },
     "execution_count": 46,
     "metadata": {},
     "output_type": "execute_result"
    }
   ],
   "source": [
    "X_train.shape,y_train.shape"
   ]
  },
  {
   "cell_type": "code",
   "execution_count": 47,
   "id": "0645b649",
   "metadata": {},
   "outputs": [
    {
     "data": {
      "text/plain": [
       "((698,), (698,))"
      ]
     },
     "execution_count": 47,
     "metadata": {},
     "output_type": "execute_result"
    }
   ],
   "source": [
    "X_val.shape,y_val.shape"
   ]
  },
  {
   "cell_type": "code",
   "execution_count": 48,
   "id": "f95eee99",
   "metadata": {},
   "outputs": [
    {
     "data": {
      "text/plain": [
       "((698,), (698,))"
      ]
     },
     "execution_count": 48,
     "metadata": {},
     "output_type": "execute_result"
    }
   ],
   "source": [
    "X_test.shape,y_test.shape"
   ]
  },
  {
   "cell_type": "code",
   "execution_count": 49,
   "id": "8cc414b4",
   "metadata": {},
   "outputs": [],
   "source": [
    "X_train_vector = count_vector.fit_transform(X_train)\n",
    "X_val_vector = count_vector.transform(X_val)\n",
    "X_test_vector = count_vector.transform(X_test)"
   ]
  },
  {
   "cell_type": "code",
   "execution_count": 50,
   "id": "8ba5b3d0",
   "metadata": {},
   "outputs": [
    {
     "data": {
      "text/plain": [
       "((12560, 73), (698, 73), (698, 73))"
      ]
     },
     "execution_count": 50,
     "metadata": {},
     "output_type": "execute_result"
    }
   ],
   "source": [
    "X_train_vector.shape,X_val_vector.shape,X_test_vector.shape"
   ]
  },
  {
   "cell_type": "code",
   "execution_count": 51,
   "id": "f3fa7ce7",
   "metadata": {},
   "outputs": [],
   "source": [
    "from sklearn.linear_model import LogisticRegression\n",
    "classifier = LogisticRegression(max_iter=2000)"
   ]
  },
  {
   "cell_type": "code",
   "execution_count": 52,
   "id": "4c55d3c2",
   "metadata": {},
   "outputs": [
    {
     "data": {
      "text/plain": [
       "array([[ 0,  7, 29, ...,  0,  3,  0],\n",
       "       [ 0,  1, 35, ...,  0,  5,  0],\n",
       "       [ 0,  0, 36, ...,  0,  6,  0],\n",
       "       ...,\n",
       "       [ 0, 24, 27, ...,  0,  6,  0],\n",
       "       [ 0,  0, 15, ...,  0,  3,  0],\n",
       "       [ 0, 28, 31, ...,  0,  3,  0]], dtype=int64)"
      ]
     },
     "execution_count": 52,
     "metadata": {},
     "output_type": "execute_result"
    }
   ],
   "source": [
    "X_train_vector.toarray()"
   ]
  },
  {
   "cell_type": "code",
   "execution_count": 53,
   "id": "6321bf32",
   "metadata": {},
   "outputs": [],
   "source": [
    "history = classifier.fit(X_train_vector,y_train)"
   ]
  },
  {
   "cell_type": "code",
   "execution_count": 54,
   "id": "83e75603",
   "metadata": {},
   "outputs": [],
   "source": [
    "predicted = classifier.predict(X_test_vector)"
   ]
  },
  {
   "cell_type": "code",
   "execution_count": 55,
   "id": "0952113b",
   "metadata": {},
   "outputs": [
    {
     "data": {
      "text/plain": [
       "0.6547277936962751"
      ]
     },
     "execution_count": 55,
     "metadata": {},
     "output_type": "execute_result"
    }
   ],
   "source": [
    "metrics.accuracy_score(y_test,predicted)"
   ]
  },
  {
   "cell_type": "code",
   "execution_count": 56,
   "id": "f0f5d5ff",
   "metadata": {},
   "outputs": [
    {
     "data": {
      "text/plain": [
       "0.6637168141592921"
      ]
     },
     "execution_count": 56,
     "metadata": {},
     "output_type": "execute_result"
    }
   ],
   "source": [
    "metrics.precision_score(y_test, predicted)"
   ]
  },
  {
   "cell_type": "code",
   "execution_count": 57,
   "id": "e8740d1b",
   "metadata": {},
   "outputs": [
    {
     "data": {
      "text/plain": [
       "0.6392045454545454"
      ]
     },
     "execution_count": 57,
     "metadata": {},
     "output_type": "execute_result"
    }
   ],
   "source": [
    "metrics.recall_score(y_test, predicted)"
   ]
  },
  {
   "cell_type": "code",
   "execution_count": 58,
   "id": "60224ee0",
   "metadata": {},
   "outputs": [],
   "source": [
    "# USING TFIDF Vectorizer \n",
    "tfidf_vector = TfidfVectorizer(tokenizer=my_tokenizer)"
   ]
  },
  {
   "cell_type": "code",
   "execution_count": 59,
   "id": "dd4bfaf9",
   "metadata": {},
   "outputs": [],
   "source": [
    "X_train_vec = tfidf_vector.fit_transform(X_train)\n",
    "X_test_vec = tfidf_vector.transform(X_test)"
   ]
  },
  {
   "cell_type": "code",
   "execution_count": 60,
   "id": "01aa19e2",
   "metadata": {},
   "outputs": [],
   "source": [
    "classifier_tfidf = LogisticRegression()"
   ]
  },
  {
   "cell_type": "code",
   "execution_count": 61,
   "id": "c5575ee7",
   "metadata": {},
   "outputs": [],
   "source": [
    "history_tfidf = classifier_tfidf.fit(X_train_vec,y_train)"
   ]
  },
  {
   "cell_type": "code",
   "execution_count": 62,
   "id": "b210cad8",
   "metadata": {},
   "outputs": [],
   "source": [
    "predicted_tfidf = classifier_tfidf.predict(X_test_vec)"
   ]
  },
  {
   "cell_type": "code",
   "execution_count": 63,
   "id": "3f4145d3",
   "metadata": {},
   "outputs": [
    {
     "data": {
      "text/plain": [
       "0.6518624641833811"
      ]
     },
     "execution_count": 63,
     "metadata": {},
     "output_type": "execute_result"
    }
   ],
   "source": [
    "metrics.accuracy_score(predicted_tfidf,y_test)"
   ]
  },
  {
   "cell_type": "code",
   "execution_count": 64,
   "id": "c1d5ca92",
   "metadata": {},
   "outputs": [
    {
     "data": {
      "text/plain": [
       "0.6598240469208211"
      ]
     },
     "execution_count": 64,
     "metadata": {},
     "output_type": "execute_result"
    }
   ],
   "source": [
    "metrics.precision_score(y_test, predicted_tfidf)"
   ]
  },
  {
   "cell_type": "code",
   "execution_count": 65,
   "id": "6647dabc",
   "metadata": {},
   "outputs": [
    {
     "data": {
      "text/plain": [
       "0.6392045454545454"
      ]
     },
     "execution_count": 65,
     "metadata": {},
     "output_type": "execute_result"
    }
   ],
   "source": [
    "metrics.recall_score(y_test, predicted_tfidf)"
   ]
  },
  {
   "cell_type": "markdown",
   "id": "5741e4a9",
   "metadata": {},
   "source": [
    "# LSTM"
   ]
  },
  {
   "cell_type": "code",
   "execution_count": null,
   "id": "51a528a1",
   "metadata": {},
   "outputs": [],
   "source": [
    "import tensorflow as tf\n"
   ]
  },
  {
   "cell_type": "code",
   "execution_count": null,
   "id": "67f117cd",
   "metadata": {},
   "outputs": [],
   "source": [
    "X_train_tf = tf.constant(X_train_vec.toarray())\n",
    "X_test_tf = tf.constant(X_test_vec.toarray())"
   ]
  },
  {
   "cell_type": "code",
   "execution_count": null,
   "id": "f44d1c9f",
   "metadata": {},
   "outputs": [],
   "source": [
    "X_train_tf.shape"
   ]
  },
  {
   "cell_type": "code",
   "execution_count": null,
   "id": "ec9176f3",
   "metadata": {},
   "outputs": [],
   "source": [
    "y_train_tf = tf.constant(y_train)\n",
    "y_test_tf = tf.constant(y_test)"
   ]
  },
  {
   "cell_type": "code",
   "execution_count": null,
   "id": "d042c1ed",
   "metadata": {},
   "outputs": [],
   "source": [
    "y_train_tf.shape"
   ]
  },
  {
   "cell_type": "code",
   "execution_count": null,
   "id": "5c8c44b5",
   "metadata": {},
   "outputs": [],
   "source": [
    "'''model = tf.keras.Sequential([\n",
    "    tf.keras.layers.LSTM(32,input_shape=(None,1)),\n",
    "    tf.keras.layers.Dense(1,activation='sigmoid')]\n",
    ")\n",
    "'''"
   ]
  },
  {
   "cell_type": "code",
   "execution_count": null,
   "id": "c192f30e",
   "metadata": {},
   "outputs": [],
   "source": [
    "model = tf.keras.Sequential([\n",
    "    tf.keras.layers.Bidirectional(tf.keras.layers.LSTM(32,return_sequences=True),input_shape=(None,1)),\n",
    "    tf.keras.layers.Dropout(0.5),\n",
    "    tf.keras.layers.Bidirectional(tf.keras.layers.LSTM(32)),\n",
    "    tf.keras.layers.Dense(32,activation='relu')\n",
    "    tf.keras.layers.Dropout(0.5),\n",
    "    tf.keras.layers.Dense(64,activation='relu')\n",
    "    tf.keras.layers.Dropout(0.5),\n",
    "    tf.keras.layers.Dense(128,activation='relu')\n",
    "    tf.keras.layers.Dense(1,activation='sigmoid')]\n",
    ")"
   ]
  },
  {
   "cell_type": "code",
   "execution_count": null,
   "id": "c832fc65",
   "metadata": {},
   "outputs": [],
   "source": [
    "model.compile(loss='binary_crossentropy', optimizer=tf.keras.optimizers.Adam(learning_rate=0.0001), metrics=['accuracy'])"
   ]
  },
  {
   "cell_type": "code",
   "execution_count": null,
   "id": "854e8f38",
   "metadata": {},
   "outputs": [],
   "source": [
    "history = model.fit(X_train_tf, y_train_tf, epochs=50)"
   ]
  },
  {
   "cell_type": "code",
   "execution_count": null,
   "id": "1f74343e",
   "metadata": {},
   "outputs": [],
   "source": []
  },
  {
   "cell_type": "code",
   "execution_count": null,
   "id": "ce46153e",
   "metadata": {},
   "outputs": [],
   "source": []
  },
  {
   "cell_type": "code",
   "execution_count": null,
   "id": "abf48d9e",
   "metadata": {},
   "outputs": [],
   "source": []
  },
  {
   "cell_type": "code",
   "execution_count": null,
   "id": "d7782505",
   "metadata": {},
   "outputs": [],
   "source": []
  },
  {
   "cell_type": "code",
   "execution_count": null,
   "id": "65c8188f",
   "metadata": {},
   "outputs": [],
   "source": []
  },
  {
   "cell_type": "code",
   "execution_count": null,
   "id": "2f2edfe0",
   "metadata": {},
   "outputs": [],
   "source": []
  }
 ],
 "metadata": {
  "kernelspec": {
   "display_name": "Python 3 (ipykernel)",
   "language": "python",
   "name": "python3"
  },
  "language_info": {
   "codemirror_mode": {
    "name": "ipython",
    "version": 3
   },
   "file_extension": ".py",
   "mimetype": "text/x-python",
   "name": "python",
   "nbconvert_exporter": "python",
   "pygments_lexer": "ipython3",
   "version": "3.9.12"
  }
 },
 "nbformat": 4,
 "nbformat_minor": 5
}
