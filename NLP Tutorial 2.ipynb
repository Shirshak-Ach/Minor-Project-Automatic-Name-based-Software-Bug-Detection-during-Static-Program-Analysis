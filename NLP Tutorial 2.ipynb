{
 "cells": [
  {
   "cell_type": "code",
   "execution_count": 1,
   "id": "c142d3da",
   "metadata": {},
   "outputs": [
    {
     "name": "stderr",
     "output_type": "stream",
     "text": [
      "C:\\Users\\Hp\\anaconda3\\lib\\site-packages\\paramiko\\transport.py:219: CryptographyDeprecationWarning: Blowfish has been deprecated\n",
      "  \"class\": algorithms.Blowfish,\n",
      "C:\\Users\\Hp\\anaconda3\\lib\\site-packages\\tqdm\\auto.py:22: TqdmWarning: IProgress not found. Please update jupyter and ipywidgets. See https://ipywidgets.readthedocs.io/en/stable/user_install.html\n",
      "  from .autonotebook import tqdm as notebook_tqdm\n"
     ]
    }
   ],
   "source": [
    "import gensim \n",
    "from gensim.models import word2vec\n",
    "from gensim.models.word2vec import Word2Vec\n",
    "import numpy as np \n",
    "import matplotlib.pyplot as plt \n",
    "import pandas as pd \n",
    "import spacy \n",
    "import string"
   ]
  },
  {
   "cell_type": "code",
   "execution_count": 2,
   "id": "9fe7e987",
   "metadata": {},
   "outputs": [
    {
     "name": "stdout",
     "output_type": "stream",
     "text": [
      "['fasttext-wiki-news-subwords-300', 'conceptnet-numberbatch-17-06-300', 'word2vec-ruscorpora-300', 'word2vec-google-news-300', 'glove-wiki-gigaword-50', 'glove-wiki-gigaword-100', 'glove-wiki-gigaword-200', 'glove-wiki-gigaword-300', 'glove-twitter-25', 'glove-twitter-50', 'glove-twitter-100', 'glove-twitter-200', '__testing_word2vec-matrix-synopsis']\n"
     ]
    }
   ],
   "source": [
    "import gensim.downloader as api \n",
    "print(list(gensim.downloader.info()['models'].keys()))"
   ]
  },
  {
   "cell_type": "code",
   "execution_count": 3,
   "id": "21b9d5c5",
   "metadata": {},
   "outputs": [],
   "source": [
    "#word_vector = api.load('glove-twitter-50')"
   ]
  },
  {
   "cell_type": "code",
   "execution_count": 4,
   "id": "ec47ec53",
   "metadata": {},
   "outputs": [],
   "source": [
    "#type(word_vector )"
   ]
  },
  {
   "cell_type": "code",
   "execution_count": 5,
   "id": "fc7fda64",
   "metadata": {},
   "outputs": [],
   "source": [
    "#word_vector.save('vectors.kv')"
   ]
  },
  {
   "cell_type": "code",
   "execution_count": 6,
   "id": "25246d22",
   "metadata": {},
   "outputs": [],
   "source": [
    "# Saving the vector for future use \n",
    "\n",
    "# wv = api.load('word2vec-google-news-300')\n",
    "# wv.save('/content/drive/MyDrive/Content Creation/Youtube Tutorials/vectors.kv')"
   ]
  },
  {
   "cell_type": "code",
   "execution_count": 7,
   "id": "12d2b534",
   "metadata": {},
   "outputs": [],
   "source": [
    "from gensim.models import KeyedVectors \n",
    "wv = KeyedVectors.load('vectors.kv')"
   ]
  },
  {
   "cell_type": "code",
   "execution_count": 8,
   "id": "14d80872",
   "metadata": {},
   "outputs": [
    {
     "data": {
      "text/plain": [
       "array([ 0.64954  ,  0.2994   , -0.5306   ,  1.0574   , -0.0061045,\n",
       "        0.51262  , -0.32568  ,  0.85193  , -0.90765  ,  0.023864 ,\n",
       "        0.1575   ,  0.38078  , -2.7082   ,  1.3049   , -0.32476  ,\n",
       "       -0.021542 , -0.13338  , -1.2296   ,  0.47419  ,  0.78165  ,\n",
       "        0.50623  , -0.22326  , -0.3074   , -0.27061  , -0.45073  ,\n",
       "       -2.9812   , -0.84697  , -0.46992  , -0.44152  , -0.47435  ,\n",
       "       -0.69015  ,  0.29145  , -1.0753   ,  0.66795  ,  0.71409  ,\n",
       "        1.4178   , -1.0947   , -0.34301  , -0.51804  ,  0.32256  ,\n",
       "       -0.36855  , -0.47078  , -0.37196  ,  0.79248  ,  0.39366  ,\n",
       "       -0.26554  ,  1.3464   , -0.24296  ,  0.22744  , -0.8434   ],\n",
       "      dtype=float32)"
      ]
     },
     "execution_count": 8,
     "metadata": {},
     "output_type": "execute_result"
    }
   ],
   "source": [
    "wv['son']"
   ]
  },
  {
   "cell_type": "code",
   "execution_count": 9,
   "id": "6e716f37",
   "metadata": {},
   "outputs": [
    {
     "data": {
      "text/plain": [
       "50"
      ]
     },
     "execution_count": 9,
     "metadata": {},
     "output_type": "execute_result"
    }
   ],
   "source": [
    "len(wv['son'])"
   ]
  },
  {
   "cell_type": "code",
   "execution_count": 10,
   "id": "c0de0f93",
   "metadata": {},
   "outputs": [
    {
     "data": {
      "text/plain": [
       "0.39522362"
      ]
     },
     "execution_count": 10,
     "metadata": {},
     "output_type": "execute_result"
    }
   ],
   "source": [
    "wv.similarity(\"father\",\"son\")"
   ]
  },
  {
   "cell_type": "code",
   "execution_count": 11,
   "id": "da8278d5",
   "metadata": {},
   "outputs": [
    {
     "data": {
      "text/plain": [
       "0.6179218"
      ]
     },
     "execution_count": 11,
     "metadata": {},
     "output_type": "execute_result"
    }
   ],
   "source": [
    "wv.similarity(\"father\",\"book\")"
   ]
  },
  {
   "cell_type": "code",
   "execution_count": 12,
   "id": "db8e0f00",
   "metadata": {},
   "outputs": [
    {
     "name": "stdout",
     "output_type": "stream",
     "text": [
      "'car' 'minivan' 0.48\n",
      "'car' 'bicycle' 0.62\n",
      "'car' 'airplane' 0.67\n",
      "'car' 'cereal' 0.38\n",
      "'car' 'communism' 0.01\n"
     ]
    }
   ],
   "source": [
    "pairs = [\n",
    "    ('car', 'minivan'),   # a minivan is a kind of car\n",
    "    ('car', 'bicycle'),   # still a wheeled vehicle\n",
    "    ('car', 'airplane'),  # ok, no wheels, but still a vehicle\n",
    "    ('car', 'cereal'),    # ... and so on\n",
    "    ('car', 'communism'),\n",
    "]\n",
    "for w1,w2 in pairs:\n",
    "    print('%r %r %.2f' % (w1, w2, wv.similarity(w1,w2)))"
   ]
  },
  {
   "cell_type": "code",
   "execution_count": null,
   "id": "549c7117",
   "metadata": {},
   "outputs": [],
   "source": [
    "print(wv.most_similar(positive=['car','minivan'],topn=3))"
   ]
  },
  {
   "cell_type": "code",
   "execution_count": null,
   "id": "9d5a0a62",
   "metadata": {},
   "outputs": [],
   "source": []
  }
 ],
 "metadata": {
  "kernelspec": {
   "display_name": "Python 3 (ipykernel)",
   "language": "python",
   "name": "python3"
  },
  "language_info": {
   "codemirror_mode": {
    "name": "ipython",
    "version": 3
   },
   "file_extension": ".py",
   "mimetype": "text/x-python",
   "name": "python",
   "nbconvert_exporter": "python",
   "pygments_lexer": "ipython3",
   "version": "3.9.12"
  }
 },
 "nbformat": 4,
 "nbformat_minor": 5
}
