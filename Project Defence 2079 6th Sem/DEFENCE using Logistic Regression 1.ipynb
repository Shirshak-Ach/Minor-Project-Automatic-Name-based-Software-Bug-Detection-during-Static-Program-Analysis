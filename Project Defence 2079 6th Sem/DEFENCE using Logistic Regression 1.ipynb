{
 "cells": [
  {
   "cell_type": "code",
   "execution_count": 1,
   "id": "f7938430",
   "metadata": {},
   "outputs": [
    {
     "name": "stderr",
     "output_type": "stream",
     "text": [
      "C:\\Users\\Hp\\anaconda3\\lib\\site-packages\\tqdm\\auto.py:22: TqdmWarning: IProgress not found. Please update jupyter and ipywidgets. See https://ipywidgets.readthedocs.io/en/stable/user_install.html\n",
      "  from .autonotebook import tqdm as notebook_tqdm\n"
     ]
    }
   ],
   "source": [
    "import numpy as np \n",
    "import pandas as pd \n",
    "from sklearn.feature_extraction.text import CountVectorizer,TfidfVectorizer\n",
    "from sklearn import metrics\n",
    "import string \n",
    "import spacy\n",
    "import requests\n",
    "import json"
   ]
  },
  {
   "cell_type": "code",
   "execution_count": 2,
   "id": "78e92cf0",
   "metadata": {},
   "outputs": [
    {
     "data": {
      "text/html": [
       "<div>\n",
       "<style scoped>\n",
       "    .dataframe tbody tr th:only-of-type {\n",
       "        vertical-align: middle;\n",
       "    }\n",
       "\n",
       "    .dataframe tbody tr th {\n",
       "        vertical-align: top;\n",
       "    }\n",
       "\n",
       "    .dataframe thead th {\n",
       "        text-align: right;\n",
       "    }\n",
       "</style>\n",
       "<table border=\"1\" class=\"dataframe\">\n",
       "  <thead>\n",
       "    <tr style=\"text-align: right;\">\n",
       "      <th></th>\n",
       "      <th>code</th>\n",
       "      <th>error_check</th>\n",
       "    </tr>\n",
       "  </thead>\n",
       "  <tbody>\n",
       "    <tr>\n",
       "      <th>0</th>\n",
       "      <td>#include &lt;stdio.h&gt;\\n#include &lt;stdlib.h&gt;\\nint m...</td>\n",
       "      <td>0</td>\n",
       "    </tr>\n",
       "    <tr>\n",
       "      <th>1</th>\n",
       "      <td>#include &lt;stdio.h&gt;\\nint main(){\\n    int n,i,b...</td>\n",
       "      <td>0</td>\n",
       "    </tr>\n",
       "    <tr>\n",
       "      <th>2</th>\n",
       "      <td>#include &lt;stdio.h&gt;\\n#include &lt;stdlib.h&gt;\\n#incl...</td>\n",
       "      <td>0</td>\n",
       "    </tr>\n",
       "    <tr>\n",
       "      <th>3</th>\n",
       "      <td>#include &lt;stdio.h&gt;\\n#include &lt;stdlib.h&gt;\\nint m...</td>\n",
       "      <td>0</td>\n",
       "    </tr>\n",
       "    <tr>\n",
       "      <th>4</th>\n",
       "      <td>#include &lt;stdio.h&gt;\\n#include &lt;stdlib.h&gt;\\nint m...</td>\n",
       "      <td>0</td>\n",
       "    </tr>\n",
       "    <tr>\n",
       "      <th>...</th>\n",
       "      <td>...</td>\n",
       "      <td>...</td>\n",
       "    </tr>\n",
       "    <tr>\n",
       "      <th>53473</th>\n",
       "      <td>#include&lt;stdio.h&gt;\\n#include&lt;stdlib.h&gt;\\nint mai...</td>\n",
       "      <td>1</td>\n",
       "    </tr>\n",
       "    <tr>\n",
       "      <th>53474</th>\n",
       "      <td>#include&lt;stdio.h&gt;\\n#include&lt;stdlib.h&gt;\\nint mai...</td>\n",
       "      <td>1</td>\n",
       "    </tr>\n",
       "    <tr>\n",
       "      <th>53475</th>\n",
       "      <td>#include&lt;stdio.h&gt;\\nint main()\\n{\\n    int n,k,...</td>\n",
       "      <td>1</td>\n",
       "    </tr>\n",
       "    <tr>\n",
       "      <th>53476</th>\n",
       "      <td>#include&lt;stdio.h&gt;\\nint main()\\n{\\n    int n,k;...</td>\n",
       "      <td>1</td>\n",
       "    </tr>\n",
       "    <tr>\n",
       "      <th>53477</th>\n",
       "      <td>#include&lt;stdio.h&gt;\\n\\nmain()\\n{\\n    int n,k,ar...</td>\n",
       "      <td>1</td>\n",
       "    </tr>\n",
       "  </tbody>\n",
       "</table>\n",
       "<p>53478 rows × 2 columns</p>\n",
       "</div>"
      ],
      "text/plain": [
       "                                                    code  error_check\n",
       "0      #include <stdio.h>\\n#include <stdlib.h>\\nint m...            0\n",
       "1      #include <stdio.h>\\nint main(){\\n    int n,i,b...            0\n",
       "2      #include <stdio.h>\\n#include <stdlib.h>\\n#incl...            0\n",
       "3      #include <stdio.h>\\n#include <stdlib.h>\\nint m...            0\n",
       "4      #include <stdio.h>\\n#include <stdlib.h>\\nint m...            0\n",
       "...                                                  ...          ...\n",
       "53473  #include<stdio.h>\\n#include<stdlib.h>\\nint mai...            1\n",
       "53474  #include<stdio.h>\\n#include<stdlib.h>\\nint mai...            1\n",
       "53475  #include<stdio.h>\\nint main()\\n{\\n    int n,k,...            1\n",
       "53476  #include<stdio.h>\\nint main()\\n{\\n    int n,k;...            1\n",
       "53477  #include<stdio.h>\\n\\nmain()\\n{\\n    int n,k,ar...            1\n",
       "\n",
       "[53478 rows x 2 columns]"
      ]
     },
     "execution_count": 2,
     "metadata": {},
     "output_type": "execute_result"
    }
   ],
   "source": [
    "df = pd.read_csv('Database_C.csv')\n",
    "df"
   ]
  },
  {
   "cell_type": "code",
   "execution_count": 3,
   "id": "d656364c",
   "metadata": {},
   "outputs": [
    {
     "data": {
      "text/html": [
       "<div>\n",
       "<style scoped>\n",
       "    .dataframe tbody tr th:only-of-type {\n",
       "        vertical-align: middle;\n",
       "    }\n",
       "\n",
       "    .dataframe tbody tr th {\n",
       "        vertical-align: top;\n",
       "    }\n",
       "\n",
       "    .dataframe thead th {\n",
       "        text-align: right;\n",
       "    }\n",
       "</style>\n",
       "<table border=\"1\" class=\"dataframe\">\n",
       "  <thead>\n",
       "    <tr style=\"text-align: right;\">\n",
       "      <th></th>\n",
       "      <th>code</th>\n",
       "      <th>error_check</th>\n",
       "    </tr>\n",
       "  </thead>\n",
       "  <tbody>\n",
       "    <tr>\n",
       "      <th>0</th>\n",
       "      <td>#include &lt;stdio.h&gt;\\n#include &lt;stdlib.h&gt;\\nint m...</td>\n",
       "      <td>0</td>\n",
       "    </tr>\n",
       "    <tr>\n",
       "      <th>1</th>\n",
       "      <td>#include &lt;stdio.h&gt;\\nint main(){\\n    int n,i,b...</td>\n",
       "      <td>0</td>\n",
       "    </tr>\n",
       "    <tr>\n",
       "      <th>2</th>\n",
       "      <td>#include &lt;stdio.h&gt;\\n#include &lt;stdlib.h&gt;\\n#incl...</td>\n",
       "      <td>0</td>\n",
       "    </tr>\n",
       "    <tr>\n",
       "      <th>3</th>\n",
       "      <td>#include &lt;stdio.h&gt;\\n#include &lt;stdlib.h&gt;\\nint m...</td>\n",
       "      <td>0</td>\n",
       "    </tr>\n",
       "    <tr>\n",
       "      <th>4</th>\n",
       "      <td>#include &lt;stdio.h&gt;\\n#include &lt;stdlib.h&gt;\\nint m...</td>\n",
       "      <td>0</td>\n",
       "    </tr>\n",
       "    <tr>\n",
       "      <th>...</th>\n",
       "      <td>...</td>\n",
       "      <td>...</td>\n",
       "    </tr>\n",
       "    <tr>\n",
       "      <th>46495</th>\n",
       "      <td>#include &lt;stdio.h&gt;\\nint main()\\n{\\n    int n, ...</td>\n",
       "      <td>0</td>\n",
       "    </tr>\n",
       "    <tr>\n",
       "      <th>46496</th>\n",
       "      <td>#include &lt;stdio.h&gt;\\n#include &lt;stdlib.h&gt;\\nint B...</td>\n",
       "      <td>0</td>\n",
       "    </tr>\n",
       "    <tr>\n",
       "      <th>46497</th>\n",
       "      <td>#include&lt;stdio.h&gt;\\nint arr[100];\\nint max;\\nin...</td>\n",
       "      <td>0</td>\n",
       "    </tr>\n",
       "    <tr>\n",
       "      <th>46498</th>\n",
       "      <td>#include &lt;stdio.h&gt;\\nint a[100000];\\nvoid swap(...</td>\n",
       "      <td>0</td>\n",
       "    </tr>\n",
       "    <tr>\n",
       "      <th>46499</th>\n",
       "      <td>#include &lt;stdio.h&gt;\\nint main() \\n{\\n    int a,...</td>\n",
       "      <td>0</td>\n",
       "    </tr>\n",
       "  </tbody>\n",
       "</table>\n",
       "<p>46500 rows × 2 columns</p>\n",
       "</div>"
      ],
      "text/plain": [
       "                                                    code  error_check\n",
       "0      #include <stdio.h>\\n#include <stdlib.h>\\nint m...            0\n",
       "1      #include <stdio.h>\\nint main(){\\n    int n,i,b...            0\n",
       "2      #include <stdio.h>\\n#include <stdlib.h>\\n#incl...            0\n",
       "3      #include <stdio.h>\\n#include <stdlib.h>\\nint m...            0\n",
       "4      #include <stdio.h>\\n#include <stdlib.h>\\nint m...            0\n",
       "...                                                  ...          ...\n",
       "46495  #include <stdio.h>\\nint main()\\n{\\n    int n, ...            0\n",
       "46496  #include <stdio.h>\\n#include <stdlib.h>\\nint B...            0\n",
       "46497  #include<stdio.h>\\nint arr[100];\\nint max;\\nin...            0\n",
       "46498  #include <stdio.h>\\nint a[100000];\\nvoid swap(...            0\n",
       "46499  #include <stdio.h>\\nint main() \\n{\\n    int a,...            0\n",
       "\n",
       "[46500 rows x 2 columns]"
      ]
     },
     "execution_count": 3,
     "metadata": {},
     "output_type": "execute_result"
    }
   ],
   "source": [
    "df_0 = df[df['error_check']!=1]\n",
    "df_0"
   ]
  },
  {
   "cell_type": "code",
   "execution_count": 4,
   "id": "b3088b73",
   "metadata": {},
   "outputs": [
    {
     "data": {
      "text/html": [
       "<div>\n",
       "<style scoped>\n",
       "    .dataframe tbody tr th:only-of-type {\n",
       "        vertical-align: middle;\n",
       "    }\n",
       "\n",
       "    .dataframe tbody tr th {\n",
       "        vertical-align: top;\n",
       "    }\n",
       "\n",
       "    .dataframe thead th {\n",
       "        text-align: right;\n",
       "    }\n",
       "</style>\n",
       "<table border=\"1\" class=\"dataframe\">\n",
       "  <thead>\n",
       "    <tr style=\"text-align: right;\">\n",
       "      <th></th>\n",
       "      <th>code</th>\n",
       "      <th>error_check</th>\n",
       "    </tr>\n",
       "  </thead>\n",
       "  <tbody>\n",
       "    <tr>\n",
       "      <th>46500</th>\n",
       "      <td>#include &lt;stdio.h&gt;\\nint main(){\\n    int k,n;\\...</td>\n",
       "      <td>1</td>\n",
       "    </tr>\n",
       "    <tr>\n",
       "      <th>46501</th>\n",
       "      <td>#include &lt;stdio.h&gt;\\nint main()\\n{\\n    int k,n...</td>\n",
       "      <td>1</td>\n",
       "    </tr>\n",
       "    <tr>\n",
       "      <th>46502</th>\n",
       "      <td>#include &lt;stdio.h&gt;\\nint main(){\\n    int k,n,i...</td>\n",
       "      <td>1</td>\n",
       "    </tr>\n",
       "    <tr>\n",
       "      <th>46503</th>\n",
       "      <td>#include &lt;stdio.h&gt;\\nint main(){\\nint i,k,n,a;\\...</td>\n",
       "      <td>1</td>\n",
       "    </tr>\n",
       "    <tr>\n",
       "      <th>46504</th>\n",
       "      <td>#include &lt;stdio.h&gt;\\nint main(){int i,c,b,d=0,a...</td>\n",
       "      <td>1</td>\n",
       "    </tr>\n",
       "    <tr>\n",
       "      <th>...</th>\n",
       "      <td>...</td>\n",
       "      <td>...</td>\n",
       "    </tr>\n",
       "    <tr>\n",
       "      <th>53473</th>\n",
       "      <td>#include&lt;stdio.h&gt;\\n#include&lt;stdlib.h&gt;\\nint mai...</td>\n",
       "      <td>1</td>\n",
       "    </tr>\n",
       "    <tr>\n",
       "      <th>53474</th>\n",
       "      <td>#include&lt;stdio.h&gt;\\n#include&lt;stdlib.h&gt;\\nint mai...</td>\n",
       "      <td>1</td>\n",
       "    </tr>\n",
       "    <tr>\n",
       "      <th>53475</th>\n",
       "      <td>#include&lt;stdio.h&gt;\\nint main()\\n{\\n    int n,k,...</td>\n",
       "      <td>1</td>\n",
       "    </tr>\n",
       "    <tr>\n",
       "      <th>53476</th>\n",
       "      <td>#include&lt;stdio.h&gt;\\nint main()\\n{\\n    int n,k;...</td>\n",
       "      <td>1</td>\n",
       "    </tr>\n",
       "    <tr>\n",
       "      <th>53477</th>\n",
       "      <td>#include&lt;stdio.h&gt;\\n\\nmain()\\n{\\n    int n,k,ar...</td>\n",
       "      <td>1</td>\n",
       "    </tr>\n",
       "  </tbody>\n",
       "</table>\n",
       "<p>6978 rows × 2 columns</p>\n",
       "</div>"
      ],
      "text/plain": [
       "                                                    code  error_check\n",
       "46500  #include <stdio.h>\\nint main(){\\n    int k,n;\\...            1\n",
       "46501  #include <stdio.h>\\nint main()\\n{\\n    int k,n...            1\n",
       "46502  #include <stdio.h>\\nint main(){\\n    int k,n,i...            1\n",
       "46503  #include <stdio.h>\\nint main(){\\nint i,k,n,a;\\...            1\n",
       "46504  #include <stdio.h>\\nint main(){int i,c,b,d=0,a...            1\n",
       "...                                                  ...          ...\n",
       "53473  #include<stdio.h>\\n#include<stdlib.h>\\nint mai...            1\n",
       "53474  #include<stdio.h>\\n#include<stdlib.h>\\nint mai...            1\n",
       "53475  #include<stdio.h>\\nint main()\\n{\\n    int n,k,...            1\n",
       "53476  #include<stdio.h>\\nint main()\\n{\\n    int n,k;...            1\n",
       "53477  #include<stdio.h>\\n\\nmain()\\n{\\n    int n,k,ar...            1\n",
       "\n",
       "[6978 rows x 2 columns]"
      ]
     },
     "execution_count": 4,
     "metadata": {},
     "output_type": "execute_result"
    }
   ],
   "source": [
    "df_1 = df[df['error_check']!=0]\n",
    "df_1"
   ]
  },
  {
   "cell_type": "code",
   "execution_count": 5,
   "id": "02fffded",
   "metadata": {},
   "outputs": [
    {
     "data": {
      "text/plain": [
       "0    46500\n",
       "Name: error_check, dtype: int64"
      ]
     },
     "execution_count": 5,
     "metadata": {},
     "output_type": "execute_result"
    }
   ],
   "source": [
    "df_0['error_check'].value_counts()"
   ]
  },
  {
   "cell_type": "code",
   "execution_count": 6,
   "id": "942512d5",
   "metadata": {},
   "outputs": [
    {
     "data": {
      "text/plain": [
       "1    6978\n",
       "Name: error_check, dtype: int64"
      ]
     },
     "execution_count": 6,
     "metadata": {},
     "output_type": "execute_result"
    }
   ],
   "source": [
    "df_1['error_check'].value_counts()"
   ]
  },
  {
   "cell_type": "code",
   "execution_count": 7,
   "id": "1d934c4b",
   "metadata": {},
   "outputs": [
    {
     "name": "stderr",
     "output_type": "stream",
     "text": [
      "C:\\Users\\Hp\\AppData\\Local\\Temp\\ipykernel_19272\\120743725.py:1: SettingWithCopyWarning: \n",
      "A value is trying to be set on a copy of a slice from a DataFrame\n",
      "\n",
      "See the caveats in the documentation: https://pandas.pydata.org/pandas-docs/stable/user_guide/indexing.html#returning-a-view-versus-a-copy\n",
      "  df_0.drop(index=df_0.index[100:], axis=0, inplace=True)\n"
     ]
    },
    {
     "data": {
      "text/html": [
       "<div>\n",
       "<style scoped>\n",
       "    .dataframe tbody tr th:only-of-type {\n",
       "        vertical-align: middle;\n",
       "    }\n",
       "\n",
       "    .dataframe tbody tr th {\n",
       "        vertical-align: top;\n",
       "    }\n",
       "\n",
       "    .dataframe thead th {\n",
       "        text-align: right;\n",
       "    }\n",
       "</style>\n",
       "<table border=\"1\" class=\"dataframe\">\n",
       "  <thead>\n",
       "    <tr style=\"text-align: right;\">\n",
       "      <th></th>\n",
       "      <th>code</th>\n",
       "      <th>error_check</th>\n",
       "    </tr>\n",
       "  </thead>\n",
       "  <tbody>\n",
       "    <tr>\n",
       "      <th>0</th>\n",
       "      <td>#include &lt;stdio.h&gt;\\n#include &lt;stdlib.h&gt;\\nint m...</td>\n",
       "      <td>0</td>\n",
       "    </tr>\n",
       "    <tr>\n",
       "      <th>1</th>\n",
       "      <td>#include &lt;stdio.h&gt;\\nint main(){\\n    int n,i,b...</td>\n",
       "      <td>0</td>\n",
       "    </tr>\n",
       "    <tr>\n",
       "      <th>2</th>\n",
       "      <td>#include &lt;stdio.h&gt;\\n#include &lt;stdlib.h&gt;\\n#incl...</td>\n",
       "      <td>0</td>\n",
       "    </tr>\n",
       "    <tr>\n",
       "      <th>3</th>\n",
       "      <td>#include &lt;stdio.h&gt;\\n#include &lt;stdlib.h&gt;\\nint m...</td>\n",
       "      <td>0</td>\n",
       "    </tr>\n",
       "    <tr>\n",
       "      <th>4</th>\n",
       "      <td>#include &lt;stdio.h&gt;\\n#include &lt;stdlib.h&gt;\\nint m...</td>\n",
       "      <td>0</td>\n",
       "    </tr>\n",
       "    <tr>\n",
       "      <th>...</th>\n",
       "      <td>...</td>\n",
       "      <td>...</td>\n",
       "    </tr>\n",
       "    <tr>\n",
       "      <th>95</th>\n",
       "      <td>#include &lt;stdio.h&gt;\\nint arr[100]={0};\\nint n;\\...</td>\n",
       "      <td>0</td>\n",
       "    </tr>\n",
       "    <tr>\n",
       "      <th>96</th>\n",
       "      <td>#include&lt;stdio.h&gt;\\nint main()\\n{int e,f,g;\\nsc...</td>\n",
       "      <td>0</td>\n",
       "    </tr>\n",
       "    <tr>\n",
       "      <th>97</th>\n",
       "      <td>#include &lt;stdio.h&gt;\\r\\nint main()\\r\\n{\\r\\n    i...</td>\n",
       "      <td>0</td>\n",
       "    </tr>\n",
       "    <tr>\n",
       "      <th>98</th>\n",
       "      <td>#include &lt;stdio.h&gt;\\n#include &lt;stdlib.h&gt;\\nint m...</td>\n",
       "      <td>0</td>\n",
       "    </tr>\n",
       "    <tr>\n",
       "      <th>99</th>\n",
       "      <td>#include &lt;stdio.h&gt;\\nint main()\\n{\\n    float h...</td>\n",
       "      <td>0</td>\n",
       "    </tr>\n",
       "  </tbody>\n",
       "</table>\n",
       "<p>100 rows × 2 columns</p>\n",
       "</div>"
      ],
      "text/plain": [
       "                                                 code  error_check\n",
       "0   #include <stdio.h>\\n#include <stdlib.h>\\nint m...            0\n",
       "1   #include <stdio.h>\\nint main(){\\n    int n,i,b...            0\n",
       "2   #include <stdio.h>\\n#include <stdlib.h>\\n#incl...            0\n",
       "3   #include <stdio.h>\\n#include <stdlib.h>\\nint m...            0\n",
       "4   #include <stdio.h>\\n#include <stdlib.h>\\nint m...            0\n",
       "..                                                ...          ...\n",
       "95  #include <stdio.h>\\nint arr[100]={0};\\nint n;\\...            0\n",
       "96  #include<stdio.h>\\nint main()\\n{int e,f,g;\\nsc...            0\n",
       "97  #include <stdio.h>\\r\\nint main()\\r\\n{\\r\\n    i...            0\n",
       "98  #include <stdio.h>\\n#include <stdlib.h>\\nint m...            0\n",
       "99  #include <stdio.h>\\nint main()\\n{\\n    float h...            0\n",
       "\n",
       "[100 rows x 2 columns]"
      ]
     },
     "execution_count": 7,
     "metadata": {},
     "output_type": "execute_result"
    }
   ],
   "source": [
    "df_0.drop(index=df_0.index[100:], axis=0, inplace=True)\n",
    "df_0"
   ]
  },
  {
   "cell_type": "code",
   "execution_count": 8,
   "id": "4f5cab29",
   "metadata": {},
   "outputs": [
    {
     "name": "stderr",
     "output_type": "stream",
     "text": [
      "C:\\Users\\Hp\\AppData\\Local\\Temp\\ipykernel_19272\\845745786.py:1: SettingWithCopyWarning: \n",
      "A value is trying to be set on a copy of a slice from a DataFrame\n",
      "\n",
      "See the caveats in the documentation: https://pandas.pydata.org/pandas-docs/stable/user_guide/indexing.html#returning-a-view-versus-a-copy\n",
      "  df_1.drop(index=df_1.index[100:], axis=0, inplace=True)\n"
     ]
    },
    {
     "data": {
      "text/html": [
       "<div>\n",
       "<style scoped>\n",
       "    .dataframe tbody tr th:only-of-type {\n",
       "        vertical-align: middle;\n",
       "    }\n",
       "\n",
       "    .dataframe tbody tr th {\n",
       "        vertical-align: top;\n",
       "    }\n",
       "\n",
       "    .dataframe thead th {\n",
       "        text-align: right;\n",
       "    }\n",
       "</style>\n",
       "<table border=\"1\" class=\"dataframe\">\n",
       "  <thead>\n",
       "    <tr style=\"text-align: right;\">\n",
       "      <th></th>\n",
       "      <th>code</th>\n",
       "      <th>error_check</th>\n",
       "    </tr>\n",
       "  </thead>\n",
       "  <tbody>\n",
       "    <tr>\n",
       "      <th>46500</th>\n",
       "      <td>#include &lt;stdio.h&gt;\\nint main(){\\n    int k,n;\\...</td>\n",
       "      <td>1</td>\n",
       "    </tr>\n",
       "    <tr>\n",
       "      <th>46501</th>\n",
       "      <td>#include &lt;stdio.h&gt;\\nint main()\\n{\\n    int k,n...</td>\n",
       "      <td>1</td>\n",
       "    </tr>\n",
       "    <tr>\n",
       "      <th>46502</th>\n",
       "      <td>#include &lt;stdio.h&gt;\\nint main(){\\n    int k,n,i...</td>\n",
       "      <td>1</td>\n",
       "    </tr>\n",
       "    <tr>\n",
       "      <th>46503</th>\n",
       "      <td>#include &lt;stdio.h&gt;\\nint main(){\\nint i,k,n,a;\\...</td>\n",
       "      <td>1</td>\n",
       "    </tr>\n",
       "    <tr>\n",
       "      <th>46504</th>\n",
       "      <td>#include &lt;stdio.h&gt;\\nint main(){int i,c,b,d=0,a...</td>\n",
       "      <td>1</td>\n",
       "    </tr>\n",
       "    <tr>\n",
       "      <th>...</th>\n",
       "      <td>...</td>\n",
       "      <td>...</td>\n",
       "    </tr>\n",
       "    <tr>\n",
       "      <th>46595</th>\n",
       "      <td>#include &lt;stdio.h&gt;\\n\\nint main(){\\n    int n,m...</td>\n",
       "      <td>1</td>\n",
       "    </tr>\n",
       "    <tr>\n",
       "      <th>46596</th>\n",
       "      <td>#include &lt;stdio.h&gt;\\n\\nint main()\\n{\\n    int n...</td>\n",
       "      <td>1</td>\n",
       "    </tr>\n",
       "    <tr>\n",
       "      <th>46597</th>\n",
       "      <td>#include &lt;stdio.h&gt;\\n\\nint main()\\n{\\n     int ...</td>\n",
       "      <td>1</td>\n",
       "    </tr>\n",
       "    <tr>\n",
       "      <th>46598</th>\n",
       "      <td>#include &lt;stdio.h&gt;\\n\\nint main()\\n{\\n    int n...</td>\n",
       "      <td>1</td>\n",
       "    </tr>\n",
       "    <tr>\n",
       "      <th>46599</th>\n",
       "      <td>#include &lt;stdio.h&gt;\\n\\nint main()\\n{\\n    int n...</td>\n",
       "      <td>1</td>\n",
       "    </tr>\n",
       "  </tbody>\n",
       "</table>\n",
       "<p>100 rows × 2 columns</p>\n",
       "</div>"
      ],
      "text/plain": [
       "                                                    code  error_check\n",
       "46500  #include <stdio.h>\\nint main(){\\n    int k,n;\\...            1\n",
       "46501  #include <stdio.h>\\nint main()\\n{\\n    int k,n...            1\n",
       "46502  #include <stdio.h>\\nint main(){\\n    int k,n,i...            1\n",
       "46503  #include <stdio.h>\\nint main(){\\nint i,k,n,a;\\...            1\n",
       "46504  #include <stdio.h>\\nint main(){int i,c,b,d=0,a...            1\n",
       "...                                                  ...          ...\n",
       "46595  #include <stdio.h>\\n\\nint main(){\\n    int n,m...            1\n",
       "46596  #include <stdio.h>\\n\\nint main()\\n{\\n    int n...            1\n",
       "46597  #include <stdio.h>\\n\\nint main()\\n{\\n     int ...            1\n",
       "46598  #include <stdio.h>\\n\\nint main()\\n{\\n    int n...            1\n",
       "46599  #include <stdio.h>\\n\\nint main()\\n{\\n    int n...            1\n",
       "\n",
       "[100 rows x 2 columns]"
      ]
     },
     "execution_count": 8,
     "metadata": {},
     "output_type": "execute_result"
    }
   ],
   "source": [
    "df_1.drop(index=df_1.index[100:], axis=0, inplace=True)\n",
    "df_1"
   ]
  },
  {
   "cell_type": "code",
   "execution_count": 9,
   "id": "5a14655f",
   "metadata": {},
   "outputs": [
    {
     "data": {
      "text/html": [
       "<div>\n",
       "<style scoped>\n",
       "    .dataframe tbody tr th:only-of-type {\n",
       "        vertical-align: middle;\n",
       "    }\n",
       "\n",
       "    .dataframe tbody tr th {\n",
       "        vertical-align: top;\n",
       "    }\n",
       "\n",
       "    .dataframe thead th {\n",
       "        text-align: right;\n",
       "    }\n",
       "</style>\n",
       "<table border=\"1\" class=\"dataframe\">\n",
       "  <thead>\n",
       "    <tr style=\"text-align: right;\">\n",
       "      <th></th>\n",
       "      <th>code</th>\n",
       "      <th>error_check</th>\n",
       "    </tr>\n",
       "  </thead>\n",
       "  <tbody>\n",
       "    <tr>\n",
       "      <th>46500</th>\n",
       "      <td>#include &lt;stdio.h&gt;\\nint main(){\\n    int k,n;\\...</td>\n",
       "      <td>1</td>\n",
       "    </tr>\n",
       "    <tr>\n",
       "      <th>46501</th>\n",
       "      <td>#include &lt;stdio.h&gt;\\nint main()\\n{\\n    int k,n...</td>\n",
       "      <td>1</td>\n",
       "    </tr>\n",
       "    <tr>\n",
       "      <th>46502</th>\n",
       "      <td>#include &lt;stdio.h&gt;\\nint main(){\\n    int k,n,i...</td>\n",
       "      <td>1</td>\n",
       "    </tr>\n",
       "    <tr>\n",
       "      <th>46503</th>\n",
       "      <td>#include &lt;stdio.h&gt;\\nint main(){\\nint i,k,n,a;\\...</td>\n",
       "      <td>1</td>\n",
       "    </tr>\n",
       "    <tr>\n",
       "      <th>46504</th>\n",
       "      <td>#include &lt;stdio.h&gt;\\nint main(){int i,c,b,d=0,a...</td>\n",
       "      <td>1</td>\n",
       "    </tr>\n",
       "    <tr>\n",
       "      <th>...</th>\n",
       "      <td>...</td>\n",
       "      <td>...</td>\n",
       "    </tr>\n",
       "    <tr>\n",
       "      <th>46595</th>\n",
       "      <td>#include &lt;stdio.h&gt;\\n\\nint main(){\\n    int n,m...</td>\n",
       "      <td>1</td>\n",
       "    </tr>\n",
       "    <tr>\n",
       "      <th>46596</th>\n",
       "      <td>#include &lt;stdio.h&gt;\\n\\nint main()\\n{\\n    int n...</td>\n",
       "      <td>1</td>\n",
       "    </tr>\n",
       "    <tr>\n",
       "      <th>46597</th>\n",
       "      <td>#include &lt;stdio.h&gt;\\n\\nint main()\\n{\\n     int ...</td>\n",
       "      <td>1</td>\n",
       "    </tr>\n",
       "    <tr>\n",
       "      <th>46598</th>\n",
       "      <td>#include &lt;stdio.h&gt;\\n\\nint main()\\n{\\n    int n...</td>\n",
       "      <td>1</td>\n",
       "    </tr>\n",
       "    <tr>\n",
       "      <th>46599</th>\n",
       "      <td>#include &lt;stdio.h&gt;\\n\\nint main()\\n{\\n    int n...</td>\n",
       "      <td>1</td>\n",
       "    </tr>\n",
       "  </tbody>\n",
       "</table>\n",
       "<p>100 rows × 2 columns</p>\n",
       "</div>"
      ],
      "text/plain": [
       "                                                    code  error_check\n",
       "46500  #include <stdio.h>\\nint main(){\\n    int k,n;\\...            1\n",
       "46501  #include <stdio.h>\\nint main()\\n{\\n    int k,n...            1\n",
       "46502  #include <stdio.h>\\nint main(){\\n    int k,n,i...            1\n",
       "46503  #include <stdio.h>\\nint main(){\\nint i,k,n,a;\\...            1\n",
       "46504  #include <stdio.h>\\nint main(){int i,c,b,d=0,a...            1\n",
       "...                                                  ...          ...\n",
       "46595  #include <stdio.h>\\n\\nint main(){\\n    int n,m...            1\n",
       "46596  #include <stdio.h>\\n\\nint main()\\n{\\n    int n...            1\n",
       "46597  #include <stdio.h>\\n\\nint main()\\n{\\n     int ...            1\n",
       "46598  #include <stdio.h>\\n\\nint main()\\n{\\n    int n...            1\n",
       "46599  #include <stdio.h>\\n\\nint main()\\n{\\n    int n...            1\n",
       "\n",
       "[100 rows x 2 columns]"
      ]
     },
     "execution_count": 9,
     "metadata": {},
     "output_type": "execute_result"
    }
   ],
   "source": [
    "df_0.squeeze()\n",
    "df_1.squeeze() "
   ]
  },
  {
   "cell_type": "code",
   "execution_count": 10,
   "id": "1cd7a94e",
   "metadata": {},
   "outputs": [],
   "source": [
    "df_new = pd.concat([df_0,df_1])"
   ]
  },
  {
   "cell_type": "code",
   "execution_count": 11,
   "id": "6939bd2a",
   "metadata": {},
   "outputs": [
    {
     "data": {
      "text/plain": [
       "0    100\n",
       "1    100\n",
       "Name: error_check, dtype: int64"
      ]
     },
     "execution_count": 11,
     "metadata": {},
     "output_type": "execute_result"
    }
   ],
   "source": [
    "df_new['error_check'].value_counts()"
   ]
  },
  {
   "cell_type": "code",
   "execution_count": 12,
   "id": "58336cc7",
   "metadata": {},
   "outputs": [],
   "source": [
    "import spacy"
   ]
  },
  {
   "cell_type": "code",
   "execution_count": 13,
   "id": "8ca6596d",
   "metadata": {},
   "outputs": [],
   "source": [
    "en_core = spacy.load('en_core_web_sm')"
   ]
  },
  {
   "cell_type": "code",
   "execution_count": 14,
   "id": "e468603b",
   "metadata": {},
   "outputs": [],
   "source": [
    "def my_tokenizer(code):\n",
    "    code_vec = en_core(code)\n",
    "    tokens = [x.lemma_.lower().strip() for x in code_vec]\n",
    "    print(tokens)\n",
    "    return tokens"
   ]
  },
  {
   "cell_type": "code",
   "execution_count": 15,
   "id": "5eeb5eb0",
   "metadata": {},
   "outputs": [],
   "source": [
    "from sklearn.model_selection import train_test_split\n",
    "X = df_new['code']\n",
    "y = df_new['error_check']\n"
   ]
  },
  {
   "cell_type": "code",
   "execution_count": 16,
   "id": "5eed4d70",
   "metadata": {},
   "outputs": [
    {
     "data": {
      "text/plain": [
       "((200,), (200,))"
      ]
     },
     "execution_count": 16,
     "metadata": {},
     "output_type": "execute_result"
    }
   ],
   "source": [
    "X.shape,y.shape"
   ]
  },
  {
   "cell_type": "code",
   "execution_count": 17,
   "id": "316fdd78",
   "metadata": {},
   "outputs": [
    {
     "data": {
      "text/plain": [
       "0    100\n",
       "1    100\n",
       "Name: error_check, dtype: int64"
      ]
     },
     "execution_count": 17,
     "metadata": {},
     "output_type": "execute_result"
    }
   ],
   "source": [
    "y.value_counts()"
   ]
  },
  {
   "cell_type": "code",
   "execution_count": 18,
   "id": "00bf8e28",
   "metadata": {},
   "outputs": [],
   "source": [
    "X_train,X_rem, y_train,y_rem = train_test_split(X,y,train_size=0.9,shuffle=True,stratify=y)"
   ]
  },
  {
   "cell_type": "code",
   "execution_count": 19,
   "id": "503d473f",
   "metadata": {},
   "outputs": [],
   "source": [
    "X_val,X_test, y_val,y_test = train_test_split(X_rem,y_rem,test_size=0.5,shuffle = True)"
   ]
  },
  {
   "cell_type": "code",
   "execution_count": 20,
   "id": "d4b68410",
   "metadata": {},
   "outputs": [],
   "source": [
    "tfidf_vector = TfidfVectorizer(tokenizer=my_tokenizer)"
   ]
  },
  {
   "cell_type": "code",
   "execution_count": 21,
   "id": "94d78e4c",
   "metadata": {},
   "outputs": [
    {
     "name": "stdout",
     "output_type": "stream",
     "text": [
      "['#', 'include', '<', 'stdio.h', '>', '', 'int', 'main', '(', ')', '', '{', '', 'int', 'n', ',', 'm', ',', 'a', ',', 'i', ',', 'j', ',', 'max', ',', 'sum', ';', '', 'max=0', ';', '', 'sum=0', ';', '', 'scanf(\"%d%d', '/', 'n\",&n,&m', ')', ';', '', 'for(i=0;i', '<', 'n;i++', ')', '{', '', 'for(j=0;j', '<', 'm;j++){scanf(\"%d\",&a', ')', ';', '', 'sum', '=', 'sum+a', ';', '', '}', '', 'if(max', '<', 'sum){max', '=', 'sum', ';', '}', '', 'else{sum=0', ';', '}', '', 'scanf(\"/n', '\"', ')', ';', '}', '', 'printf(\"%d\",max', ')', ';', '', 'return', '0', ';', '', '}']\n",
      "['#', 'include', '<', 'stdio.h', '>', '', 'int', 'x', ',', 'y', ';', '', 'int', 'max(int', 'num1[x],int', 'num2[y', ']', ')', '', '{', 'if(num1[x]<num2[y', ']', ')', '', 'return', 'y', ';', '', 'else', '', 'return', 'x', ';', '', '}', '', 'int', 'min(int', 'num1[x],int', 'num2[y', ']', ')', '', '{', 'if(num1[x]<num2[y', ']', ')', '', 'return', 'x', ';', '', 'else', '', 'return', 'y', ';', '', '}', '', 'int', 'main', '(', ')', '{', '', 'int', 'm', ',', 'a', ',', 'b', ',', 'z', ';', '', 'scanf(\"%d\\\\n\",&m', ')', ';', '', 'int', 'num[m', ']', ';', '', 'for(int', 'i=0;i', '<', 'm;i++', ')', '{', '', 'scanf(\"%d\",&num[i', ']', ')', ';', '', '}', '', 'for(x=0;x', '<', 'm;x++', ')', '{', '', 'for', '(', 'y=0;y', '<', 'm;y++', ')', '{', '', 'a', '=', 'max(num[x],num[y', ']', ')', ';', '', 'b', '=', 'min(num[x],num[y', ']', ')', ';', '', '}', '', 'num[a]=z', ';', '', 'num[b]=num[a', ']', ';', '', 'z', '=', 'num[b', ']', ';', '', '}', '', 'for(int', 'j=0;j', '<', 'm;j++', ')', '{', '', 'printf', '(', '\"', '%', 'd\",num[j', ']', ')', ';', '', '}', '', 'printf', '(', '\"', 'end', '\"', ')', ';', '//do', 'not', 'modify', 'this', '', 'return', '0', ';', '', '}']\n",
      "['#', 'include', '<', 'stdio.h', '>', '', '#', 'include', '<', 'stdlib.h', '>', '', 'int', 'main', '(', ')', '{', '', 'int', 'n', ',', 'a[10000],i', ',', 'value', ',', 'x=0', ';', '', 'scanf(\"%d\",&n', ')', ';', '', 'for(i=1;i<=n;i++', ')', '', '{', '', 'a[i]=value', ';', '', 'scanf(\"%d\",value', ')', ';', '', '}', '', 'if(a[i]==a[x', ']', ')', '', 'printf(\"%d\",a[0', ']', ')', ';', '', 'return', '0', ';', '', '}']\n",
      "['#', 'include', '<', 'stdio.h', '>', '', 'int', 'main', '(', ')', '{', '', 'int', 'a[1000', ']', ';', '', 'int', 'i', ',', 'j', ',', 'n', ',', 'k', ',', 'm=0', ';', '', 'scanf(\"%d\",&k', ')', ';', '', 'scanf(\"%d\",&n', ')', ';', '', 'for', '(', 'i=0;i<1000;i++', ')', '{', '', 'scanf(\"%d\",&a[i', ']', ')', ';', '', '}', '', 'for', '(', 'i=0;i<1000;i++', ')', '{', '', 'j', '=', 'k', '-', 'a[i', ']', ';', '', 'while(m<1000', ')', '{', '', 'if', '(', 'a[m]==j', ')', '{', '', 'printf(\"lucky', '\"', ')', ';', '', 'break', ';', '', '}', '', 'm++', ';', '', '}', '', 'return', '0', ';', '', '}']\n",
      "['#', 'include', '<', 'stdio.h', '>', '', 'int', 'main', '(', ')', '', '{', '', 'int', 'luckn', ',', 'len', ',', 'i', ',', 'j', ',', 'list[1001],flag=0,arr[501', ']', ';', '', 'scanf(\"%d%d', '\"', ',', '&', 'luckn', ',', '&', 'len', ')', ';', '', 'for(i=0', ';', 'i', '<', 'len', ';', 'i++', ')', '', '{', '', 'scanf(\"%d', '\"', ',', '&', 'list[i', ']', ')', ';', '', '}', '', 'for(i=0', ';', 'i<500', ';', 'i++', ')', '', '{', '', 'arr[i]=0', ';', '', 'for(j=0;j', '<', 'len', ';', 'j++', ')', '', '{', '', 'if(i==list[j', ']', ')', '', 'arr[i]++', ';', '', '}', '', '}', '', 'for(i=0', ';', 'i', '<', 'n', ';', 'i++', ')', '', 'printf(\"%d', '\"', ',', 'arr[i', ']', ')', ';', '', 'for(i=0', ';', 'i<500', ';', 'i++', ')', '', '{', '', 'for(j=0', ';', 'j', '<', 'len', ';', 'j++', ')', '', '{', '', 'if(i==list[j', ']', ')', '', '{', '', 'if(arr[luckn', '-', 'i]!=0', ')', '', '{', '', 'flag=1', ';', '', 'break', ';', '', '}', '', '}', '', '}', '', '}', '', 'if(flag==1', ')', '', 'printf(\"lucky', '\"', ')', ';', '', 'else', '', 'printf(\"unlucky', '\"', ')', ';', '', 'return', '0', ';', '', '}']\n",
      "['#', 'include', '<', 'stdio.h', '>', '', 'int', 'main', '(', ')', '{', '', 'int', 'n', ',', 'i', ',', 'book[99],order[99', ']', ';', '', 'scanf(\"%d\",&n);//initialising', 'array', '', 'for(i=0;i', '<', 'n;i++', ')', '', 'scanf(\"%d\",&book[i', ']', ')', ';', '', 'for(i=0;i', '<', 'n;i++', ')', '', 'scanf(\"%d\",&order[i', ']', ')', ';', '', 'for(i=0;i', '<', 'n;i++)//loop', 'for', 'rearrange', '', '{', '', 'int', 'j', '=', 'order[i', ']', ';', '', 'int', 'c', '=', 'book[j', ']', ';', '', 'book[j]=book[i', ']', ';', '', 'book[i]=c', ';', '', 'printf(\"%d\",book[i', ']', ')', ';', '', '}', '', 'for(i=0;i', '<', 'n;i++', ')', '', 'printf(\"%d', '\"', ',', 'book[i', ']', ')', ';', '', 'printf(\"end', '\"', ')', ';', '//do', 'not', 'modify', 'this', '', 'return', '0', ';', '', '}']\n",
      "['#', 'include', '<', 'stdio.h', '>', '', 'int', 'main', '(', ')', '{', '', '//', 'insert', 'your', 'code', 'here', '', 'int', 'k', ',', 'i', ',', 'j', ',', 'p', ',', 'q', ',', 't', ';', '', 'int', 's[1000', ']', ';', '', 'scanf(\"%d\\\\n%d\",&k,&i', ')', ';', '', 'ch', '=', 'ge', '', 'for(j=0;j', '<', 'i;j', '=', 'j+1', ')', '', '{', '', 'scanf(\"%d\",&s[j', ']', ')', ';', '', '}', '', 'for(p=0;p', '<', 'i;p', '=', 'p+1', ')', '', '{', '', 'for(q=0;q', '<', 'i;q', '=', 'q+1', ')', '', '{', '', 't', '=', 's[p]+s[q];//finde', 'lucky', 'no', '.', '', 'if(t==k', ')', '', '{', '', 'break', ';', '', '}', '', '}', '', '}', '', 'if(t==k', ')', '', '{', '', 'printf(\"lucky\");//for', 'lucky', '', '}', '', 'else{printf(\"unlucky\");}//for', 'unlucky', '', 'return', '0', ';', '', '}']\n",
      "['#', 'include', '<', 'stdio.h', '>', '', '#', 'include', '<', 'string.h', '>', '', 'int', 'main', '(', ')', '', '{', '', 'int', 'k', ',', 'n', ',', 'j', ';', '', 'int', 'a[n', ']', ';', '', 'scanf(\"%d\\\\n', '%', 'd\",&k,&n', ')', ';', '', 'int', 'p', ';', '', 'int', 'i=0', ';', '', 'for(i', '=', 'i;i<=n;i++', ')', '', '{', 'scanf(\"%d\",&a[i', ']', ')', '', 'if(k==a[i]+n', ')', '', 'printf(\"lucky', '\"', ')', '', 'else', '', 'printf(\"unlucky', '\"', ')', ';', '}', '}', '', '//', 'insert', 'your', 'code', 'here', '', 'return', '0', ';', '', '}']\n",
      "['#', 'include', '<', 'stdio.h', '>', '', '#', 'include', '<', 'stdlib.h', '>', '', 'int', 'main', '(', ')', '{', '', 'int', 'i', ',', 'k', ',', 'j', ',', 'n', ';', '', 'scanf(\"%d\",&n', ')', ';', '', 'for(i=1;i<=2*n+1;i++', ')', '', '{', '', 'for(j=1;j<=n+1', '-', 'i;j++', ')', '', '{', '', 'printf', '(', '\"', '\"', ')', ';', '', '}', '', 'if(n%2==0', ')', '{', '', 'for(k=1;k<=n;k++', ')', '{', '', 'if(k%2==0', ')', '{', '', 'printf', '(', '\"', '*', '\"', ')', ';', '}', '', 'else', '{', '', 'printf(\"x', '\"', ')', ';', '}', '', '}', '', '}', '', 'else', '{', '', 'for(k=1;k<=n;k++', ')', '{', '', 'if(k%2==0', ')', '{', '', 'printf(\"x', '\"', ')', ';', '}', '', 'else', '{', '', 'printf', '(', '\"', '*', '\"', ')', ';', '}', '', '}', '', '}', '', 'printf(\"\\\\n', '\"', ')', ';', '', '}', '', 'return', '0', ';', '', '}']\n",
      "['#', 'include', '<', 'stdio.h', '>', '', '#', 'include', '<', 'stdlib.h', '>', '', 'int', 'main', '(', ')', '', '{', '', 'int', 'a', ',', 'i', ',', 'j', ',', 'k=0,p[30],sum=0', ';', '', 'for(i=1;i<30;i++', ')', '', 'p[i]=0', ';', '', 'scanf(\"%d\",&a', ')', ';', '', 'for(i=1;i<=a/2;i++', ')', '', '{', '', 'if(a%i==0', ')', '', '{', '', 'p[k]=i', ';', '', 'k++', ';', '', '}', '', '}', '', 'for(i=1;i<30;i++', ')', '', '{', '', 'for(j=0;j', '<', 'i;j++', ')', '', '{', '', 'if(p[i]%p[j]==0', ')', '', 'p[i]=0', ';', '', '}', '', '}', '', 'i=0', ';', '', 'for(i=0;i<30;i++', ')', '', 'sum', '=', 'sum+p[i', ']', ';', '', 'if(sum==a', ')', '', 'printf(\"ye', '\"', ')', ';', '', 'else', '', 'printf(\"no', '\"', ')', ';', '', 'return', '0', ';', '', '}']\n",
      "['#', 'include', '<', 'stdio.h', '>', '', 'int', 'main', '(', ')', '{', '', 'int', 'k', ',', 'a[1000],l', ',', 'i', ',', 'j', ',', 'm', ',', 'n', ',', 'count', ';', '', 'count=0', ';', '', 'scanf(\"%d\\\\n%d\\\\n\",&k,&l', ')', ';', '', 'for(i=0;i', '<', 'l;i++', ')', '{', '', 'scanf(\"%d', '\"', ',', '&', 'a[i', ']', ')', ';', '', '}', '', 'if(k%2==1', ')', '{', '', 'for(m=0;m', '<', 'l;m++', ')', '{', '', 'for(n=0;n', '<', 'l;n++', ')', '{', '', 'if(count==0', ')', '{', '', 'if', '(', 'a[n]==k', '-', 'a[m', ']', ')', '{', '', 'printf(\"lucky', '\"', ')', ';', '', 'count++', ';', '', '}', '', '}', '', '}', '', '}', '', '}', '', '}', '', '}', '', 'if(count==0', ')', '{', '', 'printf(\"unlucky', '\"', ')', ';', '}', '', 'return', '0', ';', '', '}']\n",
      "['#', 'include', '<', 'stdio.h', '>', '', '#', 'include', '<', 'stdlib.h', '>', '', 'int', 'main', '(', ')', '{', '', 'int', 'n', ',', 'i', ';', '', 'int', 'a[n', ']', ';', '', 'scanf(\"%d\",&n', ')', ';', '', 'for(i=0;i', '<', 'n;i++', ')', '', '{', 'int', 'k=0', ';', '', 'scanf(\"%d\",&a[i', ']', ')', ';', '', 'if((a[i]>a[i+1])&&(a[i+1]<a[i+2', ']', ')', ')', '', '{', '', 'k++', ';', '}', '', 'if(k!=0', ')', '', '{', 'printf(\"ye', '\"', ')', ';', '}', '', 'else', '', '{', 'printf(\"no', '\"', ')', ';', '}', '', '}', '', 'return', '0', ';', '', '}']\n",
      "['#', 'include', '<', 'stdio.h', '>', '', 'int', 'lucky(int', 'a[],int', 'n', ',', 'int', 'k', ')', ';', '', '{', '', 'int', 'i', ',', 'j', ',', 'count=0', ';', '', 'for(i=0;i', '<', 'n;i++', ')', '', '{', '', 'for(j=0;j', '<', 'n;j++', ')', '', 'if(i==j', ')', '', 'continue', ';', '', 'if(a[i]+a[j]==k', ')', '', 'count++', ';', '', '}', '', 'if(count==0', ')', '', 'return', '0', ';', '', 'else', '', 'return', '1', ';', '', '}', '', 'int', 'main', '(', ')', '{', '', '//', 'insert', 'your', 'code', 'here', '', 'int', 'k', ',', 'n', ';', '', 'int', 'a[100', ']', ';', '', 'scanf(\"%d\",&k', ')', ';', '', 'scanf(\"%d\",&n', ')', ';', '', 'int', 'i', ';', '', 'for(i=0;i', '<', 'n;i++', ')', '', '{', '', 'scanf(\"%d\",&a[i', ']', ')', ';', '', '}', '', 'int', 'd', ';', '', 'd', '=', 'lucky(a', ',', 'n', ',', 'k', ')', '', 'if(d==1', ')', '', 'printf(\"lucky', '\"', ')', ';', '', 'else', '', 'printf(\"unlucky', '\"', ')', ';', '', 'return', '0', ';', '', '}']\n",
      "['#', 'include', '<', 'stdio.h', '>', '', '#', 'include', '<', 'stdlib.h', '>', '', 'int', 'catalan(int', 'n', ')', '', '{', '', 'if(n==0', ')', '', 'return', '1', ';', '', 'int', 'i', ',', 'cat', ',', 'k', '=', 'n', ';', '', 'cat', '=', 'cat*((n+k)/k', ')', ';', '', 'for(i=0;i<=n;i++', ')', '', '{', '', 'catalan(n-1', ')', ';', '', '}', '', 'return', 'cat', ';', '', '}', '', 'int', 'main', '(', ')', '{', '', 'int', 'i', ',', 't', ';', '', 'int', 'test', ';', '', 'scanf(\"%d\\\\n\",&t', ')', ';', '//scanne', 'no', '.', 'of', 'test', 'case', '', 'for(i=0;i', '<', 't;i++', ')', '', '{', '', 'scanf(\"%d\\\\n\",&test', ')', ';', '', 'printf(\"%d\\\\n\",catalan(test', ')', ')', ';', '//calling', 'the', 'function', '', '}', '', 'return', '0', ';', '', '}']\n",
      "['#', 'include', '<', 'stdio.h', '>', '', 'int', 'main', '(', ')', '', '{', '', 'int', 'm', ',', 'n', ',', 't', ',', 'j', ',', 'sum[200],f[200],s', ';', '', 'scanf(\"%d%d\",&n,&m', ')', ';', '', 'int', 'a[200', ']', ';', '', 'for(i=1;i<=n;i++', ')', '{', '', 'for(j=0;j<=m;j++', ')', '{', '', 'scanf(\"%d\",&f[j', ']', ')', ';', '', 'sum[i]=0', ';', '', 'sum[i]=sum[i]+f[j', ']', ';', '', '}', '}', '', 'x', '=', 'sum[i', ']', ';', '', 'for(i=2;i<=m;i++', ')', '{', '', 'if(x', '<', 'sum[i', ']', ')', '', 'x', '=', 'sum[i', ']', ';', '}', '', 'printf(\"%d\",x', ')', ';', '', '}', '', 'scanf(\"%d', '\"', ',', '&', ')', '', '//fill', 'this', 'area', 'with', 'your', 'code', '.', '', 'return', '0', ';', '', '}']\n",
      "['#', 'include', '<', 'stdio.h', '>', '', '#', 'include', '<', 'stdlib.h', '>', '', 'int', 'fib(int', 't', ')', '', '{', '', 'if(t==0', ')', '', 'return', '0', ';', '', 'else', 'if', '(', 't==1', ')', '', 'return', '1', ';', '', 'else', '', 'return', '(', 'fib(t-1)+fib(t-2', ')', ')', ';', '', '}', '', 'int', 'main', '(', ')', '', '{', '', 'int', 'a[1000],n', ',', 'i', ',', 'r', ';', '', 'scanf(\"%d', '\"', ',', '&', 'n', ')', ';', '', 'for(i=0;i', '<', 'n;i++', ')', '', '{', '', 'scanf(\"%d', '\"', ',', '&', 'a[i', ']', ')', ';', '', '}', '', 'for(i=0;i', '<', 'n;i++', ')', '', '{', '', 'r', '=', 'fib(a[i', ']', ')', ';', '', 'printf(\"%d\",r', ')', ';', '', '}', '', 'return', '0', ';', '', '}']\n"
     ]
    },
    {
     "name": "stdout",
     "output_type": "stream",
     "text": [
      "['#', 'include', '<', 'stdio.h', '>', '', 'int', 'min(int', 'a', ',', 'int', 'b', ')', '', '{', '', 'if(a', '<', 'b', ')', '', 'return', 'a', ';', '', 'else', '', 'return', 'b', ';', '', '}', '', 'int', 'main', '(', ')', '{', '', 'int', 'n', ',', 'count', ',', 'a', ',', 'b', ',', 'c', ';', '', 'scanf(\"%d\",&n', ')', ';', '', 'int', 'arr[n],s[n', ']', ';', '', 'for', '(', 'int', 'i=0;i', '<', 'n;i++', ')', '', '{', '', 'scanf(\"%d\",&arr[i', ']', ')', ';', '', 'for', '(', 'int', 'j=0;j', '<', 'n;j++', ')', '', '{', '', 'count=0', ';', '', 'scanf(\"%d\",&arr[j', ']', ')', ';', '', 'if(arr[i]==min(arr[i],arr[j', ']', ')', ')', '', 'count', '=', 'count', '+', '1', ';', '', '}', '', 'arr[i]=s[n', '-', 'count', ']', ';', '', '}', '', 'for', '(', 'int', 'j=0;j', '<', 'n;j++', ')', '', '{', '', 'printf(\"%d', '\"', ',', 's[j', ']', ')', ';', '', '}', '', 'printf(\"end', '\"', ')', ';', '//do', 'not', 'modify', 'this', '', 'return', '0', ';', '', '}']\n",
      "['#', 'include', '<', 'stdio.h', '>', '', 'int', 'main', '(', ')', '', '{', '', 'int', 'n', ';', '', 'scanf(\"%d\",&n', ')', ';', '', 'int', 'a[n],max=0,k=0,i', ',', 'sm=0,j', ';', '', 'for(i=0;i', '<', 'n;i++', ')', '', 'scanf(\"%d\",&a[i', ']', ')', ';', '', 'for(i=0;i', '<', 'n;i++', ')', '', '{', '', 'sm', '=', 'a[i', ']', ';', '', 'for(j', '=', 'i+1;j', '<', 'n;j++', ')', '', '{', '', 'if(a[j]>sm', ')', '', '{', '', 'sm', '=', 'a[j', ']', ';', '', 'k++', ';', '', 'printf(\"%d\\\\n\",sm', ')', ';', '', '}', '', '}', '', 'printf', '(', '\"', '%', 'd\\\\n\",k', ')', ';', '', 'if(k', '>', 'max', ')', '', 'max', '=', 'k', ';', '', 'k=1', ';', '', '}', '', 'printf(\"%d\",max', ')', ';', '', 'return', '0', ';', '', '}']\n",
      "['#', 'include', '<', 'stdio.h', '>', '', '#', 'include', '<', 'stdlib.h', '>', '', 'int', 'main', '(', ')', '{', '', 'int', 'n', ';', '', 'scanf(\"%d\",&n', ')', ';', '', 'int', 't', ',', 'a[n],m', ';', '', 'int', 'i=0', ';', '', 'while(n', '>', 'i', ')', '', '{', '', 'a[i]=m', ';', '', 'i++', ';', '', '}', '', 'scanf(\"%d\",&t', ')', ';', '', 'int', 'h', ';', '', 'for(i=0;i', '<', 't;i++', ')', '', '{', '', 'scanf(\"%d\",&h', ')', ';', '', 'if(h==0&&a[0]<a[1', ']', ')', '', '{', 'printf(\"ye', '\"', ')', ';', '', 'continue', ';', '}', '', 'else', '{', '', 'printf(\"no', '\"', ')', ';', '', 'continue', ';', '}', '', 'if(h==n-1&&a[n-1]<a[n-2', ']', ')', '{', '', 'printf(\"ye', '\"', ')', ';', '', 'continue', ';', '}', '', 'else', '{', '', 'printf(\"no', '\"', ')', ';', '', 'continue', ';', '}', '', 'if(a[i]<a[i-1]&&a[i]<a[i+1', ']', ')', '{', '', 'printf(\"ye', '\"', ')', ';', '', 'continue', ';', '}', '', 'else', '{', '', 'printf(\"no', '\"', ')', ';', '', 'continue', ';', '}', '}', '', 'return', '0', ';', '', '}']\n",
      "['#', 'include', '<', 'stdio.h', '>', '', 'int', 'main', '(', ')', '', '{', '', 'int', 'n', ',', 't', ',', 'p', ',', 'sum=0,m', ';', '', 'scanf(\"%d', '%', 'd\",&m,&n', ')', ';', '', 'int', 'k[m*n', ']', ';', '', 'for(t=1;t<=n;t++)//printe', 'the', 'variable', 'n', 'as', 'door', '', '{', '', 'for(p=1;p<=m;p++)//printe', 'the', 'variable', 'm', 'as', 'heap', '', '{', '', 'scanf(\"%d\",f[t*m+p', ']', ')', ';', '', 'sum', '=', 'k[t*m+p]+sum;//sum', 'of', 'all', 'gold', 'find', 'in', 'heap', '', '}', '', 'printf(\"%d\",sum);//printe', 'the', 'sum', '', '}', '', '}', '', 'return', '0', ';', '', '}']\n",
      "['#', 'include', '<', 'stdio.h', '>', '', '#', 'include', '<', 'stdlib.h', '>', '', 'int', 'fibonacci(int', 'n', ')', '', '{', '', 'if(n==1', ')', '', '{', '', 'return', '0', ';', '', '}', '', 'else', 'if(n==2', ')', '', '{', '', '}', '', '}', '', 'int', 'main', '(', ')', '', '{', '', 'int', 't', ',', 'i', ',', 'k', ',', 'an', ';', '', 'scanf(\"%d\",&t);//test', 'case', '', 'for(i=0;i', '<', 't;i++)//loop', 'to', 'run', 'no', 'of', 'test', 'case', '', '{', '', 'scanf(\"%d\",&k);//scanne', 'test', 'case', '', '}', '', 'return', '0', ';', '', '}']\n",
      "['#', 'include', '<', 'stdio.h', '>', '', 'int', 'h', ';', '', 'int', 'healthloss(int', 'c', ',', 'int', 'd', ')', '', '{', '', 'if(c', '>', 'd', ')', '', 'h', '=', 'h+d', '-', 'c', ';', '', 'return', 'h', ';', '', '}', '', 'int', 'main', '(', ')', '', '{', '', 'int', 'p', ',', 'b', ',', 'c', ',', 'i', ',', 'a', ';', '', 'scanf(\"%d\",&h', ')', ';', '', 'scanf(\"%d\",&p', ')', ';', '', 'scanf(\"%d\",&a', ')', ';', '', 'for(i=0;i', '<', 'p;i++', ')', '', '{', '', 'scanf(\"%d\",&b', ')', ';', '', 'h', '=', 'healthloss', '(', 'a', ',', 'b', ')', ';', '', 'if(h<=0', ')', '', '{', '', 'printf(\"no', '\"', ')', ';', '', 'break', ';', '', '}', '', 'a', '=', 'b', ';', '', '}', '', 'if(i==p-1', ')', '', 'printf(\"ye', '\"', ')', ';', '', 'return', '0', ';', '', '}']\n",
      "['#', 'include', '<', 'stdio.h', '>', '', 'int', 'main', '(', ')', '', '{', '', 'int', 'i', ',', 'n', ',', 'k', ',', 'ln', ',', 'c=0', ';', '', 'int', 'a[500', ']', ';', '', 'scanf(\"%d\",&k', ')', ';', '', 'for(i=0;i', '<', 'n;i++', ')', '', '{', '', 'scanf(\"%d\",&ln', ')', ';', '', 'a[ln]=1', ';', '', '}', '', 'for(i=0;i<=250;i++', ')', '', '{', '', 'if(a[i]==1&&a[k', '-', 'i]==1', ')', '', 'c++', ';', '', '}', '', 'if(c>0', ')', '', 'printf(\"lucky', '\"', ')', ';', '', 'else', '', 'printf(\"unlucky', '\"', ')', '', 'return', '0', ';', '', '}']\n",
      "['#', 'include', '<', 'stdio.h', '>', '', '#', 'include', '<', 'stdlib.h', '>', '', 'int', 'main', '(', ')', '{', '', 'int', 'storage', ',', 'i', ';', '', 'int', 'size', ',', 'no_test', ',', 'index', ';', '', 'scanf(\"%d', '\"', ',', '&', 'size', ')', ';', '//scan', 'size', '', 'int', 'a[size', ']', ';', '//', 'now', 'scan', 'element', 'and', 'make', 'array', '', 'for(i=0', ';', 'i', '<', 'size', ';', 'i++', ')', '{', '', 'scanf(\"%d\",&a[i', ']', ')', ';', '', '}', '', 'scanf(\"%d', '\"', ',', '&', 'no_test', ')', ';', '//scan', 'no_testcasescanf(\"%d\",&index', ')', ';', '', 'for(index=0;index', '<', 'no_t', ';', 'index++', ')', '{', '', 'scanf(\"%d\",&index', ')', ';', '', 'if', '(', 'index==0', ')', '{', '', 'if', '(', 'a[index]>a[index+1', ']', ')', '{', '', 'printf(\"ye', '\"', ')', ';', '', '}', '', 'else', 'printf(\"no', '\"', ')', ';', '', '}', '', 'else', 'if', '(', 'index==size-1', ')', '{', '', 'if', '(', 'a[index]>a[index-1', ']', ')', '{', '', 'printf(\"ye', '\"', ')', ';', '', '}', '', 'else', 'printf(\"no', '\"', ')', ';', '', '}', '', 'else', 'if', '(', 'a[index]>a[index-1', ']', '&', '&', 'a[index]>a[index+1', ']', ')', '{', '', 'printf(\"ye', '\"', ')', ';', '', '}', '', 'else', 'printf(\"no', '\"', ')', ';', '', '}', '', 'return', '0', ';', '', '}']\n",
      "['#', 'include', '<', 'stdio.h', '>', '', 'int', 'main', '(', ')', '{', '', 'int', 'n', ',', 'i', ',', 'j', ',', 'flag', ';', '', 'scanf(\"%d%d%d\",&n,&i,&j', ')', ';', '', 'for', '(', 'i=0;i', '<', 'n;i++', ')', '', 'flag=0', ';', '', 'for(j', '=', 'i;j', '<', 'n;j++', ')', '', '{', '', 'break', ';', '', 'flag=1', ';', '', '}', '', 'if(flag==1', ')', '', '{', '', 'printf(\"lucky', '\"', ')', ';', '', '}', '', 'else', '', '{', '', 'printf(\"unlucky', '\"', ')', ';', '', '}', '', '}', '', 'printf(\"end', '\"', ')', ';', '', 'return', '0', ';', '', '}']\n",
      "['#', 'include', '<', 'stdio.h', '>', '', 'int', 'main', '(', ')', '', '{', '', 'int', 'n[1000],a[500],nm', ',', 'i', ',', 'j', ',', 'ln', ',', 'flag=0,c', ';', '', 'scanf(\"%d\\\\n\",&ln', ')', ';', '', 'scanf(\"%d\\\\n\",&nm', ')', ';', '', 'for(i=0;i<500;i++', ')', '', '{', '', 'a[i]=0', ';', '', '}', '', 'for(i=0;i', '<', 'nm;i++', ')', '', '{', '', 'scanf(\"%d', '\"', ',', '&', 'n[i', ']', ')', ';', '', 'c', '=', 'n[i', ']', ';', '', 'a[c]=a[c]+1', ';', '', '}', '', 'for(i=0;i', '<', 'nm', '&', '&', 'flag==0', '&', '&', 'n[i]<=ln;i++', ')', '', '{', '', 'for(j=0;j', '<', 'nm;j++', ')', '', '{', '', 'if(ln', '-', 'n[i]==n[j', ']', ')', '', '{', '', 'c', '=', 'nm', ';', '', 'if(a[c]!=0', ')', '', '{', '', 'flag=1', ';', '', 'break', ';', '', '}', '', '}', '', '}', '', '}', '', 'if(flag==1', ')', 'printf(\"lucky', '\"', ')', ';', '', 'else', 'printf(\"unlucky', '\"', ')', ';', '', 'return', '0', ';', '', '}']\n",
      "['#', 'include', '<', 'stdio.h', '>', '', '#', 'include', '<', 'stdlib.h', '>', '', 'int', 'main', '(', ')', '', '{', '', 'int', 'a', ',', 'b', ',', 'i', ',', 'j', ',', 'k', ',', 'l', ';', '', '//size', 'of', 'the', 'number', '', 'scanf(\"%d\\\\n%d\\\\n\",&a,&b', ')', ';', '', 'int', 'x[a', ']', ';', '', 'int', 'y[b', ']', ';', '', 'for(i=0', ';', 'i', '<', 'a', ';', 'i++', ')', '', '{', '', 'scanf(\"%d\",&x[i', ']', ')', ';', '', '}', '', 'for(j=0', ';', 'j', '<', 'b', ';', 'j++', ')', '', '{', '', 'scanf(\"%d\",&y[i', ']', ')', ';', '', '}', '', 'if(a', '>', 'b', ')', '', '{', '', 'int', 'sum[a+1', ']', ';', '', 'for(k=0', ';', 'k<=a', ';', 'k++', ')', '', '{', '', 'sum[k]=(x[k]+y[k', ']', ')', ';', '', 'if(sum[k]>10', ')', '', '{', '', 'sum[k+1]=sum[k+1]+1', ';', '', 'sum[k]=sum[k]%10', ';', '', '}', '', 'printf(\"%d\",sum[k', ']', ')', ';', '', '}', '', '}', '', 'else', '//b', '>', 'a', '', '{', '', 'int', 'sum[b+1', ']', ';', '', 'for(l=0', ';', 'l<=b', ';', 'l++', ')', '', '{', '', 'sum[l]=x[l]+y[l', ']', ';', '', 'if(sum[l]>10', ')', '', '{', '', 'sum[l+1]=sum[l+1]+1', ';', '', 'sum[l]=sum[l]%10', ';', '', '}', '', 'printf(\"%d\",sum[l', ']', ')', ';', '', '}', '', '}', '', 'return', '0', ';', '', '}']\n",
      "['#', 'include', '<', 'stdio.h', '>', '', '#', 'include', '<', 'stdlib.h', '>', '', 'int', 'main', '(', ')', '', '{', '', 'int', 'i', ',', 'j', ',', 'count=0,count1=0', ';', '', 'long', 'int', '*', 'ap,*bp', ';', '', 'long', 'int', 'n', ',', 'm', ',', 'x', ',', 'y', ',', 'a[100001],b[100001', ']', ';', '', 'scanf(\"%ld%ld%ld%ld\",&n,&m,&x,&y', ')', ';', '', 'for(i=0;i', '<', 'n;i++', ')', '', '{', '', 'scanf(\"%ld\",&a[i', ']', ')', ';', '', '}', '', 'for(i=0;i', '<', 'm;i++', ')', '', '{', '', 'scanf(\"%ld\",&b[i', ']', ')', ';', '', '}', '', '/', '*', 'ap', '=', 'a', ';', '', 'bp', '=', 'b', ';', '', '/', '*', 'for(i=0;i', '<', 'n;i++', ')', '', '{', '', 'int', 'count1=0', ';', '', 'for(j=0;j', '<', 'm;j++', ')', '', '{', '', 'if(*bp>=*ap', '-', 'x&&*bp<=*ap+y', ')', '', '{', '//printf(\"%ld\\\\n\",*bp', ')', ';', '', 'bp++', ';', '', 'ap++', ';', '', 'count1++', ';', '', 'break', ';', '', '}', '', 'ap++', ';', '', '}', '', 'if(count1==0', ')', ';', '', 'bp++', ';', '', '}', '', 'for(i=0;i', '<', 'n;i++', ')', '', '{', '', 'for(j=0;j', '<', 'm;j++', ')', '', '{', '//printf(\"%di\\\\n\",i);printf(\"%dj\\\\n\",j', ')', ';', '', 'if(b[j]>=(a[i]-x)&&*(bp+j)<=(*(ap+i)+y', ')', ')', '', '{', '//printf(\"%dj\\\\n\",j', ')', ';', '', 'printf(\"%d', '%', 'd\\\\n\",i+1,j+1', ')', ';', '', 'count++', ';', '', 'j', '=', 'm-1', ';', '', '}', '', '}', '', '}', '', 'for(i', '=', 'count1;i', '<', 'n;i++', ')', '', '{', '', 'for(j', '=', 'count2;j', '<', 'm;j++', ')', '', '{', '', 'if(b[j]>=a[j]-x&&b[j]<=a[j]+y', ')', '', '{', '', 'c', '', '}', '', '}', '', '}', '*', '/', '', 'while(i', '<', 'n', ')', '', '{', '', 'for(j', '=', 'count1;j', '<', 'm;j++', ')', '', '{', '', 'if(b[j]>=(a[i]-x)&&b[j]<=(a[i]+y', ')', ')', '', '{', '', 'count++;count1++;printf(\"%d\\\\n\",count', ')', ';', '', 'break', ';', '', '}', '', '}', '', 'i++', ';', '', '}', '', 'printf(\"%d\\\\n\",count', ')', ';', '', 'return', '0', ';', '', '}']\n",
      "['#', 'include', '<', 'stdio.h', '>', '', 'int', 'main', '(', ')', '', '{', '', 'int', 'n', ',', 'k', ',', 'i', ',', 'j', ',', 'l', ';', '', 'scanf', '(', '\"', '%', 'd\\\\n%d', '\"', ',', '&', 'k', ',', '&', 'n', ')', ';', '', 'int', 'number[n', ']', ';', '', 'for', '(', 'i=0', ';', 'i', '<', 'n', ';', 'i++', ')', '', '{', '', 'scanf', '(', '\"', '%', 'd', '\"', ',', '&', 'number[i', ']', ')', ';', '', '}', '', 'for', '(', 'j=0', ';', 'j', '<', 'n', ';', 'j++', ')', '', '{', '', 'for', '(', 'l=0', ';', 'l', '<', 'n', ';', 'l++', ')', '', '{', '', 'if', '(', 'number[j]+number[l])==k', ')', '', 'printf', '(', '\"', 'lucky', '\"', ')', ';', '', 'break', ';', '', 'else', 'continue', ';', '', '}', '', '}', '', 'return', '0', ';', '', '}']\n",
      "['#', 'include', '<', 'stdio.h', '>', '', 'int', 'main', '(', ')', '{', '', 'int', 'n', ',', 'k', ',', 'j', ',', 'i', ',', 'c=0', ';', '', 'scanf(\"%d\",&k', ')', ';', '', 'scanf(\"%d\",&n', ')', ';', '', 'int', 'a[n', ']', ';', '', 'for(i=0,i', '<', 'n;i++', ')', '{', '', 'scanf(\"%d\",&a[i', ']', ')', ';', '', '}', '', 'for(i=0;i', '<', 'n;i++', ')', '{', '', 'for(j=0;j', '<', 'n;j++', ')', '{', '', 'if(a[i]+a[j]==k', ')', '{', '', 'c++', ';', '', 'printf(\"lucky', '\"', ')', ';', '', 'break', ';', '', '}', '', 'if(a[i]+a[j]==k', ')', '', 'break', ';', '', 'printf(\"%d,%d\",i', ',', 'j', ')', ';', '', '}', '', '}', '', 'if(c==0', ')', '', 'printf(\"unlucky', '\"', ')', ';', '', 'return', '0', ';', '', '}']\n",
      "['#', 'include', '<', 'stdio.h', '>', '', 'int', 'n', ';', '', 'int', 'counter(int', 'num', ')', '', '{', '', 'int', 'j', ';', '', 'for(j=0;j', '<', 'n;j++', ')', '', '{', '', 'if(list[j]==i', ')', '', 'count++', ';', '', '}', '', 'return', 'count', ';', '', '}', '', 'int', 'main', '(', ')', '{', '', 'int', 'lucky', ',', 'i', ',', 'flag', ',', 'num', ',', 'p1=0,p2=0', ';', '', 'scanf(\"%d\",&n', ')', ';', '', 'scanf(\"%d\",&lucky', ')', ';', '', 'int', 'list[n', ']', ';', '', 'for(i=0;i', '<', 'n;i++', ')', '', 'scanf(\"%d\",&list[i', ']', ')', ';', '', 'for(i=0;i<=499;i++', ')', '', '{', '', 'p1', '=', 'counter[i', ']', ';', '', 'p2', '=', 'counter[lucky', '-', 'i', ']', ';', '', 'if(p1>0&&p2>0', ')', '', '{', '', 'printf(\"lucky', '\"', ')', ';', '', 'break', ';', '', '}', '', 'else', '', 'continue', ';', '', '}', '', '}', '', 'return', '0', ';', '', '}']\n"
     ]
    },
    {
     "name": "stdout",
     "output_type": "stream",
     "text": [
      "['#', 'include', '<', 'stdio.h', '>', '', 'int', 'main', '(', ')', '{', '', '//', 'insert', 'your', 'code', 'here', '', 'int', 'k', ',', 'n', ',', 'count=0', ';', '', 'scanf(\"%d', '%', 'd\",&k,&n', ')', ';', '', 'int', 'a[n', ']', ';', '', 'scanf(int', 'i=0;i', '<', 'n;i++', ')', '', '{', '', 'scanf(\"%d\",&a[i', ']', ')', ';', '', '}', '', 'for(int', 'i=0;i', '<', 'n;i++', ')', '', '{', '', 'for(int', 'j=0;j', '<', 'n;j++', ')', '', '{', '', 'if(a[j]>=a[i]&&a[j]<k', ')', '', '{', '', 'int', 't', '=', 'a[i', ']', ';', '', 'a[i]=a[j', ']', ';', '', 'a[j]=t', ';', '', '}', '', '}', '', '}', '', 'for(int', 'i=0;i', '<', 'n;i++', ')', '', '{', '', 'if(a[i]<k)count', '=', 'count+1', ';', '', '}', '', 'printf(\"%d\",count', ')', ';', '', 'return', '0', ';', '', '}']\n",
      "['#', 'include', '<', 'stdio.h', '>', '', '#', 'include', '<', 'stdlib.h', '>', '', 'int', 'main', '(', ')', '{', '', 'int', 'i', ',', 'n', ',', 'k', ',', 'x=0', ';', '', 'char', 'a[20', ']', ';', '', 'scanf(\"%d\\\\n\",&n', ')', ';', '', 'for', '(', 'i=0;i', '<', 'n;i++', ')', '', 'scanf(\"%c\",&a[i', ']', ')', ';', '', 'for(k=1;k', '<', 'n-1;k++', ')', '', '{', 'if(((a[k]<a[k-1', ']', ')', '&', '&', '(', 'a[k]<a[k+1', ']', ')', ')', '||', '(', '(', 'a[0]<a[1', ']', ')', '||', '(', 'a[n-1]<a[n-2', ']', ')', ')', ')', '', 'x=1', ';', '}', '', 'if(x==1', ')', '', 'printf(\"ye', '\"', ')', ';', '', 'else', '', 'if(x==0)printf(\"no', '\"', ')', ';', '', 'return', '0', ';', '', '}']\n",
      "['#', 'include', '<', 'stdio.h', '>', '', 'int', 'main', '(', ')', '{', '', 'int', 'k', ',', 'i', ';', '', 'int', 'b1,b2', ';', '', '//initialise', 'variables', '', 'int', 'n', ';', '', 'int', 's[1000', ']', ';', '', 'scanf(\"%d%d\",&k,&n);//scan', 'actual', 'lucky', 'no.//no', '.', 'of', 'value', 'of', 'n', '', 'for(i=0;i', '<', 'n;i++', ')', '', '{', 'scanf(\"%d\",&b1', ')', ';', '', '//assigning', 'value', 'to', 'index', '', 's[i]=b1', ';', '}', '', 'i', '=', 'k', '-', 'i', ';', '', 'scanf(\"%d\",&b2', ')', ';', '', 's[i]=b2', ';', '', 'if(k==b1+b2){printf(\"lucky', '\"', ')', ';', '', '}', '', 'else{printf(\"unlucky', '\"', ')', ';', '', '}', '', '}', '}', '', 'return', '0', ';', '', '}']\n",
      "['#', 'include', '<', 'stdio.h', '>', '', 'int', 'main', '(', ')', '', '{', '', 'int', 'height', ';', '', 'int', 'weight', ';', '', 'float', 'h', ',', 'w', ',', 'bmi', ';', '', '//h', 'be', 'height', 'and', 'w', 'be', 'weight', 'of', 'person', '', 'scanf(\"%d%d\",&height,&weight', ')', ';', '', 'h', '=', 'height', ';', '', 'w', '=', 'weight', ';', '', 'bmi=(w/((h/100)*(h/100', ')', ')', ')', ';', '', 'printf(\"%.2f', 'm', ',', '%', '.2f', 'kg', ':', 'bmi', '=', '%', '.2f\\\\n\",h/100.0,w', ',', 'bmi', ')', ';', '', 'if(bmi>18.5', ')', '', '{', 'printf(\"you', 'have', 'low', 'weight', '\"', ')', ';', '}', '', 'else', 'if', '(', 'bmi>=18.5&&bmi<25', ')', '', '{', 'printf(\"you', 'have', 'normal', 'weight', '\"', ')', ';', '}', '', 'else', 'if', '(', 'bmi>=25&&bmi<30', ')', '', '{', 'printf(\"obesity(1st', '-', 'degree', ')', '\"', ')', ';', '}', '', 'else', 'if', '(', 'bmi>=30&&bmi<35', ')', '', '{', 'printf(\"obesity(2nd', '-', 'degree', ')', '\"', ')', ';', '}', '', 'else', 'if', '(', 'bmi>=35&&bmi<40', ')', '', '{', 'printf(\"obesity(3rd', '-', 'degree', ')', '\"', ')', ';', '}', '', 'else', 'if', '(', 'bmi>=40', ')', '', '{', 'printf(\"obesity(4th', '-', 'degree', ')', '\"', ')', ';', '}', '', 'return', '0', ';', '', '}']\n",
      "['#', 'include', '<', 'stdio.h', '>', '', '#', 'include', '<', 'stdlib.h', '>', '', 'int', 'main', '(', ')', '{', '', 'int', 'n', ';', '', 'scanf(\"%d\",&n', ')', ';', '', 'if(n==1', ')', '', '{', '', 'printf(\"yes\\\\n', '\"', ')', ';', '', 'return', '0', ';', '', '}', '', 'int', 'a[n],i', ';', '', 'for', '(', 'i=0;i', '<', 'n;i++', ')', '', '{', '', 'scanf(\"%d\",&a[i', ']', ')', ';', '', '}', '', 'int', 'l', ';', '', 'for(l=1;l<=n-1;l++', ')', '', '{', '', 'if(a[1]>=a[0', ']', ')', '', 'printf(\"no', '\"', ')', ';', '', 'else', '', '{', '', 'if', '(', '(', 'a[l]>=a[l-1])||(a[l]>=a[l+1', ']', ')', ')', '', '{', '', 'printf(\"no', '\"', ')', ';', '', 'break', ';', '', '}', '', '}', '', 'if(l==n', ')', '', 'printf(\"ye', '\"', ')', ';', '}', '', '/*if(a[0]<a[1', ']', ')', '', '{', '', '}', '', 'else', '', '{', '', 'printf(\"no\\\\n', '\"', ')', ';', '', '}', '', '}', '', 'else', '', '{', '', 'if(l==(n-1', ')', ')', '', '{', '', 'if(a[n-1]<a[n-2', ']', ')', '', '{', '', 'printf(\"yes\\\\n', '\"', ')', ';', '', '}', '', 'else', '', '{', '', 'printf(\"no\\\\n', '\"', ')', ';', '', '}', '', '}', '', 'else', '', '{', '', 'if((a[l-1]>a[l])&&(a[l]<a[l+1', ']', ')', ')', '', '{', '', 'printf(\"yes\\\\n', '\"', ')', ';', '', '}', '', 'else', '', '{', '', 'printf(\"no\\\\n', '\"', ')', ';', '', '}', '', '}', '', '}', '', '}', '*', '/', '', 'return', '0', ';', '', '}']\n",
      "['#', 'include', '<', 'stdio.h', '>', '', 'int', 'main', '(', ')', '{', '', 'int', 'i', ',', 'arr[500', ']', ',', 'sum', ',', 'num', ';', '', 'scanf(\"%d', '\"', ',', '&', 'num', ')', ';', '', '//reade', 'value', 'into', 'array', '', 'for', '(', 'i', '=', '0', ';', 'i', '<', 'num', ';', 'i++', ')', '', 'scanf(\"%d', '\"', ',', '&', 'arr[i', ']', ')', ';', '', '//computation', 'of', 'total', '', 'sum', '=', '0', ';', '', 'for', '(', 'i', '=', '0', ';', 'i', '<', 'num', ';', 'i++', ')', '', 'sum', '=', 'sum', '+', 'arr[i', ']', ';', '', '//printe', 'of', 'all', 'element', 'of', 'array', '', 'if', '(', 'i', '<', 'num', ')', '{', '', 'printf(\"lucky', '\"', ')', ';', '', '}', '', 'else', '', 'printf(\"unlucky', '\"', ')', ';', '', '}', '', 'for', '(', 'i', '=', '0', ';', 'i', '<', 'num', ';', 'i++', ')', '', 'printf(\"lucky', '\"', ')', ';', '', 'return', '(', '0', ')', ';', '', '}']\n",
      "['#', 'include', '<', 'stdio.h', '>', '', 'int', 'main', '(', ')', '', '{', '', 'int', 'i', ',', 'n', ',', 'x', ',', 'm', ',', 'sum=0', ';', '', 'scanf(\"%d\",&n', ')', ';', '', 'for(i', '=', 'n;i!=0', ';)', '', '{', '', 'm', '=', 'i%10', ';', '', 'sum', '=', 'sum+m', ';', '', 'i', '=', 'i/10', ';', '', '}', '', 'for(x=2016;;x++', ')', '', '{', '', 'if(x%sum==0', ')', '', 'printf(\"%d\",x', ')', ';', '', 'break', ';', '', '}', '', 'return', '0', ';', '', '}']\n",
      "['#', 'include', '<', 'stdio.h', '>', '', 'int', 'main', '(', ')', '', '{', '', 'int', 'n', ',', 'i', ',', 'j', ',', 'mis', ',', 'rep', ';', '', 'scanf(\"%d\",&n', ')', ';', '', 'int', 'array[n],occurence[n', ']', ';', '', 'for(i=0;i', '<', 'n;i++', ')', '', '{', '', 'scanf(\"%d\",&array[i', ']', ')', ';', '', '}', '', 'for(i=0;i', '<', 'n;i++', ')', '', '{', '', 'occurence[i]=0', ';', '', 'for(j=0;j', '<', 'n;j++', ')', '', '{', '', 'if(array[i]==array[j', ']', ')', '', '{', '', 'occurence[i]++', ';', '', '}', '', '}', '', 'if(occurence[i]==2', ')', '', '{', '', 'printf(\"%d\",array[i', ']', ')', ';', '', '}', '', '}', '', 'for(i=0;i', '<', 'n;i++', ')', '', '{', '', 'if(occurence[i]==0', ')', '', '{', '', 'printf(\"%d\",array[i', ']', ')', ';', '', '}', '', '}', '', 'return', '0', ';', '', '}']\n",
      "['#', 'include', '<', 'stdio.h', '>', '', '#', 'include', '<', 'stdlib.h', '>', '', 'int', 'tohanoi(int', 'n', ')', '{', '', 'if(n==0', ')', 'return', '0', ';', '', 'return', '2*tohanoi(n-1)+1', ';', '', '}', '', 'int', 'srch(long', 'int', 'arr[],int', 'start', ',', 'int', 'end', ',', 'int', 'k', ')', '{', '', 'if(start', '>', 'end', ')', 'return', '0', ';', '', 'int', 'mid=(start+end)/2', ';', '', 'if(k==arr[mid', ']', ')', 'return', '1', ';', '', 'else', 'if(k', '<', 'arr[mid', ']', ')', 'return', 'srch(arr', ',', 'start', ',', 'mid-1,k', ')', ';', '', 'else', 'return', 'srch(arr', ',', 'mid+1,end', ',', 'k', ')', ';', '', 'return', '0', ';', '', '}', '', 'int', 'main', '(', ')', '{', '', 'long', 'int', 'toh[27', ']', ';', '', 'int', 'i', ';', '', 'for(i=0;i<27;i++', ')', '{', '', 'toh[i]=tohanoi(i', ')', ';', '', '}', '', 'printf(\"%ld\",toh[27', ']', ')', ';', '', 'int', 't', ';', '', 'scanf(\"%d\",&t', ')', ';', '', 'long', 'int', 'k', ';', '', 'for(i=0;i', '<', 't;i++', ')', '{', '', 'scanf(\"%ld\",&k', ')', ';', '', 'if(srch(toh,0,27,k', ')', ')', 'printf(\"yes\\\\n', '\"', ')', ';', '', 'else', 'printf(\"no\\\\n', '\"', ')', ';', '', '}', '', 'return', '0', ';', '', '}']\n",
      "['#', 'include', '<', 'stdio.h', '>', '', 'int', 'main', '(', ')', '{', '', 'int', 'c=0,i', ',', 'n', ',', 'k', ',', 'list[1000],b[500];/*declare', '2', 'array', 'list', 'and', 'b', '', ',', 'list', 'store', 'the', 'enter', 'entry', 'and', 'b', 'have', 'non', '-', 'zero', 'value', 'for', 'the', '', 'enter', 'entries*/', '', 'scanf(\"%d\",&k', ')', ';', '', 'scanf(\"%d\",&n', ')', ';', '', 'for(i=0;i', '<', 'n;i++', ')', '', 'scanf(\"%d\",&list[i', ']', ')', ';', '', 'for(i=0;i<500;i++', ')', '', 'b[i]=0;/*intializing', 'value', '0', 'to', 'all', 'the', 'element', 'of', 'b*/', '', 'for(i=0;i', '<', 'n;i++', ')', '', 'b[list[i]]++;/*incrementing', 'b', 'for', 'the', 'enter', 'enterie', 'in', 'list*/', '', 'for(i=0;i', '<', 'n;i++', ')', '', '{', '', 'if((k', '-', 'i)<500', '&', '&', '(', 'k', '-', 'i)>0', ')', '', '{', '', 'if(b[list[i]]!=0', '&', '&', 'b[list[k', '-', 'i]]!=0', ')', '', 'c++;/*if', 'we', 'find', 'even', '1', 'i', 'such', 'that', 'we', 'have', 'k', '-', 'i', 'also', 'as', '', 'one', 'of', 'the', 'enterie', 'then', 'we', 'luck', 'and', 'so', 'increase', 'the', '', 'counter', 'for', 'c*/', '', '}', '', 'if(c==0', ')', '', 'printf(\"unlucky', '\"', ')', ';', '', 'else', '', 'printf(\"lucky', '\"', ')', ';', '', 'return', '0', ';', '', '}']\n",
      "['#', 'include', '<', 'stdio.h', '>', '', 'int', 'main', '(', ')', '{', '', 'int', 'a', ',', 'b', ',', 'c', ',', 'i', ',', 'k', ',', 'j', ';', '', 'scanf(\"%d\",&a', ')', ';', '', 'scanf(\"%d\",&b', ')', ';', '', 'int', 's[b', ']', ';', '', 'for(i=0;i', '<', 'b;i++', ')', '{', '', 'scanf(\"%d\",&s[i', ']', ')', ';', '', '}', '', 'c=0', ';', '', 'for(i=0;i', '<', 'b;i++', ')', '{', '', 'k', '=', 's[i', ']', ';', '', 'for(j', '=', 'i+1;j', '<', 'a;j++', ')', '{', '', 'if(s[j]==k-1', ')', '{', 'printf(\"lucky', '\"', ')', '', 'c=1', '', 'break', ';', '}', '', '}', '', '}', '', 'if(c==0', ')', 'printf(\"unlucky', '\"', ')', ';', '', '//', 'insert', 'your', 'code', 'here', '', 'return', '0', ';', '', '}']\n",
      "['#', 'include', '<', 'stdio.h', '>', '', '#', 'include', '<', 'stdlib.h', '>', '', '#', 'include', '<', 'math.h', '>', '', 'void', 'transfer(int', 'n', ',', 'char', 'from', ',', 'char', 'to', ',', 'char', 'temp', ')', '{', '', 'int', 'count=0', ';', '', 'if(n>0', ')', '{', '', 'transfer(n-1,from', ',', 'temp', ',', 'to', ')', ';', '', 'transfer(n-1,temp', ',', 'to', ',', 'from', ')', ';', '', '}', 'count++', ';', '', 'return', 'count', ';', '', '}', '', 'int', 'main', '(', ')', '{', '', 'int', 'n', ';', '', 'scanf(\"%d\",&n', ')', ';', '', \"transfer(n,'l','r','c\", \"'\", ')', ';', '', 'return', '0', ';', '', '}']\n",
      "['#', 'include', '<', 'stdio.h', '>', '', '#', 'include', '<', 'stdlib.h', '>', '', 'int', 'main', '(', ')', '{', '', 'int', 'i', ',', 'j', ',', 'l', ',', 'm', ',', 'n', ',', 'p', ';', '', 'scanf(\"%d\",&n', ')', ';', '', 'p=(n+1)/2', ';', '', 'for(i=1;i<=p;i++', ')', '{', '', 'for(j=1;j<=i', ';)', '{', '', 'if(j!=1', '&', '&', 'j!=i', ')', '{', '', 'printf', '(', '\"', '\"', ')', ';', '}', '', 'else', '', 'printf', '(', '\"', '*', '\"', ')', ';', '', 'j++', ';', '', '}', '', 'printf(\"\\\\n', '\"', ')', ';', '', '}', '', 'for(l', '=', 'p+1;l<=n;l++', ')', '{', '', 'for(m=1;m<=n', '-', 'l+1;m++', ')', '{', '', 'if(m!=1', '&', '&', 'm!=n', '-', 'l', ')', '', 'printf', '(', '\"', '\"', ')', ';', '', 'else', '', 'printf', '(', '\"', '*', '\"', ')', ';', '', '}', '', 'printf(\"\\\\n', '\"', ')', ';', '', '}', '', 'return', '0', ';', '', '}']\n",
      "['#', 'include', '<', 'stdio.h', '>', '', '#', 'include', '<', 'stdlib.h', '>', '', 'int', 'catalan(int', 'n', ')', '{', '', 'if(n==0', ')', '', 'return', '1', ';', '', 'else', '', 'return', '(', '(', '2*n-1)/((n)*(n+1)))*catalan(n-1', ')', ';', '', '}', '', 'int', 'main', '(', ')', '{', '', 'int', 't', ',', 'i', ',', 'a[t', ']', ';', '', 'scanf(\"%d\",&t', ')', ';', '', 'for(i=0;i', '<', 't;i++', ')', '{', '', 'scanf(\"%d\",&a[i', ']', ')', ';', '', 'printf(\"%d\",catalan(a[i', ']', ')', ')', ';', '', '}', '', 'return', '0', ';', '', '}']\n",
      "['#', 'include', '<', 'stdio.h', '>', '', 'int', 'main', '(', ')', '', '{', '', 'int', 'n', ',', 'm', ',', 'current', ',', 'max_total=0', ';', '', 'scanf(\"%d', '%', 'd', '\"', ',', '&', 'n', ',', '&', 'm', ')', '', 'int', 'total[n', ']', ';', '//total', '[', ']', 'contain', 'the', 'amount', 'of', 'toal', 'gold', 'in', 'each', 'door', '.', '', 'for(int', 'i=0;i', '<', 'n;i++', ')', '', '{', '', 'total[i]=0', ';', '', 'for(int', 'j=0;j', '<', 'm;j++', ')', '', '{', '', 'scanf(\"%d', '\"', ',', '&', 'current', ')', ';', '', 'total[i]+=current', '', '}', '', 'if(total[i]>max_total', ')', '', 'max_total', '=', 'total[i', ']', ';', '', '}', '', 'printf(\"%d', '\"', ',', 'max_total', ')', ';', '', 'return', '0', ';', '', '}']\n",
      "['#', 'include', '<', 'stdio.h', '>', '', 'int', 'arr[100', ']', ';', '', 'int', 'getinversions(int', 'l', ',', 'int', 'r', ')', '', '{', '', 'int', 'i', ',', 'j', ',', 'a=0,b', ';', '', 'for(i', '=', 'l;i<(l+r);i++', ')', '{', '', 'for(j', '=', 'l;j', '<', 'l+r;j++', ')', '{', '', 'if', '(', '(', 'arr[i]-arr[j])*(i', '-', 'j)<0', ')', '', 'a', '=', 'a+1', ';', '', '}', '', '}', 'b', '=', 'a/2', ';', '', 'return', 'b', ';', '', '}', '', 'int', 'main', '(', ')', '{', '', 'int', 'i', ',', 'k', ',', 'n', ',', 'd[10000],max', '=', '0', ';', '', 'scanf(\"%d', '/', 'n%d', '/', 'n\",&n,&k', ')', ';', '', 'for(i=0;i', '<', 'n;i++', ')', '{', '', 'scanf(\"%d\",&arr[i', ']', ')', ';', '', '}', '', 'for(i=0;i<(n', '-', 'k+1);i++', ')', '', '{', '', 'd[i', ']', '=', 'getinversions(i', ',', 'i+k-1', ')', ';', '', '}', '', 'for(i=1;i', '<', 'n', '-', 'k+1;i++', ')', '{', '', 'if', '(', 'd[i', ']', '>', 'd[max', ']', ')', '', 'max', '=', 'i', ';', '', '}', '', 'printf(\"%d\",d[max', ']', ')', ';', '', 'return', '0', ';', '', '}']\n"
     ]
    },
    {
     "name": "stdout",
     "output_type": "stream",
     "text": [
      "['#', 'include', '<', 'stdio.h', '>', '', 'int', 'main', '(', ')', '{', '', 'int', 'k', ',', 'i', ',', 'j', ',', 'n', ',', 'list[1000],flag=0;//list', '=', 'list', 'of', 'number', '', 'int', '', 'scanf(\"%d\",&k', ')', ';', '', 'scanf(\"%d\",&n', ')', ';', '', 'for(i=0;i', '<', 'n;i++', ')', '', '{', '', 'scanf(\"%d\",&list[i', ']', ')', ';', '', '//scan', 'number', 'in', \"'\", 'list', \"'\", 'array', '', 'for(j=0;j', '<', 'i;j++', ')', '', '{', '', 'if(k', '=', '=', 'list[i', ']', '+', 'list[j])//check', 'if', '(', 'ith', 'no', ')', '+', '(', 'no', 'read', 'till', 'now', ')', 'equal', 'k', '', '{', '', 'flag=1', ';', '', 'break', ';', '', '//if', 'yes', 'no', 'need', 'to', 'check', 'above', 'cond', '.', 'far', '', '}', '', '}', '', 'if(flag==1)//i.e', '.', 'if', 'found', 'two', 'require', 'number', '', 'break', ';', '//no', 'need', 'to', 'take', 'input', 'further(since', 'cond', '.', 'already', 'satisfied', ')', '', '}', '', 'if(flag==1', ')', '//if', 'found', 'two', 'require', 'number', '', 'printf(\"lucky', '\"', ')', ';', '', 'else', '', '//if', 'unable', 'to', 'find', 'two', 'require', 'number', '', 'printf(\"unlucky', '\"', ')', ';', '', 'return', '0', ';', '', '}']\n",
      "['#', 'include', '<', 'stdio.h', '>', '', 'int', 'main', '(', ')', '{', '', 'int', 'i', ',', 'j', ',', 'k', ',', 'n', ',', 'b', ';', '', 'int', 'a[1000', ']', ';', '', 'scanf(\"%d\",&k', ')', ';', '', 'scanf(\"%d\",&n', ')', ';', '', 'for(i=0;i', '<', 'n;i++', ')', '', '{', '', 'scanf(\"%d\",&b', ')', ';', '', 'a[i]=b', ';', '', '}', '', 'for(i=0;i', '<', 'n;i++', ')', '', '{', '', 'for(j=0;j', '<', 'n;j++', ')', '', '{', '', 'if((a[i])+(a[j])==k', ')', '', '{', '', 'printf(\"lucky', '\"', ')', ';', '', 'count', '=', 'count+1', ';', '', '}', '', 'if(i==n-1&&j==n-1', ')', '', '{', '', 'printf(\"unlucky', '\"', ')', ';', '', '}', '', 'if(count!=0', ')', '', 'break', ';', '', '}', '', '}', '', 'return', '0', ';', '', '}']\n",
      "['#', 'include', '<', 'stdio.h', '>', '', 'int', 'main', '(', ')', '{', '', 'int', 'k', ',', 'n', ',', 'i', ';', '', 'int', 'number[1000', ']', ';', '', 'scanf(\"%d\\\\n%d\",&k,&n', ')', '', 'for(i=0;i', '<', 'n;i++', ')', '', '{', '', 'scanf(\"%d\",&number[i', ']', ')', ';', '', '}', '', 'for(i=0;i', '<', 'n;i++', ')', '', '{', '', 'if(number[i]%2==0', ')', '', '{', '', 'for(j=0;i', '<', 'n;i++', ')', '', '{', '', 'if((numbers[j]==k', '-', 'numbers[i])&&(numbers[j]%2!=0', ')', '', '{', '', 'printf(\"lucky', '\"', ')', ';', '', '}', '', 'else', '', '{', '', 'printf(\"unlucky', '\"', ')', ';', '', '}', '', '}', '', '}', '', 'else', '', '{', '', 'printf(\"unlucky', '\"', ')', ';', '', '}', '', '}', '', 'return', '0', ';', '', '}']\n",
      "['#', 'include', '<', 'stdio.h', '>', '', '#', 'include', '<', 'stdlib.h', '>', '', 'int', 'main', '(', ')', '{', '', 'int', 'i', ',', 'j', ',', 'n', ';', '', 'int', 'k=0', ';', '', 'scanf(\"%d\",&n', ')', ';', '', 'for', '(', 'i', '=', 'n;i>=1;i', '=', 'i-2', ')', '{', '', 'while', '(', 'k>=1', ')', '{', '', 'printf', '(', '\"', '123', '\"', ')', ';', '', 'k++', ';', '', '}', '', 'for', '(', 'j', '=', 'i;j>=1;j--', ')', '{', '', 'printf', '(', '\"', '*', '\"', ')', ';', '', '}', '', 'printf(\"\\\\n', '\"', ')', ';', '', '}', '', 'return', '0', ';', '', '}']\n",
      "['#', 'include', '<', 'stdio.h', '>', '', 'int', 'main', '(', ')', '{', '', 'int', 'lnum', ',', 'n', ',', 'i', ',', 'j', ',', 'k', ',', 'count=0', ';', '', 'scanf(\"%d\\\\n\",&lnum', ')', ';', '', 'scanf(\"%d\\\\n\",&n', ')', ';', '', 'int', 'a[n', ']', ';', '', 'int', 'b[n', ']', ';', '', 'for(i=0;i', '<', 'n;i++', ')', '{', '', 'scanf(\"%d\",&a[i', ']', ')', ';', '', '}', '', 'for(j=0;j', '<', 'n;j++', ')', '{', '', 'b[j]=lnum', '-', 'a[j', ']', ';', '', 'for', '(', 'k', '=', 'j+1;k', '<', 'n;k++', ')', '{', '', 'if', '(', 'b[j]==a[k', ']', ')', '{', '', 'count=1', ';', '', 'printf(\"lucky', '\"', ')', ';', '', 'break', ';', '', '}', '', '}', '', 'if(count==1', ')', '', 'break', ';', '', '}', '', '}', '', 'if(count==1', ')', '', 'break', ';', '', '}', '', 'if', '(', 'count==0', ')', '', 'printf(\"unlucky', '\"', ')', ';', '', '//', 'insert', 'your', 'code', 'here', '', 'return', '0', ';', '', '}', '', '//for(k', '=', 'j+1;k', '<', 'n;k++', ')', '{', '', 'if(a[k]==(lnum', '-', 'a[j', ']', ')', ')', '{', '', 'printf(\"lucky', '\"', ')', ';', '', 'count=1', ';', '', 'break', ';']\n",
      "['#', 'include', '<', 'stdio.h', '>', '', 'int', 'arr[100]={0', '}', ';', '', 'int', 'n', ';', '', 'int', 'getmaxlessthan(int', 'upperlimit', ')', '', '{', '', '}', '', 'int', 'main', '(', ')', '', '{', '', 'int', 'n', ',', 'k', ',', 'max', ',', 'index', ',', 'j', ',', 'temp', ';', '', 'scanf(\"%d', '%', 'd\",&n,&k', ')', ';', '', 'int', 'i=0', ';', '', 'for(i=0;i', '<', 'k;i++', ')', '', '{', '', 'max', '=', 'arr[i', ']', ';', '', 'index', '=', 'i', ';', '', 'for(j', '=', 'i+1;j', '<', 'n;j++', ')', '', '{', '', 'scanf(\"%d\",&arr[j', ']', ')', ';', '', 'if(arr[j]>max', ')', '', '{', 'max', '=', 'arr[j', ']', ';', '', 'index', '=', 'j', ';', '', '}', '', '}', 'temp', '=', 'arr[j', ']', ';', '', 'arr[j]=arr[index', ']', ';', '', 'arr[index]=temp', ';', '', 'printf(\"%d\\\\n\",max', ')', ';', '', '}', '', 'return', '0', ';', '', '}']\n",
      "['#', 'include', '<', 'stdio.h', '>', '', 'int', 'arr[100', ']', ';', '', 'int', 'getinversions(int', 'l', ',', 'int', 'r', ')', '/', '*', 'r', 'be', 'the', 'size', 'of', 'subsequence', '*', '/', '', '{', '', '/*inversions', 'in', 'the', 'sequence', 'arr[l],arr[l+1],', '..', ',arr[l+r-1]*/', '', 'int', 'inversions=0', ';', '', 'for', '(', 'int', 'i', '=', 'l', ';', 'i', '<', 'l+r-1', ';', 'i++', ')', '', '{', '', 'for', '(', 'int', 'j', '=', 'i+1', ';', 'j', '<', 'l+r', ';', 'j++', ')', '', '{', '', 'if', '(', 'arr[j]<arr[i', ']', ')', 'inversions++', ';', '', '/*printf(\"%d', '%', 'd', '%', 'd\\\\n', '\"', ',', 'i', ',', 'j', ',', 'inversions);*/', '', '}', '', '}', '', 'return', 'inversion', ';', '', '}', '', '/', '*', 'l', 'be', 'the', 'start', 'index', 'to', 'find', 'inversion', 'in', 'subsequence', '*', '/', '', 'int', 'main', '(', ')', '', '{', '', 'int', 'n', ';', '/', '*', 'number', 'of', 'term', 'in', 'the', 'parent', 'sequence', '*', '/', '', 'scanf(\"%d', '\"', ',', '&', 'n', ')', ';', '', 'int', 'r', ';', '', 'scanf(\"%d', '\"', ',', '&', 'r', ')', ';', '/', '*', 'the', 'length', 'of', 'the', 'contiguous', 'subsequence', '*', '/', '', 'for', '(', 'int', 'i=0', ';', 'i', '<', 'n', ';', 'i++', ')', '', '{', '', 'scanf(\"%d', '\"', ',', '&', 'arr[i', ']', ')', ';', '', '/*printf(\"%d\\\\t', '\"', ',', 'arr[i]);*/', '', '}', '', 'int', 'maxinversions=', 'getinversions(0,r', ')', ';', '', 'printf(\"%d\\\\n', '\"', ',', 'getinversions(0,r', ')', ')', ';', '', 'for', '(', 'int', 'i=1', ';', 'i<10', ';', 'i++', ')', '', '{', '', 'int', 'c=', 'getinversions(i', ',', 'r', ')', ';', '', '/*if', '(', 'c>=maxinversions', ')', 'maxinversion', '=', 'c', ';', '*', '/', '', 'printf(\"%d\\\\n', '\"', ',', 'c', ')', ';', '', '}', '', '/*printf(\"%d', '\"', ',', 'maxinversion', ')', ';', '*', '/', '', 'return', '0', ';', '', '}']\n",
      "['#', 'include', '<', 'stdio.h', '>', '', 'int', 'sum(int', 'a[],int', 'n', ')', '', '{', '', 'if(n<0', ')', '', 'return', '0', ';', '', 'else', '', 'return', 'a[n-1]+sum(a', ',', 'n-2', ')', ';', ';', '', '}', '', 'int', 'main', '(', ')', '', '{', '', 'int', 'arr[]={1,2,3,4,5', '}', ';', '', 'printf(\"%d\",sum(arr,5', ')', ')', ';', '', 'return', '0', ';', '', '}']\n",
      "['#', 'include', '<', 'stdio.h', '>', '', 'int', 'main', '(', ')', '{', '', 'int', 'k', ',', 'n', ',', 'c', ',', 'i', ',', 'x', ',', 'j', ',', 'b[500', ']', ';', '', 'scanf(\"%d\",&k', ')', ';', '', 'scanf(\"%d\",&n', ')', ';', '', 'for(i=0;i', '<', 'n;i++', ')', '{', '', 'scanf(\"%d\",&b[i', ']', ')', '', '}', '', 'for(i=0;i', '<', 'n;i++', ')', '{', '', 'x', '=', 'k', '-', 'b[i', ']', ';', '', 'for(j=0;j', '<', 'n;j++', ')', '{', '', 's=0', ';', '', 'if(b[j]==x', ')', '{', '', 's=1', ';', '', 'printf(\"lucky', '\"', ')', ';', '', 'break', ';', '', '}', '', 'if(s==1', ')', '', 'break', ';', '', '}', 'if(s==1', ')', '', 'break', ';', '', '}', 'if(s==0', ')', '', 'printf(\"unlucky', '\"', ')', ';', '', 'return', '0', ';', '', '}']\n",
      "['#', 'include', '<', 'stdio.h', '>', '', 'int', 'main', '(', ')', '', '{', '', 'int', 'l', ',', 'n', ',', 'a[1000],i', ',', 'j', ',', 'flag=0', ';', '', 'scanf(\"%d%d\",&l,&n', ')', ';', '', 'for(i=0;i', '<', 'n;i++', ')', '', 'scanf(\"%d\",a[i', ']', ')', ';', '', 'for(j=0;j', '<', 'l;j++', ')', '', '{', '', 'if', '', '(', '{', '', 'for(i=0;i', '<', 'l;i++', ')', '', 'j==a[i', ']', ';', '', '}', '', '&', '&', '', '{', '', 'for(i=0;i', '<', 'l;i++', ')', '', 'l', '-', 'j==a[i', ']', ';', '', '}', ')', '', 'flag=1', ';', '', 'break', ';', '', '}', '', 'if', '(', 'flag==1', ')', '', 'printf(\"lucky', '\"', ')', ';', '', 'else', '', 'printf(\"unlucky', '\"', ')', ';', '', 'return', '0', ';', '', '}']\n",
      "['#', 'include', '<', 'stdio.h', '>', '', '#', 'include', '<', 'stdlib.h', '>', '', 'int', 'main', '(', ')', '{', '', 'int', 'x', ',', 'y', ',', 'z', ';', '', 'scanf(\"%d', '%', 'd', '%', 'd\",&x,&y,&z', ')', ';', '', 'if(y+z', '<', 'x', '||x+z', '<', 'y', '||x+y', '<', 'z', ')', '{', '', 'printf(\"cannot', 'form', 'a', 'triangle', '\"', ')', ';', '', '}', '', 'if(x*x==y*y+z*z||', 'y*y==x*x+z*z', '||z*z==x*x+y*y', ')', '{', '', 'printf(\"right', 'triangle', '\"', ')', ';', '', '}', '', 'else', '{', '', 'printf(\"not', 'right', 'triangle', '\"', ')', ';', '', '}', '', 'return', '0', ';', '', '}']\n",
      "['#', 'include', '<', 'stdio.h', '>', '', '#', 'include', '<', 'stdlib.h', '>', '', 'long', '*', 'memarray[3', ']', ';', '', 'long', 'getways(int', 'x', ',', 'int', 'm', ')', '', '{', '', 'if(m==1', ')', '', 'return', '1', ';', '', 'if(m==2', ')', '', '{', '', 'int', 'd', '=', 'x/3', ';', '', 'return', '(', 'd+1', ')', ';', '', '}', '', 'if(m==3', ')', '', '{', '', 'int', 'c', '=', 'x/5', ';', '', 'int', 'count=0', ';', '', 'for(int', 'i=0;i<=c;i++', ')', '', '{', '', 'int', 'f', ';', '', 'f', '=', 'x-5*c', ';', '', 'count', '=', 'count+getways(f,2', ')', ';', '', '}', '', 'return', 'count', ';', '', '}', '', '}', '', 'int', 'main', '(', ')', '', '{', '', 'int', 'n', ';', '', 'scanf(\"%d\",&n', ')', ';', '', 'long', 'p', '=', 'getways(n,3', ')', ';', '', 'printf(\"%li\",p', ')', ';', '', 'return', '0', ';', '', '}']\n",
      "['#', 'include', '<', 'stdio.h', '>', '', 'int', 'main', '(', ')', '{', '', 'int', 'n', ',', 'i', ',', 'c=0,s=0', ';', '', 'int', 'a[4', ']', ';', '', 'scanf(\"%d\",&n', ')', ';', '', 'for', '(', 'i=0;n>0;i++', ')', '', '{', 'a[i]=n%10', ';', '', 'n', '=', 'n/10', ';', '', 's', '=', 's+a[i', ']', ';', '', '}', '', 'for', '(', 'i=2016;c>0;i++', ')', '', '{', '', 'if', '(', 'i%s==0', ')', '', '{', 'printf(\"%d\",i', ')', ';', '', 'c', '=', 'c+1', ';', '}', '', '}', '', 'return', '0', ';', '', '}']\n",
      "['#', 'include', '<', 'stdio.h', '>', '', 'int', 'main', '(', ')', '', '{', '', 'int', 'n', ';', '', 'scanf(\"%d\\\\n\",&n', ')', ';', '', 'int', 'p', ';', '', 'scanf(\"%d\\\\n\",&p', ')', ';', '', 'int', 'h', ',', 'a', ';', '', 'int', 'ht=0', ';', '', 'for(int', 'i=1;i<=p;i++', ')', '', '{', '', 'scanf(\"%d\",&h,&a', ')', ';', '', 'if(ht', '>', 'h', ')', '', '{', '', 'n', '=', 'n', '-', 'ht', '-', 'h', ';', '', '}', '', 'else', '', 'ht', '=', 'h', ';', '', '}', '', 'if(n==0', ')', '', 'printf(\"no', '\"', ')', ';', '', 'else', '', 'printf(\"ye', '\"', ')', ';', '', 'return', '0', ';', '', '}']\n",
      "['#', 'include', '<', 'stdio.h', '>', '', 'void', 'swap(int', 'ar[],int', 'size', ')', '{', '', 'for(int', 'i', '=', 'size-1;i>=0;i--', ')', '{', '', 'int', 'temp', '=', 'ar[i', ']', ';', '', 'ar[i]=ar[(i+1)%size', ']', ';', '', 'ar[(i+1)%size]=temp', ';', '', '}', '', '}', '', 'int', 'main', '(', ')', '', '{', '', 'int', 'd', ',', 'n', ',', 'i', ',', 'j', ';', '', 'scanf(\"%d\",&n', ')', ';', '', 'int', 'a[n', ']', ';', '', 'for(i=0;i', '<', 'n;i++', ')', '{', '', 'scanf(\"%d\",&a[i', ']', ')', ';', '', '}', '', 'scanf(\"%d\",&d', ')', ';', '', 'for(j=1;j<=d;j++', ')', '{', '', 'swap(a', ',', 'n', ')', ';', '', '}', '', 'for(i=0;i', '<', 'n;i++', ')', '{', '', 'printf(\"%d', '\"', ',', 'a[i', ']', ')', ';', '', '}', '', 'return', '0', ';', '', '}']\n",
      "['#', 'include', '<', 'stdio.h', '>', '', '#', 'include', '<', 'stdlib.h', '>', '', 'int', 'catalan(int', 'n', ')', ';', '', 'int', 'main', '(', ')', '{', '', 'int', 'n', ';', '', 'scanf(\"%d\",&n', ')', ';', '', 'int', 'arr[n', ']', ';', '', 'int', 'i', ';', '', 'for', '(', 'i=0;i', '<', 'n;i++', ')', '{', '', 'scanf(\"%d\",&arr[i', ']', ')', ';', '', 'printf(\"%d\\\\n\",catalan(arr[i', ']', ')', ')', ';', '', '}', '', 'return', '0', ';', '', '}', '', 'int', 'catalan(int', 'n', ')', '{', '', 'if(n==1', ')', 'return', '1', ';', '', 'if(n==0)return', '1', ';', '', 'return', '(', '(', '(', 'float)(2*(2*n-1))/(n+1))*catalan(n-1', ')', ')', ';', '', '}']\n",
      "['#', 'include', '<', 'stdio.h', '>', '', 'int', 'main', '(', ')', '', '{', 'int', 'e', ',', 'f', ',', 'g', ';', '', 'scanf(\"%d', '%', 'd', '%', 'd\",&e,&f,&g', ')', ';', '', 'if(e+f', '>', 'g&&f+g', '>', 'e&&e+g', '>', 'f', ')', '', '{', 'if(e<=f){if(f<=g', ')', '{', 'if(g*g==e*e+f*f', ')', 'printf(\"right', '\"', ')', ';', '', 'else', 'if', '(', 'g*g', '>', 'f*f+e*e', ')', 'printf', '(', '\"', 'obtuse', '\"', ')', ';', '', 'else', 'printf', '(', '\"', 'acute', '\"', ')', ';', '}', '', 'else', '{', 'if(e<=g){if(f*f==e*e+g*g', ')', 'printf(\"right', '\"', ')', ';', '', 'else', 'if', '(', 'f*f', '>', 'g*g+e*e', ')', 'printf', '(', '\"', 'obtuse', '\"', ')', ';', '', 'else', 'printf', '(', '\"', 'acute', '\"', ')', ';', '}', '}', '}', '', 'else{if(f<=g){if(e*e==g*g+f*f', ')', 'printf(\"right', '\"', ')', ';', '', 'else', 'if', '(', 'e*e', '>', 'f*f+g*g', ')', 'printf', '(', '\"', 'obtuse', '\"', ')', ';', '', 'else', 'printf', '(', '\"', 'acute', '\"', ')', ';', '}', '}', '}', '', 'else', 'printf(\"invalid', '\"', ')', ';', '', 'return', '0', ';', '}']\n",
      "['#', 'include', '<', 'stdio.h', '>', '', '#', 'include', '<', 'stdlib.h', '>', '', 'int', 'main', '(', ')', '{', '', 'int', 'i', ',', 'j', ',', 'n', ',', 'k', ';', '', 'scanf(\"%d\",&n', ')', ';', '', 'for(i=1;i<(n/2)+3;i', '=', 'i+1', ')', '{', '', 'for(j', '=', 'i;j', '<', 'n;j++', ')', '{', '', 'printf', '(', '\"', '\"', ')', ';', '', '}', '', 'for(k', '=', 'i;k>1;k--', ')', '{', '', 'if(k%2!=0)printf', '(', '\"', '*', '\"', ')', ';', '', 'else', '', 'printf(\"x', '\"', ')', ';', '', '}', '', 'printf(\"\\\\n', '\"', ')', ';', '', '}', '', 'for(i=(n+1)/2;i>1;i', '=', 'i-1', ')', '{', '', 'for(j', '=', 'n+1;j', '>', 'i+1;j--', ')', '{', '', 'printf', '(', '\"', '\"', ')', ';', '', '}', '', 'for(k=0;k', '<', 'i-1;k++', ')', '{', '', 'printf', '(', '\"', '*', '\"', ')', ';', '', '}', '', 'printf(\"\\\\n', '\"', ')', ';', '', '}', '', 'return', '0', ';', '', '}']\n"
     ]
    },
    {
     "name": "stdout",
     "output_type": "stream",
     "text": [
      "['#', 'include', '<', 'stdio.h', '>', '', 'int', 'main', '(', ')', '{', '', '//', 'insert', 'your', 'code', 'here', '', 'int', 'k', ',', 'n', ';', '', 'int', 'i', ',', 'flag', ';', '', 'flag', '=', '0', ';', '', 'scanf(\"%d', '\"', ',', '&', 'k', ')', ';', '', 'scanf(\"%d', '\"', ',', '&', 'n', ')', ';', '', 'int', 'list[100000', ']', ',', 'c[500', ']', ';', '', 'for(i', '=', '0', ';', 'i', '<', 'n', ';', 'i++', ')', '{', '', 'scanf(\"%d', '\"', ',', '&', 'list[i', ']', ')', ';', '', '}', '', 'for(i', '=', '0', ';', 'i', '<', '500', ';', 'i++', ')', 'c[i', ']', '=', '0', ';', '', 'for(i', '=', '0', ';', 'i', '<', 'n', ';', 'i++', ')', 'c[list[i', ']', ']', '=', '1', ';', '', '/*for(i', '=', '0', ';', 'i', '<', '10000', ';', 'i++', ')', '{', '', 'if(c[i]!=0', '&', '&', 'c[k', '-', 'i]!=0', ')', '{', '', 'flag', '=', '1', ';', '', 'break', ';', '', '}', '', '}', '*', '/', '', 'for(i', '=', '0', ';', 'i', '<', 'n', ';', 'i++', ')', '{', '', 'a', '=', 'list[i', ']', ';', '', 'b', '=', 'k', '-', 'a', ';', '', 'if(c[b', ']', '>', '0', ')', '{', '', 'flag', '=', '1', ';', '', 'break', ';', '', '}', '', '}', '', 'if(flag', '=', '=', '1', ')', '{', '', 'printf(\"lucky', '\"', ')', ';', '', '}', 'else', 'printf(\"unlucky', '\"', ')', ';', '', 'return', '0', ';', '', '}']\n",
      "['#', 'include', '<', 'stdio.h', '>', '', '#', 'include', '<', 'math.h', '>', '', 'int', 'main', '(', ')', '{', '', 'int', 'i', ',', 'l', ',', 'm', ',', 'n', ';', '', 'scanf(\"%d%d\",&l,&n', ')', ';', '', 'int', 'a[n],b[500', ']', ';', '', 'for(i=0;i<;i++', ')', '', 'scanf(\"%d\",&a[i', ']', ')', ';', '', 'for(i=0;i<500;i++', ')', '', '{', 'b[i]=0', ';', '}', '', 'for(i=0;i', '<', 'n;i++', ')', '', '{', '', 'b[a[i]]++', ';', '', '}', '', 'for(i=1;i<500;i++', ')', '', '{', 'if((b[i]>0)&&(b[l', '-', 'i]>0', ')', ')', '', '{', 'printf(\"lucky', '\"', ')', ';', '', 'break', ';', '', '}', '', '}', '', 'if(i==500', ')', '', 'printf(\"unlucky', '\"', ')', ';', '', 'return', '0', ';', '', '}']\n",
      "['#', 'include', '<', 'stdio.h', '>', '', 'int', 'main', '(', ')', '{', '', '//', 'insert', 'your', 'code', 'here', '', 'int', 'k', ',', 'n', ',', 'i', ',', 'j', ',', 'count', '=', '0', ';', '', 'int', 'a[1000', ']', ';', '', 'scanf(\"%d\",&k', ')', ';', '', 'scanf(\"%d\",&n', ')', ';', '', 'for(i=0;i', '<', 'n;i++', ')', '{', '', 'scanf(\"%d\",&a[i', ']', ')', ';', '', '}', 'for(i=0;i', '<', 'n;i++', ')', '{', '', 'for(j', '=', 'i+1;j', '<', 'n;j++', ')', '{', '', 'if((a[i]+a[j', ']', ')', '=', '=', 'k', ')', '{', '', 'count', '=', '1', '', '}', '', '}', '', '}', '', 'if(count', '=', '=', '0', ')', '{', '', 'printf(\"unlucky', '\"', ')', ';', '', '}', 'else', 'if(count', '=', '=', '1', ')', '{', '', 'printf(\"lucky', '\"', ')', ';', '', '}', '', 'return', '0', ';', '', '}']\n",
      "['#', 'include', '<', 'stdio.h', '>', '', '#', 'include', '<', 'stdlib.h', '>', '', 'int', 'main', '(', ')', '', '{', '', 'int', 'i', ',', 'j', ',', 'n', ';', '', 'scanf(\"%d\",&n', ')', ';', '', 'for(i=1;i<=n+1;i', '=', 'i+1', ')', '', '{', '', 'for(j=1;j<=n+1', '-', 'i;j', '=', 'j+1', ')', '', 'printf', '(', '\"', '\"', ')', ';', '', 'for(j', '=', 'n+2', '-', 'i;j<=n+1;j', '=', 'j+1', ')', '', 'if((i+j)%2==1', ')', '', 'printf(\"x', '\"', ')', ';', '', 'else', '', 'printf', '(', '\"', '*', '\"', ')', ';', '', 'printf(\"\\\\n', '\"', ')', ';', '', '}', '', 'for(i=1;i<=n;i++', ')', '', '{', '', 'for(j=1;j<=i;j', '=', 'j+1', ')', '', 'printf', '(', '\"', '\"', ')', ';', '', 'for(j', '=', 'i+1;j<=n+1;j', '=', 'j+1', ')', '', 'if((i+j+n)%2==0', ')', '', 'printf(\"x', '\"', ')', ';', '', 'else', '', 'printf', '(', '\"', '*', '\"', ')', ';', '', 'printf(\"\\\\n', '\"', ')', ';', '', '}', '', 'return', '0', ';', '', '}']\n",
      "['#', 'include', '<', 'stdio.h', '>', '', 'int', 'main', '(', ')', '{', '', 'int', 'i', ',', 'j', ',', 'k', ',', 'n', ',', 's', ';', '', 'int', 'a[1000', ']', ';', '', 'scanf(\"%d\",&k', ')', ';', '', 'scanf', '(', '\"', '%', 'd\",&n', ')', ';', '', 'for(i=0;i', '<', 'n;i++', ')', '', 'scanf', '(', '\"', '%', 'd\",&a[i', ']', ')', ';', '', 's=0', ';', '', 'for(i=0;i', '<', 'n;i++', ')', '', '{', '', 'int', 'count=0', ';', '', 'for(j=0;j', '<', 'n;j++', ')', '', 's', '=', 'a[i]+a[j', ']', ';', '', 'if(s==k', ')', '', 'count++', ';', '', 'break', ';', '', '}', '', 'if(count==0', ')', '', 'printf(\"unlucky', '\"', ')', ';', '', 'if(count!=0', ')', '', 'printf(\"lucky', '\"', ')', ';', '', 'return', '0', ';', '', '}']\n",
      "['#', 'include', '<', 'stdio.h', '>', '', 'int', 'main', '(', ')', '', '{', '', 'int', 'n', ',', 'i', ',', 'flag=1,num[1000],count[1000', ']', ';', '', 'scanf(\"%d', '\"', ',', '&', 'n', ')', ';', '', 'for(i=0', ';', 'i', '<', 'n', ';', 'i++', ')', '', 'scanf(\"%d', ',', '\"', ',', '&', 'num[i', ']', ')', ';', '', 'for(i=0', ';', 'i<1000', ';', 'i++', ')', '', 'count[i]=0', ';', '', 'for(i=0', ';', 'i', '<', 'n', ';', 'i++', ')', '', '{', '', 'count[num[i]]++', ';', '', '}', '', 'for(i=0', ';', 'i', '<', 'n', ';', 'i++', ')', '', 'printf(\"%d', '\"', ',', 'count[i', ']', ')', ';', '', 'for(i=0', ';', 'i', '<', 'n', ';', 'i++', ')', '', '{', '', 'if(count[i]!=0', ')', '', '{', '', 'if(count[i]!=i', ')', ';', '', '{', '', 'flag=0', ';', '', 'break', ';', '', '}', '', '}', '', '}', '', 'if(flag==1', ')', '', 'printf(\"ye', '\"', ')', ';', '', 'else', '', 'printf(\"no', '\"', ')', ';', '', 'return', '0', ';', '', '}']\n",
      "['#', 'include', '<', 'stdio.h', '>', '', 'int', 'main', '(', ')', '{', '', 'int', 'k', ',', 'i', ';', '', 'int', 'value;//initialise', 'variable', '', 'int', 'n', ';', '', 'int', 's[1000', ']', ';', '', 'scanf(\"%d%d\",&k,&n);//scan', 'actual', 'lucky', 'no.//no', '.', 'of', 'value', 'of', 'n', '', 'for(i=0;i', '<', 'n;i++', ')', '', '{', 'scanf(\"%d\",&value', ')', ';', '', 's[i]=value', ';', '}', '', 'for(i=0;i', '<', 'n;i++', ')', '', '{', '', 'if(s[i]+s[k', '-', 'i]==k', ')', '', '{', 'printf(\"lucky', '\"', ')', ';', '', 'break', ';', '', '}', '', 'else{printf(\"unlucky', '\"', ')', ';', '', 'break', ';', '}', '', '}', '', 'return', '0', ';', '', '}']\n",
      "['#', 'include', '<', 'stdio.h', '>', '', 'int', 'main', '(', ')', '', '{', '', 'int', 'k', ',', 'n', ',', 'i', ',', 'j', ',', 'count=0,a[100', ']', ';', '', 'scanf(\"%d\",&k', ')', ';', '', 'scanf(\"%d\",&n', ')', ';', '', 'for(i=0;i', '<', 'n;i++', ')', '', '{', '', 'scanf(\"%d\",&a[i', ']', ')', ';', '', '}', '', 'for(i=0;i', '<', 'n;i++', ')', '', '{', '', 'for(j=0;j', '<', 'n;j++', ')', '', '{', '', 'if(a[i]+a[j]==k', ')', '', '{', '', 'count++', ';', '', '}', '', '}', '', '}', '', 'if(count>0)//number', 'be', 'lucky', '.', '', 'printf(\"lucky', '\"', ')', ';', '', 'else//number', 'be', 'unlucky', '.', '', 'printf(\"unlucky', '\"', ')', ';', '', 'return', '0', ';', '', '}']\n",
      "['#', 'include', '<', 'stdio.h', '>', '', 'int', 'main', '(', ')', '{', '', 'int', 'k', ',', 'l[n],n', ',', 'i', ',', 'sum', ',', 'a', ';', '', 'scanf(\"%d\\\\n%d\",&k,&n', ')', ';', '', 'for(i=0;i', '<', 'n;i++', ')', '{', '', 'scanf(\"%d\",&l[i', ']', ')', ';', '', 'sum', '=', 'l[i]+l[i+a', ']', '', 'if(sum', '=', 'k){printf(\"lucky', '\"', ')', ';', '}', '', 'else{printf(\"unlucky', '\"', ')', ';', '}', '', '//', 'insert', 'your', 'code', 'here', '', 'return', '0', ';', '', '}']\n",
      "['#', 'include', '<', 'stdio.h', '>', '', 'int', 'main', '(', ')', '', '{', '', 'int', 'n', ',', 'k', ',', 'i', ',', 'j', ';', '', 'int', 'list[1000', ']', ';', '', 'scanf(\"%d%d\",&n,&k', ')', ';', '', 'for(i=0;i', '<', 'n;i++', ')', '', 'list[i]=getchar', ';', '', 'for(i=0;i', '<', 'n;i++', ')', '', '{', '', 'for(j=0;j', '<', 'n;j++', ')', '', '{', '', 'if(list[i]==k', '-', 'list[j', ']', ')', '', '{', '', 'printf(\"lucky', '\"', ')', ';', '', 'return', '0', ';', '', '}', '', '}', '', 'if(i==n', ')', '', 'printf(\"unlucky', '\"', ')', ';', '', 'return', '0', ';', '', '}']\n",
      "['#', 'include', '<', 'stdio.h', '>', '', 'int', 'main', '(', ')', '{', '', 'int', 'a[1000', ']', ';', '', 'int', 'i', ',', 'j', ',', 'n', ',', 'k', ',', 'm=0,flag=0', ';', '', 'scanf(\"%d\",&k', ')', ';', '', 'scanf(\"%d\",&n', ')', ';', '', 'for', '(', 'i=0;i', '<', 'n;i++', ')', '{', '', 'scanf(\"%d\",&a[i', ']', ')', ';', '', '}', '', 'for', '(', 'i=0;i', '<', 'n;i++', ')', '{', '', 'j', '=', 'k', '-', 'a[i', ']', ';', '', 'while', '(', 'm', '<', 'n', ')', '{', '', 'if', '(', 'j==a[m', ']', ')', '{', '', 'printf(\"lucky', '\"', ')', ';', '', 'flag=1', ';', '', 'break', ';', '', '}', '', 'else', '{', 'flag==2', ';', '}', '', 'm++', ';', '', '}', '', 'if', '(', 'flag==1){break', ';', '}', '', '}', '', 'if', '(', 'flag==2', ')', '{', '', 'printf(\"unlucky', '\"', ')', ';', '', '}', '', 'return', '0', ';', '', '}']\n",
      "['#', 'include', '<', 'stdio.h', '>', '', 'int', 'main', '(', ')', '{', '', 'int', 'k', ',', 'n', ',', 'list[n],i', ',', 'j', ';', '', 'scanf(\"%d%d\",&n,&k', ')', ';', '', 'if((n<=1000)&&(k%2!=0', ')', ')', '', '{', '', 'for(i=0;i', '<', 'n;i++', ')', '', '{', '', 'scanf(\"%d\",&list[i', ']', ')', ';', '', '}', '', 'for(i=0;i', '<', 'n;i++', ')', '', '{', '', 'p', '=', 'list[i', ']', ';', '', 'r', '=', 'k', '-', 'p', ';', '', 'for(j=0;j', '<', 'n;j++', ')', '', '{', '', 'if(list[j]==r', ')', '', '{', '', 'printf(\"lucky', '\"', ')', '', '}', '', '}', '', '}', '', '}', '', 'return', '0', ';', '', '}']\n"
     ]
    },
    {
     "name": "stdout",
     "output_type": "stream",
     "text": [
      "['#', 'include', '<', 'stdio.h', '>', '', '#', 'include', '<', 'stdlib.h', '>', '', '#', 'include', '<', 'math.h', '>', '', 'double', 'mod', '(', 'double', 'a', ')', '', '{', '', 'double', 'b', ';', '', 'if', '(', 'a<0', ')', '', 'b=', '(', '-a', ')', ';', '', 'else', '', 'b', '=', 'a', ';', '', 'return', 'b', ';', '', '}', '', 'int', 'main', '(', ')', '{', '', 'double', 'a', ',', 'b', ',', 'dx', ',', 'r', ',', 'f', ',', 'g', ',', 'sum=0', ';', '', 'int', 'n', ',', 'i', ';', '', 'scanf(\"%lf%lf%n\",&a,&b,&n', ')', ';', '', 'dx=(b', '-', 'a)/n', ';', '', 'for', '(', 'i=0;i', '<', 'n;i++', ')', '', '{', '', 'r=', 'a', '+', '(', 'i*dx', ')', ';', '', 'f=', '-(r*r', ')', '+', '(', '3*r', ')', ';', '', 'g=', '(', '2*r*r*r', ')', '-', '(', 'r*r', ')', '-', '(', '5*r', ')', ';', '', 'sum', '=', 'sum', '+', '(', 'abs(f', '-', 'g))*r', ';', '', '}', '', 'printf(\"%.4lf\",&sum', ')', ';', '', 'return', '0', ';', '', '}']\n",
      "['#', 'include', '<', 'stdio.h', '>', '', 'int', 'main', '(', ')', '', '{', '', 'int', 'k', ',', 'n', ',', 'x', ',', 'a[100', ']', ';', '', 'scanf(\"%d', '\"', ',', '&', 'k', ')', ';', '', 'scanf(\"%d', '\"', ',', '&', 'n', ')', ';', '', 'for(i=0;i', '<', 'n;i++', ')', '', 'scanf(\"%d', '\"', ',', '&', 'a[i', ']', ')', ';', '', 'for(i=0;i', '<', 'n;i++', ')', '', '{', '', 'x', '=', 'k', '-', 'a[i', ']', ';', '', 'for(i=0;i', '<', 'n;i++', ')', '', '{', '', 'if(a[i]==x', ')', '', '{', 'printf(\"lucky', '\"', ')', ';', '', 'break', ';', '}', '', 'else', '', 'continue', ';', '', '}', '', 'printf(\"unlucky', '\"', ')', ';', '', '}', '', 'return', '0', ';', '', '}']\n",
      "['#', 'include', '<', 'stdio.h', '>', '', '#', 'include', '<', 'stdlib.h', '>', '', 'int', 'main', '(', ')', '{', '', 'int', 'i', ',', 'siz1,siz2', ';', '', 'scanf(\"%d\",siz1', ')', ';', '', 'scanf(\"%d\",siz2', ')', ';', '', 'char', 'ch1[siz1', ']', ';', '', 'char', 'ch2[siz2', ']', ';', '', 'for(i=0;i', '<', 'siz1;i++', ')', '', 'ch1[i]=', 'getchar', '(', ')', ';', '', 'for(i=0;i', '<', 'siz1;i++', ')', '', 'putchar(ch1[i', ']', ')', ';', '', 'return', '0', ';', '', '}']\n",
      "['#', 'include', '<', 'stdio.h', '>', '', 'int', 'main', '(', ')', '', '{', '', 'int', 'n', ',', 'm', ';', '', 'int', 'c', ';', '', 'int', 'greatest=0', ';', '', 'int', 'sum[n', ']', ';', '', 'scanf(\"%d', '%', 'd\",&n,&m', ')', ';', '', 'for(int', 'i=0;i', '<', 'n;i++', ')', '', '{', '', 'for(int', 'j=0;j', '<', 'm;j++', ')', '', '{', '', 'scanf(\"%d\",&c', ')', ';', '', 'sum[i]=sum[i]+c', ';', '', '}', '', '}', '', 'for(int', 'l=0;l', '<', 'n;l++', ')', '', '{', '', 'if(sum[l]>greatest', ')', '', 'greatest', '=', 'sum[l', ']', ';', '', '}', '', 'printf(\"%d\",&greateset', ')', ';', '', 'return', '0', ';', '', '}']\n",
      "['#', 'include', '<', 'stdio.h', '>', '', 'int', 'main', '(', ')', '', '{', '', 'int', 'a', ',', 'b', ',', 'c', ';', '', 'scanf(\"%d%d%d\",&a,&b,&c', ')', ';', '', 'if((a+b)<=c||(a+c)<=b||(b+c)<=a', ')', '{', '', 'printf(\"invalid\\\\n', '\"', ')', ';', '}', '', 'else', 'if(a*a+b*b', '>', 'c*c||b*b+c*c', '>', 'a*a||a*a+c*c', '>', 'b*b', ')', '{', '', 'printf(\"acute\\\\n', '\"', ')', ';', '', '}', '', 'else', 'if((a*a+b*b)==c*c||a*a+c*c==b*b||b*b+c*c==a*a', ')', '{', '', 'printf(\"right\\\\n', '\"', ')', ';', '}', '', 'else', 'if((a*a+b*b)<c*c||a*a+c*c', '<', 'b*b||c*c+b*b', '<', 'a*a', ')', '{', '', 'printf(\"obtuse', '\"', ')', ';', '', '}', '', 'return', '0', ';', '', '}']\n",
      "['#', 'include', '<', 'stdio.h', '>', '', '#', 'include', '<', 'stdlib.h', '>', '', 'int', 'main', '(', ')', '{', '', 'int', 'i', ',', 'n', ',', 'j', ';', '', 'scanf(\"%d\\\\n\",&n', ')', ';', '', 'int', 'a[20', ']', ';', '', 'for(i=0;i', '<', 'n;i++', ')', '', '{', '', 'scanf(\"%d\\\\n\",&a[i', ']', ')', ';', '}', '', 'for(j=0;j', '<', 'n;j++', ')', '', '{', '', 'if((a[j]>a[j+1])&&(a[j]>a[j-2', ']', ')', ')', '', '{', 'printf(\"yes\\\\n', '\"', ')', ';', '}', '', 'else', '', 'if(a[j]==a[j+1', ']', ')', '', '{', 'break', ';', '}', '', 'else', '', '{', 'printf(\"no\\\\n', '\"', ')', ';', '}', '}', '', 'return', '0', ';', '', '}']\n",
      "['#', 'include', '<', 'stdio.h', '>', '', 'int', 'main', '(', ')', '', '{', '', 'int', 'n', ',', 'm', ',', 'value', ',', 'a=0', ';', '', 'scanf(\"%d', '%', 'd\",&n,&m', ')', ';', '', 'for(i=1;i<=n;i++', ')', '', '{', '', 'for(j=1;j<=m;j++', ')', '', '{', '', 'scanf(\"%d\",&value', ')', ';', '', 'a', '=', 'a+value', '', 'printf(\"%d\",a', ')', ';', '', '}', '', '}', '//fill', 'this', 'area', 'with', 'your', 'code', '.', '', 'return', '0', ';', '', '}']\n",
      "['#', 'include', '<', 'stdio.h', '>', '', 'int', 'main', '(', ')', '{', '', 'int', 'k', ',', 'n', ',', 'list[500],a', ',', 'b', ';', '', 'scanf(\"%d\\\\n%d\\\\n\",&k,&n', ')', ';', '', 'for(a=0;a', '<', 'n;a++', ')', '', 'scanf(\"%d\",&list[a', ']', ')', ';', '', 'for(a=0;a', '<', 'n;a++', ')', '', '{', '', 'if(a', '=', 'n-1', ')', '', 'break', ';', '', 'for(b', '=', 'a+1;b', '<', 'n;a++', ')', '', '{', '', 'if((list[a]+list[b])=k', ')', '', 'printf(\"%s\",lucky', ')', ';', '', 'else', '', 'continue', ';', '', '}', '', '}', '', 'return', '0', ';', '', '}']\n",
      "['#', 'include', '<', 'stdio.h', '>', '', 'int', 'main', '(', ')', '{', '', 'int', 'k', ',', 'count', ',', 'i', ',', 'j', ',', 'n', ';', '', 'count=0', ';', '', 'scanf(\"%d\",k', ')', ';', '', 'scanf(\"%d\",n', ')', ';', '', 'int', 'str[n', ']', ';', '', 'for(i=0;i', '<', 'n;i++', ')', '', 'scanf(\"%d\",str[i', ']', ')', ';', '', 'for(i=0;i', '<', 'n;i++', ')', '', '{', '', 'for(j=0;j', '<', 'n;j++', ')', '', '{', 'if((i!=j)&&(a[i]+a[j]=k', ')', ')', '', 'count++', ';', '}', '', '}', '', 'if(count!=0', ')', '', 'printf(\"lucky', '\"', ')', ';', '', 'else', '', 'printf(\"unlucky', '\"', ')', ';', '', 'return', '0', ';', '', '}']\n",
      "['#', 'include', '<', 'stdio.h', '>', '', '#', 'include', '<', 'stdlib.h', '>', '', 'int', 'main', '(', ')', '{', '', 'int', 'a', ',', 'b', ',', 'c', ';', '', 'scanf(\"%d%d%d\",&a,&b,&c', ')', ';', '', 'if((c>=a+b)||(b>=a+c)||(a>=b+c', ')', ')', '', '{', 'printf(\"cannot', 'form', 'a', 'triangle', '\"', ')', ';', '}', '', 'else', '', 'if((a*a+b*b==c*c)||(b*b+c*c==a*a)||(c*c+a*a==b*b', ')', ')', '', '{', 'printf(\"right', 'triangle', '\"', ')', ';', '}', '', 'else', '', '{', 'printf(\"not', 'right', 'triangle', '\"', ')', ';', '}', '', 'return', '0', ';', '', '}']\n",
      "['#', 'include', '<', 'stdio.h', '>', '', 'long', 'long', 'arr_sum', '(', 'long', 'long', 'arr[],long', 'n', ',', 'long', 'long', '*', 'an', '', ')', ';', '', 'int', 'main', '(', ')', '', '{', '', 'long', '', 'n;//no', '.', 'of', 'integer', '', 'long', 'long', '', 'arr[1000000];//array', 'to', 'store', 'the', 'entry', '', 'long', 'long', '', 'tot_sum;//total', 'sum', 'of', 'the', 'element', '', 'long', 'long', 'sum=0', ';', '', 'long', 'long', '*', 'an', ';', '', 'ans=&sum', ';', '', 'scanf(\"%li\",&n', ')', ';', '', 'for(long', '', 'i=0;i', '<', 'n;i++', ')', '{', '', 'scanf(\"%lli\",&arr[i', ']', ')', ';', '', '}', '', 'tot_sum', '=', 'arr_sum(arr', ',', 'n', ',', 'an', ')', ';', '', 'printf(\"%lli\",tot_sum', ')', ';', '', 'return', '0', ';', '', '}', '', 'long', 'long', 'arr_sum', '(', 'long', 'long', 'arr[],long', '', 'n', ',', 'long', 'long', '*', 'an', ')', '{', '', '*', 'ans=*ans+arr[n-1', ']', ';', '', 'if(n==1', ')', '{', '', 'return', '*', 'an', ';', '', '}', '', 'return', 'arr_sum(arr', ',', 'n-1,ans', ')', ';', '', '}']\n",
      "['#', 'include', '<', 'stdio.h', '>', '', 'int', 'main', '(', ')', '', '{', '', 'int', 'i', ',', 'n', ',', 'ln', ',', 'c1=0,c2=0', ';', '', 'scanf(\"%d\",&ln', ')', ';', '', 'scanf(\"%d\",&n', ')', ';', '', 'int', 'num[n],occ[498', ']', ';', '', 'for(i=0;i', '<', 'n;i++', ')', '', '{', '', 'scanf(\"%d\",&num[i', ']', ')', ';', '', '}', '', 'for(i=1;i<499;i++', ')', '', '{', '', 'for(j=0;j', '<', 'n;j++', ')', '', '{', '', 'if(a[j]==i', ')', '', 'd1++', ';', '', '}', '', 'occ[i-1]=d1', ';', '', '}', '', 'for(i=1;i<=ln;i++', ')', '', '{', '', 'if(occ[i-1]>=0', '&', '&', 'occ[ln-1', '-', '1]>=0', ')', '', 'd2++', ';', '', '}', '', 'if(d2==0', ')', '', 'printf(\"unlucky', '\"', ')', ';', '', 'else', '', 'printf(\"lucky', '\"', ')', ';', '', 'return', '0', ';', '', '}']\n",
      "['#', 'include', '<', 'stdio.h', '>', '', 'int', 'main', '(', ')', '{', '', 'int', 'n', ',', 'i', ',', 'luck', ';', '', 'scanf(\"%d\\\\n%d\",&luck,&n', ')', ';', '', 'int', 'x[n', ']', ';', '', 'for(i=0;i', '<', 'n;i++', ';)', '', 'scanf(\"%d', '\"', ',', 'x[i', ']', ')', ';', '', 'for(i=0;i', '<', 'n;i++', ';)', '', 'for(j', '=', 'i+1;j', '<', 'n;j++', ';)', '', 'if(x[i]+x[j]==luck', ')', 'printf(\"lucky', '\"', ')', ';', '', 'break', ';', '', 'return', '0', ';', '', '}']\n",
      "['#', 'include', '<', 'stdio.h', '>', '', 'int', 'main', '(', ')', '{', '', 'int', 'n', ',', 'm', ',', 'a[],b', '[', ']', ';', '', 'scanf(%d%d,&n,&m,&a[],&b', '[', ']', ')', ';', '', 'sum', '0', ';', '', 'int', 'a[],b', '[', ']', ';', '', 'for', '(', 'i=1;1<=n;i++', ')', '{', '', 'for(j=1;j<=m;j++', ')', '', 'b[1', ']', '', '}', '', '//fill', 'th;is', 'area', 'with', 'your', 'code', '.', '', 'return', '0', ';', '', '}']\n",
      "['#', 'include', '<', 'stdio.h', '>', '', 'int', 'main', '(', ')', '{', '', 'int', 'k', ',', 'i', ',', 'n', ',', 'a[100],sum', ',', 'l', ';', '', 'scanf(\"%d\",&k', ')', ';', '', 'scanf(\"%d\",&n', ')', ';', '', 'for(i=0;i', '<', 'n;i++', ')', '', '{', '', 'scanf(\"%d\",&a[i', ']', ')', ';', '', '{', '', 'for(l=0;l', '<', 'n;l++', ')', '', '{', '', 'scanf(\"%d\",&a[l', ']', ')', ';', '', 'sum', '=', '0', ';', '', 'sum=', 'a[i]+a[n', '-', 'l-1', ']', ';', '', 'if(sum==b', ')', '', 'printf(\"lucky', '\"', ')', ';', '', '}', '', '}', '', '}', '', 'return', '0', ';', '', '}']\n",
      "['#', 'include', '<', 'stdio.h', '>', '', 'int', 'main', '(', ')', '{', '', 'int', 'n', ',', 'k', ',', 't', ',', 'c=0', ';', '', 'scanf(\"%d\",&k', ')', ';', '', 'scanf(\"%d\",&n', ')', ';', '', 'int', 'a[n', ']', ';', '', 'for(int', 'i=0;i', '<', 'n;i++', ')', '', '{', '', 'scanf(\"%d\",&a[i', ']', ')', ';', '}', '', 'for(int', 'x=0;x', '<', 'n;x++', ')', '', '{', '', 'for(int', 'y', '=', 'i;y', '<', 'n;y++', ')', '', '{', '', 't', '=', 'a[x]+a[y', ']', ';', '', 'if(t==k', ')', '', '{', '', 'c=1', ';', '', '}', '', '}', '', '}', '', 'if(c==1', ')', '', '{', '', 'printf(\"lucky', '\"', ')', ';', '', '}', '', 'else', '', 'printf(\"unlucky', '\"', ')', ';', '', 'return', '0', ';', '', '}']\n",
      "['#', 'include', '<', 'stdio.h', '>', '', 'int', 'main', '(', ')', '{', '', 'int', 'i', ',', 'k', ',', 'n', ',', 'a', ';', '', 'scanf(\"%d\",&n', ')', ';', '', 'int', 'a[n', ']', ';', '', 'scanf(\"%d\",k', ')', ';', '', 'for(i=1;i<=n;i++', ')', '', '{', 'if', '', 'a[i]=a', ';', '', 'a[i]=k', '-', 'a[i', ']', ';', '', 'printf(\"lucky', '\"', ')', ';', '', 'else', 'printf(\"unlucky', '\"', ')', ';', '', '}', '', 'return', '0', ';', '', '}']\n",
      "['#', 'include', '<', 'stdio.h', '>', '', '#', 'include', '<', 'stdlib.h', '>', '', 'void', 'move(char', 'from', ',', 'char', 'to', ')', '{', '', 'const', 'int', 'numperline', '=', '8', ';', '', 'static', 'int', 'num', '=', '0', ';', '', 'if', '(', 'num%numperline', '=', '=', '0', ')', '{', '', 'printf(\"\\\\n%5d', ':', '\"', ',', 'num', ')', ';', '', '}', '', 'else', '{', '', 'printf', '(', '\"', '\"', ')', ';', '', '}', '', 'printf(\"%c->%c', '\"', ',', 'from', ',', 'to', ')', ';', '', 'num++', ';', '', '}', '', 'void', 'moves(n', ')', '', '{', 'if(n==1', ')', '', '{', \"move('a','b\", \"'\", ')', ';', '', \"move('b','c\", \"'\", ')', ';', '}', '', 'else', 'if(n==0', ')', '', ';', '', 'else', '', 'moves(n-1', ')', ';', '', '}', '', 'int', 'main', '(', ')', '{', ';', '', 'int', 'n', ';', '', 'scanf(\"%d\",&n', ')', ';', '', 'moves(n', ')', ';', '', 'return', '0', ';', '', '}']\n",
      "['#', 'include', '<', 'stdio.h', '>', '', '#', 'include', '<', 'stdlib.h', '>', '', 'int', 'main', '(', ')', '', '{', '', 'int', 'a', ',', 'b', ',', 'c', ';', '', 'scanf(\"%d', '%', 'd', '%', 'd\",&a,&b,&c', ')', ';', '', 'if(a==0||b==0||c==0||a+b', '<', 'c||b+c', '<', 'a||a+c', '<', 'b', ')', '{', '', 'printf(\"cannot', 'form', 'a', 'triangle', '\"', ')', ';', '', '}', '', 'else{if(a*a+b*b==c*c||b*b+c*c==a*a||a*a+c*c==b*b', ')', '', '{', 'printf(\"right', 'triangle', '\"', ')', ';', '}', '', 'else', '{', '', 'if(a*a+b*b!=c*c||b*b+c*c!=a*a||a*a+c*c!=b*b', ')', '', 'printf(\"not', 'right', 'triangle', '\"', ')', ';', '}', '', '}', '', 'return', '0', ';', '', '}']\n",
      "['#', 'include', '<', 'stdio.h', '>', '', 'int', 'main', '(', ')', '{', '', 'int', 'k', ';', '', 'scanf(\"%d\",&k', ')', ';', '', 'int', 'n', ';', '', 'scanf(\"%d\",&n', ')', ';', '', 'int', 'arr[500', ']', ';', '', 'int', 'f=0', ';', '', 'for(int', 'i', '=', 'o;i<500;i++', ')', '', '{', '', 'arr[i]=0', ';', '', '}', '', 'for(int', 'i=0;i', '<', 'n;i++', ')', '', '{', '', 'int', 't', ';', '', 'scanf(\"%d\",&t', ')', ';', '', 'int', 'arr[t-1]++', ';', '', '}', '', 'for(int', 'i=0;i', '<', 'k/2;i++', ')', '', '{', '', 'if(arr[i]>0&&arr[k', '-', 'i]>0', ')', '', '{', '', 'flag=1;break', ';', '', '}', '', '}', '', 'if(flag', ')', '', 'printf(\"lucky', '\"', ')', ';', '', 'else', '', 'printf(\"unlucky', '\"', ')', ';', '', 'return', '0', ';', '', '}']\n"
     ]
    },
    {
     "name": "stdout",
     "output_type": "stream",
     "text": [
      "['#', 'include', '<', 'stdio.h', '>', '', 'int', 'main', '(', ')', '{', '', 'int', 'k', ',', 'n', ';', '', 'int', 'a[1000', ']', ';', '', 'scanf(\"%d%d\",&k,&n', ')', ';', '', 'if(k%2!=0&&n<=1000', ')', '', '{', '', 'for(int', 'i=1;i<=n;i++', ')', '', '{', '', 'scanf(\"%d\",&a[i', ']', ')', ';', '', 'if', '(', 'a[i]<0&&a[i]>499', ')', '', 'return', '0', ';', '', '}', '', 'for(int', 'i=1;i<=n;i++', ')', '', '{', '', 'for(int', 'j=1;j<=n;j++', ')', '', '{', '', 'int', 'sum', '=', 'a[i]+a[i+j', ']', ';', '', 'if', 'sum', '=', '=', 'k', ';', '', '{', '', 'int', 'b=0', ';', '', 'b++', ';', '', 'printf(\"lucky', '\"', ')', ';', '', '}', '', '}', '', '}', '', 'if', '(', 'b==0', ')', '', 'printf(\"unlucky', '\"', ')', ';', '', '}', '', 'return', '0', ';', '', '}']\n",
      "['#', 'include', '<', 'stdio.h', '>', '', 'int', 'main', '(', ')', '', '{', '', 'int', 'n', ',', 'i', ',', 'j', ',', 'count', ';', '', 'scanf(\"%d%d%d\",&n1,&n2,&j', ')', ';', '', 'for(i=0;i', '<', 'n;i++', ')', '', '{', '', 'count=0', ';', '', '}', '', 'for(j=1;j', '<', 'n;j++', ')', '', '{', 'break', ';', '', 'count=1', ';', '', '}', '', 'if(count==1', ')', '', '{', '', 'printf(\"lucky', '\"', ')', ';', '', '}', '', 'else', '', '{', '', 'printf(\"unlucky', '\"', ')', ';', '', '}', '', 'return', '0', ';', '', '}']\n",
      "['#', 'include', '<', 'stdio.h', '>', '', 'int', 'main', '(', ')', '{', '', 'int', 'num[1000],i', ',', 'k', ';', '', 'for(i=0;i<1000;i++', ')', '', '{', 'scanf(\"%d\",&k', ')', ';', '', 'scanf(\"%d\",&num[i', ']', ')', ';', '', 'k', '=', 'num[i]+1', ';', '}', '', 'if(k%2==1', ')', '', '{', 'printf(\"lucky', '\"', ')', ';', '}', '', 'else(k%2!=1', ')', '', 'printf(\"unlucky', '\"', ')', ';', '', 'return', '0', ';', '', '}']\n",
      "['#', 'include', '<', 'stdio.h', '>', '', '#', 'include', '<', 'stdlib.h', '>', '', 'void', 'move(char', 'from', ',', 'char', 'to', ')', '{', '', 'const', 'int', 'numperline', '=', '8', ';', '', 'static', 'int', 'num', '=', '0', ';', '', 'if', '(', 'num%numperline', '=', '=', '0', ')', '{', '', 'printf(\"\\\\n%5d', ':', '\"', ',', 'num', ')', ';', '', '}', '', 'else', '{', '', 'printf', '(', '\"', '\"', ')', ';', '', '}', '', 'printf(\"%c->%c', '\"', ',', 'from', ',', 'to', ')', ';', '', 'num++', ';', '', '}', '', 'void', 'hanoi(int', 'num', ',', 'char', 'from', ',', 'char', 'to', ',', 'char', 'aux', ')', '{', '', 'if', '(', 'num==1', ')', '{', '', 'move(from', ',', 'aux', ')', ';', '', 'move(aux', ',', 'to', ')', ';', '', '}', '', 'else', '{', '', 'hanoi', '(', 'num-1,from', ',', 'aux', ',', 'to', ')', ';', '', 'move(from', ',', 'aux', ')', ';', '', 'move(aux', ',', 'to', ')', ';', '', 'hanoi(num-1,aux', ',', 'from', ',', 'to', ')', ';', '', '}', '', '}', '', 'int', 'main', '(', ')', '{', '', 'int', 'n', ';', '', 'scanf(\"%d\",&n);//take', 'the', 'number', 'of', 'disk', '', 'char', \"a='a',b='b',c='c\", \"'\", ';', '', 'hanoi(n', ',', 'a', ',', 'c', ',', 'b);//hanoi', 'function', '', 'return', '0', ';', '', '}']\n",
      "['#', 'include', '<', 'stdio.h', '>', '', '#', 'include', '<', 'stdlib.h', '>', '', 'int', 'main', '(', ')', '{', '', 'int', 'num', ',', 'x', ',', 'z', ',', 'i', ';', '', 'scanf(\"%d\",&num', ')', ';', '', 'for(x=1;x<=num;x++', ')', '', '{', '', 'for(z', '=', 'num', '-', 'x;z>=1;z--', ')', '', 'printf', '(', '\"', '\"', ')', ';', '', 'for', '(', 'i', '=', 'num', '-', 'x+1;i<=num;i++', ')', '', 'printf(\"%d\",i%10', ')', ';', '', 'printf(\"\\\\n', '\"', ')', ';', '', '}', '', 'return', '0', ';', '', '}']\n",
      "['#', 'include', '<', 'stdio.h', '>', '', '#', 'include', '<', 'stdlib.h', '>', '', 'int', 'main', '(', ')', '{', '', 'int', 'n', ',', 'm', ',', 'x', ',', 'y', ',', 'i', ',', 'j', ',', 'c=0', ';', '', 'scanf(\"%d%d%d%d\",&n,&m,&x,&y', ')', ';', '', 'int', '*', 'a,*b', ';', '', 'a=(int*)malloc(n*sizeof(int', ')', ')', ';', '', 'b=(int*)malloc(m*sizeof(int', ')', ')', ';', '', 'for(i=0;i', '<', 'n;i++', ')', '', 'scanf(\"%d\",a+i', ')', ';', '', 'for(i=0;i', '<', 'm;i++', ')', '', 'scanf(\"%d\",b+i', ')', ';', '', 'int', 's=0', ';', '', 'for(i=0;i', '<', 'm;i++', ')', '', 'for(j', '=', 's;j', '<', 'n;j++', ')', '', '{', 'if((a[j]<b[i]+y)&&(a[j]>b[i]-x)){c++;s', '=', 'j+1;break', ';', '}', '', 'else', 'i++', ';', '}', '', 'printf(\"%d\",c', ')', ';', '', 'return', '0', ';', '', '}']\n",
      "['#', 'include', '<', 'stdio.h', '>', '', 'int', 'main', '(', ')', '{', '', 'int', 'i', ',', 'j', ',', 'n', ',', 'k', ',', 's', ';', '', 'scanf(\"%d\",&k', ')', ';', '', 'scanf(\"%d\",&n', ')', ';', '', 'int', 'a[n', ']', ';', '', 'for(i=0;i', '<', 'n;i++', ')', '', '{', '', 'scanf(\"%d\",&a[i', ']', ';)', '', '}', '', 'for(i=0;i', '<', 'n;i++', ')', '', '{', '', 'for(j=0;j', '<', 'n;j++', ')', '', '{', '', 's=-1', ';', '', 'if((a[i]+a[j])==k', ')', '', '{', '', 's++', ';', '', 'printf(\"lucky', '\"', ')', ';', '', 'break', ';', '', '}', '', '//if(s>0', ')', '', '//break', ';', '', '}', '', 'if(s>0', ')', '', 'break', ';', '', '}', '', '//if(s==0', ')', '', '//printf(\"lucky', '\"', ')', ';', '', 'if(s==-1', ')', '', 'printf(\"unlucky', '\"', ')', ';', '', 'return', '0', ';', '', '}']\n",
      "['#', 'include', '<', 'stdio.h', '>', '', 'int', 'main', '(', ')', '{', '', 'int', 'a', ',', 'i', ',', 'j', ',', 'c=0', ';', '', 'scanf(\"%d', '\"', ',', '&', 'a', ')', ';', '', 'int', 'd[200', ']', ';', '', 'for(i=0;i', '<', 'a;i++', ')', '', '{', '', 'scanf(\"%d\",&d[i', ']', ')', ';', '', '}', '', 'for(i=0;i', '<', 'a;i++', ')', '', '{', '', 'for(j', '=', 'i+1;j', '<', 'a-1;j++', ')', '', '{', '', 'if(d[i]==d[j', ']', ')', '', '{', '', 'printf(\"yes\\\\n', '\"', ')', ';', '', '}', '', '}', '', 'printf(\"no', '\"', ')', ';', '', '}', '', 'return', '0', ';', '', '}']\n",
      "['#', 'include', '<', 'stdio.h', '>', '', 'int', 'main', '(', ')', '{', '', 'int', 'n', ',', 'm', ',', 'i', ',', 'k', ',', 'l', ',', 'b', ';', '', 'scanf(\"%d\\\\n%d\\\\n\",&n,&m', ')', ';', '', 'int', 'a[m', ']', ';', '', 'b=0', ';', '', 'for(i=0;i', '<', 'm;i++', ')', '{', '', 'scanf(\"%d', '\"', ',', '&', 'a[i', ']', ')', ';', '', '}', '', 'for(j=0;j', '<', 'm;j++', ')', '{', '', 'for(k', '=', 'j+1;k', '<', 'm;k++){if((a[j]+a[k])==n){b=1', ';', '', 'break', ';', '', '}', '', '}', '', 'if(b==1', ')', 'break', ';', '', '}', '', 'if(b==1', ')', 'printf(\"lucky', '\"', ')', ';', '', 'else', 'printf(\"unlucky', '\"', ')', ';', '', 'return', '0', ';', '', '}']\n",
      "['#', 'include', '<', 'stdio.h', '>', '', 'int', 'main', '(', ')', '{', '', 'int', 'k', ',', 'n=0,i', ',', 'a[n],temp', ';', '', 'scanf(\"%d\\\\n', '%', 'd\\\\n\",&k,&n', ')', ';', '', 'for(i=0;i', '<', 'n;i++', ')', '', '{', '', 'scanf(\"%d\",&a[i', ']', ')', ';', '', '}', '', 'temp=0', ';', '', 'for(i=0,j==0;i', '<', 'n;i++,j++', ')', '', '{', '', 'if(a[i]+a[j]==k', ')', '', 'temp=1', ';', '', 'break', ';', '', '}', '', 'if(temp==1', ')', '', 'printf(\"lucky', '\"', ')', ';', '', 'else', 'if(temp==0', ')', '', 'printf(\"unlucky', '\"', ')', ';', '', 'return', '0', ';', '', '}']\n",
      "['#', 'include', '<', 'stdio.h', '>', '', 'int', 'main', '(', ')', '', '{', '', 'int', 'n', ',', 'm', ';', '', 'scanf(\"%d', '%', 'd\",&n,&m', ')', ';', '', 'int', 'a', ';', '', 'int', 'sum', ';', '', 'int', 'max=0', ';', '', 'for(int', 'i=0;i', '<', 'n;i++', ')', '', '{', 'sum=0', ';', '', 'for(int', 'j=0;j', '<', 'm;j++', ')', '', '{', '', 'scanf(\"%d\",&a', ')', ';', '', 'sum', '=', 'sum+a', ';', '', '}', '', 'printf(\"%d\",sum', ')', ';', '', 'if(sum', '>', 'max', ')', '', 'max', '=', 'sum', ';', '', '}', '', 'printf(\"%d\",sum', ')', ';', '', 'return', '0', ';', '', '}']\n",
      "['#', 'include', '<', 'stdio.h', '>', '', 'int', 'main', '(', ')', '', '{', 'int', 'n', ',', 'i', ',', 'j', ',', 'c', ',', 'd', ',', 'a[100],b[100],m', ';', '', 'scanf(\"%i\",&n', ')', ';', '', 'for(i=0;i', '<', 'n;++i', ')', '', 'scanf(\"%i\",&a[i', ']', ')', ';', '', 'for(i=0;i', '<', 'n;++i', ')', '', 'b[i]=i+1', ';', '', 'for(i=0;i', '<', 'n-1;++i', ')', '', '{', 'for(j', '=', 'i+1;j', '<', 'n;++j', ')', '', 'if(a[i]==a[j])a[i]=0', ';', '}', '', 'for(i=0;i', '<', 'n;++i){if(a[i]==0)break;}c', '=', 'a[i', ']', ';', '', 'for(i=0;i', '<', 'n;++i', ')', '', '{', 'for(j=0;j', '<', 'n;++j', ')', '', 'if(b[i]==a[j])b[i]=0', ';', '}', '', 'for(i=0;i', '<', 'n;++i', ')', '', 'if(b[i]!=0)break', ';', '', 'd', '=', 'b[i', ']', ';', '', 'printf(\"%i\\\\n%i\",c', ',', 'd', ')', ';', '', 'return', '0', ';', '', '}']\n",
      "['#', 'include', '<', 'stdio.h', '>', '', '#', 'include', '<', 'stdlib.h', '>', '', 'int', 'main', '(', ')', '{', '', 'int', 'i', ',', 'j', ',', 'n', ',', 's', ';', '', 'scanf(\"%d\",&n', ')', ';', '//', 'take', 'value', 'of', 'n', 'size', 'of', 'array', '', 'int', 'ar[n', ']', ';', '//', 'define', 'array', '', 'for(i=0;i', '<', 'n;i++', ')', '', '{', '', 'scanf(\"%d\",&ar[i', ']', ')', ';', '//', 'read', 'array', '', '}', '', 'scanf(\"%d\",&s', ')', ';', '//', 'take', 'value', 'of', 'desire', 'sum', '', 'for(i=0;i', '<', 'n;i++', ')', '//', 'loop', 'to', 'check', 'the', 'sum', '', '{', '', 'for(j=(i+1);j', '<', 'n;j++', ')', '', '{', '', 'if((ar[i]+ar[j])==s', ')', '', '{', '', 'printf(\"(%d,%d)\",ar[i],ar[j', ']', ')', ';', '//', 'print', 'if', 'sum', 'match', '', '}', '', '}', '', 'printf(\"\\\\n', '\"', ')', ';', '//', 'new', 'line', '', '}', '', 'return', '0', ';', '', '}']\n"
     ]
    },
    {
     "name": "stdout",
     "output_type": "stream",
     "text": [
      "['#', 'include', '<', 'stdio.h', '>', '', 'int', 'main', '(', ')', '', '{', '', 'int', 'n[1000],a[500],nm', ',', 'i', ',', 'j', ',', 'ln', ',', 'flag=0', ';', '', 'scanf(\"%d\\\\n\",&ln', ')', ';', '', 'scanf(\"%d\\\\n\",&nm', ')', ';', '', 'for(i=0;i<500;i++', ')', '', '{', '', 'a[i]=0', ';', '', '}', '', 'for(i=0;i', '<', 'nm;i++', ')', '', '{', '', 'scanf(\"%d', '\"', ',', '&', 'nm', ')', ';', '', 'c', '=', 'n[i', ']', ';', '', 'a[c]=a[c]+1', ';', '', '}', '', 'for(i=0;i', '<', 'nm', '&', '&', 'flag==0', '&', '&', 'nm<=ln;i++', ')', '', '{', '', 'for(j=0;j', '<', 'nm;j++', ')', '', '{', '', 'if(ln', '-', 'n[i]==n[j', ']', ')', '', '{', '', 'c', '=', 'nm', ';', '', 'if(a[c]!=0', ')', '', '{', '', 'flag=1', ';', '', 'break', ';', '', '}', '', '}', '', '}', '', '}', '', 'if(flag==1)printf(\"lucky', '\"', ')', ';', '', 'else', 'printf(\"unlucky', '\"', ')', ';', '', 'return', '0', ';', '', '}']\n",
      "['#', 'include', '<', 'stdio.h', '>', '', 'int', 'sum=1', ';', '', 'void', 'fun(int', 'a[],int', 'p', ',', 'int', 'n', ',', 'int', 'i', ',', 'int', 't', ')', '', '{', '', 'if(p==t){printf(\"yes\");sum=0', ';', '}', '', 'if(i==n)return', ';', '', 'fun(a', ',', 'p+a[i],n', ',', 'i+1,t', ')', ';', '', 'fun(a', ',', 'p', ',', 'n', ',', 'i+1,t', ')', ';', '', 'return', ';', '', '}', '', 'int', 'main', '(', ')', '', '{', '', 'int', 'n', ',', 't', ';', '', 'scanf(\"%d%d\",&n,&t', ')', ';', '', 'int', 'a[n', ']', ';', '', 'for(int', 'i=0;i', '<', 'n;i++', ')', '', 'scanf(\"%d\",&a[i', ']', ')', ';', '', 'fun(a,0,n,0,t', ')', ';', '', 'return', '0', ';', '', '}']\n",
      "['#', 'include', '<', 'stdio.h', '>', '', 'int', 'main', '(', ')', '{', '', 'int', 'k', ',', 'n', ';', '', 'int', 'i', ',', 'x[1000', ']', ';', '', 'scanf(\"%d\",&k', ')', ';', '', 'scanf(\"%d\",&n', ')', ';', '', 'for(i=0;i', '<', 'n;i++', ')', '{', '', 'scanf(\"%d\",&x[i', ']', ')', ';', '', '}', '', 'for(i=0;i', '<', 'n;i++', ')', '', '{', '', 'x[i]=t', ';', '', 'for(j=0;j', '<', 'n;j++', ')', '', '{', '', 'if(k==t+x[j', ']', ')', '', '{', '', 'printf(\"lucky', '\"', ')', ';', '', 'break', ';', '', '}', '', '}', '', '}', '', 'return', '0', ';', '', '}']\n",
      "['#', 'include', '<', 'stdio.h', '>', '', 'int', 'main', '(', ')', '{', '', 'int', 'a[1000],c[500', ']', ';', '', 'int', 'k', ',', 'n', ',', 'i', ',', 'j', ',', 'l', ',', 'o;/*declaration', 'of', 'variables*/', '', 'scanf(\"%d\\\\n%d\\\\n', '\"', ',', '&', 'k,&n', ')', ';', '', 'for', '(', 'i=0;i', '<', 'n;i++)/*loop', 'to', 'enter', 'list', 'of', 'number', 'into', 'an', 'array*/', '', '{', '', 'scanf(\"%d', '\"', ',', '&', 'a[i', ']', ')', ';', '', '}', '', 'for(j=0;j<500;j++)/', '*', 'loop', 'to', 'check', 'if', 'both', 'x', 'and', 'k', '-', 'x', 'occur', 'atleast', '', 'once', 'in', 'the', 'list', 'for', 'every', 'x', 'in', 'the', 'list.*/', '', '{', '', 'l', '=', 'a[j', ']', ';', '', 'c[l]=1', ';', '', '}', '', 'for', '(', 'i=0;i<500;i++', ')', '', '{', '', 'if', '(', 'c[i]==1', ')', ';', '', '{', '', 'if', '(', 'c[k', '-', 'i]==1', ')', '', 'r++', '', '}', '', '}', '', 'if', '(', 'r>0', ')', '', 'printf(\"lucky', '\"', ')', ';', '', 'else', '', 'printf(\"unlucky', '\"', ')', ';', '', '}']\n",
      "['#', 'include', '<', 'stdio.h', '>', '', 'int', 'main', '(', ')', '', '{', '', 'int', 'n', ',', 'k', ';', '', 'scanf(\"%d%d\",&n,&k', ')', ';', '', 'int', 'count[k', ']', ';', '', 'for(int', 'i=0;i', '<', 'k;i++', ')', '', 'count[i]=0', ';', '', 'int', 's[n', ']', ';', '', 'for(int', 'i=0;i', '<', 'n;i++', ')', '', '{', '', 'scanf(\"%d\",&s[i', ']', ')', ';', '', 'count[s[i]]++', ';', '', '}', '', 'int', 'total=0', ';', '', 'for(int', 'i=0;i', '<', 'k;i++', ')', '', '{', '', 'int', 'old', '=', 'count[i', ']', ';', '', 'count[i]=total', ';', '', 'total+=old', ';', '', '}', '', 'int', 'output[n', ']', ';', '', 'for(int', 'i=0;count[i]<n;i++', ')', '', '{', '', 'for(int', 'j', '=', 'count[i', ']', ';', 'j', '<', 'count[i+1];j++', ')', '', '{', '', 'output[j]=', 'i', ';', '', 'printf(\"%d\",i', ')', ';', '', '}', '', '}', '', '}']\n",
      "['#', 'include', '<', 'stdio.h', '>', '', 'int', 'main', '(', ')', '{', '', 'int', 'a', ',', 'b', ';', '', 'int', 'c=0', ';', '', 'int', 'd=0', ';', '', 'scanf(\"%d\",&a', ')', ';', '', 'int', 'arr1[a', ']', ';', '', 'for(int', 'i=0;i', '<', 'a;i++', ')', '', 'scanf(\"%d\",&arr1[i', ']', ')', ';', '', 'scanf(\"%d\",&b', ')', ';', '', 'int', 'arr2[b', ']', ';', '', 'for(int', 'j=0;j', '<', 'b;j++', ')', '', 'scanf(\"%d\",&arr2[j', ']', ')', ';', '', 'for', '(', 'int', 'i=0;i', '<', 'b;i++', ')', '', '{', '', 'for', '(', 'int', 'j=0;j', '<', 'a;j++', ')', '', '{', '', 'if(arr2[i]==arr1[j', ']', ')', '', '{', '', 'for', '(', 'int', 'k=1;k', '<', 'b;k++', ')', '', '{', '', 'c=(arr2[i+k]==arr1[j+k', ']', ')', ';', '', '}', '', 'if(c==b-1', ')', 'printf(\"ye', '\"', ')', ';', '', 'else', 'printf(\"no', '\"', ')', ';', '', 'return', '0', ';', '', '}', '', '}', '', '}', '', 'return', '0', ';', '', '}']\n",
      "['#', 'include', '<', 'stdio.h', '>', '', 'int', 'main', '(', ')', '{', '', 'int', 'n', ',', 'k', ',', 'i', ',', 'j', ',', 'c=0', ';', '', 'scanf(\"%d\\\\n%d\\\\n\",&k,&n', ')', ';', '', 'int', 'a[1000', ']', ';', '', 'for(i=0;i<=n-1;i++', ')', '{', '', 'scanf(\"%d\",&a[i', ']', ')', ';', '', '}', '', 'for(i=0;i<=n-1;i++', ')', '{', '', 'for(j=0;j<=n-1;j++', ')', '{', '', 'if(a[i]%2==0', ')', '{', '', 'if(a[j]%2==0)continue', ';', '', 'else', 'if(a[i]==k', '-', 'a[j', ']', ')', '{', '', 'printf(\"lucky', '\"', ')', ';', '', 'c++', ';', '', 'break', ';', '', '}', '', '}', '', 'else', '{', '', 'if(a[j]%2!=0)continue', ';', '', 'else', 'if(a[i]==k', '-', 'a[j', ']', ')', '{', '', 'printf(\"lucky', '\"', ')', ';', '', 'c++', ';', '', 'break', ';', '', '}', '', 'if(c!=0)break', ';', '', '}', '', 'if(c==0)printf(\"unlucky', '\"', ')', ';', '', 'return', '0', ';', '', '}']\n",
      "['#', 'include', '<', 'stdio.h', '>', '', 'int', 'main', '(', ')', '{', '', '//', 'insert', 'your', 'code', 'here', '', 'int', 'k', ',', 'n', ';', '', 'int', 'a[999', ']', ';', '', 'for', '(', 'int', 'c', '=', '0', ';', 'c', '<', '1000', ';', 'c++', ')', '', '{', '', 'a[c', ']', '=', '-1', ';', '', '}', '', 'scanf(\"%d', '\"', ',', '&', 'k', ')', ';', '', 'scanf(\"%d', '\"', ',', '&', 'n', ')', ';', '', 'for(int', 'i', '=', '0', ';', 'i', '<', 'n', ';', 'i++', ')', '', 'scanf(\"%d', '\"', ',', '&', 'a[i', ']', ')', ';', '.', '', 'for(int', 'i', '=', '0', ';', 'i', '<', 'n', ';', 'i++', ')', '', 'printf(\"%d', '\"', ',', 'a[i', ']', ')', ';', '', 'return', '0', ';', '', '}']\n",
      "['#', 'include', '<', 'stdio.h', '>', '', 'int', 'main', '(', ')', '', '{', '', 'int', 'n', ';', '', 'scanf(\"%d\",&n', ')', ';', '', 'int', 'i=0', ';', '', 'char', 't[n', ']', ';', '', 'char', 'ch', ';', '', 'ch', '=', 'getchar', '(', ')', ';', '', 'for(i=0;i', '<', 'n&&ch!=eof;i++', ')', '', '{', '', 't[i]=ch', ';', '', 'ch', '=', 'getchar', '(', ')', ';', '', '}', '', 'return', '0', ';', '', '}']\n",
      "['#', 'include', '<', 'stdio.h', '>', '', '#', 'include', '<', 'stdlib.h', '>', '', 'int', 'min(int', 'a', ',', 'int', 'b', ')', '', '{', 'if(a<=b)return', 'a', ';', '', 'else', 'return', 'b', ';', '', '}', '', 'void', 'choc_count(int', '*', 'a', ',', 'int', '*', 'b', ',', 'int', 'n', ')', '', '{', 'int', 'sum_a=0,sum_b=0,time_a=*a', ',', 'time_b=*b', ';', '', 'while((sum_a+sum_b)<n', ')', '', '{', '', 'if(time_a', '<', 'time_b){a++;time_a+=*a;sum_a++', ';', '}', '', 'else', 'if(time_a', '<', 'time_b){b++;time_b+=*b;sum_b--', ';', '}', '', 'else', 'if', '(', 'time_a==time_b){a++;time_a+=*a;sum_a++;b--;time_b+=*b;sum_b++', ';', '}', '', '}', '', 'printf(\"%d', '%', 'd\",sum_a', ',', 'sum_b', ')', ';', '', 'return', ';', '', '}', '', 'int', 'main', '(', ')', '{', '', 'int', 'n,*alice', ',', 'i,*bob', ';', '', 'scanf(\"%d\\\\n\",&n', ')', ';', '', 'alice=(int*)malloc(n*sizeof(int', ')', ')', ';', '', 'bob=(int*)malloc(n*sizeof(int', ')', ')', ';', '', 'for(i=0;i', '<', 'n;i++', ')', '', '{', 'scanf(\"%d\",&*bob);if(i!=n-1)bob++', ';', '}', '', 'alice', '=', 'bob-(n-1', ')', ';', '', 'choc_count(alice', ',', 'bob', ',', 'n', ')', ';', '', 'return', '0', ';', '', '}']\n",
      "['#', 'include', '<', 'stdio.h', '>', '', 'int', 'main', '(', ')', '{', '', 'int', 'n', ',', 'rem', ',', 'i', ',', 'y', ';', '', 'int', 'sum=0', ';', '', 'scanf(\"%d\",&n', ')', ';', '', 'while(n!=0', ')', '', '{', '', 'rem', '=', 'n%10', ';', '', 'n', '=', 'n/10', ';', '', 'sum', '=', 'sum+rem', ';', '', '}', '', 'for(i=2016;i>=2016;i++', ')', '', '{', '', 'y', '=', 'i%sum', ';', '', 'if', '(', 'y==0', ')', '', '{', '', 'printf(\"%d\",i', ')', ';', '', 'break', ';', '', '}', '', '}', '', 'return', '0', ';', '', '}']\n",
      "['#', 'include', '<', 'stdio.h', '>', '', 'int', 'main', '(', ')', '{', '', 'int', 'a', ',', 'n', ',', 'd', ';', '', 'scan(\"%d\"&a', ')', ';', '', 'scan(\"%d\"&n', ')', ';', '', 'int', 'e[500', ']', ';', '', 'for', '(', 'int', 'i=0;i<=n;i++', ')', '', '{', 'scan(\"%d\"&e[i', ']', ')', ';', '', '}', '', 'd=2*e[n', ']', '', 'if', '(', 'a', '<', 'd', ')', '', 'printf(\"lucky', '\"', ')', ';', '', 'else', '', 'printf(\"unlucky', '\"', ')', ';', '', '//', 'insert', 'your', 'code', 'here', '', 'return', '0', ';', '', '}']\n",
      "['#', 'include', '<', 'stdio.h', '>', '', 'int', 'main', '(', ')', '{', '', 'int', 'lucky', ',', 'n', ',', 'arr[500', ']', ';', '', 'scanf(\"%d', '%', 'd\",&lucky,&n', ')', ';', '', 'int', 'list[n', ']', ';', '', 'for(int', 'i=0;i', '<', 'n;i++', ')', '', '{', '', 'scanf(\"%d', '\"', ',', '&', 'list[i', ']', ')', ';', '', 'arr[list[i]]++', ';', '', '}', '', 'for(int', 'j=0;j', '<', 'n', ',', 'j++', ')', '', '{', '', 'if(arr[lucky', '-', 'list[j]]!=0', ')', '', '{', '', 'printf(\"lucky', '\"', ')', ';', '', 'break', ';', '', '}', '', '}', '', 'return', '0', ';', '', '}']\n",
      "['#', 'include', '<', 'stdio.h', '>', '', 'int', 'main', '(', ')', '{', '', 'int', 's[1000', ']', ';', '', 'int', 'k', ',', 'n', ',', 'i', ';', '', 'scanf(\"%d%d\",&k,&n', ')', ';', '', 'for(i=0;i', '<', 'n;i++', ')', '', '{', '', 'scanf(\"%d\",&value', ')', ';', '', 's[i]=value', ';', '', '}', '', 'for(i=0;i', '<', 'n;i++', ')', '', '{', 'if(k==s[i]+s[k', '-', 'i', ']', ')', '}', '', '{', 'printf(\"lucky', '\"', ')', ';', '', 'break', ';', '', '}', '', 'else{printf(\"unlucky', '\"', ')', ';', '', 'break', ';', '', '}', '', 'return', '0', ';', '', '}']\n",
      "['#', 'include', '<', 'stdio.h', '>', '', '#', 'include', '<', 'stdlib.h', '>', '', 'int', 'main', '(', ')', '', '{', '', 'int', 'n', ',', 'a[1000],b[1000],i', ',', 'j', ',', 'k', ',', 'l', ',', 'sum=0', ';', '', 'scanf(\"%d\",&n', ')', ';', '', 'for(i=0;i', '<', 'n;i++', ')', '', 'scanf(\"%d\",&a[i', ']', ')', ';', '', 'for(i=0;i', '<', 'n-1;i++', ')', '', '{', '', 'k=0', ';', '', 'for(j', '=', 'i+1;j', '<', 'n-2;j++', ')', '', '{', '', 'if(a[i]>a[j', ']', ')', '', '{', '', 'k++', ';', '', '}', '', '}', '', 'for(l=0;l', '<', 'n;l++', ')', '', 'b[i]=k', ';', '', '}', '', 'for(l=0;l', '<', 'n;l++', ')', '', 'sum', '=', 'sum+b[i', ']', ';', '', 'printf(\"%d\",sum', ')', ';', '', 'for(i=0;i', '<', 'n;i++', ')', '', 'printf(\"%d\",b[i', ']', ')', ';', '', 'return', '0', ';', '', '}']\n"
     ]
    },
    {
     "name": "stdout",
     "output_type": "stream",
     "text": [
      "['#', 'include', '<', 'stdio.h', '>', '', '#', 'include', '<', 'stdlib.h', '>', '', 'int', 'main', '(', ')', '{', '', 'int', 'n1,n2,i', ',', 'j', ',', 'flag', ',', 'temp', ';', '', 'scanf', '(', '\"', '%', 'd\",&n1', ')', ';', '', 'int', 'a1[25],a2[25', ']', ';', '', 'for(i=0;i', '<', 'n1;i++', ')', '{', '', 'scanf(\"%d\",&a1[i', ']', ')', ';', '', '}', '', 'scanf', '(', '\"', '%', 'd\",&n2', ')', ';', '', 'for(i=0;i', '<', 'n2;i++', ')', '{', '', 'scanf(\"%d\",&a2[i', ']', ')', ';', '', '}', '', 'for', '(', 'i=0;i', '<', 'n1;i++', ')', '{', '', 'for(j=0;j', '<', 'n1', '-', '1;j++', ')', '{', '', 'if', '(', 'a1[j]>a1[j+1', ']', ')', '{', '', 'temp', '=', 'a1[j', ']', ';', '', 'a1[j]=a1[j+1', ']', ';', '', 'a1[j+1]=temp', ';', '', '}', '', '}', '', '}', '', 'for', '(', 'i=0;i', '<', 'n1;i++', ')', '{', '', 'for(j=0;j', '<', 'n2;j++', ')', '{', '', 'if', '(', 'a1[i]==a2[j', ']', ')', '{', '', 'flag=1', ';', '', '}', '', '}', '', 'if(flag!=1', ')', '{', '', 'printf(\"%d\",a1[i', ']', ')', ';', '', 'break', ';', '', '}', '', '}', '', 'if', '(', 'flag==1', ')', '{', '', 'printf(\"no', '\"', ')', ';', '', '}', '', 'return', '0', ';', '', '}']\n",
      "['#', 'include', '<', 'stdio.h', '>', '', '#', 'include', '<', 'stdlib.h', '>', '', 'int', 'catlan(int', 'n', ')', '', '{', '', 'if(n==0||n==1', ')', '', 'return', '1', ';', '', 'if(n==2', ')', '', 'return', '2', ';', '', 'else', '', '{', '', 'int', 'i=0,t=0', ';', ';', '', 'while(i', '<', 'n', ')', '', '{', '', 't', '=', 't+catlan(i)*catlan(n', '-', 'i-1', ')', ';', '', 'i++', ';', '', '}', '', 'return', 't', ';', '', '}', '', '}', '', 'int', 'main', '(', ')', '{', '', 'int', 't', ',', 'k', ',', 'n=1,i;scanf(\"%d\",&t', ')', ';', '', 'long', 'a[10000', ']', ';', '', 'for(i=0;i', '<', 't;i++', ')', '', 'scanf(\"%ld\",&a[i', ']', ')', ';', '', 'for(i=0;i', '<', 't;i++', ')', '', '{', '', 'k', '=', 'a[i', ']', ';', '', 'while(k>0', ')', '', '{', '', 'k', '=', 'a[i', ']', ';', '', 'k', '=', 'k', '-', 'catlan(n++', ')', ';', '', '}', '', 'n=1', ';', '', 'printf(\"%d\",k', ')', ';', '', 'if(k==0&&a[i]!=0', ')', '', 'printf(\"yes\\\\n', '\"', ')', ';', '', 'else', '', 'printf(\"no\\\\n', '\"', ')', ';', '', '}', '', 'return', '0', ';', '', '}']\n",
      "['#', 'include', '<', 'stdio.h', '>', '', 'int', 'main', '(', ')', '{', '', 'int', 'k', ',', 'n', ',', 'i', ',', 'j', ';', '', 'int', 'm=0', ';', '', 'scanf(\"%d\",&k', ')', ';', '', 'scanf(\"%d\",&n', ')', ';', '', 'int', 'a[n', ']', ';', '', 'for(i=0;i', '<', 'n;i++){scanf(\"%d\",&a[i', ']', ')', ';', '}', '', 'for(p=0;p', '<', 'k;k++){for(i=0;i', '<', 'n;i++', ')', '{', '', 'for(j=0;j', '<', 'n;j++', ')', '{', '', 'if(a[i]+a[j]==k', '&', '&', 'm==0){printf(\"lucky\");m++', ';', '}', '', 'if(m==1)break', ';', '', '}', '', 'if(m==1)break', ';', '', '}', '', 'if(m==0){printf(\"unlucky', '\"', ')', ';', '}', '', '}', '', 'return', '0', ';', '', '}']\n",
      "['#', 'include', '<', 'stdio.h', '>', '', '#', 'include', '<', 'stdlib.h', '>', '', 'int', 'counter', '=', '0', ';', '', 'int', 'summation_of_scan(int', '*', 'a', ',', 'int', 'n', ')', '', '{', '', 'if(n!=0', ')', '', '{', '', 'scanf(\"%d\",a', ')', ';', '', 'return', 'summation_of_scan(a+1,n-1)+*a', ';', '', '}', '', 'return', '0', ';', '', '}', '', 'int', 'check(int', 'sum', ',', 'int', '*', 'a', ',', 'int', 'total_sum', ',', 'int', 'n', ')', '', '{', '', 'if(n==0', '&', '&', 'sum==total_sum/2', ')', '', '{', '', 'return', 'total_sum', ';', '', '}', '', 'if', '(', 'check(sum+*a', ',', 'a+1,total_sum', ',', 'n-1', ')', '||', 'check(sum', ',', 'a+1,total_sum', ',', 'n-1', ')', ')', '', 'return', '1', ';', '', 'return', '0', ';', '', '}', '', 'int', 'main', '(', ')', '', '{', '', 'int', 'n', ';', '', 'scanf(\"%d\",&n', ')', ';', '', 'int', '*', 'a=(int', '*', ')', '(', 'malloc(n*sizeof(int', ')', ')', ')', ';', '', 'int', 'sum', '=', 'summation_of_scan(a', ',', 'n', ')', ';', '', 'if(!(sum%2', ')', ')', '', '{', '', 'if(check(0,a', ',', 'sum', ',', 'n', ')', ')', '', '{', '', 'printf(\"yes', '\"', ')', ';', '', 'return', '0', ';', '', '}', '', '}', '', 'printf(\"no', '\"', ')', ';', '', 'return', '0', ';', '', '}']\n",
      "['#', 'include', '<', 'stdio.h', '>', '', 'int', 'main', '(', ')', '', '{', '', 'float', 'h', ',', 'w', ',', 'bmi;//where', 'h', '=', 'height', 'in', 'meter', '', 'scanf(\"%f%f\",&h,&w', ')', ';', '', 'bmi', '=', 'w/(h*h', ')', ';', '', 'printf(\"%.2f', 'm', '%', '.2f', 'kg', ':', 'bmi=%.2f\\\\nx\",h', ',', 'w', ',', 'bmi', ')', ';', '', 'if(bmi<18.5', ')', '', 'printf(\"you', 'have', 'low', 'weight', '\"', ')', ';', '', 'else', '', 'if(bmi>=18.5', '&', '&', 'bmi<25', ')', '', 'printf(\"you', 'have', 'normal', 'weight', '\"', ')', ';', '', 'else', 'if(bmi>=25', '&', '&', 'bmi<30', ')', '', 'printf(\"obesity', '(', '1st', '-', 'degree', ')', '\"', ')', ';', '', 'else', 'if(bmi>=30', '&', '&', 'bmi<35', ')', '', 'printf(\"obesity', '(', '2nd', '-', 'degree', ')', '\"', ')', ';', '', 'else', 'if(bmi>=35', '&', '&', 'bmi<40', ')', '', 'printf(\"obesity', '(', '3rd', '-', 'degree', ')', '\"', ')', ';', '', 'else', 'if(bmi>=40', ')', '', 'printf(\"obesity', '(', '4th', '-', 'degree', ')', '\"', ')', ';', '', 'return', '0', ';', '', '}']\n",
      "['#', 'include', '<', 'stdio.h', '>', '', 'int', 'main', '(', ')', '', '{', '', 'int', 'n', ',', 'm', ',', 'sum', ',', 'gold', ',', 'temp', ';', '', 'scanf(\"%d%d\\\\n\",&n,&m', ')', ';', '', 'sum=0,gold=0', ';', '', 'for(int', 'i=1;i<=n;i++', ')', '{', '', 'for(int', 'j=0;j<=m;j++', ')', '{', '', 'scanf(\"%d\",&temp', ')', ';', '', 'sum', '=', 'sum+temp', '', '}', '', 'if(sum', '>', 'gold', ')', 'gold', '=', 'sum', ';', '', 'sum=0', '', '}', '', 'printf(\"%d\",gold', ')', ';', '', 'return', '0', ';', '', '}']\n",
      "['#', 'include', '<', 'stdio.h', '>', '', 'int', 'main', '(', ')', '', '{', '', 'int', 'arr[1000', ']', ';', '', 'int', 'k', ',', 'n', ',', 'i', ',', 'j', ',', 'flag', ',', 'l', ';', '', 'scanf(\"%d\\\\n%d\\\\n\",&k,&n', ')', ';', '', 'for(i=0;i', '<', 'n;i++', ')', '', '{', '', 'scanf(\"%d', '\"', ',', '&', 'arr[i', ']', ')', ';', '', '}', '', 'for(j=0;j', '<', 'n;j++', ')', '', '{', '', 'for(l=0;l', '<', 'n;l++', ')', '', '{', '', 'if(a[j]+a[l]==k', ')', '', 'flag', '=', 'flag+1', ';', '', '}', '', '}', '', 'if(flag>0', ')', '', 'printf(\"lucky', '\"', ')', ';', '', 'else', '', 'printf(\"unlucky', '\"', ')', ';', '', 'return', '0', ';', '', '}']\n",
      "['#', 'include', '<', 'stdio.h', '>', '', 'int', 'main', '(', ')', '', '{', '', 'int', 'n', ',', 'arr[100', ']', ',', 'maxtill[100', ']', ',', 'i', ',', 'j', ',', 'len', ',', 'k', ',', 'max', ';', '', 'scanf(\"%d\",&n', ')', ';', '', 'for(i=0;i', '<', 'n;i++', ')', '', 'scanf(\"%d\",&arr[i', ']', ')', ';', '', 'if(n==1', ')', '', 'printf(\"%d\",1', ')', ';', '', '//trivial', 'case', 'when', 'length', 'of', 'input', 'array', 'be', '1', '', 'else', '', '{', '', 'for(i=0;i', '<', 'len;++i', ')', '', 'maxtill[i]=1', ';', '', '//initialise', 'maxtill', 'array', 'to', 'hold', 'all', 'one', 'since', 'length', 'of', 'max', 'subsequence', 'until', 'i', 'be', 'atleast', '1', '', 'for(i=0;i', '<', 'len;++i', ')', '', '{', '', 'max', '=', 'arr[i', ']', ';', '', 'for(k', '=', 'i;k>=0;k--', ')', '', '//traverse', 'the', 'array', 'in', 'descend', 'order', 'to', 'find', 'strictly', 'descend', 'array', '', '{', '', 'if(arr[k]<max', ')', '', '{', '', 'maxtill[i]++', ';', '', 'max', '=', 'arr[k', ']', ';', '', 'printf(\"%d', '\"', ',', 'max', ')', ';', '', '}', '', '}', '', '}', '', 'max', '=', 'maxtill[0', ']', ';', '', 'printf(\"%d', '\"', ',', 'max', ')', ';', '', 'for(i=1;i', '<', 'len;i++', ')', '', '{', '', 'if(maxtill[i]>max', ')', '', 'max', '=', 'maxtill[i', ']', ';', '', '}', '', 'printf(\"%d', '\"', ',', 'max', ')', ';', '', '}', '', '/*else', '', '{', '', 'maxtill[0]=arr[0', ']', ';', '', '//1st', 'element', 'of', 'input', 'array', 'start', 'the', 'max', 'subsequence', '', 'i=1', ';', '', 'j=1', ';', '', 'while(i', '<', 'n', ')', '', '{', '', 'if(arr[i]>maxtill[j-1', ']', ')', '', '{', '', '//if', 'current', 'element', 'of', 'input', 'array', 'be', 'great', 'than', 'the', '', 'maxtill[j]=arr[i', ']', ';', '//previous', 'element', 'of', 'max', 'subsequence', 'it', 'be', 'store', 'in', '', 'i++', ';', '', '//the', 'max', 'subsequence', 'and', 'index', 'of', 'both', 'array', 'be', '', 'j++', ';', '', '//incremente', '', '}', '', 'else', '', 'i++', ';', '', '//otherwise', 'index', 'of', 'the', 'input', 'array', 'be', 'only', 'incremente', '', '}', '', 'len', '=', 'j', ';', '', '//len', 'be', 'the', 'length', 'of', 'the', 'long', 'ascending', 'subsequence', '', 'printf(\"%d\",len', ')', ';', '', '}', '*', '/', '', 'return', '0', ';', '', '}']\n",
      "['#', 'include', '<', 'stdio.h', '>', '', 'int', 'main', '(', ')', '{', '', 'int', 'k', ',', 'n', ',', 'i', ',', 'j', ',', 'num[499', ']', ';', '', 'scanf', '(', '\"', '%', 'd\\\\n\",&k', ')', ';', '', '//', 'k', '=', 'lucky', 'number', '', 'scanf', '(', '\"', '%', 'd\\\\n\",&n', ')', ';', '', '//n', '=', 'length', 'of', 'list', '', 'for', '(', 'i=0;i<=n;i++', ')', '', '//', '', '{', '', 'scanf', '(', '\"', '%', 'd\",&num[i', ']', ')', ';', '', '}', '', 'for', '(', 'j=1;j<=n;j++', ')', '', '{', '', 'if', '(', 'num[i]==k', '-', 'j', ')', '', 'printf', '(', '\"', 'lucky', '\"', ')', ';', '', 'else', '', 'printf', '(', '\"', 'unlucky', '\"', ')', '', '}', '', 'return', '0', ';', '', '}']\n",
      "['#', 'include', '<', 'stdio.h', '>', '', 'int', 'main', '(', ')', '{', '', 'int', 'k', ',', 'n', ',', 'list[n', ']', ';', '', 'int', 'i', ',', 'j', ',', 'a', ',', 'b', ',', 'flag', ',', 'c[500', ']', ';', '', 'flag', '=', '0', ';', '', 'scanf(\"%d', '\"', ',', '&', 'k', ')', ';', '', 'scanf(\"%d', '\"', ',', '&', 'n', ')', ';', '', 'for(i', '=', '0', ';', 'i', '<', 'n', ';', 'i++', ')', '{', '', 'scanf(\"%d', '\"', ',', '&', 'list[i', ']', ')', ';', '', '}', '', 'for(i', '=', '0', ';', 'i', '<', 'n', ';', 'i++', ')', 'c[i', ']', '=', '0', ';', '', 'for(i', '=', '0', ';', 'i', '<', 'n', ';', 'i++', ')', 'c[list[i]]++', ';', '', 'for(i', '=', '0', ';', 'i', '<', 'n', ';', 'i++', ')', '{', '', 'if(c[i]!=0', '&', '&', 'c[k', '-', 'i]!=0', ')', '{', '', 'flag++', ';', '', 'break', ';', '', '}', '', '}', '', 'if(flag', '>', '0', ')', '{', '', 'printf(\"lucky', '\"', ')', ';', '', '}', 'else', 'printf(\"unlucky', '\"', ')', ';', '', 'return', '0', ';', '', '}']\n",
      "['#', 'include', '<', 'stdio.h', '>', '', 'int', 'main', '(', ')', '', '{', '', 'int', 'n', ',', 'i=0,j=0,count=0', ';', '', 'scanf(\"%d\",&n);//give', 'input', 'of', 'number', 'of', 'aaray', 'nu', '.', '', 'int', 'array[n', ']', ';', '', 'char', 'arg[n', ']', ';', '', 'while(i', '<', 'n', ')', '', '{', '//initalise', 'array', 'number', 'give', 'input', '', 'scanf(\"%d\",&array[i', ']', ')', ';', '', 'scanf(\"%c\",arg', ')', ';', '', 'i++', ';', '', '}', '', 'i=0', ';', '', 'while(i', '<', 'n', ')', '', '{', '', 'count=0', ';', '', 'j=0', ';', '', 'while(j', '<', 'n', ')', '', '{', '', 'if(array[i]==array[j', ']', ')', '', 'count', '=', 'count+1', ';', '', 'j++', ';', '', '}', '', 'if(array[i]!=count', ')', '', '{', '', 'printf(\"no', '\"', ')', ';', '', 'break', ';', '', '}', '', 'i++', ';', '', '}', '', 'return', '0', ';', '', '}']\n",
      "['#', 'include', '<', 'stdio.h', '>', '', 'int', 'main(){int', 'i', ',', 'c', ',', 'b', ',', 'd=0,a[500', ']', ';', '', 'scanf(\"%i%i\",&c,&b', ')', ';', '', 'for(i=0;i', '<', 'b;++i', ')', '', 'scanf(\"%i\",&a[i', ']', ')', ';', '', 'for(i=0;i', '<', 'b-1;++i', ')', '', '{', 'for(j', '=', 'i+1;j', '<', 'b;++j', ')', '', 'if(a[i]+a[j]==c){d=1;break', ';', '}', '}', '', 'if(d==1)printf(\"lucky', '\"', ')', ';', '', 'else', 'printf(\"unlucky', '\"', ')', ';', '', 'return', '0', ';', '', '}']\n",
      "['#', 'include', '<', 'stdio.h', '>', '', 'int', 'n', ';', '', 'int', 'maxsubseq(int', 'a[],int', 'b[],int', 'i', ')', '', '{', '', 'int', 'h=0', ';', '', 'for(int', 'j', '=', 'i+1;j', '<', 'n;j++', ')', '', 'if(a[j]>a[i', ']', '&', '&', 'b[j]>h', ')', '', 'h', '=', 'b[j', ']', ';', '', 'return', 'h+1', ';', '', '}', '', 'int', 'main', '(', ')', '', '{', '', 'scanf(\"%d\",&n', ')', ';', '', 'int', 'a[n],b[n', ']', ';', '', 'for(int', 'i=0;i', '<', 'n;i++', ')', '', 'scanf(\"%d\",a+i', ')', ';', '', 'int', 's=1', ';', '', 'b[n-1]=1', ';', '', 'for(int', 'i', '=', 'n-2;i>=0;i--', ')', '', '{', '', 'b[i]=maxsubseq(a', ',', 'b', ',', 'i', ')', ';', '', 'if(b[i]>s', ')', '', 's', '=', 'b[i', ']', ';', '', '}', '', 'printf(\"%d\",s', ')', ';', '', 'return', '0', ';', '', '}']\n",
      "['#', 'include', '<', 'stdio.h', '>', '', 'int', 'main', '(', ')', '{', '', 'int', 'p', ',', 'n', ',', 'l=0', ';', '', 'scanf(\"%d\\\\n%d\\\\n\",&p,&n', ')', ';', '', 'int', 'a[1000', ']', ';', '', 'int', 'i', ',', 'j', ';', '', 'for(i=0;i', '<', 'n;i', '=', 'i+1', ')', '', '{', '', 'scanf(\"%d\",&a[i', ']', ')', ';', '', '}', '', 'if(p>0', ')', '', '{', 'if(p', '<', 'a[n', ']', ')', '', 'printf(\"lucky', '\"', ')', ';', '}', '', 'for(i=0;i', '<', 'n;i++', ')', '', '{', 'for(j=1;j', '<', 'n;j++', ')', '', 'if(a[i]+a[j]=p', ')', '', 'l', '=', 'l+1', ';', '', '}', '', 'if', '', 'l=0', ';', '', 'printf(\"unlucky', '\"', ')', ';', '', 'else', '', 'printf(\"lucky', '\"', ')', ';', '', 'return', '0', ';', '', '}']\n",
      "['#', 'include', '<', 'stdio.h', '>', '', 'int', 'main', '(', ')', '{', '', 'int', 'k', ',', 'n', ',', 'i', ';', '', 'scanf(\"%d\",&k', ')', ';', '', 'scanf(\"%d\",&n', ')', ';', '', 'int', 'occ[500', ']', ';', '', 'int', 'count=0', ';', '', 'i=0', ';', '', 'for(i;i<=499;i++', ')', '', '{', '', 'occ[i]=0', ';', '', '}', '', 'i=1', ';', '', 'for(i;i<=7;i++', ')', '', '{', '', 'scanf(\"%d\",&util', ')', ';', '', 'if(util>=0', '&', '&', 'util<=499', ')', '', '{', '', 'occ[util]++', ';', '', '}', '', '}', '', 'i=0', ';', '', 'for(i;i<=499;i++', ')', '', '{', '', 'if(k', '-', 'i>=0', ')', '', '{', '', 'if(occ[i]+occ[k', '-', 'i]>=2', ')', '', '{', '', 'count=1', ';', '', '}', '', '}', '', '}', '', 'if(count==1', ')', '', '{', '', 'printf(\"lucky', '\"', ')', ';', '', '}', '', 'else', '', '{', '', 'printf(\"unlucky', '\"', ')', ';', '', '}', '', '/*int', 'k', ',', 'n', ',', 'i', ',', 'j', ';', '', 'int', 'count=0', ';', '', 'scanf(\"%d\",&k', ')', ';', '', 'scanf(\"%d\",&n', ')', ';', '', 'int', 'numbers[n', ']', ';', '', 'for(i=0;i<=n-1;i++', ')', '', '{', '', 'scanf(\"%d\",&numbers[i', ']', ')', ';', '', '}', '', 'for(i=0;i<=n-1;i++', ')', '', '{', '', 'j', '=', 'i', ';', '', 'for(j;j<=n-1;j++', ')', '', '{', '', 'if(numbers[i]+numbers[j]==k', ')', '', '{', '', 'count=1', ';', '', '}', '', '}', '', '}', '', 'if(count==1', ')', '', '{', '', 'printf(\"lucky', '\"', ')', ';', '', '}', '', 'else', '', '{', '', 'printf(\"unlucky', '\"', ')', ';', '', '}', '', '//', 'insert', 'your', 'code', 'here', '', 'return', '0;*/', '', '}']\n",
      "['#', 'include', '<', 'stdio.h', '>', '', 'int', 'main', '(', ')', '{', '', 'int', 'k', ',', 'n', ',', 'i', ',', 'z', ';', '', 'scanf(\"%d\\\\n\",&k', ')', ';', '', 'scanf(\"%d\\\\n\",&n', ')', ';', '', 'int', 'arr[k', ']', ';', '', 'for(i=0;i', '<', 'n;i++', ')', '{', '', 'arr[i]=i+1', ';', '', 'scanf(\"%d', '\"', ',', '&', 'arr[i', ']', ')', ';', '', '}', '', 'if((n+n-1)<=k', ')', '{', 'printf(\"unlucky\");}\\\\\\\\if', 'in', 'the', 'program', 'we', 'have', 'sum', 'of', 'the', 'last', 'two', 'number', 'less', 'than', 'the', 'lucky', 'no', 'it', 'be', 'possible', 'oterwise', 'it', 'be', 'impossible', '', 'else{printf(\"lucky', '\"', ')', ';', '}', '', '}']\n"
     ]
    },
    {
     "name": "stdout",
     "output_type": "stream",
     "text": [
      "['#', 'include', '<', 'stdio.h', '>', '', 'int', 'main', '(', ')', '', '{', '', 'float', 'a', ',', 'b', ',', 'c', ';', '', 'float', 'p', ',', 'q', ',', 'r', ';', '', 'float', 'a', ',', 'b', ',', 'c', ';', '', 'scanf(\"%f%f%f\\\\n\",&a,&b,&c', ')', ';', '', 'scanf(\"%f%f%f\",&p,&q,&r', ')', ';', '', 'a=0.8*a', '+', '0.6*p', ';', '', 'b=0.8*b', '+', '0.6*q', ';', '', 'c=0.8*c', '+', '0.6*r', ';', '', 'if(((a', '<', 'b', ')', '&', '&', '(', 'b', '<', 'c', ')', ')', '||', '', '(', '(', 'a', '>', 'b', ')', '&', '&', '(', 'b', '>', 'c', ')', ')', ')', '', '{', '', 'printf(\"median', 'weight', 'score', '=', '%', '.2f\",b', ')', ';', '', '}', '', 'if(((b', '>', 'a)&&(a', '>', 'c', ')', ')', '||', '(', '(', 'c', '>', 'a', ')', '&', '&', '(', 'a', '>', 'b', ')', ')', ')', '', '{', '', 'printf(\"median', 'weight', 'score', '=', '%', '.2f\",a', ')', ';', '', '}', '', 'if(((a', '>', 'c)&&(c', '>', 'b', ')', ')', '||', '(', '(', 'b', '>', 'c)&&(c', '>', 'a', ')', ')', ')', '', '{', '', 'printf(\"median', 'weight', 'score', '=', '%', '.2f\",c', ')', ';', '', '}', '', 'return', '0', ';', '', '}']\n",
      "['#', 'include', '<', 'stdio.h', '>', '', 'int', 'main', '(', ')', '{', '', 'int', 'l[1002],k', ',', 'n', ',', 'i', ',', 'f=0', ';', '', 'int', 'a[500', ']', ';', '', '//array', 'l[1000', ']', 'be', 'for', 'store', 'the', 'number', '', '//array', 'a[500', ']', 'be', 'for', 'record', 'the', 'occurence', 'of', 'each', 'number', '.', '', 'for(i=0;i<500;i++', ')', '//initialising', 'each', 'value', 'of', 'a[500', ']', 'to', '0', '.', '', '{', '', 'a[i]=0', ';', '', '}', '', 'scanf(\"%d\",&k', ')', ';', '', 'scanf(\"%d\",&n', ')', ';', '', 'for(i=0;i', '<', 'n;i++', ')', '', '{', '', 'scanf(\"%d\",&l[i', ']', ')', ';', '', '}', '', 'for(i=0;i', '<', 'n;i++', ')', '//recording', 'the', 'occurence', 'of', 'each', 'number', '', '{', '', 'a[l[i]]++', ';', '', '}', '', 'for(i=0;i', '<', 'k;i++', ')', '', '{', '', 'if(i<500&&(k', '-', 'i)<500', ')', '', '{', '', 'if(a[i]!=0&&a[k', '-', 'i]!=0', ')', '//both', 'a[i', ']', 'and', 'a[k', '-', 'i', ']', 'be', 'non', 'zero', '', '{', '', '//implies', 'that', 'i', 'and', 'k', '-', 'i', 'occur', 'for', '', 'f=1', ';', '', '.', '', 'break', ';', '', '//at', 'least', 'one', 'i.', '', '}', '', '}', '', '}', '', 'if(f', ')', '', 'printf(\"lucky', '\"', ')', ';', '', 'else', '', 'printf(\"unlucky', '\"', ')', ';', '', 'return', '0', ';', '', '}']\n",
      "['#', 'include', '<', 'stdio.h', '>', '', 'int', 'main', '(', ')', '{', '', 'int', 'k', ',', 'i', ',', 't', ';', '', 'int', 'num[1500', ']', ';', '', 'int', 'n', ',', 'd=0', ';', '', 'scanf(\"%d\",&k', ')', ';', '', 'scanf(\"%d\",&n', ')', ';', '', 'for(i=0;i', '<', 'n;i++', ')', '', '{', '', 'scanf(\"%d\",&num[i', ']', ')', ';', '', '}', '', 'for(i=0;i', '<', 'n-1;i++', ')', '', '{', '', 't', '=', 'k', '-', 'num[i', ']', ';', '', 'for(j', '=', 'i+1;j', '<', 'n;j++', ')', '', '{', '', 'if(t==num[j', ']', ')', '', '{', '', 'printf(\"lucky', '\"', ')', ';', '', 'd=1', ';', '', 'break', ';', '', '}', '', '}', '', 'if(d==1', ')', '', '{', '', 'break', ';', '', '}', '', '}', '', 'if(d==0', ')', '', '{', '', 'printf(\"unlucky', '\"', ')', ';', '', '}', '', 'return', '0', ';', '', '}']\n",
      "['#', 'include', '<', 'stdio.h', '>', '', 'int', 'main', '(', ')', '{', '', '//', 'insert', 'your', 'code', 'here', '', 'int', 'k', ',', 'n', ',', 'a[500],b[500],m=0', ';', '', 'scanf(\"%d\\\\n\",&k', ')', ';', '', 'scanf(\"%d\\\\n\",&n', ')', ';', '', 'for(int', 'i=0;i', '<', 'n;i++', ')', '', '{', 'b[i]=0', ';', '}', '', 'for(int', 'i=0;i', '<', 'n;i++', ')', '', '//gette', 'input', 'of', 'number', '', '{', 'scanf(\"%d', '\"', ',', '&', 'a[i', ']', ')', ';', '}', '', '//for(int', 'i=0;i<500;i++', ')', '', '{', 'for(int', 'j=0;j', '<', 'n;j++', ')', '', '{', 'b[a[j]]++', ';', '}', '', 'for(int', 'i=0;i', '<', 'n;i++', ')', '', '{', 'if(b[i]!=0&&b[k', '-', 'i]!=0', ')', '', 'm++', ';', '', '}', '', 'if(m!=0', ')', '', 'printf(\"lucky', '\"', ')', ';', '', 'else', '', 'printf(\"unlucky', '\"', ')', ';', '', 'return', '0', ';', '', '}']\n",
      "['#', 'include', '<', 'stdio.h', '>', '', '#', 'include', '<', 'stdlib.h', '>', '', 'char', 'a[510],b[510', ']', ';', '', 'int', 'main', '(', ')', '{', '', 'int', 'sa', ',', 'sb', ';', '', 'scanf(\"%d%d\\\\n\",&sa,&sb', ')', ';', '', 'int', 'i', ';', '', 'for(i=0;i', '<', 'sa;i++', ')', '', 'scanf(\"%c\",&a[i', ']', ')', ';', '', 'getchar', '(', ')', ';', '', 'for(i=0;i', '<', 'sb;i++', ')', '', 'scanf(\"%c\",&b[i', ']', ')', ';', '', 'printf(\"%s\",b', ')', ';', '', 'return', '0', ';', '', '}']\n",
      "['#', 'include', '<', 'stdio.h', '>', '', 'int', 'main', '(', ')', '{', '', 'int', 's[500', ']', ';', '', 'int', 'i', ',', 'k', ',', 'n', ',', 'sum=0', ';', '', 'scanf(\"%d,&k', ')', ';', '', 'for(i=1;i<=n;i++', ')', '', '{', '', 'printf(\"%d\",s[i', ']', ')', ';', '', '}', '', 'int', 'a', ',', 'b', ';', '', 'scanf(\"%d\",&a', ')', ';', '', 'scanf(\"%d\",&b', ')', ';', '', 'a', '=', 'a+b', ';', '', 'sum', '=', 'sum+1', ';', '', 'if(sum==k', ')', '', 'printf(\"lucky', '\"', ')', ';', '', 'else', '', 'printf(\"unlucky', '\"', ')', ';', '', 'return', '0', ';', '', '}']\n",
      "['#', 'include', '<', 'stdio.h', '>', '', 'int', 'main', '(', ')', '{', '', 'int', 'k', ',', 'n', ';', '', 'scanf(\"%d', '%', 'd\",&k,&n', ')', ';', '', 'int', 'list[n', ']', ';', '', 'for(int', 'i=0;i', '<', 'n;i++', ')', '', 'scanf(\"%d\",&list[i', ']', ')', ';', '', 'int', 'bool1=0', '', 'int', 'bool2=0', '', 'for(int', 'j=0;j<=k;j++', ')', '', '{', '', 'for(int', 'm=0;m', '<', 'n;m++', ')', '', '{', '', 'if(list[m]==j', ')', '', 'bool1=1', ';', '', 'if(list[m]==k', '-', 'j', ')', '', 'bool2=1', ';', '', '}', '', 'if(bool1==1', '&', '&', 'bool2==1', ')', '', 'break', ';', '', '}', '', 'if(bool1==1', '&', '&', 'bool2==1', ')', '', 'printf(\"lucky', '\"', ')', ';', '', 'else', '', 'printf(\"unlucky', '\"', ')', ';', '', 'return', '0', ';', '', '}']\n",
      "['#', 'include', '<', 'stdio.h', '>', '', 'int', 'main', '(', ')', '', '{', '', 'int', 'n', ',', 'm', ',', 'i', ',', 'j', ',', 'a[],s', '[', ']', ';', '', 'scanf(\"%d%d\",&n,&m', ')', ';', '', 'for(i=1;i<=n;i++', ')', '', '{', '', 'sum=0', ';', '', 'for(j=1;j<=m;j++', ')', '', '{', '', 'scanf(\"%d\",&a[j', ']', ')', ';', '', 'sum', '=', 'sum+a[j', ']', ';', '', '}', '', 'sum', '=', 's[i', ']', ';', '', 'printf(\"%d\\\\n\",sum', ')', ';', '', '}', '', 'return', '0', ';', '', '}']\n",
      "['#', 'define', 'maxval', '1000', '', '#', 'include', '<', 'stdio.h', '>', '', 'int', 'main', '(', ')', '', '{', '', 'int', 'i', ',', 'k', ',', 'n', ',', 'count', ';', '', 'int', 'value[maxval', ']', ';', '', 'scanf(\"%d', '\"', ',', '&', 'k', ')', ';', '', 'scanf(\"%d', '\"', ',', '&', 'n', ')', ';', '', 'for(i=0', ';', 'i<=n', ';', 'i++', ')', '', '{', '', 'scanf(\"%d', '\"', ',', '&', 'value[i', ']', ')', ';', '', '}', '', 'for(i=0', ';', 'i<=n', ';', 'i++', ')', '', '{', '', 'count', '=', '0', ';', '', 'for(j=0', ';', 'j<=n', ';', 'j++', ')', '', 'if(value[i', ']', '+', 'value[i+j', ']', '=', '=', 'k', ')', '', '{', '', 'count', '=', 'count', '+', '1', ';', '', 'if(count', '>', '0', ')', '', '{', '', 'printf(\"lucky', '\"', ')', ';', '', '}', '', 'else', '', '{', '', 'printf(\"unlucky', '\"', ')', ';', '', '}', '', '}', '', '}', '', 'return', '0', ';', '', '}']\n",
      "['#', 'include', '<', 'stdio.h', '>', '', 'int', 'main', '(', ')', '{', '', 'int', 'k', ',', 'n', ';', '', 'scanf(\"%d\",&k', ')', ';', '', 'scanf(\"%d\",&n', ')', ';', '', 'int', 'i', ',', 'j', ';', '', 'int', 'num[500', ']', ';', '', 'for(i=0;i<=n;i++', ')', '{', '', 'scanf(\"%d\",&num[i', ']', ')', ';', '', 'for(j=0;((j!=i)&&(j<=n);j++', ')', ';', '', 'if(num[j]==k', '-', 'num[i', ']', ')', '{', '', 'printf(\"lucky', '\"', ')', '', '}', 'else{printf(\"unlucky', '\"', ')', '', '}', '', 'if', '(', ')', '', '}', '', '//', 'insert', 'your', 'code', 'here', '', 'return', '0', ';', '', '}']\n",
      "['#', 'include', '<', 'stdio.h', '>', '', 'int', 'main', '(', ')', '', '{', '', 'float', 'hc', ',', 'w', ',', 'hm', ';', '', 'float', 'bmi', ';', '', 'scanf(\"%f\",&hc', ')', ';', '', 'scanf(\"%f\",&w', ')', ';', '', 'hm', '=', 'hc/100.0', ';', '', 'bmi', '=', 'w/(hm*hm', ')', ';', '', 'printf(\"%.2f', 'm', ',', '%', '.2fkg', ':', 'bmi=%.2f\\\\n\",hm', ',', 'w', ',', 'bmi', ')', ';', '', 'if(bmi<18.5', ')', '', 'printf(\"you', 'have', 'low', 'weight', '\"', ')', ';', '', 'else', 'if(bmi>=18.5&&bmi<25', ')', '', 'printf(\"you', 'have', 'normal', 'weight', '\"', ')', ';', '', 'else', 'if(bmi>=25&&bmi<30', ')', '', 'printf(\"obesity(1st', '-', 'degree', ')', '\"', ')', ';', '', 'else', 'if(bmi>=30&&bmi<35', ')', '', 'printf(\"obesity(2nd', '-', 'degree', ')', '\"', ')', ';', '', 'else', 'if(bmi>=35&&bmi<40', ')', '', 'printf(\"obesity(3rd', '-', 'degree', ')', '\"', ')', ';', '', 'else', 'if(bmi>=40', ')', '', 'printf(\"obesity(4st', '-', 'degree', ')', '\"', ')', ';', '', 'return', '0', ';', '', '}']\n",
      "['#', 'include', '<', 'stdio.h', '>', '', 'int', 'main', '(', ')', '', '{', '', 'int', 'n', ',', 'm', ',', 'a[20][20],sum[i],max', ';', '', 'scanf(\"%d%d\",&n,&m', ')', ';', '', 'for(int', 'i=1;i<=n;i++', ')', '', '{', '', 'sum[i]=0', ';', '', 'for(int', 'j=1;j<=m;j++', ')', '', '{', '', 'scanf(\"%d\",&a[i][j', ']', ')', ';', '', 'sum[i]=sum[i]+a[i][j', ']', ';', '', '}', '', '}', '', 'for(int', 'i=2;i<=n;i++', ')', '', '{', 'max', '=', 'sum[1', ']', ';', '', 'if(sum[i]>max', ')', '', 'max', '=', 'sum[i', ']', ';', '', '}', '', 'for(int', 'i=1;i<=n;i++', ')', '', 'printf(\"%d\",max', ')', ';', '', 'return', '0', ';', '', '}']\n"
     ]
    },
    {
     "name": "stdout",
     "output_type": "stream",
     "text": [
      "['#', 'include', '<', 'stdio.h', '>', '', 'int', 'main', '(', ')', '', '{', '', 'int', 'l', ';', '', 'int', 'k=(l%2)!=0', '', 'int', 'n', ';', '', 'int', 'd[n', ']', ';', '', 'scanf(\"%d%d%d\",&l,&n,&d[n', ']', ')', ';', '', 'int', 'i', ',', 'j', ';', '', 'for(i=0;i<=n;i++', ')', '', '{', '', 'for(j', '=', 'i+1;j<=10;j++', ')', '', '{', '', 'if(d[j]==k', '-', 'd[i', ']', ')', '', '{', 'printf(\"lucky', '\"', ')', ';', '}', '', '}', '', '}', '', 'printf(\"unlucky', '\"', ')', ';', '', 'return', '0', ';', '', '}']\n",
      "['#', 'include', '<', 'stdio.h', '>', '', 'int', 'main', '(', ')', '{', '', 'int', 'k', ',', 'n', ',', 'i', ';', '', 'scanf(\"%d\",&k', ')', ';', '', 'scanf(\"%d\",&n', ')', ';', '', 'int', 'arr[n', ']', ';', '', 'for(int', 'i=0;i', '<', 'n;i++', ')', '{', '', 'scanf(\"%d\",&arr[i', ']', ')', ';', '', '}', '', 'int', 'noc[500', ']', ';', '', 'for(int', 'i=0;i<500;i++', ')', '{', '', 'noc[i]=0', ';', '', '}', '', 'for(int', 'i=0;i', '<', 'n;i++', ')', '{', '', 'noc[arr[i]]++', ';', '', '}', '', 'for(i=0;i<=(k/2);i++', ')', '{', '', 'if(noc[i]!=0', '&', '&', 'noc[k', '-', 'i]!=0', ')', '{', '', 'printf(\"lucky', '\"', ')', ';', '', 'break', ';', '', '}', '', '}', '', 'if(i==(k/2)+1', ')', '{', '', 'if(noc[i]>=2', ')', '', 'printf(\"lucky', '\"', ')', ';', '', 'else', '', 'printf(\"unlucky', '\"', ')', ';', '', '}', '', '}', '', 'return', '0', ';', '', '}']\n",
      "['#', 'include', '<', 'stdio.h', '>', '', 'int', 'main', '(', ')', '{', '', 'int', 'n', ',', 'k', ',', 'i', ',', 'j', ',', 'a', ',', 'b', ';', '', 'scanf(\"%d\",&n', ')', ';', '', 'int', 'a[n', ']', ';', '', 'scanf(\"%d\",&k', ')', ';', '', 'for(i=0;i', '<', 'n;i++', ')', '', '{', '', 'a[i]=i+1', ';', '', '}', '', 'for(i=0;i', '<', 'n;i++', ')', '', '{', '', 'k', '-', 'a[i]=b', ';', '', 'for(j=0;j', '<', 'n;j++', ')', '', '{', '', 'if(b', '=', 'a[j', ']', ')', '', 'break', ';', '', '}', '', '}', '', 'if(j!=n-1', ')', '', 'printf(\"lucky', '\"', ')', '', 'else', '', 'printf(\"unlucky', '\"', ')', ';', '', 'return', '0', ';', '', '}']\n",
      "['#', 'include', '<', 'stdio.h', '>', '', 'int', 's=0,a=0', ';', '', 'int', 'sum(int', 'n', ')', '', '{', '', 'if(n<1)return', 'a', ';', '', 'scanf(\"%d\",&a', ')', ';', '', 'sum(n-1', ')', ';', '', 's', '=', 's+a', ';', '', 'return', 's', ';', '', '}', '', 'int', 'main', '(', ')', '', '{', '', 'int', 'n', ';', '', 'scanf(\"%d\",&n', ')', ';', '', 'sum(n', ')', ';', '', 'printf(\"%d\",s', ')', ';', '', 'return', '0', ';', '', '}']\n",
      "['#', 'include', '<', 'stdio.h', '>', '', 'int', 'main', '(', ')', '{', '', 'int', 'k', ',', 'j', ',', 'i', ';', '', 'int', 'n', ';', '', 'int', 'num[1000', ']', ';', '', 'scanf(\"%d\",&n', ')', ';', '', 'for(i=0;i', '<', 'n;i++', ')', '', '{', '', 'scanf(\"%d\",&num[i', ']', ')', ';', '', '}', '', 'for(i=0;i', '<', 'n;i++', ')', '', '{', '', 'for(j', '=', 'i+1;j', '<', 'n;j+=', ')', '', '{', '', 'if(k==num[i]+num[j', ']', ')', ';', '', '{', '', 'printf(\"lucky', '\"', ')', ';', '', 'break', ';', '', '}', '', '}', '', '}', '', '//', 'insert', 'your', 'code', 'here', '', 'return', '0', ';', '', '}']\n",
      "['#', 'include', '<', 'stdio.h', '>', '', 'int', 'main', '(', ')', '', '{', '', 'int', 'a', ',', 'b', ',', 'c', ';', '', 'scanf(\"%d', '%', 'd', '%', 'd\",&a,&b,&c', ')', ';', '', 'if((c*c)==((a*a)+(b*b', ')', ')', ')', '', 'printf(\"right', '\"', ')', ';', '', 'else', 'if((c*c)<((a*a)+(b*b', ')', ')', ')', '', 'printf(\"acute', '\"', ')', ';', '', 'else', 'if((c*c)>((a*a)+(b*b', ')', ')', ')', '', 'printf(\"obtuse', '\"', ')', ';', '', 'else', '', 'printf(\"invalid', '\"', ')', ';', '', 'return', '0', ';', '', '}']\n",
      "['#', 'include', '<', 'stdio.h', '>', '', 'int', 'main', '(', ')', '{', '', 'int', 'a[100],n', ',', 'i', ',', 'count=0', ';', '', 'scanf(\"%d\\\\n\",&n', ')', ';', '', 'for(i=0;i', '<', 'n;i++', ')', '{', '', 'scanf(\"%d\",&a[i', ']', ')', ';', '', '}', '', 'for(i=1;i', '<', 'n-1;i++', ')', '{', '', 'if((a[i]>a[i-1])&&(a[i]>a[i+1', ']', ')', ')', '{', '', 'count+=1', ';', '', '}', '', '}', '', 'printf(\"%d\",count', ')', ';', '', 'return', '0', ';', '', '}']\n",
      "['#', 'include', '<', 'stdio.h', '>', '', 'int', 'main', '(', ')', '', '{', '', 'int', 'l', ',', 'n', ',', 't', ',', 'c', '', 'scanf(\"%d\",&l', ')', ';', '', 'scanf(\"%d\",&n', ')', ';', '', 'int', 'a[n', ']', ';', '', 'for(int', 'i=0;i', '<', 'n;i++', ')', '', 'scanf(\"%d\",&a[i', ']', ')', ';', '', 'for(int', 'i=0;i', '<', 'n;i++', ')', '', '{', 't', '=', 'l', '-', 'a[i', ']', ';', '', 'for(int', 'j=0;j', '<', 'n;j++', ')', '', '{', '', 'if(a[j]==t', ')', '', '{', 'c=1', ';', '', 'break', ';', '', '}', '', '}', '', 'if(c', ')', '', '{', 'printf(\"lucky', '\"', ')', ';', '', 'break', ';', '', '}', '', '}', '', 'if(c==0', ')', '', 'printf(\"unlucky', '\"', ')', ';', '', 'return', '0', ';', '', '}']\n",
      "['#', 'include', '<', 'stdio.h', '>', '', '#', 'include', '<', 'stdlib.h', '>', '', 'int', 'n', ';', '', 'int', 'at(int', '*', 't', ',', 'int', 'i', ')', '{', '', 'int', 'k', ',', 'sum=0', ';', '', 'for(k=0;k', '<', 'i;k++', ')', '{', '', 'sum', '=', 'sum', '+', 't[k', ']', ';', '', '}', '', 'return', 'sum', ';', '', '}', '', 'int', 'bt(int', '*', 't', ',', 'int', 'j', ')', '{', '', 'int', 'k', ',', 'sum=0', ';', '', 'for(k', '=', 'n-1;k<=n', '-', 'j;k--', ')', '{', '', 'sum', '=', 'sum', '+', 't[k', ']', ';', '', '}', '', 'return', 'sum', ';', '', '}', '', 'int', 'main', '(', ')', '{', '', 'int', 'i=1,j=1,a=0,b=0,*t', ';', '', 'scanf(\"%d\",&n', ')', ';', '', 't=(int*)malloc(n*sizeof(int', ')', ')', ';', '', 'while(i', '<', 'n&&j', '<', 'n', ')', '{', '', 'if(at(t', ',', 'i)<bt(t', ',', 'j', ')', ')', '{', '', 'if(a+b', '<', 'n', ')', '{', '', 'a++', ';', '', 'i++', ';', '', '}', '', 'else', '{', '', 'break', ';', '', '}', '', '}', '', 'else', 'if(at(t', ',', 'i)>bt(t', ',', 'j', ')', ')', '{', '', 'if(a+b', '<', 'n', ')', '{', '', 'b++', ';', '', 'j++', ';', '', '}', '', 'else', '{', '', 'break', ';', '', '}', '', '}', '', 'else', '{', '', 'if(a+b', '<', 'n-1', ')', '{', '', 'a++', ';', '', 'b++', ';', '', 'i++', ';', '', 'j++', ';', '', '}', '', 'else', '{', '', 'break', ';', '', '}', '', '}', '', '}', '', 'printf(\"%d', '%', 'd\",a', ',', 'b', ')', ';', '', 'return', '0', ';', '', '}']\n",
      "['#', 'include', '<', 'stdio.h', '>', '', '#', 'include', '<', 'stdlib.h', '>', '', 'int', 'main', '(', ')', '', '{', 'int', 'n', ',', 'i', ',', 'j', ',', 'count=0', ';', '', 'scanf(\"%d\",&n', ')', ';', '', 'int', 'a[n', ']', ';', '', 'for(i=0;i', '<', 'n;i++', ')', '{', '', 'scanf(\"%d\",&a[i', ']', ')', ';', '', '}', '', 'for(i=0;i', '<', 'n;i++', ')', '{', '', 'for(j', '>', 'i;j', '<', 'n;j++', ')', '{', '', 'if(a[i]>a[j', ']', ')', '{', '', 'count', '=', 'count+1', ';', '', '}', '', 'printf(\"%d\",count', ')', ';', '', '}', '', '}', '', 'return', '0', ';', '', '}']\n",
      "['#', 'include', '<', 'stdio.h', '>', '', 'int', 'getinversions(int', ',', 'int', ')', ';', '', 'int', 'arr[100', ']', ';', '', 'int', 'getinversions(int', 'l', ',', 'int', 'r', ')', '', '{', '', 'int', 's=0', ';', '', 'for(int', 'j', '=', 'l;j<=l+r-1;j++', ')', '', '{', '', 'for(int', 'm', '=', 'j+1;m<=l+r-1;m++', ')', '', '{', '', 'if(arr[j]>arr[m', ']', ')', '', 's++', ';', '', '}', '', '}', '', 'return(s', ')', ';', '', '}', '', 'int', 'main', '(', ')', '', '{', '', 'int', 'n', ',', 'k', ';', '', 'int', 's1=0,s2=0', ';', '', 'scanf(\"%d\",&n', ')', ';', '', 'scanf(\"%d\",&k', ')', ';', '', 'for(int', 'i=0;i', '<', 'n;i++', ')', '', '{', '', 'scanf(\"%d\",&arr[i', ']', ')', ';', '', '}', '', 'for(int', 'i=0;i<=n', '-', 'k;i++', ')', '', '{', '', 's1', '=', 'getinversions(i', ',', 'n', '-', 'i', ')', ';', '', 'if(s1', '>', 's2', ')', '', 's2', '=', 's1', ';', '', '}', '', 'printf(\"%d\",s2', ')', ';', '', 'return', '0', ';', '', '}']\n",
      "['#', 'include', '<', 'stdio.h', '>', '', 'int', 'main', '(', ')', '', '{', '', 'int', 'n', ',', 'm', ';', '', 'int', 'i', ',', 'j', ',', 'k', ';', '', 'scanf(\"%d', '%', 'd\",&n,&m', ')', ';', '', 'int', 'sum[n],row[m', ']', ';', '', 'for', '(', 'i=0;i', '<', 'n;i++', ')', '{', '', 'for', '(', 'j=0;j', '<', 'm;j++', ')', '{', 'scanf(\"%d', '\"', ',', '&', 'row[j', ']', ')', ';', '}', '', 'for', '(', 'k=0;k', '<', 'm;k++', ')', '{', '', 'sum[i]=0', ';', '', 'sum[i]=sum[i]+row[k', ']', ';', '', '}', '', 'printf(\"\\\\n', '\"', ')', ';', '}', '', 'int', 'max', ',', 'l', ';', '', 'for', '(', 'l=1;l', '<', 'n;l++', ')', '{', '', 'sum[0]=max', ';', '', 'if(sum[l]>=max', ')', '{', 'max', '=', 'sum[l', ']', ';', '}', '', '}', '', 'printf(\"%d\",max', ')', ';', '', '}', '', 'return', '0', ';', '', '}']\n",
      "['#', 'include', '<', 'stdio.h', '>', '', 'int', 'main', '(', ')', '{', '', 'int', 'k', ',', 'n', ',', 'num[1000],i', ',', 'sum', ';', '', 'scanf(\"%d\\\\n\",&k', ')', ';', '', 'scanf(\"%d\\\\n\",&n', ')', ';', '', 'for(i=0;i', '<', 'n;i++', ')', '', '{', '', 'scanf(\"%d\",&num[i', ']', ')', ';', '', '}', '', 'for(i=0;i', '<', 'n;i++', ')', '', '{', '', 'for(j', '=', 'i+1;j', '<', 'n;j++', ')', '', '{', '', 'sum', '=', 'num[i]+num[j', ']', ';', '', 'if(sum==k', ')', '', '{', '', 'break', ';', '', '}', '', '}', '', '}', '', 'if(sum==k', ')', '', '{', '', 'printf(\"lucky', '\"', ')', ';', '', '}', '', 'else', '', '{', '', 'printf(\"unlucky', '\"', ')', ';', '', '}', '', 'return', '0', ';', '', '}']\n"
     ]
    },
    {
     "name": "stdout",
     "output_type": "stream",
     "text": [
      "['#', 'include', '<', 'stdio.h', '>', '', 'int', 'maxasc(int', 'n', ',', 'int', 'ar', '[', ']', ')', '', '{', '', 'int', 'maxtill[20],i', ',', 'j', ',', 'max', ';', '', 'printf(\"%d\\\\n\",n', ')', ';', '', 'for(i=0;i', '<', 'n;i++', ')', '', '{', '', 'maxtill[i]=1', ';', '', 'max', '=', 'ar[i', ']', ';', '', 'for(j', '=', 'i+1;j', '<', 'n;j++', ')', '', '{', '', 'if(ar[j]>max', ')', '', '{', '', 'max', '=', 'ar[j', ']', ';', '', 'maxtill[i]++', ';', '', '}', '', '}', '', '}', '', 'max', '=', 'maxtill[0', ']', ';', '', 'for(i=0;i', '<', 'n;i++', ')', '', '{', '', 'printf(\"%d\",maxtill[i', ']', ')', ';', '', '}', '', 'return', 'max', ';', '', '}', '', 'int', 'main', '(', ')', '', '{', '', 'int', 'n', ',', 'i', ',', 'j', ',', 'arr[20],big', ';', '', 'scanf(\"%d\",&n', ')', ';', '', 'for(i=0;i', '<', 'n;i++', ')', '', 'scanf(\"%d\",&arr[i', ']', ')', ';', '', 'printf(\"%d\\\\n\",n', ')', ';', '', 'return', '0', ';', '', '}']\n",
      "['#', 'include', '<', 'stdio.h', '>', '', 'int', 'main', '(', ')', '{', '', 'int', 'k', ',', 'n', ';', '', 'scanf(\"%d\",&n', ')', ';', '', 'int', 'ip[n', ']', ';', '', 'int', 'i', ',', 'sum=0', ';', '', 'for(i=0;i', '<', 'n;i++', ')', '{', '', 'for(j', '=', 'i;j', '<', 'n;j++', ')', '{', '', 'sum', '=', 'ip[i]+ip[j', ']', ';', '', 'if(sum==k){printf(\"lucky\");break', ';', '}', '', 'else{continue', ';', '}', '', 'printf(\"unlucky', '\"', ')', ';', '', '}', '', '}', '', 'return', '0', ';', '', '}']\n",
      "['#', 'include', '<', 'stdio.h', '>', '', 'int', 'main', '(', ')', '', '{', '', 'int', 'n', ',', 'm', ',', 'x', ';', '', 'int', 'i', ',', 'j', ';', '', 'int', 'sum1', '=', '0', ',', 'sum', '=', '0', ';', '', 'scanf(\"%d', '\"', ',', '&', 'n', ')', ';', '', 'scanf(\"%d', '\"', ',', '&', 'm', ')', ';', '', 'for(i=0;i', '<', 'n;i++', ')', '', '{', '', 'for(j=0;j', '<', 'm;j++', ')', '', '{', '', 'scanf(\"%d', '\"', ',', '&', 'x', ')', ';', '', 'sum1+=x', ';', '', '}', '', 'if(sum1', '>', 'sum', ')', '', 'sum', '=', 'sum1', ';', '', '}', '', 'printf(\"%d', '\"', ',', 'sum', ')', ';', '', 'return', '0', ';', '', '}']\n",
      "['#', 'include', '<', 'stdio.h', '>', '', 'int', 'main', '(', ')', '{', '', 'int', 'k=0', ';', '', 'scanf(\"%d\",&k', ')', ';', '', 'int', 'n=0', ';', '', 'scanf(\"%d\",&n', ')', ';', '', 'int', 'list[500', ']', ';', '', 'for(int', 'i=0;i', '<', 'n;i++', ')', '{', '', 'scanf(\"%d\",&list[i', ']', ')', ';', '', '}', '', 'int', 'condition', '=', '0', ';', '', 'int', 'i=0', ';', '', 'for(i=0;i', '<', 'n;i++', ')', '{', '', 'if', '(', 'list[i]<k', ')', '{', '', 'for(int', 'j=0;j', '<', 'n;j++', ')', '{', '', 'if(j!=i', ')', '{', '', 'int', 'sum', '=', 'list[i]+list[j', ']', ';', '', 'if', '(', 'sum==k', ')', '{', '', 'condition', '=', '1', ';', '', 'break', ';', '', '}', '', '}', '', '}', '', '}', '', '}', '', 'if(condition==1', ')', '{', '', 'printf(\"lucky', '\"', ')', ';', '', 'else', '{', '', 'printf(\"unlucky', '\"', ')', ';', '', '}', '', '}', '', 'return', '0', ';', '', '}']\n",
      "['#', 'include', '<', 'stdio.h', '>', '', 'int', 'main', '(', ')', '{', '', 'int', 'k', ',', 'n', ',', 'a[1000', ']', ';', '', 'scanf(\"%d\",&k', ')', ';', '', 'scanf(\"%d\",&n', ')', ';', '', 'for(i=0;i', '<', 'n;i++', ')', '', '{', '', 'scanf(\"%d\",&a[i', ']', ')', ';', '', '}', '', 'for(i=0;i', '<', 'n;i++', ')', '', '{', '', 'for(j=1;j', '<', 'n;j++', ')', '', '{', '', 'if(a[i]+a[j]==k', ')', '', 'printf(\"lucky', '\"', ')', ';', '', 'else', '', 'printf(\"unlucky', '\"', ')', ';', '', 'break', ';', '', '}', '', '}', '', 'return', '0', ';', '', '}']\n",
      "['#', 'include', '<', 'stdio.h', '>', '', 'int', 'main', '(', ')', '{', '', '//', 'insert', 'your', 'code', 'here', '', 'int', 'n', ',', 'k;int', 'i;int', 'flag', ';', '', 'scanf(\"%d%d\",&k,&n', ')', ';', '', 'int', 'num[n', ']', ';', '', 'for(i=0;i', '<', 'n;i++', ')', '{', '', 'scanf(\"%d\",&x', ')', ';', '', 'num[i]=x', ';', '', '}', '', 'for(i=0;i', '<', 'n;i++', ')', '{', '', 'for(int', 'j=(i+1);j', '<', 'n;j++', ')', '{', '', 'if(num[i]+num[j]==k', ')', '{', '', 'flag=1', ';', '', '}', '', 'else{flag=0', ';', '}', '', '}', '', 'for(int', 'j=0;j', '<', 'i;j++', ')', '{', '', 'if(num[i]+num[j]==k', ')', '{', '', 'flag=1', ';', '', '}', '', 'else', '{', '', 'flaf=0', ';', '', '}', '', '}', '', '}', '', 'return', '0', ';', '', '}']\n",
      "['#', 'include', '<', 'stdio.h', '>', '', 'int', 'main', '(', ')', '{', '', 'int', 'n', ',', 'i', ',', 'j', ',', 'x', ';', '//n', '=', 'order', 'of', 'matrix', ',', 'i=', 'row', 'pointer', ',', 'j=', 'column', 'pointer', ',', '', 'x', '=', 'value', 'be', 'read', '', 'int', 'm=0', ';', '', 'scanf(\"%d\",&n', ')', ';', '', 'for', '(', 'j=1', ';', 'j<=n', ';', 'j++', ')', '', '{', '', 'for', '(', 'i=1', ';', 'i<=n', ';', 'i++', ')', '', '{', 'scanf(\"%d\",&x', ')', ';', '', 'if', '', '(', '!', '(', '(', '(', 'i', '!', '=', 'j)&&(x==0', ')', ')', '||', '(', '(', 'i==j)&&(x==1', ')', ')', ')', ')', '', '{', 'printf(\"given', '%', 'd', 'x', '%', 'd', 'matrix', 'be', 'not', 'an', 'identity', 'matrix\",n', ',', 'n', ')', ';', '', 'm', '=', 'm+1', ';', '', '}', '', '}', '', 'if', '(', 'm==1', ')', 'break', ';', '', '}', '', 'if', '(', 'm!=1', ')', 'printf(\"given', '%', 'd', 'x', '%', 'd', 'matrix', 'be', 'an', 'identity', 'matrix', '\"', ',', 'n', ',', 'n', ')', ';', '', 'return', '0', ';', '', '}']\n",
      "['#', 'include', '<', 'stdio.h', '>', '', '#', 'include', '<', 'stdlib.h', '>', '', 'int', 'main', '(', ')', '{', '', 'int', 'i', ',', 'n', ';', '', 'int', 'x[20', ']', ';', '', 'scanf(\"%d\\\\n\",&n', ')', ';', '', 'for(i=0;i', '<', 'n;i++', ')', '', '{', '', 'scanf(\"%d\\\\n\",&x[i', ']', ')', ';', '', 'if(x[i]>0', ')', '', 'printf(\"yes\\\\n', '\"', ')', ';', '', 'else', '', 'printf(\"no\\\\n', '\"', ')', ';', '', '}', '', 'return', '0', ';', '', '}']\n",
      "['#', 'include', '<', 'stdio.h', '>', '', '#', 'include', '<', 'stdlib.h', '>', '', 'int', 'ctln(int', 'n', ')', '', '{', '', 'int', 'ans=0,i', ';', '', 'if(n==0', ')', '', 'return', '1', ';', '', 'for(i=0;i', '<', 'n;i++', ')', '', '{', '', 'an', '=', 'ans+ctln(i)*ctln(n', '-', 'i-1', ')', ';', '', '}', '', 'return', 'an', ';', '', '}', '', 'int', 'main', '(', ')', '{', '', 'int', 'k', ',', 'a', ',', 'i', ',', 'j', ',', 'n', ';', '', 'scanf(\"%d\",&n', ')', ';', '', 'for(j=0;j', '<', 'n;j++', ')', '', '{', '', 'a=0', ';', '', 'scanf(\"%d\",&k', ')', ';', '', 'printf(\"%d\\\\n\",k', ')', ';', '', 'for(i=0;i<15;i++', ')', '', '{', '', 'if(k==ctln(i', ')', ')', ';', '', '{', '', 'a++', ';', '', '}', '', '}', '', 'printf(\"%d\",a', ')', ';', '', 'if(a==1', ')', '', 'printf(\"yes\\\\n', '\"', ')', ';', '', 'else', '', 'printf(\"no\\\\n', '\"', ')', ';', '', '}', '', 'return', '0', ';', '', '}']\n",
      "['#', 'include', '<', 'stdio.h', '>', '', 'int', 'main', '(', ')', '', '{', '', 'int', 'n', ',', 'm', ',', 'p11,p12,p13,p21,p22,p23,i', ',', 'j', ',', 'sum', ';', '', 'scanf(\"%d', '%', 'd', '%', 'd', '%', 'd', '%', 'd', '%', 'd', '%', 'd', '%', 'd', '\"', ',', '&', 'n,&m,&m11,&m12,&m13,&m21,&m22,&m23', ')', ';', '', 'sum=0', ';', '', 'for(i=1;i<=n;i++', ')', '{', '', 'for(j=1;j<=m;j++', ')', '{', '', 'sum', '=', \"sum+'pij\", \"'\", ';', '{', '', 'printf(\"%d\",sum', ')', ';', '', '}', '', '}', '', '}', '', 'return', '0', ';', '', '}']\n",
      "['#', 'include', '<', 'stdio.h', '>', '', 'int', 'main', '(', ')', '{', '', 'int', 'k', ',', 'n', ';', '', 'scanf(\"%d%d\",&k,&n', ')', ';', '', 'int', 'a[n', ']', ';', '', 'int', 'i=0', ';', '', 'for(i=0;i', '<', 'n;i++', ')', '', 'scanf(\"%d\",&a[i', ']', ')', ';', '', 'int', 'flag=0', ';', '', 'int', 'm=0', ';', '', 'while(m', '<', 'n', ')', '', '{', '', 'int', 'j=0', ';', '', 'while(j', '<', 'n', ')', '', '{', '', '//if(m!=j', ')', '', '{', '', 'if', '(', 'a[j]==(k-[ai', ']', ')', ')', '', '//if', '(', '(', 'a[m]+a[j])==k', ')', '', 'flag=1', ';', '', '}', '', 'j++', ';', '', '}', '', 'm++', ';', '', '}', '', 'if', '(', 'flag==1', ')', '', 'printf(\"lucky', '\"', ')', ';', '', 'else', '', 'printf(\"unlucky', '\"', ')', ';', '', 'return', '0', ';', '', '}']\n",
      "['#', 'include', '<', 'stdio.h', '>', '', 'int', 'main', '(', ')', '{', '', 'int', 'k', ',', 'n', ',', 'p', ',', 'i', ',', 'j', ';', '', 'int', 'flag=0', ';', '', 'scanf(\"%d\\\\n\",&k', ')', ';', '', 'scanf(\"%d\\\\n\",&n', ')', ';', '', 'int', 'num[n', ']', ';', '', 'for(i=0;i', '<', 'n;i++', ')', '{', '', 'scanf(\"%d\",&num[i', ']', ')', ';', '', '}', '', 'for(i', '=', 'o;i', '<', 'n;i++', ')', '', '{', '', 'for(j=0;j', '<', 'n;j++', ')', '', 'flag=0', ';', '', '{', '', 'if((num[j]!=(num[i', ']', ')', ')', '', '{', '', 'if(num[j]+num[i]==k', ')', '', '{', 'printf(\"lucky', '\"', ')', ';', '', 'break', ';', '', '}', '', '}', '', '}', '', '}', '', 'if(flag==1', ')', '', 'printf(\"unlucky', '\"', ')', ';', '', 'return', '0', ';', '', '}']\n"
     ]
    },
    {
     "name": "stdout",
     "output_type": "stream",
     "text": [
      "['#', 'include', '<', 'stdio.h', '>', '', '#', 'include', '<', 'stdlib.h', '>', '', 'int', 'main', '(', ')', '{', '', 'long', 'int', 'n', ',', 'm', ',', 'x', ',', 'y', ';', '', 'int', 'i', ',', 'j', ',', 'k=0,temp=0', ';', '', 'scanf(\"%ld%ld%ld%ld\",&n,&m,&x,&y', ')', ';', '', 'int', '*', 'a,*b,*u,*v', ';', '', 'a=(int*)malloc(sizeof(int)*n', ')', ';', '', 'b=(int*)malloc(sizeof(int)*m', ')', ';', '', 'u=(int*)malloc(sizeof(int)*m', ')', ';', '', 'v=(int*)malloc(sizeof(int)*m', ')', ';', '', 'for(i=0;i', '<', 'n;i++', ')', ';', '', 'scanf(\"%ld\",&a[i', ']', ')', ';', '', 'for(i=0;i', '<', 'm;i++', ')', '', 'scanf(\"%ld\",&b[i', ']', ')', ';', '', 'for(i=0;i', '<', 'm;i++', ')', '', '{', '', 'for(j', '=', 'temp;j', '<', 'n;j++', ')', '', '{', '', 'if((b[i]>=(a[j]-x))&&(b[i]<=(a[j]+y', ')', ')', ')', '', '{', '', 'u[k]=j', ';', '', 'v[k]=i', ';', '', 'k++', ';', '', 'temp', '=', 'j', ';', '', 'break', ';', '', '}', '', '}', '', '}', '', 'printf(\"%d\\\\n\",k', ')', ';', '', 'for(i=0;i', '<', 'k;i++', ')', '', '{', '', 'printf(\"%d', '%', 'd\\\\n\",u[i]+1,v[i]+1', ')', ';', '', '}', '', 'return', '0', ';', '', '}']\n",
      "['#', 'include', '<', 'stdio.h', '>', '', 'int', 'main', '(', ')', '', '{', '', 'int', 'n', ',', 'm', ',', 'i', ',', 'j', ',', 's=0,t', ';', '', 'scanf(\"%d%d\",&n,&m', ')', ';', '', 'int', 'arr[n][m],sum[n', ']', ';', '', 'for(i=0;i<=n-1;i++', ')', '', '{', '', 'for(j=0;j<=m-1;j++', ')', '', 'scanf(\"%d\",arr[i', ',', 'j', ']', ')', ';', '', '}', '', 'for(i=0;i<=n-1;i++', ')', '', '{', '', 'for(j=0;j<=m-1;j++', ')', '', 's', '=', 's+arr[i', ',', 'j', ']', ';', '', 'sum[i]=s', ';', '', '}', '', 'for(i=0;i<=n-1;i++', ')', '', '{', '', 'if(sum[i]>sum[i+1', ']', ')', '', '{', '', 'sum[i]=t', ';', '', 'sum[i]=sum[i+1', ']', ';', '', 'sum[i+1]=t', '', '}', '', '}', '', 'printf(\"%d\",sum[n', ']', ')', ';', '', 'return', '0', ';', '', '}']\n",
      "['#', 'include', '<', 'stdio.h', '>', '', 'int', 'main', '(', ')', '', '{', '', 'int', 'num', ';', '', 'int', 'k', ',', 'p', ',', 'j', ';', '', 'int', 'list[1000', ']', ';', '', 'scanf(\"%d\",&num', ')', ';', '', 'scanf(\"%d\",&k', ')', ';', '', 'for(j=0;j', '<', 'num;j++', ')', '', 'scanf(\"%d\",&list[j', ']', ')', ';', '', 'int', 'i', ';', '', 'int', 'flag=0', ';', '', 'if(k%2!=0', ')', '', '{', '', 'for(i=0;i', '<', 'num;i++', ')', '', '{', '', 'for(p', '=', 'i+1;p', '<', 'num;p++', ')', '', '{', '', 'int', 'check', '=', 'list[i]+list[p', ']', ';', '', 'if(check==k', ')', '', 'int', 'flag=1', ';', '', '}', '', '}', '', '}', '', 'if(flag==1', ')', '', 'printf(\"lucky', '\"', ')', ';', '', 'else', '', 'printf(\"unlucky', '\"', ')', ';', '', '}', '', 'return', '0', ';', '', '}']\n",
      "['#', 'include', '<', 'stdio.h', '>', '', '#', 'include', '<', 'stdlib.h', '>', '', 'int', 'main', '(', ')', '{', '', 'int', 'n', ',', 'i', ',', 'j', ';', '', 'scanf(\"%d\",&n', ')', ';', '', 'for(i', '=', 'n;i>0;i-=2)//', 'loop', 'for', 'upper', 'half', '', '{', '', 'for(j', '=', 'i;j', '<', 'n;j+=2)//loop', 'to', 'control', 'space', '', '{', '', 'printf', '(', '\"', '\"', ')', ';', '', '}', '', 'for(j', '=', 'i;j>0;j--', ')', '', '{', '', 'printf', '(', '\"', '*', '\"', ')', ';', '', '}', '', 'printf(\"\\\\n', '\"', ')', ';', '', '}', '', 'for(i=3;i<=n;i+=2)//loop', 'for', 'low', 'half', '', '{', '', 'for(j', '=', 'i+1;j', '<', 'n;j+=2', ')', '', '{', '', 'printf', '(', '\"', '\"', ')', ';', '', '}', '', 'for(j=0;j', '<', 'i;j++', ')', '', '{', '', 'printf', '(', '\"', '*', '\"', ')', ';', '', '}', '', 'printf(\"\\\\n', '\"', ')', ';', '', '}', '', 'return', '0', ';', '', '}']\n",
      "['#', 'include', '<', 'stdio.h', '>', '', 'int', 'main', '(', ')', '', '{', '', 'int', 'n', ',', 'm', ';', '', 'scanf(\"%d%d\\\\n\",&n,&m', ')', ';', '', 'int', 'num[m', ']', ';', '', 'int', 's[n', ']', ';', '', 'int', 'sum', ';', '', 'for(i=0;i', '<', 'n;i', '=', 'i+1', ')', '', '{', '', 'sum=0', ';', '', 'for(j=1;j', '<', 'm;j', '=', 'j+1', ')', '', '{', '', 'scanf(\"%d\",num[j', ']', ')', ';', '', 'sum', '=', 'sum+n[j', ']', ';', '', '}', '', 's[i]=sum', ';', '', '}', '', '//fill', 'this', 'area', 'with', 'your', 'code', '.', '', 'return', '0', ';', '', '}']\n",
      "['#', 'include', '<', 'stdio.h', '>', '', 'int', 'main', '(', ')', '', '{', '', 'int', 'k', ',', 'n', ',', 'i', ',', 'a[1000],b[500],c=0;j', ',', 'luck=0', ';', '', 'scanf(\"%d\",&k', ')', ';', '', 'scanf(\"%d\",&n', ')', ';', '', 'for(i=0;i', '<', 'n;i++', ')', '', '{', '', 'scanf(\"%d\",&a[i', ']', ')', ';', '', '}', '', 'for(i=0;i<=499;i++', ')', '', '{', '', 'for(j=0;j', '<', 'n;j++', ')', '', '{', '', 'if(a[j]==i', ')', '', '{', '', 'b[c]=i', ';', '', 'c++', ';', '', '}', '', '}', '', '}', '', 'for(i=0;i', '<', 'c;i++', ')', '', '{', '', 'for(j', '=', 'i+1;j', '<', 'c;j++', ')', '', '{', '', 'if(a[i]+a[j]==k', ')', '', 'luck=1', ';', '', '}', '', '}', '', '/*for(i=0;i', '<', 'n;i++', ')', '', '{', '', 'for(j=0;j', '<', 'n;j++', ')', '', '{', '', 'if((a[i]+a[j])%2!=0', ')', '', '{', '', 'if(k==a[i]+a[j', ']', ')', '', 'luck=1', ';', '', '}', '', '}', '', '}', '*', '/', '', 'if(luck==1', ')', '', 'printf(\"lucky', '\"', ')', ';', '', 'else', '', 'printf(\"unlucky', '\"', ')', ';', '', 'return', '0', ';', '', '}']\n",
      "['#', 'include', '<', 'stdio.h', '>', '', '#', 'include', '<', 'stdlib.h', '>', '', 'int', 'main', '(', ')', '{', '', 'const', 'double', 'e=0.000001', ';', '', 'double', 'a', ',', 'b', ';', '', 'int', 'n', ',', 'i=0', ';', '', 'scanf(\"%lf', '%', 'lf', '%', 'd\",&a', ',', '&', 'b', ',', '&', 'n', ')', ';', '', 'float', 'length', '=(', 'b', '-', 'a)/n', ',', 'sum=0.0', ';', '', 'if(b+2', '<', 'e', ')', '', '{', 'while(i', '<', 'n', ')', '', 'sum', '=', 'sum', '+', '(', '8*i)-2*i*i*i', ';', '', 'i', '=', 'i++', ';', '', '}', '', 'if(b>-2', '-', 'e&&b', '<', 'e', ')', '', '{', 'while(i', '<', 'n', ')', '', 'sum', '=', 'sum', '+', '(', '2*i*i*i', ')', '-8*i', ';', '', 'i', '=', 'i++', ';', '', '}', '', 'if(b+e>0&&b<2+e', ')', '', '{', 'while(i', '<', 'n', ')', '', 'sum', '=', 'sum', '+', '(', '8*i)-2*i*i*i', ';', '', 'i', '=', 'i++', ';', '', '}', '', 'if(b+e>2', ')', '', '{', 'while(i', '<', 'n', ')', '', 'sum', '=', 'sum', '+', '(', '2*i*i*i)-8*i', ';', '', 'i', '=', 'i++', ';', '', '}', '', 'sum', '=', 'sum*length', ';', '', 'printf(\"%f\",sum', ')', ';', '', 'return', '0', ';', '', '}']\n",
      "['#', 'include', '<', 'stdio.h', '>', '', 'int', 'main', '(', ')', '', '{', '', 'int', 'n', ',', 'm', ',', 'gold', ',', 'max', ',', 'sum=0', ';', '', '//require', 'variable', '', 'scanf(\"%d', '%', 'd', '\"', ',', '&', 'n', ',', '&', 'm', '', '//input', 'of', 'number', 'of', 'door', 'and', 'heap', 'of', 'gold', '', 'for(int', 'i=1', ';', 'i<=n', ';', 'i++', ')', '//loop', 'to', 'input', 'the', 'number', '', '{', '', 'for(int', 'j=1', ';', 'j<=m', ';', 'j++', ')', '', '{', '', 'scanf(\"%d', '\"', ',', '&', 'gold', ')', ';', '', 'sum', '=', 'sum+gold', ';', '', '//calculation', 'of', 'sum', 'of', 'gold', 'in', 'each', 'door', '', '}', '', 'max=(max>=sum)?max', ':', 'sum', ';', '//cheching', 'of', 'maximum', 'gold', '', 'sum=0', ';', '', '}', '', 'printf(\"%d', '\"', ',', 'max', ')', ';', '', '//output', 'of', 'max', 'gold', 'obtain', '', 'return', '0', ';', '', '}']\n",
      "['#', 'include', '<', 'stdio.h', '>', '', 'int', 'main', '(', ')', '', '{', '', 'int', 'flag=0', ';', '', 'int', 'k', ',', 'n', ';', '', 'scanf(\"%d\\\\n\",&k', ')', ';', '', 'scanf(\"%d\",&n', ')', ';', '', 'int', 'a[501', ']', ';', '', 'freq[501', ']', ';', '', 'for(int', 'i=0;i', '<', 'n;i++', ')', '', '{', '', 'scanf(\"%d\",&a[i', ']', ')', ';', '', '}', '', 'for(int', 'j=0;j', '<', 'n-1;j++', ')', '', '{', '', 'for(int', 'm=1;m', '<', 'n', '-', 'j;n++', ')', '', '{', '', 'while(a[j]==m', ')', '', '{', '', 'flag=1', '', '}', '', 'while(flag==1', ')', '', '{', '', 'for(int', 'p=0;p<501;p++', ')', '', '{', '', 'while(a[p]==k', '-', 'j', ')', '', '{', '', 'flag=2', ';', '', '}', '', '}', '', 'if(flag==2', ')', ';', '', 'printf(\"lucky', '\"', ')', ';', '', 'else', '', 'printf(\"unlucky', '\"', ')', ';', '', '//', 'while(k==a[j]+a[j+m', ']', ')', '', '//', '', '{', '', '//', '', 'flag=1', ';', '', '//', '', 'break', ';', '', '//', '', '}', '', '//', '}', '', '}', '', 'return', '0', ';', '', '}']\n",
      "['#', 'include', '<', 'stdio.h', '>', '', 'int', 'main', '(', ')', '', '{', '', 'int', 'n', ',', 'k', ';', '', 'scanf(\"%d\\\\n%d\",&k,&n', ')', ';', '', 'for', '(', 'int', 'i=0;i', '<', 'n;i++', ')', '', '{', '', 'scanf(\"%d\",&a[i', ']', ')', ';', '', '}', '', 'for', '(', 'i=0;i', '<', 'n;i++', ')', '', '{', '', 'for', '(', 'int', 'j=0;j', '<', 'n;j++', ')', '', '{', '', 'if', '(', 'i!=j', '&', '&', 'a[i]+a[j]==k', ')', '', 'printf(\"lucky', '\"', ')', ';', '', 'else', 'printf(\"unlucky', '\"', ')', ';', '', '}', '', '}', '', 'return', '0', ';', '', '}']\n",
      "['#', 'include', '<', 'stdio.h', '>', '', 'int', 'main', '(', ')', '{', '', 'int', 'a', ',', 'n', ',', 'm', ';', '', 'int', 'b', '', 'scanf(\"%d\\\\n', '\"', ',', '&', 'a', ')', ';', '', 'scanf(\"%d\\\\n', '\"', ',', '&', 'n', ')', ';', '', 'm=0', ';', '', 'for(int', 'i=0;i', '<', 'n;i++', ')', '', 'scanf(\"%d', '\"', ',', '&', 'b[i', ']', ')', ';', '', 'for(int', 'i=0;i', '<', 'n;i++', ')', '{', '', 'if(b[i]<a', ')', '{', '', 'for', '(', 'int', 'j', '=', 'i+1;j', '<', 'n;j++', ')', '{', '', 'if', '(', 'b[j]==(a', '-', 'b[i', ']', ')', ')', '{', '', 'm', '=', 'm+1', '', '}', '', '}', '', '}', '', '}', '', 'if', '(', 'm==0', ')', '', 'printf(\"unlucky', '\"', ')', ';', '', 'elese', '', 'printf(\"lucky', '\"', ')', ';', '', 'return', '0', ';', '', '}']\n",
      "['#', 'include', '<', 'stdio.h', '>', '', 'int', 'main', '(', ')', '', '{', '', 'int', 'n', ';', '', 'int', 'm=-2,c=0,q=0', ';', '', 'scanf(\"%d\",&n', ')', ';', '', 'int', 'a[n', ']', ';', '', 'for(int', 'i=0;i', '<', 'n;i++', ')', '', '{', '', 'scanf(\"%d\",&a[i', ']', ')', ';', '', '}', '', 'int', 'w=0', ';', '', 'for(int', 'i=0;i', '<', 'n;i++', ')', '', '{', '', 'w', '=', 'i', ';', '', 'for(int', 'j', '=', 'w;j', '<', 'n;j++', ')', '', '{', '', 'if(a[j]>a[w', ']', ')', '', '{', '', 'c++', ';', '', 'w', '=', 'j', ';', '', '}', '', '}', '', 'q', '=', 'c', ';', '', 'c=0', ';', '', 'if(q', '>', 'm', ')', '', 'm', '=', 'q', ';', '', '}', '', 'if(m>=0', ')', '', 'printf(\"%d\",m+1', ')', ';', '', 'else', 'if(m==-1', ')', '', 'printf(\"0', '\"', ')', ';', '', 'return', '0', ';', '', '}']\n",
      "['#', 'include', '<', 'stdio.h', '>', '', '#', 'include', '<', 'stdlib.h', '>', '', 'int', 'a(int', 'm', ',', 'int', 'n', ')', '{', '', 'if(m==0', ')', '{', '', 'return', 'n+1', ';', '', '}', '', 'if(n==0&&m>0', ')', '{', '', 'return', 'a(m-1,1', ')', ';', '', '}', '', 'if(n>0&&m>0', ')', '{', '', 'return', 'a(m-1,a(m', ',', 'n-1', ')', ')', ';', '', '}', '', 'if(m<0||n<0', ')', '{', '', 'return', '-1', ';', '', '}', '', '}', '', 'int', 'main', '(', ')', '{', '', 'int', 'm', ',', 'n', ',', 'i', ',', 'j', ',', 'k', ',', 'm', ',', 'n', ';', '', 'int', 'a[3][5', ']', ';', '', 'scanf(\"%d\",&k', ')', ';', '', 'for(i=0;i<3;i++', ')', '{', '', 'for(j=0;j<5;j++', ')', '{', '', 'a[i][j]=a(m', ',', 'n', ')', ';', '', 'if(a[i][j]==k', ')', '{', '', 'm', '=', 'i', ';', '', 'n', '=', 'j', ';', '', 'printf(\"%d', '%', 'd\",m', ',', 'n', ')', ';', '', 'return', '0', ';', '', '}', '', '}', '', '}', '', 'printf(\"-1', '\"', ')', ';', '', 'return', '0', ';', '', '}']\n",
      "['#', 'include', '<', 'stdio.h', '>', '', 'int', 'main', '(', ')', '{', '', 'int', 'a[500', ']', ';', '', 'scanf(\"%d\",d', ')', ';', '', 'for(i=0;i', '<', 'n', ',', 'i++', ')', '', '{', '', 'scanf(\"%d\",a[i', ']', ')', ';', '', '}', '', 'for(h=0;h', '<', 'n;h++', ')', '', '{', '', 'for(k=0;k', '<', 'n;k++', ')', '', '{', '', 'if(a[h]+a[k]==d', ')', '', 'break', ';', '', 'else', '', '{', '', 'printf(\"unlucky', '\"', ')', ';', '', '}', '', '}', '', '}', '', 'return', '0', ';', '', '}']\n",
      "['#', 'include', '<', 'stdio.h', '>', '', 'int', 'main', '(', ')', '{', '', 'int', 'i', ',', 'j', ',', 'k', ',', 'n', ',', 'sum=0,num[1000],l=0', ';', '', 'scanf(\"%d%d\",&k,&n', ')', ';', '', 'for(i=1;i<=n;i++', ')', '', '{', '', 'scanf(\"%d\",&num[i', ']', ')', ';', '', '}', '', 'for(i=1;i<=n;i++', ')', '', '{', '', 'for(j=1;j<=n;j++', ')', '', '{', '', 'if(j==i', ')', '', '{', '', 'continue', ';', '', 'j++', ';', '', '}', '', 'else', 'if(j!=i', ')', '', '{', '', 'if(num[j]+num[i]==k', ')', '', '{', '', 'printf(\"lucky', '\"', ')', ';', '', 'l++', ';', '', '}', '', '}', '', '}', '', '}', '', 'if(l==0', ')', '', 'printf(\"unlucky', '\"', ')', ';', '', 'return', '0', ';', '', '}']\n"
     ]
    },
    {
     "name": "stdout",
     "output_type": "stream",
     "text": [
      "['#', 'include', '<', 'stdio.h', '>', '', '#', 'include', '<', 'stdlib.h', '>', '', 'int', 'main', '(', ')', '{', '', 'int', 'num', ',', 'i', ',', 'j', ',', 'k', ';', '', 'scanf(\"%d\",&num', ')', ';', '', 'for(i=1;i<=num;i', '=', 'i+2', ')', '', '{', '', 'for(j', '=', 'i;j>=1;j', '=', 'j-2', ')', '', 'printf', '(', '\"', '\"', ')', ';', '', 'for(k', '=', 'num;k>=i;k--', ')', '', 'printf', '(', '\"', '*', '\"', ')', ';', '', 'printf(\"\\\\n', '\"', ')', ';', '', '}', '', 'for(i=1;i', '<', 'num;i', '=', 'i+1', ')', '', '{', '', 'for(j', '=', 'num/2;j>=i;j--', ')', '', 'printf', '(', '\"', '\"', ')', ';', '', 'for(k', '=', 'i;k<=2*i+1;k++', ')', '', 'printf', '(', '\"', '*', '\"', ')', ';', '', 'printf(\"\\\\n', '\"', ')', ';', '', '}', '', 'return', '0', ';', '', '}']\n",
      "['#', 'include', '<', 'stdio.h', '>', '', 'int', 'main', '(', ')', '{', '', 'int', 'lucn=0', ';', '', 'int', 'n', ',', 'i', ',', 'j=0', ';', '', 'int', 'lst[1000', ']', ';', '', 'intp[1000', ']', ';', '', 'scanf(\"%d\\\\n%d\\\\n\",&lucn,&n', ')', ';', '', 'for(i=0;i<1000;i++', ')', '{', '', 'lst[i]=0', ';', '', 'p[j]=0', ';', '', '}', '', 'for(i=0;i', '<', 'n;i++', ')', '{', '', 'scanf(\"%d\",&lst[i', ']', ')', ';', '', '}', '', 'for(i=0;i', '<', 'n;i++', ')', '{', '', 'for(j=0;j', '<', 'n;j++', ')', '{', '', 'if(lst[i]==j', ')', '', 'p[j]=1', ';', '', '}', '', '}', '', 'for(j=0;j', '<', 'n;j++', ')', '{', '', 'printf(\"%d\",p[j', ']', ')', ';', '', '}', '', 'for(i=0;i<=250;i++', ')', '{', '', 'if(lst[i]==1', '&', '&', 'lst[lucn', '-', 'i]==1', ')', '{', '', 'printf(\"lucky', '\"', ')', ';', '', 'break', ';', '', '}', '', '}', '', 'if(i==251', ')', '', 'printf(\"unlucky', '\"', ')', ';', '', '//', 'insert', 'your', 'code', 'here', '', 'return', '0', ';', '', '}']\n",
      "['#', 'include', '<', 'stdio.h', '>', '', 'int', 'main', '(', ')', '{', '', 'int', 'n', ',', 'i', ',', 'count=0', ';', '', 'scanf(\"%d\",&n', ')', ';', '', 'int', 'hit[n', ']', ';', '', 'scanf(\"%d', '%', 'd', '%', 'd\",&hit[0],&hit[1],&hit[2', ']', ')', ';', '', 'for(i=0;i<=n;i++', ')', '', '{', '', 'if(hit[i]<hit[i+1]&&hit[i+1]>hit[i+2', ']', ')', '', '{', '', 'count', '=', 'count+1', ';', '', '}', '', 'else', '{', '', 'scanf(\"%d\",&hit[i+3', ']', ')', ';', '', '}', '', '}', '', 'printf(\"%d\",count', ')', ';', '', 'return', '0', ';', '', '}']\n",
      "['#', 'include', '<', 'stdio.h', '>', '', 'int', 'main', '(', ')', '{', '', 'float', 'x1,x2,y1,y2', ';', '', 'float', 'm', ';', '', 'scanf(\"%f', '', '%', 'f', '\"', ',', 'x1,x2', ')', ';', '', 'scanf(\"%f', '', '%', 'f\",y1,y2', ')', ';', '', 'printf(\"%d\",x1', ')', ';', '', 'if((x1', '-', 'x2)==0', ')', '', 'printf(\"inf', '\"', ')', ';', '', 'else', '', '{', '', 'm=(y2', '-', 'y1)/(x2', '-', 'x1', ')', ';', '', 'printf(\"%.2f\",m', ')', ';', '}', '', 'return', '0', ';', '', '}']\n",
      "['#', 'include', '<', 'stdio.h', '>', '', 'int', 'main', '(', ')', '', '{', 'int', 's[500', ']', ';', '', 'int', 'i', ',', 'j', ',', 'k', ',', 'n', ';', '', 'scanf(\"%d\",&k', ')', ';', '', 'for', '(', 'i=0;i<=499;i++', ')', '', '{', '', 'scanf(\"%d\",&n', ')', '', 'scanf(\"%d\",&s[i', ']', ')', ';', '', 'for(j=1;j<=499;j++', ')', '', '{', '', 'scanf(\"%d\",&s[i', ']', ')', ';', '', '}', '', '}', '', 'if((i+j)==k', ')', '', 'printf(\"lucky', '\"', ')', ';', '', 'else', '', 'printf(\"unlucky', '\"', ')', ';', '', '//', 'insert', 'your', 'code', 'here', '', 'return', '0', ';', '', '}']\n",
      "['#', 'include', '<', 'stdio.h', '>', '', '#', 'include', '<', 'stdlib.h', '>', '', '#', 'include', '<', 'string.h', '>', '', 'int', 'main', '(', ')', '{', '', 'int', 'f', ',', 'b', ',', 'n', ',', 'co=0,k', ';', '', 'scanf(\"%d\",&b', ')', ';', '', 'for(k=0;k<20;k++', ')', '', '{', '', 'for(n=0;n<20;n++', ')', '', '{', '', 'if(b==b(n', ',', 'k', ')', ')', '', '{', '', 'co=1', ';', '', '}', '', '}', '', 'break', ';', '', '}', '', 'if(co==1', ')', '', '{', '', 'printf(\"%d', '%', 'd\",n', ',', 'k', ')', ';', '', '}', '', 'else', '', 'printf(\"-1', '\"', ')', ';', '', 'return', '0', ';', '', '}', '', 'int', 'b(int', 'n', ',', 'int', 'k', ')', '{', '', 'if(n', '<', 'k', ')', '', 'return', '0', ';', '', 'else', 'if(n==k&&k==0', ')', '', 'return', '1', ';', '', 'else', '', 'return', 'b(n-1,k)+b(n-1,k-1', ')', ';', '', '}']\n",
      "['#', 'include', '<', 'stdio.h', '>', '', 'int', 'max(int', 'a', ',', 'int', 'b', ',', 'int', 'i', ',', 'int', 'x', ')', '{', '', 'if', '(', 'a>=b', ')', '', 'return', 'i', ';', '', 'else', '', 'return', 'x', ';', '', '}', '', 'int', 'min(int', 'a', ',', 'int', 'b', ',', 'int', 'i', ',', 'int', 'y', ')', '{', '', 'if', '(', 'a<=b', ')', '', 'return', 'i', ';', '', 'else', '', 'return', 'y', ';', '', '}', '', 'int', 'main', '(', ')', '{', '', 'int', 'a', ',', 'i', ',', 'num', ',', 'x', ',', 'y', ',', 'z', ';', '', 'x=', '0', ';', '', 'y=0', ';', '', 'scanf(\"%d\",&a', ')', ';', '', 'int', 'ppl[a+1', ']', ';', '', 'for(i=0;i<=(a-1);i++', ')', '{', '', 'scanf(\"%d\",&num', ')', ';', '', 'ppl[i', ']', '=', 'num', ';', '', '}', '', 'for(i=0;i', '<', 'a;i++', ')', '{', '', 'x', '=', 'max(ppl[i],ppl[x],i', ',', 'x', ')', ';', '', '}', '', 'for(i=0;i', '<', 'a;i++', ')', '{', '', 'y', '=', 'min(ppl[i],ppl[y],i', ',', 'y', ')', ';', '', '}', '', 'z', '=', 'ppl[x', ']', ';', '', 'ppl[x]=ppl[y', ']', ';', '', 'ppl[y]=z', ';', '', 'for(i=0;i', '<', 'a;i++', ')', '{', '', 'printf', '(', '\"', '%', 'd\",ppl[i', ']', ')', ';', '', '}', '', 'printf', '(', '\"', 'end', '\"', ')', ';', '//do', 'not', 'modify', 'this', '', 'return', '0', ';', '', '}']\n"
     ]
    }
   ],
   "source": [
    "X_train_vec = tfidf_vector.fit_transform(X_train)\n",
    "X_val_vec = tfidf_vector.transform(X_val)\n",
    "X_test_vec = tfidf_vector.transform(X_test)"
   ]
  },
  {
   "cell_type": "code",
   "execution_count": 22,
   "id": "f3fa7ce7",
   "metadata": {},
   "outputs": [
    {
     "data": {
      "text/plain": [
       "((180, 1758), (10, 1758), (10, 1758))"
      ]
     },
     "execution_count": 22,
     "metadata": {},
     "output_type": "execute_result"
    }
   ],
   "source": [
    "X_train_vec.shape,X_val_vec.shape,X_test_vec.shape"
   ]
  },
  {
   "cell_type": "code",
   "execution_count": 23,
   "id": "4c55d3c2",
   "metadata": {},
   "outputs": [
    {
     "data": {
      "text/plain": [
       "array([[0.51795925, 0.        , 0.04259228, ..., 0.        , 0.        ,\n",
       "        0.16186226],\n",
       "       [0.57684244, 0.        , 0.06505275, ..., 0.        , 0.        ,\n",
       "        0.11536849],\n",
       "       [0.575601  , 0.        , 0.        , ..., 0.        , 0.        ,\n",
       "        0.088554  ],\n",
       "       ...,\n",
       "       [0.69497018, 0.        , 0.06773103, ..., 0.        , 0.        ,\n",
       "        0.15443782],\n",
       "       [0.65837564, 0.        , 0.        , ..., 0.        , 0.        ,\n",
       "        0.09405366],\n",
       "       [0.64908636, 0.        , 0.        , ..., 0.        , 0.        ,\n",
       "        0.11590828]])"
      ]
     },
     "execution_count": 23,
     "metadata": {},
     "output_type": "execute_result"
    }
   ],
   "source": [
    "X_train_vec.toarray()"
   ]
  },
  {
   "cell_type": "markdown",
   "id": "7149ab5a",
   "metadata": {},
   "source": [
    "# LSTM Implementation"
   ]
  },
  {
   "cell_type": "code",
   "execution_count": 24,
   "id": "9df38391",
   "metadata": {},
   "outputs": [],
   "source": [
    "import tensorflow as tf"
   ]
  },
  {
   "cell_type": "code",
   "execution_count": 25,
   "id": "bc8b7670",
   "metadata": {},
   "outputs": [],
   "source": [
    "X_train_tf = tf.constant(X_train_vec.toarray())\n",
    "X_val_tf = tf.constant(X_val_vec.toarray())\n",
    "X_test_tf = tf.constant(X_test_vec.toarray())"
   ]
  },
  {
   "cell_type": "code",
   "execution_count": 26,
   "id": "a71a6796",
   "metadata": {},
   "outputs": [
    {
     "data": {
      "text/plain": [
       "(TensorShape([180, 1758]), TensorShape([10, 1758]), TensorShape([10, 1758]))"
      ]
     },
     "execution_count": 26,
     "metadata": {},
     "output_type": "execute_result"
    }
   ],
   "source": [
    "X_train_tf.shape,X_val_tf.shape,X_test_tf.shape"
   ]
  },
  {
   "cell_type": "code",
   "execution_count": 27,
   "id": "80b2918d",
   "metadata": {},
   "outputs": [],
   "source": [
    "y_train_tf = tf.constant(y_train)\n",
    "y_val_tf = tf.constant(y_val)\n",
    "y_test_tf = tf.constant(y_test)"
   ]
  },
  {
   "cell_type": "code",
   "execution_count": 28,
   "id": "060a4b9c",
   "metadata": {},
   "outputs": [
    {
     "data": {
      "text/plain": [
       "TensorShape([180])"
      ]
     },
     "execution_count": 28,
     "metadata": {},
     "output_type": "execute_result"
    }
   ],
   "source": [
    "y_train_tf.shape"
   ]
  },
  {
   "cell_type": "code",
   "execution_count": 29,
   "id": "172d14b1",
   "metadata": {},
   "outputs": [],
   "source": [
    "model = tf.keras.Sequential([\n",
    "    tf.keras.layers.LSTM(32,input_shape=(None,1)),\n",
    "    tf.keras.layers.Dense(1,activation='sigmoid')]\n",
    ")"
   ]
  },
  {
   "cell_type": "code",
   "execution_count": null,
   "id": "4c9590eb",
   "metadata": {},
   "outputs": [],
   "source": []
  },
  {
   "cell_type": "code",
   "execution_count": 30,
   "id": "a2e3bdc5",
   "metadata": {},
   "outputs": [],
   "source": [
    "model.compile(loss='binary_crossentropy', optimizer=tf.keras.optimizers.Adam(learning_rate=5e-4), metrics=['accuracy'])"
   ]
  },
  {
   "cell_type": "code",
   "execution_count": null,
   "id": "3a269e5e",
   "metadata": {},
   "outputs": [],
   "source": []
  },
  {
   "cell_type": "code",
   "execution_count": 32,
   "id": "4ec6c22d",
   "metadata": {},
   "outputs": [
    {
     "name": "stdout",
     "output_type": "stream",
     "text": [
      "Model: \"sequential\"\n",
      "_________________________________________________________________\n",
      " Layer (type)                Output Shape              Param #   \n",
      "=================================================================\n",
      " lstm (LSTM)                 (None, 32)                4352      \n",
      "                                                                 \n",
      " dense (Dense)               (None, 1)                 33        \n",
      "                                                                 \n",
      "=================================================================\n",
      "Total params: 4,385\n",
      "Trainable params: 4,385\n",
      "Non-trainable params: 0\n",
      "_________________________________________________________________\n"
     ]
    }
   ],
   "source": [
    "model.summary()"
   ]
  },
  {
   "cell_type": "code",
   "execution_count": null,
   "id": "cb2e46f1",
   "metadata": {},
   "outputs": [],
   "source": []
  },
  {
   "cell_type": "code",
   "execution_count": null,
   "id": "8bbf530a",
   "metadata": {},
   "outputs": [],
   "source": []
  },
  {
   "cell_type": "code",
   "execution_count": 34,
   "id": "b8bed0d3",
   "metadata": {},
   "outputs": [
    {
     "name": "stdout",
     "output_type": "stream",
     "text": [
      "Epoch 1/10\n",
      "3/3 [==============================] - 7s 2s/step - loss: 0.6932 - accuracy: 0.5000 - val_loss: 0.6915 - val_accuracy: 0.7000\n",
      "Epoch 2/10\n",
      "3/3 [==============================] - 3s 931ms/step - loss: 0.6932 - accuracy: 0.5000 - val_loss: 0.6911 - val_accuracy: 0.7000\n",
      "Epoch 3/10\n",
      "3/3 [==============================] - 3s 1s/step - loss: 0.6931 - accuracy: 0.5000 - val_loss: 0.6915 - val_accuracy: 0.7000\n",
      "Epoch 4/10\n",
      "3/3 [==============================] - 3s 989ms/step - loss: 0.6931 - accuracy: 0.5000 - val_loss: 0.6914 - val_accuracy: 0.7000\n",
      "Epoch 5/10\n",
      "3/3 [==============================] - 3s 919ms/step - loss: 0.6931 - accuracy: 0.5000 - val_loss: 0.6913 - val_accuracy: 0.7000\n",
      "Epoch 6/10\n",
      "3/3 [==============================] - 3s 905ms/step - loss: 0.6931 - accuracy: 0.5000 - val_loss: 0.6914 - val_accuracy: 0.7000\n",
      "Epoch 7/10\n",
      "3/3 [==============================] - 3s 904ms/step - loss: 0.6931 - accuracy: 0.5000 - val_loss: 0.6915 - val_accuracy: 0.7000\n",
      "Epoch 8/10\n",
      "3/3 [==============================] - 3s 856ms/step - loss: 0.6931 - accuracy: 0.5000 - val_loss: 0.6915 - val_accuracy: 0.7000\n",
      "Epoch 9/10\n",
      "3/3 [==============================] - 3s 1s/step - loss: 0.6930 - accuracy: 0.5000 - val_loss: 0.6915 - val_accuracy: 0.7000\n",
      "Epoch 10/10\n",
      "3/3 [==============================] - 3s 996ms/step - loss: 0.6930 - accuracy: 0.5000 - val_loss: 0.6917 - val_accuracy: 0.7000\n"
     ]
    }
   ],
   "source": [
    "histor = model.fit(X_train_tf, y_train_tf, batch_size=64,epochs=10,validation_data = (X_val_tf,y_val_tf))"
   ]
  },
  {
   "cell_type": "code",
   "execution_count": null,
   "id": "83e75603",
   "metadata": {},
   "outputs": [],
   "source": []
  },
  {
   "cell_type": "code",
   "execution_count": 36,
   "id": "04bb39e7",
   "metadata": {},
   "outputs": [],
   "source": [
    "pred = model.predict(X_test_tf)"
   ]
  },
  {
   "cell_type": "code",
   "execution_count": 38,
   "id": "d77de64b",
   "metadata": {},
   "outputs": [
    {
     "data": {
      "text/plain": [
       "0.3"
      ]
     },
     "execution_count": 38,
     "metadata": {},
     "output_type": "execute_result"
    }
   ],
   "source": [
    "from sklearn.metrics import accuracy_score,precision_score,recall_score\n",
    "accuracy_score(y_test_tf,pred.round())"
   ]
  },
  {
   "cell_type": "code",
   "execution_count": 39,
   "id": "60a8391f",
   "metadata": {},
   "outputs": [
    {
     "data": {
      "text/plain": [
       "0.3"
      ]
     },
     "execution_count": 39,
     "metadata": {},
     "output_type": "execute_result"
    }
   ],
   "source": [
    "from sklearn.metrics import accuracy_score,precision_score,recall_score\n",
    "accuracy_score(y_test_tf,pred.round())"
   ]
  },
  {
   "cell_type": "code",
   "execution_count": 41,
   "id": "0952113b",
   "metadata": {},
   "outputs": [
    {
     "data": {
      "text/plain": [
       "0.3"
      ]
     },
     "execution_count": 41,
     "metadata": {},
     "output_type": "execute_result"
    }
   ],
   "source": [
    "precision_score(y_test_tf, pred.round())"
   ]
  },
  {
   "cell_type": "code",
   "execution_count": 42,
   "id": "f0f5d5ff",
   "metadata": {},
   "outputs": [
    {
     "ename": "NameError",
     "evalue": "name 'predicted' is not defined",
     "output_type": "error",
     "traceback": [
      "\u001b[1;31m---------------------------------------------------------------------------\u001b[0m",
      "\u001b[1;31mNameError\u001b[0m                                 Traceback (most recent call last)",
      "Input \u001b[1;32mIn [42]\u001b[0m, in \u001b[0;36m<cell line: 1>\u001b[1;34m()\u001b[0m\n\u001b[1;32m----> 1\u001b[0m recall_score(y_test_tf, \u001b[43mpredicted\u001b[49m\u001b[38;5;241m.\u001b[39mround())\n",
      "\u001b[1;31mNameError\u001b[0m: name 'predicted' is not defined"
     ]
    }
   ],
   "source": [
    "recall_score(y_test_tf, predicted.round())"
   ]
  },
  {
   "cell_type": "markdown",
   "id": "5280a5a8",
   "metadata": {},
   "source": [
    "## Tensorflow Implementation"
   ]
  },
  {
   "cell_type": "code",
   "execution_count": 43,
   "id": "5df388a5",
   "metadata": {},
   "outputs": [],
   "source": [
    "import tensorflow as tf\n",
    "tf.random.set_seed(42)"
   ]
  },
  {
   "cell_type": "code",
   "execution_count": 44,
   "id": "fabb822f",
   "metadata": {},
   "outputs": [
    {
     "ename": "NameError",
     "evalue": "name 'X_train_vector' is not defined",
     "output_type": "error",
     "traceback": [
      "\u001b[1;31m---------------------------------------------------------------------------\u001b[0m",
      "\u001b[1;31mNameError\u001b[0m                                 Traceback (most recent call last)",
      "Input \u001b[1;32mIn [44]\u001b[0m, in \u001b[0;36m<cell line: 1>\u001b[1;34m()\u001b[0m\n\u001b[1;32m----> 1\u001b[0m X_train_tf \u001b[38;5;241m=\u001b[39m tf\u001b[38;5;241m.\u001b[39mconstant(\u001b[43mX_train_vector\u001b[49m\u001b[38;5;241m.\u001b[39mtoarray())\n\u001b[0;32m      2\u001b[0m X_test_tf \u001b[38;5;241m=\u001b[39m tf\u001b[38;5;241m.\u001b[39mconstant(X_test_vector\u001b[38;5;241m.\u001b[39mtoarray())\n",
      "\u001b[1;31mNameError\u001b[0m: name 'X_train_vector' is not defined"
     ]
    }
   ],
   "source": [
    "X_train_tf = tf.constant(X_train_vector.toarray())\n",
    "X_test_tf = tf.constant(X_test_vector.toarray())"
   ]
  },
  {
   "cell_type": "code",
   "execution_count": 45,
   "id": "666b7185",
   "metadata": {},
   "outputs": [
    {
     "data": {
      "text/plain": [
       "<tf.Tensor: shape=(180, 1758), dtype=float64, numpy=\n",
       "array([[0.51795925, 0.        , 0.04259228, ..., 0.        , 0.        ,\n",
       "        0.16186226],\n",
       "       [0.57684244, 0.        , 0.06505275, ..., 0.        , 0.        ,\n",
       "        0.11536849],\n",
       "       [0.575601  , 0.        , 0.        , ..., 0.        , 0.        ,\n",
       "        0.088554  ],\n",
       "       ...,\n",
       "       [0.69497018, 0.        , 0.06773103, ..., 0.        , 0.        ,\n",
       "        0.15443782],\n",
       "       [0.65837564, 0.        , 0.        , ..., 0.        , 0.        ,\n",
       "        0.09405366],\n",
       "       [0.64908636, 0.        , 0.        , ..., 0.        , 0.        ,\n",
       "        0.11590828]])>"
      ]
     },
     "execution_count": 45,
     "metadata": {},
     "output_type": "execute_result"
    }
   ],
   "source": [
    "X_train_tf"
   ]
  },
  {
   "cell_type": "code",
   "execution_count": 46,
   "id": "40d179fd",
   "metadata": {},
   "outputs": [],
   "source": [
    "y_train_tf = tf.constant(y_train)\n",
    "y_test_tf = tf.constant(y_test)"
   ]
  },
  {
   "cell_type": "code",
   "execution_count": 47,
   "id": "5317b3bf",
   "metadata": {},
   "outputs": [
    {
     "name": "stderr",
     "output_type": "stream",
     "text": [
      "C:\\Users\\Hp\\anaconda3\\lib\\site-packages\\keras\\optimizer_v2\\adam.py:105: UserWarning: The `lr` argument is deprecated, use `learning_rate` instead.\n",
      "  super(Adam, self).__init__(name, **kwargs)\n"
     ]
    },
    {
     "name": "stdout",
     "output_type": "stream",
     "text": [
      "6/6 [==============================] - 1s 11ms/step - loss: 2.1896 - accuracy: 0.4611 - precision: 0.4462 - recall: 0.3222  \n"
     ]
    }
   ],
   "source": [
    "model = tf.keras.Sequential([\n",
    "    tf.keras.layers.Dense(73, activation='relu'),\n",
    "    tf.keras.layers.Dense(256, activation='relu'),\n",
    "    tf.keras.layers.Dense(512, activation='relu'),\n",
    "    tf.keras.layers.Dense(700, activation='relu'),\n",
    "    tf.keras.layers.Dense(1, activation='sigmoid')\n",
    "])\n",
    "\n",
    "model.compile(\n",
    "    loss=tf.keras.losses.binary_crossentropy,\n",
    "    optimizer=tf.keras.optimizers.Adam(lr=0.03),\n",
    "    metrics=[\n",
    "        tf.keras.metrics.BinaryAccuracy(name='accuracy'),\n",
    "        tf.keras.metrics.Precision(name='precision'),\n",
    "        tf.keras.metrics.Recall(name='recall')\n",
    "    ]\n",
    ")\n",
    "\n",
    "history = model.fit(X_train_tf, y_train_tf, epochs=1)"
   ]
  },
  {
   "cell_type": "code",
   "execution_count": 48,
   "id": "0475483f",
   "metadata": {},
   "outputs": [],
   "source": [
    "import matplotlib.pyplot as plt\n",
    "from matplotlib import rcParams\n",
    "\n",
    "rcParams['figure.figsize'] = (18, 8)\n",
    "rcParams['axes.spines.top'] = False\n",
    "rcParams['axes.spines.right'] = False"
   ]
  },
  {
   "cell_type": "code",
   "execution_count": 49,
   "id": "cf6f143d",
   "metadata": {},
   "outputs": [
    {
     "ename": "ValueError",
     "evalue": "x and y must have same first dimension, but have shapes (50,) and (1,)",
     "output_type": "error",
     "traceback": [
      "\u001b[1;31m---------------------------------------------------------------------------\u001b[0m",
      "\u001b[1;31mValueError\u001b[0m                                Traceback (most recent call last)",
      "Input \u001b[1;32mIn [49]\u001b[0m, in \u001b[0;36m<cell line: 1>\u001b[1;34m()\u001b[0m\n\u001b[1;32m----> 1\u001b[0m \u001b[43mplt\u001b[49m\u001b[38;5;241;43m.\u001b[39;49m\u001b[43mplot\u001b[49m\u001b[43m(\u001b[49m\n\u001b[0;32m      2\u001b[0m \u001b[43m    \u001b[49m\u001b[43mnp\u001b[49m\u001b[38;5;241;43m.\u001b[39;49m\u001b[43marange\u001b[49m\u001b[43m(\u001b[49m\u001b[38;5;241;43m1\u001b[39;49m\u001b[43m,\u001b[49m\u001b[43m \u001b[49m\u001b[38;5;241;43m51\u001b[39;49m\u001b[43m)\u001b[49m\u001b[43m,\u001b[49m\u001b[43m \u001b[49m\n\u001b[0;32m      3\u001b[0m \u001b[43m    \u001b[49m\u001b[43mhistory\u001b[49m\u001b[38;5;241;43m.\u001b[39;49m\u001b[43mhistory\u001b[49m\u001b[43m[\u001b[49m\u001b[38;5;124;43m'\u001b[39;49m\u001b[38;5;124;43mloss\u001b[39;49m\u001b[38;5;124;43m'\u001b[39;49m\u001b[43m]\u001b[49m\u001b[43m,\u001b[49m\u001b[43m \u001b[49m\u001b[43mlabel\u001b[49m\u001b[38;5;241;43m=\u001b[39;49m\u001b[38;5;124;43m'\u001b[39;49m\u001b[38;5;124;43mLoss\u001b[39;49m\u001b[38;5;124;43m'\u001b[39;49m\n\u001b[0;32m      4\u001b[0m \u001b[43m)\u001b[49m\n\u001b[0;32m      5\u001b[0m plt\u001b[38;5;241m.\u001b[39mplot(\n\u001b[0;32m      6\u001b[0m     np\u001b[38;5;241m.\u001b[39marange(\u001b[38;5;241m1\u001b[39m, \u001b[38;5;241m51\u001b[39m), \n\u001b[0;32m      7\u001b[0m     history\u001b[38;5;241m.\u001b[39mhistory[\u001b[38;5;124m'\u001b[39m\u001b[38;5;124maccuracy\u001b[39m\u001b[38;5;124m'\u001b[39m], label\u001b[38;5;241m=\u001b[39m\u001b[38;5;124m'\u001b[39m\u001b[38;5;124mAccuracy\u001b[39m\u001b[38;5;124m'\u001b[39m\n\u001b[0;32m      8\u001b[0m )\n\u001b[0;32m      9\u001b[0m plt\u001b[38;5;241m.\u001b[39mplot(\n\u001b[0;32m     10\u001b[0m     np\u001b[38;5;241m.\u001b[39marange(\u001b[38;5;241m1\u001b[39m, \u001b[38;5;241m51\u001b[39m), \n\u001b[0;32m     11\u001b[0m     history\u001b[38;5;241m.\u001b[39mhistory[\u001b[38;5;124m'\u001b[39m\u001b[38;5;124mprecision\u001b[39m\u001b[38;5;124m'\u001b[39m], label\u001b[38;5;241m=\u001b[39m\u001b[38;5;124m'\u001b[39m\u001b[38;5;124mPrecision\u001b[39m\u001b[38;5;124m'\u001b[39m\n\u001b[0;32m     12\u001b[0m )\n",
      "File \u001b[1;32m~\\anaconda3\\lib\\site-packages\\matplotlib\\pyplot.py:2769\u001b[0m, in \u001b[0;36mplot\u001b[1;34m(scalex, scaley, data, *args, **kwargs)\u001b[0m\n\u001b[0;32m   2767\u001b[0m \u001b[38;5;129m@_copy_docstring_and_deprecators\u001b[39m(Axes\u001b[38;5;241m.\u001b[39mplot)\n\u001b[0;32m   2768\u001b[0m \u001b[38;5;28;01mdef\u001b[39;00m \u001b[38;5;21mplot\u001b[39m(\u001b[38;5;241m*\u001b[39margs, scalex\u001b[38;5;241m=\u001b[39m\u001b[38;5;28;01mTrue\u001b[39;00m, scaley\u001b[38;5;241m=\u001b[39m\u001b[38;5;28;01mTrue\u001b[39;00m, data\u001b[38;5;241m=\u001b[39m\u001b[38;5;28;01mNone\u001b[39;00m, \u001b[38;5;241m*\u001b[39m\u001b[38;5;241m*\u001b[39mkwargs):\n\u001b[1;32m-> 2769\u001b[0m     \u001b[38;5;28;01mreturn\u001b[39;00m gca()\u001b[38;5;241m.\u001b[39mplot(\n\u001b[0;32m   2770\u001b[0m         \u001b[38;5;241m*\u001b[39margs, scalex\u001b[38;5;241m=\u001b[39mscalex, scaley\u001b[38;5;241m=\u001b[39mscaley,\n\u001b[0;32m   2771\u001b[0m         \u001b[38;5;241m*\u001b[39m\u001b[38;5;241m*\u001b[39m({\u001b[38;5;124m\"\u001b[39m\u001b[38;5;124mdata\u001b[39m\u001b[38;5;124m\"\u001b[39m: data} \u001b[38;5;28;01mif\u001b[39;00m data \u001b[38;5;129;01mis\u001b[39;00m \u001b[38;5;129;01mnot\u001b[39;00m \u001b[38;5;28;01mNone\u001b[39;00m \u001b[38;5;28;01melse\u001b[39;00m {}), \u001b[38;5;241m*\u001b[39m\u001b[38;5;241m*\u001b[39mkwargs)\n",
      "File \u001b[1;32m~\\anaconda3\\lib\\site-packages\\matplotlib\\axes\\_axes.py:1632\u001b[0m, in \u001b[0;36mAxes.plot\u001b[1;34m(self, scalex, scaley, data, *args, **kwargs)\u001b[0m\n\u001b[0;32m   1390\u001b[0m \u001b[38;5;124;03m\"\"\"\u001b[39;00m\n\u001b[0;32m   1391\u001b[0m \u001b[38;5;124;03mPlot y versus x as lines and/or markers.\u001b[39;00m\n\u001b[0;32m   1392\u001b[0m \n\u001b[1;32m   (...)\u001b[0m\n\u001b[0;32m   1629\u001b[0m \u001b[38;5;124;03m(``'green'``) or hex strings (``'#008000'``).\u001b[39;00m\n\u001b[0;32m   1630\u001b[0m \u001b[38;5;124;03m\"\"\"\u001b[39;00m\n\u001b[0;32m   1631\u001b[0m kwargs \u001b[38;5;241m=\u001b[39m cbook\u001b[38;5;241m.\u001b[39mnormalize_kwargs(kwargs, mlines\u001b[38;5;241m.\u001b[39mLine2D)\n\u001b[1;32m-> 1632\u001b[0m lines \u001b[38;5;241m=\u001b[39m [\u001b[38;5;241m*\u001b[39m\u001b[38;5;28mself\u001b[39m\u001b[38;5;241m.\u001b[39m_get_lines(\u001b[38;5;241m*\u001b[39margs, data\u001b[38;5;241m=\u001b[39mdata, \u001b[38;5;241m*\u001b[39m\u001b[38;5;241m*\u001b[39mkwargs)]\n\u001b[0;32m   1633\u001b[0m \u001b[38;5;28;01mfor\u001b[39;00m line \u001b[38;5;129;01min\u001b[39;00m lines:\n\u001b[0;32m   1634\u001b[0m     \u001b[38;5;28mself\u001b[39m\u001b[38;5;241m.\u001b[39madd_line(line)\n",
      "File \u001b[1;32m~\\anaconda3\\lib\\site-packages\\matplotlib\\axes\\_base.py:312\u001b[0m, in \u001b[0;36m_process_plot_var_args.__call__\u001b[1;34m(self, data, *args, **kwargs)\u001b[0m\n\u001b[0;32m    310\u001b[0m     this \u001b[38;5;241m+\u001b[39m\u001b[38;5;241m=\u001b[39m args[\u001b[38;5;241m0\u001b[39m],\n\u001b[0;32m    311\u001b[0m     args \u001b[38;5;241m=\u001b[39m args[\u001b[38;5;241m1\u001b[39m:]\n\u001b[1;32m--> 312\u001b[0m \u001b[38;5;28;01myield from\u001b[39;00m \u001b[38;5;28;43mself\u001b[39;49m\u001b[38;5;241;43m.\u001b[39;49m\u001b[43m_plot_args\u001b[49m\u001b[43m(\u001b[49m\u001b[43mthis\u001b[49m\u001b[43m,\u001b[49m\u001b[43m \u001b[49m\u001b[43mkwargs\u001b[49m\u001b[43m)\u001b[49m\n",
      "File \u001b[1;32m~\\anaconda3\\lib\\site-packages\\matplotlib\\axes\\_base.py:498\u001b[0m, in \u001b[0;36m_process_plot_var_args._plot_args\u001b[1;34m(self, tup, kwargs, return_kwargs)\u001b[0m\n\u001b[0;32m    495\u001b[0m     \u001b[38;5;28mself\u001b[39m\u001b[38;5;241m.\u001b[39maxes\u001b[38;5;241m.\u001b[39myaxis\u001b[38;5;241m.\u001b[39mupdate_units(y)\n\u001b[0;32m    497\u001b[0m \u001b[38;5;28;01mif\u001b[39;00m x\u001b[38;5;241m.\u001b[39mshape[\u001b[38;5;241m0\u001b[39m] \u001b[38;5;241m!=\u001b[39m y\u001b[38;5;241m.\u001b[39mshape[\u001b[38;5;241m0\u001b[39m]:\n\u001b[1;32m--> 498\u001b[0m     \u001b[38;5;28;01mraise\u001b[39;00m \u001b[38;5;167;01mValueError\u001b[39;00m(\u001b[38;5;124mf\u001b[39m\u001b[38;5;124m\"\u001b[39m\u001b[38;5;124mx and y must have same first dimension, but \u001b[39m\u001b[38;5;124m\"\u001b[39m\n\u001b[0;32m    499\u001b[0m                      \u001b[38;5;124mf\u001b[39m\u001b[38;5;124m\"\u001b[39m\u001b[38;5;124mhave shapes \u001b[39m\u001b[38;5;132;01m{\u001b[39;00mx\u001b[38;5;241m.\u001b[39mshape\u001b[38;5;132;01m}\u001b[39;00m\u001b[38;5;124m and \u001b[39m\u001b[38;5;132;01m{\u001b[39;00my\u001b[38;5;241m.\u001b[39mshape\u001b[38;5;132;01m}\u001b[39;00m\u001b[38;5;124m\"\u001b[39m)\n\u001b[0;32m    500\u001b[0m \u001b[38;5;28;01mif\u001b[39;00m x\u001b[38;5;241m.\u001b[39mndim \u001b[38;5;241m>\u001b[39m \u001b[38;5;241m2\u001b[39m \u001b[38;5;129;01mor\u001b[39;00m y\u001b[38;5;241m.\u001b[39mndim \u001b[38;5;241m>\u001b[39m \u001b[38;5;241m2\u001b[39m:\n\u001b[0;32m    501\u001b[0m     \u001b[38;5;28;01mraise\u001b[39;00m \u001b[38;5;167;01mValueError\u001b[39;00m(\u001b[38;5;124mf\u001b[39m\u001b[38;5;124m\"\u001b[39m\u001b[38;5;124mx and y can be no greater than 2D, but have \u001b[39m\u001b[38;5;124m\"\u001b[39m\n\u001b[0;32m    502\u001b[0m                      \u001b[38;5;124mf\u001b[39m\u001b[38;5;124m\"\u001b[39m\u001b[38;5;124mshapes \u001b[39m\u001b[38;5;132;01m{\u001b[39;00mx\u001b[38;5;241m.\u001b[39mshape\u001b[38;5;132;01m}\u001b[39;00m\u001b[38;5;124m and \u001b[39m\u001b[38;5;132;01m{\u001b[39;00my\u001b[38;5;241m.\u001b[39mshape\u001b[38;5;132;01m}\u001b[39;00m\u001b[38;5;124m\"\u001b[39m)\n",
      "\u001b[1;31mValueError\u001b[0m: x and y must have same first dimension, but have shapes (50,) and (1,)"
     ]
    },
    {
     "data": {
      "image/png": "[encoded data removed]",
      "text/plain": [
       "<Figure size 1800x800 with 1 Axes>"
      ]
     },
     "metadata": {},
     "output_type": "display_data"
    }
   ],
   "source": [
    "plt.plot(\n",
    "    np.arange(1, 51), \n",
    "    history.history['loss'], label='Loss'\n",
    ")\n",
    "plt.plot(\n",
    "    np.arange(1, 51), \n",
    "    history.history['accuracy'], label='Accuracy'\n",
    ")\n",
    "plt.plot(\n",
    "    np.arange(1, 51), \n",
    "    history.history['precision'], label='Precision'\n",
    ")\n",
    "plt.plot(\n",
    "    np.arange(1, 51), \n",
    "    history.history['recall'], label='Recall'\n",
    ")\n",
    "plt.title('Evaluation metrics', size=20)\n",
    "plt.xlabel('Epoch', size=14)\n",
    "plt.legend();"
   ]
  },
  {
   "cell_type": "code",
   "execution_count": 51,
   "id": "82d5c938",
   "metadata": {},
   "outputs": [],
   "source": [
    "predictions = model.predict(X_test_tf)"
   ]
  },
  {
   "cell_type": "code",
   "execution_count": 52,
   "id": "90321717",
   "metadata": {},
   "outputs": [],
   "source": [
    "prediction_classes = [\n",
    "    1 if prob > 0.5 else 0 for prob in np.ravel(predictions)\n",
    "]"
   ]
  },
  {
   "cell_type": "code",
   "execution_count": 53,
   "id": "421dc085",
   "metadata": {},
   "outputs": [
    {
     "name": "stdout",
     "output_type": "stream",
     "text": [
      "Accuracy: 0.30\n",
      "Precision: 0.30\n",
      "Recall: 1.00\n"
     ]
    }
   ],
   "source": [
    "print(f'Accuracy: {metrics.accuracy_score(y_test, prediction_classes):.2f}')\n",
    "print(f'Precision: {metrics.precision_score(y_test, prediction_classes):.2f}')\n",
    "print(f'Recall: {metrics.recall_score(y_test, prediction_classes):.2f}')"
   ]
  },
  {
   "cell_type": "code",
   "execution_count": 54,
   "id": "8fdbea5f",
   "metadata": {},
   "outputs": [],
   "source": [
    "url = 'http://localhost:8000/lexer'\n",
    "\n",
    "def lexer(code):\n",
    "    data = {\"code\" : code}\n",
    "    x = requests.post(url, data=data)\n",
    "    return json.loads(x.text)[\"tokens\"]"
   ]
  },
  {
   "cell_type": "markdown",
   "id": "85c2b84b",
   "metadata": {},
   "source": [
    "## Custom word embedding using Transformers"
   ]
  },
  {
   "cell_type": "code",
   "execution_count": 55,
   "id": "6629b5e8",
   "metadata": {},
   "outputs": [],
   "source": [
    "import tensorflow as tf"
   ]
  },
  {
   "cell_type": "code",
   "execution_count": 56,
   "id": "44f52f24",
   "metadata": {},
   "outputs": [
    {
     "ename": "ValueError",
     "evalue": "Connection error, and we cannot find the requested files in the cached path. Please try again or make sure your Internet connection is on.",
     "output_type": "error",
     "traceback": [
      "\u001b[1;31m---------------------------------------------------------------------------\u001b[0m",
      "\u001b[1;31mValueError\u001b[0m                                Traceback (most recent call last)",
      "Input \u001b[1;32mIn [56]\u001b[0m, in \u001b[0;36m<cell line: 3>\u001b[1;34m()\u001b[0m\n\u001b[0;32m      1\u001b[0m \u001b[38;5;28;01mfrom\u001b[39;00m \u001b[38;5;21;01mtransformers\u001b[39;00m \u001b[38;5;28;01mimport\u001b[39;00m AutoTokenizer\n\u001b[1;32m----> 3\u001b[0m old_tokenizer \u001b[38;5;241m=\u001b[39m \u001b[43mAutoTokenizer\u001b[49m\u001b[38;5;241;43m.\u001b[39;49m\u001b[43mfrom_pretrained\u001b[49m\u001b[43m(\u001b[49m\u001b[38;5;124;43m\"\u001b[39;49m\u001b[38;5;124;43mgpt2\u001b[39;49m\u001b[38;5;124;43m\"\u001b[39;49m\u001b[43m)\u001b[49m\n",
      "File \u001b[1;32m~\\anaconda3\\lib\\site-packages\\transformers\\models\\auto\\tokenization_auto.py:428\u001b[0m, in \u001b[0;36mAutoTokenizer.from_pretrained\u001b[1;34m(cls, pretrained_model_name_or_path, *inputs, **kwargs)\u001b[0m\n\u001b[0;32m    425\u001b[0m use_fast \u001b[38;5;241m=\u001b[39m kwargs\u001b[38;5;241m.\u001b[39mpop(\u001b[38;5;124m\"\u001b[39m\u001b[38;5;124muse_fast\u001b[39m\u001b[38;5;124m\"\u001b[39m, \u001b[38;5;28;01mTrue\u001b[39;00m)\n\u001b[0;32m    427\u001b[0m \u001b[38;5;66;03m# First, let's try to use the tokenizer_config file to get the tokenizer class.\u001b[39;00m\n\u001b[1;32m--> 428\u001b[0m tokenizer_config \u001b[38;5;241m=\u001b[39m get_tokenizer_config(pretrained_model_name_or_path, \u001b[38;5;241m*\u001b[39m\u001b[38;5;241m*\u001b[39mkwargs)\n\u001b[0;32m    429\u001b[0m config_tokenizer_class \u001b[38;5;241m=\u001b[39m tokenizer_config\u001b[38;5;241m.\u001b[39mget(\u001b[38;5;124m\"\u001b[39m\u001b[38;5;124mtokenizer_class\u001b[39m\u001b[38;5;124m\"\u001b[39m)\n\u001b[0;32m    431\u001b[0m \u001b[38;5;66;03m# If that did not work, let's try to use the config.\u001b[39;00m\n",
      "File \u001b[1;32m~\\anaconda3\\lib\\site-packages\\transformers\\models\\auto\\tokenization_auto.py:321\u001b[0m, in \u001b[0;36mget_tokenizer_config\u001b[1;34m(pretrained_model_name_or_path, cache_dir, force_download, resume_download, proxies, use_auth_token, revision, local_files_only, **kwargs)\u001b[0m\n\u001b[0;32m    315\u001b[0m     config_file \u001b[38;5;241m=\u001b[39m hf_bucket_url(\n\u001b[0;32m    316\u001b[0m         pretrained_model_name_or_path, filename\u001b[38;5;241m=\u001b[39mTOKENIZER_CONFIG_FILE, revision\u001b[38;5;241m=\u001b[39mrevision, mirror\u001b[38;5;241m=\u001b[39m\u001b[38;5;28;01mNone\u001b[39;00m\n\u001b[0;32m    317\u001b[0m     )\n\u001b[0;32m    319\u001b[0m \u001b[38;5;28;01mtry\u001b[39;00m:\n\u001b[0;32m    320\u001b[0m     \u001b[38;5;66;03m# Load from URL or cache if already cached\u001b[39;00m\n\u001b[1;32m--> 321\u001b[0m     resolved_config_file \u001b[38;5;241m=\u001b[39m \u001b[43mcached_path\u001b[49m\u001b[43m(\u001b[49m\n\u001b[0;32m    322\u001b[0m \u001b[43m        \u001b[49m\u001b[43mconfig_file\u001b[49m\u001b[43m,\u001b[49m\n\u001b[0;32m    323\u001b[0m \u001b[43m        \u001b[49m\u001b[43mcache_dir\u001b[49m\u001b[38;5;241;43m=\u001b[39;49m\u001b[43mcache_dir\u001b[49m\u001b[43m,\u001b[49m\n\u001b[0;32m    324\u001b[0m \u001b[43m        \u001b[49m\u001b[43mforce_download\u001b[49m\u001b[38;5;241;43m=\u001b[39;49m\u001b[43mforce_download\u001b[49m\u001b[43m,\u001b[49m\n\u001b[0;32m    325\u001b[0m \u001b[43m        \u001b[49m\u001b[43mproxies\u001b[49m\u001b[38;5;241;43m=\u001b[39;49m\u001b[43mproxies\u001b[49m\u001b[43m,\u001b[49m\n\u001b[0;32m    326\u001b[0m \u001b[43m        \u001b[49m\u001b[43mresume_download\u001b[49m\u001b[38;5;241;43m=\u001b[39;49m\u001b[43mresume_download\u001b[49m\u001b[43m,\u001b[49m\n\u001b[0;32m    327\u001b[0m \u001b[43m        \u001b[49m\u001b[43mlocal_files_only\u001b[49m\u001b[38;5;241;43m=\u001b[39;49m\u001b[43mlocal_files_only\u001b[49m\u001b[43m,\u001b[49m\n\u001b[0;32m    328\u001b[0m \u001b[43m        \u001b[49m\u001b[43muse_auth_token\u001b[49m\u001b[38;5;241;43m=\u001b[39;49m\u001b[43muse_auth_token\u001b[49m\u001b[43m,\u001b[49m\n\u001b[0;32m    329\u001b[0m \u001b[43m    \u001b[49m\u001b[43m)\u001b[49m\n\u001b[0;32m    331\u001b[0m \u001b[38;5;28;01mexcept\u001b[39;00m \u001b[38;5;167;01mEnvironmentError\u001b[39;00m:\n\u001b[0;32m    332\u001b[0m     logger\u001b[38;5;241m.\u001b[39minfo(\u001b[38;5;124m\"\u001b[39m\u001b[38;5;124mCould not locate the tokenizer configuration file, will try to use the model config instead.\u001b[39m\u001b[38;5;124m\"\u001b[39m)\n",
      "File \u001b[1;32m~\\anaconda3\\lib\\site-packages\\transformers\\file_utils.py:1404\u001b[0m, in \u001b[0;36mcached_path\u001b[1;34m(url_or_filename, cache_dir, force_download, proxies, resume_download, user_agent, extract_compressed_file, force_extract, use_auth_token, local_files_only)\u001b[0m\n\u001b[0;32m   1400\u001b[0m     local_files_only \u001b[38;5;241m=\u001b[39m \u001b[38;5;28;01mTrue\u001b[39;00m\n\u001b[0;32m   1402\u001b[0m \u001b[38;5;28;01mif\u001b[39;00m is_remote_url(url_or_filename):\n\u001b[0;32m   1403\u001b[0m     \u001b[38;5;66;03m# URL, so get it from the cache (downloading if necessary)\u001b[39;00m\n\u001b[1;32m-> 1404\u001b[0m     output_path \u001b[38;5;241m=\u001b[39m \u001b[43mget_from_cache\u001b[49m\u001b[43m(\u001b[49m\n\u001b[0;32m   1405\u001b[0m \u001b[43m        \u001b[49m\u001b[43murl_or_filename\u001b[49m\u001b[43m,\u001b[49m\n\u001b[0;32m   1406\u001b[0m \u001b[43m        \u001b[49m\u001b[43mcache_dir\u001b[49m\u001b[38;5;241;43m=\u001b[39;49m\u001b[43mcache_dir\u001b[49m\u001b[43m,\u001b[49m\n\u001b[0;32m   1407\u001b[0m \u001b[43m        \u001b[49m\u001b[43mforce_download\u001b[49m\u001b[38;5;241;43m=\u001b[39;49m\u001b[43mforce_download\u001b[49m\u001b[43m,\u001b[49m\n\u001b[0;32m   1408\u001b[0m \u001b[43m        \u001b[49m\u001b[43mproxies\u001b[49m\u001b[38;5;241;43m=\u001b[39;49m\u001b[43mproxies\u001b[49m\u001b[43m,\u001b[49m\n\u001b[0;32m   1409\u001b[0m \u001b[43m        \u001b[49m\u001b[43mresume_download\u001b[49m\u001b[38;5;241;43m=\u001b[39;49m\u001b[43mresume_download\u001b[49m\u001b[43m,\u001b[49m\n\u001b[0;32m   1410\u001b[0m \u001b[43m        \u001b[49m\u001b[43muser_agent\u001b[49m\u001b[38;5;241;43m=\u001b[39;49m\u001b[43muser_agent\u001b[49m\u001b[43m,\u001b[49m\n\u001b[0;32m   1411\u001b[0m \u001b[43m        \u001b[49m\u001b[43muse_auth_token\u001b[49m\u001b[38;5;241;43m=\u001b[39;49m\u001b[43muse_auth_token\u001b[49m\u001b[43m,\u001b[49m\n\u001b[0;32m   1412\u001b[0m \u001b[43m        \u001b[49m\u001b[43mlocal_files_only\u001b[49m\u001b[38;5;241;43m=\u001b[39;49m\u001b[43mlocal_files_only\u001b[49m\u001b[43m,\u001b[49m\n\u001b[0;32m   1413\u001b[0m \u001b[43m    \u001b[49m\u001b[43m)\u001b[49m\n\u001b[0;32m   1414\u001b[0m \u001b[38;5;28;01melif\u001b[39;00m os\u001b[38;5;241m.\u001b[39mpath\u001b[38;5;241m.\u001b[39mexists(url_or_filename):\n\u001b[0;32m   1415\u001b[0m     \u001b[38;5;66;03m# File, and it exists.\u001b[39;00m\n\u001b[0;32m   1416\u001b[0m     output_path \u001b[38;5;241m=\u001b[39m url_or_filename\n",
      "File \u001b[1;32m~\\anaconda3\\lib\\site-packages\\transformers\\file_utils.py:1627\u001b[0m, in \u001b[0;36mget_from_cache\u001b[1;34m(url, cache_dir, force_download, proxies, etag_timeout, resume_download, user_agent, use_auth_token, local_files_only)\u001b[0m\n\u001b[0;32m   1621\u001b[0m                 \u001b[38;5;28;01mraise\u001b[39;00m \u001b[38;5;167;01mFileNotFoundError\u001b[39;00m(\n\u001b[0;32m   1622\u001b[0m                     \u001b[38;5;124m\"\u001b[39m\u001b[38;5;124mCannot find the requested files in the cached path and outgoing traffic has been\u001b[39m\u001b[38;5;124m\"\u001b[39m\n\u001b[0;32m   1623\u001b[0m                     \u001b[38;5;124m\"\u001b[39m\u001b[38;5;124m disabled. To enable model look-ups and downloads online, set \u001b[39m\u001b[38;5;124m'\u001b[39m\u001b[38;5;124mlocal_files_only\u001b[39m\u001b[38;5;124m'\u001b[39m\u001b[38;5;124m\"\u001b[39m\n\u001b[0;32m   1624\u001b[0m                     \u001b[38;5;124m\"\u001b[39m\u001b[38;5;124m to False.\u001b[39m\u001b[38;5;124m\"\u001b[39m\n\u001b[0;32m   1625\u001b[0m                 )\n\u001b[0;32m   1626\u001b[0m             \u001b[38;5;28;01melse\u001b[39;00m:\n\u001b[1;32m-> 1627\u001b[0m                 \u001b[38;5;28;01mraise\u001b[39;00m \u001b[38;5;167;01mValueError\u001b[39;00m(\n\u001b[0;32m   1628\u001b[0m                     \u001b[38;5;124m\"\u001b[39m\u001b[38;5;124mConnection error, and we cannot find the requested files in the cached path.\u001b[39m\u001b[38;5;124m\"\u001b[39m\n\u001b[0;32m   1629\u001b[0m                     \u001b[38;5;124m\"\u001b[39m\u001b[38;5;124m Please try again or make sure your Internet connection is on.\u001b[39m\u001b[38;5;124m\"\u001b[39m\n\u001b[0;32m   1630\u001b[0m                 )\n\u001b[0;32m   1632\u001b[0m \u001b[38;5;66;03m# From now on, etag is not None.\u001b[39;00m\n\u001b[0;32m   1633\u001b[0m \u001b[38;5;28;01mif\u001b[39;00m os\u001b[38;5;241m.\u001b[39mpath\u001b[38;5;241m.\u001b[39mexists(cache_path) \u001b[38;5;129;01mand\u001b[39;00m \u001b[38;5;129;01mnot\u001b[39;00m force_download:\n",
      "\u001b[1;31mValueError\u001b[0m: Connection error, and we cannot find the requested files in the cached path. Please try again or make sure your Internet connection is on."
     ]
    }
   ],
   "source": [
    "from transformers import AutoTokenizer\n",
    "\n",
    "old_tokenizer = AutoTokenizer.from_pretrained(\"gpt2\")"
   ]
  },
  {
   "cell_type": "code",
   "execution_count": null,
   "id": "ff3027b4",
   "metadata": {},
   "outputs": [],
   "source": [
    "def get_training_corpus():\n",
    "    dataset = df[df['error_check']!=1]\n",
    "    for start_idx in range(0, len(dataset), 300):\n",
    "        samples = dataset[start_idx : start_idx + 300]\n",
    "        yield samples[\"code\"]"
   ]
  },
  {
   "cell_type": "code",
   "execution_count": null,
   "id": "ffef012a",
   "metadata": {},
   "outputs": [],
   "source": [
    "example = '''#include <stdio.h>\n",
    "#include <stdlib.h>\n",
    "int main() {\n",
    "\tint i,siz1,siz2;\n",
    "\tscanf(\"\"%d\"\",siz1);\n",
    "\tscanf(\"\"%d\"\",siz2);\n",
    "\tchar ch1[siz1];\n",
    "\tchar ch2[siz2];\n",
    "\tfor(i=0;i<siz1;i++)\n",
    "\tch1[i]= getchar();\n",
    "\tfor(i=0;i<siz1;i++)\n",
    "\tputchar(ch1[i]);\n",
    "\treturn 0;\n",
    "}'''\n",
    "\n",
    "tokens = old_tokenizer.tokenize(example)\n",
    "tokens"
   ]
  },
  {
   "cell_type": "code",
   "execution_count": 57,
   "id": "4167a635",
   "metadata": {},
   "outputs": [
    {
     "ename": "NameError",
     "evalue": "name 'get_training_corpus' is not defined",
     "output_type": "error",
     "traceback": [
      "\u001b[1;31m---------------------------------------------------------------------------\u001b[0m",
      "\u001b[1;31mNameError\u001b[0m                                 Traceback (most recent call last)",
      "Input \u001b[1;32mIn [57]\u001b[0m, in \u001b[0;36m<cell line: 1>\u001b[1;34m()\u001b[0m\n\u001b[1;32m----> 1\u001b[0m training_corpus \u001b[38;5;241m=\u001b[39m \u001b[43mget_training_corpus\u001b[49m()\n\u001b[0;32m      2\u001b[0m training_corpus\n",
      "\u001b[1;31mNameError\u001b[0m: name 'get_training_corpus' is not defined"
     ]
    }
   ],
   "source": [
    "training_corpus = get_training_corpus()\n",
    "training_corpus"
   ]
  },
  {
   "cell_type": "code",
   "execution_count": null,
   "id": "eb9e61a5",
   "metadata": {},
   "outputs": [],
   "source": [
    "tokenizer = old_tokenizer.train_new_from_iterator(training_corpus, 3000)"
   ]
  },
  {
   "cell_type": "code",
   "execution_count": null,
   "id": "d1654a33",
   "metadata": {},
   "outputs": [],
   "source": [
    "tokens = tokenizer.tokenize(example)\n",
    "tokens"
   ]
  },
  {
   "cell_type": "code",
   "execution_count": null,
   "id": "e0b338b7",
   "metadata": {},
   "outputs": [],
   "source": [
    "print(len(tokens))\n",
    "print(len(old_tokenizer.tokenize(example)))"
   ]
  },
  {
   "cell_type": "code",
   "execution_count": null,
   "id": "f9628d2e",
   "metadata": {},
   "outputs": [],
   "source": [
    "tokenized = tokenizer.tokenize(example)\n",
    "tokenized"
   ]
  },
  {
   "cell_type": "code",
   "execution_count": null,
   "id": "3a4588a6",
   "metadata": {},
   "outputs": [],
   "source": [
    "if tokenizer.pad_token is None:\n",
    "    tokenizer.add_special_tokens({'pad_token': '[PAD]'})\n",
    "\n",
    "bert_input = tokenizer.encode_plus(\n",
    "                        example,                      \n",
    "                        add_special_tokens = True, # add [CLS], [SEP]\n",
    "                        max_length = 300, # max length of the text that can go to BERT\n",
    "                        padding='longest', # add [PAD] tokens\n",
    "                        return_attention_mask = True, # add attention mask to not focus on pad tokens\n",
    "              )\n",
    "\n",
    "print('encoded', bert_input)"
   ]
  },
  {
   "cell_type": "code",
   "execution_count": null,
   "id": "8ac0e59c",
   "metadata": {},
   "outputs": [],
   "source": [
    "from transformers import GPT2LMHeadModel, AutoConfig\n",
    "\n",
    "config = AutoConfig.from_pretrained(\n",
    "    \"gpt2\",\n",
    "    vocab_size=len(tokenizer),\n",
    "    n_ctx=128,\n",
    "    bos_token_id=tokenizer.bos_token_id,\n",
    "    eos_token_id=tokenizer.eos_token_id,\n",
    "    output_attentions=True\n",
    "    \n",
    ")"
   ]
  },
  {
   "cell_type": "code",
   "execution_count": null,
   "id": "871a8684",
   "metadata": {},
   "outputs": [],
   "source": [
    "model = GPT2LMHeadModel(config)\n",
    "model_size = sum(t.numel() for t in model.parameters())\n",
    "print(f\"GPT-2 size: {model_size/1000**2:.1f}M parameters\")"
   ]
  },
  {
   "cell_type": "code",
   "execution_count": null,
   "id": "9ab6d053",
   "metadata": {},
   "outputs": [],
   "source": [
    "from transformers import TFBertForSequenceClassification\n",
    "\n",
    "model = TFBertForSequenceClassification.from_pretrained('bert-base-uncased')"
   ]
  },
  {
   "cell_type": "code",
   "execution_count": null,
   "id": "eb00d11d",
   "metadata": {},
   "outputs": [],
   "source": [
    "learning_rate = 2e-5\n",
    "\n",
    "# optimizer Adam\n",
    "optimizer = tf.keras.optimizers.Adam(learning_rate=learning_rate, epsilon=1e-08)\n",
    "\n",
    "# we do not have one-hot vectors, we can use sparce categorical cross entropy and accuracy\n",
    "loss = tf.keras.losses.SparseCategoricalCrossentropy(from_logits=True)\n",
    "\n",
    "# Compile the model\n",
    "model.compile(optimizer = optimizer, loss = loss, metrics = ['accuracy'])\n",
    "\n",
    "# Tokenize the input (takes some time)\n",
    "x_train = tokenizer(\n",
    "          text=X_train.to_list(),\n",
    "          add_special_tokens=True,\n",
    "          max_length=300,\n",
    "          truncation=False,\n",
    "          padding=True, \n",
    "          return_tensors='tf',\n",
    "          return_token_type_ids = False,\n",
    "          return_attention_mask = True,\n",
    "          verbose = True)\n",
    "\n",
    "x_val = tokenizer(\n",
    "          text=X_test.to_list(),\n",
    "          add_special_tokens=True,\n",
    "          max_length=300,\n",
    "          truncation=True,\n",
    "          padding=True, \n",
    "          return_tensors='tf',\n",
    "          return_token_type_ids = False,\n",
    "          return_attention_mask = True,\n",
    "          verbose = True)\n",
    "\n",
    "# Fit the model\n",
    "history = model.fit(\n",
    "    x={'input_ids': x_train['input_ids']},\n",
    "    y={'error_check': y_train},\n",
    "    validation_data=({'input_ids': x_val['input_ids']},{'error_check': y_test}),\n",
    "    batch_size=100,\n",
    "    epochs=2,\n",
    "    verbose=1)"
   ]
  },
  {
   "cell_type": "code",
   "execution_count": null,
   "id": "0fdcdb3e",
   "metadata": {},
   "outputs": [],
   "source": [
    "model_eval = model.evaluate(\n",
    "    x={'input_ids': x_val['input_ids']},\n",
    "    y={'error_check': y_test}\n",
    ")"
   ]
  },
  {
   "cell_type": "code",
   "execution_count": null,
   "id": "530f94e6",
   "metadata": {},
   "outputs": [],
   "source": [
    "y_val_predicted = model.predict(\n",
    "    x={'input_ids': x_val['input_ids']},\n",
    ")"
   ]
  },
  {
   "cell_type": "code",
   "execution_count": null,
   "id": "9c10d5d5",
   "metadata": {},
   "outputs": [],
   "source": [
    "y_val_pred_max=[np.argmax(i) for i in y_val_predicted['error_check']]"
   ]
  },
  {
   "cell_type": "code",
   "execution_count": null,
   "id": "f12c78e7",
   "metadata": {},
   "outputs": [],
   "source": [
    "y_val_actual_max=[np.argmax(i) for i in y_val]"
   ]
  },
  {
   "cell_type": "code",
   "execution_count": null,
   "id": "b3c3dd63",
   "metadata": {},
   "outputs": [],
   "source": []
  },
  {
   "cell_type": "code",
   "execution_count": null,
   "id": "6dab39f7",
   "metadata": {},
   "outputs": [],
   "source": [
    "from sklearn.metrics import classification_report\n",
    "report = classification_report(y_val_pred_max, y_val_actual_max)\n",
    "print(report)"
   ]
  },
  {
   "cell_type": "code",
   "execution_count": null,
   "id": "314e16f8",
   "metadata": {},
   "outputs": [],
   "source": []
  }
 ],
 "metadata": {
  "kernelspec": {
   "display_name": "Python 3 (ipykernel)",
   "language": "python",
   "name": "python3"
  },
  "language_info": {
   "codemirror_mode": {
    "name": "ipython",
    "version": 3
   },
   "file_extension": ".py",
   "mimetype": "text/x-python",
   "name": "python",
   "nbconvert_exporter": "python",
   "pygments_lexer": "ipython3",
   "version": "3.9.12"
  }
 },
 "nbformat": 4,
 "nbformat_minor": 5
}
