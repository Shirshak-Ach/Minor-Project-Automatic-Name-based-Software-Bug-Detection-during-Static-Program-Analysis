{
 "cells": [
  {
   "cell_type": "code",
   "execution_count": null,
   "metadata": {
    "_cell_guid": "b1076dfc-b9ad-4769-8c92-a6c4dae69d19",
    "_uuid": "8f2839f25d086af736a60e9eeb907d3b93b6e0e5"
   },
   "outputs": [],
   "source": [
    "# # This Python 3 environment comes with many helpful analytics libraries installed\n",
    "# # It is defined by the kaggle/python Docker image: https://github.com/kaggle/docker-python\n",
    "# # For example, here's several helpful packages to load\n",
    "\n",
    "# import numpy as np # linear algebra\n",
    "# import pandas as pd # data processing, CSV file I/O (e.g. pd.read_csv)\n",
    "\n",
    "# # Input data files are available in the read-only \"../input/\" directory\n",
    "# # For example, running this (by clicking run or pressing Shift+Enter) will list all files under the input directory\n",
    "\n",
    "# import os\n",
    "# for dirname, _, filenames in os.walk('/kaggle/input'):\n",
    "#     for filename in filenames:\n",
    "#         print(os.path.join(dirname, filename))\n",
    "\n",
    "# # You can write up to 20GB to the current directory (/kaggle/working/) that gets preserved as output when you create a version using \"Save & Run All\" \n",
    "# # You can also write temporary files to /kaggle/temp/, but they won't be saved outside of the current session"
   ]
  },
  {
   "cell_type": "code",
   "execution_count": 1,
   "metadata": {
    "execution": {
     "iopub.execute_input": "2023-02-01T16:57:11.869540Z",
     "iopub.status.busy": "2023-02-01T16:57:11.868566Z",
     "iopub.status.idle": "2023-02-01T16:57:14.834259Z",
     "shell.execute_reply": "2023-02-01T16:57:14.833233Z",
     "shell.execute_reply.started": "2023-02-01T16:57:11.869453Z"
    }
   },
   "outputs": [],
   "source": [
    "from transformers import RobertaTokenizer, RobertaConfig, RobertaModel\n",
    "from transformers import InputExample, InputFeatures\n",
    "import tensorflow as tf\n",
    "import pandas as pd\n",
    "import re"
   ]
  },
  {
   "cell_type": "code",
   "execution_count": 2,
   "metadata": {
    "execution": {
     "iopub.execute_input": "2023-02-01T16:57:14.842483Z",
     "iopub.status.busy": "2023-02-01T16:57:14.842045Z",
     "iopub.status.idle": "2023-02-01T16:57:14.936591Z",
     "shell.execute_reply": "2023-02-01T16:57:14.935605Z",
     "shell.execute_reply.started": "2023-02-01T16:57:14.842447Z"
    }
   },
   "outputs": [],
   "source": [
    "df = pd.read_csv(\"/kaggle/input/c-code-from-project-codenet/function_swap_samples_revised.txt\",sep='\\t')#/kaggle/input/my-data\n",
    "#df.columns = [\"function_name\",\"arg1\",\"arg2\",\"arg_type\",\"param1\",\"param2\",\"labels\"]"
   ]
  },
  {
   "cell_type": "code",
   "execution_count": 3,
   "metadata": {
    "execution": {
     "iopub.execute_input": "2023-02-01T16:57:14.938442Z",
     "iopub.status.busy": "2023-02-01T16:57:14.937949Z",
     "iopub.status.idle": "2023-02-01T16:57:14.960107Z",
     "shell.execute_reply": "2023-02-01T16:57:14.959159Z",
     "shell.execute_reply.started": "2023-02-01T16:57:14.938386Z"
    }
   },
   "outputs": [
    {
     "data": {
      "text/html": [
       "<div>\n",
       "<style scoped>\n",
       "    .dataframe tbody tr th:only-of-type {\n",
       "        vertical-align: middle;\n",
       "    }\n",
       "\n",
       "    .dataframe tbody tr th {\n",
       "        vertical-align: top;\n",
       "    }\n",
       "\n",
       "    .dataframe thead th {\n",
       "        text-align: right;\n",
       "    }\n",
       "</style>\n",
       "<table border=\"1\" class=\"dataframe\">\n",
       "  <thead>\n",
       "    <tr style=\"text-align: right;\">\n",
       "      <th></th>\n",
       "      <th>function_name</th>\n",
       "      <th>arg1</th>\n",
       "      <th>arg2</th>\n",
       "      <th>arg_type</th>\n",
       "      <th>param1</th>\n",
       "      <th>param2</th>\n",
       "      <th>labels</th>\n",
       "    </tr>\n",
       "  </thead>\n",
       "  <tbody>\n",
       "    <tr>\n",
       "      <th>0</th>\n",
       "      <td>fopen</td>\n",
       "      <td>file</td>\n",
       "      <td>r</td>\n",
       "      <td>FILE *</td>\n",
       "      <td>__filename</td>\n",
       "      <td>__modes</td>\n",
       "      <td>0</td>\n",
       "    </tr>\n",
       "    <tr>\n",
       "      <th>1</th>\n",
       "      <td>fopen</td>\n",
       "      <td>r</td>\n",
       "      <td>file</td>\n",
       "      <td>FILE *</td>\n",
       "      <td>__filename</td>\n",
       "      <td>__modes</td>\n",
       "      <td>1</td>\n",
       "    </tr>\n",
       "    <tr>\n",
       "      <th>2</th>\n",
       "      <td>fopen</td>\n",
       "      <td>tempbuf</td>\n",
       "      <td>wt</td>\n",
       "      <td>FILE *</td>\n",
       "      <td>__filename</td>\n",
       "      <td>__modes</td>\n",
       "      <td>0</td>\n",
       "    </tr>\n",
       "    <tr>\n",
       "      <th>3</th>\n",
       "      <td>fopen</td>\n",
       "      <td>wt</td>\n",
       "      <td>tempbuf</td>\n",
       "      <td>FILE *</td>\n",
       "      <td>__filename</td>\n",
       "      <td>__modes</td>\n",
       "      <td>1</td>\n",
       "    </tr>\n",
       "    <tr>\n",
       "      <th>4</th>\n",
       "      <td>strcmp</td>\n",
       "      <td>ext</td>\n",
       "      <td>extension</td>\n",
       "      <td>int</td>\n",
       "      <td>NaN</td>\n",
       "      <td>NaN</td>\n",
       "      <td>0</td>\n",
       "    </tr>\n",
       "    <tr>\n",
       "      <th>...</th>\n",
       "      <td>...</td>\n",
       "      <td>...</td>\n",
       "      <td>...</td>\n",
       "      <td>...</td>\n",
       "      <td>...</td>\n",
       "      <td>...</td>\n",
       "      <td>...</td>\n",
       "    </tr>\n",
       "    <tr>\n",
       "      <th>87685</th>\n",
       "      <td>test3f</td>\n",
       "      <td>-</td>\n",
       "      <td>1.0f</td>\n",
       "      <td>float</td>\n",
       "      <td>x</td>\n",
       "      <td>y</td>\n",
       "      <td>1</td>\n",
       "    </tr>\n",
       "    <tr>\n",
       "      <th>87686</th>\n",
       "      <td>test3f</td>\n",
       "      <td>2.0f</td>\n",
       "      <td>1.0f</td>\n",
       "      <td>float</td>\n",
       "      <td>x</td>\n",
       "      <td>y</td>\n",
       "      <td>0</td>\n",
       "    </tr>\n",
       "    <tr>\n",
       "      <th>87687</th>\n",
       "      <td>test3f</td>\n",
       "      <td>1.0f</td>\n",
       "      <td>2.0f</td>\n",
       "      <td>float</td>\n",
       "      <td>x</td>\n",
       "      <td>y</td>\n",
       "      <td>1</td>\n",
       "    </tr>\n",
       "    <tr>\n",
       "      <th>87688</th>\n",
       "      <td>test3f</td>\n",
       "      <td>2.0f</td>\n",
       "      <td>-</td>\n",
       "      <td>float</td>\n",
       "      <td>x</td>\n",
       "      <td>y</td>\n",
       "      <td>0</td>\n",
       "    </tr>\n",
       "    <tr>\n",
       "      <th>87689</th>\n",
       "      <td>test3f</td>\n",
       "      <td>-</td>\n",
       "      <td>2.0f</td>\n",
       "      <td>float</td>\n",
       "      <td>x</td>\n",
       "      <td>y</td>\n",
       "      <td>1</td>\n",
       "    </tr>\n",
       "  </tbody>\n",
       "</table>\n",
       "<p>87690 rows × 7 columns</p>\n",
       "</div>"
      ],
      "text/plain": [
       "      function_name     arg1       arg2 arg_type      param1   param2  labels\n",
       "0             fopen     file          r   FILE *  __filename  __modes       0\n",
       "1             fopen        r       file   FILE *  __filename  __modes       1\n",
       "2             fopen  tempbuf         wt   FILE *  __filename  __modes       0\n",
       "3             fopen       wt    tempbuf   FILE *  __filename  __modes       1\n",
       "4            strcmp      ext  extension      int         NaN      NaN       0\n",
       "...             ...      ...        ...      ...         ...      ...     ...\n",
       "87685        test3f        -       1.0f    float           x        y       1\n",
       "87686        test3f     2.0f       1.0f    float           x        y       0\n",
       "87687        test3f     1.0f       2.0f    float           x        y       1\n",
       "87688        test3f     2.0f          -    float           x        y       0\n",
       "87689        test3f        -       2.0f    float           x        y       1\n",
       "\n",
       "[87690 rows x 7 columns]"
      ]
     },
     "execution_count": 3,
     "metadata": {},
     "output_type": "execute_result"
    }
   ],
   "source": [
    "df"
   ]
  },
  {
   "cell_type": "code",
   "execution_count": 4,
   "metadata": {
    "execution": {
     "iopub.execute_input": "2023-02-01T16:57:14.963645Z",
     "iopub.status.busy": "2023-02-01T16:57:14.963205Z",
     "iopub.status.idle": "2023-02-01T16:57:14.990491Z",
     "shell.execute_reply": "2023-02-01T16:57:14.989282Z",
     "shell.execute_reply.started": "2023-02-01T16:57:14.963609Z"
    }
   },
   "outputs": [
    {
     "data": {
      "text/plain": [
       "function_name      646\n",
       "arg1               702\n",
       "arg2               702\n",
       "arg_type             0\n",
       "param1           64808\n",
       "param2           64778\n",
       "labels               0\n",
       "dtype: int64"
      ]
     },
     "execution_count": 4,
     "metadata": {},
     "output_type": "execute_result"
    }
   ],
   "source": [
    "df.isna().sum()"
   ]
  },
  {
   "cell_type": "code",
   "execution_count": 5,
   "metadata": {
    "execution": {
     "iopub.execute_input": "2023-02-01T16:57:14.994766Z",
     "iopub.status.busy": "2023-02-01T16:57:14.991935Z",
     "iopub.status.idle": "2023-02-01T16:57:14.998799Z",
     "shell.execute_reply": "2023-02-01T16:57:14.997820Z",
     "shell.execute_reply.started": "2023-02-01T16:57:14.994737Z"
    }
   },
   "outputs": [],
   "source": [
    "# df.drop(['Unnamed: 7','Unnamed: 8','Unnamed: 9','Unnamed: 10','Unnamed: 11'],axis=1,inplace=True)\n",
    "# df"
   ]
  },
  {
   "cell_type": "code",
   "execution_count": 6,
   "metadata": {
    "execution": {
     "iopub.execute_input": "2023-02-01T16:57:15.001214Z",
     "iopub.status.busy": "2023-02-01T16:57:15.000901Z",
     "iopub.status.idle": "2023-02-01T16:57:15.007676Z",
     "shell.execute_reply": "2023-02-01T16:57:15.006595Z",
     "shell.execute_reply.started": "2023-02-01T16:57:15.001173Z"
    }
   },
   "outputs": [],
   "source": [
    "# df.isna().sum()"
   ]
  },
  {
   "cell_type": "code",
   "execution_count": 7,
   "metadata": {
    "execution": {
     "iopub.execute_input": "2023-02-01T16:57:15.009996Z",
     "iopub.status.busy": "2023-02-01T16:57:15.009531Z",
     "iopub.status.idle": "2023-02-01T16:57:15.047980Z",
     "shell.execute_reply": "2023-02-01T16:57:15.047078Z",
     "shell.execute_reply.started": "2023-02-01T16:57:15.009961Z"
    }
   },
   "outputs": [],
   "source": [
    "df[\"function_name\"] = df[\"function_name\"].fillna('[UNK]')\n",
    "df[\"arg1\"]=df[\"arg1\"].fillna('[UNK]')\n",
    "df[\"arg2\"]=df[\"arg2\"].fillna('[UNK]')\n",
    "df[\"arg_type\"]=df[\"arg_type\"].fillna('[UNK]')\n",
    "df[\"param1\"]=df[\"param1\"].fillna('[UNK]')\n",
    "df[\"param2\"]=df[\"param2\"].fillna('[UNK]')"
   ]
  },
  {
   "cell_type": "code",
   "execution_count": 8,
   "metadata": {
    "execution": {
     "iopub.execute_input": "2023-02-01T16:57:15.051466Z",
     "iopub.status.busy": "2023-02-01T16:57:15.051179Z",
     "iopub.status.idle": "2023-02-01T16:57:15.077327Z",
     "shell.execute_reply": "2023-02-01T16:57:15.075878Z",
     "shell.execute_reply.started": "2023-02-01T16:57:15.051440Z"
    }
   },
   "outputs": [
    {
     "data": {
      "text/plain": [
       "function_name    0\n",
       "arg1             0\n",
       "arg2             0\n",
       "arg_type         0\n",
       "param1           0\n",
       "param2           0\n",
       "labels           0\n",
       "dtype: int64"
      ]
     },
     "execution_count": 8,
     "metadata": {},
     "output_type": "execute_result"
    }
   ],
   "source": [
    "df.isna().sum()"
   ]
  },
  {
   "cell_type": "code",
   "execution_count": 9,
   "metadata": {
    "execution": {
     "iopub.execute_input": "2023-02-01T16:57:15.079547Z",
     "iopub.status.busy": "2023-02-01T16:57:15.078916Z",
     "iopub.status.idle": "2023-02-01T16:57:15.085254Z",
     "shell.execute_reply": "2023-02-01T16:57:15.083205Z",
     "shell.execute_reply.started": "2023-02-01T16:57:15.079510Z"
    }
   },
   "outputs": [],
   "source": [
    "# df.dropna(inplace=True)"
   ]
  },
  {
   "cell_type": "code",
   "execution_count": 10,
   "metadata": {
    "execution": {
     "iopub.execute_input": "2023-02-01T16:57:15.087669Z",
     "iopub.status.busy": "2023-02-01T16:57:15.086597Z",
     "iopub.status.idle": "2023-02-01T16:57:15.115719Z",
     "shell.execute_reply": "2023-02-01T16:57:15.114692Z",
     "shell.execute_reply.started": "2023-02-01T16:57:15.087630Z"
    }
   },
   "outputs": [
    {
     "data": {
      "text/plain": [
       "function_name    0\n",
       "arg1             0\n",
       "arg2             0\n",
       "arg_type         0\n",
       "param1           0\n",
       "param2           0\n",
       "labels           0\n",
       "dtype: int64"
      ]
     },
     "execution_count": 10,
     "metadata": {},
     "output_type": "execute_result"
    }
   ],
   "source": [
    "df.isna().sum()"
   ]
  },
  {
   "cell_type": "code",
   "execution_count": 11,
   "metadata": {
    "execution": {
     "iopub.execute_input": "2023-02-01T16:57:15.117602Z",
     "iopub.status.busy": "2023-02-01T16:57:15.117155Z",
     "iopub.status.idle": "2023-02-01T16:57:15.208299Z",
     "shell.execute_reply": "2023-02-01T16:57:15.207327Z",
     "shell.execute_reply.started": "2023-02-01T16:57:15.117567Z"
    }
   },
   "outputs": [],
   "source": [
    "df['total'] = df[\"function_name\"] + '[PAD]'+ df[\"arg1\"] + '[PAD]'+df[\"arg2\"] + '[PAD]'+ df[\"arg_type\"] + '[PAD]'+df[\"param1\"]+ '[PAD]'+ df[\"param2\"]"
   ]
  },
  {
   "cell_type": "code",
   "execution_count": 12,
   "metadata": {
    "execution": {
     "iopub.execute_input": "2023-02-01T16:57:16.566147Z",
     "iopub.status.busy": "2023-02-01T16:57:16.565762Z",
     "iopub.status.idle": "2023-02-01T16:57:16.601261Z",
     "shell.execute_reply": "2023-02-01T16:57:16.599756Z",
     "shell.execute_reply.started": "2023-02-01T16:57:16.566114Z"
    }
   },
   "outputs": [],
   "source": [
    "df.drop([\"function_name\",\"arg1\",\"arg2\",\"arg_type\",\"param1\",\"param2\"],axis=1,inplace=True)"
   ]
  },
  {
   "cell_type": "code",
   "execution_count": 13,
   "metadata": {
    "execution": {
     "iopub.execute_input": "2023-02-01T16:57:17.630371Z",
     "iopub.status.busy": "2023-02-01T16:57:17.629968Z",
     "iopub.status.idle": "2023-02-01T16:57:17.646479Z",
     "shell.execute_reply": "2023-02-01T16:57:17.645566Z",
     "shell.execute_reply.started": "2023-02-01T16:57:17.630335Z"
    }
   },
   "outputs": [],
   "source": [
    "df = df.sample(frac = 1) # shuffling the dataset\n",
    "df.reset_index(drop=True,inplace=True)"
   ]
  },
  {
   "cell_type": "code",
   "execution_count": 14,
   "metadata": {
    "execution": {
     "iopub.execute_input": "2023-02-01T16:57:18.705040Z",
     "iopub.status.busy": "2023-02-01T16:57:18.704667Z",
     "iopub.status.idle": "2023-02-01T16:57:18.712534Z",
     "shell.execute_reply": "2023-02-01T16:57:18.711559Z",
     "shell.execute_reply.started": "2023-02-01T16:57:18.705009Z"
    }
   },
   "outputs": [
    {
     "data": {
      "text/plain": [
       "(87690, 2)"
      ]
     },
     "execution_count": 14,
     "metadata": {},
     "output_type": "execute_result"
    }
   ],
   "source": [
    "df.shape"
   ]
  },
  {
   "cell_type": "code",
   "execution_count": 15,
   "metadata": {
    "execution": {
     "iopub.execute_input": "2023-02-01T16:57:19.741440Z",
     "iopub.status.busy": "2023-02-01T16:57:19.740807Z",
     "iopub.status.idle": "2023-02-01T16:57:19.789320Z",
     "shell.execute_reply": "2023-02-01T16:57:19.788347Z",
     "shell.execute_reply.started": "2023-02-01T16:57:19.741403Z"
    }
   },
   "outputs": [],
   "source": [
    "df.drop_duplicates(inplace=True)"
   ]
  },
  {
   "cell_type": "code",
   "execution_count": 16,
   "metadata": {
    "execution": {
     "iopub.execute_input": "2023-02-01T16:57:20.813796Z",
     "iopub.status.busy": "2023-02-01T16:57:20.811300Z",
     "iopub.status.idle": "2023-02-01T16:57:20.822148Z",
     "shell.execute_reply": "2023-02-01T16:57:20.821209Z",
     "shell.execute_reply.started": "2023-02-01T16:57:20.813763Z"
    }
   },
   "outputs": [
    {
     "data": {
      "text/plain": [
       "(49788, 2)"
      ]
     },
     "execution_count": 16,
     "metadata": {},
     "output_type": "execute_result"
    }
   ],
   "source": [
    "df.shape"
   ]
  },
  {
   "cell_type": "code",
   "execution_count": 18,
   "metadata": {
    "execution": {
     "iopub.execute_input": "2023-02-01T17:01:06.290296Z",
     "iopub.status.busy": "2023-02-01T17:01:06.289877Z",
     "iopub.status.idle": "2023-02-01T17:01:06.302455Z",
     "shell.execute_reply": "2023-02-01T17:01:06.301448Z",
     "shell.execute_reply.started": "2023-02-01T17:01:06.290260Z"
    }
   },
   "outputs": [
    {
     "data": {
      "text/html": [
       "<div>\n",
       "<style scoped>\n",
       "    .dataframe tbody tr th:only-of-type {\n",
       "        vertical-align: middle;\n",
       "    }\n",
       "\n",
       "    .dataframe tbody tr th {\n",
       "        vertical-align: top;\n",
       "    }\n",
       "\n",
       "    .dataframe thead th {\n",
       "        text-align: right;\n",
       "    }\n",
       "</style>\n",
       "<table border=\"1\" class=\"dataframe\">\n",
       "  <thead>\n",
       "    <tr style=\"text-align: right;\">\n",
       "      <th></th>\n",
       "      <th>labels</th>\n",
       "      <th>total</th>\n",
       "    </tr>\n",
       "  </thead>\n",
       "  <tbody>\n",
       "    <tr>\n",
       "      <th>0</th>\n",
       "      <td>1</td>\n",
       "      <td>outb[PAD]0x370[PAD]0xaa[PAD]int[PAD][UNK][PAD]...</td>\n",
       "    </tr>\n",
       "    <tr>\n",
       "      <th>1</th>\n",
       "      <td>0</td>\n",
       "      <td>fopen[PAD]dbspecs_f[PAD]r[PAD]FILE *[PAD]__fil...</td>\n",
       "    </tr>\n",
       "    <tr>\n",
       "      <th>2</th>\n",
       "      <td>1</td>\n",
       "      <td>write_io_cr[PAD]new_units[PAD]0xF1[PAD]void[PA...</td>\n",
       "    </tr>\n",
       "    <tr>\n",
       "      <th>3</th>\n",
       "      <td>1</td>\n",
       "      <td>__builtin_expect[PAD]1[PAD]([PAD]long[PAD][UNK...</td>\n",
       "    </tr>\n",
       "    <tr>\n",
       "      <th>4</th>\n",
       "      <td>1</td>\n",
       "      <td>queue_work[PAD]&amp;[PAD]priv[PAD]int[PAD][UNK][PA...</td>\n",
       "    </tr>\n",
       "    <tr>\n",
       "      <th>...</th>\n",
       "      <td>...</td>\n",
       "      <td>...</td>\n",
       "    </tr>\n",
       "    <tr>\n",
       "      <th>87675</th>\n",
       "      <td>1</td>\n",
       "      <td>ktime_add[PAD]req[PAD]op_metrics[PAD]int[PAD][...</td>\n",
       "    </tr>\n",
       "    <tr>\n",
       "      <th>87681</th>\n",
       "      <td>1</td>\n",
       "      <td>VS[PAD]([PAD]_MEIPASS2 is %s\\n[PAD]int[PAD][UN...</td>\n",
       "    </tr>\n",
       "    <tr>\n",
       "      <th>87682</th>\n",
       "      <td>1</td>\n",
       "      <td>strcmp[PAD]tcp[PAD]tokennet[PAD]int[PAD]__s1[P...</td>\n",
       "    </tr>\n",
       "    <tr>\n",
       "      <th>87683</th>\n",
       "      <td>1</td>\n",
       "      <td>strcmp[PAD]file:test[PAD]operation[PAD]int[PAD...</td>\n",
       "    </tr>\n",
       "    <tr>\n",
       "      <th>87689</th>\n",
       "      <td>1</td>\n",
       "      <td>USB_ID[PAD]0x0102[PAD]0x0d8c[PAD]int[PAD][UNK]...</td>\n",
       "    </tr>\n",
       "  </tbody>\n",
       "</table>\n",
       "<p>49788 rows × 2 columns</p>\n",
       "</div>"
      ],
      "text/plain": [
       "       labels                                              total\n",
       "0           1  outb[PAD]0x370[PAD]0xaa[PAD]int[PAD][UNK][PAD]...\n",
       "1           0  fopen[PAD]dbspecs_f[PAD]r[PAD]FILE *[PAD]__fil...\n",
       "2           1  write_io_cr[PAD]new_units[PAD]0xF1[PAD]void[PA...\n",
       "3           1  __builtin_expect[PAD]1[PAD]([PAD]long[PAD][UNK...\n",
       "4           1  queue_work[PAD]&[PAD]priv[PAD]int[PAD][UNK][PA...\n",
       "...       ...                                                ...\n",
       "87675       1  ktime_add[PAD]req[PAD]op_metrics[PAD]int[PAD][...\n",
       "87681       1  VS[PAD]([PAD]_MEIPASS2 is %s\\n[PAD]int[PAD][UN...\n",
       "87682       1  strcmp[PAD]tcp[PAD]tokennet[PAD]int[PAD]__s1[P...\n",
       "87683       1  strcmp[PAD]file:test[PAD]operation[PAD]int[PAD...\n",
       "87689       1  USB_ID[PAD]0x0102[PAD]0x0d8c[PAD]int[PAD][UNK]...\n",
       "\n",
       "[49788 rows x 2 columns]"
      ]
     },
     "execution_count": 18,
     "metadata": {},
     "output_type": "execute_result"
    }
   ],
   "source": [
    "df"
   ]
  },
  {
   "cell_type": "code",
   "execution_count": 19,
   "metadata": {
    "execution": {
     "iopub.execute_input": "2023-02-01T17:01:06.797187Z",
     "iopub.status.busy": "2023-02-01T17:01:06.796699Z",
     "iopub.status.idle": "2023-02-01T17:01:06.803968Z",
     "shell.execute_reply": "2023-02-01T17:01:06.802908Z",
     "shell.execute_reply.started": "2023-02-01T17:01:06.797126Z"
    }
   },
   "outputs": [
    {
     "data": {
      "text/plain": [
       "(49788, 2)"
      ]
     },
     "execution_count": 19,
     "metadata": {},
     "output_type": "execute_result"
    }
   ],
   "source": [
    "df.shape"
   ]
  },
  {
   "cell_type": "code",
   "execution_count": 28,
   "metadata": {
    "execution": {
     "iopub.execute_input": "2023-02-01T17:06:31.803725Z",
     "iopub.status.busy": "2023-02-01T17:06:31.803345Z",
     "iopub.status.idle": "2023-02-01T17:06:31.829640Z",
     "shell.execute_reply": "2023-02-01T17:06:31.826972Z",
     "shell.execute_reply.started": "2023-02-01T17:06:31.803695Z"
    }
   },
   "outputs": [
    {
     "ename": "ImportError",
     "evalue": "cannot import name 'T5ForConditionalGenerationcon' from 'transformers' (/opt/conda/lib/python3.7/site-packages/transformers/__init__.py)",
     "output_type": "error",
     "traceback": [
      "\u001b[0;31m---------------------------------------------------------------------------\u001b[0m",
      "\u001b[0;31mImportError\u001b[0m                               Traceback (most recent call last)",
      "\u001b[0;32m/tmp/ipykernel_3400/1311475837.py\u001b[0m in \u001b[0;36m<module>\u001b[0;34m\u001b[0m\n\u001b[1;32m      1\u001b[0m \u001b[0;32mfrom\u001b[0m \u001b[0mtransformers\u001b[0m \u001b[0;32mimport\u001b[0m \u001b[0mAutoTokenizer\u001b[0m\u001b[0;34m,\u001b[0m \u001b[0mAutoModel\u001b[0m\u001b[0;34m\u001b[0m\u001b[0;34m\u001b[0m\u001b[0m\n\u001b[0;32m----> 2\u001b[0;31m \u001b[0;32mfrom\u001b[0m \u001b[0mtransformers\u001b[0m \u001b[0;32mimport\u001b[0m \u001b[0mRobertaTokenizer\u001b[0m\u001b[0;34m,\u001b[0m \u001b[0mT5ForConditionalGenerationcon\u001b[0m\u001b[0;34m\u001b[0m\u001b[0;34m\u001b[0m\u001b[0m\n\u001b[0m",
      "\u001b[0;31mImportError\u001b[0m: cannot import name 'T5ForConditionalGenerationcon' from 'transformers' (/opt/conda/lib/python3.7/site-packages/transformers/__init__.py)"
     ]
    }
   ],
   "source": [
    " from transformers import AutoTokenizer, AutoModel\n",
    "from transformers import RobertaTokenizer, T5ForConditionalGenerationcon"
   ]
  },
  {
   "cell_type": "code",
   "execution_count": 27,
   "metadata": {
    "execution": {
     "iopub.execute_input": "2023-02-01T17:06:26.786811Z",
     "iopub.status.busy": "2023-02-01T17:06:26.784228Z",
     "iopub.status.idle": "2023-02-01T17:06:26.791767Z",
     "shell.execute_reply": "2023-02-01T17:06:26.790833Z",
     "shell.execute_reply.started": "2023-02-01T17:06:26.786774Z"
    }
   },
   "outputs": [],
   "source": [
    "#classifier = TFBertForSequenceClassification.from_pretrained(\"codebert-base\")\n",
    "# classifier = AutoModel.from_pretrained(\"microsoft/codebert-base\")"
   ]
  },
  {
   "cell_type": "code",
   "execution_count": 22,
   "metadata": {
    "execution": {
     "iopub.execute_input": "2023-02-01T17:01:08.721826Z",
     "iopub.status.busy": "2023-02-01T17:01:08.720800Z",
     "iopub.status.idle": "2023-02-01T17:01:54.192120Z",
     "shell.execute_reply": "2023-02-01T17:01:54.191075Z",
     "shell.execute_reply.started": "2023-02-01T17:01:08.721776Z"
    }
   },
   "outputs": [
    {
     "data": {
      "application/vnd.jupyter.widget-view+json": {
       "model_id": "6767b44a87b54cff813128d29194ad8b",
       "version_major": 2,
       "version_minor": 0
      },
      "text/plain": [
       "Downloading:   0%|          | 0.00/1.53k [00:00<?, ?B/s]"
      ]
     },
     "metadata": {},
     "output_type": "display_data"
    },
    {
     "data": {
      "application/vnd.jupyter.widget-view+json": {
       "model_id": "ea8d146680694cf9a95973b859a7059a",
       "version_major": 2,
       "version_minor": 0
      },
      "text/plain": [
       "Downloading:   0%|          | 0.00/850M [00:00<?, ?B/s]"
      ]
     },
     "metadata": {},
     "output_type": "display_data"
    }
   ],
   "source": [
    "tokenizer = RobertaTokenizer.from_pretrained('Salesforce/codet5-base')\n",
    "classifier= T5ForConditionalGeneration.from_pretrained('Salesforce/codet5-base'"
   ]
  },
  {
   "cell_type": "code",
   "execution_count": null,
   "metadata": {},
   "outputs": [],
   "source": []
  },
  {
   "cell_type": "code",
   "execution_count": 23,
   "metadata": {
    "execution": {
     "iopub.execute_input": "2023-02-01T17:01:54.194525Z",
     "iopub.status.busy": "2023-02-01T17:01:54.194099Z",
     "iopub.status.idle": "2023-02-01T17:01:54.200274Z",
     "shell.execute_reply": "2023-02-01T17:01:54.199217Z",
     "shell.execute_reply.started": "2023-02-01T17:01:54.194489Z"
    }
   },
   "outputs": [],
   "source": [
    "#tokenizer = BertTokenizer.from_pretrained(\"codebert-base\")\n",
    "# tokenizer = AutoTokenizer.from_pretrained(\"microsoft/codebert-base\")"
   ]
  },
  {
   "cell_type": "code",
   "execution_count": 25,
   "metadata": {
    "execution": {
     "iopub.execute_input": "2023-02-01T17:04:43.525930Z",
     "iopub.status.busy": "2023-02-01T17:04:43.525504Z",
     "iopub.status.idle": "2023-02-01T17:04:43.552929Z",
     "shell.execute_reply": "2023-02-01T17:04:43.551348Z",
     "shell.execute_reply.started": "2023-02-01T17:04:43.525897Z"
    }
   },
   "outputs": [
    {
     "ename": "AttributeError",
     "evalue": "'T5ForConditionalGeneration' object has no attribute 'from_config'",
     "output_type": "error",
     "traceback": [
      "\u001b[0;31m---------------------------------------------------------------------------\u001b[0m",
      "\u001b[0;31mAttributeError\u001b[0m                            Traceback (most recent call last)",
      "\u001b[0;32m/tmp/ipykernel_3400/323110093.py\u001b[0m in \u001b[0;36m<module>\u001b[0;34m\u001b[0m\n\u001b[0;32m----> 1\u001b[0;31m \u001b[0mclassifier\u001b[0m\u001b[0;34m.\u001b[0m\u001b[0mfrom_config\u001b[0m\u001b[0;34m(\u001b[0m\u001b[0mconfig\u001b[0m\u001b[0;34m)\u001b[0m\u001b[0;34m\u001b[0m\u001b[0;34m\u001b[0m\u001b[0m\n\u001b[0m",
      "\u001b[0;32m/opt/conda/lib/python3.7/site-packages/torch/nn/modules/module.py\u001b[0m in \u001b[0;36m__getattr__\u001b[0;34m(self, name)\u001b[0m\n\u001b[1;32m   1184\u001b[0m                 \u001b[0;32mreturn\u001b[0m \u001b[0mmodules\u001b[0m\u001b[0;34m[\u001b[0m\u001b[0mname\u001b[0m\u001b[0;34m]\u001b[0m\u001b[0;34m\u001b[0m\u001b[0;34m\u001b[0m\u001b[0m\n\u001b[1;32m   1185\u001b[0m         raise AttributeError(\"'{}' object has no attribute '{}'\".format(\n\u001b[0;32m-> 1186\u001b[0;31m             type(self).__name__, name))\n\u001b[0m\u001b[1;32m   1187\u001b[0m \u001b[0;34m\u001b[0m\u001b[0m\n\u001b[1;32m   1188\u001b[0m     \u001b[0;32mdef\u001b[0m \u001b[0m__setattr__\u001b[0m\u001b[0;34m(\u001b[0m\u001b[0mself\u001b[0m\u001b[0;34m,\u001b[0m \u001b[0mname\u001b[0m\u001b[0;34m:\u001b[0m \u001b[0mstr\u001b[0m\u001b[0;34m,\u001b[0m \u001b[0mvalue\u001b[0m\u001b[0;34m:\u001b[0m \u001b[0mUnion\u001b[0m\u001b[0;34m[\u001b[0m\u001b[0mTensor\u001b[0m\u001b[0;34m,\u001b[0m \u001b[0;34m'Module'\u001b[0m\u001b[0;34m]\u001b[0m\u001b[0;34m)\u001b[0m \u001b[0;34m->\u001b[0m \u001b[0;32mNone\u001b[0m\u001b[0;34m:\u001b[0m\u001b[0;34m\u001b[0m\u001b[0;34m\u001b[0m\u001b[0m\n",
      "\u001b[0;31mAttributeError\u001b[0m: 'T5ForConditionalGeneration' object has no attribute 'from_config'"
     ]
    }
   ],
   "source": [
    "classifier.from_config(config)"
   ]
  },
  {
   "cell_type": "code",
   "execution_count": null,
   "metadata": {
    "execution": {
     "iopub.status.busy": "2023-02-01T17:01:54.238389Z",
     "iopub.status.idle": "2023-02-01T17:01:54.238879Z",
     "shell.execute_reply": "2023-02-01T17:01:54.238654Z",
     "shell.execute_reply.started": "2023-02-01T17:01:54.238630Z"
    }
   },
   "outputs": [],
   "source": [
    "m = len(df)\n",
    "sample = int(m/10)"
   ]
  },
  {
   "cell_type": "code",
   "execution_count": null,
   "metadata": {
    "execution": {
     "iopub.status.busy": "2023-02-01T17:01:54.240821Z",
     "iopub.status.idle": "2023-02-01T17:01:54.241183Z",
     "shell.execute_reply": "2023-02-01T17:01:54.241014Z",
     "shell.execute_reply.started": "2023-02-01T17:01:54.240997Z"
    }
   },
   "outputs": [],
   "source": [
    "train_df = df[sample:]\n",
    "test_df = df[:sample]"
   ]
  },
  {
   "cell_type": "code",
   "execution_count": null,
   "metadata": {
    "execution": {
     "iopub.status.busy": "2023-02-01T17:01:54.243077Z",
     "iopub.status.idle": "2023-02-01T17:01:54.243607Z",
     "shell.execute_reply": "2023-02-01T17:01:54.243368Z",
     "shell.execute_reply.started": "2023-02-01T17:01:54.243343Z"
    }
   },
   "outputs": [],
   "source": [
    "# InputExample(guid=None, # Globally unique ID for bookkeeping, unused in this case\n",
    "#                                                           text_a = x[code_snippet], \n",
    "#                                                           text_b = None,\n",
    "#                                                           label = x[label_of_code_snippet])"
   ]
  },
  {
   "cell_type": "code",
   "execution_count": null,
   "metadata": {},
   "outputs": [],
   "source": [
    "def convert_data_to_examples(train, test, code_snippet, label_of_code_snippet): \n",
    "  train_InputExamples = train.apply(lambda x: InputExample(guid=None, # Globally unique ID for bookkeeping, unused in this case\n",
    "                                                          text_a = x[code_snippet], \n",
    "                                                          text_b = None,\n",
    "                                                          label = x[label_of_code_snippet]), axis = 1)\n",
    "\n",
    "  validation_InputExamples = test.apply(lambda x: InputExample(guid=None, # Globally unique ID for bookkeeping, unused in this case\n",
    "                                                          text_a = x[code_snippet], \n",
    "                                                          text_b = None,\n",
    "                                                          label = x[label_of_code_snippet]), axis = 1)\n",
    "  \n",
    "  return train_InputExamples, validation_InputExamples"
   ]
  },
  {
   "cell_type": "code",
   "execution_count": null,
   "metadata": {},
   "outputs": [],
   "source": [
    "train_InputExamples, validation_InputExamples = convert_data_to_examples(train_df, \n",
    "                                                                           test_df, \n",
    "                                                                           'total', \n",
    "                                                                           'labels')"
   ]
  },
  {
   "cell_type": "code",
   "execution_count": null,
   "metadata": {},
   "outputs": [],
   "source": [
    "train_df"
   ]
  },
  {
   "cell_type": "code",
   "execution_count": null,
   "metadata": {},
   "outputs": [],
   "source": [
    "test_df"
   ]
  },
  {
   "cell_type": "code",
   "execution_count": null,
   "metadata": {},
   "outputs": [],
   "source": [
    "def convert_examples_to_tf_dataset(examples, tokenizer, max_length=128):\n",
    "    features = [] # -> will hold InputFeatures to be converted later\n",
    "\n",
    "    for e in examples:\n",
    "        # Documentation is really strong for this method, so please take a look at it\n",
    "        input_dict = tokenizer.encode_plus(\n",
    "            e.text_a,\n",
    "            add_special_tokens=True,\n",
    "            max_length=max_length, # truncates if len(s) > max_length\n",
    "            return_token_type_ids=True,\n",
    "            return_attention_mask=True,\n",
    "            pad_to_max_length=True, # pads to the right by default # CHECK THIS for pad_to_max_length\n",
    "            truncation=True\n",
    "        )\n",
    "\n",
    "        input_ids, token_type_ids, attention_mask = (input_dict[\"input_ids\"],\n",
    "            input_dict[\"token_type_ids\"], input_dict['attention_mask'])\n",
    "\n",
    "        features.append(\n",
    "            InputFeatures(\n",
    "                input_ids=input_ids, attention_mask=attention_mask, token_type_ids=token_type_ids, label=e.label\n",
    "            )\n",
    "        )\n",
    "\n",
    "    def gen():\n",
    "        for f in features:\n",
    "            yield (\n",
    "                {\n",
    "                    \"input_ids\": f.input_ids,\n",
    "                    \"attention_mask\": f.attention_mask,\n",
    "                    \"token_type_ids\": f.token_type_ids,\n",
    "                },\n",
    "                f.label,\n",
    "            )\n",
    "\n",
    "    return tf.data.Dataset.from_generator(\n",
    "        gen,\n",
    "        ({\"input_ids\": tf.int32, \"attention_mask\": tf.int32, \"token_type_ids\": tf.int32}, tf.int64),\n",
    "        (\n",
    "            {\n",
    "                \"input_ids\": tf.TensorShape([None]),\n",
    "                \"attention_mask\": tf.TensorShape([None]),\n",
    "                \"token_type_ids\": tf.TensorShape([None]),\n",
    "            },\n",
    "            tf.TensorShape([]),\n",
    "        ),\n",
    "    )"
   ]
  },
  {
   "cell_type": "code",
   "execution_count": null,
   "metadata": {},
   "outputs": [],
   "source": [
    "code_snippet = 'total'\n",
    "label_of_code_snippet = 'labels'"
   ]
  },
  {
   "cell_type": "code",
   "execution_count": null,
   "metadata": {},
   "outputs": [],
   "source": [
    "train_InputExamples, validation_InputExamples = convert_data_to_examples(train_df, test_df, code_snippet, label_of_code_snippet)\n",
    "\n",
    "train_data = convert_examples_to_tf_dataset(list(train_InputExamples), tokenizer)\n",
    "train_data = train_data.shuffle(100).batch(32).repeat(2)\n",
    "\n",
    "validation_data = convert_examples_to_tf_dataset(list(validation_InputExamples), tokenizer)\n",
    "validation_data = validation_data.batch(32)"
   ]
  },
  {
   "cell_type": "code",
   "execution_count": null,
   "metadata": {},
   "outputs": [],
   "source": [
    "classifier.compile(optimizer=tf.keras.optimizers.Adam(learning_rate=3e-5, epsilon=1e-08, clipnorm=1.0), \n",
    "              loss=tf.keras.losses.SparseCategoricalCrossentropy(from_logits=True), \n",
    "              metrics=[tf.keras.metrics.SparseCategoricalAccuracy('accuracy')])"
   ]
  },
  {
   "cell_type": "code",
   "execution_count": null,
   "metadata": {},
   "outputs": [],
   "source": [
    "history = classifier.fit(train_data, epochs=20, validation_data=validation_data,verbose=1,batch_size=256,steps_per_epoch=175)"
   ]
  },
  {
   "cell_type": "code",
   "execution_count": null,
   "metadata": {},
   "outputs": [],
   "source": [
    "import keras\n",
    "from matplotlib import pyplot as plt"
   ]
  },
  {
   "cell_type": "code",
   "execution_count": null,
   "metadata": {},
   "outputs": [],
   "source": [
    "plt.plot(history.history['accuracy'])\n",
    "plt.plot(history.history['val_accuracy'])\n",
    "plt.title('model accuracy')\n",
    "plt.ylabel('accuracy')\n",
    "plt.xlabel('epoch')\n",
    "plt.legend(['train', 'val'], loc='upper left')\n",
    "plt.show()"
   ]
  },
  {
   "cell_type": "code",
   "execution_count": null,
   "metadata": {},
   "outputs": [],
   "source": [
    "plt.plot(history.history['loss'])\n",
    "plt.plot(history.history['val_loss'])\n",
    "plt.title('model loss')\n",
    "plt.ylabel('loss')\n",
    "plt.xlabel('epoch')\n",
    "plt.legend(['train', 'val'], loc='upper left')\n",
    "plt.show()"
   ]
  },
  {
   "cell_type": "code",
   "execution_count": null,
   "metadata": {},
   "outputs": [],
   "source": []
  },
  {
   "cell_type": "code",
   "execution_count": null,
   "metadata": {},
   "outputs": [],
   "source": [
    "my_predict = classifier.predict(test_df)"
   ]
  },
  {
   "cell_type": "code",
   "execution_count": null,
   "metadata": {},
   "outputs": [],
   "source": [
    "param_grid = {\n",
    "    \"per_gpu_batch_size\": [16, 32,64],\n",
    "    \"learning_rate\": [5e-6, 1e-5, 5e-5],\n",
    "    \"num_epochs\": [5, 10, 25,40]\n",
    "    \"steps_per_epoch\":[2128,1064,425,266]\n",
    "}"
   ]
  },
  {
   "cell_type": "code",
   "execution_count": null,
   "metadata": {},
   "outputs": [],
   "source": [
    "from sklearn import model_selection"
   ]
  },
  {
   "cell_type": "code",
   "execution_count": null,
   "metadata": {},
   "outputs": [],
   "source": [
    "model = model_selection.GridSearchCV(\n",
    "    estimator=classifier,\n",
    "    param_grid=param_grid,\n",
    "    scoring=\"accuracy\",\n",
    "    verbose=1,\n",
    "    n_jobs=2,\n",
    "    cv=5\n",
    ")"
   ]
  },
  {
   "cell_type": "code",
   "execution_count": null,
   "metadata": {},
   "outputs": [],
   "source": [
    "model.fit(train_data)"
   ]
  }
 ],
 "metadata": {
  "kernelspec": {
   "display_name": "Python 3 (ipykernel)",
   "language": "python",
   "name": "python3"
  },
  "language_info": {
   "codemirror_mode": {
    "name": "ipython",
    "version": 3
   },
   "file_extension": ".py",
   "mimetype": "text/x-python",
   "name": "python",
   "nbconvert_exporter": "python",
   "pygments_lexer": "ipython3",
   "version": "3.9.12"
  }
 },
 "nbformat": 4,
 "nbformat_minor": 4
}
