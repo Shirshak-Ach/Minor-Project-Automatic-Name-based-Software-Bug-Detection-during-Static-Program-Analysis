{
 "cells": [
  {
   "cell_type": "code",
   "execution_count": 1,
   "id": "b0f97d95",
   "metadata": {},
   "outputs": [
    {
     "name": "stderr",
     "output_type": "stream",
     "text": [
      "C:\\Users\\Hp\\anaconda3\\lib\\site-packages\\tqdm\\auto.py:22: TqdmWarning: IProgress not found. Please update jupyter and ipywidgets. See https://ipywidgets.readthedocs.io/en/stable/user_install.html\n",
      "  from .autonotebook import tqdm as notebook_tqdm\n"
     ]
    }
   ],
   "source": [
    "from transformers import BertTokenizer, TFBertForSequenceClassification\n",
    "from transformers import InputExample, InputFeatures\n",
    "import tensorflow as tf\n",
    "import pandas as pd"
   ]
  },
  {
   "cell_type": "code",
   "execution_count": 2,
   "id": "e0dbd59c",
   "metadata": {},
   "outputs": [
    {
     "name": "stderr",
     "output_type": "stream",
     "text": [
      "All model checkpoint layers were used when initializing TFBertForSequenceClassification.\n",
      "\n",
      "Some layers of TFBertForSequenceClassification were not initialized from the model checkpoint at bert-base-uncased and are newly initialized: ['classifier']\n",
      "You should probably TRAIN this model on a down-stream task to be able to use it for predictions and inference.\n"
     ]
    }
   ],
   "source": [
    "model = TFBertForSequenceClassification.from_pretrained(\"bert-base-uncased\")"
   ]
  },
  {
   "cell_type": "code",
   "execution_count": 3,
   "id": "3e81f7de",
   "metadata": {},
   "outputs": [],
   "source": [
    "tokenizer = BertTokenizer.from_pretrained(\"bert-base-uncased\")"
   ]
  },
  {
   "cell_type": "code",
   "execution_count": 4,
   "id": "ddfb45de",
   "metadata": {},
   "outputs": [
    {
     "name": "stdout",
     "output_type": "stream",
     "text": [
      "Model: \"tf_bert_for_sequence_classification\"\n",
      "_________________________________________________________________\n",
      " Layer (type)                Output Shape              Param #   \n",
      "=================================================================\n",
      " bert (TFBertMainLayer)      multiple                  109482240 \n",
      "                                                                 \n",
      " dropout_37 (Dropout)        multiple                  0         \n",
      "                                                                 \n",
      " classifier (Dense)          multiple                  1538      \n",
      "                                                                 \n",
      "=================================================================\n",
      "Total params: 109,483,778\n",
      "Trainable params: 109,483,778\n",
      "Non-trainable params: 0\n",
      "_________________________________________________________________\n"
     ]
    }
   ],
   "source": [
    "model.summary()"
   ]
  },
  {
   "cell_type": "code",
   "execution_count": 5,
   "id": "57c66f56",
   "metadata": {},
   "outputs": [
    {
     "name": "stderr",
     "output_type": "stream",
     "text": [
      "C:\\Users\\Hp\\AppData\\Local\\Temp\\ipykernel_22564\\2753292946.py:1: DtypeWarning: Columns (11) have mixed types. Specify dtype option on import or set low_memory=False.\n",
      "  metadata = pd.read_csv(r\"C:\\Users\\Hp\\00000000000000 Defence\\full_metadata.csv\")\n"
     ]
    },
    {
     "data": {
      "text/html": [
       "<div>\n",
       "<style scoped>\n",
       "    .dataframe tbody tr th:only-of-type {\n",
       "        vertical-align: middle;\n",
       "    }\n",
       "\n",
       "    .dataframe tbody tr th {\n",
       "        vertical-align: top;\n",
       "    }\n",
       "\n",
       "    .dataframe thead th {\n",
       "        text-align: right;\n",
       "    }\n",
       "</style>\n",
       "<table border=\"1\" class=\"dataframe\">\n",
       "  <thead>\n",
       "    <tr style=\"text-align: right;\">\n",
       "      <th></th>\n",
       "      <th>submission_id</th>\n",
       "      <th>problem_id</th>\n",
       "      <th>user_id</th>\n",
       "      <th>date</th>\n",
       "      <th>language</th>\n",
       "      <th>original_language</th>\n",
       "      <th>filename_ext</th>\n",
       "      <th>status</th>\n",
       "      <th>cpu_time</th>\n",
       "      <th>memory</th>\n",
       "      <th>code_size</th>\n",
       "      <th>accuracy</th>\n",
       "    </tr>\n",
       "  </thead>\n",
       "  <tbody>\n",
       "    <tr>\n",
       "      <th>703805</th>\n",
       "      <td>s806019617</td>\n",
       "      <td>p03659</td>\n",
       "      <td>u203927510</td>\n",
       "      <td>1507089452</td>\n",
       "      <td>C</td>\n",
       "      <td>C (GCC 5.4.1)</td>\n",
       "      <td>c</td>\n",
       "      <td>Wrong Answer</td>\n",
       "      <td>25.0</td>\n",
       "      <td>1664.0</td>\n",
       "      <td>780</td>\n",
       "      <td>NaN</td>\n",
       "    </tr>\n",
       "    <tr>\n",
       "      <th>162464</th>\n",
       "      <td>s626637281</td>\n",
       "      <td>p02263</td>\n",
       "      <td>u240141174</td>\n",
       "      <td>1399567261</td>\n",
       "      <td>C</td>\n",
       "      <td>C</td>\n",
       "      <td>c</td>\n",
       "      <td>Wrong Answer</td>\n",
       "      <td>0.0</td>\n",
       "      <td>552.0</td>\n",
       "      <td>1025</td>\n",
       "      <td>2/10</td>\n",
       "    </tr>\n",
       "    <tr>\n",
       "      <th>197057</th>\n",
       "      <td>s933947306</td>\n",
       "      <td>p02279</td>\n",
       "      <td>u147457944</td>\n",
       "      <td>1531224030</td>\n",
       "      <td>C</td>\n",
       "      <td>C</td>\n",
       "      <td>c</td>\n",
       "      <td>Time Limit Exceeded</td>\n",
       "      <td>3990.0</td>\n",
       "      <td>4556.0</td>\n",
       "      <td>2049</td>\n",
       "      <td>6/8</td>\n",
       "    </tr>\n",
       "    <tr>\n",
       "      <th>24766</th>\n",
       "      <td>s382612718</td>\n",
       "      <td>p00009</td>\n",
       "      <td>u095123700</td>\n",
       "      <td>1425802529</td>\n",
       "      <td>C</td>\n",
       "      <td>C</td>\n",
       "      <td>c</td>\n",
       "      <td>Compile Error</td>\n",
       "      <td>2740.0</td>\n",
       "      <td>0.0</td>\n",
       "      <td>871</td>\n",
       "      <td>0/1</td>\n",
       "    </tr>\n",
       "    <tr>\n",
       "      <th>122201</th>\n",
       "      <td>s491423513</td>\n",
       "      <td>p02241</td>\n",
       "      <td>u421607623</td>\n",
       "      <td>1342560354</td>\n",
       "      <td>C</td>\n",
       "      <td>C</td>\n",
       "      <td>c</td>\n",
       "      <td>Compile Error</td>\n",
       "      <td>0.0</td>\n",
       "      <td>0.0</td>\n",
       "      <td>347</td>\n",
       "      <td>0/6</td>\n",
       "    </tr>\n",
       "    <tr>\n",
       "      <th>628622</th>\n",
       "      <td>s511376655</td>\n",
       "      <td>p03262</td>\n",
       "      <td>u061912210</td>\n",
       "      <td>1545179015</td>\n",
       "      <td>C</td>\n",
       "      <td>C (GCC 5.4.1)</td>\n",
       "      <td>c</td>\n",
       "      <td>Runtime Error</td>\n",
       "      <td>101.0</td>\n",
       "      <td>128.0</td>\n",
       "      <td>471</td>\n",
       "      <td>NaN</td>\n",
       "    </tr>\n",
       "    <tr>\n",
       "      <th>402341</th>\n",
       "      <td>s485023962</td>\n",
       "      <td>p02621</td>\n",
       "      <td>u580231163</td>\n",
       "      <td>1593400482</td>\n",
       "      <td>C</td>\n",
       "      <td>C (GCC 9.2.1)</td>\n",
       "      <td>c</td>\n",
       "      <td>Compile Error</td>\n",
       "      <td>NaN</td>\n",
       "      <td>NaN</td>\n",
       "      <td>103</td>\n",
       "      <td>NaN</td>\n",
       "    </tr>\n",
       "    <tr>\n",
       "      <th>738512</th>\n",
       "      <td>s836277914</td>\n",
       "      <td>p03909</td>\n",
       "      <td>u932514381</td>\n",
       "      <td>1577851219</td>\n",
       "      <td>C</td>\n",
       "      <td>C (GCC 5.4.1)</td>\n",
       "      <td>c</td>\n",
       "      <td>Wrong Answer</td>\n",
       "      <td>1.0</td>\n",
       "      <td>128.0</td>\n",
       "      <td>621</td>\n",
       "      <td>NaN</td>\n",
       "    </tr>\n",
       "    <tr>\n",
       "      <th>226429</th>\n",
       "      <td>s258052737</td>\n",
       "      <td>p02388</td>\n",
       "      <td>u367745940</td>\n",
       "      <td>1476797064</td>\n",
       "      <td>C</td>\n",
       "      <td>C</td>\n",
       "      <td>c</td>\n",
       "      <td>Compile Error</td>\n",
       "      <td>0.0</td>\n",
       "      <td>0.0</td>\n",
       "      <td>105</td>\n",
       "      <td>0/4</td>\n",
       "    </tr>\n",
       "    <tr>\n",
       "      <th>98476</th>\n",
       "      <td>s061298128</td>\n",
       "      <td>p00734</td>\n",
       "      <td>u064467943</td>\n",
       "      <td>1434105784</td>\n",
       "      <td>C</td>\n",
       "      <td>C</td>\n",
       "      <td>c</td>\n",
       "      <td>Wrong Answer</td>\n",
       "      <td>0.0</td>\n",
       "      <td>612.0</td>\n",
       "      <td>728</td>\n",
       "      <td>0/1</td>\n",
       "    </tr>\n",
       "  </tbody>\n",
       "</table>\n",
       "</div>"
      ],
      "text/plain": [
       "       submission_id problem_id     user_id        date language  \\\n",
       "703805    s806019617     p03659  u203927510  1507089452        C   \n",
       "162464    s626637281     p02263  u240141174  1399567261        C   \n",
       "197057    s933947306     p02279  u147457944  1531224030        C   \n",
       "24766     s382612718     p00009  u095123700  1425802529        C   \n",
       "122201    s491423513     p02241  u421607623  1342560354        C   \n",
       "628622    s511376655     p03262  u061912210  1545179015        C   \n",
       "402341    s485023962     p02621  u580231163  1593400482        C   \n",
       "738512    s836277914     p03909  u932514381  1577851219        C   \n",
       "226429    s258052737     p02388  u367745940  1476797064        C   \n",
       "98476     s061298128     p00734  u064467943  1434105784        C   \n",
       "\n",
       "       original_language filename_ext               status  cpu_time  memory  \\\n",
       "703805     C (GCC 5.4.1)            c         Wrong Answer      25.0  1664.0   \n",
       "162464                 C            c         Wrong Answer       0.0   552.0   \n",
       "197057                 C            c  Time Limit Exceeded    3990.0  4556.0   \n",
       "24766                  C            c        Compile Error    2740.0     0.0   \n",
       "122201                 C            c        Compile Error       0.0     0.0   \n",
       "628622     C (GCC 5.4.1)            c        Runtime Error     101.0   128.0   \n",
       "402341     C (GCC 9.2.1)            c        Compile Error       NaN     NaN   \n",
       "738512     C (GCC 5.4.1)            c         Wrong Answer       1.0   128.0   \n",
       "226429                 C            c        Compile Error       0.0     0.0   \n",
       "98476                  C            c         Wrong Answer       0.0   612.0   \n",
       "\n",
       "        code_size accuracy  \n",
       "703805        780      NaN  \n",
       "162464       1025     2/10  \n",
       "197057       2049      6/8  \n",
       "24766         871      0/1  \n",
       "122201        347      0/6  \n",
       "628622        471      NaN  \n",
       "402341        103      NaN  \n",
       "738512        621      NaN  \n",
       "226429        105      0/4  \n",
       "98476         728      0/1  "
      ]
     },
     "execution_count": 5,
     "metadata": {},
     "output_type": "execute_result"
    }
   ],
   "source": [
    "metadata = pd.read_csv(r\"C:\\Users\\Hp\\00000000000000 Defence\\full_metadata.csv\")\n",
    "metadata.sample(10)"
   ]
  },
  {
   "cell_type": "code",
   "execution_count": 6,
   "id": "7428aa3b",
   "metadata": {},
   "outputs": [],
   "source": [
    "correct_filtered_df = pd.DataFrame()\n",
    "bug_filtered_df = pd.DataFrame()"
   ]
  },
  {
   "cell_type": "code",
   "execution_count": 7,
   "id": "02ddbdf7",
   "metadata": {},
   "outputs": [],
   "source": [
    "def read_code_file(problem_id, submission_id):\n",
    "    with open(\"D:\\\\defence_data\\\\Project_CodeNet\\\\data\\\\{}\\\\C\\\\{}.c\"\n",
    "              .format(problem_id, submission_id),encoding=\"utf8\") as f:\n",
    "        return f.read()"
   ]
  },
  {
   "cell_type": "code",
   "execution_count": 8,
   "id": "5867b481",
   "metadata": {},
   "outputs": [
    {
     "data": {
      "text/plain": [
       "754058"
      ]
     },
     "execution_count": 8,
     "metadata": {},
     "output_type": "execute_result"
    }
   ],
   "source": [
    "metadata.index.size"
   ]
  },
  {
   "cell_type": "code",
   "execution_count": 9,
   "id": "d58c24f4",
   "metadata": {},
   "outputs": [
    {
     "name": "stdout",
     "output_type": "stream",
     "text": [
      "754058\n"
     ]
    }
   ],
   "source": [
    "indexes = metadata.index\n",
    "count = 0\n",
    "for i in indexes[0:]:\n",
    "    count= count+1\n",
    "print(count)"
   ]
  },
  {
   "cell_type": "code",
   "execution_count": 10,
   "id": "1345ebe1",
   "metadata": {},
   "outputs": [
    {
     "name": "stdout",
     "output_type": "stream",
     "text": [
      "29\n",
      "233\n"
     ]
    }
   ],
   "source": [
    "count1 = 0\n",
    "count2 = 0\n",
    "max_difference = 30\n",
    "indexes = metadata.index\n",
    "\n",
    "for i in indexes[0:500]:   # for entire dataset change this to----- for i in indexes[0:-1]:\n",
    "    problem_id = metadata[\"problem_id\"][i]\n",
    "    if(metadata[\"status\"][i] == \"Runtime Error\"):\n",
    "        bug_submission_id = metadata[\"submission_id\"][i]\n",
    "        bug_filtered_df = pd.concat([bug_filtered_df, pd.DataFrame(\n",
    "            {\n",
    "                \"code\": read_code_file(problem_id, bug_submission_id),\n",
    "                \"labels\": 1\n",
    "            },\n",
    "            index=[count1])])\n",
    "        count1 += 1\n",
    "    if(metadata[\"status\"][i] == \"Accepted\"):\n",
    "        correct_submission_id = metadata[\"submission_id\"][i]\n",
    "        correct_filtered_df = pd.concat([correct_filtered_df, pd.DataFrame(\n",
    "            {\n",
    "                \"code\": read_code_file(problem_id, correct_submission_id),\n",
    "                \"labels\": 0,\n",
    "            },\n",
    "            index=[count2])])\n",
    "        count2 += 1\n",
    "        \n",
    "print(count1)\n",
    "print(count2)"
   ]
  },
  {
   "cell_type": "code",
   "execution_count": 11,
   "id": "52ed6e1f",
   "metadata": {},
   "outputs": [],
   "source": [
    "m_correct = len(correct_filtered_df)\n",
    "sample_correct = int(m_correct/10)   # train_test_split = 90:10"
   ]
  },
  {
   "cell_type": "code",
   "execution_count": 12,
   "id": "0df0baeb",
   "metadata": {},
   "outputs": [],
   "source": [
    "correct_filtered_df_test = correct_filtered_df[:sample_correct]\n",
    "correct_filtered_df_train = correct_filtered_df[sample_correct:]"
   ]
  },
  {
   "cell_type": "code",
   "execution_count": 13,
   "id": "0ec59edb",
   "metadata": {},
   "outputs": [],
   "source": [
    "m_bug = len(bug_filtered_df)\n",
    "sample_bug = int(m_bug/10)"
   ]
  },
  {
   "cell_type": "code",
   "execution_count": 14,
   "id": "78e6eb5e",
   "metadata": {},
   "outputs": [],
   "source": [
    "bug_filtered_df_test = bug_filtered_df[:sample_bug]\n",
    "bug_filtered_df_train = bug_filtered_df[sample_bug:]"
   ]
  },
  {
   "cell_type": "code",
   "execution_count": 15,
   "id": "43de85b6",
   "metadata": {},
   "outputs": [],
   "source": [
    "final_df_train = pd.concat([correct_filtered_df_train,bug_filtered_df_train],axis=0)\n",
    "final_df_test = pd.concat([correct_filtered_df_test,bug_filtered_df_test],axis=0)"
   ]
  },
  {
   "cell_type": "code",
   "execution_count": 16,
   "id": "dd4ab1ed",
   "metadata": {},
   "outputs": [],
   "source": [
    "final_df_train = final_df_train.sample(frac=1).reset_index(drop=True)#USED FOR SHUFFLE\n",
    "final_df_test = final_df_test.sample(frac=1).reset_index(drop=True)#USED FOR SHUFFLE"
   ]
  },
  {
   "cell_type": "code",
   "execution_count": 17,
   "id": "55ed5334",
   "metadata": {},
   "outputs": [],
   "source": [
    "final_df_train.to_csv('train.csv',index=False,encoding='utf-8')"
   ]
  },
  {
   "cell_type": "code",
   "execution_count": 18,
   "id": "cade908b",
   "metadata": {},
   "outputs": [],
   "source": [
    "final_df_test.to_csv('test.csv',index=False,encoding='utf-8')"
   ]
  },
  {
   "cell_type": "code",
   "execution_count": 19,
   "id": "f4a60202",
   "metadata": {},
   "outputs": [
    {
     "data": {
      "text/plain": [
       "27"
      ]
     },
     "execution_count": 19,
     "metadata": {},
     "output_type": "execute_result"
    }
   ],
   "source": [
    "(final_df_train['labels']==1).sum()"
   ]
  },
  {
   "cell_type": "code",
   "execution_count": 20,
   "id": "671e7812",
   "metadata": {},
   "outputs": [
    {
     "data": {
      "text/plain": [
       "2"
      ]
     },
     "execution_count": 20,
     "metadata": {},
     "output_type": "execute_result"
    }
   ],
   "source": [
    "(final_df_test['labels']==1).sum()"
   ]
  },
  {
   "cell_type": "code",
   "execution_count": 21,
   "id": "170abc4b",
   "metadata": {},
   "outputs": [
    {
     "data": {
      "text/plain": [
       "210"
      ]
     },
     "execution_count": 21,
     "metadata": {},
     "output_type": "execute_result"
    }
   ],
   "source": [
    "(final_df_train['labels']==0).sum()"
   ]
  },
  {
   "cell_type": "code",
   "execution_count": 22,
   "id": "3526f0cc",
   "metadata": {},
   "outputs": [
    {
     "data": {
      "text/plain": [
       "23"
      ]
     },
     "execution_count": 22,
     "metadata": {},
     "output_type": "execute_result"
    }
   ],
   "source": [
    "(final_df_test['labels']==0).sum()"
   ]
  },
  {
   "cell_type": "code",
   "execution_count": 23,
   "id": "8f1704e5",
   "metadata": {},
   "outputs": [
    {
     "data": {
      "text/html": [
       "<div>\n",
       "<style scoped>\n",
       "    .dataframe tbody tr th:only-of-type {\n",
       "        vertical-align: middle;\n",
       "    }\n",
       "\n",
       "    .dataframe tbody tr th {\n",
       "        vertical-align: top;\n",
       "    }\n",
       "\n",
       "    .dataframe thead th {\n",
       "        text-align: right;\n",
       "    }\n",
       "</style>\n",
       "<table border=\"1\" class=\"dataframe\">\n",
       "  <thead>\n",
       "    <tr style=\"text-align: right;\">\n",
       "      <th></th>\n",
       "      <th>code</th>\n",
       "      <th>labels</th>\n",
       "    </tr>\n",
       "  </thead>\n",
       "  <tbody>\n",
       "    <tr>\n",
       "      <th>0</th>\n",
       "      <td>#include&lt;stdio.h&gt;\\n\\nint main(void){\\n\\n\\tint ...</td>\n",
       "      <td>0</td>\n",
       "    </tr>\n",
       "    <tr>\n",
       "      <th>1</th>\n",
       "      <td>#include&lt;stdio.h&gt;\\n#define N 9\\n\\nint main(){\\...</td>\n",
       "      <td>0</td>\n",
       "    </tr>\n",
       "    <tr>\n",
       "      <th>2</th>\n",
       "      <td>#include &lt;stdio.h&gt;\\n\\nmain()\\n{\\n\\tint i;\\n\\ti...</td>\n",
       "      <td>0</td>\n",
       "    </tr>\n",
       "    <tr>\n",
       "      <th>3</th>\n",
       "      <td>#include &lt;stdio.h&gt;\\nint main(){\\n    int i, j;...</td>\n",
       "      <td>0</td>\n",
       "    </tr>\n",
       "    <tr>\n",
       "      <th>4</th>\n",
       "      <td>main(){int i,j;for(i=1;i&lt;=9;i++)for(j=1;j&lt;=9;j...</td>\n",
       "      <td>1</td>\n",
       "    </tr>\n",
       "    <tr>\n",
       "      <th>...</th>\n",
       "      <td>...</td>\n",
       "      <td>...</td>\n",
       "    </tr>\n",
       "    <tr>\n",
       "      <th>232</th>\n",
       "      <td>#include&lt;stdio.h&gt; \\nint main() \\n{\\n    int a,...</td>\n",
       "      <td>0</td>\n",
       "    </tr>\n",
       "    <tr>\n",
       "      <th>233</th>\n",
       "      <td>#include&lt;stdio.h&gt;\\nint main(void)\\n{\\n    int ...</td>\n",
       "      <td>0</td>\n",
       "    </tr>\n",
       "    <tr>\n",
       "      <th>234</th>\n",
       "      <td>#include&lt;stdio.h&gt;\\n\\nint main(){\\n    int i, j...</td>\n",
       "      <td>0</td>\n",
       "    </tr>\n",
       "    <tr>\n",
       "      <th>235</th>\n",
       "      <td>#include&lt;stdio.h&gt;\\n\\nint main(){\\n    int x=0,...</td>\n",
       "      <td>0</td>\n",
       "    </tr>\n",
       "    <tr>\n",
       "      <th>236</th>\n",
       "      <td>#include&lt;stdio.h&gt;\\nint i,j,ans;\\nint main(){\\n...</td>\n",
       "      <td>0</td>\n",
       "    </tr>\n",
       "  </tbody>\n",
       "</table>\n",
       "<p>237 rows × 2 columns</p>\n",
       "</div>"
      ],
      "text/plain": [
       "                                                  code  labels\n",
       "0    #include<stdio.h>\\n\\nint main(void){\\n\\n\\tint ...       0\n",
       "1    #include<stdio.h>\\n#define N 9\\n\\nint main(){\\...       0\n",
       "2    #include <stdio.h>\\n\\nmain()\\n{\\n\\tint i;\\n\\ti...       0\n",
       "3    #include <stdio.h>\\nint main(){\\n    int i, j;...       0\n",
       "4    main(){int i,j;for(i=1;i<=9;i++)for(j=1;j<=9;j...       1\n",
       "..                                                 ...     ...\n",
       "232  #include<stdio.h> \\nint main() \\n{\\n    int a,...       0\n",
       "233  #include<stdio.h>\\nint main(void)\\n{\\n    int ...       0\n",
       "234  #include<stdio.h>\\n\\nint main(){\\n    int i, j...       0\n",
       "235  #include<stdio.h>\\n\\nint main(){\\n    int x=0,...       0\n",
       "236  #include<stdio.h>\\nint i,j,ans;\\nint main(){\\n...       0\n",
       "\n",
       "[237 rows x 2 columns]"
      ]
     },
     "execution_count": 23,
     "metadata": {},
     "output_type": "execute_result"
    }
   ],
   "source": [
    "final_df_train"
   ]
  },
  {
   "cell_type": "code",
   "execution_count": 24,
   "id": "4d3589ba",
   "metadata": {},
   "outputs": [
    {
     "data": {
      "text/html": [
       "<div>\n",
       "<style scoped>\n",
       "    .dataframe tbody tr th:only-of-type {\n",
       "        vertical-align: middle;\n",
       "    }\n",
       "\n",
       "    .dataframe tbody tr th {\n",
       "        vertical-align: top;\n",
       "    }\n",
       "\n",
       "    .dataframe thead th {\n",
       "        text-align: right;\n",
       "    }\n",
       "</style>\n",
       "<table border=\"1\" class=\"dataframe\">\n",
       "  <thead>\n",
       "    <tr style=\"text-align: right;\">\n",
       "      <th></th>\n",
       "      <th>code</th>\n",
       "      <th>labels</th>\n",
       "    </tr>\n",
       "  </thead>\n",
       "  <tbody>\n",
       "    <tr>\n",
       "      <th>0</th>\n",
       "      <td>#include&lt;stdio.h&gt;\\nint main(){\\n\\tint i,j;\\n\\t...</td>\n",
       "      <td>0</td>\n",
       "    </tr>\n",
       "    <tr>\n",
       "      <th>1</th>\n",
       "      <td>j;main(i){for(;j=i&lt;10;i++)for(;j&lt;10;j++)printf...</td>\n",
       "      <td>1</td>\n",
       "    </tr>\n",
       "    <tr>\n",
       "      <th>2</th>\n",
       "      <td>#include &lt;stdio.h&gt;\\nint main (void)\\n{\\n\\tint ...</td>\n",
       "      <td>0</td>\n",
       "    </tr>\n",
       "    <tr>\n",
       "      <th>3</th>\n",
       "      <td>#include&lt;stdio.h&gt;\\n\\nint main(){\\n  int i,j;\\n...</td>\n",
       "      <td>0</td>\n",
       "    </tr>\n",
       "    <tr>\n",
       "      <th>4</th>\n",
       "      <td>#include&lt;stdio.h&gt;\\nint main(){\\n    int i=1,j=...</td>\n",
       "      <td>0</td>\n",
       "    </tr>\n",
       "    <tr>\n",
       "      <th>5</th>\n",
       "      <td>#include &lt;stdio.h&gt;\\n\\nint main(void)\\n{\\n    f...</td>\n",
       "      <td>0</td>\n",
       "    </tr>\n",
       "    <tr>\n",
       "      <th>6</th>\n",
       "      <td>#include&lt;stdio.h&gt;\\nint main()\\n{\\n    int i,a,...</td>\n",
       "      <td>0</td>\n",
       "    </tr>\n",
       "    <tr>\n",
       "      <th>7</th>\n",
       "      <td>#include&lt;stdio.h&gt;\\nint main()\\n{\\n    int i,j;...</td>\n",
       "      <td>0</td>\n",
       "    </tr>\n",
       "    <tr>\n",
       "      <th>8</th>\n",
       "      <td>#include&lt;stdio.h&gt;\\n\\nint main()\\n{\\n\\tfor (int...</td>\n",
       "      <td>0</td>\n",
       "    </tr>\n",
       "    <tr>\n",
       "      <th>9</th>\n",
       "      <td>#include &lt;stdio.h&gt;\\nvoid main()\\n{\\n   int j,i...</td>\n",
       "      <td>1</td>\n",
       "    </tr>\n",
       "    <tr>\n",
       "      <th>10</th>\n",
       "      <td>#include &lt;stdio.h&gt;\\n\\nint main(void)\\n{\\n\\tint...</td>\n",
       "      <td>0</td>\n",
       "    </tr>\n",
       "    <tr>\n",
       "      <th>11</th>\n",
       "      <td>#include&lt;stdio.h&gt;\\nint main()\\n{\\n    int n=9,...</td>\n",
       "      <td>0</td>\n",
       "    </tr>\n",
       "    <tr>\n",
       "      <th>12</th>\n",
       "      <td>#include&lt;stdio.h&gt;\\nint main()\\n{\\n    int i,j;...</td>\n",
       "      <td>0</td>\n",
       "    </tr>\n",
       "    <tr>\n",
       "      <th>13</th>\n",
       "      <td>#include &lt;stdio.h&gt;\\nint main(void){\\n    for(i...</td>\n",
       "      <td>0</td>\n",
       "    </tr>\n",
       "    <tr>\n",
       "      <th>14</th>\n",
       "      <td>#include&lt;stdio.h&gt;\\nint main(){\\n    int i,j;\\n...</td>\n",
       "      <td>0</td>\n",
       "    </tr>\n",
       "    <tr>\n",
       "      <th>15</th>\n",
       "      <td>#include&lt;stdio.h&gt;\\nint main(){\\n\\tfor(char i=1...</td>\n",
       "      <td>0</td>\n",
       "    </tr>\n",
       "    <tr>\n",
       "      <th>16</th>\n",
       "      <td>#include&lt;stdio.h&gt;\\n\\nint main(){\\n    int i,u;...</td>\n",
       "      <td>0</td>\n",
       "    </tr>\n",
       "    <tr>\n",
       "      <th>17</th>\n",
       "      <td>#include&lt;stdio.h&gt;\\nint main(){\\n    int i,j,k;...</td>\n",
       "      <td>0</td>\n",
       "    </tr>\n",
       "    <tr>\n",
       "      <th>18</th>\n",
       "      <td>#include&lt;stdio.h&gt;\\nint main(){\\n\\tint i,j;\\n\\t...</td>\n",
       "      <td>0</td>\n",
       "    </tr>\n",
       "    <tr>\n",
       "      <th>19</th>\n",
       "      <td>#include&lt;stdio.h&gt;\\nint main()\\n{\\n    int n,i;...</td>\n",
       "      <td>0</td>\n",
       "    </tr>\n",
       "    <tr>\n",
       "      <th>20</th>\n",
       "      <td>#include &lt;stdio.h&gt;\\nint main()\\n{    int n, i;...</td>\n",
       "      <td>0</td>\n",
       "    </tr>\n",
       "    <tr>\n",
       "      <th>21</th>\n",
       "      <td>#include &lt;stdio.h&gt;\\n#include &lt;ctype.h&gt;\\n#inclu...</td>\n",
       "      <td>0</td>\n",
       "    </tr>\n",
       "    <tr>\n",
       "      <th>22</th>\n",
       "      <td>#include&lt;stdio.h&gt;\\nint main(void)\\n{\\n\\tint i,...</td>\n",
       "      <td>0</td>\n",
       "    </tr>\n",
       "    <tr>\n",
       "      <th>23</th>\n",
       "      <td>#include &lt;stdio.h&gt;\\n#include &lt;ctype.h&gt;\\n#inclu...</td>\n",
       "      <td>0</td>\n",
       "    </tr>\n",
       "    <tr>\n",
       "      <th>24</th>\n",
       "      <td>#include&lt;stdio.h&gt;\\nint main ()\\n{\\n int i,j;\\n...</td>\n",
       "      <td>0</td>\n",
       "    </tr>\n",
       "  </tbody>\n",
       "</table>\n",
       "</div>"
      ],
      "text/plain": [
       "                                                 code  labels\n",
       "0   #include<stdio.h>\\nint main(){\\n\\tint i,j;\\n\\t...       0\n",
       "1   j;main(i){for(;j=i<10;i++)for(;j<10;j++)printf...       1\n",
       "2   #include <stdio.h>\\nint main (void)\\n{\\n\\tint ...       0\n",
       "3   #include<stdio.h>\\n\\nint main(){\\n  int i,j;\\n...       0\n",
       "4   #include<stdio.h>\\nint main(){\\n    int i=1,j=...       0\n",
       "5   #include <stdio.h>\\n\\nint main(void)\\n{\\n    f...       0\n",
       "6   #include<stdio.h>\\nint main()\\n{\\n    int i,a,...       0\n",
       "7   #include<stdio.h>\\nint main()\\n{\\n    int i,j;...       0\n",
       "8   #include<stdio.h>\\n\\nint main()\\n{\\n\\tfor (int...       0\n",
       "9   #include <stdio.h>\\nvoid main()\\n{\\n   int j,i...       1\n",
       "10  #include <stdio.h>\\n\\nint main(void)\\n{\\n\\tint...       0\n",
       "11  #include<stdio.h>\\nint main()\\n{\\n    int n=9,...       0\n",
       "12  #include<stdio.h>\\nint main()\\n{\\n    int i,j;...       0\n",
       "13  #include <stdio.h>\\nint main(void){\\n    for(i...       0\n",
       "14  #include<stdio.h>\\nint main(){\\n    int i,j;\\n...       0\n",
       "15  #include<stdio.h>\\nint main(){\\n\\tfor(char i=1...       0\n",
       "16  #include<stdio.h>\\n\\nint main(){\\n    int i,u;...       0\n",
       "17  #include<stdio.h>\\nint main(){\\n    int i,j,k;...       0\n",
       "18  #include<stdio.h>\\nint main(){\\n\\tint i,j;\\n\\t...       0\n",
       "19  #include<stdio.h>\\nint main()\\n{\\n    int n,i;...       0\n",
       "20  #include <stdio.h>\\nint main()\\n{    int n, i;...       0\n",
       "21  #include <stdio.h>\\n#include <ctype.h>\\n#inclu...       0\n",
       "22  #include<stdio.h>\\nint main(void)\\n{\\n\\tint i,...       0\n",
       "23  #include <stdio.h>\\n#include <ctype.h>\\n#inclu...       0\n",
       "24  #include<stdio.h>\\nint main ()\\n{\\n int i,j;\\n...       0"
      ]
     },
     "execution_count": 24,
     "metadata": {},
     "output_type": "execute_result"
    }
   ],
   "source": [
    "final_df_test"
   ]
  },
  {
   "cell_type": "code",
   "execution_count": 25,
   "id": "cab5070a",
   "metadata": {},
   "outputs": [
    {
     "data": {
      "text/plain": [
       "InputExample(guid=None, text_a='Hello, world', text_b=None, label=1)"
      ]
     },
     "execution_count": 25,
     "metadata": {},
     "output_type": "execute_result"
    }
   ],
   "source": [
    "InputExample(guid=None,\n",
    "             text_a = \"Hello, world\",\n",
    "             text_b = None,\n",
    "             label = 1)"
   ]
  },
  {
   "cell_type": "code",
   "execution_count": 26,
   "id": "8452183e",
   "metadata": {},
   "outputs": [],
   "source": [
    "def convert_data_to_examples(train, test, code_snippet, label_of_code_snippet): \n",
    "  train_InputExamples = train.apply(lambda x: InputExample(guid=None, # Globally unique ID for bookkeeping, unused in this case\n",
    "                                                          text_a = x[code_snippet], \n",
    "                                                          text_b = None,\n",
    "                                                          label = x[label_of_code_snippet]), axis = 1)\n",
    "\n",
    "  validation_InputExamples = test.apply(lambda x: InputExample(guid=None, # Globally unique ID for bookkeeping, unused in this case\n",
    "                                                          text_a = x[code_snippet], \n",
    "                                                          text_b = None,\n",
    "                                                          label = x[label_of_code_snippet]), axis = 1)\n",
    "  \n",
    "  return train_InputExamples, validation_InputExamples\n"
   ]
  },
  {
   "cell_type": "code",
   "execution_count": 27,
   "id": "81a3b646",
   "metadata": {},
   "outputs": [],
   "source": [
    "train_InputExamples, validation_InputExamples = convert_data_to_examples(final_df_train, \n",
    "                                                                           final_df_test, \n",
    "                                                                           'code', \n",
    "                                                                           'labels')"
   ]
  },
  {
   "cell_type": "code",
   "execution_count": 28,
   "id": "1e2563fa",
   "metadata": {},
   "outputs": [],
   "source": [
    "def convert_examples_to_tf_dataset(examples, tokenizer, max_length=128):\n",
    "    features = [] # -> will hold InputFeatures to be converted later\n",
    "\n",
    "    for e in examples:\n",
    "        # Documentation is really strong for this method, so please take a look at it\n",
    "        input_dict = tokenizer.encode_plus(\n",
    "            e.text_a,\n",
    "            add_special_tokens=True,\n",
    "            max_length=max_length, # truncates if len(s) > max_length\n",
    "            return_token_type_ids=True,\n",
    "            return_attention_mask=True,\n",
    "            pad_to_max_length=True, # pads to the right by default # CHECK THIS for pad_to_max_length\n",
    "            truncation=True\n",
    "        )\n",
    "\n",
    "        input_ids, token_type_ids, attention_mask = (input_dict[\"input_ids\"],\n",
    "            input_dict[\"token_type_ids\"], input_dict['attention_mask'])\n",
    "\n",
    "        features.append(\n",
    "            InputFeatures(\n",
    "                input_ids=input_ids, attention_mask=attention_mask, token_type_ids=token_type_ids, label=e.label\n",
    "            )\n",
    "        )\n",
    "\n",
    "    def gen():\n",
    "        for f in features:\n",
    "            yield (\n",
    "                {\n",
    "                    \"input_ids\": f.input_ids,\n",
    "                    \"attention_mask\": f.attention_mask,\n",
    "                    \"token_type_ids\": f.token_type_ids,\n",
    "                },\n",
    "                f.label,\n",
    "            )\n",
    "\n",
    "    return tf.data.Dataset.from_generator(\n",
    "        gen,\n",
    "        ({\"input_ids\": tf.int32, \"attention_mask\": tf.int32, \"token_type_ids\": tf.int32}, tf.int64),\n",
    "        (\n",
    "            {\n",
    "                \"input_ids\": tf.TensorShape([None]),\n",
    "                \"attention_mask\": tf.TensorShape([None]),\n",
    "                \"token_type_ids\": tf.TensorShape([None]),\n",
    "            },\n",
    "            tf.TensorShape([]),\n",
    "        ),\n",
    "    )"
   ]
  },
  {
   "cell_type": "code",
   "execution_count": 29,
   "id": "b7d467bd",
   "metadata": {},
   "outputs": [],
   "source": [
    "code_snippet = 'code'\n",
    "label_of_code_snippet = 'labels'"
   ]
  },
  {
   "cell_type": "code",
   "execution_count": 30,
   "id": "ce0460a2",
   "metadata": {},
   "outputs": [
    {
     "name": "stderr",
     "output_type": "stream",
     "text": [
      "C:\\Users\\Hp\\anaconda3\\lib\\site-packages\\transformers\\tokenization_utils_base.py:2198: FutureWarning: The `pad_to_max_length` argument is deprecated and will be removed in a future version, use `padding=True` or `padding='longest'` to pad to the longest sequence in the batch, or use `padding='max_length'` to pad to a max length. In this case, you can give a specific length with `max_length` (e.g. `max_length=45`) or leave max_length to None to pad to the maximal input size of the model (e.g. 512 for Bert).\n",
      "  warnings.warn(\n"
     ]
    }
   ],
   "source": [
    "train_InputExamples, validation_InputExamples = convert_data_to_examples(final_df_train, final_df_test, code_snippet, label_of_code_snippet)\n",
    "\n",
    "train_data = convert_examples_to_tf_dataset(list(train_InputExamples), tokenizer)\n",
    "train_data = train_data.shuffle(100).batch(32).repeat(2)\n",
    "\n",
    "validation_data = convert_examples_to_tf_dataset(list(validation_InputExamples), tokenizer)\n",
    "validation_data = validation_data.batch(32)"
   ]
  },
  {
   "cell_type": "code",
   "execution_count": 31,
   "id": "ff16ab0d",
   "metadata": {},
   "outputs": [],
   "source": [
    "model.compile(optimizer=tf.keras.optimizers.Adam(learning_rate=3e-5, epsilon=1e-08, clipnorm=1.0), \n",
    "              loss=tf.keras.losses.SparseCategoricalCrossentropy(from_logits=True), \n",
    "              metrics=[tf.keras.metrics.SparseCategoricalAccuracy('accuracy')])"
   ]
  },
  {
   "cell_type": "code",
   "execution_count": null,
   "id": "1ce40435",
   "metadata": {},
   "outputs": [
    {
     "name": "stdout",
     "output_type": "stream",
     "text": [
      "Epoch 1/2\n",
      "WARNING:tensorflow:The parameters `output_attentions`, `output_hidden_states` and `use_cache` cannot be updated when calling a model.They have to be set to True/False in the config object (i.e.: `config=XConfig.from_pretrained('name', output_attentions=True)`).\n",
      "WARNING:tensorflow:AutoGraph could not transform <bound method Socket.send of <zmq.Socket(zmq.PUSH) at 0x26444b1e940>> and will run it as-is.\n",
      "Please report this to the TensorFlow team. When filing the bug, set the verbosity to 10 (on Linux, `export AUTOGRAPH_VERBOSITY=10`) and attach the full output.\n",
      "Cause: module, class, method, function, traceback, frame, or code object was expected, got cython_function_or_method\n",
      "To silence this warning, decorate the function with @tf.autograph.experimental.do_not_convert\n",
      "WARNING: AutoGraph could not transform <bound method Socket.send of <zmq.Socket(zmq.PUSH) at 0x26444b1e940>> and will run it as-is.\n",
      "Please report this to the TensorFlow team. When filing the bug, set the verbosity to 10 (on Linux, `export AUTOGRAPH_VERBOSITY=10`) and attach the full output.\n",
      "Cause: module, class, method, function, traceback, frame, or code object was expected, got cython_function_or_method\n",
      "To silence this warning, decorate the function with @tf.autograph.experimental.do_not_convert\n",
      "WARNING:tensorflow:The parameter `return_dict` cannot be set in graph mode and will always be set to `True`.\n",
      "WARNING:tensorflow:The parameters `output_attentions`, `output_hidden_states` and `use_cache` cannot be updated when calling a model.They have to be set to True/False in the config object (i.e.: `config=XConfig.from_pretrained('name', output_attentions=True)`).\n",
      "WARNING:tensorflow:The parameter `return_dict` cannot be set in graph mode and will always be set to `True`.\n",
      " 1/19 [>.............................] - ETA: 40:39 - loss: 0.6567 - accuracy: 0.6562"
     ]
    }
   ],
   "source": [
    "model.fit(train_data, epochs=2, validation_data=validation_data,verbose=1,batch_size=16,steps_per_epoch=19)"
   ]
  },
  {
   "cell_type": "code",
   "execution_count": null,
   "id": "0810f3fb",
   "metadata": {},
   "outputs": [],
   "source": []
  },
  {
   "cell_type": "code",
   "execution_count": null,
   "id": "d2aa075d",
   "metadata": {},
   "outputs": [],
   "source": []
  },
  {
   "cell_type": "code",
   "execution_count": null,
   "id": "c3f05bd8",
   "metadata": {},
   "outputs": [],
   "source": []
  },
  {
   "cell_type": "code",
   "execution_count": null,
   "id": "faff5937",
   "metadata": {},
   "outputs": [],
   "source": []
  },
  {
   "cell_type": "code",
   "execution_count": null,
   "id": "eaa74616",
   "metadata": {},
   "outputs": [],
   "source": []
  },
  {
   "cell_type": "code",
   "execution_count": null,
   "id": "48e4f805",
   "metadata": {},
   "outputs": [],
   "source": []
  },
  {
   "cell_type": "code",
   "execution_count": null,
   "id": "bc37ad57",
   "metadata": {},
   "outputs": [],
   "source": []
  },
  {
   "cell_type": "code",
   "execution_count": null,
   "id": "1514cf68",
   "metadata": {},
   "outputs": [],
   "source": []
  },
  {
   "cell_type": "code",
   "execution_count": null,
   "id": "cc6922d5",
   "metadata": {},
   "outputs": [],
   "source": []
  },
  {
   "cell_type": "code",
   "execution_count": null,
   "id": "904240e9",
   "metadata": {},
   "outputs": [],
   "source": []
  },
  {
   "cell_type": "code",
   "execution_count": null,
   "id": "79d29a66",
   "metadata": {},
   "outputs": [],
   "source": []
  },
  {
   "cell_type": "code",
   "execution_count": null,
   "id": "3934d08a",
   "metadata": {},
   "outputs": [],
   "source": []
  }
 ],
 "metadata": {
  "kernelspec": {
   "display_name": "Python 3 (ipykernel)",
   "language": "python",
   "name": "python3"
  },
  "language_info": {
   "codemirror_mode": {
    "name": "ipython",
    "version": 3
   },
   "file_extension": ".py",
   "mimetype": "text/x-python",
   "name": "python",
   "nbconvert_exporter": "python",
   "pygments_lexer": "ipython3",
   "version": "3.9.12"
  }
 },
 "nbformat": 4,
 "nbformat_minor": 5
}
