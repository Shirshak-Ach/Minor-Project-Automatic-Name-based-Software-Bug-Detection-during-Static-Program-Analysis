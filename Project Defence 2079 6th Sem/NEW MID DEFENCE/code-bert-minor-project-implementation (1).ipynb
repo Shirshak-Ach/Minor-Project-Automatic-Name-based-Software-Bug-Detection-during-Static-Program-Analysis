{
 "cells": [
  {
   "cell_type": "code",
   "execution_count": 41,
   "metadata": {
    "_cell_guid": "b1076dfc-b9ad-4769-8c92-a6c4dae69d19",
    "_uuid": "8f2839f25d086af736a60e9eeb907d3b93b6e0e5",
    "execution": {
     "iopub.execute_input": "2023-02-01T08:17:15.726445Z",
     "iopub.status.busy": "2023-02-01T08:17:15.726072Z",
     "iopub.status.idle": "2023-02-01T08:17:15.731641Z",
     "shell.execute_reply": "2023-02-01T08:17:15.730647Z",
     "shell.execute_reply.started": "2023-02-01T08:17:15.726414Z"
    }
   },
   "outputs": [],
   "source": [
    "# # This Python 3 environment comes with many helpful analytics libraries installed\n",
    "# # It is defined by the kaggle/python Docker image: https://github.com/kaggle/docker-python\n",
    "# # For example, here's several helpful packages to load\n",
    "\n",
    "# import numpy as np # linear algebra\n",
    "# import pandas as pd # data processing, CSV file I/O (e.g. pd.read_csv)\n",
    "\n",
    "# # Input data files are available in the read-only \"../input/\" directory\n",
    "# # For example, running this (by clicking run or pressing Shift+Enter) will list all files under the input directory\n",
    "\n",
    "# import os\n",
    "# for dirname, _, filenames in os.walk('/kaggle/input'):\n",
    "#     for filename in filenames:\n",
    "#         print(os.path.join(dirname, filename))\n",
    "\n",
    "# # You can write up to 20GB to the current directory (/kaggle/working/) that gets preserved as output when you create a version using \"Save & Run All\" \n",
    "# # You can also write temporary files to /kaggle/temp/, but they won't be saved outside of the current session"
   ]
  },
  {
   "cell_type": "code",
   "execution_count": 55,
   "metadata": {
    "execution": {
     "iopub.execute_input": "2023-02-01T08:26:49.737375Z",
     "iopub.status.busy": "2023-02-01T08:26:49.736994Z",
     "iopub.status.idle": "2023-02-01T08:26:49.743727Z",
     "shell.execute_reply": "2023-02-01T08:26:49.742045Z",
     "shell.execute_reply.started": "2023-02-01T08:26:49.737343Z"
    }
   },
   "outputs": [],
   "source": [
    "from transformers import BertTokenizer, TFBertForSequenceClassification\n",
    "from transformers import InputExample, InputFeatures\n",
    "import tensorflow as tf\n",
    "import pandas as pd\n",
    "import re"
   ]
  },
  {
   "cell_type": "code",
   "execution_count": 61,
   "metadata": {
    "execution": {
     "iopub.execute_input": "2023-02-01T08:29:11.706134Z",
     "iopub.status.busy": "2023-02-01T08:29:11.705742Z",
     "iopub.status.idle": "2023-02-01T08:29:11.820834Z",
     "shell.execute_reply": "2023-02-01T08:29:11.819677Z",
     "shell.execute_reply.started": "2023-02-01T08:29:11.706101Z"
    }
   },
   "outputs": [
    {
     "name": "stderr",
     "output_type": "stream",
     "text": [
      "/opt/conda/lib/python3.7/site-packages/IPython/core/interactiveshell.py:3552: DtypeWarning: Columns (8,9,10) have mixed types.Specify dtype option on import or set low_memory=False.\n",
      "  exec(code_obj, self.user_global_ns, self.user_ns)\n"
     ]
    }
   ],
   "source": [
    "df = pd.read_csv(\"/kaggle/input/c-code-from-project-code-net/function_swap_samples.csv\")#/kaggle/input/my-data\n",
    "#df.columns = [\"called_function\",\"argument_1\",\"argument_2\",\"type_of_argument\",\"formal_parameter_1\",\"formal_parameter_2\",\"label\"]"
   ]
  },
  {
   "cell_type": "code",
   "execution_count": 62,
   "metadata": {
    "execution": {
     "iopub.execute_input": "2023-02-01T08:29:12.680209Z",
     "iopub.status.busy": "2023-02-01T08:29:12.679867Z",
     "iopub.status.idle": "2023-02-01T08:29:12.718054Z",
     "shell.execute_reply": "2023-02-01T08:29:12.717124Z",
     "shell.execute_reply.started": "2023-02-01T08:29:12.680180Z"
    }
   },
   "outputs": [
    {
     "data": {
      "text/plain": [
       "function_name      646\n",
       "arg1               705\n",
       "arg2               708\n",
       "arg_type             3\n",
       "param1           64505\n",
       "param2           64498\n",
       "labels              23\n",
       "Unnamed: 7       87266\n",
       "Unnamed: 8       87300\n",
       "Unnamed: 9       87303\n",
       "Unnamed: 10      87303\n",
       "Unnamed: 11      87303\n",
       "dtype: int64"
      ]
     },
     "execution_count": 62,
     "metadata": {},
     "output_type": "execute_result"
    }
   ],
   "source": [
    "df.isna().sum()"
   ]
  },
  {
   "cell_type": "code",
   "execution_count": 63,
   "metadata": {
    "execution": {
     "iopub.execute_input": "2023-02-01T08:29:13.940379Z",
     "iopub.status.busy": "2023-02-01T08:29:13.940010Z",
     "iopub.status.idle": "2023-02-01T08:29:13.964225Z",
     "shell.execute_reply": "2023-02-01T08:29:13.963314Z",
     "shell.execute_reply.started": "2023-02-01T08:29:13.940348Z"
    }
   },
   "outputs": [
    {
     "data": {
      "text/html": [
       "<div>\n",
       "<style scoped>\n",
       "    .dataframe tbody tr th:only-of-type {\n",
       "        vertical-align: middle;\n",
       "    }\n",
       "\n",
       "    .dataframe tbody tr th {\n",
       "        vertical-align: top;\n",
       "    }\n",
       "\n",
       "    .dataframe thead th {\n",
       "        text-align: right;\n",
       "    }\n",
       "</style>\n",
       "<table border=\"1\" class=\"dataframe\">\n",
       "  <thead>\n",
       "    <tr style=\"text-align: right;\">\n",
       "      <th></th>\n",
       "      <th>function_name</th>\n",
       "      <th>arg1</th>\n",
       "      <th>arg2</th>\n",
       "      <th>arg_type</th>\n",
       "      <th>param1</th>\n",
       "      <th>param2</th>\n",
       "      <th>labels</th>\n",
       "    </tr>\n",
       "  </thead>\n",
       "  <tbody>\n",
       "    <tr>\n",
       "      <th>0</th>\n",
       "      <td>fopen</td>\n",
       "      <td>file</td>\n",
       "      <td>r</td>\n",
       "      <td>FILE *</td>\n",
       "      <td>__filename</td>\n",
       "      <td>__modes</td>\n",
       "      <td>0</td>\n",
       "    </tr>\n",
       "    <tr>\n",
       "      <th>1</th>\n",
       "      <td>fopen</td>\n",
       "      <td>r</td>\n",
       "      <td>file</td>\n",
       "      <td>FILE *</td>\n",
       "      <td>__filename</td>\n",
       "      <td>__modes</td>\n",
       "      <td>1</td>\n",
       "    </tr>\n",
       "    <tr>\n",
       "      <th>2</th>\n",
       "      <td>fopen</td>\n",
       "      <td>tempbuf</td>\n",
       "      <td>wt</td>\n",
       "      <td>FILE *</td>\n",
       "      <td>__filename</td>\n",
       "      <td>__modes</td>\n",
       "      <td>0</td>\n",
       "    </tr>\n",
       "    <tr>\n",
       "      <th>3</th>\n",
       "      <td>fopen</td>\n",
       "      <td>wt</td>\n",
       "      <td>tempbuf</td>\n",
       "      <td>FILE *</td>\n",
       "      <td>__filename</td>\n",
       "      <td>__modes</td>\n",
       "      <td>1</td>\n",
       "    </tr>\n",
       "    <tr>\n",
       "      <th>4</th>\n",
       "      <td>strcmp</td>\n",
       "      <td>ext</td>\n",
       "      <td>extension</td>\n",
       "      <td>int</td>\n",
       "      <td>NaN</td>\n",
       "      <td>NaN</td>\n",
       "      <td>0</td>\n",
       "    </tr>\n",
       "    <tr>\n",
       "      <th>...</th>\n",
       "      <td>...</td>\n",
       "      <td>...</td>\n",
       "      <td>...</td>\n",
       "      <td>...</td>\n",
       "      <td>...</td>\n",
       "      <td>...</td>\n",
       "      <td>...</td>\n",
       "    </tr>\n",
       "    <tr>\n",
       "      <th>87299</th>\n",
       "      <td>__aeabi_fcmpge</td>\n",
       "      <td>fone</td>\n",
       "      <td>fzero</td>\n",
       "      <td>int</td>\n",
       "      <td>NaN</td>\n",
       "      <td>NaN</td>\n",
       "      <td>1</td>\n",
       "    </tr>\n",
       "    <tr>\n",
       "      <th>87300</th>\n",
       "      <td>__aeabi_fcmpge</td>\n",
       "      <td>fone</td>\n",
       "      <td>fzero</td>\n",
       "      <td>int</td>\n",
       "      <td>NaN</td>\n",
       "      <td>NaN</td>\n",
       "      <td>0</td>\n",
       "    </tr>\n",
       "    <tr>\n",
       "      <th>87301</th>\n",
       "      <td>__aeabi_fcmpge</td>\n",
       "      <td>fzero</td>\n",
       "      <td>fone</td>\n",
       "      <td>int</td>\n",
       "      <td>NaN</td>\n",
       "      <td>NaN</td>\n",
       "      <td>1</td>\n",
       "    </tr>\n",
       "    <tr>\n",
       "      <th>87302</th>\n",
       "      <td>__aeabi_fcmpge</td>\n",
       "      <td>fzero</td>\n",
       "      <td>fNaN</td>\n",
       "      <td>int</td>\n",
       "      <td>NaN</td>\n",
       "      <td>NaN</td>\n",
       "      <td>0</td>\n",
       "    </tr>\n",
       "    <tr>\n",
       "      <th>87303</th>\n",
       "      <td>__aeabi_fcmpge</td>\n",
       "      <td>fNaN</td>\n",
       "      <td>fzero</td>\n",
       "      <td>int</td>\n",
       "      <td>NaN</td>\n",
       "      <td>NaN</td>\n",
       "      <td>1</td>\n",
       "    </tr>\n",
       "  </tbody>\n",
       "</table>\n",
       "<p>87304 rows × 7 columns</p>\n",
       "</div>"
      ],
      "text/plain": [
       "        function_name     arg1       arg2 arg_type      param1   param2 labels\n",
       "0               fopen     file          r   FILE *  __filename  __modes      0\n",
       "1               fopen        r       file   FILE *  __filename  __modes      1\n",
       "2               fopen  tempbuf         wt   FILE *  __filename  __modes      0\n",
       "3               fopen       wt    tempbuf   FILE *  __filename  __modes      1\n",
       "4              strcmp      ext  extension      int         NaN      NaN      0\n",
       "...               ...      ...        ...      ...         ...      ...    ...\n",
       "87299  __aeabi_fcmpge     fone      fzero      int         NaN      NaN      1\n",
       "87300  __aeabi_fcmpge     fone      fzero      int         NaN      NaN      0\n",
       "87301  __aeabi_fcmpge    fzero       fone      int         NaN      NaN      1\n",
       "87302  __aeabi_fcmpge    fzero       fNaN      int         NaN      NaN      0\n",
       "87303  __aeabi_fcmpge     fNaN      fzero      int         NaN      NaN      1\n",
       "\n",
       "[87304 rows x 7 columns]"
      ]
     },
     "execution_count": 63,
     "metadata": {},
     "output_type": "execute_result"
    }
   ],
   "source": [
    "df.drop(['Unnamed: 7','Unnamed: 8','Unnamed: 9','Unnamed: 10','Unnamed: 11'],axis=1,inplace=True)\n",
    "df"
   ]
  },
  {
   "cell_type": "code",
   "execution_count": 64,
   "metadata": {
    "execution": {
     "iopub.execute_input": "2023-02-01T08:29:31.494201Z",
     "iopub.status.busy": "2023-02-01T08:29:31.493814Z",
     "iopub.status.idle": "2023-02-01T08:29:31.527644Z",
     "shell.execute_reply": "2023-02-01T08:29:31.526309Z",
     "shell.execute_reply.started": "2023-02-01T08:29:31.494168Z"
    }
   },
   "outputs": [
    {
     "data": {
      "text/plain": [
       "function_name      646\n",
       "arg1               705\n",
       "arg2               708\n",
       "arg_type             3\n",
       "param1           64505\n",
       "param2           64498\n",
       "labels              23\n",
       "dtype: int64"
      ]
     },
     "execution_count": 64,
     "metadata": {},
     "output_type": "execute_result"
    }
   ],
   "source": [
    "df.isna().sum()"
   ]
  },
  {
   "cell_type": "code",
   "execution_count": 66,
   "metadata": {
    "execution": {
     "iopub.execute_input": "2023-02-01T08:31:27.164822Z",
     "iopub.status.busy": "2023-02-01T08:31:27.164456Z",
     "iopub.status.idle": "2023-02-01T08:31:27.207011Z",
     "shell.execute_reply": "2023-02-01T08:31:27.206120Z",
     "shell.execute_reply.started": "2023-02-01T08:31:27.164792Z"
    }
   },
   "outputs": [],
   "source": [
    "df['function_name'] = df['function_name'].fillna('[UNK]')\n",
    "df['arg1']=df['arg1'].fillna('[UNK]')\n",
    "df['arg2']=df['arg2'].fillna('[UNK]')\n",
    "df['arg_type']=df['arg_type'].fillna('[UNK]')\n",
    "df['param1']=df['param1'].fillna('[UNK]')\n",
    "df['param2']=df['param2'].fillna('[UNK]')\n",
    "df['labels']=df['labels'].fillna('[UNK]')"
   ]
  },
  {
   "cell_type": "code",
   "execution_count": 67,
   "metadata": {
    "execution": {
     "iopub.execute_input": "2023-02-01T08:31:30.200936Z",
     "iopub.status.busy": "2023-02-01T08:31:30.200582Z",
     "iopub.status.idle": "2023-02-01T08:31:30.229882Z",
     "shell.execute_reply": "2023-02-01T08:31:30.228684Z",
     "shell.execute_reply.started": "2023-02-01T08:31:30.200906Z"
    }
   },
   "outputs": [
    {
     "data": {
      "text/plain": [
       "function_name    0\n",
       "arg1             0\n",
       "arg2             0\n",
       "arg_type         0\n",
       "param1           0\n",
       "param2           0\n",
       "labels           0\n",
       "dtype: int64"
      ]
     },
     "execution_count": 67,
     "metadata": {},
     "output_type": "execute_result"
    }
   ],
   "source": [
    "df.isna().sum()"
   ]
  },
  {
   "cell_type": "code",
   "execution_count": 68,
   "metadata": {
    "execution": {
     "iopub.execute_input": "2023-02-01T08:31:33.449904Z",
     "iopub.status.busy": "2023-02-01T08:31:33.449117Z",
     "iopub.status.idle": "2023-02-01T08:31:33.515179Z",
     "shell.execute_reply": "2023-02-01T08:31:33.513694Z",
     "shell.execute_reply.started": "2023-02-01T08:31:33.449868Z"
    }
   },
   "outputs": [
    {
     "ename": "KeyError",
     "evalue": "'called_function'",
     "output_type": "error",
     "traceback": [
      "\u001b[0;31m---------------------------------------------------------------------------\u001b[0m",
      "\u001b[0;31mKeyError\u001b[0m                                  Traceback (most recent call last)",
      "\u001b[0;32m/opt/conda/lib/python3.7/site-packages/pandas/core/indexes/base.py\u001b[0m in \u001b[0;36mget_loc\u001b[0;34m(self, key, method, tolerance)\u001b[0m\n\u001b[1;32m   3360\u001b[0m             \u001b[0;32mtry\u001b[0m\u001b[0;34m:\u001b[0m\u001b[0;34m\u001b[0m\u001b[0;34m\u001b[0m\u001b[0m\n\u001b[0;32m-> 3361\u001b[0;31m                 \u001b[0;32mreturn\u001b[0m \u001b[0mself\u001b[0m\u001b[0;34m.\u001b[0m\u001b[0m_engine\u001b[0m\u001b[0;34m.\u001b[0m\u001b[0mget_loc\u001b[0m\u001b[0;34m(\u001b[0m\u001b[0mcasted_key\u001b[0m\u001b[0;34m)\u001b[0m\u001b[0;34m\u001b[0m\u001b[0;34m\u001b[0m\u001b[0m\n\u001b[0m\u001b[1;32m   3362\u001b[0m             \u001b[0;32mexcept\u001b[0m \u001b[0mKeyError\u001b[0m \u001b[0;32mas\u001b[0m \u001b[0merr\u001b[0m\u001b[0;34m:\u001b[0m\u001b[0;34m\u001b[0m\u001b[0;34m\u001b[0m\u001b[0m\n",
      "\u001b[0;32m/opt/conda/lib/python3.7/site-packages/pandas/_libs/index.pyx\u001b[0m in \u001b[0;36mpandas._libs.index.IndexEngine.get_loc\u001b[0;34m()\u001b[0m\n",
      "\u001b[0;32m/opt/conda/lib/python3.7/site-packages/pandas/_libs/index.pyx\u001b[0m in \u001b[0;36mpandas._libs.index.IndexEngine.get_loc\u001b[0;34m()\u001b[0m\n",
      "\u001b[0;32mpandas/_libs/hashtable_class_helper.pxi\u001b[0m in \u001b[0;36mpandas._libs.hashtable.PyObjectHashTable.get_item\u001b[0;34m()\u001b[0m\n",
      "\u001b[0;32mpandas/_libs/hashtable_class_helper.pxi\u001b[0m in \u001b[0;36mpandas._libs.hashtable.PyObjectHashTable.get_item\u001b[0;34m()\u001b[0m\n",
      "\u001b[0;31mKeyError\u001b[0m: 'called_function'",
      "\nThe above exception was the direct cause of the following exception:\n",
      "\u001b[0;31mKeyError\u001b[0m                                  Traceback (most recent call last)",
      "\u001b[0;32m/tmp/ipykernel_70/838385981.py\u001b[0m in \u001b[0;36m<module>\u001b[0;34m\u001b[0m\n\u001b[0;32m----> 1\u001b[0;31m \u001b[0mdf\u001b[0m\u001b[0;34m[\u001b[0m\u001b[0;34m'total'\u001b[0m\u001b[0;34m]\u001b[0m \u001b[0;34m=\u001b[0m \u001b[0mdf\u001b[0m\u001b[0;34m[\u001b[0m\u001b[0;34m'called_function'\u001b[0m\u001b[0;34m]\u001b[0m \u001b[0;34m+\u001b[0m \u001b[0;34m'[SEP]'\u001b[0m\u001b[0;34m+\u001b[0m \u001b[0mdf\u001b[0m\u001b[0;34m[\u001b[0m\u001b[0;34m'argument_1'\u001b[0m\u001b[0;34m]\u001b[0m \u001b[0;34m+\u001b[0m \u001b[0;34m'[SEP]'\u001b[0m\u001b[0;34m+\u001b[0m\u001b[0mdf\u001b[0m\u001b[0;34m[\u001b[0m\u001b[0;34m'type_of_argument'\u001b[0m\u001b[0;34m]\u001b[0m \u001b[0;34m+\u001b[0m \u001b[0;34m'[SEP]'\u001b[0m\u001b[0;34m+\u001b[0m \u001b[0mdf\u001b[0m\u001b[0;34m[\u001b[0m\u001b[0;34m'formal_parameter_1'\u001b[0m\u001b[0;34m]\u001b[0m \u001b[0;34m+\u001b[0m \u001b[0;34m'[SEP]'\u001b[0m\u001b[0;34m+\u001b[0m\u001b[0mdf\u001b[0m\u001b[0;34m[\u001b[0m\u001b[0;34m'formal_parameter_2'\u001b[0m\u001b[0;34m]\u001b[0m\u001b[0;34m\u001b[0m\u001b[0;34m\u001b[0m\u001b[0m\n\u001b[0m",
      "\u001b[0;32m/opt/conda/lib/python3.7/site-packages/pandas/core/frame.py\u001b[0m in \u001b[0;36m__getitem__\u001b[0;34m(self, key)\u001b[0m\n\u001b[1;32m   3456\u001b[0m             \u001b[0;32mif\u001b[0m \u001b[0mself\u001b[0m\u001b[0;34m.\u001b[0m\u001b[0mcolumns\u001b[0m\u001b[0;34m.\u001b[0m\u001b[0mnlevels\u001b[0m \u001b[0;34m>\u001b[0m \u001b[0;36m1\u001b[0m\u001b[0;34m:\u001b[0m\u001b[0;34m\u001b[0m\u001b[0;34m\u001b[0m\u001b[0m\n\u001b[1;32m   3457\u001b[0m                 \u001b[0;32mreturn\u001b[0m \u001b[0mself\u001b[0m\u001b[0;34m.\u001b[0m\u001b[0m_getitem_multilevel\u001b[0m\u001b[0;34m(\u001b[0m\u001b[0mkey\u001b[0m\u001b[0;34m)\u001b[0m\u001b[0;34m\u001b[0m\u001b[0;34m\u001b[0m\u001b[0m\n\u001b[0;32m-> 3458\u001b[0;31m             \u001b[0mindexer\u001b[0m \u001b[0;34m=\u001b[0m \u001b[0mself\u001b[0m\u001b[0;34m.\u001b[0m\u001b[0mcolumns\u001b[0m\u001b[0;34m.\u001b[0m\u001b[0mget_loc\u001b[0m\u001b[0;34m(\u001b[0m\u001b[0mkey\u001b[0m\u001b[0;34m)\u001b[0m\u001b[0;34m\u001b[0m\u001b[0;34m\u001b[0m\u001b[0m\n\u001b[0m\u001b[1;32m   3459\u001b[0m             \u001b[0;32mif\u001b[0m \u001b[0mis_integer\u001b[0m\u001b[0;34m(\u001b[0m\u001b[0mindexer\u001b[0m\u001b[0;34m)\u001b[0m\u001b[0;34m:\u001b[0m\u001b[0;34m\u001b[0m\u001b[0;34m\u001b[0m\u001b[0m\n\u001b[1;32m   3460\u001b[0m                 \u001b[0mindexer\u001b[0m \u001b[0;34m=\u001b[0m \u001b[0;34m[\u001b[0m\u001b[0mindexer\u001b[0m\u001b[0;34m]\u001b[0m\u001b[0;34m\u001b[0m\u001b[0;34m\u001b[0m\u001b[0m\n",
      "\u001b[0;32m/opt/conda/lib/python3.7/site-packages/pandas/core/indexes/base.py\u001b[0m in \u001b[0;36mget_loc\u001b[0;34m(self, key, method, tolerance)\u001b[0m\n\u001b[1;32m   3361\u001b[0m                 \u001b[0;32mreturn\u001b[0m \u001b[0mself\u001b[0m\u001b[0;34m.\u001b[0m\u001b[0m_engine\u001b[0m\u001b[0;34m.\u001b[0m\u001b[0mget_loc\u001b[0m\u001b[0;34m(\u001b[0m\u001b[0mcasted_key\u001b[0m\u001b[0;34m)\u001b[0m\u001b[0;34m\u001b[0m\u001b[0;34m\u001b[0m\u001b[0m\n\u001b[1;32m   3362\u001b[0m             \u001b[0;32mexcept\u001b[0m \u001b[0mKeyError\u001b[0m \u001b[0;32mas\u001b[0m \u001b[0merr\u001b[0m\u001b[0;34m:\u001b[0m\u001b[0;34m\u001b[0m\u001b[0;34m\u001b[0m\u001b[0m\n\u001b[0;32m-> 3363\u001b[0;31m                 \u001b[0;32mraise\u001b[0m \u001b[0mKeyError\u001b[0m\u001b[0;34m(\u001b[0m\u001b[0mkey\u001b[0m\u001b[0;34m)\u001b[0m \u001b[0;32mfrom\u001b[0m \u001b[0merr\u001b[0m\u001b[0;34m\u001b[0m\u001b[0;34m\u001b[0m\u001b[0m\n\u001b[0m\u001b[1;32m   3364\u001b[0m \u001b[0;34m\u001b[0m\u001b[0m\n\u001b[1;32m   3365\u001b[0m         \u001b[0;32mif\u001b[0m \u001b[0mis_scalar\u001b[0m\u001b[0;34m(\u001b[0m\u001b[0mkey\u001b[0m\u001b[0;34m)\u001b[0m \u001b[0;32mand\u001b[0m \u001b[0misna\u001b[0m\u001b[0;34m(\u001b[0m\u001b[0mkey\u001b[0m\u001b[0;34m)\u001b[0m \u001b[0;32mand\u001b[0m \u001b[0;32mnot\u001b[0m \u001b[0mself\u001b[0m\u001b[0;34m.\u001b[0m\u001b[0mhasnans\u001b[0m\u001b[0;34m:\u001b[0m\u001b[0;34m\u001b[0m\u001b[0;34m\u001b[0m\u001b[0m\n",
      "\u001b[0;31mKeyError\u001b[0m: 'called_function'"
     ]
    }
   ],
   "source": [
    "df['total'] = df['function_name'] + '[SEP]'+ df['arg1'] + '[SEP]'+df['arg2'] + '[SEP]'+ df['arg_type'] + '[SEP]'+df['formal_parameter_2']"
   ]
  },
  {
   "cell_type": "code",
   "execution_count": 49,
   "metadata": {
    "execution": {
     "iopub.execute_input": "2023-02-01T08:17:45.691068Z",
     "iopub.status.busy": "2023-02-01T08:17:45.690138Z",
     "iopub.status.idle": "2023-02-01T08:17:45.699711Z",
     "shell.execute_reply": "2023-02-01T08:17:45.698723Z",
     "shell.execute_reply.started": "2023-02-01T08:17:45.691024Z"
    }
   },
   "outputs": [],
   "source": [
    "df.drop(['called_function','argument_1','argument_2','type_of_argument','formal_parameter_1','formal_parameter_2'],axis=1,inplace=True)"
   ]
  },
  {
   "cell_type": "code",
   "execution_count": 50,
   "metadata": {
    "execution": {
     "iopub.execute_input": "2023-02-01T08:17:46.796194Z",
     "iopub.status.busy": "2023-02-01T08:17:46.795854Z",
     "iopub.status.idle": "2023-02-01T08:17:46.804339Z",
     "shell.execute_reply": "2023-02-01T08:17:46.803351Z",
     "shell.execute_reply.started": "2023-02-01T08:17:46.796165Z"
    }
   },
   "outputs": [],
   "source": [
    "df = df.sample(frac = 1) # shuffling the dataset\n",
    "df.reset_index(drop=True,inplace=True)"
   ]
  },
  {
   "cell_type": "code",
   "execution_count": 51,
   "metadata": {
    "execution": {
     "iopub.execute_input": "2023-02-01T08:17:48.023794Z",
     "iopub.status.busy": "2023-02-01T08:17:48.023356Z",
     "iopub.status.idle": "2023-02-01T08:17:48.040054Z",
     "shell.execute_reply": "2023-02-01T08:17:48.038279Z",
     "shell.execute_reply.started": "2023-02-01T08:17:48.023759Z"
    }
   },
   "outputs": [
    {
     "data": {
      "text/html": [
       "<div>\n",
       "<style scoped>\n",
       "    .dataframe tbody tr th:only-of-type {\n",
       "        vertical-align: middle;\n",
       "    }\n",
       "\n",
       "    .dataframe tbody tr th {\n",
       "        vertical-align: top;\n",
       "    }\n",
       "\n",
       "    .dataframe thead th {\n",
       "        text-align: right;\n",
       "    }\n",
       "</style>\n",
       "<table border=\"1\" class=\"dataframe\">\n",
       "  <thead>\n",
       "    <tr style=\"text-align: right;\">\n",
       "      <th></th>\n",
       "      <th>label</th>\n",
       "      <th>total</th>\n",
       "    </tr>\n",
       "  </thead>\n",
       "  <tbody>\n",
       "    <tr>\n",
       "      <th>0</th>\n",
       "      <td>1</td>\n",
       "      <td>glVertex2f[SEP]yc[SEP]int[SEP][UNK][SEP][UNK]</td>\n",
       "    </tr>\n",
       "    <tr>\n",
       "      <th>1</th>\n",
       "      <td>1</td>\n",
       "      <td>strcmp[SEP]host[SEP]int[SEP][UNK][SEP][UNK]</td>\n",
       "    </tr>\n",
       "    <tr>\n",
       "      <th>2</th>\n",
       "      <td>1</td>\n",
       "      <td>mtdcr[SEP]0x00000000[SEP]int[SEP][UNK][SEP][UNK]</td>\n",
       "    </tr>\n",
       "    <tr>\n",
       "      <th>3</th>\n",
       "      <td>1</td>\n",
       "      <td>ACPI_OPTION[SEP]Get table via a physical addre...</td>\n",
       "    </tr>\n",
       "    <tr>\n",
       "      <th>4</th>\n",
       "      <td>1</td>\n",
       "      <td>mtdcr[SEP]0x00000056[SEP]int[SEP][UNK][SEP][UNK]</td>\n",
       "    </tr>\n",
       "    <tr>\n",
       "      <th>...</th>\n",
       "      <td>...</td>\n",
       "      <td>...</td>\n",
       "    </tr>\n",
       "    <tr>\n",
       "      <th>10801</th>\n",
       "      <td>0</td>\n",
       "      <td>glVertex2f[SEP]xc[SEP]int[SEP][UNK][SEP][UNK]</td>\n",
       "    </tr>\n",
       "    <tr>\n",
       "      <th>10802</th>\n",
       "      <td>1</td>\n",
       "      <td>strcmp[SEP]workload[SEP]int[SEP][UNK][SEP][UNK]</td>\n",
       "    </tr>\n",
       "    <tr>\n",
       "      <th>10803</th>\n",
       "      <td>1</td>\n",
       "      <td>printf[SEP]__func__[SEP]int[SEP][UNK][SEP][UNK]</td>\n",
       "    </tr>\n",
       "    <tr>\n",
       "      <th>10804</th>\n",
       "      <td>1</td>\n",
       "      <td>expect[SEP]a[SEP]int[SEP][UNK][SEP][UNK]</td>\n",
       "    </tr>\n",
       "    <tr>\n",
       "      <th>10805</th>\n",
       "      <td>0</td>\n",
       "      <td>load_runtime_reg[SEP]base[SEP]unsigned int[SEP...</td>\n",
       "    </tr>\n",
       "  </tbody>\n",
       "</table>\n",
       "<p>10806 rows × 2 columns</p>\n",
       "</div>"
      ],
      "text/plain": [
       "       label                                              total\n",
       "0          1      glVertex2f[SEP]yc[SEP]int[SEP][UNK][SEP][UNK]\n",
       "1          1        strcmp[SEP]host[SEP]int[SEP][UNK][SEP][UNK]\n",
       "2          1   mtdcr[SEP]0x00000000[SEP]int[SEP][UNK][SEP][UNK]\n",
       "3          1  ACPI_OPTION[SEP]Get table via a physical addre...\n",
       "4          1   mtdcr[SEP]0x00000056[SEP]int[SEP][UNK][SEP][UNK]\n",
       "...      ...                                                ...\n",
       "10801      0      glVertex2f[SEP]xc[SEP]int[SEP][UNK][SEP][UNK]\n",
       "10802      1    strcmp[SEP]workload[SEP]int[SEP][UNK][SEP][UNK]\n",
       "10803      1    printf[SEP]__func__[SEP]int[SEP][UNK][SEP][UNK]\n",
       "10804      1           expect[SEP]a[SEP]int[SEP][UNK][SEP][UNK]\n",
       "10805      0  load_runtime_reg[SEP]base[SEP]unsigned int[SEP...\n",
       "\n",
       "[10806 rows x 2 columns]"
      ]
     },
     "execution_count": 51,
     "metadata": {},
     "output_type": "execute_result"
    }
   ],
   "source": [
    "df"
   ]
  },
  {
   "cell_type": "code",
   "execution_count": null,
   "metadata": {
    "execution": {
     "iopub.execute_input": "2023-02-01T07:38:37.800735Z",
     "iopub.status.busy": "2023-02-01T07:38:37.798668Z"
    }
   },
   "outputs": [
    {
     "data": {
      "application/vnd.jupyter.widget-view+json": {
       "model_id": "c4fa6e0b90134a64bb586c879de017c4",
       "version_major": 2,
       "version_minor": 0
      },
      "text/plain": [
       "Downloading:   0%|          | 0.00/570 [00:00<?, ?B/s]"
      ]
     },
     "metadata": {},
     "output_type": "display_data"
    },
    {
     "data": {
      "application/vnd.jupyter.widget-view+json": {
       "model_id": "1efa128526c3455485e0fda41407393b",
       "version_major": 2,
       "version_minor": 0
      },
      "text/plain": [
       "Downloading:   0%|          | 0.00/511M [00:00<?, ?B/s]"
      ]
     },
     "metadata": {},
     "output_type": "display_data"
    }
   ],
   "source": [
    "classifier = TFBertForSequenceClassification.from_pretrained(\"bert-base-uncased\")"
   ]
  },
  {
   "cell_type": "code",
   "execution_count": null,
   "metadata": {},
   "outputs": [],
   "source": [
    "tokenizer = BertTokenizer.from_pretrained(\"bert-base-uncased\")"
   ]
  },
  {
   "cell_type": "code",
   "execution_count": null,
   "metadata": {},
   "outputs": [],
   "source": [
    "classifier.summary()"
   ]
  },
  {
   "cell_type": "code",
   "execution_count": null,
   "metadata": {},
   "outputs": [],
   "source": [
    "m = len(df)\n",
    "sample = int(m/10)"
   ]
  },
  {
   "cell_type": "code",
   "execution_count": null,
   "metadata": {},
   "outputs": [],
   "source": [
    "train_df = df[sample:]\n",
    "test_df = df[:sample]"
   ]
  },
  {
   "cell_type": "code",
   "execution_count": null,
   "metadata": {},
   "outputs": [],
   "source": [
    "def convert_data_to_examples(train, test, code_snippet, label_of_code_snippet): \n",
    "  train_InputExamples = train.apply(lambda x: InputExample(guid=None, # Globally unique ID for bookkeeping, unused in this case\n",
    "                                                          text_a = x[code_snippet], \n",
    "                                                          text_b = None,\n",
    "                                                          label = x[label_of_code_snippet]), axis = 1)\n",
    "\n",
    "  validation_InputExamples = test.apply(lambda x: InputExample(guid=None, # Globally unique ID for bookkeeping, unused in this case\n",
    "                                                          text_a = x[code_snippet], \n",
    "                                                          text_b = None,\n",
    "                                                          label = x[label_of_code_snippet]), axis = 1)\n",
    "  \n",
    "  return train_InputExamples, validation_InputExamples"
   ]
  },
  {
   "cell_type": "code",
   "execution_count": null,
   "metadata": {},
   "outputs": [],
   "source": [
    "train_InputExamples, validation_InputExamples = convert_data_to_examples(train_df, \n",
    "                                                                           test_df, \n",
    "                                                                           'total', \n",
    "                                                                           'label')"
   ]
  },
  {
   "cell_type": "code",
   "execution_count": null,
   "metadata": {},
   "outputs": [],
   "source": [
    "train_df"
   ]
  },
  {
   "cell_type": "code",
   "execution_count": null,
   "metadata": {},
   "outputs": [],
   "source": [
    "test_df"
   ]
  },
  {
   "cell_type": "code",
   "execution_count": null,
   "metadata": {},
   "outputs": [],
   "source": [
    "def convert_examples_to_tf_dataset(examples, tokenizer, max_length=128):\n",
    "    features = [] # -> will hold InputFeatures to be converted later\n",
    "\n",
    "    for e in examples:\n",
    "        # Documentation is really strong for this method, so please take a look at it\n",
    "        input_dict = tokenizer.encode_plus(\n",
    "            e.text_a,\n",
    "            add_special_tokens=True,\n",
    "            max_length=max_length, # truncates if len(s) > max_length\n",
    "            return_token_type_ids=True,\n",
    "            return_attention_mask=True,\n",
    "            pad_to_max_length=True, # pads to the right by default # CHECK THIS for pad_to_max_length\n",
    "            truncation=True\n",
    "        )\n",
    "\n",
    "        input_ids, token_type_ids, attention_mask = (input_dict[\"input_ids\"],\n",
    "            input_dict[\"token_type_ids\"], input_dict['attention_mask'])\n",
    "\n",
    "        features.append(\n",
    "            InputFeatures(\n",
    "                input_ids=input_ids, attention_mask=attention_mask, token_type_ids=token_type_ids, label=e.label\n",
    "            )\n",
    "        )\n",
    "\n",
    "    def gen():\n",
    "        for f in features:\n",
    "            yield (\n",
    "                {\n",
    "                    \"input_ids\": f.input_ids,\n",
    "                    \"attention_mask\": f.attention_mask,\n",
    "                    \"token_type_ids\": f.token_type_ids,\n",
    "                },\n",
    "                f.label,\n",
    "            )\n",
    "\n",
    "    return tf.data.Dataset.from_generator(\n",
    "        gen,\n",
    "        ({\"input_ids\": tf.int32, \"attention_mask\": tf.int32, \"token_type_ids\": tf.int32}, tf.int64),\n",
    "        (\n",
    "            {\n",
    "                \"input_ids\": tf.TensorShape([None]),\n",
    "                \"attention_mask\": tf.TensorShape([None]),\n",
    "                \"token_type_ids\": tf.TensorShape([None]),\n",
    "            },\n",
    "            tf.TensorShape([]),\n",
    "        ),\n",
    "    )"
   ]
  },
  {
   "cell_type": "code",
   "execution_count": null,
   "metadata": {},
   "outputs": [],
   "source": [
    "code_snippet = 'total'\n",
    "label_of_code_snippet = 'label'"
   ]
  },
  {
   "cell_type": "code",
   "execution_count": null,
   "metadata": {},
   "outputs": [],
   "source": [
    "train_InputExamples, validation_InputExamples = convert_data_to_examples(train_df, test_df, code_snippet, label_of_code_snippet)\n",
    "\n",
    "train_data = convert_examples_to_tf_dataset(list(train_InputExamples), tokenizer)\n",
    "train_data = train_data.shuffle(100).batch(32).repeat(2)\n",
    "\n",
    "validation_data = convert_examples_to_tf_dataset(list(validation_InputExamples), tokenizer)\n",
    "validation_data = validation_data.batch(32)"
   ]
  },
  {
   "cell_type": "code",
   "execution_count": null,
   "metadata": {},
   "outputs": [],
   "source": [
    "# classifier.compile(optimizer=tf.keras.optimizers.Adam(learning_rate=3e-5, epsilon=1e-08, clipnorm=1.0), \n",
    "#               loss=tf.keras.losses.SparseCategoricalCrossentropy(from_logits=True), \n",
    "#               metrics=[tf.keras.metrics.SparseCategoricalAccuracy('accuracy')])"
   ]
  },
  {
   "cell_type": "code",
   "execution_count": null,
   "metadata": {},
   "outputs": [],
   "source": [
    "# classifier.fit(train_data, epochs=30, validation_data=validation_data,verbose=1,batch_size=64,steps_per_epoch=166)"
   ]
  },
  {
   "cell_type": "code",
   "execution_count": null,
   "metadata": {},
   "outputs": [],
   "source": [
    "my_predict = classifier.predict(test_data)"
   ]
  },
  {
   "cell_type": "code",
   "execution_count": null,
   "metadata": {
    "jupyter": {
     "source_hidden": true
    }
   },
   "outputs": [],
   "source": [
    "param_grid = {\n",
    "    \"per_gpu_batch_size\": [16, 32,64],\n",
    "    \"learning_rate\": [5e-6, 1e-5, 5e-5],\n",
    "    \"num_epochs\": [5, 10, 25,40]\n",
    "    \"steps_per_epoch\":[2128,1064,425,266]\n",
    "}"
   ]
  },
  {
   "cell_type": "code",
   "execution_count": null,
   "metadata": {},
   "outputs": [],
   "source": [
    "from sklearn import model_selection"
   ]
  },
  {
   "cell_type": "code",
   "execution_count": null,
   "metadata": {},
   "outputs": [],
   "source": [
    "model = model_selection.GridSearchCV(\n",
    "    estimator=classifier,\n",
    "    param_grid=param_grid,\n",
    "    scoring=\"accuracy\",\n",
    "    verbose=1,\n",
    "    n_jobs=2,\n",
    "    cv=5\n",
    ")"
   ]
  },
  {
   "cell_type": "code",
   "execution_count": null,
   "metadata": {},
   "outputs": [],
   "source": [
    "model.fit(train_data)"
   ]
  }
 ],
 "metadata": {
  "kernelspec": {
   "display_name": "Python 3 (ipykernel)",
   "language": "python",
   "name": "python3"
  },
  "language_info": {
   "codemirror_mode": {
    "name": "ipython",
    "version": 3
   },
   "file_extension": ".py",
   "mimetype": "text/x-python",
   "name": "python",
   "nbconvert_exporter": "python",
   "pygments_lexer": "ipython3",
   "version": "3.9.12"
  }
 },
 "nbformat": 4,
 "nbformat_minor": 4
}
