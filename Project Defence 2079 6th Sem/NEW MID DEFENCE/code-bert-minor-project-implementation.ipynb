{
 "cells": [
  {
   "cell_type": "code",
   "execution_count": 13,
   "metadata": {
    "_cell_guid": "b1076dfc-b9ad-4769-8c92-a6c4dae69d19",
    "_uuid": "8f2839f25d086af736a60e9eeb907d3b93b6e0e5",
    "execution": {
     "iopub.execute_input": "2023-02-01T04:23:44.629481Z",
     "iopub.status.busy": "2023-02-01T04:23:44.629108Z",
     "iopub.status.idle": "2023-02-01T04:23:44.634819Z",
     "shell.execute_reply": "2023-02-01T04:23:44.633578Z",
     "shell.execute_reply.started": "2023-02-01T04:23:44.629450Z"
    }
   },
   "outputs": [],
   "source": [
    "# # This Python 3 environment comes with many helpful analytics libraries installed\n",
    "# # It is defined by the kaggle/python Docker image: https://github.com/kaggle/docker-python\n",
    "# # For example, here's several helpful packages to load\n",
    "\n",
    "# import numpy as np # linear algebra\n",
    "# import pandas as pd # data processing, CSV file I/O (e.g. pd.read_csv)\n",
    "\n",
    "# # Input data files are available in the read-only \"../input/\" directory\n",
    "# # For example, running this (by clicking run or pressing Shift+Enter) will list all files under the input directory\n",
    "\n",
    "# import os\n",
    "# for dirname, _, filenames in os.walk('/kaggle/input'):\n",
    "#     for filename in filenames:\n",
    "#         print(os.path.join(dirname, filename))\n",
    "\n",
    "# # You can write up to 20GB to the current directory (/kaggle/working/) that gets preserved as output when you create a version using \"Save & Run All\" \n",
    "# # You can also write temporary files to /kaggle/temp/, but they won't be saved outside of the current session"
   ]
  },
  {
   "cell_type": "code",
   "execution_count": 14,
   "metadata": {
    "execution": {
     "iopub.execute_input": "2023-02-01T04:23:48.765655Z",
     "iopub.status.busy": "2023-02-01T04:23:48.765273Z",
     "iopub.status.idle": "2023-02-01T04:24:00.852095Z",
     "shell.execute_reply": "2023-02-01T04:24:00.851041Z",
     "shell.execute_reply.started": "2023-02-01T04:23:48.765623Z"
    }
   },
   "outputs": [
    {
     "name": "stderr",
     "output_type": "stream",
     "text": [
      "2023-02-01 04:23:55.951883: I tensorflow/stream_executor/cuda/cuda_gpu_executor.cc:937] successful NUMA node read from SysFS had negative value (-1), but there must be at least one NUMA node, so returning NUMA node zero\n",
      "2023-02-01 04:23:55.952980: I tensorflow/stream_executor/cuda/cuda_gpu_executor.cc:937] successful NUMA node read from SysFS had negative value (-1), but there must be at least one NUMA node, so returning NUMA node zero\n",
      "2023-02-01 04:23:55.953639: I tensorflow/stream_executor/cuda/cuda_gpu_executor.cc:937] successful NUMA node read from SysFS had negative value (-1), but there must be at least one NUMA node, so returning NUMA node zero\n",
      "2023-02-01 04:23:55.956365: I tensorflow/core/platform/cpu_feature_guard.cc:142] This TensorFlow binary is optimized with oneAPI Deep Neural Network Library (oneDNN) to use the following CPU instructions in performance-critical operations:  AVX2 AVX512F FMA\n",
      "To enable them in other operations, rebuild TensorFlow with the appropriate compiler flags.\n",
      "2023-02-01 04:23:55.956723: I tensorflow/stream_executor/cuda/cuda_gpu_executor.cc:937] successful NUMA node read from SysFS had negative value (-1), but there must be at least one NUMA node, so returning NUMA node zero\n",
      "2023-02-01 04:23:55.957446: I tensorflow/stream_executor/cuda/cuda_gpu_executor.cc:937] successful NUMA node read from SysFS had negative value (-1), but there must be at least one NUMA node, so returning NUMA node zero\n",
      "2023-02-01 04:23:55.958100: I tensorflow/stream_executor/cuda/cuda_gpu_executor.cc:937] successful NUMA node read from SysFS had negative value (-1), but there must be at least one NUMA node, so returning NUMA node zero\n",
      "2023-02-01 04:24:00.477128: I tensorflow/stream_executor/cuda/cuda_gpu_executor.cc:937] successful NUMA node read from SysFS had negative value (-1), but there must be at least one NUMA node, so returning NUMA node zero\n",
      "2023-02-01 04:24:00.477984: I tensorflow/stream_executor/cuda/cuda_gpu_executor.cc:937] successful NUMA node read from SysFS had negative value (-1), but there must be at least one NUMA node, so returning NUMA node zero\n",
      "2023-02-01 04:24:00.478631: I tensorflow/stream_executor/cuda/cuda_gpu_executor.cc:937] successful NUMA node read from SysFS had negative value (-1), but there must be at least one NUMA node, so returning NUMA node zero\n",
      "2023-02-01 04:24:00.479218: I tensorflow/core/common_runtime/gpu/gpu_device.cc:1510] Created device /job:localhost/replica:0/task:0/device:GPU:0 with 15043 MB memory:  -> device: 0, name: Tesla P100-PCIE-16GB, pci bus id: 0000:00:04.0, compute capability: 6.0\n"
     ]
    }
   ],
   "source": [
    "from transformers import BertTokenizer, TFBertForSequenceClassification\n",
    "from transformers import InputExample, InputFeatures\n",
    "import tensorflow as tf\n",
    "import pandas as pd\n",
    "import re"
   ]
  },
  {
   "cell_type": "code",
   "execution_count": 15,
   "metadata": {
    "execution": {
     "iopub.execute_input": "2023-02-01T04:24:00.856239Z",
     "iopub.status.busy": "2023-02-01T04:24:00.853964Z",
     "iopub.status.idle": "2023-02-01T04:24:00.902410Z",
     "shell.execute_reply": "2023-02-01T04:24:00.900746Z",
     "shell.execute_reply.started": "2023-02-01T04:24:00.856197Z"
    }
   },
   "outputs": [],
   "source": [
    "df = pd.read_csv(\"/kaggle/input/my-data/my_sample.txt\")#/kaggle/input/my-data\n",
    "df.columns = [\"called_function\",\"argument_1\",\"argument_2\",\"type_of_argument\",\"formal_parameter_1\",\"formal_parameter_2\",\"label\"]"
   ]
  },
  {
   "cell_type": "code",
   "execution_count": 16,
   "metadata": {
    "execution": {
     "iopub.execute_input": "2023-02-01T04:24:00.904921Z",
     "iopub.status.busy": "2023-02-01T04:24:00.904375Z",
     "iopub.status.idle": "2023-02-01T04:24:00.925742Z",
     "shell.execute_reply": "2023-02-01T04:24:00.923934Z",
     "shell.execute_reply.started": "2023-02-01T04:24:00.904884Z"
    }
   },
   "outputs": [
    {
     "data": {
      "text/plain": [
       "called_function         10\n",
       "argument_1              88\n",
       "argument_2              88\n",
       "type_of_argument         0\n",
       "formal_parameter_1    7579\n",
       "formal_parameter_2    7579\n",
       "label                    0\n",
       "dtype: int64"
      ]
     },
     "execution_count": 16,
     "metadata": {},
     "output_type": "execute_result"
    }
   ],
   "source": [
    "df.isna().sum()"
   ]
  },
  {
   "cell_type": "code",
   "execution_count": 17,
   "metadata": {
    "execution": {
     "iopub.execute_input": "2023-02-01T04:24:00.928410Z",
     "iopub.status.busy": "2023-02-01T04:24:00.928079Z",
     "iopub.status.idle": "2023-02-01T04:24:00.965306Z",
     "shell.execute_reply": "2023-02-01T04:24:00.962998Z",
     "shell.execute_reply.started": "2023-02-01T04:24:00.928378Z"
    }
   },
   "outputs": [],
   "source": [
    "df['called_function'] = df['called_function'].fillna('unknown')\n",
    "df['argument_1']=df['argument_1'].fillna('unknown')\n",
    "df['argument_2']=df['argument_2'].fillna('unknown')\n",
    "df['type_of_argument']=df['type_of_argument'].fillna('unknown')\n",
    "df['formal_parameter_1']=df['formal_parameter_1'].fillna('unknown')\n",
    "df['formal_parameter_2']=df['formal_parameter_2'].fillna('unknown')"
   ]
  },
  {
   "cell_type": "code",
   "execution_count": 18,
   "metadata": {
    "execution": {
     "iopub.execute_input": "2023-02-01T04:24:00.971842Z",
     "iopub.status.busy": "2023-02-01T04:24:00.971328Z",
     "iopub.status.idle": "2023-02-01T04:24:00.989186Z",
     "shell.execute_reply": "2023-02-01T04:24:00.987394Z",
     "shell.execute_reply.started": "2023-02-01T04:24:00.971801Z"
    }
   },
   "outputs": [
    {
     "data": {
      "text/plain": [
       "called_function       0\n",
       "argument_1            0\n",
       "argument_2            0\n",
       "type_of_argument      0\n",
       "formal_parameter_1    0\n",
       "formal_parameter_2    0\n",
       "label                 0\n",
       "dtype: int64"
      ]
     },
     "execution_count": 18,
     "metadata": {},
     "output_type": "execute_result"
    }
   ],
   "source": [
    "df.isna().sum()"
   ]
  },
  {
   "cell_type": "code",
   "execution_count": 19,
   "metadata": {
    "execution": {
     "iopub.execute_input": "2023-02-01T04:24:00.992887Z",
     "iopub.status.busy": "2023-02-01T04:24:00.992125Z",
     "iopub.status.idle": "2023-02-01T04:24:01.025613Z",
     "shell.execute_reply": "2023-02-01T04:24:01.024221Z",
     "shell.execute_reply.started": "2023-02-01T04:24:00.992847Z"
    }
   },
   "outputs": [],
   "source": [
    "df['total'] = df['called_function'] + '<SEP>'+ df['argument_1'] + '<SEP>'+df['type_of_argument'] + '<SEP>'+ df['formal_parameter_1'] + '<SEP>'+df['formal_parameter_2']"
   ]
  },
  {
   "cell_type": "code",
   "execution_count": 20,
   "metadata": {
    "execution": {
     "iopub.execute_input": "2023-02-01T04:24:09.313680Z",
     "iopub.status.busy": "2023-02-01T04:24:09.313320Z",
     "iopub.status.idle": "2023-02-01T04:24:09.325953Z",
     "shell.execute_reply": "2023-02-01T04:24:09.324914Z",
     "shell.execute_reply.started": "2023-02-01T04:24:09.313646Z"
    }
   },
   "outputs": [],
   "source": [
    "df.drop(['called_function','argument_1','argument_2','type_of_argument','formal_parameter_1','formal_parameter_2'],axis=1,inplace=True)"
   ]
  },
  {
   "cell_type": "code",
   "execution_count": 21,
   "metadata": {
    "execution": {
     "iopub.execute_input": "2023-02-01T04:24:10.367289Z",
     "iopub.status.busy": "2023-02-01T04:24:10.366929Z",
     "iopub.status.idle": "2023-02-01T04:24:10.375716Z",
     "shell.execute_reply": "2023-02-01T04:24:10.374595Z",
     "shell.execute_reply.started": "2023-02-01T04:24:10.367258Z"
    }
   },
   "outputs": [],
   "source": [
    "df = df.sample(frac = 1) # shuffling the dataset\n",
    "df.reset_index(drop=True,inplace=True)"
   ]
  },
  {
   "cell_type": "code",
   "execution_count": 22,
   "metadata": {
    "execution": {
     "iopub.execute_input": "2023-02-01T04:24:11.309510Z",
     "iopub.status.busy": "2023-02-01T04:24:11.309166Z",
     "iopub.status.idle": "2023-02-01T04:24:11.328524Z",
     "shell.execute_reply": "2023-02-01T04:24:11.327651Z",
     "shell.execute_reply.started": "2023-02-01T04:24:11.309480Z"
    }
   },
   "outputs": [
    {
     "data": {
      "text/html": [
       "<div>\n",
       "<style scoped>\n",
       "    .dataframe tbody tr th:only-of-type {\n",
       "        vertical-align: middle;\n",
       "    }\n",
       "\n",
       "    .dataframe tbody tr th {\n",
       "        vertical-align: top;\n",
       "    }\n",
       "\n",
       "    .dataframe thead th {\n",
       "        text-align: right;\n",
       "    }\n",
       "</style>\n",
       "<table border=\"1\" class=\"dataframe\">\n",
       "  <thead>\n",
       "    <tr style=\"text-align: right;\">\n",
       "      <th></th>\n",
       "      <th>label</th>\n",
       "      <th>total</th>\n",
       "    </tr>\n",
       "  </thead>\n",
       "  <tbody>\n",
       "    <tr>\n",
       "      <th>0</th>\n",
       "      <td>0</td>\n",
       "      <td>expect_string&lt;SEP&gt;unknown&lt;SEP&gt;int&lt;SEP&gt;unknown&lt;...</td>\n",
       "    </tr>\n",
       "    <tr>\n",
       "      <th>1</th>\n",
       "      <td>0</td>\n",
       "      <td>setenv&lt;SEP&gt;ethaddr&lt;SEP&gt;int&lt;SEP&gt;unknown&lt;SEP&gt;unk...</td>\n",
       "    </tr>\n",
       "    <tr>\n",
       "      <th>2</th>\n",
       "      <td>0</td>\n",
       "      <td>sysfs_attr_get_value&lt;SEP&gt;devpath&lt;SEP&gt;int&lt;SEP&gt;u...</td>\n",
       "    </tr>\n",
       "    <tr>\n",
       "      <th>3</th>\n",
       "      <td>0</td>\n",
       "      <td>CYGACC_COMM_IF_PUTC&lt;SEP&gt;*&lt;SEP&gt;void&lt;SEP&gt;x&lt;SEP&gt;y</td>\n",
       "    </tr>\n",
       "    <tr>\n",
       "      <th>4</th>\n",
       "      <td>1</td>\n",
       "      <td>CYGACC_COMM_IF_PUTC&lt;SEP&gt;0x18&lt;SEP&gt;void&lt;SEP&gt;x&lt;SEP&gt;y</td>\n",
       "    </tr>\n",
       "    <tr>\n",
       "      <th>...</th>\n",
       "      <td>...</td>\n",
       "      <td>...</td>\n",
       "    </tr>\n",
       "    <tr>\n",
       "      <th>10638</th>\n",
       "      <td>1</td>\n",
       "      <td>strcmp&lt;SEP&gt;callback&lt;SEP&gt;int&lt;SEP&gt;_Str1&lt;SEP&gt;_Str2</td>\n",
       "    </tr>\n",
       "    <tr>\n",
       "      <th>10639</th>\n",
       "      <td>0</td>\n",
       "      <td>occi_create_element&lt;SEP&gt;occi.vm.provider&lt;SEP&gt;i...</td>\n",
       "    </tr>\n",
       "    <tr>\n",
       "      <th>10640</th>\n",
       "      <td>0</td>\n",
       "      <td>strcmp&lt;SEP&gt;key&lt;SEP&gt;int&lt;SEP&gt;_Str1&lt;SEP&gt;_Str2</td>\n",
       "    </tr>\n",
       "    <tr>\n",
       "      <th>10641</th>\n",
       "      <td>1</td>\n",
       "      <td>setenv&lt;SEP&gt;fatload ide 0 8000000 uimage.karef;...</td>\n",
       "    </tr>\n",
       "    <tr>\n",
       "      <th>10642</th>\n",
       "      <td>1</td>\n",
       "      <td>fopen&lt;SEP&gt;w&lt;SEP&gt;FILE *&lt;SEP&gt;_FileName&lt;SEP&gt;_Mode</td>\n",
       "    </tr>\n",
       "  </tbody>\n",
       "</table>\n",
       "<p>10643 rows × 2 columns</p>\n",
       "</div>"
      ],
      "text/plain": [
       "       label                                              total\n",
       "0          0  expect_string<SEP>unknown<SEP>int<SEP>unknown<...\n",
       "1          0  setenv<SEP>ethaddr<SEP>int<SEP>unknown<SEP>unk...\n",
       "2          0  sysfs_attr_get_value<SEP>devpath<SEP>int<SEP>u...\n",
       "3          0     CYGACC_COMM_IF_PUTC<SEP>*<SEP>void<SEP>x<SEP>y\n",
       "4          1  CYGACC_COMM_IF_PUTC<SEP>0x18<SEP>void<SEP>x<SEP>y\n",
       "...      ...                                                ...\n",
       "10638      1    strcmp<SEP>callback<SEP>int<SEP>_Str1<SEP>_Str2\n",
       "10639      0  occi_create_element<SEP>occi.vm.provider<SEP>i...\n",
       "10640      0         strcmp<SEP>key<SEP>int<SEP>_Str1<SEP>_Str2\n",
       "10641      1  setenv<SEP>fatload ide 0 8000000 uimage.karef;...\n",
       "10642      1     fopen<SEP>w<SEP>FILE *<SEP>_FileName<SEP>_Mode\n",
       "\n",
       "[10643 rows x 2 columns]"
      ]
     },
     "execution_count": 22,
     "metadata": {},
     "output_type": "execute_result"
    }
   ],
   "source": [
    "df"
   ]
  },
  {
   "cell_type": "code",
   "execution_count": 23,
   "metadata": {
    "execution": {
     "iopub.execute_input": "2023-02-01T04:24:12.405007Z",
     "iopub.status.busy": "2023-02-01T04:24:12.404351Z",
     "iopub.status.idle": "2023-02-01T04:24:25.625188Z",
     "shell.execute_reply": "2023-02-01T04:24:25.624209Z",
     "shell.execute_reply.started": "2023-02-01T04:24:12.404969Z"
    }
   },
   "outputs": [
    {
     "data": {
      "application/vnd.jupyter.widget-view+json": {
       "model_id": "66177d26c4234f24b7091a19447f2eac",
       "version_major": 2,
       "version_minor": 0
      },
      "text/plain": [
       "Downloading:   0%|          | 0.00/570 [00:00<?, ?B/s]"
      ]
     },
     "metadata": {},
     "output_type": "display_data"
    },
    {
     "data": {
      "application/vnd.jupyter.widget-view+json": {
       "model_id": "f261f8fcf45a4a6c85e83fd958a6c254",
       "version_major": 2,
       "version_minor": 0
      },
      "text/plain": [
       "Downloading:   0%|          | 0.00/511M [00:00<?, ?B/s]"
      ]
     },
     "metadata": {},
     "output_type": "display_data"
    },
    {
     "name": "stderr",
     "output_type": "stream",
     "text": [
      "All model checkpoint layers were used when initializing TFBertForSequenceClassification.\n",
      "\n",
      "Some layers of TFBertForSequenceClassification were not initialized from the model checkpoint at bert-base-uncased and are newly initialized: ['classifier']\n",
      "You should probably TRAIN this model on a down-stream task to be able to use it for predictions and inference.\n"
     ]
    }
   ],
   "source": [
    "classifier = TFBertForSequenceClassification.from_pretrained(\"bert-base-uncased\")"
   ]
  },
  {
   "cell_type": "code",
   "execution_count": 24,
   "metadata": {
    "execution": {
     "iopub.execute_input": "2023-02-01T04:24:25.627908Z",
     "iopub.status.busy": "2023-02-01T04:24:25.627534Z",
     "iopub.status.idle": "2023-02-01T04:24:29.298437Z",
     "shell.execute_reply": "2023-02-01T04:24:29.297246Z",
     "shell.execute_reply.started": "2023-02-01T04:24:25.627869Z"
    }
   },
   "outputs": [
    {
     "data": {
      "application/vnd.jupyter.widget-view+json": {
       "model_id": "a6f00b2fadee452ea6f8bd281f0769d2",
       "version_major": 2,
       "version_minor": 0
      },
      "text/plain": [
       "Downloading:   0%|          | 0.00/226k [00:00<?, ?B/s]"
      ]
     },
     "metadata": {},
     "output_type": "display_data"
    },
    {
     "data": {
      "application/vnd.jupyter.widget-view+json": {
       "model_id": "e3165e78ba7a45feb91ffb09011ca76f",
       "version_major": 2,
       "version_minor": 0
      },
      "text/plain": [
       "Downloading:   0%|          | 0.00/28.0 [00:00<?, ?B/s]"
      ]
     },
     "metadata": {},
     "output_type": "display_data"
    }
   ],
   "source": [
    "tokenizer = BertTokenizer.from_pretrained(\"bert-base-uncased\")"
   ]
  },
  {
   "cell_type": "code",
   "execution_count": 25,
   "metadata": {
    "execution": {
     "iopub.execute_input": "2023-02-01T04:24:29.581431Z",
     "iopub.status.busy": "2023-02-01T04:24:29.581056Z",
     "iopub.status.idle": "2023-02-01T04:24:29.602486Z",
     "shell.execute_reply": "2023-02-01T04:24:29.601306Z",
     "shell.execute_reply.started": "2023-02-01T04:24:29.581398Z"
    }
   },
   "outputs": [
    {
     "name": "stdout",
     "output_type": "stream",
     "text": [
      "Model: \"tf_bert_for_sequence_classification\"\n",
      "_________________________________________________________________\n",
      "Layer (type)                 Output Shape              Param #   \n",
      "=================================================================\n",
      "bert (TFBertMainLayer)       multiple                  109482240 \n",
      "_________________________________________________________________\n",
      "dropout_37 (Dropout)         multiple                  0         \n",
      "_________________________________________________________________\n",
      "classifier (Dense)           multiple                  1538      \n",
      "=================================================================\n",
      "Total params: 109,483,778\n",
      "Trainable params: 109,483,778\n",
      "Non-trainable params: 0\n",
      "_________________________________________________________________\n"
     ]
    }
   ],
   "source": [
    "classifier.summary()"
   ]
  },
  {
   "cell_type": "code",
   "execution_count": 26,
   "metadata": {
    "execution": {
     "iopub.execute_input": "2023-02-01T04:24:30.890121Z",
     "iopub.status.busy": "2023-02-01T04:24:30.889413Z",
     "iopub.status.idle": "2023-02-01T04:24:30.894795Z",
     "shell.execute_reply": "2023-02-01T04:24:30.893773Z",
     "shell.execute_reply.started": "2023-02-01T04:24:30.890084Z"
    }
   },
   "outputs": [],
   "source": [
    "m = len(df)\n",
    "sample = int(m/10)"
   ]
  },
  {
   "cell_type": "code",
   "execution_count": 27,
   "metadata": {
    "execution": {
     "iopub.execute_input": "2023-02-01T04:24:31.600362Z",
     "iopub.status.busy": "2023-02-01T04:24:31.600008Z",
     "iopub.status.idle": "2023-02-01T04:24:31.605293Z",
     "shell.execute_reply": "2023-02-01T04:24:31.604214Z",
     "shell.execute_reply.started": "2023-02-01T04:24:31.600333Z"
    }
   },
   "outputs": [],
   "source": [
    "train_df = df[sample:]\n",
    "test_df = df[:sample]"
   ]
  },
  {
   "cell_type": "code",
   "execution_count": 28,
   "metadata": {
    "execution": {
     "iopub.execute_input": "2023-02-01T04:24:33.256939Z",
     "iopub.status.busy": "2023-02-01T04:24:33.256163Z",
     "iopub.status.idle": "2023-02-01T04:24:33.264500Z",
     "shell.execute_reply": "2023-02-01T04:24:33.263371Z",
     "shell.execute_reply.started": "2023-02-01T04:24:33.256900Z"
    }
   },
   "outputs": [],
   "source": [
    "def convert_data_to_examples(train, test, code_snippet, label_of_code_snippet): \n",
    "  train_InputExamples = train.apply(lambda x: InputExample(guid=None, # Globally unique ID for bookkeeping, unused in this case\n",
    "                                                          text_a = x[code_snippet], \n",
    "                                                          text_b = None,\n",
    "                                                          label = x[label_of_code_snippet]), axis = 1)\n",
    "\n",
    "  validation_InputExamples = test.apply(lambda x: InputExample(guid=None, # Globally unique ID for bookkeeping, unused in this case\n",
    "                                                          text_a = x[code_snippet], \n",
    "                                                          text_b = None,\n",
    "                                                          label = x[label_of_code_snippet]), axis = 1)\n",
    "  \n",
    "  return train_InputExamples, validation_InputExamples"
   ]
  },
  {
   "cell_type": "code",
   "execution_count": 29,
   "metadata": {
    "execution": {
     "iopub.execute_input": "2023-02-01T04:24:33.828195Z",
     "iopub.status.busy": "2023-02-01T04:24:33.827820Z",
     "iopub.status.idle": "2023-02-01T04:24:34.384837Z",
     "shell.execute_reply": "2023-02-01T04:24:34.383774Z",
     "shell.execute_reply.started": "2023-02-01T04:24:33.828162Z"
    }
   },
   "outputs": [],
   "source": [
    "train_InputExamples, validation_InputExamples = convert_data_to_examples(train_df, \n",
    "                                                                           test_df, \n",
    "                                                                           'total', \n",
    "                                                                           'label')"
   ]
  },
  {
   "cell_type": "code",
   "execution_count": 30,
   "metadata": {
    "execution": {
     "iopub.execute_input": "2023-02-01T04:24:34.722489Z",
     "iopub.status.busy": "2023-02-01T04:24:34.721919Z",
     "iopub.status.idle": "2023-02-01T04:24:34.742899Z",
     "shell.execute_reply": "2023-02-01T04:24:34.741746Z",
     "shell.execute_reply.started": "2023-02-01T04:24:34.722451Z"
    }
   },
   "outputs": [
    {
     "data": {
      "text/html": [
       "<div>\n",
       "<style scoped>\n",
       "    .dataframe tbody tr th:only-of-type {\n",
       "        vertical-align: middle;\n",
       "    }\n",
       "\n",
       "    .dataframe tbody tr th {\n",
       "        vertical-align: top;\n",
       "    }\n",
       "\n",
       "    .dataframe thead th {\n",
       "        text-align: right;\n",
       "    }\n",
       "</style>\n",
       "<table border=\"1\" class=\"dataframe\">\n",
       "  <thead>\n",
       "    <tr style=\"text-align: right;\">\n",
       "      <th></th>\n",
       "      <th>label</th>\n",
       "      <th>total</th>\n",
       "    </tr>\n",
       "  </thead>\n",
       "  <tbody>\n",
       "    <tr>\n",
       "      <th>1064</th>\n",
       "      <td>0</td>\n",
       "      <td>generateModuleFile&lt;SEP&gt;moduleName&lt;SEP&gt;int&lt;SEP&gt;...</td>\n",
       "    </tr>\n",
       "    <tr>\n",
       "      <th>1065</th>\n",
       "      <td>1</td>\n",
       "      <td>_difftime64&lt;SEP&gt;_Time2&lt;SEP&gt;double&lt;SEP&gt;_Time1&lt;S...</td>\n",
       "    </tr>\n",
       "    <tr>\n",
       "      <th>1066</th>\n",
       "      <td>0</td>\n",
       "      <td>uaw_lstrcmpW&lt;SEP&gt;String1&lt;SEP&gt;int&lt;SEP&gt;String1&lt;S...</td>\n",
       "    </tr>\n",
       "    <tr>\n",
       "      <th>1067</th>\n",
       "      <td>1</td>\n",
       "      <td>_hypotf&lt;SEP&gt;_Y&lt;SEP&gt;float&lt;SEP&gt;_X&lt;SEP&gt;_Y</td>\n",
       "    </tr>\n",
       "    <tr>\n",
       "      <th>1068</th>\n",
       "      <td>0</td>\n",
       "      <td>ACPI_OPTION&lt;SEP&gt;-n &lt;Signature&gt;&lt;SEP&gt;int&lt;SEP&gt;unk...</td>\n",
       "    </tr>\n",
       "    <tr>\n",
       "      <th>...</th>\n",
       "      <td>...</td>\n",
       "      <td>...</td>\n",
       "    </tr>\n",
       "    <tr>\n",
       "      <th>10638</th>\n",
       "      <td>1</td>\n",
       "      <td>strcmp&lt;SEP&gt;callback&lt;SEP&gt;int&lt;SEP&gt;_Str1&lt;SEP&gt;_Str2</td>\n",
       "    </tr>\n",
       "    <tr>\n",
       "      <th>10639</th>\n",
       "      <td>0</td>\n",
       "      <td>occi_create_element&lt;SEP&gt;occi.vm.provider&lt;SEP&gt;i...</td>\n",
       "    </tr>\n",
       "    <tr>\n",
       "      <th>10640</th>\n",
       "      <td>0</td>\n",
       "      <td>strcmp&lt;SEP&gt;key&lt;SEP&gt;int&lt;SEP&gt;_Str1&lt;SEP&gt;_Str2</td>\n",
       "    </tr>\n",
       "    <tr>\n",
       "      <th>10641</th>\n",
       "      <td>1</td>\n",
       "      <td>setenv&lt;SEP&gt;fatload ide 0 8000000 uimage.karef;...</td>\n",
       "    </tr>\n",
       "    <tr>\n",
       "      <th>10642</th>\n",
       "      <td>1</td>\n",
       "      <td>fopen&lt;SEP&gt;w&lt;SEP&gt;FILE *&lt;SEP&gt;_FileName&lt;SEP&gt;_Mode</td>\n",
       "    </tr>\n",
       "  </tbody>\n",
       "</table>\n",
       "<p>9579 rows × 2 columns</p>\n",
       "</div>"
      ],
      "text/plain": [
       "       label                                              total\n",
       "1064       0  generateModuleFile<SEP>moduleName<SEP>int<SEP>...\n",
       "1065       1  _difftime64<SEP>_Time2<SEP>double<SEP>_Time1<S...\n",
       "1066       0  uaw_lstrcmpW<SEP>String1<SEP>int<SEP>String1<S...\n",
       "1067       1             _hypotf<SEP>_Y<SEP>float<SEP>_X<SEP>_Y\n",
       "1068       0  ACPI_OPTION<SEP>-n <Signature><SEP>int<SEP>unk...\n",
       "...      ...                                                ...\n",
       "10638      1    strcmp<SEP>callback<SEP>int<SEP>_Str1<SEP>_Str2\n",
       "10639      0  occi_create_element<SEP>occi.vm.provider<SEP>i...\n",
       "10640      0         strcmp<SEP>key<SEP>int<SEP>_Str1<SEP>_Str2\n",
       "10641      1  setenv<SEP>fatload ide 0 8000000 uimage.karef;...\n",
       "10642      1     fopen<SEP>w<SEP>FILE *<SEP>_FileName<SEP>_Mode\n",
       "\n",
       "[9579 rows x 2 columns]"
      ]
     },
     "execution_count": 30,
     "metadata": {},
     "output_type": "execute_result"
    }
   ],
   "source": [
    "train_df"
   ]
  },
  {
   "cell_type": "code",
   "execution_count": 31,
   "metadata": {
    "execution": {
     "iopub.execute_input": "2023-02-01T04:24:35.628456Z",
     "iopub.status.busy": "2023-02-01T04:24:35.627767Z",
     "iopub.status.idle": "2023-02-01T04:24:35.640550Z",
     "shell.execute_reply": "2023-02-01T04:24:35.639383Z",
     "shell.execute_reply.started": "2023-02-01T04:24:35.628418Z"
    }
   },
   "outputs": [
    {
     "data": {
      "text/html": [
       "<div>\n",
       "<style scoped>\n",
       "    .dataframe tbody tr th:only-of-type {\n",
       "        vertical-align: middle;\n",
       "    }\n",
       "\n",
       "    .dataframe tbody tr th {\n",
       "        vertical-align: top;\n",
       "    }\n",
       "\n",
       "    .dataframe thead th {\n",
       "        text-align: right;\n",
       "    }\n",
       "</style>\n",
       "<table border=\"1\" class=\"dataframe\">\n",
       "  <thead>\n",
       "    <tr style=\"text-align: right;\">\n",
       "      <th></th>\n",
       "      <th>label</th>\n",
       "      <th>total</th>\n",
       "    </tr>\n",
       "  </thead>\n",
       "  <tbody>\n",
       "    <tr>\n",
       "      <th>0</th>\n",
       "      <td>0</td>\n",
       "      <td>expect_string&lt;SEP&gt;unknown&lt;SEP&gt;int&lt;SEP&gt;unknown&lt;...</td>\n",
       "    </tr>\n",
       "    <tr>\n",
       "      <th>1</th>\n",
       "      <td>0</td>\n",
       "      <td>setenv&lt;SEP&gt;ethaddr&lt;SEP&gt;int&lt;SEP&gt;unknown&lt;SEP&gt;unk...</td>\n",
       "    </tr>\n",
       "    <tr>\n",
       "      <th>2</th>\n",
       "      <td>0</td>\n",
       "      <td>sysfs_attr_get_value&lt;SEP&gt;devpath&lt;SEP&gt;int&lt;SEP&gt;u...</td>\n",
       "    </tr>\n",
       "    <tr>\n",
       "      <th>3</th>\n",
       "      <td>0</td>\n",
       "      <td>CYGACC_COMM_IF_PUTC&lt;SEP&gt;*&lt;SEP&gt;void&lt;SEP&gt;x&lt;SEP&gt;y</td>\n",
       "    </tr>\n",
       "    <tr>\n",
       "      <th>4</th>\n",
       "      <td>1</td>\n",
       "      <td>CYGACC_COMM_IF_PUTC&lt;SEP&gt;0x18&lt;SEP&gt;void&lt;SEP&gt;x&lt;SEP&gt;y</td>\n",
       "    </tr>\n",
       "    <tr>\n",
       "      <th>...</th>\n",
       "      <td>...</td>\n",
       "      <td>...</td>\n",
       "    </tr>\n",
       "    <tr>\n",
       "      <th>1059</th>\n",
       "      <td>1</td>\n",
       "      <td>strcmp&lt;SEP&gt;php&lt;SEP&gt;int&lt;SEP&gt;unknown&lt;SEP&gt;unknown</td>\n",
       "    </tr>\n",
       "    <tr>\n",
       "      <th>1060</th>\n",
       "      <td>0</td>\n",
       "      <td>setenv&lt;SEP&gt;keybd&lt;SEP&gt;int&lt;SEP&gt;unknown&lt;SEP&gt;unknown</td>\n",
       "    </tr>\n",
       "    <tr>\n",
       "      <th>1061</th>\n",
       "      <td>0</td>\n",
       "      <td>uaw_lstrcmpW&lt;SEP&gt;String1&lt;SEP&gt;int&lt;SEP&gt;String1&lt;S...</td>\n",
       "    </tr>\n",
       "    <tr>\n",
       "      <th>1062</th>\n",
       "      <td>0</td>\n",
       "      <td>strcmp&lt;SEP&gt;rolestatus&lt;SEP&gt;int&lt;SEP&gt;unknown&lt;SEP&gt;...</td>\n",
       "    </tr>\n",
       "    <tr>\n",
       "      <th>1063</th>\n",
       "      <td>0</td>\n",
       "      <td>streqci&lt;SEP&gt;name&lt;SEP&gt;int&lt;SEP&gt;s1&lt;SEP&gt;s2</td>\n",
       "    </tr>\n",
       "  </tbody>\n",
       "</table>\n",
       "<p>1064 rows × 2 columns</p>\n",
       "</div>"
      ],
      "text/plain": [
       "      label                                              total\n",
       "0         0  expect_string<SEP>unknown<SEP>int<SEP>unknown<...\n",
       "1         0  setenv<SEP>ethaddr<SEP>int<SEP>unknown<SEP>unk...\n",
       "2         0  sysfs_attr_get_value<SEP>devpath<SEP>int<SEP>u...\n",
       "3         0     CYGACC_COMM_IF_PUTC<SEP>*<SEP>void<SEP>x<SEP>y\n",
       "4         1  CYGACC_COMM_IF_PUTC<SEP>0x18<SEP>void<SEP>x<SEP>y\n",
       "...     ...                                                ...\n",
       "1059      1     strcmp<SEP>php<SEP>int<SEP>unknown<SEP>unknown\n",
       "1060      0   setenv<SEP>keybd<SEP>int<SEP>unknown<SEP>unknown\n",
       "1061      0  uaw_lstrcmpW<SEP>String1<SEP>int<SEP>String1<S...\n",
       "1062      0  strcmp<SEP>rolestatus<SEP>int<SEP>unknown<SEP>...\n",
       "1063      0             streqci<SEP>name<SEP>int<SEP>s1<SEP>s2\n",
       "\n",
       "[1064 rows x 2 columns]"
      ]
     },
     "execution_count": 31,
     "metadata": {},
     "output_type": "execute_result"
    }
   ],
   "source": [
    "test_df"
   ]
  },
  {
   "cell_type": "code",
   "execution_count": 32,
   "metadata": {
    "execution": {
     "iopub.execute_input": "2023-02-01T04:24:36.838757Z",
     "iopub.status.busy": "2023-02-01T04:24:36.837933Z",
     "iopub.status.idle": "2023-02-01T04:24:36.854263Z",
     "shell.execute_reply": "2023-02-01T04:24:36.853224Z",
     "shell.execute_reply.started": "2023-02-01T04:24:36.838712Z"
    }
   },
   "outputs": [],
   "source": [
    "def convert_examples_to_tf_dataset(examples, tokenizer, max_length=128):\n",
    "    features = [] # -> will hold InputFeatures to be converted later\n",
    "\n",
    "    for e in examples:\n",
    "        # Documentation is really strong for this method, so please take a look at it\n",
    "        input_dict = tokenizer.encode_plus(\n",
    "            e.text_a,\n",
    "            add_special_tokens=True,\n",
    "            max_length=max_length, # truncates if len(s) > max_length\n",
    "            return_token_type_ids=True,\n",
    "            return_attention_mask=True,\n",
    "            pad_to_max_length=True, # pads to the right by default # CHECK THIS for pad_to_max_length\n",
    "            truncation=True\n",
    "        )\n",
    "\n",
    "        input_ids, token_type_ids, attention_mask = (input_dict[\"input_ids\"],\n",
    "            input_dict[\"token_type_ids\"], input_dict['attention_mask'])\n",
    "\n",
    "        features.append(\n",
    "            InputFeatures(\n",
    "                input_ids=input_ids, attention_mask=attention_mask, token_type_ids=token_type_ids, label=e.label\n",
    "            )\n",
    "        )\n",
    "\n",
    "    def gen():\n",
    "        for f in features:\n",
    "            yield (\n",
    "                {\n",
    "                    \"input_ids\": f.input_ids,\n",
    "                    \"attention_mask\": f.attention_mask,\n",
    "                    \"token_type_ids\": f.token_type_ids,\n",
    "                },\n",
    "                f.label,\n",
    "            )\n",
    "\n",
    "    return tf.data.Dataset.from_generator(\n",
    "        gen,\n",
    "        ({\"input_ids\": tf.int32, \"attention_mask\": tf.int32, \"token_type_ids\": tf.int32}, tf.int64),\n",
    "        (\n",
    "            {\n",
    "                \"input_ids\": tf.TensorShape([None]),\n",
    "                \"attention_mask\": tf.TensorShape([None]),\n",
    "                \"token_type_ids\": tf.TensorShape([None]),\n",
    "            },\n",
    "            tf.TensorShape([]),\n",
    "        ),\n",
    "    )"
   ]
  },
  {
   "cell_type": "code",
   "execution_count": 33,
   "metadata": {
    "execution": {
     "iopub.execute_input": "2023-02-01T04:24:37.966560Z",
     "iopub.status.busy": "2023-02-01T04:24:37.966159Z",
     "iopub.status.idle": "2023-02-01T04:24:38.691099Z",
     "shell.execute_reply": "2023-02-01T04:24:38.689758Z",
     "shell.execute_reply.started": "2023-02-01T04:24:37.966515Z"
    }
   },
   "outputs": [],
   "source": [
    "code_snippet = 'total'\n",
    "label_of_code_snippet = 'label'"
   ]
  },
  {
   "cell_type": "code",
   "execution_count": 34,
   "metadata": {
    "execution": {
     "iopub.execute_input": "2023-02-01T04:24:39.904583Z",
     "iopub.status.busy": "2023-02-01T04:24:39.904231Z",
     "iopub.status.idle": "2023-02-01T04:24:46.775879Z",
     "shell.execute_reply": "2023-02-01T04:24:46.774782Z",
     "shell.execute_reply.started": "2023-02-01T04:24:39.904553Z"
    }
   },
   "outputs": [
    {
     "name": "stderr",
     "output_type": "stream",
     "text": [
      "/opt/conda/lib/python3.7/site-packages/transformers/tokenization_utils_base.py:2307: FutureWarning: The `pad_to_max_length` argument is deprecated and will be removed in a future version, use `padding=True` or `padding='longest'` to pad to the longest sequence in the batch, or use `padding='max_length'` to pad to a max length. In this case, you can give a specific length with `max_length` (e.g. `max_length=45`) or leave max_length to None to pad to the maximal input size of the model (e.g. 512 for Bert).\n",
      "  FutureWarning,\n"
     ]
    }
   ],
   "source": [
    "train_InputExamples, validation_InputExamples = convert_data_to_examples(train_df, test_df, code_snippet, label_of_code_snippet)\n",
    "\n",
    "train_data = convert_examples_to_tf_dataset(list(train_InputExamples), tokenizer)\n",
    "train_data = train_data.shuffle(100).batch(32).repeat(2)\n",
    "\n",
    "validation_data = convert_examples_to_tf_dataset(list(validation_InputExamples), tokenizer)\n",
    "validation_data = validation_data.batch(32)"
   ]
  },
  {
   "cell_type": "code",
   "execution_count": 35,
   "metadata": {
    "execution": {
     "iopub.execute_input": "2023-02-01T04:24:46.783549Z",
     "iopub.status.busy": "2023-02-01T04:24:46.781166Z",
     "iopub.status.idle": "2023-02-01T04:24:46.805649Z",
     "shell.execute_reply": "2023-02-01T04:24:46.804747Z",
     "shell.execute_reply.started": "2023-02-01T04:24:46.783509Z"
    }
   },
   "outputs": [],
   "source": [
    "# classifier.compile(optimizer=tf.keras.optimizers.Adam(learning_rate=3e-5, epsilon=1e-08, clipnorm=1.0), \n",
    "#               loss=tf.keras.losses.SparseCategoricalCrossentropy(from_logits=True), \n",
    "#               metrics=[tf.keras.metrics.SparseCategoricalAccuracy('accuracy')])"
   ]
  },
  {
   "cell_type": "code",
   "execution_count": 36,
   "metadata": {
    "execution": {
     "iopub.execute_input": "2023-02-01T04:24:50.123417Z",
     "iopub.status.busy": "2023-02-01T04:24:50.123041Z",
     "iopub.status.idle": "2023-02-01T04:30:38.596260Z",
     "shell.execute_reply": "2023-02-01T04:30:38.595113Z",
     "shell.execute_reply.started": "2023-02-01T04:24:50.123383Z"
    }
   },
   "outputs": [
    {
     "name": "stdout",
     "output_type": "stream",
     "text": [
      "Epoch 1/30\n"
     ]
    },
    {
     "name": "stderr",
     "output_type": "stream",
     "text": [
      "2023-02-01 04:25:11.144621: I tensorflow/compiler/mlir/mlir_graph_optimization_pass.cc:185] None of the MLIR Optimization Passes are enabled (registered 2)\n"
     ]
    },
    {
     "name": "stdout",
     "output_type": "stream",
     "text": [
      "166/166 [==============================] - 116s 535ms/step - loss: 0.6917 - accuracy: 0.5169 - val_loss: 0.6511 - val_accuracy: 0.6118\n",
      "Epoch 2/30\n",
      "166/166 [==============================] - 86s 517ms/step - loss: 0.4926 - accuracy: 0.7539 - val_loss: 0.4146 - val_accuracy: 0.8224\n",
      "Epoch 3/30\n",
      "166/166 [==============================] - 86s 519ms/step - loss: 0.3311 - accuracy: 0.8605 - val_loss: 0.2989 - val_accuracy: 0.8731\n",
      "Epoch 4/30\n",
      "166/166 [==============================] - 55s 329ms/step - loss: 0.2549 - accuracy: 0.8936 - val_loss: 0.2840 - val_accuracy: 0.8900\n"
     ]
    },
    {
     "data": {
      "text/plain": [
       "<keras.callbacks.History at 0x7f650bc3c850>"
      ]
     },
     "execution_count": 36,
     "metadata": {},
     "output_type": "execute_result"
    }
   ],
   "source": [
    "# classifier.fit(train_data, epochs=30, validation_data=validation_data,verbose=1,batch_size=64,steps_per_epoch=166)"
   ]
  },
  {
   "cell_type": "code",
   "execution_count": 10,
   "metadata": {
    "execution": {
     "iopub.execute_input": "2023-02-01T04:10:53.409147Z",
     "iopub.status.busy": "2023-02-01T04:10:53.408307Z",
     "iopub.status.idle": "2023-02-01T04:10:53.416358Z",
     "shell.execute_reply": "2023-02-01T04:10:53.414919Z",
     "shell.execute_reply.started": "2023-02-01T04:10:53.409109Z"
    }
   },
   "outputs": [
    {
     "ename": "SyntaxError",
     "evalue": "invalid syntax (3460627099.py, line 5)",
     "output_type": "error",
     "traceback": [
      "\u001b[0;36m  File \u001b[0;32m\"/tmp/ipykernel_23/3460627099.py\"\u001b[0;36m, line \u001b[0;32m5\u001b[0m\n\u001b[0;31m    \"steps_per_epoch\":[2128,1064,425,266]\u001b[0m\n\u001b[0m                    ^\u001b[0m\n\u001b[0;31mSyntaxError\u001b[0m\u001b[0;31m:\u001b[0m invalid syntax\n"
     ]
    }
   ],
   "source": [
    "param_grid = {\n",
    "    \"per_gpu_batch_size\": [16, 32,64],\n",
    "    \"learning_rate\": [5e-6, 1e-5, 5e-5],\n",
    "    \"num_epochs\": [5, 10, 25,40]\n",
    "    \"steps_per_epoch\":[2128,1064,425,266]\n",
    "}"
   ]
  },
  {
   "cell_type": "code",
   "execution_count": 11,
   "metadata": {
    "execution": {
     "iopub.execute_input": "2023-02-01T04:10:53.429919Z",
     "iopub.status.busy": "2023-02-01T04:10:53.428966Z",
     "iopub.status.idle": "2023-02-01T04:10:54.312007Z",
     "shell.execute_reply": "2023-02-01T04:10:54.310913Z",
     "shell.execute_reply.started": "2023-02-01T04:10:53.429882Z"
    }
   },
   "outputs": [],
   "source": [
    "from sklearn import model_selection"
   ]
  },
  {
   "cell_type": "code",
   "execution_count": 12,
   "metadata": {
    "execution": {
     "iopub.execute_input": "2023-02-01T04:10:54.314635Z",
     "iopub.status.busy": "2023-02-01T04:10:54.314086Z",
     "iopub.status.idle": "2023-02-01T04:10:54.384637Z",
     "shell.execute_reply": "2023-02-01T04:10:54.381786Z",
     "shell.execute_reply.started": "2023-02-01T04:10:54.314599Z"
    }
   },
   "outputs": [
    {
     "ename": "NameError",
     "evalue": "name 'classifier' is not defined",
     "output_type": "error",
     "traceback": [
      "\u001b[0;31m---------------------------------------------------------------------------\u001b[0m",
      "\u001b[0;31mNameError\u001b[0m                                 Traceback (most recent call last)",
      "\u001b[0;32m/tmp/ipykernel_23/2812944901.py\u001b[0m in \u001b[0;36m<module>\u001b[0;34m\u001b[0m\n\u001b[1;32m      1\u001b[0m model = model_selection.GridSearchCV(\n\u001b[0;32m----> 2\u001b[0;31m     \u001b[0mestimator\u001b[0m\u001b[0;34m=\u001b[0m\u001b[0mclassifier\u001b[0m\u001b[0;34m,\u001b[0m\u001b[0;34m\u001b[0m\u001b[0;34m\u001b[0m\u001b[0m\n\u001b[0m\u001b[1;32m      3\u001b[0m     \u001b[0mparam_grid\u001b[0m\u001b[0;34m=\u001b[0m\u001b[0mparam_grid\u001b[0m\u001b[0;34m,\u001b[0m\u001b[0;34m\u001b[0m\u001b[0;34m\u001b[0m\u001b[0m\n\u001b[1;32m      4\u001b[0m     \u001b[0mscoring\u001b[0m\u001b[0;34m=\u001b[0m\u001b[0;34m\"accuracy\"\u001b[0m\u001b[0;34m,\u001b[0m\u001b[0;34m\u001b[0m\u001b[0;34m\u001b[0m\u001b[0m\n\u001b[1;32m      5\u001b[0m     \u001b[0mverbose\u001b[0m\u001b[0;34m=\u001b[0m\u001b[0;36m1\u001b[0m\u001b[0;34m,\u001b[0m\u001b[0;34m\u001b[0m\u001b[0;34m\u001b[0m\u001b[0m\n",
      "\u001b[0;31mNameError\u001b[0m: name 'classifier' is not defined"
     ]
    }
   ],
   "source": [
    "model = model_selection.GridSearchCV(\n",
    "    estimator=classifier,\n",
    "    param_grid=param_grid,\n",
    "    scoring=\"accuracy\",\n",
    "    verbose=1,\n",
    "    n_jobs=2,\n",
    "    cv=5\n",
    ")"
   ]
  },
  {
   "cell_type": "code",
   "execution_count": null,
   "metadata": {
    "execution": {
     "iopub.status.busy": "2023-02-01T04:10:54.385947Z",
     "iopub.status.idle": "2023-02-01T04:10:54.386680Z",
     "shell.execute_reply": "2023-02-01T04:10:54.386434Z",
     "shell.execute_reply.started": "2023-02-01T04:10:54.386408Z"
    }
   },
   "outputs": [],
   "source": [
    "model.fit(train_data)"
   ]
  },
  {
   "cell_type": "code",
   "execution_count": null,
   "metadata": {},
   "outputs": [],
   "source": []
  },
  {
   "cell_type": "code",
   "execution_count": null,
   "metadata": {},
   "outputs": [],
   "source": []
  },
  {
   "cell_type": "code",
   "execution_count": null,
   "metadata": {},
   "outputs": [],
   "source": []
  },
  {
   "cell_type": "code",
   "execution_count": null,
   "metadata": {},
   "outputs": [],
   "source": []
  },
  {
   "cell_type": "code",
   "execution_count": null,
   "metadata": {},
   "outputs": [],
   "source": []
  },
  {
   "cell_type": "code",
   "execution_count": null,
   "metadata": {},
   "outputs": [],
   "source": []
  },
  {
   "cell_type": "code",
   "execution_count": null,
   "metadata": {},
   "outputs": [],
   "source": []
  },
  {
   "cell_type": "code",
   "execution_count": null,
   "metadata": {},
   "outputs": [],
   "source": []
  },
  {
   "cell_type": "code",
   "execution_count": null,
   "metadata": {},
   "outputs": [],
   "source": []
  },
  {
   "cell_type": "code",
   "execution_count": null,
   "metadata": {},
   "outputs": [],
   "source": []
  },
  {
   "cell_type": "code",
   "execution_count": null,
   "metadata": {},
   "outputs": [],
   "source": []
  },
  {
   "cell_type": "code",
   "execution_count": null,
   "metadata": {},
   "outputs": [],
   "source": []
  },
  {
   "cell_type": "code",
   "execution_count": null,
   "metadata": {},
   "outputs": [],
   "source": []
  },
  {
   "cell_type": "code",
   "execution_count": null,
   "metadata": {},
   "outputs": [],
   "source": []
  },
  {
   "cell_type": "code",
   "execution_count": null,
   "metadata": {},
   "outputs": [],
   "source": []
  },
  {
   "cell_type": "code",
   "execution_count": null,
   "metadata": {},
   "outputs": [],
   "source": []
  },
  {
   "cell_type": "code",
   "execution_count": null,
   "metadata": {},
   "outputs": [],
   "source": []
  },
  {
   "cell_type": "code",
   "execution_count": null,
   "metadata": {},
   "outputs": [],
   "source": []
  },
  {
   "cell_type": "code",
   "execution_count": null,
   "metadata": {},
   "outputs": [],
   "source": []
  },
  {
   "cell_type": "code",
   "execution_count": null,
   "metadata": {},
   "outputs": [],
   "source": []
  },
  {
   "cell_type": "code",
   "execution_count": null,
   "metadata": {},
   "outputs": [],
   "source": []
  },
  {
   "cell_type": "code",
   "execution_count": null,
   "metadata": {},
   "outputs": [],
   "source": []
  }
 ],
 "metadata": {
  "kernelspec": {
   "display_name": "Python 3 (ipykernel)",
   "language": "python",
   "name": "python3"
  },
  "language_info": {
   "codemirror_mode": {
    "name": "ipython",
    "version": 3
   },
   "file_extension": ".py",
   "mimetype": "text/x-python",
   "name": "python",
   "nbconvert_exporter": "python",
   "pygments_lexer": "ipython3",
   "version": "3.9.12"
  }
 },
 "nbformat": 4,
 "nbformat_minor": 4
}
