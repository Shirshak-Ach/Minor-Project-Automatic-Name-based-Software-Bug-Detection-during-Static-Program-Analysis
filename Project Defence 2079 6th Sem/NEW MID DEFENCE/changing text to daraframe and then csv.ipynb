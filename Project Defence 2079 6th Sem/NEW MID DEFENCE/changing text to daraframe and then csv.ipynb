{
 "cells": [
  {
   "cell_type": "code",
   "execution_count": 73,
   "id": "dae061ca",
   "metadata": {},
   "outputs": [],
   "source": [
    "import pandas as pd\n",
    "import re"
   ]
  },
  {
   "cell_type": "code",
   "execution_count": 74,
   "id": "dbe1f72c",
   "metadata": {},
   "outputs": [],
   "source": [
    "# with open(\"my_sample.txt\",'rb') as file:\n",
    "#     contents = file.read()\n",
    "df = pd.read_csv(\"my_sample.txt\")"
   ]
  },
  {
   "cell_type": "code",
   "execution_count": 75,
   "id": "c14620a8",
   "metadata": {},
   "outputs": [],
   "source": [
    "df.columns = [\"called_function\",\"argument_1\",\"argument_2\",\"type_of_argument\",\"formal_parameter_1\",\"formal_parameter_2\",\"label\"]"
   ]
  },
  {
   "cell_type": "code",
   "execution_count": 76,
   "id": "2bc9e1ee",
   "metadata": {},
   "outputs": [
    {
     "data": {
      "text/plain": [
       "called_function        0\n",
       "argument_1             3\n",
       "argument_2             3\n",
       "type_of_argument       0\n",
       "formal_parameter_1    20\n",
       "formal_parameter_2    20\n",
       "label                  0\n",
       "dtype: int64"
      ]
     },
     "execution_count": 76,
     "metadata": {},
     "output_type": "execute_result"
    }
   ],
   "source": [
    "df.isna().sum()"
   ]
  },
  {
   "cell_type": "code",
   "execution_count": 77,
   "id": "99368509",
   "metadata": {},
   "outputs": [],
   "source": [
    "df['argument_1']=df['argument_1'].fillna('unknown')\n",
    "df['argument_2']=df['argument_2'].fillna('unknown')\n",
    "df['type_of_argument']=df['type_of_argument'].fillna('unknown')\n",
    "df['formal_parameter_1']=df['formal_parameter_1'].fillna('unknown')\n",
    "df['formal_parameter_2']=df['formal_parameter_2'].fillna('unknown')"
   ]
  },
  {
   "cell_type": "code",
   "execution_count": 79,
   "id": "c154ad39",
   "metadata": {},
   "outputs": [
    {
     "data": {
      "text/html": [
       "<div>\n",
       "<style scoped>\n",
       "    .dataframe tbody tr th:only-of-type {\n",
       "        vertical-align: middle;\n",
       "    }\n",
       "\n",
       "    .dataframe tbody tr th {\n",
       "        vertical-align: top;\n",
       "    }\n",
       "\n",
       "    .dataframe thead th {\n",
       "        text-align: right;\n",
       "    }\n",
       "</style>\n",
       "<table border=\"1\" class=\"dataframe\">\n",
       "  <thead>\n",
       "    <tr style=\"text-align: right;\">\n",
       "      <th></th>\n",
       "      <th>called_function</th>\n",
       "      <th>argument_1</th>\n",
       "      <th>argument_2</th>\n",
       "      <th>type_of_argument</th>\n",
       "      <th>formal_parameter_1</th>\n",
       "      <th>formal_parameter_2</th>\n",
       "      <th>label</th>\n",
       "      <th>total</th>\n",
       "    </tr>\n",
       "  </thead>\n",
       "  <tbody>\n",
       "    <tr>\n",
       "      <th>0</th>\n",
       "      <td>calloc</td>\n",
       "      <td>len</td>\n",
       "      <td>sizeof</td>\n",
       "      <td>void *</td>\n",
       "      <td>unknown</td>\n",
       "      <td>unknown</td>\n",
       "      <td>1</td>\n",
       "      <td>calloc</td>\n",
       "    </tr>\n",
       "    <tr>\n",
       "      <th>1</th>\n",
       "      <td>calloc</td>\n",
       "      <td>sizeof</td>\n",
       "      <td>len</td>\n",
       "      <td>void *</td>\n",
       "      <td>unknown</td>\n",
       "      <td>unknown</td>\n",
       "      <td>0</td>\n",
       "      <td>calloc</td>\n",
       "    </tr>\n",
       "    <tr>\n",
       "      <th>2</th>\n",
       "      <td>calloc</td>\n",
       "      <td>len</td>\n",
       "      <td>sizeof</td>\n",
       "      <td>void *</td>\n",
       "      <td>unknown</td>\n",
       "      <td>unknown</td>\n",
       "      <td>1</td>\n",
       "      <td>calloc</td>\n",
       "    </tr>\n",
       "    <tr>\n",
       "      <th>3</th>\n",
       "      <td>_difftime64</td>\n",
       "      <td>_Time1</td>\n",
       "      <td>_Time2</td>\n",
       "      <td>double</td>\n",
       "      <td>_Time1</td>\n",
       "      <td>_Time2</td>\n",
       "      <td>0</td>\n",
       "      <td>_difftime64</td>\n",
       "    </tr>\n",
       "    <tr>\n",
       "      <th>4</th>\n",
       "      <td>_difftime64</td>\n",
       "      <td>_Time2</td>\n",
       "      <td>_Time1</td>\n",
       "      <td>double</td>\n",
       "      <td>_Time1</td>\n",
       "      <td>_Time2</td>\n",
       "      <td>1</td>\n",
       "      <td>_difftime64</td>\n",
       "    </tr>\n",
       "    <tr>\n",
       "      <th>...</th>\n",
       "      <td>...</td>\n",
       "      <td>...</td>\n",
       "      <td>...</td>\n",
       "      <td>...</td>\n",
       "      <td>...</td>\n",
       "      <td>...</td>\n",
       "      <td>...</td>\n",
       "      <td>...</td>\n",
       "    </tr>\n",
       "    <tr>\n",
       "      <th>217</th>\n",
       "      <td>glVertex2f</td>\n",
       "      <td>xc</td>\n",
       "      <td>yc</td>\n",
       "      <td>int</td>\n",
       "      <td>unknown</td>\n",
       "      <td>unknown</td>\n",
       "      <td>0</td>\n",
       "      <td>glVertex2f</td>\n",
       "    </tr>\n",
       "    <tr>\n",
       "      <th>218</th>\n",
       "      <td>glVertex2f</td>\n",
       "      <td>yc</td>\n",
       "      <td>xc</td>\n",
       "      <td>int</td>\n",
       "      <td>unknown</td>\n",
       "      <td>unknown</td>\n",
       "      <td>1</td>\n",
       "      <td>glVertex2f</td>\n",
       "    </tr>\n",
       "    <tr>\n",
       "      <th>219</th>\n",
       "      <td>glVertex2f</td>\n",
       "      <td>xc</td>\n",
       "      <td>yc</td>\n",
       "      <td>int</td>\n",
       "      <td>unknown</td>\n",
       "      <td>unknown</td>\n",
       "      <td>0</td>\n",
       "      <td>glVertex2f</td>\n",
       "    </tr>\n",
       "    <tr>\n",
       "      <th>220</th>\n",
       "      <td>glVertex2f</td>\n",
       "      <td>yc</td>\n",
       "      <td>xc</td>\n",
       "      <td>int</td>\n",
       "      <td>unknown</td>\n",
       "      <td>unknown</td>\n",
       "      <td>1</td>\n",
       "      <td>glVertex2f</td>\n",
       "    </tr>\n",
       "    <tr>\n",
       "      <th>221</th>\n",
       "      <td>glVertex2f</td>\n",
       "      <td>xc</td>\n",
       "      <td>yc</td>\n",
       "      <td>int</td>\n",
       "      <td>unknown</td>\n",
       "      <td>unknown</td>\n",
       "      <td>0</td>\n",
       "      <td>glVertex2f</td>\n",
       "    </tr>\n",
       "  </tbody>\n",
       "</table>\n",
       "<p>222 rows × 8 columns</p>\n",
       "</div>"
      ],
      "text/plain": [
       "    called_function argument_1 argument_2 type_of_argument formal_parameter_1  \\\n",
       "0            calloc        len     sizeof           void *            unknown   \n",
       "1            calloc     sizeof        len           void *            unknown   \n",
       "2            calloc        len     sizeof           void *            unknown   \n",
       "3       _difftime64     _Time1     _Time2           double             _Time1   \n",
       "4       _difftime64     _Time2     _Time1           double             _Time1   \n",
       "..              ...        ...        ...              ...                ...   \n",
       "217      glVertex2f         xc         yc              int            unknown   \n",
       "218      glVertex2f         yc         xc              int            unknown   \n",
       "219      glVertex2f         xc         yc              int            unknown   \n",
       "220      glVertex2f         yc         xc              int            unknown   \n",
       "221      glVertex2f         xc         yc              int            unknown   \n",
       "\n",
       "    formal_parameter_2  label         total  \n",
       "0              unknown      1       calloc   \n",
       "1              unknown      0       calloc   \n",
       "2              unknown      1       calloc   \n",
       "3               _Time2      0  _difftime64   \n",
       "4               _Time2      1  _difftime64   \n",
       "..                 ...    ...           ...  \n",
       "217            unknown      0   glVertex2f   \n",
       "218            unknown      1   glVertex2f   \n",
       "219            unknown      0   glVertex2f   \n",
       "220            unknown      1   glVertex2f   \n",
       "221            unknown      0   glVertex2f   \n",
       "\n",
       "[222 rows x 8 columns]"
      ]
     },
     "execution_count": 79,
     "metadata": {},
     "output_type": "execute_result"
    }
   ],
   "source": [
    "df"
   ]
  },
  {
   "cell_type": "code",
   "execution_count": 82,
   "id": "76bcdae6",
   "metadata": {},
   "outputs": [
    {
     "data": {
      "text/plain": [
       "0      calloc<SEP>len<SEP>void *<SEP>unknown<SEP>unknown\n",
       "1      calloc<SEP>sizeof<SEP>void *<SEP>unknown<SEP>u...\n",
       "2      calloc<SEP>len<SEP>void *<SEP>unknown<SEP>unknown\n",
       "3      _difftime64<SEP>_Time1<SEP>double<SEP>_Time1<S...\n",
       "4      _difftime64<SEP>_Time2<SEP>double<SEP>_Time1<S...\n",
       "                             ...                        \n",
       "217    glVertex2f<SEP>xc<SEP>int<SEP>unknown<SEP>unknown\n",
       "218    glVertex2f<SEP>yc<SEP>int<SEP>unknown<SEP>unknown\n",
       "219    glVertex2f<SEP>xc<SEP>int<SEP>unknown<SEP>unknown\n",
       "220    glVertex2f<SEP>yc<SEP>int<SEP>unknown<SEP>unknown\n",
       "221    glVertex2f<SEP>xc<SEP>int<SEP>unknown<SEP>unknown\n",
       "Name: total, Length: 222, dtype: object"
      ]
     },
     "execution_count": 82,
     "metadata": {},
     "output_type": "execute_result"
    }
   ],
   "source": [
    "df['total'] = df['called_function'] + '<SEP>'+ df['argument_1'] + '<SEP>'+df['type_of_argument'] + '<SEP>'+ df['formal_parameter_1'] + '<SEP>'+df['formal_parameter_2']\n",
    "df['total']"
   ]
  },
  {
   "cell_type": "code",
   "execution_count": 86,
   "id": "34f15452",
   "metadata": {},
   "outputs": [],
   "source": [
    "df.drop(['called_function','argument_1','argument_2','type_of_argument','formal_parameter_1','formal_parameter_2'],axis=1,inplace=True)"
   ]
  },
  {
   "cell_type": "code",
   "execution_count": 88,
   "id": "0c4eea16",
   "metadata": {},
   "outputs": [
    {
     "name": "stderr",
     "output_type": "stream",
     "text": [
      "C:\\Users\\Hp\\anaconda3\\lib\\site-packages\\tqdm\\auto.py:22: TqdmWarning: IProgress not found. Please update jupyter and ipywidgets. See https://ipywidgets.readthedocs.io/en/stable/user_install.html\n",
      "  from .autonotebook import tqdm as notebook_tqdm\n"
     ]
    }
   ],
   "source": [
    "from transformers import BertTokenizer, TFBertForSequenceClassification\n",
    "from transformers import InputExample, InputFeatures\n",
    "import tensorflow as tf"
   ]
  },
  {
   "cell_type": "code",
   "execution_count": 89,
   "id": "9d5e326c",
   "metadata": {},
   "outputs": [
    {
     "name": "stderr",
     "output_type": "stream",
     "text": [
      "All model checkpoint layers were used when initializing TFBertForSequenceClassification.\n",
      "\n",
      "Some layers of TFBertForSequenceClassification were not initialized from the model checkpoint at bert-base-uncased and are newly initialized: ['classifier']\n",
      "You should probably TRAIN this model on a down-stream task to be able to use it for predictions and inference.\n"
     ]
    }
   ],
   "source": [
    "model = TFBertForSequenceClassification.from_pretrained(\"bert-base-uncased\")"
   ]
  },
  {
   "cell_type": "code",
   "execution_count": 90,
   "id": "778d3b25",
   "metadata": {},
   "outputs": [],
   "source": [
    "tokenizer = BertTokenizer.from_pretrained(\"bert-base-uncased\")"
   ]
  },
  {
   "cell_type": "code",
   "execution_count": 91,
   "id": "e680982a",
   "metadata": {},
   "outputs": [
    {
     "name": "stdout",
     "output_type": "stream",
     "text": [
      "Model: \"tf_bert_for_sequence_classification\"\n",
      "_________________________________________________________________\n",
      " Layer (type)                Output Shape              Param #   \n",
      "=================================================================\n",
      " bert (TFBertMainLayer)      multiple                  109482240 \n",
      "                                                                 \n",
      " dropout_37 (Dropout)        multiple                  0         \n",
      "                                                                 \n",
      " classifier (Dense)          multiple                  1538      \n",
      "                                                                 \n",
      "=================================================================\n",
      "Total params: 109,483,778\n",
      "Trainable params: 109,483,778\n",
      "Non-trainable params: 0\n",
      "_________________________________________________________________\n"
     ]
    }
   ],
   "source": [
    "model.summary()"
   ]
  },
  {
   "cell_type": "code",
   "execution_count": 96,
   "id": "e778fe18",
   "metadata": {},
   "outputs": [
    {
     "data": {
      "text/html": [
       "<div>\n",
       "<style scoped>\n",
       "    .dataframe tbody tr th:only-of-type {\n",
       "        vertical-align: middle;\n",
       "    }\n",
       "\n",
       "    .dataframe tbody tr th {\n",
       "        vertical-align: top;\n",
       "    }\n",
       "\n",
       "    .dataframe thead th {\n",
       "        text-align: right;\n",
       "    }\n",
       "</style>\n",
       "<table border=\"1\" class=\"dataframe\">\n",
       "  <thead>\n",
       "    <tr style=\"text-align: right;\">\n",
       "      <th></th>\n",
       "      <th>label</th>\n",
       "      <th>total</th>\n",
       "    </tr>\n",
       "  </thead>\n",
       "  <tbody>\n",
       "    <tr>\n",
       "      <th>0</th>\n",
       "      <td>1</td>\n",
       "      <td>strcmp&lt;SEP&gt;-t&lt;SEP&gt;int&lt;SEP&gt;_Str1&lt;SEP&gt;_Str2</td>\n",
       "    </tr>\n",
       "    <tr>\n",
       "      <th>1</th>\n",
       "      <td>0</td>\n",
       "      <td>listen&lt;SEP&gt;fd&lt;SEP&gt;int&lt;SEP&gt;unknown&lt;SEP&gt;unknown</td>\n",
       "    </tr>\n",
       "    <tr>\n",
       "      <th>2</th>\n",
       "      <td>0</td>\n",
       "      <td>fopen&lt;SEP&gt;filename&lt;SEP&gt;FILE *&lt;SEP&gt;_FileName&lt;SE...</td>\n",
       "    </tr>\n",
       "    <tr>\n",
       "      <th>3</th>\n",
       "      <td>1</td>\n",
       "      <td>strcmp&lt;SEP&gt;-n&lt;SEP&gt;int&lt;SEP&gt;_Str1&lt;SEP&gt;_Str2</td>\n",
       "    </tr>\n",
       "    <tr>\n",
       "      <th>4</th>\n",
       "      <td>0</td>\n",
       "      <td>strcmp&lt;SEP&gt;argv&lt;SEP&gt;int&lt;SEP&gt;_Str1&lt;SEP&gt;_Str2</td>\n",
       "    </tr>\n",
       "    <tr>\n",
       "      <th>...</th>\n",
       "      <td>...</td>\n",
       "      <td>...</td>\n",
       "    </tr>\n",
       "    <tr>\n",
       "      <th>217</th>\n",
       "      <td>0</td>\n",
       "      <td>strcmp&lt;SEP&gt;argv&lt;SEP&gt;int&lt;SEP&gt;_Str1&lt;SEP&gt;_Str2</td>\n",
       "    </tr>\n",
       "    <tr>\n",
       "      <th>218</th>\n",
       "      <td>0</td>\n",
       "      <td>strcmp&lt;SEP&gt;argv&lt;SEP&gt;int&lt;SEP&gt;_Str1&lt;SEP&gt;_Str2</td>\n",
       "    </tr>\n",
       "    <tr>\n",
       "      <th>219</th>\n",
       "      <td>0</td>\n",
       "      <td>strcmp&lt;SEP&gt;argv&lt;SEP&gt;int&lt;SEP&gt;_Str1&lt;SEP&gt;_Str2</td>\n",
       "    </tr>\n",
       "    <tr>\n",
       "      <th>220</th>\n",
       "      <td>1</td>\n",
       "      <td>exponent&lt;SEP&gt;power&lt;SEP&gt;int&lt;SEP&gt;base&lt;SEP&gt;power</td>\n",
       "    </tr>\n",
       "    <tr>\n",
       "      <th>221</th>\n",
       "      <td>0</td>\n",
       "      <td>strcmp&lt;SEP&gt;argv&lt;SEP&gt;int&lt;SEP&gt;_Str1&lt;SEP&gt;_Str2</td>\n",
       "    </tr>\n",
       "  </tbody>\n",
       "</table>\n",
       "<p>222 rows × 2 columns</p>\n",
       "</div>"
      ],
      "text/plain": [
       "     label                                              total\n",
       "0        1          strcmp<SEP>-t<SEP>int<SEP>_Str1<SEP>_Str2\n",
       "1        0      listen<SEP>fd<SEP>int<SEP>unknown<SEP>unknown\n",
       "2        0  fopen<SEP>filename<SEP>FILE *<SEP>_FileName<SE...\n",
       "3        1          strcmp<SEP>-n<SEP>int<SEP>_Str1<SEP>_Str2\n",
       "4        0        strcmp<SEP>argv<SEP>int<SEP>_Str1<SEP>_Str2\n",
       "..     ...                                                ...\n",
       "217      0        strcmp<SEP>argv<SEP>int<SEP>_Str1<SEP>_Str2\n",
       "218      0        strcmp<SEP>argv<SEP>int<SEP>_Str1<SEP>_Str2\n",
       "219      0        strcmp<SEP>argv<SEP>int<SEP>_Str1<SEP>_Str2\n",
       "220      1      exponent<SEP>power<SEP>int<SEP>base<SEP>power\n",
       "221      0        strcmp<SEP>argv<SEP>int<SEP>_Str1<SEP>_Str2\n",
       "\n",
       "[222 rows x 2 columns]"
      ]
     },
     "execution_count": 96,
     "metadata": {},
     "output_type": "execute_result"
    }
   ],
   "source": [
    "df = df.sample(frac = 1) # shuffling the dataset\n",
    "df.reset_index(drop=True,inplace=True)\n",
    "df"
   ]
  },
  {
   "cell_type": "code",
   "execution_count": 105,
   "id": "86ecbb06",
   "metadata": {},
   "outputs": [],
   "source": [
    "m = len(df)\n",
    "sample = int(m/10)"
   ]
  },
  {
   "cell_type": "code",
   "execution_count": 106,
   "id": "0ffe1078",
   "metadata": {},
   "outputs": [],
   "source": [
    "train_df = df[sample:]\n",
    "test_df = df[:sample]"
   ]
  },
  {
   "cell_type": "code",
   "execution_count": 107,
   "id": "d3d04c02",
   "metadata": {},
   "outputs": [
    {
     "data": {
      "text/html": [
       "<div>\n",
       "<style scoped>\n",
       "    .dataframe tbody tr th:only-of-type {\n",
       "        vertical-align: middle;\n",
       "    }\n",
       "\n",
       "    .dataframe tbody tr th {\n",
       "        vertical-align: top;\n",
       "    }\n",
       "\n",
       "    .dataframe thead th {\n",
       "        text-align: right;\n",
       "    }\n",
       "</style>\n",
       "<table border=\"1\" class=\"dataframe\">\n",
       "  <thead>\n",
       "    <tr style=\"text-align: right;\">\n",
       "      <th></th>\n",
       "      <th>label</th>\n",
       "      <th>total</th>\n",
       "    </tr>\n",
       "  </thead>\n",
       "  <tbody>\n",
       "    <tr>\n",
       "      <th>22</th>\n",
       "      <td>0</td>\n",
       "      <td>strcmp&lt;SEP&gt;argv&lt;SEP&gt;int&lt;SEP&gt;_Str1&lt;SEP&gt;_Str2</td>\n",
       "    </tr>\n",
       "    <tr>\n",
       "      <th>23</th>\n",
       "      <td>0</td>\n",
       "      <td>strcmp&lt;SEP&gt;argv&lt;SEP&gt;int&lt;SEP&gt;_Str1&lt;SEP&gt;_Str2</td>\n",
       "    </tr>\n",
       "    <tr>\n",
       "      <th>24</th>\n",
       "      <td>1</td>\n",
       "      <td>exponent&lt;SEP&gt;power&lt;SEP&gt;int&lt;SEP&gt;unknown&lt;SEP&gt;unk...</td>\n",
       "    </tr>\n",
       "    <tr>\n",
       "      <th>25</th>\n",
       "      <td>0</td>\n",
       "      <td>strcmp&lt;SEP&gt;argv&lt;SEP&gt;int&lt;SEP&gt;_Str1&lt;SEP&gt;_Str2</td>\n",
       "    </tr>\n",
       "    <tr>\n",
       "      <th>26</th>\n",
       "      <td>1</td>\n",
       "      <td>strcmp&lt;SEP&gt;-p&lt;SEP&gt;int&lt;SEP&gt;_Str1&lt;SEP&gt;_Str2</td>\n",
       "    </tr>\n",
       "    <tr>\n",
       "      <th>...</th>\n",
       "      <td>...</td>\n",
       "      <td>...</td>\n",
       "    </tr>\n",
       "    <tr>\n",
       "      <th>217</th>\n",
       "      <td>0</td>\n",
       "      <td>strcmp&lt;SEP&gt;argv&lt;SEP&gt;int&lt;SEP&gt;_Str1&lt;SEP&gt;_Str2</td>\n",
       "    </tr>\n",
       "    <tr>\n",
       "      <th>218</th>\n",
       "      <td>0</td>\n",
       "      <td>strcmp&lt;SEP&gt;argv&lt;SEP&gt;int&lt;SEP&gt;_Str1&lt;SEP&gt;_Str2</td>\n",
       "    </tr>\n",
       "    <tr>\n",
       "      <th>219</th>\n",
       "      <td>0</td>\n",
       "      <td>strcmp&lt;SEP&gt;argv&lt;SEP&gt;int&lt;SEP&gt;_Str1&lt;SEP&gt;_Str2</td>\n",
       "    </tr>\n",
       "    <tr>\n",
       "      <th>220</th>\n",
       "      <td>1</td>\n",
       "      <td>exponent&lt;SEP&gt;power&lt;SEP&gt;int&lt;SEP&gt;base&lt;SEP&gt;power</td>\n",
       "    </tr>\n",
       "    <tr>\n",
       "      <th>221</th>\n",
       "      <td>0</td>\n",
       "      <td>strcmp&lt;SEP&gt;argv&lt;SEP&gt;int&lt;SEP&gt;_Str1&lt;SEP&gt;_Str2</td>\n",
       "    </tr>\n",
       "  </tbody>\n",
       "</table>\n",
       "<p>200 rows × 2 columns</p>\n",
       "</div>"
      ],
      "text/plain": [
       "     label                                              total\n",
       "22       0        strcmp<SEP>argv<SEP>int<SEP>_Str1<SEP>_Str2\n",
       "23       0        strcmp<SEP>argv<SEP>int<SEP>_Str1<SEP>_Str2\n",
       "24       1  exponent<SEP>power<SEP>int<SEP>unknown<SEP>unk...\n",
       "25       0        strcmp<SEP>argv<SEP>int<SEP>_Str1<SEP>_Str2\n",
       "26       1          strcmp<SEP>-p<SEP>int<SEP>_Str1<SEP>_Str2\n",
       "..     ...                                                ...\n",
       "217      0        strcmp<SEP>argv<SEP>int<SEP>_Str1<SEP>_Str2\n",
       "218      0        strcmp<SEP>argv<SEP>int<SEP>_Str1<SEP>_Str2\n",
       "219      0        strcmp<SEP>argv<SEP>int<SEP>_Str1<SEP>_Str2\n",
       "220      1      exponent<SEP>power<SEP>int<SEP>base<SEP>power\n",
       "221      0        strcmp<SEP>argv<SEP>int<SEP>_Str1<SEP>_Str2\n",
       "\n",
       "[200 rows x 2 columns]"
      ]
     },
     "execution_count": 107,
     "metadata": {},
     "output_type": "execute_result"
    }
   ],
   "source": [
    "train_df"
   ]
  },
  {
   "cell_type": "code",
   "execution_count": 108,
   "id": "858395ba",
   "metadata": {},
   "outputs": [],
   "source": [
    "def convert_data_to_examples(train, test, code_snippet, label_of_code_snippet): \n",
    "  train_InputExamples = train.apply(lambda x: InputExample(guid=None, # Globally unique ID for bookkeeping, unused in this case\n",
    "                                                          text_a = x[code_snippet], \n",
    "                                                          text_b = None,\n",
    "                                                          label = x[label_of_code_snippet]), axis = 1)\n",
    "\n",
    "  validation_InputExamples = test.apply(lambda x: InputExample(guid=None, # Globally unique ID for bookkeeping, unused in this case\n",
    "                                                          text_a = x[code_snippet], \n",
    "                                                          text_b = None,\n",
    "                                                          label = x[label_of_code_snippet]), axis = 1)\n",
    "  \n",
    "  return train_InputExamples, validation_InputExamples"
   ]
  },
  {
   "cell_type": "code",
   "execution_count": 109,
   "id": "804fe940",
   "metadata": {},
   "outputs": [],
   "source": [
    "train_InputExamples, validation_InputExamples = convert_data_to_examples(train_df, \n",
    "                                                                           test_df, \n",
    "                                                                           'total', \n",
    "                                                                           'label')"
   ]
  },
  {
   "cell_type": "code",
   "execution_count": 110,
   "id": "b52fbdf5",
   "metadata": {},
   "outputs": [],
   "source": [
    "def convert_examples_to_tf_dataset(examples, tokenizer, max_length=128):\n",
    "    features = [] # -> will hold InputFeatures to be converted later\n",
    "\n",
    "    for e in examples:\n",
    "        # Documentation is really strong for this method, so please take a look at it\n",
    "        input_dict = tokenizer.encode_plus(\n",
    "            e.text_a,\n",
    "            add_special_tokens=True,\n",
    "            max_length=max_length, # truncates if len(s) > max_length\n",
    "            return_token_type_ids=True,\n",
    "            return_attention_mask=True,\n",
    "            pad_to_max_length=True, # pads to the right by default # CHECK THIS for pad_to_max_length\n",
    "            truncation=True\n",
    "        )\n",
    "\n",
    "        input_ids, token_type_ids, attention_mask = (input_dict[\"input_ids\"],\n",
    "            input_dict[\"token_type_ids\"], input_dict['attention_mask'])\n",
    "\n",
    "        features.append(\n",
    "            InputFeatures(\n",
    "                input_ids=input_ids, attention_mask=attention_mask, token_type_ids=token_type_ids, label=e.label\n",
    "            )\n",
    "        )\n",
    "\n",
    "    def gen():\n",
    "        for f in features:\n",
    "            yield (\n",
    "                {\n",
    "                    \"input_ids\": f.input_ids,\n",
    "                    \"attention_mask\": f.attention_mask,\n",
    "                    \"token_type_ids\": f.token_type_ids,\n",
    "                },\n",
    "                f.label,\n",
    "            )\n",
    "\n",
    "    return tf.data.Dataset.from_generator(\n",
    "        gen,\n",
    "        ({\"input_ids\": tf.int32, \"attention_mask\": tf.int32, \"token_type_ids\": tf.int32}, tf.int64),\n",
    "        (\n",
    "            {\n",
    "                \"input_ids\": tf.TensorShape([None]),\n",
    "                \"attention_mask\": tf.TensorShape([None]),\n",
    "                \"token_type_ids\": tf.TensorShape([None]),\n",
    "            },\n",
    "            tf.TensorShape([]),\n",
    "        ),\n",
    "    )"
   ]
  },
  {
   "cell_type": "code",
   "execution_count": 111,
   "id": "a8a67584",
   "metadata": {},
   "outputs": [],
   "source": [
    "code_snippet = 'total'\n",
    "label_of_code_snippet = 'label'"
   ]
  },
  {
   "cell_type": "code",
   "execution_count": 113,
   "id": "05a9713e",
   "metadata": {},
   "outputs": [
    {
     "name": "stderr",
     "output_type": "stream",
     "text": [
      "C:\\Users\\Hp\\anaconda3\\lib\\site-packages\\transformers\\tokenization_utils_base.py:2198: FutureWarning: The `pad_to_max_length` argument is deprecated and will be removed in a future version, use `padding=True` or `padding='longest'` to pad to the longest sequence in the batch, or use `padding='max_length'` to pad to a max length. In this case, you can give a specific length with `max_length` (e.g. `max_length=45`) or leave max_length to None to pad to the maximal input size of the model (e.g. 512 for Bert).\n",
      "  warnings.warn(\n"
     ]
    }
   ],
   "source": [
    "train_InputExamples, validation_InputExamples = convert_data_to_examples(train_df, test_df, code_snippet, label_of_code_snippet)\n",
    "\n",
    "train_data = convert_examples_to_tf_dataset(list(train_InputExamples), tokenizer)\n",
    "train_data = train_data.shuffle(100).batch(32).repeat(2)\n",
    "\n",
    "validation_data = convert_examples_to_tf_dataset(list(validation_InputExamples), tokenizer)\n",
    "validation_data = validation_data.batch(32)"
   ]
  },
  {
   "cell_type": "code",
   "execution_count": 114,
   "id": "be6a89a8",
   "metadata": {},
   "outputs": [],
   "source": [
    "model.compile(optimizer=tf.keras.optimizers.Adam(learning_rate=3e-5, epsilon=1e-08, clipnorm=1.0), \n",
    "              loss=tf.keras.losses.SparseCategoricalCrossentropy(from_logits=True), \n",
    "              metrics=[tf.keras.metrics.SparseCategoricalAccuracy('accuracy')])"
   ]
  },
  {
   "cell_type": "code",
   "execution_count": 115,
   "id": "ee399d39",
   "metadata": {},
   "outputs": [
    {
     "name": "stdout",
     "output_type": "stream",
     "text": [
      "Epoch 1/2\n",
      "WARNING:tensorflow:The parameters `output_attentions`, `output_hidden_states` and `use_cache` cannot be updated when calling a model.They have to be set to True/False in the config object (i.e.: `config=XConfig.from_pretrained('name', output_attentions=True)`).\n",
      "WARNING:tensorflow:AutoGraph could not transform <bound method Socket.send of <zmq.Socket(zmq.PUSH) at 0x231eba9eac0>> and will run it as-is.\n",
      "Please report this to the TensorFlow team. When filing the bug, set the verbosity to 10 (on Linux, `export AUTOGRAPH_VERBOSITY=10`) and attach the full output.\n",
      "Cause: module, class, method, function, traceback, frame, or code object was expected, got cython_function_or_method\n",
      "To silence this warning, decorate the function with @tf.autograph.experimental.do_not_convert\n",
      "WARNING: AutoGraph could not transform <bound method Socket.send of <zmq.Socket(zmq.PUSH) at 0x231eba9eac0>> and will run it as-is.\n",
      "Please report this to the TensorFlow team. When filing the bug, set the verbosity to 10 (on Linux, `export AUTOGRAPH_VERBOSITY=10`) and attach the full output.\n",
      "Cause: module, class, method, function, traceback, frame, or code object was expected, got cython_function_or_method\n",
      "To silence this warning, decorate the function with @tf.autograph.experimental.do_not_convert\n",
      "WARNING:tensorflow:The parameter `return_dict` cannot be set in graph mode and will always be set to `True`.\n",
      "WARNING:tensorflow:The parameters `output_attentions`, `output_hidden_states` and `use_cache` cannot be updated when calling a model.They have to be set to True/False in the config object (i.e.: `config=XConfig.from_pretrained('name', output_attentions=True)`).\n",
      "WARNING:tensorflow:The parameter `return_dict` cannot be set in graph mode and will always be set to `True`.\n"
     ]
    },
    {
     "name": "stderr",
     "output_type": "stream",
     "text": [
      "\n",
      "KeyboardInterrupt\n",
      "\n"
     ]
    }
   ],
   "source": [
    "model.fit(train_data, epochs=2, validation_data=validation_data,verbose=1,batch_size=16,steps_per_epoch=12)"
   ]
  },
  {
   "cell_type": "code",
   "execution_count": null,
   "id": "8bead1c1",
   "metadata": {},
   "outputs": [],
   "source": []
  },
  {
   "cell_type": "code",
   "execution_count": null,
   "id": "06e254ff",
   "metadata": {},
   "outputs": [],
   "source": []
  },
  {
   "cell_type": "code",
   "execution_count": null,
   "id": "8f2ca2af",
   "metadata": {},
   "outputs": [],
   "source": []
  },
  {
   "cell_type": "code",
   "execution_count": null,
   "id": "e4b79c20",
   "metadata": {},
   "outputs": [],
   "source": []
  },
  {
   "cell_type": "code",
   "execution_count": null,
   "id": "cd301944",
   "metadata": {},
   "outputs": [],
   "source": []
  },
  {
   "cell_type": "code",
   "execution_count": null,
   "id": "49f6abaa",
   "metadata": {},
   "outputs": [],
   "source": []
  },
  {
   "cell_type": "code",
   "execution_count": null,
   "id": "3af5bca8",
   "metadata": {},
   "outputs": [],
   "source": []
  },
  {
   "cell_type": "code",
   "execution_count": null,
   "id": "6e29f219",
   "metadata": {},
   "outputs": [],
   "source": []
  },
  {
   "cell_type": "code",
   "execution_count": null,
   "id": "c8a73385",
   "metadata": {},
   "outputs": [],
   "source": []
  },
  {
   "cell_type": "code",
   "execution_count": null,
   "id": "5d65cb89",
   "metadata": {},
   "outputs": [],
   "source": []
  },
  {
   "cell_type": "code",
   "execution_count": null,
   "id": "9f2271ea",
   "metadata": {},
   "outputs": [],
   "source": []
  },
  {
   "cell_type": "code",
   "execution_count": null,
   "id": "3a17cd27",
   "metadata": {},
   "outputs": [],
   "source": []
  },
  {
   "cell_type": "code",
   "execution_count": null,
   "id": "2e3b7184",
   "metadata": {},
   "outputs": [],
   "source": []
  },
  {
   "cell_type": "code",
   "execution_count": null,
   "id": "00d5fb3b",
   "metadata": {},
   "outputs": [],
   "source": [
    "df.to_csv('my_file.csv', index=None)"
   ]
  },
  {
   "cell_type": "code",
   "execution_count": null,
   "id": "30c02c19",
   "metadata": {},
   "outputs": [],
   "source": []
  },
  {
   "cell_type": "code",
   "execution_count": null,
   "id": "95f934ab",
   "metadata": {},
   "outputs": [],
   "source": []
  },
  {
   "cell_type": "code",
   "execution_count": null,
   "id": "a5aa9bd1",
   "metadata": {},
   "outputs": [],
   "source": []
  },
  {
   "cell_type": "code",
   "execution_count": null,
   "id": "8be6d45b",
   "metadata": {},
   "outputs": [],
   "source": []
  }
 ],
 "metadata": {
  "kernelspec": {
   "display_name": "Python 3 (ipykernel)",
   "language": "python",
   "name": "python3"
  },
  "language_info": {
   "codemirror_mode": {
    "name": "ipython",
    "version": 3
   },
   "file_extension": ".py",
   "mimetype": "text/x-python",
   "name": "python",
   "nbconvert_exporter": "python",
   "pygments_lexer": "ipython3",
   "version": "3.9.12"
  }
 },
 "nbformat": 4,
 "nbformat_minor": 5
}
